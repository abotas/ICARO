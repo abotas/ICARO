{
 "cells": [
  {
   "cell_type": "markdown",
   "metadata": {
    "collapsed": false
   },
   "source": [
    "# peak_functions_test"
   ]
  },
  {
   "cell_type": "markdown",
   "metadata": {
    "collapsed": false
   },
   "source": [
    "This nb documents some of the tests in peak_functions_test module\n",
    "authors: J.J. Gomez-Cadenas\n"
   ]
  },
  {
   "cell_type": "code",
   "execution_count": null,
   "metadata": {
    "collapsed": false
   },
   "outputs": [],
   "source": [
    "import datetime"
   ]
  },
  {
   "cell_type": "code",
   "execution_count": null,
   "metadata": {
    "collapsed": false
   },
   "outputs": [],
   "source": [
    "print(datetime.datetime.now().strftime('%Y-%m-%d %H:%M:%S'))"
   ]
  },
  {
   "cell_type": "code",
   "execution_count": null,
   "metadata": {
    "collapsed": false
   },
   "outputs": [],
   "source": [
    "from __future__ import print_function\n",
    "import sys\n",
    "import os\n",
    "from glob import glob\n",
    "from time import time"
   ]
  },
  {
   "cell_type": "code",
   "execution_count": null,
   "metadata": {
    "collapsed": false
   },
   "outputs": [],
   "source": [
    "%matplotlib inline\n",
    "%load_ext autoreload\n",
    "%autoreload 2\n",
    "import matplotlib.pyplot as plt\n",
    "import pandas as pd\n",
    "import tables as tb\n",
    "import numpy as np\n",
    "import math\n"
   ]
  },
  {
   "cell_type": "code",
   "execution_count": null,
   "metadata": {
    "collapsed": false
   },
   "outputs": [],
   "source": [
    "from invisible_cities.database import load_db\n",
    "from invisible_cities.core.system_of_units_c import SystemOfUnits\n",
    "import invisible_cities.sierpe.blr as blr\n",
    "import invisible_cities.core.mpl_functions as mpl\n",
    "import invisible_cities.core.wfm_functions as wfm\n",
    "import invisible_cities.core.tbl_functions as tbl\n",
    "import invisible_cities.core.peak_functions_c as cpf\n",
    "import invisible_cities.core.peak_functions as pf\n",
    "import invisible_cities.core.pmaps_functions as pmf\n",
    "import invisible_cities.core.sensor_functions as sf"
   ]
  },
  {
   "cell_type": "code",
   "execution_count": null,
   "metadata": {
    "collapsed": false
   },
   "outputs": [],
   "source": [
    "from invisible_cities.core.core_functions import define_window"
   ]
  },
  {
   "cell_type": "code",
   "execution_count": null,
   "metadata": {
    "collapsed": false
   },
   "outputs": [],
   "source": [
    "import invisible_cities.core.core_functions as cf"
   ]
  },
  {
   "cell_type": "code",
   "execution_count": null,
   "metadata": {
    "collapsed": false
   },
   "outputs": [],
   "source": [
    "import numpy.testing as npt"
   ]
  },
  {
   "cell_type": "code",
   "execution_count": null,
   "metadata": {
    "collapsed": false
   },
   "outputs": [],
   "source": [
    "from scipy import signal"
   ]
  },
  {
   "cell_type": "markdown",
   "metadata": {
    "collapsed": false
   },
   "source": [
    "## List of tests"
   ]
  },
  {
   "cell_type": "markdown",
   "metadata": {
    "collapsed": false
   },
   "source": [
    "#### 1. test_csum_zs_blr_cwf()\n",
    "\n",
    "Previous tests have shown that BLR waveforms corrected waveforms (CWF) are identical within tolerance. Therefore the calibrated sum and the zero-supressed sum of the BLR and the CWF must also be equal within tolerance. \n",
    "\n",
    "The test reads a sample file of 40 keV electrons. \n",
    "  "
   ]
  },
  {
   "cell_type": "code",
   "execution_count": null,
   "metadata": {
    "collapsed": false
   },
   "outputs": [],
   "source": [
    "def diff_csum_zs_blr_cwf():\n",
    "    \"\"\"Test that:\n",
    "     1) the calibrated sum (csum) of the BLR and the CWF is the same\n",
    "    within tolerance.\n",
    "     2) csum and zeros-supressed sum (zs) are the same\n",
    "    within tolerance\n",
    "    \"\"\"\n",
    "\n",
    "    RWF_file = (os.environ['ICDIR']\n",
    "               + '/database/test_data/electrons_40keV_z250_RWF.h5')\n",
    "\n",
    "    diff_csum = []\n",
    "    diff_zs = []\n",
    "    with tb.open_file(RWF_file, 'r') as h5rwf:\n",
    "        pmtrwf, pmtblr, sipmrwf = tbl.get_vectors(h5rwf)\n",
    "        DataPMT = load_db.DataPMT()\n",
    "        coeff_c = abs(DataPMT.coeff_c.values)\n",
    "        coeff_blr = abs(DataPMT.coeff_blr.values)\n",
    "        adc_to_pes = abs(DataPMT.adc_to_pes.values)\n",
    "\n",
    "        for event in range(10):\n",
    "            CWF = blr.deconv_pmt(pmtrwf[event], coeff_c, coeff_blr)\n",
    "            csum_cwf = cpf.calibrated_pmt_sum(CWF, adc_to_pes,\n",
    "                                              n_MAU=100, thr_MAU=3)\n",
    "            csum_blr = cpf.calibrated_pmt_sum(pmtblr[event].astype(np.float64),\n",
    "                                              adc_to_pes,\n",
    "                                              n_MAU=100, thr_MAU=3)\n",
    "\n",
    "            diff = csum_cwf - csum_blr\n",
    "            norm = np.sum(csum_blr)\n",
    "            diff_csum.append(np.sum(diff)/norm)\n",
    "           \n",
    "\n",
    "            wfzs_ene, wfzs_indx = cpf.wfzs(csum_cwf, threshold=0.5)\n",
    "            dff = abs(np.sum(csum_cwf) - np.sum(wfzs_ene))\n",
    "            norm = np.sum(csum_cwf)\n",
    "            diff_zs.append(dff/norm)\n",
    "    return diff_csum, diff_zs\n"
   ]
  },
  {
   "cell_type": "code",
   "execution_count": null,
   "metadata": {
    "collapsed": false
   },
   "outputs": [],
   "source": [
    "diff_csum, diff_zs = diff_csum_zs_blr_cwf()"
   ]
  },
  {
   "cell_type": "code",
   "execution_count": null,
   "metadata": {
    "collapsed": false
   },
   "outputs": [],
   "source": [
    "mpl.histo(diff_csum, nbins=10, \n",
    "          title=\"diff csum BLR-CWF\", xlabel=\"abs(e[blr] - e[cwf])\", ylabel=\"Frequency\")"
   ]
  },
  {
   "cell_type": "code",
   "execution_count": null,
   "metadata": {
    "collapsed": false
   },
   "outputs": [],
   "source": [
    "mpl.histo(diff_zs, nbins=10, \n",
    "          title=\"diff zs BLR-CWF\", xlabel=\"abs(e[blr] - e[cwf])\", ylabel=\"Frequency\")"
   ]
  },
  {
   "cell_type": "markdown",
   "metadata": {
    "collapsed": false
   },
   "source": [
    "In **test_csum_zs_blr_cwf()** ($IC/invisible_cities/core/peak_functions_test.py) the values of tolerances for the assert is taken at 0.1. "
   ]
  },
  {
   "cell_type": "markdown",
   "metadata": {
    "collapsed": false
   },
   "source": [
    "#### 2. test_csum_python_cython()\n",
    "\n",
    "This test simply asserts that the calibrated sum is the same for python and cython functions"
   ]
  },
  {
   "cell_type": "markdown",
   "metadata": {
    "collapsed": false
   },
   "source": [
    "### Checks with toy model"
   ]
  },
  {
   "cell_type": "markdown",
   "metadata": {
    "collapsed": false
   },
   "source": [
    "#### A toy signal"
   ]
  },
  {
   "cell_type": "code",
   "execution_count": null,
   "metadata": {
    "collapsed": false
   },
   "outputs": [],
   "source": [
    "def toy_pmt_signal():\n",
    "    \"\"\" Mimick a PMT waveform.\"\"\"\n",
    "    v0 = cf.np_constant(200,1.)\n",
    "    v1 = cf.np_range(1.1,2.1,0.1)\n",
    "    v2 = cf.np_constant(10,2.)\n",
    "    v3 = cf.np_reverse_range(1.1,2.1,0.1)\n",
    "    \n",
    "    v = np.concatenate((v0, v1, v2, v3, v0))\n",
    "    pmt = np.concatenate((v, v, v))\n",
    "    return pmt "
   ]
  },
  {
   "cell_type": "code",
   "execution_count": null,
   "metadata": {
    "collapsed": false
   },
   "outputs": [],
   "source": [
    "v = toy_pmt_signal()"
   ]
  },
  {
   "cell_type": "code",
   "execution_count": null,
   "metadata": {
    "collapsed": false
   },
   "outputs": [],
   "source": [
    "plt.plot(v)"
   ]
  },
  {
   "cell_type": "markdown",
   "metadata": {
    "collapsed": false
   },
   "source": [
    "#### sum of 10 toy (identical) pmts"
   ]
  },
  {
   "cell_type": "code",
   "execution_count": null,
   "metadata": {
    "collapsed": false
   },
   "outputs": [],
   "source": [
    "def toy_pmt_sum(v, npmt = 10):\n",
    "    \"\"\"Return the sum of npmt waveforms\"\"\"\n",
    "    vsum = np.zeros(v.shape[0])\n",
    "    for i in range(npmt):\n",
    "        vsum = np.add(vsum, v)\n",
    "    return vsum"
   ]
  },
  {
   "cell_type": "code",
   "execution_count": null,
   "metadata": {
    "collapsed": false
   },
   "outputs": [],
   "source": [
    "vsum = pmt_sum(v, npmt = 10)"
   ]
  },
  {
   "cell_type": "code",
   "execution_count": null,
   "metadata": {
    "collapsed": false
   },
   "outputs": [],
   "source": [
    "plt.plot(vsum)"
   ]
  },
  {
   "cell_type": "markdown",
   "metadata": {
    "collapsed": false
   },
   "source": [
    "## Calibrated PMT sum"
   ]
  },
  {
   "cell_type": "markdown",
   "metadata": {
    "collapsed": false
   },
   "source": [
    "First, prepare CWF and adc_to_pes vectors needed by csum (set adc_to_pes to 1)"
   ]
  },
  {
   "cell_type": "code",
   "execution_count": null,
   "metadata": {
    "collapsed": false
   },
   "outputs": [],
   "source": [
    "def toy_cwf_and_adc(v, npmt=10):\n",
    "    \"\"\"Return CWF and adc_to_pes for toy example\"\"\"\n",
    "    CWF = []\n",
    "    for i in range(npmt):\n",
    "        CWF.append(v)\n",
    "\n",
    "    adc_to_pes = np.ones(v.shape[0])\n",
    "    return np.array(CWF), adc_to_pes"
   ]
  },
  {
   "cell_type": "code",
   "execution_count": null,
   "metadata": {
    "collapsed": false
   },
   "outputs": [],
   "source": [
    "CWF, adc_to_pes = toy_cwf_and_adc(v, npmt=10)"
   ]
  },
  {
   "cell_type": "code",
   "execution_count": null,
   "metadata": {
    "collapsed": false
   },
   "outputs": [],
   "source": [
    "plt.plot(CWF[9])"
   ]
  },
  {
   "cell_type": "code",
   "execution_count": null,
   "metadata": {
    "collapsed": false
   },
   "outputs": [],
   "source": [
    "NPMT = CWF.shape[0]\n",
    "NWF  = CWF.shape[1]\n",
    "print(NPMT,NWF)"
   ]
  },
  {
   "cell_type": "markdown",
   "metadata": {
    "collapsed": false
   },
   "source": [
    "The function below is idential to the function in module except for the explicit plot of the\n",
    "MAU"
   ]
  },
  {
   "cell_type": "code",
   "execution_count": null,
   "metadata": {
    "collapsed": false
   },
   "outputs": [],
   "source": [
    "def calibrated_pmt_sum(CWF, adc_to_pes, n_MAU=200, thr_MAU=5):\n",
    "    \"\"\"A copy of the calibrated_pmt_sum in peak_functions, but plotting the MAU\"\"\"\n",
    "    NPMT = CWF.shape[0]\n",
    "    NWF  = CWF.shape[1]\n",
    "    MAU = np.array(np.ones(n_MAU), dtype = np.double) * (1 / n_MAU)\n",
    "    print(MAU)\n",
    "    pmt_thr = np.zeros((NPMT, NWF), dtype=np.double)\n",
    "    csum    = np.zeros(       NWF,  dtype=np.double)\n",
    "    MAU_pmt = np.zeros(       NWF,  dtype=np.double)\n",
    "\n",
    "    for j in range(NPMT):\n",
    "        # MAU for each of the PMTs, following the waveform\n",
    "        MAU_pmt = signal.lfilter(MAU, 1, CWF[j,:])\n",
    "        if j == 0:\n",
    "            plt.plot(MAU_pmt)       \n",
    "            plt.plot(CWF[j])\n",
    "            plt.show()\n",
    "        for k in range(NWF):\n",
    "            if CWF[j,k] >= MAU_pmt[k] + thr_MAU:\n",
    "                pmt_thr[j,k] = CWF[j,k]\n",
    "\n",
    "    for j in range(NPMT):\n",
    "        for k in range(NWF):\n",
    "            csum[k] += pmt_thr[j, k] * 1 / adc_to_pes[j]\n",
    "    return csum"
   ]
  },
  {
   "cell_type": "markdown",
   "metadata": {
    "collapsed": false
   },
   "source": [
    "#### For a toy function and testing purposes, the MAU has to be an scalar"
   ]
  },
  {
   "cell_type": "code",
   "execution_count": null,
   "metadata": {
    "collapsed": false
   },
   "outputs": [],
   "source": [
    "csum = calibrated_pmt_sum(CWF, adc_to_pes, n_MAU=1, thr_MAU=0) "
   ]
  },
  {
   "cell_type": "markdown",
   "metadata": {
    "collapsed": false
   },
   "source": [
    "#### Otherwise, the bheaviour is only approximated!"
   ]
  },
  {
   "cell_type": "code",
   "execution_count": null,
   "metadata": {
    "collapsed": false
   },
   "outputs": [],
   "source": [
    "csum = calibrated_pmt_sum(CWF, adc_to_pes, n_MAU=10, thr_MAU=0) "
   ]
  },
  {
   "cell_type": "code",
   "execution_count": null,
   "metadata": {
    "collapsed": false
   },
   "outputs": [],
   "source": [
    "csum = calibrated_pmt_sum(CWF, adc_to_pes, n_MAU=50, thr_MAU=0) "
   ]
  },
  {
   "cell_type": "markdown",
   "metadata": {
    "collapsed": false
   },
   "source": [
    "#### n_MAU = 1 yields correct behaviour"
   ]
  },
  {
   "cell_type": "code",
   "execution_count": null,
   "metadata": {
    "collapsed": false
   },
   "outputs": [],
   "source": [
    "csum = calibrated_pmt_sum(CWF, adc_to_pes, n_MAU=1, thr_MAU=0) "
   ]
  },
  {
   "cell_type": "code",
   "execution_count": null,
   "metadata": {
    "collapsed": false
   },
   "outputs": [],
   "source": [
    "def plot_csum_vsum():\n",
    "    \"\"\"plot csum and vsum (must be close).\"\"\"\n",
    "    v = toy_pmt_signal()\n",
    "    vsum = toy_pmt_sum(v, npmt = 10)\n",
    "    CWF, adc_to_pes = toy_cwf_and_adc(v, npmt=10)\n",
    "    csum = pf.calibrated_pmt_sum(CWF, adc_to_pes, n_MAU=1, thr_MAU=0) \n",
    "    plt.plot(csum)\n",
    "    plt.plot(vsum)\n",
    "    plt.show()"
   ]
  },
  {
   "cell_type": "code",
   "execution_count": null,
   "metadata": {
    "collapsed": false
   },
   "outputs": [],
   "source": [
    "plot_csum_vsum()"
   ]
  },
  {
   "cell_type": "markdown",
   "metadata": {
    "collapsed": false
   },
   "source": [
    "### Test of zsum"
   ]
  },
  {
   "cell_type": "markdown",
   "metadata": {
    "collapsed": false
   },
   "source": [
    "**Direct zsum of vsum**"
   ]
  },
  {
   "cell_type": "code",
   "execution_count": null,
   "metadata": {
    "collapsed": false
   },
   "outputs": [],
   "source": [
    "def vsum_zsum(vsum, threshold=10):\n",
    "    \"\"\"Compute ZS over vsum\"\"\"\n",
    "    return vsum[vsum > threshold]"
   ]
  },
  {
   "cell_type": "code",
   "execution_count": null,
   "metadata": {
    "collapsed": false
   },
   "outputs": [],
   "source": [
    "vsum_zs = vsum_zsum(vsum, threshold=10)"
   ]
  },
  {
   "cell_type": "code",
   "execution_count": null,
   "metadata": {
    "collapsed": false
   },
   "outputs": [],
   "source": [
    "plt.plot(vsum_zs)"
   ]
  },
  {
   "cell_type": "markdown",
   "metadata": {
    "collapsed": false
   },
   "source": [
    "**And using the function in peak_functions**"
   ]
  },
  {
   "cell_type": "code",
   "execution_count": null,
   "metadata": {
    "collapsed": false
   },
   "outputs": [],
   "source": [
    "wfzs_ene, wfzs_indx = pf.wfzs(csum, threshold=10)"
   ]
  },
  {
   "cell_type": "code",
   "execution_count": null,
   "metadata": {
    "collapsed": false
   },
   "outputs": [],
   "source": [
    "plt.plot(wfzs_ene)"
   ]
  },
  {
   "cell_type": "markdown",
   "metadata": {
    "collapsed": false
   },
   "source": [
    "#### The indexes show three different \"peaks\"\n",
    "\n",
    "200-229\n",
    "630-659\n",
    "1060-1089"
   ]
  },
  {
   "cell_type": "code",
   "execution_count": null,
   "metadata": {
    "collapsed": false
   },
   "outputs": [],
   "source": [
    "wfzs_indx"
   ]
  },
  {
   "cell_type": "markdown",
   "metadata": {
    "collapsed": false
   },
   "source": [
    "#### the ZS function in the model and in the module is the same"
   ]
  },
  {
   "cell_type": "code",
   "execution_count": null,
   "metadata": {
    "collapsed": false
   },
   "outputs": [],
   "source": [
    "def plot_csum_vsum_zs(vsum, csum, threshold=10):\n",
    "    \"\"\"Test that csum yields expected value.\"\"\"\n",
    "    vsum_zs = vsum_zsum(vsum, threshold=threshold)\n",
    "    wfzs_ene, wfzs_indx = pf.wfzs(csum, threshold=10)\n",
    "    plt.plot(vsum_zs)\n",
    "    plt.plot(wfzs_ene)\n",
    "    plt.show()"
   ]
  },
  {
   "cell_type": "code",
   "execution_count": null,
   "metadata": {
    "collapsed": false
   },
   "outputs": [],
   "source": [
    "plot_csum_vsum_zs(vsum, csum, threshold=10)"
   ]
  },
  {
   "cell_type": "markdown",
   "metadata": {
    "collapsed": false
   },
   "source": [
    "### Testing S12"
   ]
  },
  {
   "cell_type": "markdown",
   "metadata": {
    "collapsed": false
   },
   "source": [
    "#### Testing time_from_index: python vs cython"
   ]
  },
  {
   "cell_type": "code",
   "execution_count": null,
   "metadata": {
    "collapsed": false
   },
   "outputs": [],
   "source": [
    "def test_time_from_index(wfzs_indx):\n",
    "    \"\"\"Test that time_from_index yields same python-cython.\"\"\"\n",
    "    i1 = pf.time_from_index(wfzs_indx)\n",
    "    i2 = cpf.time_from_index(wfzs_indx)\n",
    "    npt.assert_allclose(i1, i2)"
   ]
  },
  {
   "cell_type": "code",
   "execution_count": null,
   "metadata": {
    "collapsed": false
   },
   "outputs": [],
   "source": [
    "test_time_from_index(wfzs_indx)"
   ]
  },
  {
   "cell_type": "markdown",
   "metadata": {
    "collapsed": false
   },
   "source": [
    "#### testing rebin_waveform: python vs cython"
   ]
  },
  {
   "cell_type": "code",
   "execution_count": null,
   "metadata": {
    "collapsed": false
   },
   "outputs": [],
   "source": [
    "def test_rebin_waveform(wfzs_ene, wfzs_indx):\n",
    "    \"\"\"Test that rebin_waveform yields same python-cython.\"\"\"\n",
    "    t = pf.time_from_index(wfzs_indx)\n",
    "    e = wfzs_ene\n",
    "    t1, e1 = pf.rebin_waveform(t, e, stride=10)\n",
    "    t2,e2 = cpf.rebin_waveform(t, e, stride=10)\n",
    "    npt.assert_allclose(t1, t2)\n",
    "    npt.assert_allclose(e1, e2)"
   ]
  },
  {
   "cell_type": "code",
   "execution_count": null,
   "metadata": {
    "collapsed": false
   },
   "outputs": [],
   "source": [
    "test_rebin_waveform(wfzs_ene, wfzs_indx)"
   ]
  },
  {
   "cell_type": "markdown",
   "metadata": {
    "collapsed": false
   },
   "source": [
    "#### testing find_S12: python vs cython"
   ]
  },
  {
   "cell_type": "markdown",
   "metadata": {
    "collapsed": false
   },
   "source": [
    "#### The S12L found by the algorithm running over the toy model is correct.\n",
    "3 separated but identical \"peaks\"  going from 11 to 20 and then to 11 again"
   ]
  },
  {
   "cell_type": "markdown",
   "metadata": {
    "collapsed": false
   },
   "source": [
    "#### python"
   ]
  },
  {
   "cell_type": "code",
   "execution_count": null,
   "metadata": {
    "collapsed": false
   },
   "outputs": [],
   "source": [
    "S12L1 = pf.find_S12(wfzs_ene, wfzs_indx,\n",
    "             tmin = 0, tmax = 1e+6,\n",
    "             lmin = 0, lmax = 1000000,\n",
    "             stride=4, rebin=False, rebin_stride=40)"
   ]
  },
  {
   "cell_type": "code",
   "execution_count": null,
   "metadata": {
    "collapsed": false
   },
   "outputs": [],
   "source": [
    "S12L1"
   ]
  },
  {
   "cell_type": "markdown",
   "metadata": {
    "collapsed": false
   },
   "source": [
    "#### cython"
   ]
  },
  {
   "cell_type": "code",
   "execution_count": null,
   "metadata": {
    "collapsed": false
   },
   "outputs": [],
   "source": [
    "S12L2 = cpf.find_S12(wfzs_ene, wfzs_indx,\n",
    "             tmin = 0, tmax = 1e+6,\n",
    "             lmin = 0, lmax = 1000000,\n",
    "             stride=4, rebin=False, rebin_stride=40)"
   ]
  },
  {
   "cell_type": "code",
   "execution_count": null,
   "metadata": {
    "collapsed": false
   },
   "outputs": [],
   "source": [
    "S12L2"
   ]
  },
  {
   "cell_type": "markdown",
   "metadata": {
    "collapsed": false
   },
   "source": [
    "#### Thus a test that S12L is the same in cython and python"
   ]
  },
  {
   "cell_type": "code",
   "execution_count": null,
   "metadata": {
    "collapsed": false
   },
   "outputs": [],
   "source": [
    "def test_S12L(S12L1, S12L2):\n",
    "    \"\"\"\"Test that test_S12L yields same python-cython.\"\"\"\"\"\n",
    "    indx = list(S12L1.keys())\n",
    "    \n",
    "    for i in indx:\n",
    "        t1 = S12L1[i][0]\n",
    "        e1 = S12L1[i][1]\n",
    "        t2 = S12L2[i][0]\n",
    "        e2 = S12L2[i][1]\n",
    "        npt.assert_allclose(t1, t2)\n",
    "        npt.assert_allclose(e1, e2)"
   ]
  },
  {
   "cell_type": "code",
   "execution_count": null,
   "metadata": {
    "collapsed": false
   },
   "outputs": [],
   "source": [
    "test_S12L(S12L1, S12L2)"
   ]
  },
  {
   "cell_type": "markdown",
   "metadata": {
    "collapsed": false
   },
   "source": [
    "#### And a test that checks that the result is as expected"
   ]
  },
  {
   "cell_type": "code",
   "execution_count": null,
   "metadata": {
    "collapsed": false
   },
   "outputs": [],
   "source": [
    "def test_S12_S1(wfzs_ene, wfzs_indx):\n",
    "    \"\"\"S1 like test of S12\"\"\"\n",
    "    S12L = cpf.find_S12(wfzs_ene, wfzs_indx,\n",
    "             tmin = 0, tmax = 1e+6,\n",
    "             lmin = 0, lmax = 1000000,\n",
    "             stride=4, rebin=False, rebin_stride=40)\n",
    "    #this yields 3 idential vectors of energy\n",
    "    E = np.array([ 11.,  12.,  13.,  14.,  15.,  16.,  17.,  18.,  19.,  20.,  20.,\n",
    "          20.,  20.,  20.,  20.,  20.,  20.,  20.,  20.,  20.,  20.,  19.,\n",
    "          18.,  17.,  16.,  15.,  14.,  13.,  12.,  11.])\n",
    "    for i in S12L.keys():\n",
    "        e = S12L[i][1]\n",
    "        npt.assert_allclose(e,E)"
   ]
  },
  {
   "cell_type": "code",
   "execution_count": null,
   "metadata": {
    "collapsed": false
   },
   "outputs": [],
   "source": [
    "test_S12_S1(wfzs_ene, wfzs_indx)"
   ]
  },
  {
   "cell_type": "markdown",
   "metadata": {
    "collapsed": false
   },
   "source": [
    "#### test can be repated rebinning the waveform"
   ]
  },
  {
   "cell_type": "code",
   "execution_count": null,
   "metadata": {
    "collapsed": false
   },
   "outputs": [],
   "source": [
    "S12L2 = cpf.find_S12(wfzs_ene, wfzs_indx,\n",
    "             tmin = 0, tmax = 1e+6,\n",
    "             lmin = 0, lmax = 1000000,\n",
    "             stride=10, rebin=True, rebin_stride=10)"
   ]
  },
  {
   "cell_type": "code",
   "execution_count": null,
   "metadata": {
    "collapsed": false
   },
   "outputs": [],
   "source": [
    "S12L2"
   ]
  },
  {
   "cell_type": "markdown",
   "metadata": {
    "collapsed": false
   },
   "source": [
    "#### all tests in module peak_functions_test"
   ]
  }
 ],
 "metadata": {
  "anaconda-cloud": {},
  "kernelspec": {
   "display_name": "Python [conda env:IC3.5]",
   "language": "python",
   "name": "conda-env-IC3.5-py"
  },
  "language_info": {
   "codemirror_mode": {
    "name": "ipython",
    "version": 3
   },
   "file_extension": ".py",
   "mimetype": "text/x-python",
   "name": "python",
   "nbconvert_exporter": "python",
   "pygments_lexer": "ipython3",
   "version": "3.5.2"
  }
 },
 "nbformat": 4,
 "nbformat_minor": 0
}
