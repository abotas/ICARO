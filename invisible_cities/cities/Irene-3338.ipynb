{
 "cells": [
  {
   "cell_type": "markdown",
   "metadata": {
    "collapsed": false
   },
   "source": [
    "# IRENE-3338"
   ]
  },
  {
   "cell_type": "code",
   "execution_count": null,
   "metadata": {
    "collapsed": false
   },
   "outputs": [],
   "source": [
    "import datetime"
   ]
  },
  {
   "cell_type": "code",
   "execution_count": null,
   "metadata": {
    "collapsed": false
   },
   "outputs": [],
   "source": [
    "print(datetime.datetime.now().strftime('%Y-%m-%d %H:%M:%S'))"
   ]
  },
  {
   "cell_type": "code",
   "execution_count": null,
   "metadata": {
    "collapsed": false
   },
   "outputs": [],
   "source": [
    "from __future__ import print_function\n",
    "import sys\n",
    "import os\n",
    "from glob import glob\n",
    "from time import time"
   ]
  },
  {
   "cell_type": "code",
   "execution_count": null,
   "metadata": {
    "collapsed": false
   },
   "outputs": [],
   "source": [
    "%matplotlib inline\n",
    "%load_ext autoreload\n",
    "%autoreload 2\n",
    "import matplotlib.pyplot as plt\n",
    "import pandas as pd\n",
    "import tables as tb\n",
    "import numpy as np\n",
    "import math\n"
   ]
  },
  {
   "cell_type": "code",
   "execution_count": null,
   "metadata": {
    "collapsed": false
   },
   "outputs": [],
   "source": [
    "from invisible_cities.database import load_db\n",
    "from   invisible_cities.core.system_of_units_c import units\n",
    "import invisible_cities.sierpe.blr as blr\n",
    "import invisible_cities.core.mpl_functions as mpl\n",
    "import invisible_cities.reco.wfm_functions as wfm\n",
    "import invisible_cities.reco.tbl_functions as tbl\n",
    "from invisible_cities.reco.params import S12Params, ThresholdParams, CalibratedSum, PMaps\n",
    "import invisible_cities.reco.peak_functions as pf\n",
    "import invisible_cities.reco.peak_functions_c as cpf\n",
    "import invisible_cities.reco.pmaps_functions as pmf\n",
    "from   invisible_cities.cities.base_cities import S12Params as S12P"
   ]
  },
  {
   "cell_type": "code",
   "execution_count": null,
   "metadata": {
    "collapsed": false
   },
   "outputs": [],
   "source": [
    "from invisible_cities.core.core_functions import define_window\n",
    "from invisible_cities.core.core_functions import lrange\n",
    "from collections import namedtuple"
   ]
  },
  {
   "cell_type": "code",
   "execution_count": null,
   "metadata": {
    "collapsed": false
   },
   "outputs": [],
   "source": [
    "from invisible_cities.cities.irene import Irene, IRENE"
   ]
  },
  {
   "cell_type": "code",
   "execution_count": null,
   "metadata": {
    "collapsed": false
   },
   "outputs": [],
   "source": [
    "%load_ext Cython"
   ]
  },
  {
   "cell_type": "markdown",
   "metadata": {
    "collapsed": false
   },
   "source": [
    "## Files"
   ]
  },
  {
   "cell_type": "code",
   "execution_count": null,
   "metadata": {
    "collapsed": false
   },
   "outputs": [],
   "source": [
    "RWF_file = os.path.join(os.environ['IC_DATA'],'LSC/dst_waves_f0_3338.root.h5')"
   ]
  },
  {
   "cell_type": "code",
   "execution_count": null,
   "metadata": {
    "collapsed": false
   },
   "outputs": [],
   "source": [
    "h5rwf = False"
   ]
  },
  {
   "cell_type": "code",
   "execution_count": null,
   "metadata": {
    "collapsed": false
   },
   "outputs": [],
   "source": [
    "if h5rwf:\n",
    "    h5rwf.close()"
   ]
  },
  {
   "cell_type": "code",
   "execution_count": null,
   "metadata": {
    "collapsed": false
   },
   "outputs": [],
   "source": [
    "h5rwf = tb.open_file(RWF_file,'r')"
   ]
  },
  {
   "cell_type": "code",
   "execution_count": null,
   "metadata": {
    "collapsed": false
   },
   "outputs": [],
   "source": [
    "h5rwf"
   ]
  },
  {
   "cell_type": "markdown",
   "metadata": {
    "collapsed": false
   },
   "source": [
    "### pmtrwf and sipmrwf vectors"
   ]
  },
  {
   "cell_type": "markdown",
   "metadata": {
    "collapsed": false
   },
   "source": [
    "To get vectors use **get_vectors(file)** in tbl_functions"
   ]
  },
  {
   "cell_type": "code",
   "execution_count": null,
   "metadata": {
    "collapsed": false
   },
   "outputs": [],
   "source": [
    "pmtrwf = h5rwf.root.RD.pmtrwf\n",
    "sipmrwf = h5rwf.root.RD.sipmrwf"
   ]
  },
  {
   "cell_type": "code",
   "execution_count": null,
   "metadata": {
    "collapsed": false
   },
   "outputs": [],
   "source": []
  },
  {
   "cell_type": "code",
   "execution_count": null,
   "metadata": {
    "collapsed": false
   },
   "outputs": [],
   "source": [
    "pmt_active = list(range(11))"
   ]
  },
  {
   "cell_type": "code",
   "execution_count": null,
   "metadata": {
    "collapsed": false
   },
   "outputs": [],
   "source": [
    "Pmaps= namedtuple('Pmaps', 'S1 S2 S2Si S1p PMT_S1 PMT_S1p')"
   ]
  },
  {
   "cell_type": "code",
   "execution_count": null,
   "metadata": {
    "collapsed": false
   },
   "outputs": [],
   "source": [
    "NEVT, NPMT, PMTWL = pmtrwf.shape\n",
    "NEVT, NSIPM, SIPMWL = sipmrwf.shape\n",
    "print(\"\"\"\n",
    "        Number of events in file = {}\n",
    "        Number of PMTs = {}\n",
    "        PMTWL = {}\n",
    "        Number of SiPMs = {}\n",
    "        SiPMWL = {}\n",
    "      \"\"\".format(NEVT, NPMT, PMTWL,NSIPM, SIPMWL))"
   ]
  },
  {
   "cell_type": "markdown",
   "metadata": {
    "collapsed": false
   },
   "source": [
    "### Access to data base and definition of units"
   ]
  },
  {
   "cell_type": "code",
   "execution_count": null,
   "metadata": {
    "collapsed": false
   },
   "outputs": [],
   "source": [
    "DataPMT = load_db.DataPMT(3338)\n",
    "adc_to_pes = abs(DataPMT.adc_to_pes.values)\n",
    "coeff_c = abs(DataPMT.coeff_c.values)\n",
    "coeff_blr = abs(DataPMT.coeff_blr.values)\n",
    "DataSiPM = load_db.DataSiPM()\n",
    "adc_to_pes_sipm = DataSiPM.adc_to_pes.values\n",
    "xs = DataSiPM.X.values\n",
    "ys = DataSiPM.Y.values"
   ]
  },
  {
   "cell_type": "code",
   "execution_count": null,
   "metadata": {
    "collapsed": false
   },
   "outputs": [],
   "source": [
    "DataPMT"
   ]
  },
  {
   "cell_type": "code",
   "execution_count": null,
   "metadata": {
    "collapsed": false
   },
   "outputs": [],
   "source": [
    "coeff_blr = np.array([1.61,\n",
    "                      1.61,\n",
    "                      1.61,\n",
    "                      1.61,\n",
    "                      1.60,\n",
    "                      0.8,\n",
    "                      0.8,\n",
    "                      0.8,\n",
    "                      0.8,\n",
    "                      0.8,\n",
    "                      1.61,\n",
    "                      0.8]) * 0.001"
   ]
  },
  {
   "cell_type": "code",
   "execution_count": null,
   "metadata": {
    "collapsed": false
   },
   "outputs": [],
   "source": [
    "coeff_c = np.array([2.94,\n",
    "                    2.74,\n",
    "                    3.08,\n",
    "                    2.81,\n",
    "                    2.88,\n",
    "                    1.,\n",
    "                    1.,\n",
    "                    1.,\n",
    "                    1.,\n",
    "                    1.,\n",
    "                    2.75,\n",
    "                    1.0]) * 1e-6"
   ]
  },
  {
   "cell_type": "code",
   "execution_count": null,
   "metadata": {
    "collapsed": false
   },
   "outputs": [],
   "source": [
    "adc_to_pes = np.array([24.3,\n",
    "                    26.2,\n",
    "                    22.19,\n",
    "                    19.55,\n",
    "                    33.88,\n",
    "                    25.8,\n",
    "                    21.8,\n",
    "                    24.8,\n",
    "                    26.4,\n",
    "                    22.4,\n",
    "                    23.3,\n",
    "                    26.7]) "
   ]
  },
  {
   "cell_type": "code",
   "execution_count": null,
   "metadata": {
    "collapsed": false
   },
   "outputs": [],
   "source": [
    "coeff_blr"
   ]
  },
  {
   "cell_type": "code",
   "execution_count": null,
   "metadata": {
    "collapsed": false
   },
   "outputs": [],
   "source": []
  },
  {
   "cell_type": "code",
   "execution_count": null,
   "metadata": {
    "collapsed": false
   },
   "outputs": [],
   "source": []
  },
  {
   "cell_type": "markdown",
   "metadata": {
    "collapsed": false
   },
   "source": [
    "### Parameters for peak search"
   ]
  },
  {
   "cell_type": "code",
   "execution_count": null,
   "metadata": {
    "collapsed": false
   },
   "outputs": [],
   "source": [
    "s1par = S12P(tmin=0*units.mus, tmax=590*units.mus, lmin=6, lmax=20, stride=4, rebin=False)\n",
    "s2par = S12P(tmin=590*units.mus, tmax=690*units.mus, lmin=80, lmax=200000, stride=40, rebin=True)\n",
    "s1p    = S12P(tmin=620*units.mus, tmax=1100*units.mus, lmin=6, lmax=20, stride=4, rebin=False)\n",
    "thresholds = ThresholdParams(thr_s1=0.5*units.pes, \n",
    "                     thr_s2=1*units.pes, \n",
    "                     thr_MAU=3*units.adc, \n",
    "                     thr_sipm=5*units.pes, \n",
    "                     thr_SIPM=20*units.pes )\n",
    "s1par_PMT = S12P(tmin=0*units.mus, tmax=590*units.mus, lmin=4, lmax=20, stride=4, rebin=False)\n",
    "thresholds_PMT = ThresholdParams(thr_s1=0.1*units.pes, \n",
    "                     thr_s2=1*units.pes, \n",
    "                     thr_MAU=3*units.adc, \n",
    "                     thr_sipm=5*units.pes, \n",
    "                     thr_SIPM=20*units.pes )"
   ]
  },
  {
   "cell_type": "markdown",
   "metadata": {
    "collapsed": false
   },
   "source": [
    "### Calibrated sum"
   ]
  },
  {
   "cell_type": "code",
   "execution_count": null,
   "metadata": {
    "collapsed": false
   },
   "outputs": [],
   "source": [
    "%%cython\n",
    "cimport numpy as np\n",
    "import  numpy as np\n",
    "from scipy import signal\n",
    "\n",
    "cpdef calibrated_pmt_sum(double [:, :]  CWF,\n",
    "                         double [:]     adc_to_pes,\n",
    "                         list           pmt_active = [],\n",
    "                         int            n_MAU = 200,\n",
    "                         double         thr_MAU =   5):\n",
    "    \"\"\"\n",
    "    Computes the ZS calibrated sum of the PMTs\n",
    "    after correcting the baseline with a MAU to suppress low frequency noise.\n",
    "    input:\n",
    "    CWF:    Corrected waveform (passed by BLR)\n",
    "    adc_to_pes: a vector with calibration constants\n",
    "    n_MAU:  length of the MAU window\n",
    "    thr_MAU: treshold above MAU to select sample\n",
    "\n",
    "    \"\"\"\n",
    "\n",
    "    cdef int j, k\n",
    "    cdef int NPMT = CWF.shape[0]\n",
    "    cdef int NWF  = CWF.shape[1]\n",
    "    cdef double [:] MAU = np.array(np.ones(n_MAU),\n",
    "                                   dtype = np.double) * (1 / n_MAU)\n",
    "\n",
    "\n",
    "    # CWF if above MAU threshold\n",
    "    cdef double [:, :] pmt_thr  = np.zeros((NPMT,NWF), dtype=np.double)\n",
    "    cdef double [:]    csum     = np.zeros(      NWF , dtype=np.double)\n",
    "    cdef double [:]    csum_mau = np.zeros(      NWF , dtype=np.double)\n",
    "    cdef double [:]    MAU_pmt  = np.zeros(      NWF , dtype=np.double)\n",
    "    \n",
    "    cdef list PMT = list(range(NPMT))\n",
    "    if len(pmt_active) > 0:\n",
    "        PMT = pmt_active\n",
    "    for j in PMT:\n",
    "        # MAU for each of the PMTs, following the waveform\n",
    "        MAU_pmt = signal.lfilter(MAU, 1, CWF[j,:])\n",
    "\n",
    "        for k in range(NWF):\n",
    "            if CWF[j,k] >= MAU_pmt[k] + thr_MAU: # >= not >: found testing!\n",
    "                pmt_thr[j,k] = CWF[j,k]\n",
    "\n",
    "    for j in PMT:\n",
    "        for k in range(NWF):\n",
    "            csum_mau[k] += pmt_thr[j, k] * 1 / adc_to_pes[j]\n",
    "            csum[k] += CWF[j, k] * 1 / adc_to_pes[j]\n",
    "\n",
    "    return np.asarray(csum), np.asarray(csum_mau)\n",
    "\n",
    "cpdef calibrated_pmt_mau(double [:, :]  CWF,\n",
    "                         double [:]     adc_to_pes,\n",
    "                         list           pmt_active = [],\n",
    "                         int            n_MAU = 200,\n",
    "                         double         thr_MAU =   5):\n",
    "    \"\"\"\n",
    "    Returns the calibrated waveforms for PMTs correcting by MAU.\n",
    "    input:\n",
    "    CWF:    Corrected waveform (passed by BLR)\n",
    "    adc_to_pes: a vector with calibration constants\n",
    "    n_MAU:  length of the MAU window\n",
    "    thr_MAU: treshold above MAU to select sample\n",
    "\n",
    "    \"\"\"\n",
    "\n",
    "    cdef int j, k\n",
    "    cdef int NPMT = CWF.shape[0]\n",
    "    cdef int NWF  = CWF.shape[1]\n",
    "    cdef list PMT = list(range(NPMT))\n",
    "    if len(pmt_active) > 0:\n",
    "        PMT = pmt_active\n",
    "\n",
    "    \n",
    "    cdef double [:] MAU = np.array(np.ones(n_MAU),\n",
    "                                   dtype = np.double) * (1 / n_MAU)\n",
    "    \n",
    "    # CWF if above MAU threshold\n",
    "    cdef double [:, :] pmt_thr  = np.zeros((NPMT,NWF), dtype=np.double)\n",
    "    cdef double [:]    MAU_pmt  = np.zeros(      NWF , dtype=np.double)\n",
    "           \n",
    "    for j in PMT:\n",
    "        # MAU for each of the PMTs, following the waveform\n",
    "        MAU_pmt = signal.lfilter(MAU, 1, CWF[j,:])\n",
    "\n",
    "        for k in range(NWF):\n",
    "            if CWF[j,k] >= MAU_pmt[k] + thr_MAU: # >= not >: found testing!\n",
    "                pmt_thr[j,k] = CWF[j,k] * 1 / adc_to_pes[j]\n",
    "\n",
    "\n",
    "    return np.asarray(pmt_thr)"
   ]
  },
  {
   "cell_type": "code",
   "execution_count": null,
   "metadata": {
    "collapsed": false
   },
   "outputs": [],
   "source": [
    "Csum= namedtuple('Csum', 'csum csum_mau cpmt')"
   ]
  },
  {
   "cell_type": "code",
   "execution_count": null,
   "metadata": {
    "collapsed": false
   },
   "outputs": [],
   "source": [
    "def compute_csum_and_pmaps(pmtrwf, sipmrwf, pmt_active, \n",
    "                           coeff_c, coeff_blr, adc_to_pes, \n",
    "                           s1_params, s2_params, s1p_params, thresholds,\n",
    "                           s1par_PMT, thresholds_PMT,\n",
    "                           event, run_number=0):\n",
    "    \"\"\"Compute calibrated sum and PMAPS.\n",
    "\n",
    "    :param pmtrwf: PMTs RWF\n",
    "    :param sipmrwf: SiPMs RWF\n",
    "    :param s1par: parameters for S1 search (S12Params namedtuple)\n",
    "    :param s2par: parameters for S2 search (S12Params namedtuple)\n",
    "    :param thresholds: thresholds for searches (ThresholdParams namedtuple)\n",
    "    :param event: event number\n",
    "\n",
    "    :returns: a nametuple of calibrated sum and a namedtuple of PMAPS\n",
    "    \"\"\"\n",
    "\n",
    "    thr = thresholds\n",
    "    thr2 = thresholds_PMT\n",
    "\n",
    "    # data base\n",
    "    #DataPMT = load_db.DataPMT(run_number)\n",
    "    #adc_to_pes = abs(DataPMT.adc_to_pes.values)\n",
    "    #coeff_c    = abs(DataPMT.coeff_c   .values)\n",
    "    #coeff_blr  = abs(DataPMT.coeff_blr .values)\n",
    "    DataSiPM   = load_db.DataSiPM()\n",
    "    adc_to_pes_sipm = DataSiPM.adc_to_pes.values\n",
    "\n",
    "    # deconv\n",
    "    CWF = blr.deconv_pmt(pmtrwf[event], coeff_c, coeff_blr)\n",
    "\n",
    "    # calibrated sum\n",
    "    csum, csum_mau = calibrated_pmt_sum(CWF, adc_to_pes, pmt_active, \n",
    "                                        n_MAU=100, thr_MAU=thr.thr_MAU)\n",
    "    \n",
    "    # calibrated PMT waveforms (above MAU)\n",
    "    CPMT           = calibrated_pmt_mau(CWF, adc_to_pes, pmt_active, \n",
    "                                        n_MAU=100, thr_MAU=0.)\n",
    "    \n",
    "    # S2\n",
    "    s2_ene, s2_indx = cpf.wfzs(csum, threshold=thr.thr_s2)\n",
    "    S2 =  cpf.find_S12(s2_ene, s2_indx, **s2_params._asdict())\n",
    "    \n",
    "    # S1 and S1p\n",
    "    s1_ene, s1_indx = cpf.wfzs(csum_mau, threshold=thr.thr_s1)\n",
    "    S1 =  cpf.find_S12(s1_ene, s1_indx, **s1_params._asdict())\n",
    "    S1p = cpf.find_S12(s1_ene, s1_indx, **s1p_params._asdict())\n",
    "    \n",
    "    # S1 and S1p for individual PMTs\n",
    "    if len(S2) == 1:\n",
    "        t = S2[0][0]\n",
    "        tmin = t[-1] + 1*units.mus\n",
    "        s1p    = S12P(tmin=tmin, tmax=1100*units.mus, \n",
    "                      lmin=6, lmax=20, stride=4, rebin=False)\n",
    "    PMT_S1 = {}\n",
    "    PMT_S1p = {}\n",
    "    for pmt in pmt_active:\n",
    "        s1_ene, s1_indx = cpf.wfzs(CPMT[pmt], threshold=thr2.thr_s1)\n",
    "        PMT_S1[pmt] = cpf.find_S12(s1_ene, s1_indx, **s1par_PMT._asdict())\n",
    "        PMT_S1p[pmt] = cpf.find_S12(s1_ene, s1_indx, **s1par_PMT._asdict())\n",
    "\n",
    "    sipm = cpf.signal_sipm(sipmrwf[event], adc_to_pes_sipm, thr=thr.thr_sipm, n_MAU=100)\n",
    "    SIPM = cpf.select_sipm(sipm)\n",
    "    S2Si = pf.sipm_s2_dict(SIPM, S2, thr=thr.thr_SIPM)\n",
    "    S2Si = 0\n",
    "    return (Csum(csum=csum, csum_mau=csum_mau, cpmt=CPMT),\n",
    "            Pmaps(S1=S1, S2=S2, S2Si=S2Si, S1p=S1p, PMT_S1=PMT_S1, PMT_S1p=PMT_S1p))"
   ]
  },
  {
   "cell_type": "code",
   "execution_count": null,
   "metadata": {
    "collapsed": false
   },
   "outputs": [],
   "source": [
    "def plot_pmt_signals_vs_time_mus(pmt_signals,\n",
    "                                 pmt_active,\n",
    "                                 t_min      =    0,\n",
    "                                 t_max      = 1200,\n",
    "                                 signal_min =    0,\n",
    "                                 signal_max =  200):\n",
    "    \"\"\"Plot all the PMT signals versus time in mus (tmin, tmax in mus).\"\"\"\n",
    "\n",
    "    tstep = 25\n",
    "    PMTWL = pmt_signals[0].shape[0]\n",
    "    signal_t = np.arange(0., PMTWL * tstep, tstep)/units.mus\n",
    "    plt.figure(figsize=(10, 10))\n",
    "    j=0\n",
    "    for i in pmt_active:\n",
    "        ax1 = plt.subplot(4, 3, j+1)\n",
    "        ax1.set_xlim([t_min, t_max])\n",
    "        ax1.set_ylim([signal_min, signal_max])\n",
    "        mpl.set_plot_labels(xlabel = \"t (mus)\",\n",
    "                        ylabel = \"signal (pes/adc)\")\n",
    "\n",
    "        plt.plot(signal_t, pmt_signals[i])\n",
    "        j+=1"
   ]
  },
  {
   "cell_type": "code",
   "execution_count": null,
   "metadata": {
    "collapsed": false
   },
   "outputs": [],
   "source": [
    "def plot_signal_vs_time_mus(signal,\n",
    "                            t_min      =    0,\n",
    "                            t_max      = 1200,\n",
    "                            signal_min =    0,\n",
    "                            signal_max =  200,\n",
    "                            label=''):\n",
    "    \"\"\"Plot signal versus time in mus (tmin, tmax in mus). \"\"\"\n",
    "    tstep = 25 # in ns\n",
    "    PMTWL = signal.shape[0]\n",
    "    signal_t = np.arange(0., PMTWL * tstep, tstep)/units.mus\n",
    "    ax1 = plt.subplot(1, 1, 1)\n",
    "    ax1.set_xlim([t_min, t_max])\n",
    "    ax1.set_ylim([signal_min, signal_max])\n",
    "    mpl.set_plot_labels(xlabel = \"t (mus)\",\n",
    "                    ylabel = \"signal (pes/adc)\")\n",
    "    plt.plot(signal_t, signal, label=label)\n",
    "    legend = plt.legend(loc='upper right')\n",
    "    for label in legend.get_texts():\n",
    "        label.set_fontsize('small')"
   ]
  },
  {
   "cell_type": "code",
   "execution_count": null,
   "metadata": {
    "collapsed": false
   },
   "outputs": [],
   "source": [
    "def plot_csum_in_mus(CSUM, tmin=0, tmax=1200, signal_min=-5, signal_max=200, \n",
    "                     csum=True, csum_mau=False):\n",
    "    \"\"\"Plots in mus (notice units)\"\"\"\n",
    "    \n",
    "    if csum:\n",
    "        plot_signal_vs_time_mus(CSUM.csum, \n",
    "                                t_min=tmin, t_max=tmax, \n",
    "                                signal_min=signal_min, signal_max=signal_max,\n",
    "                                label='CSUM')\n",
    "    if csum_mau:\n",
    "        plot_signal_vs_time_mus(CSUM.csum_mau, \n",
    "                                t_min=tmin, t_max=tmax, \n",
    "                                signal_min=signal_min, signal_max=signal_max,\n",
    "                                label='CSUM_MAU')"
   ]
  },
  {
   "cell_type": "markdown",
   "metadata": {
    "collapsed": false
   },
   "source": [
    "### RWF"
   ]
  },
  {
   "cell_type": "code",
   "execution_count": null,
   "metadata": {
    "collapsed": false
   },
   "outputs": [],
   "source": [
    "event=10\n",
    "RWF = pmtrwf[event]"
   ]
  },
  {
   "cell_type": "code",
   "execution_count": null,
   "metadata": {
    "collapsed": false
   },
   "outputs": [],
   "source": [
    "wfm.plot_pmt_waveforms(RWF, zoom=True, window_size=10000)"
   ]
  },
  {
   "cell_type": "code",
   "execution_count": null,
   "metadata": {
    "collapsed": false
   },
   "outputs": [],
   "source": [
    "coeff_blr"
   ]
  },
  {
   "cell_type": "code",
   "execution_count": null,
   "metadata": {
    "collapsed": false
   },
   "outputs": [],
   "source": [
    "coeff_c"
   ]
  },
  {
   "cell_type": "code",
   "execution_count": null,
   "metadata": {
    "collapsed": false
   },
   "outputs": [],
   "source": [
    "CWF = blr.deconv_pmt(RWF, coeff_c, coeff_blr, n_baseline=38000, thr_trigger=5)"
   ]
  },
  {
   "cell_type": "code",
   "execution_count": null,
   "metadata": {
    "collapsed": false
   },
   "outputs": [],
   "source": [
    "wfm.plot_pmt_waveforms(CWF, zoom=True, window_size=20000)"
   ]
  },
  {
   "cell_type": "code",
   "execution_count": null,
   "metadata": {
    "collapsed": false
   },
   "outputs": [],
   "source": [
    "plot_pmt_signals_vs_time_mus(CWF,\n",
    "                             pmt_active,\n",
    "                             t_min      =    0,\n",
    "                             t_max      = 1200,\n",
    "                             signal_min =    -5,\n",
    "                             signal_max =  50)"
   ]
  },
  {
   "cell_type": "code",
   "execution_count": null,
   "metadata": {
    "collapsed": false
   },
   "outputs": [],
   "source": [
    "plot_signal_vs_time_mus(CWF[0],\n",
    "                            t_min      =    0,\n",
    "                            t_max      = 1200,\n",
    "                            signal_min =    0,\n",
    "                            signal_max =  200,\n",
    "                            label='plot')"
   ]
  },
  {
   "cell_type": "markdown",
   "metadata": {
    "collapsed": false
   },
   "source": [
    "### NB: \n",
    "1. Huge S1-like near 400\n",
    "2. Very small S2 (cannot correspond to \"S1\")\n",
    "3. Waveform clean before S2\n",
    "4. Pseudo \"electron rain\" (ER) after S2. Different in each channel. Clearest effect in channel 9."
   ]
  },
  {
   "cell_type": "code",
   "execution_count": null,
   "metadata": {
    "collapsed": false
   },
   "outputs": [],
   "source": [
    "csum, csum_mau = calibrated_pmt_sum(CWF,adc_to_pes,pmt_active)"
   ]
  },
  {
   "cell_type": "code",
   "execution_count": null,
   "metadata": {
    "collapsed": false
   },
   "outputs": [],
   "source": [
    "plot_signal_vs_time_mus(csum, t_min=0, t_max=1200, signal_min=-5, signal_max=250, label='CSUM')"
   ]
  },
  {
   "cell_type": "code",
   "execution_count": null,
   "metadata": {
    "collapsed": false
   },
   "outputs": [],
   "source": [
    "plot_signal_vs_time_mus(csum, t_min=590, t_max=620, signal_min=-5, signal_max=250, label='CSUM')"
   ]
  },
  {
   "cell_type": "code",
   "execution_count": null,
   "metadata": {
    "collapsed": false
   },
   "outputs": [],
   "source": [
    "plot_signal_vs_time_mus(csum_mau, t_min=559, t_max=561, signal_min=-5, signal_max=10, label='CSUM')"
   ]
  },
  {
   "cell_type": "markdown",
   "metadata": {
    "collapsed": false
   },
   "source": [
    "### NB:\n",
    "1. Very small signal.\n",
    "2. calibrated sum appears \"cleaner\" than individual WFs."
   ]
  },
  {
   "cell_type": "code",
   "execution_count": null,
   "metadata": {
    "collapsed": false
   },
   "outputs": [],
   "source": [
    "CSUM, P = compute_csum_and_pmaps(pmtrwf, sipmrwf, pmt_active, \n",
    "                                 coeff_c, coeff_blr, adc_to_pes, \n",
    "                                 s1par, s2par, s1p, thresholds, \n",
    "                                 s1par_PMT, thresholds_PMT, \n",
    "                                 event=event, run_number=0)"
   ]
  },
  {
   "cell_type": "code",
   "execution_count": null,
   "metadata": {
    "collapsed": false
   },
   "outputs": [],
   "source": [
    "plot_pmt_signals_vs_time_mus(CSUM.cpmt,\n",
    "                             pmt_active,\n",
    "                             t_min      =    559,\n",
    "                             t_max      = 561,\n",
    "                             signal_min =    -3,\n",
    "                             signal_max =  3)"
   ]
  },
  {
   "cell_type": "code",
   "execution_count": null,
   "metadata": {
    "collapsed": false
   },
   "outputs": [],
   "source": [
    "plot_pmt_signals_vs_time_mus(CSUM.cpmt,\n",
    "                             pmt_active,\n",
    "                             t_min      =   0,\n",
    "                             t_max      = 1200,\n",
    "                             signal_min =    -3,\n",
    "                             signal_max =  30)"
   ]
  },
  {
   "cell_type": "code",
   "execution_count": null,
   "metadata": {
    "collapsed": false
   },
   "outputs": [],
   "source": [
    "P.S1"
   ]
  },
  {
   "cell_type": "code",
   "execution_count": null,
   "metadata": {
    "collapsed": false
   },
   "outputs": [],
   "source": [
    "P.S2"
   ]
  },
  {
   "cell_type": "code",
   "execution_count": null,
   "metadata": {
    "collapsed": false
   },
   "outputs": [],
   "source": [
    "pmf.scan_s12(P.S1)"
   ]
  },
  {
   "cell_type": "code",
   "execution_count": null,
   "metadata": {
    "collapsed": false
   },
   "outputs": [],
   "source": [
    "pmf.scan_s12(P.S2)"
   ]
  },
  {
   "cell_type": "code",
   "execution_count": null,
   "metadata": {
    "collapsed": false
   },
   "outputs": [],
   "source": [
    "P.S1p"
   ]
  },
  {
   "cell_type": "code",
   "execution_count": null,
   "metadata": {
    "collapsed": false
   },
   "outputs": [],
   "source": [
    "pmf.scan_s12(P.S1p)"
   ]
  },
  {
   "cell_type": "code",
   "execution_count": null,
   "metadata": {
    "collapsed": false
   },
   "outputs": [],
   "source": [
    "P.PMT_S1"
   ]
  },
  {
   "cell_type": "code",
   "execution_count": null,
   "metadata": {
    "collapsed": false
   },
   "outputs": [],
   "source": [
    "P.PMT_S1p"
   ]
  },
  {
   "cell_type": "code",
   "execution_count": null,
   "metadata": {
    "collapsed": false
   },
   "outputs": [],
   "source": [
    "pmf.scan_s12(P.S1)\n",
    "pmf.scan_s12(P.PMT_S1[1])\n",
    "pmf.scan_s12(P.PMT_S1[2])\n",
    "pmf.scan_s12(P.PMT_S1[7])"
   ]
  },
  {
   "cell_type": "code",
   "execution_count": null,
   "metadata": {
    "collapsed": false
   },
   "outputs": [],
   "source": [
    " pmf.scan_s12(P.S1)"
   ]
  },
  {
   "cell_type": "code",
   "execution_count": null,
   "metadata": {
    "collapsed": false
   },
   "outputs": [],
   "source": [
    " pmf.scan_s12(P.S2)"
   ]
  },
  {
   "cell_type": "code",
   "execution_count": null,
   "metadata": {
    "collapsed": false
   },
   "outputs": [],
   "source": [
    "P.PMT_S1"
   ]
  },
  {
   "cell_type": "code",
   "execution_count": null,
   "metadata": {
    "collapsed": false
   },
   "outputs": [],
   "source": []
  },
  {
   "cell_type": "code",
   "execution_count": null,
   "metadata": {
    "collapsed": false
   },
   "outputs": [],
   "source": [
    "def compare_S1(P):\n",
    "    n_match_s1 = 0\n",
    "    for peak, (t,E) in P.S1.items():\n",
    "        for pmt in P.PMT_S1:\n",
    "            if len (P.PMT_S1[pmt]) > 0:\n",
    "                for peak2, (t2,E2) in P.PMT_S1[pmt].items():\n",
    "                    if abs(t2[0] - t[0]) < 100*units.mus:\n",
    "                        print('for pmt = {}'.format(pmt))\n",
    "                        print('found mach between S1 peak = {} and S1_PMT peak = {}'.\\\n",
    "                              format(peak, peak2))\n",
    "                        print('S1 t = {}'.format(t))\n",
    "                        print('PMT_ S1 t = {}'.format(t2))\n",
    "                        if peak == peak2:\n",
    "                            n_match_s1 +=1\n",
    "    return n_match_s1\n",
    "        "
   ]
  },
  {
   "cell_type": "code",
   "execution_count": null,
   "metadata": {
    "collapsed": false
   },
   "outputs": [],
   "source": [
    "P.S1"
   ]
  },
  {
   "cell_type": "code",
   "execution_count": null,
   "metadata": {
    "collapsed": false
   },
   "outputs": [],
   "source": [
    "n_match_s1 = compare_S1(P)"
   ]
  },
  {
   "cell_type": "code",
   "execution_count": null,
   "metadata": {
    "collapsed": false
   },
   "outputs": [],
   "source": [
    "n_match_s1"
   ]
  },
  {
   "cell_type": "code",
   "execution_count": null,
   "metadata": {
    "collapsed": false
   },
   "outputs": [],
   "source": [
    "P.S1p"
   ]
  },
  {
   "cell_type": "code",
   "execution_count": null,
   "metadata": {
    "collapsed": false
   },
   "outputs": [],
   "source": []
  },
  {
   "cell_type": "code",
   "execution_count": null,
   "metadata": {
    "collapsed": false
   },
   "outputs": [],
   "source": [
    "event=1\n",
    "RWF = pmtrwf[event]\n",
    "CWF = blr.deconv_pmt(RWF, coeff_c, coeff_blr, n_baseline=38000, thr_trigger=5)"
   ]
  },
  {
   "cell_type": "code",
   "execution_count": null,
   "metadata": {
    "collapsed": false
   },
   "outputs": [],
   "source": [
    "plot_pmt_signals_vs_time_mus(CWF,\n",
    "                             pmt_active,\n",
    "                             t_min      =    0,\n",
    "                             t_max      = 1200,\n",
    "                             signal_min =    -5,\n",
    "                             signal_max =  150)"
   ]
  },
  {
   "cell_type": "markdown",
   "metadata": {
    "collapsed": false
   },
   "source": [
    "#### NB\n",
    "1. all PMTs see someting near 100 (shining?)\n",
    "2. seems to be a real S1 near 500.\n",
    "3. S1 appears too big for S2.\n",
    "4. ER now apparent in almost all PMTs. Different pattern. "
   ]
  },
  {
   "cell_type": "code",
   "execution_count": null,
   "metadata": {
    "collapsed": false
   },
   "outputs": [],
   "source": [
    "CSUM, P = compute_csum_and_pmaps(pmtrwf, sipmrwf, pmt_active, s1par, s2par, s1p, \n",
    "                                 thresholds, thresholds_PMT, event=event, run_number=0)"
   ]
  },
  {
   "cell_type": "code",
   "execution_count": null,
   "metadata": {
    "collapsed": false
   },
   "outputs": [],
   "source": []
  },
  {
   "cell_type": "code",
   "execution_count": null,
   "metadata": {
    "collapsed": false
   },
   "outputs": [],
   "source": [
    "CSUM, P = compute_csum_and_pmaps(pmtrwf, sipmrwf, pmt_active, s1par, s2par, s1p, thresholds, event=event, run_number=0)"
   ]
  },
  {
   "cell_type": "code",
   "execution_count": null,
   "metadata": {
    "collapsed": false
   },
   "outputs": [],
   "source": [
    "n_match_s1 = compare_S1(P)"
   ]
  },
  {
   "cell_type": "markdown",
   "metadata": {
    "collapsed": false
   },
   "source": [
    "### NB, ER now visible."
   ]
  },
  {
   "cell_type": "code",
   "execution_count": null,
   "metadata": {
    "collapsed": false
   },
   "outputs": [],
   "source": [
    "plot_csum_in_mus(CSUM, tmin=200, tmax=500, signal_min=-5, signal_max=5, csum=True, csum_mau=True)"
   ]
  },
  {
   "cell_type": "code",
   "execution_count": null,
   "metadata": {
    "collapsed": false
   },
   "outputs": [],
   "source": [
    "plot_csum_in_mus(CSUM, tmin=650, tmax=1200, signal_min=-5, signal_max=5, csum=True, csum_mau=True)"
   ]
  },
  {
   "cell_type": "code",
   "execution_count": null,
   "metadata": {
    "collapsed": false
   },
   "outputs": [],
   "source": [
    "P.S1"
   ]
  },
  {
   "cell_type": "code",
   "execution_count": null,
   "metadata": {
    "collapsed": false
   },
   "outputs": [],
   "source": [
    "P.PMT_S1"
   ]
  },
  {
   "cell_type": "code",
   "execution_count": null,
   "metadata": {
    "collapsed": false
   },
   "outputs": [],
   "source": []
  },
  {
   "cell_type": "code",
   "execution_count": null,
   "metadata": {
    "collapsed": false
   },
   "outputs": [],
   "source": [
    " pmf.scan_s12(P.S1)"
   ]
  },
  {
   "cell_type": "code",
   "execution_count": null,
   "metadata": {
    "collapsed": false
   },
   "outputs": [],
   "source": [
    " pmf.scan_s12(P.S2)"
   ]
  },
  {
   "cell_type": "code",
   "execution_count": null,
   "metadata": {
    "collapsed": false
   },
   "outputs": [],
   "source": [
    " pmf.scan_s12(P.S1p)"
   ]
  },
  {
   "cell_type": "code",
   "execution_count": null,
   "metadata": {
    "collapsed": false
   },
   "outputs": [],
   "source": [
    "P.S1p"
   ]
  },
  {
   "cell_type": "code",
   "execution_count": null,
   "metadata": {
    "collapsed": false
   },
   "outputs": [],
   "source": [
    "P.PMT_S1p"
   ]
  },
  {
   "cell_type": "markdown",
   "metadata": {
    "collapsed": false
   },
   "source": [
    "### NB, Individual PMTs are effective to tag true S1s"
   ]
  },
  {
   "cell_type": "code",
   "execution_count": null,
   "metadata": {
    "collapsed": false
   },
   "outputs": [],
   "source": [
    "def plot_event(event):\n",
    "\n",
    "    RWF = pmtrwf[event]\n",
    "    CWF = blr.deconv_pmt(RWF, coeff_c, coeff_blr, n_baseline=38000, thr_trigger=5)\n",
    "    CSUM, P = compute_csum_and_pmaps(pmtrwf, sipmrwf, pmt_active, s1par, s2par, s1p, thresholds, event=event, run_number=0)\n",
    "    plot_pmt_signals_vs_time_mus(CWF,\n",
    "                             pmt_active,\n",
    "                             t_min      =    0,\n",
    "                             t_max      = 1200,\n",
    "                             signal_min =    -5,\n",
    "                             signal_max =  150)\n",
    "    plt.show()\n",
    "    plot_csum_in_mus(CSUM, tmin=0, tmax=1200, signal_min=-5, signal_max=20, csum=True, csum_mau=False)\n",
    "    plt.show()\n",
    "    plot_csum_in_mus(CSUM, tmin=200, tmax=500, signal_min=-5, signal_max=5, csum=True, csum_mau=True)\n",
    "    plt.show()\n",
    "    plot_csum_in_mus(CSUM, tmin=650, tmax=1200, signal_min=-5, signal_max=5, csum=True, csum_mau=True)\n",
    "    plt.show()\n",
    "    pmf.scan_s12(P.S1)\n",
    "    plt.show()\n",
    "    pmf.scan_s12(P.S2)\n",
    "    plt.show()\n",
    "    pmf.scan_s12(P.S1p)   \n",
    "    plt.show()"
   ]
  },
  {
   "cell_type": "code",
   "execution_count": null,
   "metadata": {
    "collapsed": false
   },
   "outputs": [],
   "source": [
    "plot_event(event=2)"
   ]
  },
  {
   "cell_type": "markdown",
   "metadata": {
    "collapsed": false
   },
   "source": [
    "### NB, electron rain present in this event, S1 suspiciously close to previous event"
   ]
  },
  {
   "cell_type": "code",
   "execution_count": null,
   "metadata": {
    "collapsed": false
   },
   "outputs": [],
   "source": [
    "plot_event(event=4)"
   ]
  },
  {
   "cell_type": "code",
   "execution_count": null,
   "metadata": {
    "collapsed": false
   },
   "outputs": [],
   "source": [
    "plot_event(event=5)"
   ]
  },
  {
   "cell_type": "code",
   "execution_count": null,
   "metadata": {
    "collapsed": false
   },
   "outputs": [],
   "source": [
    "plot_event(event=6)"
   ]
  },
  {
   "cell_type": "code",
   "execution_count": null,
   "metadata": {
    "collapsed": false
   },
   "outputs": [],
   "source": [
    "plot_event(event=7)"
   ]
  },
  {
   "cell_type": "code",
   "execution_count": null,
   "metadata": {
    "collapsed": false
   },
   "outputs": [],
   "source": [
    "plot_event(event=9)"
   ]
  },
  {
   "cell_type": "code",
   "execution_count": null,
   "metadata": {
    "collapsed": false
   },
   "outputs": [],
   "source": [
    "plot_event(event=10)"
   ]
  },
  {
   "cell_type": "markdown",
   "metadata": {
    "collapsed": false
   },
   "source": [
    "### To conclude, the ER is still there but the effect seems less hard than in the past and is not seen before the signal. "
   ]
  },
  {
   "cell_type": "code",
   "execution_count": null,
   "metadata": {
    "collapsed": false
   },
   "outputs": [],
   "source": []
  },
  {
   "cell_type": "code",
   "execution_count": null,
   "metadata": {
    "collapsed": false
   },
   "outputs": [],
   "source": [
    "def s12_stats(S1L, S1pL, S2):\n",
    "    n_s1 = []\n",
    "    n_s1p = []\n",
    "    n_s2 = []\n",
    "    \n",
    "    for i in S1L:\n",
    "        n_s1.append(len(S1L[i]))\n",
    "    for i in S1pL:\n",
    "        n_s1p.append(len(S1pL[i]))\n",
    "    for i in S2L:\n",
    "        n_s2.append(len(S2L[i]))\n",
    "    \n",
    "    return np.array(n_s1), np.array(n_s1p), np.array(n_s2)"
   ]
  },
  {
   "cell_type": "code",
   "execution_count": null,
   "metadata": {
    "collapsed": false
   },
   "outputs": [],
   "source": [
    "n_s1, n_s1p, n_s2 = s12_stats(S1L, S1pL, S2)"
   ]
  },
  {
   "cell_type": "code",
   "execution_count": null,
   "metadata": {
    "collapsed": false
   },
   "outputs": [],
   "source": [
    "plt.hist(n_s1)"
   ]
  },
  {
   "cell_type": "code",
   "execution_count": null,
   "metadata": {
    "collapsed": false
   },
   "outputs": [],
   "source": [
    "plt.hist(n_s2)"
   ]
  },
  {
   "cell_type": "code",
   "execution_count": null,
   "metadata": {
    "collapsed": false
   },
   "outputs": [],
   "source": [
    "plt.hist(n_s1p)"
   ]
  },
  {
   "cell_type": "code",
   "execution_count": null,
   "metadata": {
    "collapsed": false
   },
   "outputs": [],
   "source": []
  },
  {
   "cell_type": "code",
   "execution_count": null,
   "metadata": {
    "collapsed": false
   },
   "outputs": [],
   "source": []
  },
  {
   "cell_type": "code",
   "execution_count": null,
   "metadata": {
    "collapsed": false
   },
   "outputs": [],
   "source": []
  },
  {
   "cell_type": "code",
   "execution_count": null,
   "metadata": {
    "collapsed": false
   },
   "outputs": [],
   "source": []
  }
 ],
 "metadata": {
  "anaconda-cloud": {},
  "kernelspec": {
   "display_name": "Python 3",
   "language": "python",
   "name": "python3"
  },
  "language_info": {
   "codemirror_mode": {
    "name": "ipython",
    "version": 3
   },
   "file_extension": ".py",
   "mimetype": "text/x-python",
   "name": "python",
   "nbconvert_exporter": "python",
   "pygments_lexer": "ipython3",
   "version": "3.6.0"
  }
 },
 "nbformat": 4,
 "nbformat_minor": 0
}
