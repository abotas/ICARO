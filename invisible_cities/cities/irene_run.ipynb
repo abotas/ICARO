{
 "cells": [
  {
   "cell_type": "markdown",
   "metadata": {
    "collapsed": false
   },
   "source": [
    "# Irene-run"
   ]
  },
  {
   "cell_type": "markdown",
   "metadata": {
    "collapsed": false
   },
   "source": [
    "## Run irene"
   ]
  },
  {
   "cell_type": "code",
   "execution_count": null,
   "metadata": {
    "collapsed": false
   },
   "outputs": [],
   "source": [
    "import datetime\n",
    "print(datetime.datetime.now().strftime('%Y-%m-%d %H:%M:%S'))"
   ]
  },
  {
   "cell_type": "code",
   "execution_count": null,
   "metadata": {
    "collapsed": false
   },
   "outputs": [],
   "source": [
    "from __future__ import print_function\n",
    "import sys\n",
    "import os\n",
    "from glob import glob\n",
    "from time import time"
   ]
  },
  {
   "cell_type": "code",
   "execution_count": null,
   "metadata": {
    "collapsed": false
   },
   "outputs": [],
   "source": [
    "%matplotlib inline\n",
    "%load_ext autoreload\n",
    "%autoreload 2\n",
    "import matplotlib.pyplot as plt\n",
    "import pandas as pd\n",
    "import tables as tb\n",
    "import numpy as np\n",
    "import math"
   ]
  },
  {
   "cell_type": "code",
   "execution_count": null,
   "metadata": {
    "collapsed": false
   },
   "outputs": [],
   "source": [
    "from invisible_cities.cities.irene import Irene"
   ]
  },
  {
   "cell_type": "code",
   "execution_count": null,
   "metadata": {
    "collapsed": false
   },
   "outputs": [],
   "source": [
    "from invisible_cities.core.configure import configure, print_configuration"
   ]
  },
  {
   "cell_type": "code",
   "execution_count": null,
   "metadata": {
    "collapsed": false
   },
   "outputs": [],
   "source": [
    "from invisible_cities.core.system_of_units_c import SystemOfUnits"
   ]
  },
  {
   "cell_type": "code",
   "execution_count": null,
   "metadata": {
    "collapsed": false
   },
   "outputs": [],
   "source": [
    "units = SystemOfUnits()"
   ]
  },
  {
   "cell_type": "code",
   "execution_count": null,
   "metadata": {
    "collapsed": false
   },
   "outputs": [],
   "source": [
    "RWF_file = (os.environ['ICDIR']\n",
    "               + '/database/test_data/irene_bug_Kr_ACTIVE_7bar_RWF.h5')\n",
    "\n",
    "PMP_file = os.environ['IC_DATA']  + '/irene_bug_Kr_ACTIVE_7bar_PMP.h5'\n",
    "CONF_file = os.environ['ICDIR'] + '/config/irene.conf'"
   ]
  },
  {
   "cell_type": "code",
   "execution_count": null,
   "metadata": {
    "collapsed": false
   },
   "outputs": [],
   "source": [
    "def run_irene(rwf_file, pmp_file, conf_file, n_events= 1, store_pmaps=False):\n",
    "    \"\"\"Test Irene on a file containing an empty event.\"\"\"\n",
    "\n",
    "    CFP = configure(['IRENE',\n",
    "                             '-c', conf_file,\n",
    "                             '-i', rwf_file,\n",
    "                             '-o', pmp_file,\n",
    "                             '-n', '5'])\n",
    "\n",
    "    fpp = Irene(run_number=CFP['RUN_NUMBER'])\n",
    "\n",
    "    files_in = glob(CFP['FILE_IN'])\n",
    "    files_in.sort()\n",
    "    fpp.set_input_files(files_in)\n",
    "    fpp.set_pmap_store(CFP['FILE_OUT'],\n",
    "                               compression = CFP['COMPRESSION'])\n",
    "    fpp.set_print(nprint=CFP['NPRINT'],\n",
    "                  print_empty_events=CFP['PRINT_EMPTY_EVENTS'])\n",
    "\n",
    "    fpp.set_BLR(n_baseline  = CFP['NBASELINE'],\n",
    "                        thr_trigger = CFP['THR_TRIGGER'] * units.adc)\n",
    "\n",
    "    fpp.set_MAU(  n_MAU = CFP['NMAU'],\n",
    "                        thr_MAU = CFP['THR_MAU'] * units.adc)\n",
    "\n",
    "    fpp.set_CSUM(thr_csum=CFP['THR_CSUM'] * units.pes)\n",
    "\n",
    "    fpp.set_S1(tmin   = CFP['S1_TMIN'] * units.mus,\n",
    "               tmax   = CFP['S1_TMAX'] * units.mus,\n",
    "               stride = CFP['S1_STRIDE'],\n",
    "               lmin   = CFP['S1_LMIN'],\n",
    "               lmax   = CFP['S1_LMAX'])\n",
    "\n",
    "    fpp.set_S2(tmin   = CFP['S2_TMIN'] * units.mus,\n",
    "               tmax   = CFP['S2_TMAX'] * units.mus,\n",
    "               stride = CFP['S2_STRIDE'],\n",
    "               lmin   = CFP['S2_LMIN'],\n",
    "               lmax   = CFP['S2_LMAX'])\n",
    "\n",
    "    fpp.set_SiPM(thr_zs=CFP['THR_ZS'] * units.pes,\n",
    "                 thr_sipm_s2=CFP['THR_SIPM_S2'] * units.pes)\n",
    "\n",
    "    t0 = time()\n",
    "    nevt = fpp.run(nmax=n_events, store_pmaps=store_pmaps)\n",
    "    t1 = time()\n",
    "    dt = t1 - t0\n",
    "    print(\"IRENE run {} evts in {} s, time/event = {}\".\\\n",
    "          format(n_events, dt, dt/n_events))\n",
    "    "
   ]
  },
  {
   "cell_type": "code",
   "execution_count": null,
   "metadata": {
    "collapsed": false
   },
   "outputs": [],
   "source": [
    "run_irene(RWF_file, PMP_file, CONF_file, n_events= 1, store_pmaps=False)"
   ]
  },
  {
   "cell_type": "code",
   "execution_count": null,
   "metadata": {
    "collapsed": false
   },
   "outputs": [],
   "source": []
  }
 ],
 "metadata": {
  "anaconda-cloud": {},
  "kernelspec": {
   "display_name": "Python [conda env:IC3.5]",
   "language": "python",
   "name": "conda-env-IC3.5-py"
  },
  "language_info": {
   "codemirror_mode": {
    "name": "ipython",
    "version": 3
   },
   "file_extension": ".py",
   "mimetype": "text/x-python",
   "name": "python",
   "nbconvert_exporter": "python",
   "pygments_lexer": "ipython3",
   "version": "3.5.2"
  }
 },
 "nbformat": 4,
 "nbformat_minor": 2
}
