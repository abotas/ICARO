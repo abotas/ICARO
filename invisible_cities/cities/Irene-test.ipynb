{
 "cells": [
  {
   "cell_type": "markdown",
   "metadata": {
    "collapsed": false
   },
   "source": [
    "\n",
    "# IRENE-test"
   ]
  },
  {
   "cell_type": "code",
   "execution_count": 1,
   "metadata": {
    "collapsed": false
   },
   "outputs": [],
   "source": [
    "import datetime"
   ]
  },
  {
   "cell_type": "code",
   "execution_count": 2,
   "metadata": {
    "collapsed": false
   },
   "outputs": [
    {
     "name": "stdout",
     "output_type": "stream",
     "text": [
      "2017-03-23 15:54:59\n"
     ]
    }
   ],
   "source": [
    "print(datetime.datetime.now().strftime('%Y-%m-%d %H:%M:%S'))"
   ]
  },
  {
   "cell_type": "code",
   "execution_count": 3,
   "metadata": {
    "collapsed": false
   },
   "outputs": [],
   "source": [
    "from __future__ import print_function\n",
    "import sys\n",
    "import os\n",
    "from glob import glob\n",
    "import time"
   ]
  },
  {
   "cell_type": "code",
   "execution_count": 4,
   "metadata": {
    "collapsed": false
   },
   "outputs": [],
   "source": [
    "%matplotlib inline\n",
    "%load_ext autoreload\n",
    "%autoreload 2\n",
    "import matplotlib.pyplot as plt\n",
    "import pandas as pd\n",
    "import tables as tb\n",
    "import numpy as np\n",
    "import math\n"
   ]
  },
  {
   "cell_type": "code",
   "execution_count": 36,
   "metadata": {
    "collapsed": false
   },
   "outputs": [],
   "source": [
    "from invisible_cities.reco.pmap_io import pmap_writer, S12, S2Si\n",
    "\n",
    "from   invisible_cities.core.configure import configure, print_configuration\n",
    "\n",
    "from   invisible_cities.core.system_of_units_c import units\n",
    "from   invisible_cities.cities.base_cities import PmapCity, SensorParams\n",
    "from   invisible_cities.reco.params import S12Params, ThresholdParams,\\\n",
    "        DeconvParams, CalibVectors\n"
   ]
  },
  {
   "cell_type": "code",
   "execution_count": 6,
   "metadata": {
    "collapsed": false
   },
   "outputs": [],
   "source": [
    "from invisible_cities.database import load_db\n",
    "import invisible_cities.sierpe.blr as blr\n",
    "import invisible_cities.core.mpl_functions as mpl\n",
    "import invisible_cities.reco.wfm_functions as wfm\n",
    "import invisible_cities.reco.tbl_functions as tbl\n",
    "import invisible_cities.reco.peak_functions_c as cpf\n",
    "import invisible_cities.reco.peak_functions as pf\n",
    "import invisible_cities.reco.pmaps_functions as pmf"
   ]
  },
  {
   "cell_type": "code",
   "execution_count": 7,
   "metadata": {
    "collapsed": false
   },
   "outputs": [],
   "source": [
    "from invisible_cities.core.core_functions import define_window"
   ]
  },
  {
   "cell_type": "code",
   "execution_count": 8,
   "metadata": {
    "collapsed": false
   },
   "outputs": [],
   "source": [
    "from invisible_cities.core.core_functions import lrange"
   ]
  },
  {
   "cell_type": "code",
   "execution_count": 9,
   "metadata": {
    "collapsed": false
   },
   "outputs": [],
   "source": [
    "from collections import namedtuple"
   ]
  },
  {
   "cell_type": "code",
   "execution_count": 10,
   "metadata": {
    "collapsed": false
   },
   "outputs": [],
   "source": [
    "from invisible_cities.reco.params import S12Params, ThresholdParams, CalibratedSum, PMaps"
   ]
  },
  {
   "cell_type": "code",
   "execution_count": 11,
   "metadata": {
    "collapsed": false
   },
   "outputs": [],
   "source": [
    "from   invisible_cities.core.mpl_functions import circles"
   ]
  },
  {
   "cell_type": "code",
   "execution_count": 12,
   "metadata": {
    "collapsed": false
   },
   "outputs": [],
   "source": [
    "from invisible_cities.reco.pmaps_functions   import read_pmaps, read_run_and_event_from_pmaps_file"
   ]
  },
  {
   "cell_type": "code",
   "execution_count": 13,
   "metadata": {
    "collapsed": false
   },
   "outputs": [],
   "source": [
    "from invisible_cities.reco.pmaps_functions_c import df_to_pmaps_dict, df_to_s2si_dict"
   ]
  },
  {
   "cell_type": "code",
   "execution_count": 14,
   "metadata": {
    "collapsed": false
   },
   "outputs": [],
   "source": [
    "from   invisible_cities.cities.irene import Irene, IRENE"
   ]
  },
  {
   "cell_type": "code",
   "execution_count": 48,
   "metadata": {
    "collapsed": true
   },
   "outputs": [],
   "source": [
    "%load_ext Cython"
   ]
  },
  {
   "cell_type": "markdown",
   "metadata": {
    "collapsed": false
   },
   "source": [
    "## Case 1: electrons of 40 keV"
   ]
  },
  {
   "cell_type": "code",
   "execution_count": 24,
   "metadata": {
    "collapsed": false
   },
   "outputs": [],
   "source": [
    "#RWF_file = os.environ['IC_DATA']  + '/database/test_data/electrons_40keV_z250_RWF.h5'\n",
    "RWF_file = os.environ['ICDIR']  + '/database/test_data/electrons_40keV_z250_RWF.h5'\n",
    "PMAP_file = os.environ['IC_DATA']  + '/electrons_40keV_z250_PMAP.h5'\n",
    "h5rwf = False"
   ]
  },
  {
   "cell_type": "code",
   "execution_count": 25,
   "metadata": {
    "collapsed": false
   },
   "outputs": [],
   "source": [
    "if h5rwf:\n",
    "    h5rwf.close()"
   ]
  },
  {
   "cell_type": "code",
   "execution_count": 26,
   "metadata": {
    "collapsed": false
   },
   "outputs": [],
   "source": [
    "h5rwf = tb.open_file(RWF_file,'r')"
   ]
  },
  {
   "cell_type": "markdown",
   "metadata": {
    "collapsed": false
   },
   "source": [
    "### pmtrwf and sipmrwf vectors"
   ]
  },
  {
   "cell_type": "code",
   "execution_count": 27,
   "metadata": {
    "collapsed": false
   },
   "outputs": [],
   "source": [
    "pmtrwf, pmtblr, sipmrwf = tbl.get_vectors(h5rwf)"
   ]
  },
  {
   "cell_type": "code",
   "execution_count": 28,
   "metadata": {
    "collapsed": false
   },
   "outputs": [
    {
     "name": "stdout",
     "output_type": "stream",
     "text": [
      "\n",
      "        Number of events in file = 10\n",
      "        Number of PMTs = 12\n",
      "        PMTWL = 32000\n",
      "        Number of SiPMs = 1792\n",
      "        SiPMWL = 800\n",
      "      \n"
     ]
    }
   ],
   "source": [
    "NEVT, NPMT, PMTWL = pmtrwf.shape\n",
    "NEVT, NSIPM, SIPMWL = sipmrwf.shape\n",
    "print(\"\"\"\n",
    "        Number of events in file = {}\n",
    "        Number of PMTs = {}\n",
    "        PMTWL = {}\n",
    "        Number of SiPMs = {}\n",
    "        SiPMWL = {}\n",
    "      \"\"\".format(NEVT, NPMT, PMTWL,NSIPM, SIPMWL))"
   ]
  },
  {
   "cell_type": "markdown",
   "metadata": {
    "collapsed": false
   },
   "source": [
    "### Access to data base and definition of units"
   ]
  },
  {
   "cell_type": "code",
   "execution_count": 29,
   "metadata": {
    "collapsed": false
   },
   "outputs": [],
   "source": [
    "DataPMT = load_db.DataPMT(0)\n",
    "adc_to_pes = abs(DataPMT.adc_to_pes.values)\n",
    "coeff_c = abs(DataPMT.coeff_c.values)\n",
    "coeff_blr = abs(DataPMT.coeff_blr.values)\n",
    "DataSiPM = load_db.DataSiPM()\n",
    "adc_to_pes_sipm = DataSiPM.adc_to_pes.values\n",
    "xs = DataSiPM.X.values\n",
    "ys = DataSiPM.Y.values"
   ]
  },
  {
   "cell_type": "code",
   "execution_count": 31,
   "metadata": {
    "collapsed": false
   },
   "outputs": [
    {
     "data": {
      "text/html": [
       "<div>\n",
       "<table border=\"1\" class=\"dataframe\">\n",
       "  <thead>\n",
       "    <tr style=\"text-align: right;\">\n",
       "      <th></th>\n",
       "      <th>SensorID</th>\n",
       "      <th>ChannelID</th>\n",
       "      <th>PmtID</th>\n",
       "      <th>Active</th>\n",
       "      <th>X</th>\n",
       "      <th>Y</th>\n",
       "      <th>coeff_blr</th>\n",
       "      <th>coeff_c</th>\n",
       "      <th>adc_to_pes</th>\n",
       "      <th>noise_rms</th>\n",
       "      <th>Sigma</th>\n",
       "    </tr>\n",
       "  </thead>\n",
       "  <tbody>\n",
       "    <tr>\n",
       "      <th>0</th>\n",
       "      <td>0</td>\n",
       "      <td>0</td>\n",
       "      <td>PMT1</td>\n",
       "      <td>1</td>\n",
       "      <td>-23.9414</td>\n",
       "      <td>65.7785</td>\n",
       "      <td>0.001632</td>\n",
       "      <td>0.000003</td>\n",
       "      <td>-24.3395</td>\n",
       "      <td>0.7060</td>\n",
       "      <td>7.73100</td>\n",
       "    </tr>\n",
       "    <tr>\n",
       "      <th>1</th>\n",
       "      <td>1</td>\n",
       "      <td>18</td>\n",
       "      <td>PMT3</td>\n",
       "      <td>1</td>\n",
       "      <td>-44.9951</td>\n",
       "      <td>-53.6231</td>\n",
       "      <td>0.001632</td>\n",
       "      <td>0.000003</td>\n",
       "      <td>-24.8580</td>\n",
       "      <td>0.8744</td>\n",
       "      <td>8.82000</td>\n",
       "    </tr>\n",
       "    <tr>\n",
       "      <th>2</th>\n",
       "      <td>2</td>\n",
       "      <td>1</td>\n",
       "      <td>PMT2</td>\n",
       "      <td>1</td>\n",
       "      <td>68.9365</td>\n",
       "      <td>-12.1554</td>\n",
       "      <td>0.001611</td>\n",
       "      <td>0.000003</td>\n",
       "      <td>-26.2934</td>\n",
       "      <td>0.7213</td>\n",
       "      <td>8.01375</td>\n",
       "    </tr>\n",
       "    <tr>\n",
       "      <th>3</th>\n",
       "      <td>3</td>\n",
       "      <td>19</td>\n",
       "      <td>PMT4</td>\n",
       "      <td>1</td>\n",
       "      <td>0.0000</td>\n",
       "      <td>185.0000</td>\n",
       "      <td>0.001599</td>\n",
       "      <td>0.000003</td>\n",
       "      <td>-26.4110</td>\n",
       "      <td>0.7624</td>\n",
       "      <td>8.42224</td>\n",
       "    </tr>\n",
       "    <tr>\n",
       "      <th>4</th>\n",
       "      <td>4</td>\n",
       "      <td>27</td>\n",
       "      <td>PMTC</td>\n",
       "      <td>1</td>\n",
       "      <td>-118.9160</td>\n",
       "      <td>141.7180</td>\n",
       "      <td>0.001567</td>\n",
       "      <td>0.000003</td>\n",
       "      <td>-26.7098</td>\n",
       "      <td>0.7921</td>\n",
       "      <td>6.23125</td>\n",
       "    </tr>\n",
       "    <tr>\n",
       "      <th>5</th>\n",
       "      <td>5</td>\n",
       "      <td>26</td>\n",
       "      <td>PMTB</td>\n",
       "      <td>1</td>\n",
       "      <td>-182.1890</td>\n",
       "      <td>32.1249</td>\n",
       "      <td>0.001650</td>\n",
       "      <td>0.000004</td>\n",
       "      <td>-22.4456</td>\n",
       "      <td>0.8660</td>\n",
       "      <td>5.65180</td>\n",
       "    </tr>\n",
       "    <tr>\n",
       "      <th>6</th>\n",
       "      <td>6</td>\n",
       "      <td>9</td>\n",
       "      <td>PMTA</td>\n",
       "      <td>1</td>\n",
       "      <td>-160.2150</td>\n",
       "      <td>-92.5000</td>\n",
       "      <td>0.001593</td>\n",
       "      <td>0.000003</td>\n",
       "      <td>-23.3552</td>\n",
       "      <td>0.7062</td>\n",
       "      <td>7.37840</td>\n",
       "    </tr>\n",
       "    <tr>\n",
       "      <th>7</th>\n",
       "      <td>7</td>\n",
       "      <td>8</td>\n",
       "      <td>PMT9</td>\n",
       "      <td>1</td>\n",
       "      <td>-63.2737</td>\n",
       "      <td>-173.8430</td>\n",
       "      <td>0.001612</td>\n",
       "      <td>0.000003</td>\n",
       "      <td>-33.8821</td>\n",
       "      <td>0.7278</td>\n",
       "      <td>11.94840</td>\n",
       "    </tr>\n",
       "    <tr>\n",
       "      <th>8</th>\n",
       "      <td>8</td>\n",
       "      <td>23</td>\n",
       "      <td>PMT8</td>\n",
       "      <td>1</td>\n",
       "      <td>63.2737</td>\n",
       "      <td>-173.8430</td>\n",
       "      <td>0.001601</td>\n",
       "      <td>0.000003</td>\n",
       "      <td>-21.8220</td>\n",
       "      <td>0.7303</td>\n",
       "      <td>6.11073</td>\n",
       "    </tr>\n",
       "    <tr>\n",
       "      <th>9</th>\n",
       "      <td>9</td>\n",
       "      <td>22</td>\n",
       "      <td>PMT7</td>\n",
       "      <td>1</td>\n",
       "      <td>160.2150</td>\n",
       "      <td>-92.5000</td>\n",
       "      <td>0.001593</td>\n",
       "      <td>0.000003</td>\n",
       "      <td>-25.8020</td>\n",
       "      <td>0.7160</td>\n",
       "      <td>7.46200</td>\n",
       "    </tr>\n",
       "    <tr>\n",
       "      <th>10</th>\n",
       "      <td>10</td>\n",
       "      <td>5</td>\n",
       "      <td>PMT6</td>\n",
       "      <td>1</td>\n",
       "      <td>182.1890</td>\n",
       "      <td>32.1249</td>\n",
       "      <td>0.001575</td>\n",
       "      <td>0.000003</td>\n",
       "      <td>-19.5590</td>\n",
       "      <td>0.7323</td>\n",
       "      <td>4.85470</td>\n",
       "    </tr>\n",
       "    <tr>\n",
       "      <th>11</th>\n",
       "      <td>11</td>\n",
       "      <td>4</td>\n",
       "      <td>PMT5</td>\n",
       "      <td>1</td>\n",
       "      <td>118.9160</td>\n",
       "      <td>141.7180</td>\n",
       "      <td>0.001596</td>\n",
       "      <td>0.000003</td>\n",
       "      <td>-22.1970</td>\n",
       "      <td>0.7206</td>\n",
       "      <td>6.00400</td>\n",
       "    </tr>\n",
       "  </tbody>\n",
       "</table>\n",
       "</div>"
      ],
      "text/plain": [
       "    SensorID  ChannelID PmtID  Active         X         Y  coeff_blr  \\\n",
       "0          0          0  PMT1       1  -23.9414   65.7785   0.001632   \n",
       "1          1         18  PMT3       1  -44.9951  -53.6231   0.001632   \n",
       "2          2          1  PMT2       1   68.9365  -12.1554   0.001611   \n",
       "3          3         19  PMT4       1    0.0000  185.0000   0.001599   \n",
       "4          4         27  PMTC       1 -118.9160  141.7180   0.001567   \n",
       "5          5         26  PMTB       1 -182.1890   32.1249   0.001650   \n",
       "6          6          9  PMTA       1 -160.2150  -92.5000   0.001593   \n",
       "7          7          8  PMT9       1  -63.2737 -173.8430   0.001612   \n",
       "8          8         23  PMT8       1   63.2737 -173.8430   0.001601   \n",
       "9          9         22  PMT7       1  160.2150  -92.5000   0.001593   \n",
       "10        10          5  PMT6       1  182.1890   32.1249   0.001575   \n",
       "11        11          4  PMT5       1  118.9160  141.7180   0.001596   \n",
       "\n",
       "     coeff_c  adc_to_pes  noise_rms     Sigma  \n",
       "0   0.000003    -24.3395     0.7060   7.73100  \n",
       "1   0.000003    -24.8580     0.8744   8.82000  \n",
       "2   0.000003    -26.2934     0.7213   8.01375  \n",
       "3   0.000003    -26.4110     0.7624   8.42224  \n",
       "4   0.000003    -26.7098     0.7921   6.23125  \n",
       "5   0.000004    -22.4456     0.8660   5.65180  \n",
       "6   0.000003    -23.3552     0.7062   7.37840  \n",
       "7   0.000003    -33.8821     0.7278  11.94840  \n",
       "8   0.000003    -21.8220     0.7303   6.11073  \n",
       "9   0.000003    -25.8020     0.7160   7.46200  \n",
       "10  0.000003    -19.5590     0.7323   4.85470  \n",
       "11  0.000003    -22.1970     0.7206   6.00400  "
      ]
     },
     "execution_count": 31,
     "metadata": {},
     "output_type": "execute_result"
    }
   ],
   "source": [
    "DataPMT"
   ]
  },
  {
   "cell_type": "code",
   "execution_count": 72,
   "metadata": {
    "collapsed": false
   },
   "outputs": [],
   "source": [
    "%%cython\n",
    "cimport numpy as np\n",
    "import  numpy as np\n",
    "from scipy import signal\n",
    "import invisible_cities.core.mpl_functions as mpl\n",
    "import matplotlib.pyplot as plt\n",
    "\n",
    "cpdef calibrated_pmt_sum(double [:, :]  CWF,\n",
    "                         double [:]     adc_to_pes,\n",
    "                         list           pmt_active = [],\n",
    "                         int            n_MAU = 100,\n",
    "                         double         thr_MAU =   3):\n",
    "    \"\"\"\n",
    "    Computes the ZS calibrated sum of the PMTs\n",
    "    after correcting the baseline with a MAU to suppress low frequency noise.\n",
    "    input:\n",
    "    CWF:    Corrected waveform (passed by BLR)\n",
    "    adc_to_pes: a vector with calibration constants\n",
    "    pmt_active: a list of active PMTs\n",
    "    n_MAU:  length of the MAU window\n",
    "    thr_MAU: treshold above MAU to select sample\n",
    "\n",
    "    \"\"\"\n",
    "\n",
    "    cdef int j, k\n",
    "    cdef int NPMT = CWF.shape[0]\n",
    "    cdef int NWF  = CWF.shape[1]\n",
    "    cdef double [:] MAU = np.array(np.ones(n_MAU),\n",
    "                                   dtype = np.double) * (1 / n_MAU)\n",
    "\n",
    "\n",
    "    # CWF if above MAU threshold\n",
    "    cdef double [:, :] pmt_thr  = np.zeros((NPMT,NWF), dtype=np.double)\n",
    "    cdef double [:]    csum     = np.zeros(      NWF , dtype=np.double)\n",
    "    cdef double [:]    csum_mau = np.zeros(      NWF , dtype=np.double)\n",
    "    cdef double [:]    MAU_pmt  = np.zeros(      NWF , dtype=np.double)\n",
    "\n",
    "    cdef list PMT = list(range(NPMT))\n",
    "    if len(pmt_active) > 0:\n",
    "        PMT = pmt_active\n",
    "\n",
    "    print(PMT)\n",
    "    for j in PMT:\n",
    "        # MAU for each of the PMTs, following the waveform\n",
    "        MAU_pmt = signal.lfilter(MAU, 1, CWF[j,:])\n",
    "        #plt.plot( MAU_pmt)\n",
    "        #plt.show()\n",
    "        for k in range(NWF):\n",
    "            if CWF[j,k] >= MAU_pmt[k] + thr_MAU: # >= not >: found testing!\n",
    "                pmt_thr[j,k] = CWF[j,k]\n",
    "                \n",
    "   \n",
    "    \n",
    "    \n",
    "    mpl.plot_pmt_signals_vs_time_mus(pmt_thr,\n",
    "                                 pmt_active,\n",
    "                                 t_min      =    0,\n",
    "                                 t_max      = 800,\n",
    "                                 signal_min =    0,\n",
    "                                 signal_max =  100)\n",
    "    plt.show()\n",
    "\n",
    "    mpl.plot_pmt_signals_vs_time_mus(CWF,\n",
    "                                 pmt_active,\n",
    "                                 t_min      =    0,\n",
    "                                 t_max      = 800,\n",
    "                                 signal_min =    0,\n",
    "                                 signal_max =  100)\n",
    "    plt.show()\n",
    "\n",
    "    print(PMT)\n",
    "    print(NWF)\n",
    "    for j in PMT:\n",
    "        print(adc_to_pes[j])\n",
    "    for j in PMT:\n",
    "        for k in range(NWF):\n",
    "            csum_mau[k] += pmt_thr[j, k] * 1 / adc_to_pes[j]\n",
    "            csum[k] += CWF[j, k] * 1 / adc_to_pes[j]\n",
    "    \n",
    "    mpl.plot_signal_vs_time_mus(csum,\n",
    "                                t_min=0, t_max=800,\n",
    "                                signal_min=0, signal_max=60,\n",
    "                                label='CSUM')\n",
    " \n",
    "\n",
    "    return np.asarray(csum), np.asarray(csum_mau)"
   ]
  },
  {
   "cell_type": "code",
   "execution_count": 81,
   "metadata": {
    "collapsed": true
   },
   "outputs": [],
   "source": [
    "def compute_csum_and_pmaps(pmtrwf, sipmrwf, s1par, s2par, thresholds,\n",
    "                           event, calib_vectors, deconv_params):\n",
    "    \"\"\"Compute calibrated sum and PMAPS.\n",
    "\n",
    "    :param pmtrwf: PMTs RWF\n",
    "    :param sipmrwf: SiPMs RWF\n",
    "    :param s1par: parameters for S1 search (S12Params namedtuple)\n",
    "    :param s2par: parameters for S2 search (S12Params namedtuple)\n",
    "    :param thresholds: thresholds for searches (ThresholdParams namedtuple)\n",
    "                       ('ThresholdParams',\n",
    "                        'thr_s1 thr_s2 thr_MAU thr_sipm thr_SIPM')\n",
    "    :param pmt_active: a list specifying the active (not dead) pmts\n",
    "                       in the event. An empty list implies all active.\n",
    "    :param n_baseline:  number of samples taken to compute baseline\n",
    "    :param thr_trigger: threshold to start the BLR process\n",
    "    :param event: event number\n",
    "\n",
    "    :returns: a nametuple of calibrated sum and a namedtuple of PMAPS\n",
    "    \"\"\"\n",
    "    s1_params = s1par\n",
    "    s2_params = s2par\n",
    "    thr = thresholds\n",
    "\n",
    "    adc_to_pes = calib_vectors.adc_to_pes\n",
    "    coeff_c    = calib_vectors.coeff_c\n",
    "    coeff_blr  = calib_vectors.coeff_blr\n",
    "    adc_to_pes_sipm = calib_vectors.adc_to_pes_sipm\n",
    "    pmt_active = calib_vectors.pmt_active\n",
    "\n",
    "    # deconv\n",
    "    CWF = blr.deconv_pmt(pmtrwf[event], coeff_c, coeff_blr,\n",
    "                         pmt_active  = pmt_active,\n",
    "                         n_baseline  = deconv_params.n_baseline,\n",
    "                         thr_trigger = deconv_params.thr_trigger)\n",
    "\n",
    "    # calibrated sum\n",
    "    csum, csum_mau = cpf.calibrated_pmt_sum(CWF,\n",
    "                                            adc_to_pes,\n",
    "                                            pmt_active  = pmt_active,\n",
    "                                            n_MAU       = 100,\n",
    "                                            thr_MAU     = thr.thr_MAU)\n",
    "\n",
    "    # zs sum\n",
    "    s2_ene, s2_indx = cpf.wfzs(csum, threshold=thr.thr_s2)\n",
    "    s1_ene, s1_indx = cpf.wfzs(csum_mau, threshold=thr.thr_s1)\n",
    "\n",
    "    # S1 and S2\n",
    "    S1 = cpf.find_S12(s1_ene, s1_indx, **s1_params._asdict())\n",
    "    S2 = cpf.find_S12(s2_ene, s2_indx, **s2_params._asdict())\n",
    "\n",
    "    #S2Si\n",
    "    sipm = cpf.signal_sipm(sipmrwf[event], adc_to_pes_sipm,\n",
    "                           thr=thr.thr_sipm, n_MAU=100)\n",
    "    SIPM = cpf.select_sipm(sipm)\n",
    "    S2Si = pf.sipm_s2_dict(SIPM, S2, thr=thr.thr_SIPM)\n",
    "    return (CalibratedSum(csum=csum, csum_mau=csum_mau),\n",
    "            PMaps(S1=S1, S2=S2, S2Si=S2Si))\n"
   ]
  },
  {
   "cell_type": "code",
   "execution_count": 82,
   "metadata": {
    "collapsed": false
   },
   "outputs": [],
   "source": [
    "def pmaps_electrons(electron_RWF_file):\n",
    "    event = 0\n",
    "    run_number = 0\n",
    "\n",
    "    s1par = S12Params(tmin   =  99 * units.mus,\n",
    "                      tmax   = 101 * units.mus,\n",
    "                      lmin   =   4,\n",
    "                      lmax   =  20,\n",
    "                      stride =   4,\n",
    "                      rebin  = False)\n",
    "\n",
    "\n",
    "    s2par = S12Params(tmin   =    101 * units.mus,\n",
    "                      tmax   =   1199 * units.mus,\n",
    "                      lmin   =     80,\n",
    "                      lmax   = 200000,\n",
    "                      stride =     40,\n",
    "                      rebin  = True)\n",
    "\n",
    "    thr = ThresholdParams(thr_s1   =  0.2 * units.pes,\n",
    "                          thr_s2   =  1   * units.pes,\n",
    "                          thr_MAU  =  3   * units.adc,\n",
    "                          thr_sipm =  5   * units.pes,\n",
    "                          thr_SIPM = 30   * units.pes )\n",
    "\n",
    "\n",
    "    with tb.open_file(electron_RWF_file,'r') as h5rwf:\n",
    "        pmtrwf, pmtblr, sipmrwf = tbl.get_vectors(h5rwf)\n",
    "        DataPMT = load_db.DataPMT(run_number)\n",
    "        DataSiPM = load_db.DataSiPM(run_number)\n",
    "\n",
    "        calib = CalibVectors(channel_id = DataPMT.ChannelID.values,\n",
    "                             coeff_blr = abs(DataPMT.coeff_blr   .values),\n",
    "                             coeff_c = abs(DataPMT.coeff_c   .values),\n",
    "                             adc_to_pes = DataPMT.adc_to_pes.values*(-1),\n",
    "                             adc_to_pes_sipm = DataSiPM.adc_to_pes.values,\n",
    "                             pmt_active = np.nonzero(DataPMT.Active.values)[0].tolist())\n",
    "\n",
    "        deconv = DeconvParams(n_baseline = 28000,\n",
    "                              thr_trigger = 5)\n",
    "\n",
    "        csum, pmp = compute_csum_and_pmaps(pmtrwf,\n",
    "                                              sipmrwf,\n",
    "                                              s1par,\n",
    "                                              s2par,\n",
    "                                              thr,\n",
    "                                              event,\n",
    "                                              calib,\n",
    "                                              deconv)\n",
    "\n",
    "    return pmp, csum\n"
   ]
  },
  {
   "cell_type": "code",
   "execution_count": 83,
   "metadata": {
    "collapsed": false
   },
   "outputs": [],
   "source": [
    "pmp, csum = pmaps_electrons(RWF_file)"
   ]
  },
  {
   "cell_type": "code",
   "execution_count": 84,
   "metadata": {
    "collapsed": false
   },
   "outputs": [
    {
     "data": {
      "image/png": "[encoded data removed]",
      "text/plain": [
       "<matplotlib.figure.Figure at 0x7f93c69c3278>"
      ]
     },
     "metadata": {},
     "output_type": "display_data"
    }
   ],
   "source": [
    "mpl.plot_calibrated_sum_in_mus(csum,\n",
    "                               tmin=0, tmax=800,\n",
    "                               signal_min=-5, signal_max=100,\n",
    "                               csum=True, csum_mau=False)"
   ]
  },
  {
   "cell_type": "code",
   "execution_count": null,
   "metadata": {
    "collapsed": true
   },
   "outputs": [],
   "source": []
  },
  {
   "cell_type": "markdown",
   "metadata": {
    "collapsed": false
   },
   "source": [
    "**Run over one event**"
   ]
  },
  {
   "cell_type": "code",
   "execution_count": null,
   "metadata": {
    "collapsed": false
   },
   "outputs": [],
   "source": [
    "event = 0\n",
    "BLR = pmtblr[event]\n",
    "RWF = pmtrwf[event]"
   ]
  },
  {
   "cell_type": "markdown",
   "metadata": {
    "collapsed": false
   },
   "source": [
    "## The full pre-proc "
   ]
  },
  {
   "cell_type": "code",
   "execution_count": null,
   "metadata": {
    "collapsed": false
   },
   "outputs": [],
   "source": [
    "s1par = S12P(tmin=90*units.mus, tmax=110*units.mus, lmin=4, lmax=20, stride=4, rebin=False)\n",
    "s2par = S12P(tmin=110*units.mus, tmax=1190*units.mus, lmin=80, lmax=200000, stride=40, rebin=True)\n",
    "thresholds = ThresholdParams(thr_s1=0.2*units.pes, \n",
    "                     thr_s2=1*units.pes, \n",
    "                     thr_MAU=3*units.adc, \n",
    "                     thr_sipm=5*units.pes, \n",
    "                     thr_SIPM=20*units.pes )"
   ]
  },
  {
   "cell_type": "code",
   "execution_count": null,
   "metadata": {
    "collapsed": false
   },
   "outputs": [],
   "source": [
    "CSUM, P = pf.compute_csum_and_pmaps(pmtrwf, sipmrwf, s1par, s2par, thresholds, event)"
   ]
  },
  {
   "cell_type": "code",
   "execution_count": null,
   "metadata": {
    "collapsed": false
   },
   "outputs": [],
   "source": [
    "CSUM"
   ]
  },
  {
   "cell_type": "code",
   "execution_count": null,
   "metadata": {
    "collapsed": false
   },
   "outputs": [],
   "source": [
    "P"
   ]
  },
  {
   "cell_type": "code",
   "execution_count": null,
   "metadata": {
    "collapsed": false
   },
   "outputs": [],
   "source": [
    "P.S2"
   ]
  },
  {
   "cell_type": "code",
   "execution_count": null,
   "metadata": {
    "collapsed": false
   },
   "outputs": [],
   "source": [
    "P.S2Si"
   ]
  },
  {
   "cell_type": "code",
   "execution_count": null,
   "metadata": {
    "collapsed": false
   },
   "outputs": [],
   "source": [
    "for nsipm in P.S2Si[0]:\n",
    "    assert len(P.S2Si[0][nsipm]) == len(P.S2[0][0])"
   ]
  },
  {
   "cell_type": "code",
   "execution_count": null,
   "metadata": {
    "collapsed": false
   },
   "outputs": [],
   "source": [
    "pmf.scan_s12(P.S1)"
   ]
  },
  {
   "cell_type": "code",
   "execution_count": null,
   "metadata": {
    "collapsed": false
   },
   "outputs": [],
   "source": [
    "pmf.scan_s12(P.S2)"
   ]
  },
  {
   "cell_type": "code",
   "execution_count": null,
   "metadata": {
    "collapsed": false
   },
   "outputs": [],
   "source": [
    "P.S2Si"
   ]
  },
  {
   "cell_type": "markdown",
   "metadata": {
    "collapsed": false
   },
   "source": [
    "#### Plot SiPMs"
   ]
  },
  {
   "cell_type": "code",
   "execution_count": null,
   "metadata": {
    "collapsed": false
   },
   "outputs": [],
   "source": [
    "pmf.plot_s2si_map(P.S2Si)"
   ]
  },
  {
   "cell_type": "code",
   "execution_count": null,
   "metadata": {
    "collapsed": false
   },
   "outputs": [],
   "source": [
    "pmf.scan_s2si_map(P.S2Si)"
   ]
  },
  {
   "cell_type": "markdown",
   "metadata": {
    "collapsed": false
   },
   "source": [
    "### Write to disk"
   ]
  },
  {
   "cell_type": "code",
   "execution_count": null,
   "metadata": {
    "collapsed": false
   },
   "outputs": [],
   "source": [
    "with pmap_writer(PMAP_file) as write:\n",
    "    for event in range(10):\n",
    "        timestamp = int(time.time())\n",
    "        CSUM, P = compute_pmp(pmtrwf, s1par, s2par, thr, event)\n",
    "        S1 = S12(P.S1)\n",
    "        S2 = S12(P.S2)\n",
    "        Si = S2Si(P.S2Si)\n",
    "        write(0, event, timestamp, S1, S2, Si)"
   ]
  },
  {
   "cell_type": "markdown",
   "metadata": {
    "collapsed": false
   },
   "source": [
    "### Read back"
   ]
  },
  {
   "cell_type": "code",
   "execution_count": null,
   "metadata": {
    "collapsed": false
   },
   "outputs": [],
   "source": [
    "s1df, s2df, s2sidf = read_pmaps(PMAP_file)\n",
    "rundf, evtdf = read_run_and_event_from_pmaps_file(PMAP_file)"
   ]
  },
  {
   "cell_type": "code",
   "execution_count": null,
   "metadata": {
    "collapsed": false
   },
   "outputs": [],
   "source": [
    "rundf"
   ]
  },
  {
   "cell_type": "code",
   "execution_count": null,
   "metadata": {
    "collapsed": false
   },
   "outputs": [],
   "source": [
    "evtdf"
   ]
  },
  {
   "cell_type": "code",
   "execution_count": null,
   "metadata": {
    "collapsed": false
   },
   "outputs": [],
   "source": [
    "evts_out = evtdf.evt_number.values"
   ]
  },
  {
   "cell_type": "code",
   "execution_count": null,
   "metadata": {
    "collapsed": false
   },
   "outputs": [],
   "source": [
    "evts_out"
   ]
  },
  {
   "cell_type": "code",
   "execution_count": null,
   "metadata": {
    "collapsed": false
   },
   "outputs": [],
   "source": []
  },
  {
   "cell_type": "code",
   "execution_count": null,
   "metadata": {
    "collapsed": false
   },
   "outputs": [],
   "source": [
    "S1L = df_to_pmaps_dict(s1df)\n",
    "S2L = df_to_pmaps_dict(s2df)\n",
    "S2SiL = df_to_s2si_dict(s2sidf)"
   ]
  },
  {
   "cell_type": "code",
   "execution_count": null,
   "metadata": {
    "collapsed": false
   },
   "outputs": [],
   "source": [
    "S1L"
   ]
  },
  {
   "cell_type": "code",
   "execution_count": null,
   "metadata": {
    "collapsed": false
   },
   "outputs": [],
   "source": [
    "S2L"
   ]
  },
  {
   "cell_type": "code",
   "execution_count": null,
   "metadata": {
    "collapsed": false
   },
   "outputs": [],
   "source": [
    "S2SiL"
   ]
  },
  {
   "cell_type": "markdown",
   "metadata": {
    "collapsed": false
   },
   "source": [
    "### Check data"
   ]
  },
  {
   "cell_type": "code",
   "execution_count": null,
   "metadata": {
    "collapsed": false
   },
   "outputs": [],
   "source": [
    "for event in range(10):\n",
    "    CSUM, P = compute_pmp(pmtrwf, s1par, s2par, thr, event)\n",
    "   \n",
    "    if P.S1:\n",
    "        s1p = S1L[event]\n",
    "        for peak_number in s1p:\n",
    "            np.testing.assert_allclose(s1p[peak_number].t, P.S1[peak_number][0])\n",
    "            np.testing.assert_allclose(s1p[peak_number].E, P.S1[peak_number][1])\n",
    "   \n",
    "    if P.S2:\n",
    "        s1p = S2L[event]\n",
    "        for peak_number in s1p:\n",
    "            np.testing.assert_allclose(s1p[peak_number].t, P.S2[peak_number][0])\n",
    "            np.testing.assert_allclose(s1p[peak_number].E, P.S2[peak_number][1])\n",
    "\n",
    "    if P.S2Si:\n",
    "        s1p = S2SiL[event]\n",
    "        for peak_number in s1p:\n",
    "            sipm = s1p[peak_number]\n",
    "            sipm2 = P.S2Si[peak_number]\n",
    "            for nsipm in sipm:\n",
    "                np.testing.assert_allclose(sipm[nsipm], sipm2[nsipm])\n",
    "\n"
   ]
  },
  {
   "cell_type": "markdown",
   "metadata": {
    "collapsed": false
   },
   "source": [
    "### Test running of IRENE"
   ]
  },
  {
   "cell_type": "code",
   "execution_count": null,
   "metadata": {
    "collapsed": false
   },
   "outputs": [],
   "source": [
    "PATH_IN = os.path.join(os.environ['ICDIR'],\n",
    "              'database/test_data/',\n",
    "              'run_2983.h5')\n",
    "PATH_OUT = os.path.join(os.environ['IC_DATA'],\n",
    "              'run_2983_pmaps.h5')\n",
    "#PATH_IN = os.path.join(os.environ['IC_DATA'],'LSC/2980/run_2980.gdc1next.000.next1el_2980.root.h5')\n",
    "#PATH_OUT = os.path.join(os.environ['IC_DATA'],'run_2980_pmaps.h5')\n",
    "conf_file = os.path.join(os.environ['IC_CONFIG'],'irene_Kr2983.conf')\n",
    "nrequired, nactual, _ = IRENE(['IRENE',\n",
    "                                   '-c', conf_file,\n",
    "                                   '-i', PATH_IN,\n",
    "                                   '-o', PATH_OUT,\n",
    "                                   '-n', '5',\n",
    "                                   '-r', '2983'])\n",
    "if nrequired > 0:\n",
    "    assert nrequired == nactual\n"
   ]
  },
  {
   "cell_type": "code",
   "execution_count": null,
   "metadata": {
    "collapsed": false
   },
   "outputs": [],
   "source": [
    "h5in = tb.open_file(PATH_IN,  mode='r')"
   ]
  },
  {
   "cell_type": "code",
   "execution_count": null,
   "metadata": {
    "collapsed": false
   },
   "outputs": [],
   "source": [
    "h5in.root.Run.runInfo[:][0][0]"
   ]
  },
  {
   "cell_type": "code",
   "execution_count": null,
   "metadata": {
    "collapsed": false
   },
   "outputs": [],
   "source": [
    "h5in.root.Run.events[:]"
   ]
  },
  {
   "cell_type": "code",
   "execution_count": null,
   "metadata": {
    "collapsed": false
   },
   "outputs": [],
   "source": [
    "rundf, evtdf = read_run_and_event_from_pmaps_file(PATH_OUT)"
   ]
  },
  {
   "cell_type": "code",
   "execution_count": null,
   "metadata": {
    "collapsed": false
   },
   "outputs": [],
   "source": [
    "evts_out = evtdf.evt_number.values"
   ]
  },
  {
   "cell_type": "code",
   "execution_count": null,
   "metadata": {
    "collapsed": false
   },
   "outputs": [],
   "source": [
    "evts_out"
   ]
  },
  {
   "cell_type": "code",
   "execution_count": null,
   "metadata": {
    "collapsed": false
   },
   "outputs": [],
   "source": [
    "tsout_out = evtdf.timestamp.values"
   ]
  },
  {
   "cell_type": "code",
   "execution_count": null,
   "metadata": {
    "collapsed": false
   },
   "outputs": [],
   "source": [
    "tsout_out"
   ]
  },
  {
   "cell_type": "code",
   "execution_count": null,
   "metadata": {
    "collapsed": false
   },
   "outputs": [],
   "source": [
    "rundf.run_number[0]"
   ]
  },
  {
   "cell_type": "code",
   "execution_count": null,
   "metadata": {
    "collapsed": false
   },
   "outputs": [],
   "source": [
    "evt_in = h5in.root.Run.events[:]\n",
    "evts_in = []\n",
    "ts_in = []\n",
    "for e in evt_in:\n",
    "    evts_in.append(e[0])\n",
    "    ts_in.append(e[1])\n",
    "print(evts_in)\n",
    "print(ts_in)"
   ]
  },
  {
   "cell_type": "code",
   "execution_count": null,
   "metadata": {
    "collapsed": false
   },
   "outputs": [],
   "source": [
    "np.testing.assert_array_equal(evts_in, evts_out)"
   ]
  },
  {
   "cell_type": "code",
   "execution_count": null,
   "metadata": {
    "collapsed": false
   },
   "outputs": [],
   "source": [
    "evt_in"
   ]
  },
  {
   "cell_type": "code",
   "execution_count": null,
   "metadata": {
    "collapsed": false
   },
   "outputs": [],
   "source": [
    "evts_in = []\n",
    "for e in evt_in:\n",
    "    evts_in.append(e[0])\n",
    "print(evts_in)"
   ]
  },
  {
   "cell_type": "code",
   "execution_count": null,
   "metadata": {
    "collapsed": false
   },
   "outputs": [],
   "source": [
    "h5in.close()"
   ]
  },
  {
   "cell_type": "markdown",
   "metadata": {
    "collapsed": false
   },
   "source": [
    "End of notebook"
   ]
  }
 ],
 "metadata": {
  "anaconda-cloud": {},
  "kernelspec": {
   "display_name": "Python 3",
   "language": "python",
   "name": "python3"
  },
  "language_info": {
   "codemirror_mode": {
    "name": "ipython",
    "version": 3
   },
   "file_extension": ".py",
   "mimetype": "text/x-python",
   "name": "python",
   "nbconvert_exporter": "python",
   "pygments_lexer": "ipython3",
   "version": "3.6.0"
  }
 },
 "nbformat": 4,
 "nbformat_minor": 0
}
