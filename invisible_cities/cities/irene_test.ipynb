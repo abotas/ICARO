{
 "cells": [
  {
   "cell_type": "markdown",
   "metadata": {
    "collapsed": false
   },
   "source": [
    "# IRENE-tests"
   ]
  },
  {
   "cell_type": "markdown",
   "metadata": {
    "collapsed": false
   },
   "source": [
    "Draft of tests for Irene-related functions"
   ]
  },
  {
   "cell_type": "markdown",
   "metadata": {
    "collapsed": false
   },
   "source": [
    "This notebook describes the city of IRENE, which carries the so-called preprocessing of the data, leading to PMAPS.\n",
    "\n",
    "authors: J.J. Gomez-Cadenas\n"
   ]
  },
  {
   "cell_type": "code",
   "execution_count": null,
   "metadata": {
    "collapsed": false
   },
   "outputs": [],
   "source": [
    "import datetime"
   ]
  },
  {
   "cell_type": "code",
   "execution_count": null,
   "metadata": {
    "collapsed": false
   },
   "outputs": [],
   "source": [
    "print(datetime.datetime.now().strftime('%Y-%m-%d %H:%M:%S'))"
   ]
  },
  {
   "cell_type": "code",
   "execution_count": null,
   "metadata": {
    "collapsed": false
   },
   "outputs": [],
   "source": [
    "from __future__ import print_function\n",
    "import sys\n",
    "import os\n",
    "from glob import glob\n",
    "from time import time"
   ]
  },
  {
   "cell_type": "code",
   "execution_count": null,
   "metadata": {
    "collapsed": false
   },
   "outputs": [],
   "source": [
    "%matplotlib inline\n",
    "%load_ext autoreload\n",
    "%autoreload 2\n",
    "import matplotlib.pyplot as plt\n",
    "import pandas as pd\n",
    "import tables as tb\n",
    "import numpy as np\n",
    "import math\n"
   ]
  },
  {
   "cell_type": "code",
   "execution_count": null,
   "metadata": {
    "collapsed": false
   },
   "outputs": [],
   "source": [
    "from invisible_cities.database import load_db\n",
    "from invisible_cities.core.system_of_units_c import SystemOfUnits\n",
    "import invisible_cities.sierpe.blr as blr\n",
    "import invisible_cities.core.mpl_functions as mpl\n",
    "import invisible_cities.core.wfm_functions as wfm\n",
    "import invisible_cities.core.tbl_functions as tbl\n",
    "import invisible_cities.core.peak_functions_c as cpf\n",
    "import invisible_cities.core.pmaps_functions as pf\n",
    "import invisible_cities.core.sensor_functions as sf"
   ]
  },
  {
   "cell_type": "code",
   "execution_count": null,
   "metadata": {
    "collapsed": false
   },
   "outputs": [],
   "source": [
    "from invisible_cities.core.core_functions import define_window"
   ]
  },
  {
   "cell_type": "markdown",
   "metadata": {
    "collapsed": false
   },
   "source": [
    "## Preproc Steps\n",
    "\n",
    "**Irene takes care of the following chores**\n",
    "\n",
    "1. Deconvolute RWF\n",
    "2. Compute calibrated sum of PMTs (including MAU threshold)\n",
    "3. Zero Suppression (ZS) in PMTs\n",
    "4. S1 search (analysis specific)\n",
    "5. S2 search (analysis specific) and rebin\n",
    "6. ZS in SiPMs\n",
    "7. Select S2 in ZS SiPMs \n",
    "\n",
    "For fast pre-proc, all the above steps must be computed on the fly (e.g, minimal access to disk) and\n",
    "using pre-compiled (cython) functions in calculation-intensive parts (loops)"
   ]
  },
  {
   "cell_type": "markdown",
   "metadata": {
    "collapsed": false
   },
   "source": [
    "### Input files "
   ]
  },
  {
   "cell_type": "markdown",
   "metadata": {
    "collapsed": false
   },
   "source": [
    "Required files (in $ICDIR/database/test_data)\n",
    "1. **electrons_40keV_z250_RWF.h5** "
   ]
  },
  {
   "cell_type": "markdown",
   "metadata": {
    "collapsed": false
   },
   "source": [
    "### Output files"
   ]
  },
  {
   "cell_type": "markdown",
   "metadata": {
    "collapsed": false
   },
   "source": [
    "Will be writen in temporary dir\n",
    "\n",
    "1. **electrons_40keV_z250_PMAP.h5** \n"
   ]
  },
  {
   "cell_type": "markdown",
   "metadata": {
    "collapsed": false
   },
   "source": [
    "## Case 1: electrons of 40 keV"
   ]
  },
  {
   "cell_type": "code",
   "execution_count": null,
   "metadata": {
    "collapsed": false
   },
   "outputs": [],
   "source": [
    "RWF_file = os.environ['ICDIR']  + '/database/test_data/electrons_40keV_z250_RWF.h5'\n",
    "PMAP_file = os.environ['IC_DATA']  + '/electrons_40keV_z250_PMAP_TMP.h5'"
   ]
  },
  {
   "cell_type": "code",
   "execution_count": null,
   "metadata": {
    "collapsed": false
   },
   "outputs": [],
   "source": [
    "h5rwf = tb.open_file(RWF_file,'r+')"
   ]
  },
  {
   "cell_type": "markdown",
   "metadata": {
    "collapsed": false
   },
   "source": [
    "### pmtrwf and sipmrwf vectors"
   ]
  },
  {
   "cell_type": "markdown",
   "metadata": {
    "collapsed": false
   },
   "source": [
    "To get vectors use **get_vectors(file)** in tbl_functions"
   ]
  },
  {
   "cell_type": "code",
   "execution_count": null,
   "metadata": {
    "collapsed": false
   },
   "outputs": [],
   "source": [
    "pmtrwf, pmtblr, sipmrwf = tbl.get_vectors(h5rwf)"
   ]
  },
  {
   "cell_type": "code",
   "execution_count": null,
   "metadata": {
    "collapsed": false
   },
   "outputs": [],
   "source": [
    "NEVT, NPMT, PMTWL = pmtrwf.shape\n",
    "NEVT, NSIPM, SIPMWL = sipmrwf.shape\n",
    "print(\"\"\"\n",
    "        Number of events in file = {}\n",
    "        Number of PMTs = {}\n",
    "        PMTWL = {}\n",
    "        Number of SiPMs = {}\n",
    "        SiPMWL = {}\n",
    "      \"\"\".format(NEVT, NPMT, PMTWL,NSIPM, SIPMWL))"
   ]
  },
  {
   "cell_type": "markdown",
   "metadata": {
    "collapsed": false
   },
   "source": [
    "### Access to data base and definition of units"
   ]
  },
  {
   "cell_type": "code",
   "execution_count": null,
   "metadata": {
    "collapsed": false
   },
   "outputs": [],
   "source": [
    "DataPMT = load_db.DataPMT()\n",
    "units = SystemOfUnits()\n",
    "adc_to_pes = abs(DataPMT.adc_to_pes.values)\n",
    "coeff_c = abs(DataPMT.coeff_c.values)\n",
    "coeff_blr = abs(DataPMT.coeff_blr.values)\n",
    "DataSiPM = load_db.DataSiPM()\n",
    "adc_to_pes_sipm = DataSiPM.adc_to_pes.values\n",
    "xs = DataSiPM.X.values\n",
    "ys = DataSiPM.Y.values"
   ]
  },
  {
   "cell_type": "markdown",
   "metadata": {
    "collapsed": false
   },
   "source": [
    "### Step 1: Deconvolution (from RWF to CWF)"
   ]
  },
  {
   "cell_type": "code",
   "execution_count": null,
   "metadata": {
    "collapsed": false
   },
   "outputs": [],
   "source": [
    "def cwf_from_rwf(pmtrwf, event_list, run_number=0, n_baseline=28000, thr_trigger=5):\n",
    "    \"\"\"Compute CWF from RWF\"\"\"\n",
    "    DataPMT = load_db.DataPMT(run_number)\n",
    "    coeff_c = DataPMT.coeff_c.values.astype(np.double)\n",
    "    coeff_blr = DataPMT.coeff_blr.values.astype(np.double)\n",
    "    \n",
    "    CWF=[]\n",
    "    for event in event_list:\n",
    "        CWF.append(blr.deconv_pmt(pmtrwf[event], coeff_c, coeff_blr,\n",
    "                             n_baseline=n_baseline, \n",
    "                             thr_trigger=thr_trigger))\n",
    "    return CWF\n",
    "    "
   ]
  },
  {
   "cell_type": "code",
   "execution_count": null,
   "metadata": {
    "collapsed": false
   },
   "outputs": [],
   "source": [
    "CWF = cwf_from_rwf(pmtrwf, range(NEVT))"
   ]
  },
  {
   "cell_type": "code",
   "execution_count": null,
   "metadata": {
    "collapsed": false
   },
   "outputs": [],
   "source": [
    "wfm.plot_wfa_wfb(pmtblr[0], CWF[0], zoom=True, window_size=200)"
   ]
  },
  {
   "cell_type": "code",
   "execution_count": null,
   "metadata": {
    "collapsed": false
   },
   "outputs": [],
   "source": []
  },
  {
   "cell_type": "code",
   "execution_count": null,
   "metadata": {
    "collapsed": false
   },
   "outputs": [],
   "source": [
    "def compare_cwf_blr(cwf, pmtblr, event_list, window_size=500):\n",
    "    \"\"\" Compute CWF  deconvoluting input RWF and compare with BLR.\"\"\"\n",
    "\n",
    "\n",
    "    DIFF = []\n",
    "    for event in event_list:\n",
    "        CWF = cwf[event]\n",
    "        BLR = pmtblr[event]\n",
    "\n",
    "        for i in range(len(BLR)):\n",
    "            t0, t1 = define_window(BLR[i], window_size)\n",
    "\n",
    "            diff = abs(np.sum(BLR[i][t0:t1]) - np.sum(CWF[i][t0:t1]))\n",
    "            diff = 100. * diff/np.sum(BLR)\n",
    "            DIFF.append(diff)\n",
    "    \n",
    "    return np.array(DIFF)"
   ]
  },
  {
   "cell_type": "code",
   "execution_count": null,
   "metadata": {
    "collapsed": false
   },
   "outputs": [],
   "source": [
    "def compare_cwf_blr_test():\n",
    "    \"\"\"Compare BLR and CWF\"\"\"\n",
    "    RWF_file = os.environ['ICDIR']  + '/database/test_data/electrons_40keV_z250_RWF.h5'\n",
    "    PMAP_file = os.environ['IC_DATA']  + '/electrons_40keV_z250_PMAP_TMP.h5'\n",
    "    h5rwf = tb.open_file(RWF_file,'r+')\n",
    "    pmtrwf, pmtblr, sipmrwf = tbl.get_vectors(h5rwf)\n",
    "    NEVT, NPMT, PMTWL = pmtrwf.shape\n",
    "    \n",
    "    CWF = cwf_from_rwf(pmtrwf, event_list=range(NEVT))\n",
    "    diff = compare_cwf_blr(CWF, pmtblr, event_list=range(NEVT), window_size=200)\n",
    "    \n",
    "    for d in diff:\n",
    "        assert d < 0.1\n",
    "    \n",
    "    return diff\n",
    "    "
   ]
  },
  {
   "cell_type": "code",
   "execution_count": null,
   "metadata": {
    "collapsed": false
   },
   "outputs": [],
   "source": [
    "diff = compare_cwf_blr_test()"
   ]
  },
  {
   "cell_type": "code",
   "execution_count": null,
   "metadata": {
    "collapsed": false
   },
   "outputs": [],
   "source": [
    "    mpl.histo(diff, nbins=10, \n",
    "          title=\"diff BLR-CWF\", xlabel=\"abs(e[blr] - e[cwf])\", ylabel=\"Frequency\")"
   ]
  },
  {
   "cell_type": "markdown",
   "metadata": {
    "collapsed": false
   },
   "source": [
    "### Step 2: calibrated PMT sum"
   ]
  },
  {
   "cell_type": "markdown",
   "metadata": {
    "collapsed": false
   },
   "source": [
    "#### The PMTs of the energy plane are calibrated (dividing by calibration constants) and added. "
   ]
  },
  {
   "cell_type": "code",
   "execution_count": null,
   "metadata": {
    "collapsed": false
   },
   "outputs": [],
   "source": [
    "event=0\n",
    "t0 = time()\n",
    "CWF = blr.deconv_pmt(RWF, coeff_c, coeff_blr)\n",
    "csum = cpf.calibrated_pmt_sum(CWF, adc_to_pes, n_MAU=100, thr_MAU=3) \n",
    "t1 = time()        \n",
    "dt = t1 - t0\n",
    "\n",
    "print(\"run over  one event  in {} s\".format(dt))"
   ]
  },
  {
   "cell_type": "code",
   "execution_count": null,
   "metadata": {
    "collapsed": false
   },
   "outputs": [],
   "source": [
    "tstep = 25\n",
    "signal_t = np.arange(0., PMTWL * tstep, tstep)"
   ]
  },
  {
   "cell_type": "code",
   "execution_count": null,
   "metadata": {
    "collapsed": false
   },
   "outputs": [],
   "source": [
    "mpl.plot_signal(signal_t/units.mus, csum, title=\"calibrated sum\",\n",
    "                signal_start=50, signal_end=150, \n",
    "                ymax = 150, \n",
    "                t_units='mus', units=\"pes\")"
   ]
  },
  {
   "cell_type": "code",
   "execution_count": null,
   "metadata": {
    "collapsed": false
   },
   "outputs": [],
   "source": [
    "mpl.plot_signal(signal_t/units.mus, csum, title=\"calibrated sum\",\n",
    "                signal_start=99, signal_end=101, \n",
    "                ymax = 3, t_units='mus', units=\"pes\")"
   ]
  },
  {
   "cell_type": "markdown",
   "metadata": {
    "collapsed": false
   },
   "source": [
    "S1 is very weak. A cut on 1.5 pes would completely kill the signal. "
   ]
  },
  {
   "cell_type": "code",
   "execution_count": null,
   "metadata": {
    "collapsed": false
   },
   "outputs": [],
   "source": [
    "mpl.plot_signal(signal_t/units.mus, csum, title=\"calibrated sum\",\n",
    "                signal_start=120, signal_end=130, \n",
    "                ymax = 150, \n",
    "                t_units='mus', units=\"pes\")"
   ]
  },
  {
   "cell_type": "markdown",
   "metadata": {
    "collapsed": false
   },
   "source": [
    "S2 shows the effect of the EL grid. The width of S2 is of the order of 3 mus (width of the grid). "
   ]
  },
  {
   "cell_type": "markdown",
   "metadata": {
    "collapsed": false
   },
   "source": [
    "### Step 3: Zero suppression"
   ]
  },
  {
   "cell_type": "markdown",
   "metadata": {
    "collapsed": false
   },
   "source": [
    "A cut on 0.5 pes is set in the calibrated sum to maximize S1 efficiency"
   ]
  },
  {
   "cell_type": "code",
   "execution_count": null,
   "metadata": {
    "collapsed": false
   },
   "outputs": [],
   "source": [
    "event = 0\n",
    "t0 = time()\n",
    "CWF = blr.deconv_pmt(pmtrwf[event], coeff_c, coeff_blr)\n",
    "csum = cpf.calibrated_pmt_sum(CWF, adc_to_pes, n_MAU=100, thr_MAU=3) \n",
    "wfzs_ene, wfzs_indx = cpf.wfzs(csum, threshold=0.5*units.pes)\n",
    "wfzs_t = cpf.time_from_index(wfzs_indx)\n",
    "t1 = time()        \n",
    "dt = t1 - t0\n",
    "\n",
    "print(\"run  in {} s\".format(dt))"
   ]
  },
  {
   "cell_type": "code",
   "execution_count": null,
   "metadata": {
    "collapsed": false
   },
   "outputs": [],
   "source": [
    "mpl.plot_signal(wfzs_t/units.mus, wfzs_ene, title=\"calibrated sum, ZS\",\n",
    "                signal_start=120, signal_end=130, \n",
    "                ymax = 150, \n",
    "                t_units='mus', units=\"pes\")"
   ]
  },
  {
   "cell_type": "code",
   "execution_count": null,
   "metadata": {
    "collapsed": false
   },
   "outputs": [],
   "source": [
    "mpl.plot_signal(wfzs_t/units.mus, wfzs_ene, title=\"calibrated sum\",\n",
    "                signal_start=99, signal_end=101, \n",
    "                ymax = 3, t_units='mus', units=\"pes\")"
   ]
  },
  {
   "cell_type": "markdown",
   "metadata": {
    "collapsed": false
   },
   "source": [
    "### Step 4: Find S12 "
   ]
  },
  {
   "cell_type": "markdown",
   "metadata": {
    "collapsed": false
   },
   "source": [
    "**S1 and S2 signals are found from the ZS waveform**\n",
    "\n",
    "1. S1: Search the first 600 mus (in the MC S1 is always at 100 mus but not in the data). The S1 signal must be at least 100 ns long (this is the minimum length of S1 after the shaping of the electronics) and not larger than 500 ns. The stride counts the number of bins that need to have signal. A stride of 4 means that there must be at least 0.5 pes each 100 ns (4 x 25 ns, where 25 ns is the DAQ sampling time). \n",
    "\n",
    "2. Search in the whole window (in the MC data, S2 can be anywhere after 100 mus, in the data it will tipically be placed in the middle of the DAQ window, thus one would search in the range [600, 1200] ns. The minimum length is 120 bins (120 x 25 = 3000 ns), no limit in the max length of the signal is not restricted (in order to avoid a bias, but one could further select the signal with a max width cut), the stride is taken to 40 (1 mus) and the signal is rebinned also in bins of 1 mus"
   ]
  },
  {
   "cell_type": "code",
   "execution_count": null,
   "metadata": {
    "collapsed": false
   },
   "outputs": [],
   "source": [
    "event = 0\n",
    "t0 = time()\n",
    "CWF = blr.deconv_pmt(pmtrwf[event], coeff_c, coeff_blr)\n",
    "csum = cpf.calibrated_pmt_sum(CWF, adc_to_pes, n_MAU=100, thr_MAU=3) \n",
    "wfzs_ene, wfzs_indx = cpf.wfzs(csum, threshold=0.5*units.pes)\n",
    "wfzs_t = cpf.time_from_index(wfzs_indx)\n",
    "S1 = cpf.find_S12(wfzs_ene, wfzs_indx, tmin=0,  tmax=590*units.mus, \n",
    "                 lmin=4, lmax=20, stride=4,\n",
    "                 rebin=False)\n",
    "S2 = cpf.find_S12(wfzs_ene, wfzs_indx, tmin=0*units.mus,  tmax=1100*units.mus, \n",
    "                 lmin=100, lmax=1000000, stride=40,\n",
    "                 rebin=True, rebin_stride=40)\n",
    "t1 = time()        \n",
    "dt = t1 - t0\n",
    "\n",
    "print(\"run  in {} s\".format(dt))"
   ]
  },
  {
   "cell_type": "code",
   "execution_count": null,
   "metadata": {
    "collapsed": false
   },
   "outputs": [],
   "source": [
    "mpl.plot_signal(wfzs_t/units.mus, wfzs_ene, title=\"calibrated sum\",\n",
    "                signal_start=99, signal_end=101, \n",
    "                ymax = 3, t_units='mus', units=\"pes\")"
   ]
  },
  {
   "cell_type": "markdown",
   "metadata": {
    "collapsed": false
   },
   "source": [
    "#### S1 and and S2 signals"
   ]
  },
  {
   "cell_type": "code",
   "execution_count": null,
   "metadata": {
    "collapsed": false
   },
   "outputs": [],
   "source": [
    "S1"
   ]
  },
  {
   "cell_type": "markdown",
   "metadata": {
    "collapsed": false
   },
   "source": [
    "#### S1 is empty (signal too weak for this event)"
   ]
  },
  {
   "cell_type": "code",
   "execution_count": null,
   "metadata": {
    "collapsed": false
   },
   "outputs": [],
   "source": [
    "S2"
   ]
  },
  {
   "cell_type": "markdown",
   "metadata": {
    "collapsed": false
   },
   "source": [
    "There is one S2 in this event. The format of S2 is:\n",
    "\n",
    "**{s2_number:[array(T), array(E)]}**\n",
    "\n",
    "where the ZS waveform is expressed by the list **[array(T), array(E)]**"
   ]
  },
  {
   "cell_type": "markdown",
   "metadata": {
    "collapsed": false
   },
   "source": [
    "#### Structure of S1/S2\n",
    "1. Dictionary index counts the number of peaks\n",
    "2. Dict values are a list [T,E], where T and E are numpy arrays of Time and Energy"
   ]
  },
  {
   "cell_type": "markdown",
   "metadata": {
    "collapsed": false
   },
   "source": [
    "#### Run the whole chain for the next event in the file (event 1)"
   ]
  },
  {
   "cell_type": "code",
   "execution_count": null,
   "metadata": {
    "collapsed": false
   },
   "outputs": [],
   "source": [
    "event = 1\n",
    "t0 = time()\n",
    "CWF = blr.deconv_pmt(pmtrwf[event], coeff_c, coeff_blr)\n",
    "csum = cpf.calibrated_pmt_sum(CWF, adc_to_pes, n_MAU=100, thr_MAU=3) \n",
    "wfzs_ene, wfzs_indx = cpf.wfzs(csum, threshold=0.25*units.pes)\n",
    "wfzs_t = cpf.time_from_index(wfzs_indx)\n",
    "S1 = cpf.find_S12(wfzs_ene, wfzs_indx, tmin=0,  tmax=590*units.mus, \n",
    "                 lmin=8, lmax=20, stride=4,\n",
    "                 rebin=False)\n",
    "S2 = cpf.find_S12(wfzs_ene, wfzs_indx, tmin=0*units.mus,  tmax=1100*units.mus, \n",
    "                 lmin=100, lmax=1000000, stride=40,\n",
    "                 rebin=True, rebin_stride=40)\n",
    "t1 = time()        \n",
    "dt = t1 - t0\n",
    "\n",
    "print(\"run  in {} s\".format(dt))"
   ]
  },
  {
   "cell_type": "code",
   "execution_count": null,
   "metadata": {
    "collapsed": false
   },
   "outputs": [],
   "source": [
    "mpl.plot_signal(wfzs_t/units.mus, wfzs_ene, title=\"calibrated sum\",\n",
    "                signal_start=99, signal_end=101, \n",
    "                ymax = 3, t_units='mus', units=\"pes\")"
   ]
  },
  {
   "cell_type": "code",
   "execution_count": null,
   "metadata": {
    "collapsed": false
   },
   "outputs": [],
   "source": [
    "S1"
   ]
  },
  {
   "cell_type": "code",
   "execution_count": null,
   "metadata": {
    "collapsed": false
   },
   "outputs": [],
   "source": [
    "plt.plot(S1[0][0],S1[0][1])"
   ]
  },
  {
   "cell_type": "markdown",
   "metadata": {
    "collapsed": false
   },
   "source": [
    "Number of photoelectrons in S1"
   ]
  },
  {
   "cell_type": "code",
   "execution_count": null,
   "metadata": {
    "collapsed": false
   },
   "outputs": [],
   "source": [
    "np.sum(S1[0][1])"
   ]
  },
  {
   "cell_type": "code",
   "execution_count": null,
   "metadata": {
    "collapsed": false
   },
   "outputs": [],
   "source": [
    "plt.plot(S2[0][0],S2[0][1])"
   ]
  },
  {
   "cell_type": "markdown",
   "metadata": {
    "collapsed": false
   },
   "source": [
    "Number of photoelectrons in S2"
   ]
  },
  {
   "cell_type": "code",
   "execution_count": null,
   "metadata": {
    "collapsed": false
   },
   "outputs": [],
   "source": [
    "np.sum(S2[0][1])"
   ]
  },
  {
   "cell_type": "markdown",
   "metadata": {
    "collapsed": false
   },
   "source": [
    "Width"
   ]
  },
  {
   "cell_type": "code",
   "execution_count": null,
   "metadata": {
    "collapsed": false
   },
   "outputs": [],
   "source": [
    "(S2[0][0][-1] - S2[0][0][0]) / units.mus"
   ]
  },
  {
   "cell_type": "code",
   "execution_count": null,
   "metadata": {
    "collapsed": false
   },
   "outputs": [],
   "source": [
    "pf.scan_s12(S1)"
   ]
  },
  {
   "cell_type": "code",
   "execution_count": null,
   "metadata": {
    "collapsed": false
   },
   "outputs": [],
   "source": [
    "pf.scan_s12(S2)"
   ]
  },
  {
   "cell_type": "markdown",
   "metadata": {
    "collapsed": false
   },
   "source": [
    "### SiPMs"
   ]
  },
  {
   "cell_type": "markdown",
   "metadata": {
    "collapsed": false
   },
   "source": [
    "In the case of MC Many of the SiPMs will contain exact zeros, since they had been ZS already at DIOMIRA level. For example, if we plot the first 16 SiPMs, we can see they are all exactly zero."
   ]
  },
  {
   "cell_type": "markdown",
   "metadata": {
    "collapsed": false
   },
   "source": [
    "Find SiPMs with signal: the threshold is set to 1 adc count to simply get rid of all SiPMs which have exactly zero signal (the output of DIOMIRA is already ZS)"
   ]
  },
  {
   "cell_type": "code",
   "execution_count": null,
   "metadata": {
    "collapsed": false
   },
   "outputs": [],
   "source": [
    "event=1\n",
    "sipm_i = sf.sipm_with_signal(sipmrwf[event], thr=1*units.adc) "
   ]
  },
  {
   "cell_type": "code",
   "execution_count": null,
   "metadata": {
    "collapsed": false
   },
   "outputs": [],
   "source": [
    "sipm_i"
   ]
  },
  {
   "cell_type": "code",
   "execution_count": null,
   "metadata": {
    "collapsed": false
   },
   "outputs": [],
   "source": [
    "sf.plot_sipm_list(sipmrwf[event], sipm_i)"
   ]
  },
  {
   "cell_type": "markdown",
   "metadata": {
    "collapsed": false
   },
   "source": [
    "### Subtract baseline, and set a cut to supress dark current"
   ]
  },
  {
   "cell_type": "markdown",
   "metadata": {
    "collapsed": false
   },
   "source": [
    "in the MC the data comes already ZS. In data one needs to set a cut in order to ZS the SiPMs. "
   ]
  },
  {
   "cell_type": "code",
   "execution_count": null,
   "metadata": {
    "collapsed": false
   },
   "outputs": [],
   "source": [
    "event=1\n",
    "t0 = time()\n",
    "sipm = cpf.signal_sipm(sipmrwf[event], adc_to_pes_sipm, thr=25*units.pes, n_MAU=100)\n",
    "SIPM = cpf.select_sipm(sipm)\n",
    "t1 = time()        \n",
    "dt = t1 - t0\n",
    "\n",
    "print(\"run in {} s\".format(dt))\n",
    "print('number of SiPM with signal = {}'.format(len(SIPM)))"
   ]
  },
  {
   "cell_type": "markdown",
   "metadata": {
    "collapsed": false
   },
   "source": [
    "### PMAPS"
   ]
  },
  {
   "cell_type": "markdown",
   "metadata": {
    "collapsed": false
   },
   "source": [
    "#### Structure of a PMAP\n",
    "1. S1 and S2 are dictionaries: each dictionary index is one S1/S2 candidate. Each dictionary value is a list which contains two elements. Element [0] is a np vector of times, element[1] is a np vector of energies in pes.\n",
    "2. S2Si is a dictionary. Each index correspond to the S2 index. Each value is a list, whose length is equal to the number of SiPM with no zero signal in the S2 window. The list has as a first element the SiPM index and as a second the energy of each SiPM in the S2 window. Time is not neeeded (comes with S2)."
   ]
  },
  {
   "cell_type": "markdown",
   "metadata": {
    "collapsed": false
   },
   "source": [
    "#### S2 window\n",
    "1. Given an S2 (T,E), obtain the relevant index range. \n",
    "2. Given a vector with SIPMs (energies above threshold), returns\n",
    "    a list of np arrays. Each element of the list is the S2 window \n",
    "    in the SiPM (if not zero)\n",
    "3. Given a vector with SIPMs (energies above threshold), and a \n",
    "    dictionary of S2s, S2d, returns a dictionary of SiPMs-S2.\n",
    "    Each index of the dictionary correspond to one S2 and is\n",
    "    a list of np arrays. Each element of the list is the S2 window \n",
    "    in the SiPM (if not zero)"
   ]
  },
  {
   "cell_type": "markdown",
   "metadata": {
    "collapsed": false
   },
   "source": [
    "## The full pre-proc "
   ]
  },
  {
   "cell_type": "code",
   "execution_count": null,
   "metadata": {
    "collapsed": false
   },
   "outputs": [],
   "source": [
    "event = 1\n",
    "t0 = time()\n",
    "CWF = blr.deconv_pmt(pmtrwf[event], coeff_c, coeff_blr)\n",
    "csum = cpf.calibrated_pmt_sum(CWF, adc_to_pes, n_MAU=100, thr_MAU=3) \n",
    "wfzs_ene, wfzs_indx = cpf.wfzs(csum, threshold=0.5*units.pes)\n",
    "wfzs_t = cpf.time_from_index(wfzs_indx)\n",
    "S1 = cpf.find_S12(wfzs_ene, wfzs_indx, tmin=0,  tmax=590*units.mus, \n",
    "                 lmin=6, lmax=20, stride=4,\n",
    "                 rebin=False)\n",
    "S2 = cpf.find_S12(wfzs_ene, wfzs_indx, tmin=0*units.mus,  tmax=1190*units.mus, \n",
    "                 lmin=100, lmax=1000000, stride=40,\n",
    "                 rebin=True, rebin_stride=40)\n",
    "sipm = cpf.signal_sipm(sipmrwf[event], adc_to_pes_sipm, thr=25*units.pes, n_MAU=100)\n",
    "SIPM = cpf.select_sipm(sipm)\n",
    "S2Si = pf.sipm_s2_dict(SIPM, S2, thr=25*units.pes)\n",
    "t1 = time()        \n",
    "dt = t1 - t0\n",
    "    \n",
    "print(\"run in {} s\".format(dt))"
   ]
  },
  {
   "cell_type": "markdown",
   "metadata": {
    "collapsed": false
   },
   "source": [
    "#### Plot SiPMs"
   ]
  },
  {
   "cell_type": "code",
   "execution_count": null,
   "metadata": {
    "collapsed": false
   },
   "outputs": [],
   "source": [
    "def scan_SIPM(SIPM):\n",
    "    for i in range(4):\n",
    "        for j in range(1):\n",
    "            print('SIPM[{}][{}] = {}'.format(i,j, SIPM[i][j]))"
   ]
  },
  {
   "cell_type": "code",
   "execution_count": null,
   "metadata": {
    "collapsed": false
   },
   "outputs": [],
   "source": [
    "scan_SIPM(SIPM)"
   ]
  },
  {
   "cell_type": "code",
   "execution_count": null,
   "metadata": {
    "collapsed": false
   },
   "outputs": [],
   "source": [
    "sipm_i = sf.sipm_with_signal(sipmrwf[event], thr=1*units.adc) "
   ]
  },
  {
   "cell_type": "code",
   "execution_count": null,
   "metadata": {
    "collapsed": false
   },
   "outputs": [],
   "source": [
    "sipm_i"
   ]
  },
  {
   "cell_type": "code",
   "execution_count": null,
   "metadata": {
    "collapsed": false
   },
   "outputs": [],
   "source": [
    "sf.plot_sensor_list_ene_map(sipmrwf[event], sipm_i, stype='SiPM')"
   ]
  },
  {
   "cell_type": "code",
   "execution_count": null,
   "metadata": {
    "collapsed": false
   },
   "outputs": [],
   "source": [
    "S2"
   ]
  },
  {
   "cell_type": "code",
   "execution_count": null,
   "metadata": {
    "collapsed": false
   },
   "outputs": [],
   "source": [
    "S2Si"
   ]
  },
  {
   "cell_type": "code",
   "execution_count": null,
   "metadata": {
    "collapsed": false
   },
   "outputs": [],
   "source": [
    "pf.plot_s2si_map(S2Si)"
   ]
  },
  {
   "cell_type": "markdown",
   "metadata": {
    "collapsed": false
   },
   "source": [
    "## Case 2: electrons of 511 keV"
   ]
  },
  {
   "cell_type": "code",
   "execution_count": null,
   "metadata": {
    "collapsed": false
   },
   "outputs": [],
   "source": [
    "RWF_file = os.environ['IC_DATA']  + '/electrons_511keV_z250_RWF.h5'\n",
    "PMAP_file = os.environ['IC_DATA']  + '/electrons_511keV_z250_PMAP.h5'"
   ]
  },
  {
   "cell_type": "code",
   "execution_count": null,
   "metadata": {
    "collapsed": false
   },
   "outputs": [],
   "source": [
    "if h5rwf:\n",
    "    h5rwf.close()"
   ]
  },
  {
   "cell_type": "code",
   "execution_count": null,
   "metadata": {
    "collapsed": false
   },
   "outputs": [],
   "source": [
    "h5rwf = tb.open_file(RWF_file,'r+')"
   ]
  },
  {
   "cell_type": "code",
   "execution_count": null,
   "metadata": {
    "collapsed": false
   },
   "outputs": [],
   "source": [
    "pmtrwf, pmtblr, sipmrwf = tbl.get_vectors(h5rwf)"
   ]
  },
  {
   "cell_type": "code",
   "execution_count": null,
   "metadata": {
    "collapsed": false
   },
   "outputs": [],
   "source": [
    "event = 0\n",
    "BLR = pmtblr[event]\n",
    "RWF = pmtrwf[event]"
   ]
  },
  {
   "cell_type": "code",
   "execution_count": null,
   "metadata": {
    "collapsed": false
   },
   "outputs": [],
   "source": [
    "event=0\n",
    "t0 = time()\n",
    "CWF = blr.deconv_pmt(RWF, coeff_c, coeff_blr)\n",
    "csum = cpf.calibrated_pmt_sum(CWF, adc_to_pes, n_MAU=100, thr_MAU=3) \n",
    "t1 = time()        \n",
    "dt = t1 - t0\n",
    "\n",
    "print(\"run over  one event  in {} s\".format(dt))"
   ]
  },
  {
   "cell_type": "code",
   "execution_count": null,
   "metadata": {
    "collapsed": false
   },
   "outputs": [],
   "source": [
    "mpl.plot_signal(signal_t/units.mus, csum, title=\"calibrated sum\",\n",
    "                signal_start=0, signal_end=400, \n",
    "                ymax = 350, \n",
    "                t_units='mus', units=\"pes\")"
   ]
  },
  {
   "cell_type": "code",
   "execution_count": null,
   "metadata": {
    "collapsed": false
   },
   "outputs": [],
   "source": [
    "mpl.plot_signal(signal_t/units.mus, csum, title=\"calibrated sum\",\n",
    "                signal_start=99.5, signal_end=100.5, \n",
    "                ymax = 30, \n",
    "                t_units='mus', units=\"pes\")"
   ]
  },
  {
   "cell_type": "markdown",
   "metadata": {
    "collapsed": false
   },
   "source": [
    "S1 is much stronger already. A cut on 1 pes and a width of 200 ns will be effective."
   ]
  },
  {
   "cell_type": "code",
   "execution_count": null,
   "metadata": {
    "collapsed": false
   },
   "outputs": [],
   "source": [
    "mpl.plot_signal(signal_t/units.mus, csum, title=\"calibrated sum\",\n",
    "                signal_start=300, signal_end=400, \n",
    "                ymax = 350, \n",
    "                t_units='mus', units=\"pes\")"
   ]
  },
  {
   "cell_type": "markdown",
   "metadata": {
    "collapsed": false
   },
   "source": [
    "**Parameters for 511 keV electrons**\n",
    "\n",
    "1. Cut on CSUM raised to 1 pes.\n",
    "2. Width of S1 raised to 8 samples (200 ns)"
   ]
  },
  {
   "cell_type": "code",
   "execution_count": null,
   "metadata": {
    "collapsed": false
   },
   "outputs": [],
   "source": [
    "t0 = time()\n",
    "CWF = blr.deconv_pmt(pmtrwf[event], coeff_c, coeff_blr)\n",
    "csum = cpf.calibrated_pmt_sum(CWF, adc_to_pes, n_MAU=100, thr_MAU=3) \n",
    "wfzs_ene, wfzs_indx = cpf.wfzs(csum, threshold=1.0*units.pes)\n",
    "wfzs_t = cpf.time_from_index(wfzs_indx)\n",
    "S1 = cpf.find_S12(wfzs_ene, wfzs_indx, tmin=0,  tmax=590*units.mus, \n",
    "                 lmin=8, lmax=20, stride=4,\n",
    "                 rebin=False)\n",
    "S2 = cpf.find_S12(wfzs_ene, wfzs_indx, tmin=0*units.mus,  tmax=1190*units.mus, \n",
    "                 lmin=100, lmax=1000000, stride=40,\n",
    "                 rebin=True, rebin_stride=40)\n",
    "sipm = cpf.signal_sipm(sipmrwf[event], adc_to_pes_sipm, thr=25*units.pes, n_MAU=100)\n",
    "SIPM = cpf.select_sipm(sipm)\n",
    "S2Si = pf.sipm_s2_dict(SIPM, S2, thr=25*units.pes)\n",
    "t1 = time()        \n",
    "dt = t1 - t0\n",
    "    \n",
    "print(\"run in {} s\".format(dt))"
   ]
  },
  {
   "cell_type": "code",
   "execution_count": null,
   "metadata": {
    "collapsed": false
   },
   "outputs": [],
   "source": [
    "pf.scan_s12(S1)"
   ]
  },
  {
   "cell_type": "code",
   "execution_count": null,
   "metadata": {
    "collapsed": false
   },
   "outputs": [],
   "source": [
    "pf.scan_s12(S2)"
   ]
  },
  {
   "cell_type": "code",
   "execution_count": null,
   "metadata": {
    "collapsed": false
   },
   "outputs": [],
   "source": [
    "pf.plot_s2si_map(S2Si)"
   ]
  },
  {
   "cell_type": "code",
   "execution_count": null,
   "metadata": {
    "collapsed": false
   },
   "outputs": [],
   "source": [
    "pf.scan_s2si_map(S2Si)"
   ]
  },
  {
   "cell_type": "markdown",
   "metadata": {
    "collapsed": false
   },
   "source": [
    "## Case 3: electrons of 1250 keV"
   ]
  },
  {
   "cell_type": "code",
   "execution_count": null,
   "metadata": {
    "collapsed": false
   },
   "outputs": [],
   "source": []
  },
  {
   "cell_type": "code",
   "execution_count": null,
   "metadata": {
    "collapsed": false
   },
   "outputs": [],
   "source": []
  }
 ],
 "metadata": {
  "anaconda-cloud": {},
  "kernelspec": {
   "display_name": "Python [conda env:IC3.5]",
   "language": "python",
   "name": "conda-env-IC3.5-py"
  },
  "language_info": {
   "codemirror_mode": {
    "name": "ipython",
    "version": 3
   },
   "file_extension": ".py",
   "mimetype": "text/x-python",
   "name": "python",
   "nbconvert_exporter": "python",
   "pygments_lexer": "ipython3",
   "version": "3.5.2"
  }
 },
 "nbformat": 4,
 "nbformat_minor": 0
}
