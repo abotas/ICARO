{
 "cells": [
  {
   "cell_type": "markdown",
   "metadata": {
    "collapsed": false
   },
   "source": [
    "# Irene-run"
   ]
  },
  {
   "cell_type": "markdown",
   "metadata": {
    "collapsed": false
   },
   "source": [
    "## Run irene for Kr MC events"
   ]
  },
  {
   "cell_type": "code",
   "execution_count": null,
   "metadata": {
    "collapsed": false
   },
   "outputs": [],
   "source": [
    "import datetime\n",
    "print(datetime.datetime.now().strftime('%Y-%m-%d %H:%M:%S'))"
   ]
  },
  {
   "cell_type": "code",
   "execution_count": null,
   "metadata": {
    "collapsed": false
   },
   "outputs": [],
   "source": [
    "from __future__ import print_function\n",
    "import sys\n",
    "import os\n",
    "from glob import glob\n",
    "from time import time"
   ]
  },
  {
   "cell_type": "code",
   "execution_count": null,
   "metadata": {
    "collapsed": false
   },
   "outputs": [],
   "source": [
    "import argparse"
   ]
  },
  {
   "cell_type": "code",
   "execution_count": null,
   "metadata": {
    "collapsed": false
   },
   "outputs": [],
   "source": [
    "%matplotlib inline\n",
    "%load_ext autoreload\n",
    "%autoreload 2\n",
    "import matplotlib.pyplot as plt\n",
    "import pandas as pd\n",
    "import tables as tb\n",
    "import numpy as np\n",
    "import math"
   ]
  },
  {
   "cell_type": "code",
   "execution_count": null,
   "metadata": {
    "collapsed": false
   },
   "outputs": [],
   "source": [
    "from invisible_cities.cities.irene import Irene, IRENE\n",
    "from invisible_cities.cities.base_cities import S12Params as S12P\n",
    "import invisible_cities.core.configure as conf\n",
    "from invisible_cities.core.system_of_units_c import SystemOfUnits"
   ]
  },
  {
   "cell_type": "code",
   "execution_count": null,
   "metadata": {
    "collapsed": false
   },
   "outputs": [],
   "source": [
    "units = SystemOfUnits()"
   ]
  },
  {
   "cell_type": "markdown",
   "metadata": {
    "collapsed": false
   },
   "source": [
    "#### Number of events to run, input and output files"
   ]
  },
  {
   "cell_type": "code",
   "execution_count": null,
   "metadata": {
    "collapsed": false
   },
   "outputs": [],
   "source": [
    "nevt=10\n",
    "file_in = os.environ['IC_DATA']  + '/NEXT_v0_8_09/dst_NEXT_v0_08_09_Kr_ACTIVE_5_0_7bar_RWF_10000.root.h5'\n",
    "file_out = os.environ['IC_DATA']  + '/NEXT_v0_8_09/dst_NEXT_v0_08_09_Kr_ACTIVE_5_0_7bar_PMP_{}.root.h5'.format(nevt)"
   ]
  },
  {
   "cell_type": "markdown",
   "metadata": {
    "collapsed": false
   },
   "source": [
    "### Running irene, v1: defining parameters from constructor"
   ]
  },
  {
   "cell_type": "markdown",
   "metadata": {
    "collapsed": false
   },
   "source": [
    "#### S1 and S2 pars"
   ]
  },
  {
   "cell_type": "code",
   "execution_count": null,
   "metadata": {
    "collapsed": false
   },
   "outputs": [],
   "source": [
    "s1par = S12P(tmin=99*units.mus, tmax=101*units.mus, lmin=4, lmax=20, stride=4, rebin=False)\n",
    "s2par = S12P(tmin=101*units.mus, tmax=1199*units.mus, lmin=80, lmax=200000, stride=40, rebin=True)"
   ]
  },
  {
   "cell_type": "markdown",
   "metadata": {
    "collapsed": false
   },
   "source": [
    "#### Irene instance"
   ]
  },
  {
   "cell_type": "code",
   "execution_count": null,
   "metadata": {
    "collapsed": false
   },
   "outputs": [],
   "source": [
    "files_in = glob(file_in)\n",
    "files_in.sort()\n",
    "irene = Irene(run_number  = 0,\n",
    "              files_in    = files_in,\n",
    "              file_out    = file_out,\n",
    "              compression = 'ZLIB4',\n",
    "              nprint      = 1,\n",
    "              n_baseline  = 38000,\n",
    "              thr_trigger = 5 * units.adc,\n",
    "              n_MAU       = 100,\n",
    "              thr_MAU     = 3.0*units.adc,\n",
    "              thr_csum_s1 = 0.2*units.adc,\n",
    "              thr_csum_s2 = 1.0*units.adc,\n",
    "              n_MAU_sipm  = 100,\n",
    "              thr_sipm    = 5.0*units.pes,\n",
    "              s1_params   = s1par,\n",
    "              s2_params   = s2par,\n",
    "              thr_sipm_s2 = 30*units.pes)"
   ]
  },
  {
   "cell_type": "markdown",
   "metadata": {
    "collapsed": false
   },
   "source": [
    "#### Run"
   ]
  },
  {
   "cell_type": "code",
   "execution_count": null,
   "metadata": {
    "collapsed": false
   },
   "outputs": [],
   "source": [
    "t0 = time()\n",
    "irene.run(nmax=nevt)\n",
    "t1 = time()        \n",
    "dt = t1 - t0\n",
    "\n",
    "print(\"run {} in {} s, time/event = {}\".format(nevt, dt, dt/nevt))"
   ]
  },
  {
   "cell_type": "markdown",
   "metadata": {
    "collapsed": false
   },
   "source": [
    "### Running Irene v2: defining parameters from setting functions"
   ]
  },
  {
   "cell_type": "code",
   "execution_count": null,
   "metadata": {
    "collapsed": false
   },
   "outputs": [],
   "source": [
    "irene = Irene(run_number=0)\n",
    "\n",
    "# input files\n",
    "files_in = glob(file_in)\n",
    "files_in.sort()\n",
    "irene.set_input_files(files_in)\n",
    "\n",
    "# output file\n",
    "irene.set_output_file(file_out)\n",
    "irene.set_compression('ZLIB4')\n",
    "\n",
    "# print frequency\n",
    "irene.set_print(nprint=1)\n",
    "\n",
    "# parameters of BLR\n",
    "irene.set_blr(n_baseline  = 38000,\n",
    "              thr_trigger = 5 * units.adc)\n",
    "\n",
    "# parameters of calibrated sums\n",
    "irene.set_csum(n_MAU = 100,\n",
    "               thr_MAU = 3 * units.adc,\n",
    "               thr_csum_s1 = 0.2 * units.pes,\n",
    "               thr_csum_s2 = 1.0 * units.pes)\n",
    "\n",
    "# MAU and thresholds for SiPms\n",
    "irene.set_sipm(n_MAU_sipm= 100,\n",
    "               thr_sipm=5 * units.pes)\n",
    "\n",
    "# parameters for PMAP searches\n",
    "irene.set_pmap_params(s1_params   = s1par,\n",
    "                      s2_params   = s2par,\n",
    "                      thr_sipm_s2 = 30 * units.pes)\n",
    "\n",
    "\n",
    "t0 = time()\n",
    "\n",
    "# run\n",
    "nevt = irene.run(nmax=nevt, print_empty=True)\n",
    "t1 = time()\n",
    "dt = t1 - t0\n",
    "print(\"run {} in {} s, time/event = {}\".format(nevt, dt, dt/nevt))"
   ]
  },
  {
   "cell_type": "markdown",
   "metadata": {
    "collapsed": false
   },
   "source": [
    "### Running Irene v3: from configuration file"
   ]
  },
  {
   "cell_type": "code",
   "execution_count": null,
   "metadata": {
    "collapsed": false
   },
   "outputs": [],
   "source": [
    "CONF_file = os.environ['IC_CONFIG'] + '/irene_KrMC.conf'"
   ]
  },
  {
   "cell_type": "code",
   "execution_count": null,
   "metadata": {
    "collapsed": false
   },
   "outputs": [],
   "source": [
    "CONF_file"
   ]
  },
  {
   "cell_type": "code",
   "execution_count": null,
   "metadata": {
    "collapsed": false
   },
   "outputs": [],
   "source": [
    "%less /Users/jjgomezcadenas/Projects/ICCONF/irene_KrMC.conf"
   ]
  },
  {
   "cell_type": "raw",
   "metadata": {
    "collapsed": false
   },
   "source": [
    "# set_input_files\n",
    "PATH_IN $IC_DATA/NEXT_v0_8_09/\n",
    "FILE_IN dst_NEXT_v0_08_09_Kr_ACTIVE_5_0_7bar_RWF_10000.root.h5\n",
    "\n",
    "# set_pmap_store\n",
    "PATH_OUT $IC_DATA/NEXT_v0_8_09/\n",
    "FILE_OUT dst_NEXT_v0_08_09_Kr_ACTIVE_5_0_7bar_PMP_10.root.h5\n",
    "\n",
    "# compression level\n",
    "COMPRESSION ZLIB4\n",
    "\n",
    "# irene\n",
    "RUN_NUMBER 0\n",
    "\n",
    "# set_print\n",
    "NPRINT 1\n",
    "\n",
    "# print empty events (skipped)\n",
    "PRINT_EMPTY_EVENTS 1\n",
    "\n",
    "# Set BLR for deconvolution\n",
    "NBASELINE 38000\n",
    "THR_TRIGGER 5\n",
    "\n",
    "# Set MAU for calibrated sum\n",
    "NMAU 100\n",
    "THR_MAU 3\n",
    "\n",
    "# Set thresholds for calibrated sum\n",
    "THR_CSUM_S1 0.2\n",
    "THR_CSUM_S2 1.0\n",
    "\n",
    "# Set MAU thresholds for SiPM\n",
    "NMAU_SIPM 100\n",
    "THR_SIPM 5\n",
    "\n",
    "# Set parameters to search for S1\n",
    "# Notice that in MC file S1 is in t=100 mus\n",
    "S1_TMIN 99\n",
    "S1_TMAX 101\n",
    "S1_STRIDE 4\n",
    "S1_LMIN 6\n",
    "S1_LMAX 16\n",
    "\n",
    "# Set parameters to search for S2\n",
    "S2_TMIN 101\n",
    "S2_TMAX 1199\n",
    "S2_STRIDE 40\n",
    "S2_LMIN 100\n",
    "S2_LMAX 100000\n",
    "\n",
    "# Set S2Si parameters\n",
    "THR_SIPM_S2 30\n",
    "\n",
    "# RUN\n",
    "NEVENTS 10\n",
    "RUN_ALL False"
   ]
  },
  {
   "cell_type": "code",
   "execution_count": null,
   "metadata": {
    "collapsed": false
   },
   "outputs": [],
   "source": [
    "IRENE(['IRENE', '-c', CONF_file])"
   ]
  },
  {
   "cell_type": "code",
   "execution_count": null,
   "metadata": {
    "collapsed": false
   },
   "outputs": [],
   "source": []
  }
 ],
 "metadata": {
  "anaconda-cloud": {},
  "kernelspec": {
   "display_name": "Python [conda env:IC3.5]",
   "language": "python",
   "name": "conda-env-IC3.5-py"
  },
  "language_info": {
   "codemirror_mode": {
    "name": "ipython",
    "version": 3
   },
   "file_extension": ".py",
   "mimetype": "text/x-python",
   "name": "python",
   "nbconvert_exporter": "python",
   "pygments_lexer": "ipython3",
   "version": "3.5.2"
  }
 },
 "nbformat": 4,
 "nbformat_minor": 2
}
