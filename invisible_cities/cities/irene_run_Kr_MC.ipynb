{
 "cells": [
  {
   "cell_type": "markdown",
   "metadata": {
    "collapsed": false
   },
   "source": [
    "# Irene-run"
   ]
  },
  {
   "cell_type": "markdown",
   "metadata": {
    "collapsed": false
   },
   "source": [
    "## Run irene for Kr MC events"
   ]
  },
  {
   "cell_type": "code",
   "execution_count": null,
   "metadata": {
    "collapsed": false
   },
   "outputs": [],
   "source": [
    "import datetime\n",
    "print(datetime.datetime.now().strftime('%Y-%m-%d %H:%M:%S'))"
   ]
  },
  {
   "cell_type": "code",
   "execution_count": null,
   "metadata": {
    "collapsed": false
   },
   "outputs": [],
   "source": [
    "from __future__ import print_function\n",
    "import sys\n",
    "import os\n",
    "from glob import glob\n",
    "from time import time"
   ]
  },
  {
   "cell_type": "code",
   "execution_count": null,
   "metadata": {
    "collapsed": false
   },
   "outputs": [],
   "source": [
    "import argparse"
   ]
  },
  {
   "cell_type": "code",
   "execution_count": null,
   "metadata": {
    "collapsed": false
   },
   "outputs": [],
   "source": [
    "%matplotlib inline\n",
    "%load_ext autoreload\n",
    "%autoreload 2\n",
    "import matplotlib.pyplot as plt\n",
    "import pandas as pd\n",
    "import tables as tb\n",
    "import numpy as np\n",
    "import math"
   ]
  },
  {
   "cell_type": "code",
   "execution_count": null,
   "metadata": {
    "collapsed": false
   },
   "outputs": [],
   "source": [
    "from invisible_cities.cities.irene import Irene"
   ]
  },
  {
   "cell_type": "code",
   "execution_count": null,
   "metadata": {
    "collapsed": false
   },
   "outputs": [],
   "source": [
    "from   invisible_cities.cities.irene import Irene, S12Params as S12P, IRENE"
   ]
  },
  {
   "cell_type": "code",
   "execution_count": null,
   "metadata": {
    "collapsed": false
   },
   "outputs": [],
   "source": [
    "import invisible_cities.core.configure as conf"
   ]
  },
  {
   "cell_type": "code",
   "execution_count": null,
   "metadata": {
    "collapsed": false
   },
   "outputs": [],
   "source": [
    "from invisible_cities.core.system_of_units_c import SystemOfUnits"
   ]
  },
  {
   "cell_type": "code",
   "execution_count": null,
   "metadata": {
    "collapsed": false
   },
   "outputs": [],
   "source": [
    "units = SystemOfUnits()"
   ]
  },
  {
   "cell_type": "markdown",
   "metadata": {
    "collapsed": false
   },
   "source": [
    "### Configuration file"
   ]
  },
  {
   "cell_type": "code",
   "execution_count": null,
   "metadata": {
    "collapsed": false
   },
   "outputs": [],
   "source": [
    "CONF_file = os.environ['IC_CONFIG'] + '/irene_KrMC.conf'"
   ]
  },
  {
   "cell_type": "code",
   "execution_count": null,
   "metadata": {
    "collapsed": false
   },
   "outputs": [],
   "source": [
    "CONF_file"
   ]
  },
  {
   "cell_type": "code",
   "execution_count": null,
   "metadata": {
    "collapsed": false
   },
   "outputs": [],
   "source": [
    "%less /Users/jjgomezcadenas/Projects/ICCONF/irene_KrMC.conf"
   ]
  },
  {
   "cell_type": "raw",
   "metadata": {
    "collapsed": false
   },
   "source": [
    "# set_input_files\n",
    "PATH_IN $IC_DATA/NEXT_v0_8_09/\n",
    "FILE_IN dst_NEXT_v0_08_09_Kr_ACTIVE_5_0_7bar_RWF_10000.root.h5\n",
    "\n",
    "# set_pmap_store\n",
    "PATH_OUT $IC_DATA/NEXT_v0_8_09/\n",
    "FILE_OUT dst_NEXT_v0_08_09_Kr_ACTIVE_5_0_7bar_PMP_1000.root.h5\n",
    "\n",
    "# compression level\n",
    "COMPRESSION ZLIB4\n",
    "\n",
    "# run number (0 for MC)\n",
    "RUN_NUMBER 0\n",
    "\n",
    "# set_print\n",
    "NPRINT 100\n",
    "\n",
    "# print empty events (skipped)\n",
    "PRINT_EMPTY_EVENTS 1\n",
    "\n",
    "# set_blr\n",
    "NBASELINE 38000\n",
    "THR_TRIGGER 5\n",
    "\n",
    "# set_mau\n",
    "NMAU 100\n",
    "THR_MAU 3\n",
    "\n",
    "# set_csum\n",
    "THR_CSUM 0.5\n",
    "\n",
    "# set_s1\n",
    "S1_TMIN 0\n",
    "S1_TMAX 110\n",
    "S1_STRIDE 4\n",
    "S1_LMIN 4\n",
    "S1_LMAX 20\n",
    "\n",
    "# set_s2\n",
    "S2_TMIN 110\n",
    "S2_TMAX 1190\n",
    "S2_STRIDE 40\n",
    "S2_LMIN 50\n",
    "S2_LMAX 100000\n",
    "\n",
    "# set_sipm\n",
    "THR_ZS 5\n",
    "THR_SIPM_S2 30\n",
    "\n",
    "# run\n",
    "NEVENTS 1000\n",
    "RUN_ALL False"
   ]
  },
  {
   "cell_type": "code",
   "execution_count": null,
   "metadata": {
    "collapsed": false
   },
   "outputs": [],
   "source": [
    "IRENE(['IRENE', '-c', CONF_file])"
   ]
  },
  {
   "cell_type": "code",
   "execution_count": null,
   "metadata": {
    "collapsed": false
   },
   "outputs": [],
   "source": []
  }
 ],
 "metadata": {
  "anaconda-cloud": {},
  "kernelspec": {
   "display_name": "Python [conda env:IC3.5]",
   "language": "python",
   "name": "conda-env-IC3.5-py"
  },
  "language_info": {
   "codemirror_mode": {
    "name": "ipython",
    "version": 3
   },
   "file_extension": ".py",
   "mimetype": "text/x-python",
   "name": "python",
   "nbconvert_exporter": "python",
   "pygments_lexer": "ipython3",
   "version": "3.5.2"
  }
 },
 "nbformat": 4,
 "nbformat_minor": 2
}
