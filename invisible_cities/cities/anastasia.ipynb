{
 "cells": [
  {
   "cell_type": "markdown",
   "metadata": {},
   "source": [
    "# ANASTASIA"
   ]
  },
  {
   "cell_type": "markdown",
   "metadata": {},
   "source": [
    "This notebook describes the city of ANASTASIA, which writes SiPM responses to montecarlo events produced by geant."
   ]
  },
  {
   "cell_type": "code",
   "execution_count": 4,
   "metadata": {
    "collapsed": false
   },
   "outputs": [],
   "source": [
    "from __future__ import print_function\n",
    "\n",
    "from glob       import glob\n",
    "from time       import time\n",
    "\n",
    "import sys\n",
    "import numpy  as np\n",
    "import tables as tb\n",
    "import pandas as pd\n",
    "\n",
    "\n",
    "sys.path.append('../../../IC-1')\n",
    "import invisible_cities.reco.tbl_functions as tbl\n",
    "from invisible_cities.cities.base_cities               import DetectorResponseCity\n",
    "from invisible_cities.core.configure                   import configure, \\\n",
    "     print_configuration, \\\n",
    "      read_config_file\n",
    "from invisible_cities.core.detector_response_functions import HPXeEL,  \\\n",
    "     gather_montecarlo_hits, \\\n",
    "     generate_ionization_electrons, \\\n",
    "     diffuse_electrons, \\\n",
    "     bin_EL, \\\n",
    "     SiPM_response\n",
    "from invisible_cities.core.detector_geometry_functions import TrackingPlaneBox, \\\n",
    "     MiniTrackingPlaneBox\n",
    "from invisible_cities.core.system_of_units_c           import units\n",
    "from invisible_cities.cities.anastasia                 import Anastasia\n",
    "\n",
    "input_files = ['../../../se_1M_v0_08_07/hdf5_NEXT_NEW_se_1M_v0_08_07_0.h5']\n",
    "output_file = '../../../S2s/SE_no_diff_no_smear_no_noise3.h'"
   ]
  },
  {
   "cell_type": "markdown",
   "metadata": {},
   "source": [
    "### Brief overview:\n",
    "1)  Anastasia receives input files containing montecarlo true tracks of events in the detector\n",
    "\n",
    "-)  For each input file:\n",
    "\n",
    "    2) Anastasia gathers all the hits for all the events in the file\n",
    "    \n",
    "    -) For every event:\n",
    "    \n",
    "         -) For every hit:\n",
    "         \n",
    "             3) Anastasia generates all the ionization electrons produced by a hit\n",
    "\n",
    "             4) Diffuses the ionization electrons to the EL\n",
    "\n",
    "             5) Finds a 3d box (in x,y,z=time) of SiPMs expected to detect photons produced in EL by these e-\n",
    "             \n",
    "             -) For each ionization electron:\n",
    "             \n",
    "                 6) Computes fraction of gain each z-slice of SiPMs expected to receieve from e-\n",
    "                 \n",
    "                 7) Computes distance boudaries between which photons are cast to SiPMs as e- is crossing EL \n",
    "\n",
    "                 8) Computes responses of these SiPMs to each electron (summing responses across electrons/hits)\n",
    "\n",
    "             9) Saves the SiPM responses to the entire event in a pytables Earray. "
   ]
  },
  {
   "cell_type": "markdown",
   "metadata": {
    "collapsed": true
   },
   "source": [
    "\"When you are in the heart of Anastasia one morning your desires waken all at once and surround you. The city appears to you as a whole where no desire is lost and of which you are a part, and since it enjoys everything you do not enjoy, you can do nothing but inhabit this desire and be content. Such is the power, sometimes called malignant, sometimes benign, that Anastasia, the treacherous city, possesses; if for eight hours a day you work as a cutter of agate, onyx, chrysoprase, your labor which gives form to desire takes from desire its form, and you believe you are enjoying Anastasia wholly when you are only its slave.\""
   ]
  },
  {
   "cell_type": "markdown",
   "metadata": {},
   "source": [
    "## A walkthrough Anastasia"
   ]
  },
  {
   "cell_type": "markdown",
   "metadata": {},
   "source": [
    "First, lets define Anastasia's input and output.\n",
    "\n",
    "#### Input:\n",
    "A list of input files.  \n",
    "The input files are hdf5 files.  \n",
    "Each hdf5 file contains a pytable containing all the 'hits' for all the events.  \n",
    "For our purposes, a hit is set of coordinates (x,y,z) within the active region and an energy value\n",
    "\n",
    "\n",
    "One of these pytables looks something like this:"
   ]
  },
  {
   "cell_type": "code",
   "execution_count": 48,
   "metadata": {
    "collapsed": false
   },
   "outputs": [
    {
     "name": "stdout",
     "output_type": "stream",
     "text": [
      "[2, [-5.8504729, 1.6107459, 127.66513], 0.0072159208]\n",
      "[2, [-5.8618598, 1.594366, 127.6683], 0.013383994]\n",
      "[2, [-5.8641238, 1.5947694, 127.66937], 0.0045467331]\n",
      "[3, [-10.80418, 27.498699, 422.33588], 0.0077296947]\n",
      "[3, [-11.235997, 26.606546, 422.25906], 0.0073481626]\n"
     ]
    }
   ],
   "source": [
    "f_input = tb.open_file(input_files[0], 'r')\n",
    "table   = f_input.root.MC.MCTracks\n",
    "# Display a chunk of the pytable\n",
    "srow  = 280\n",
    "drows = 5\n",
    "for i, pos, energy in zip(table[srow: srow + drows]['event_indx'], \n",
    "                          table[srow: srow + drows]['hit_position'], \n",
    "                          table[srow: srow + drows]['hit_energy']): print([i, list(pos), energy])\n",
    "    \n",
    "# ev,     [hit_position (mm)]       , hit_energy (MeV)\n",
    "f_input.close()"
   ]
  },
  {
   "cell_type": "markdown",
   "metadata": {},
   "source": [
    "Notice, pytable is organized such that each row is a distinct hit, and the various columns describe the hit. Column event_indx describes which event the hit belongs to. Column hit_position describes the hit's position inside the active region. Column hit_energy describes the amount of energy deposited in the hit by the energetic electron. \n",
    "\n",
    "Ultimately, it is convenient that each row in the pytable is a distinct hit, since ultimately Anastasia wants to extract all the hits from all the events in the input files, however, as you can see above, the events are not separated for us by pytables. So, as we are collecting hits in an event, we must notice if the value in event_indx changes to know that we have begun collecting hits in a new event. \n",
    "\n",
    "I should also mention the pytable actually contains more columns than those I have shown, but event_indx, hit_position, and hit_energy are the only ones we will pay attention to for now, because they alone matter to Anastasia."
   ]
  },
  {
   "cell_type": "code",
   "execution_count": 35,
   "metadata": {
    "collapsed": false
   },
   "outputs": [
    {
     "data": {
      "text/plain": [
       "{\n",
       "  \"event_indx\": Int32Col(shape=(), dflt=0, pos=0),\n",
       "  \"mctrk_indx\": Int16Col(shape=(), dflt=0, pos=1),\n",
       "  \"particle_name\": StringCol(itemsize=10, shape=(), dflt=b'', pos=2),\n",
       "  \"pdg_code\": Int16Col(shape=(), dflt=0, pos=3),\n",
       "  \"initial_vertex\": Float32Col(shape=(3,), dflt=0.0, pos=4),\n",
       "  \"final_vertex\": Float32Col(shape=(3,), dflt=0.0, pos=5),\n",
       "  \"momentum\": Float32Col(shape=(3,), dflt=0.0, pos=6),\n",
       "  \"energy\": Float32Col(shape=(), dflt=0.0, pos=7),\n",
       "  \"nof_hits\": Int16Col(shape=(), dflt=0, pos=8),\n",
       "  \"hit_indx\": Int16Col(shape=(), dflt=0, pos=9),\n",
       "  \"hit_position\": Float32Col(shape=(3,), dflt=0.0, pos=10),\n",
       "  \"hit_time\": Float32Col(shape=(), dflt=0.0, pos=11),\n",
       "  \"hit_energy\": Float32Col(shape=(), dflt=0.0, pos=12)}"
      ]
     },
     "execution_count": 35,
     "metadata": {},
     "output_type": "execute_result"
    }
   ],
   "source": [
    "# To satisfy your curiousity, these are all the columns in the pytable\n",
    "table.description"
   ]
  },
  {
   "cell_type": "markdown",
   "metadata": {},
   "source": [
    "###### TODO:\n",
    "We need to decide how what want to store our output. Do we want to store in EArrays? If this is the plan we are going to need to add some kind of descriptor, ex: (x pitch = a, y_pitch = b, time bins were 2 mus). It would also be nice if this discription were did not have to be read by a human. \n",
    "\n",
    "#### Output\n",
    "The output is very simple -- too simple and we will need to change it. It is an hdf5 file containing a pytables EArray, containing all the SiPM responses to all the events. "
   ]
  },
  {
   "cell_type": "code",
   "execution_count": 44,
   "metadata": {
    "collapsed": false
   },
   "outputs": [
    {
     "name": "stdout",
     "output_type": "stream",
     "text": [
      "../../../S2s/SE_no_diff_no_smear_no_noise3.h (File) ''\n",
      "Last modif.: 'Mon Mar 13 15:20:11 2017'\n",
      "Object Tree: \n",
      "/ (RootGroup) ''\n",
      "/SiPM_resp (EArray(5, 48, 48, 266), shuffle, zlib(4)) ''\n",
      "\n"
     ]
    }
   ],
   "source": [
    "f_output = tb.open_file(output_file, 'r')\n",
    "print(f_output)\n",
    "SiPM_resp = f_output.root.SiPM_resp\n",
    "f_output.close()"
   ]
  },
  {
   "cell_type": "markdown",
   "metadata": {},
   "source": [
    "Above you can hopefully see inside the output file there is an EArray of shape (5, 48, 48, 266).  "
   ]
  },
  {
   "cell_type": "code",
   "execution_count": 50,
   "metadata": {
    "collapsed": true
   },
   "outputs": [],
   "source": [
    "# SiPM_resp.shape = (NEVENTS, SiPMs along x dimension, SiPMs along y dimension, time bins)\n",
    "f_output.close()"
   ]
  },
  {
   "cell_type": "markdown",
   "metadata": {},
   "source": [
    "There are 5 events  \n",
    "The SiPM plane is a 48x48 square  \n",
    "The 4th dimension here is time. The SiPM responses are binned in 266 time bins."
   ]
  },
  {
   "cell_type": "markdown",
   "metadata": {},
   "source": [
    "### How does Anastasia work?"
   ]
  },
  {
   "cell_type": "code",
   "execution_count": 51,
   "metadata": {
    "collapsed": true
   },
   "outputs": [],
   "source": [
    "A = Anastasia(input_files, output_file,\n",
    "        hpxe    = HPXeEL(),\n",
    "        tpbox   = TrackingPlaneBox(),\n",
    "    \n",
    "        # Parameters added at this level\n",
    "        NEVENTS = 5,\n",
    "        w_dim   = (8, 8, 4))"
   ]
  },
  {
   "cell_type": "markdown",
   "metadata": {},
   "source": [
    "Notice, Anastasia has two required inputs:  \n",
    "a list of input files and an output file,   \n",
    "Anastasia also has a few kwargs which can be configured or set by default:"
   ]
  },
  {
   "cell_type": "markdown",
   "metadata": {},
   "source": [
    "1) NEVENTS is the number of events over which Anastasia will run.\n",
    "\n",
    "2) hpxe is an instance of a HPXeEL. hpxe contians information regarding the physical \n",
    "conditions of the detector, and (specifically for Anastasia) how these conditions \n",
    "will affect the behavior of ionization electrons in the active region and as they \n",
    "cross the EL.\n",
    "\n",
    "3) tpbox is an instance of a TrackingPlaneBox. A tracking plane box is a class \n",
    "that inherits from Box. It has attributes describing its shape, size, and absolute\n",
    "position. It also has attributes describing the pitch of the SiPMs their positions,\n",
    "and their response to an event. Note tpbox is a box (and not a plane) because SiPMs\n",
    "are responding in time bins. \n",
    "\n",
    "4) w_dim is the dimensions of a 3d box of SiPMs (in x, y, and z=time) expected to\n",
    "respond to the photons produced by the ionization electrons produced by a hit. We \n",
    "will come back to exactly what this means. w_dim describes the size of a \n",
    "MiniTrackingPlaneBox that will be found within the larger TrackingPlaneBox to \n",
    "compute SiPM responses to photons produced by ionization electrons produced by a \n",
    "single hit. We will take a closer look at w_dim in a bit.\n",
    "\n",
    "Note: \n",
    "Anastasia ineherits from DetectorResponseCity, where hpxe and tpbox are saved as\n",
    "attributes. NEVENTS and w_dim are her only unshared parameters."
   ]
  },
  {
   "cell_type": "markdown",
   "metadata": {},
   "source": [
    "Anastasia has one method, run. Using configured or default parameters, classes hpxe and tpbox, along with varias functions in Core/DetectorResponseFunctions, run computes the SiPM responses for NEVENTS in the input files writes\n",
    "the responses to file. "
   ]
  },
  {
   "cell_type": "code",
   "execution_count": 3,
   "metadata": {
    "collapsed": false
   },
   "outputs": [
    {
     "name": "stdout",
     "output_type": "stream",
     "text": [
      "../../../S2s/SE_no_diff_no_smear_no_noise3.h (File) ''\n",
      "Last modif.: 'Mon Mar 13 15:20:11 2017'\n",
      "Object Tree: \n",
      "/ (RootGroup) ''\n",
      "/SiPM_resp (EArray(5, 48, 48, 266), shuffle, zlib(4)) ''\n",
      "\n"
     ]
    }
   ],
   "source": [
    "A.run()"
   ]
  },
  {
   "cell_type": "code",
   "execution_count": null,
   "metadata": {
    "collapsed": true
   },
   "outputs": [],
   "source": []
  }
 ],
 "metadata": {
  "kernelspec": {
   "display_name": "Python 3",
   "language": "python",
   "name": "python3"
  },
  "language_info": {
   "codemirror_mode": {
    "name": "ipython",
    "version": 3
   },
   "file_extension": ".py",
   "mimetype": "text/x-python",
   "name": "python",
   "nbconvert_exporter": "python",
   "pygments_lexer": "ipython3",
   "version": "3.6.0"
  }
 },
 "nbformat": 4,
 "nbformat_minor": 2
}
