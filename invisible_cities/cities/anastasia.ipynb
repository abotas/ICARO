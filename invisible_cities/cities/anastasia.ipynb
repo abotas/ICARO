{
 "cells": [
  {
   "cell_type": "markdown",
   "metadata": {},
   "source": [
    "# ANASTASIA"
   ]
  },
  {
   "cell_type": "markdown",
   "metadata": {},
   "source": [
    "This notebook describes the city of ANASTASIA, which writes SiPM responses to montecarlo events produced by geant."
   ]
  },
  {
   "cell_type": "markdown",
   "metadata": {
    "collapsed": true
   },
   "source": [
    "\"When you are in the heart of Anastasia one morning your desires waken all at once and surround you. The city appears to you as a whole where no desire is lost and of which you are a part, and since it enjoys everything you do not enjoy, you can do nothing but inhabit this desire and be content. Such is the power, sometimes called malignant, sometimes benign, that Anastasia, the treacherous city, possesses; if for eight hours a day you work as a cutter of agate, onyx, chrysoprase, your labor which gives form to desire takes from desire its form, and you believe you are enjoying Anastasia wholly when you are only its slave.\""
   ]
  },
  {
   "cell_type": "markdown",
   "metadata": {},
   "source": [
    "## Brief overview:\n",
    "1)  Anastasia receives input files containing montecarlo true tracks of events in the detector\n",
    "\n",
    "-)  For each input file:\n",
    "\n",
    "    2) Anastasia gathers all the hits for all the events in the file\n",
    "    \n",
    "    -) For every event:\n",
    "    \n",
    "         -) For every hit:\n",
    "         \n",
    "             3) Anastasia generates all the ionization electrons produced by a hit\n",
    "\n",
    "             4) Diffuses the ionization electrons to the EL\n",
    "\n",
    "             5) Finds a 3d box (in x,y,z=time) of SiPMs expected to detect photons produced in EL by these e-\n",
    "             \n",
    "             -) For each ionization electron:\n",
    "             \n",
    "                 7) Computes fraction of gain each z-slice of SiPMs expected to receieve from e-\n",
    "                 \n",
    "                 8) Computes distance boudaries between which photons are cast to SiPMs as e- is crossing EL \n",
    "\n",
    "                 9) Computes responses of these SiPMs to each electron (summing responses across electrons/hits)\n",
    "\n",
    "            10) Saves the SiPM responses to the entire event in a pytables Earray. "
   ]
  },
  {
   "cell_type": "code",
   "execution_count": null,
   "metadata": {
    "collapsed": true
   },
   "outputs": [],
   "source": []
  }
 ],
 "metadata": {
  "kernelspec": {
   "display_name": "Python 2",
   "language": "python",
   "name": "python2"
  },
  "language_info": {
   "codemirror_mode": {
    "name": "ipython",
    "version": 2
   },
   "file_extension": ".py",
   "mimetype": "text/x-python",
   "name": "python",
   "nbconvert_exporter": "python",
   "pygments_lexer": "ipython2",
   "version": "2.7.12"
  }
 },
 "nbformat": 4,
 "nbformat_minor": 2
}
