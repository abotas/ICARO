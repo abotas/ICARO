{
 "cells": [
  {
   "cell_type": "markdown",
   "metadata": {
    "collapsed": false
   },
   "source": [
    "# Diomira Run"
   ]
  },
  {
   "cell_type": "markdown",
   "metadata": {
    "collapsed": false
   },
   "source": [
    "Runs Diomira over a MCRD file\n",
    "\n",
    "author: J.J. Gomez-Cadenas\n"
   ]
  },
  {
   "cell_type": "code",
   "execution_count": null,
   "metadata": {
    "collapsed": false
   },
   "outputs": [],
   "source": [
    "import datetime"
   ]
  },
  {
   "cell_type": "code",
   "execution_count": null,
   "metadata": {
    "collapsed": false
   },
   "outputs": [],
   "source": [
    "print(datetime.datetime.now().strftime('%Y-%m-%d %H:%M:%S'))"
   ]
  },
  {
   "cell_type": "code",
   "execution_count": null,
   "metadata": {
    "collapsed": false
   },
   "outputs": [],
   "source": [
    "from __future__ import print_function\n",
    "import sys\n",
    "import os\n",
    "from glob import glob\n",
    "from time import time"
   ]
  },
  {
   "cell_type": "code",
   "execution_count": null,
   "metadata": {
    "collapsed": false
   },
   "outputs": [],
   "source": [
    "%matplotlib inline\n",
    "%load_ext autoreload\n",
    "%autoreload 2\n",
    "import matplotlib.pyplot as plt\n",
    "import pandas as pd\n",
    "import tables as tb\n",
    "import numpy as np\n",
    "import math"
   ]
  },
  {
   "cell_type": "code",
   "execution_count": null,
   "metadata": {
    "collapsed": false
   },
   "outputs": [],
   "source": [
    "from invisible_cities.core.configure import configure, print_configuration"
   ]
  },
  {
   "cell_type": "code",
   "execution_count": null,
   "metadata": {
    "collapsed": false
   },
   "outputs": [],
   "source": [
    "from invisible_cities.cities.diomira import Diomira"
   ]
  },
  {
   "cell_type": "markdown",
   "metadata": {
    "collapsed": false
   },
   "source": [
    "## Run example configuration"
   ]
  },
  {
   "cell_type": "markdown",
   "metadata": {
    "collapsed": false
   },
   "source": [
    "### Configuration file"
   ]
  },
  {
   "cell_type": "code",
   "execution_count": null,
   "metadata": {
    "collapsed": false
   },
   "outputs": [],
   "source": [
    "conf_file= os.environ['ICDIR']  + '/config/diomira.conf'"
   ]
  },
  {
   "cell_type": "markdown",
   "metadata": {
    "collapsed": false
   },
   "source": [
    "### Input/output files "
   ]
  },
  {
   "cell_type": "code",
   "execution_count": null,
   "metadata": {
    "collapsed": false
   },
   "outputs": [],
   "source": [
    "MCRD_file = os.environ['IC_DATA']  + '/electrons_2500keV_z250_MCRD.h5'\n",
    "RWF_file= os.environ['IC_DATA']  + '/electrons_2500keV_z250_RWF.h5'"
   ]
  },
  {
   "cell_type": "markdown",
   "metadata": {
    "collapsed": false
   },
   "source": [
    "### Running diomira"
   ]
  },
  {
   "cell_type": "code",
   "execution_count": null,
   "metadata": {
    "collapsed": false
   },
   "outputs": [],
   "source": [
    "# function configure reads the configuration file and returns a dictionary of options\n",
    "CFP = configure(['DIOMIRA','-c', conf_file, '-i', MCRD_file, '-o', RWF_file])\n",
    "\n",
    "# init machine\n",
    "fpp = Diomira()\n",
    "# set machine state throught the parameters read from config file\n",
    "files_in = glob(CFP['FILE_IN'])\n",
    "files_in.sort()\n",
    "fpp.set_input_files(files_in)\n",
    "fpp.set_output_file(CFP['FILE_OUT'],\n",
    "                        compression=CFP['COMPRESSION'])\n",
    "fpp.set_print(nprint=CFP['NPRINT'])\n",
    "fpp.set_sipm_noise_cut(noise_cut=CFP[\"NOISE_CUT\"])\n",
    "\n",
    "# run for nevts\n",
    "nevts = CFP['NEVENTS'] if not CFP['RUN_ALL'] else -1\n",
    "t0 = time()\n",
    "nevt = fpp.run(nmax=nevts)\n",
    "t1 = time()\n",
    "dt = t1 - t0\n",
    "print(\"DIOMIRA run {} evts in {} s, time/event = {}\".\\\n",
    "      format(nevt, dt, dt/nevt))\n"
   ]
  },
  {
   "cell_type": "markdown",
   "metadata": {
    "collapsed": false
   },
   "source": [
    "#### End of NB"
   ]
  }
 ],
 "metadata": {
  "anaconda-cloud": {},
  "git": {
   "suppress_outputs": true
  },
  "kernelspec": {
   "display_name": "Python [conda env:IC3.5]",
   "language": "python",
   "name": "conda-env-IC3.5-py"
  },
  "language_info": {
   "codemirror_mode": {
    "name": "ipython",
    "version": 3
   },
   "file_extension": ".py",
   "mimetype": "text/x-python",
   "name": "python",
   "nbconvert_exporter": "python",
   "pygments_lexer": "ipython3",
   "version": "3.5.2"
  }
 },
 "nbformat": 4,
 "nbformat_minor": 2
}
