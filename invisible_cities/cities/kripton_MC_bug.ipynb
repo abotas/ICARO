{
 "cells": [
  {
   "cell_type": "markdown",
   "metadata": {
    "collapsed": false
   },
   "source": [
    "# Bug in kripton MC (production-1)"
   ]
  },
  {
   "cell_type": "markdown",
   "metadata": {
    "collapsed": false
   },
   "source": [
    "### Description of error"
   ]
  },
  {
   "cell_type": "raw",
   "metadata": {
    "collapsed": false
   },
   "source": [
    "I have run Irene on MC Kr at CERN, but 41 of the jobs had errors during processing. All of them are like this:\n",
    "\n",
    "Opening ./ic_dst_NEXT_v0_08_06_Kr_ACTIVE_7_0_7bar_MCRD_10000.root.h5... Events in file = 10000\n",
    "# PMT                  => 12\n",
    "# SiPM                 => 1792\n",
    "PMT WL                 => 48000\n",
    "SIPM WL                => 1200\n",
    "event in file = 99, total = 100\n",
    "error\n",
    "Traceback (most recent call last):\n",
    "  File \"/afs/cern.ch/work/j/jobenllo/software/IC/invisible_cities/cities/irene.py\", line 548, in <module>\n",
    "    IRENE(sys.argv)\n",
    "  File \"/afs/cern.ch/work/j/jobenllo/software/IC/invisible_cities/cities/irene.py\", line 540, in IRENE\n",
    "    nevt = fpp.run(nmax=nevts, store_pmaps=True)\n",
    "  File \"/afs/cern.ch/work/j/jobenllo/software/IC/invisible_cities/cities/irene.py\", line 429, in run\n",
    "    rebin  = False)\n",
    "  File \"invisible_cities/core/peak_functions_c.pyx\", line 105, in invisible_cities.core.peak_functions_c.find_S12 (invisible_cities/core/peak_functions_c.c:5121)\n",
    "  File \"invisible_cities/core/peak_functions_c.pyx\", line 134, in invisible_cities.core.peak_functions_c.find_S12 (invisible_cities/core/peak_functions_c.c:4232)\n",
    "IndexError: Out of bounds on buffer access (axis 0)\n"
   ]
  },
  {
   "cell_type": "code",
   "execution_count": null,
   "metadata": {
    "collapsed": false
   },
   "outputs": [],
   "source": [
    "import datetime"
   ]
  },
  {
   "cell_type": "code",
   "execution_count": null,
   "metadata": {
    "collapsed": false
   },
   "outputs": [],
   "source": [
    "print(datetime.datetime.now().strftime('%Y-%m-%d %H:%M:%S'))"
   ]
  },
  {
   "cell_type": "code",
   "execution_count": null,
   "metadata": {
    "collapsed": false
   },
   "outputs": [],
   "source": [
    "from __future__ import print_function\n",
    "import sys\n",
    "import os\n",
    "from glob import glob\n",
    "from time import time"
   ]
  },
  {
   "cell_type": "code",
   "execution_count": null,
   "metadata": {
    "collapsed": false
   },
   "outputs": [],
   "source": [
    "%matplotlib inline\n",
    "%load_ext autoreload\n",
    "%autoreload 2\n",
    "import matplotlib.pyplot as plt\n",
    "import pandas as pd\n",
    "import tables as tb\n",
    "import numpy as np\n",
    "import math"
   ]
  },
  {
   "cell_type": "code",
   "execution_count": null,
   "metadata": {
    "collapsed": false
   },
   "outputs": [],
   "source": [
    "from invisible_cities.database import load_db\n",
    "from invisible_cities.core.system_of_units_c import SystemOfUnits"
   ]
  },
  {
   "cell_type": "code",
   "execution_count": null,
   "metadata": {
    "collapsed": false
   },
   "outputs": [],
   "source": [
    "import invisible_cities.sierpe.blr as blr"
   ]
  },
  {
   "cell_type": "code",
   "execution_count": null,
   "metadata": {
    "collapsed": false
   },
   "outputs": [],
   "source": [
    "import invisible_cities.core.mpl_functions as mpl"
   ]
  },
  {
   "cell_type": "code",
   "execution_count": null,
   "metadata": {
    "collapsed": false
   },
   "outputs": [],
   "source": [
    "import invisible_cities.core.peak_functions_c as cpf"
   ]
  },
  {
   "cell_type": "markdown",
   "metadata": {
    "collapsed": false
   },
   "source": [
    "### Test data"
   ]
  },
  {
   "cell_type": "markdown",
   "metadata": {
    "collapsed": false
   },
   "source": [
    "A MCRD file and a RWF file with one event resulting in an error has been produced and added to the repository"
   ]
  },
  {
   "cell_type": "code",
   "execution_count": null,
   "metadata": {
    "collapsed": false
   },
   "outputs": [],
   "source": [
    "os.environ['IC_NOTEBOOK_DIR'] "
   ]
  },
  {
   "cell_type": "code",
   "execution_count": null,
   "metadata": {
    "collapsed": false
   },
   "outputs": [],
   "source": [
    "fmcrd = os.environ['IC_NOTEBOOK_DIR'] + '/files/kr_production1_bug_MCRD.h5'\n",
    "frwf  = os.environ['IC_NOTEBOOK_DIR'] + '/files/kr_production1_bug_RWF.h5'"
   ]
  },
  {
   "cell_type": "code",
   "execution_count": null,
   "metadata": {
    "collapsed": false
   },
   "outputs": [],
   "source": [
    "h5mcrd = tb.open_file(fmcrd,'r+')\n",
    "h5rwf  = tb.open_file(frwf,'r+')"
   ]
  },
  {
   "cell_type": "markdown",
   "metadata": {
    "collapsed": false
   },
   "source": [
    "### pmtrwf and sipmrwf vectors"
   ]
  },
  {
   "cell_type": "code",
   "execution_count": null,
   "metadata": {
    "collapsed": false
   },
   "outputs": [],
   "source": [
    "\n",
    "pmtrwf = h5rwf.root.RD.pmtrwf\n",
    "pmtblr = h5rwf.root.RD.pmtblr\n",
    "sipmrwf = h5rwf.root.RD.sipmrwf\n",
    "NEVT, NPMT, PMTWL = pmtrwf.shape\n",
    "NEVT, NSIPM, SIPMWL = sipmrwf.shape\n",
    "print(\"\"\"\n",
    "        Number of events in file = {}\n",
    "        Number of PMTs = {}\n",
    "        PMTWL = {}\n",
    "        Number of SiPMs = {}\n",
    "        SiPMWL = {}\n",
    "      \"\"\".format(NEVT, NPMT, PMTWL,NSIPM, SIPMWL))"
   ]
  },
  {
   "cell_type": "markdown",
   "metadata": {
    "collapsed": false
   },
   "source": [
    "### Access to data base and definition of units"
   ]
  },
  {
   "cell_type": "code",
   "execution_count": null,
   "metadata": {
    "collapsed": false
   },
   "outputs": [],
   "source": [
    "DataPMT = load_db.DataPMT()\n",
    "units = SystemOfUnits()\n",
    "adc_to_pes = abs(DataPMT.adc_to_pes.values)\n",
    "coeff_c = abs(DataPMT.coeff_c.values)\n",
    "coeff_blr = abs(DataPMT.coeff_blr.values)\n",
    "DataSiPM = load_db.DataSiPM(0)\n",
    "adc_to_pes_sipm = DataSiPM.adc_to_pes.values\n",
    "xs = DataSiPM.X.values\n",
    "ys = DataSiPM.Y.values"
   ]
  },
  {
   "cell_type": "code",
   "execution_count": null,
   "metadata": {
    "collapsed": false
   },
   "outputs": [],
   "source": [
    "DataPMT"
   ]
  },
  {
   "cell_type": "code",
   "execution_count": null,
   "metadata": {
    "collapsed": false
   },
   "outputs": [],
   "source": [
    "DataSiPM.head()"
   ]
  },
  {
   "cell_type": "markdown",
   "metadata": {
    "collapsed": false
   },
   "source": [
    "### Step 1: Deconvolution (from RWF to CWF)"
   ]
  },
  {
   "cell_type": "code",
   "execution_count": null,
   "metadata": {
    "collapsed": false
   },
   "outputs": [],
   "source": [
    "event = 0\n",
    "BLR = pmtblr[event]\n",
    "RWF = pmtrwf[event]"
   ]
  },
  {
   "cell_type": "code",
   "execution_count": null,
   "metadata": {
    "collapsed": false
   },
   "outputs": [],
   "source": [
    "mpl.plot_waveforms(BLR)"
   ]
  },
  {
   "cell_type": "code",
   "execution_count": null,
   "metadata": {
    "collapsed": false
   },
   "outputs": [],
   "source": [
    "mpl.plot_waveforms(RWF)"
   ]
  },
  {
   "cell_type": "code",
   "execution_count": null,
   "metadata": {
    "collapsed": false
   },
   "outputs": [],
   "source": [
    "t0 = time()\n",
    "CWF = blr.deconv_pmt(RWF, coeff_c, coeff_blr, n_baseline=28000, thr_trigger=5)\n",
    "t1 = time()        \n",
    "dt = t1 - t0\n",
    "\n",
    "print(\"run over {} events  in {} s\".format(event,dt))\n",
    "mpl.plot_waveforms(CWF)"
   ]
  },
  {
   "cell_type": "code",
   "execution_count": null,
   "metadata": {
    "collapsed": false
   },
   "outputs": [],
   "source": [
    "mpl.plot_blr_cwf(BLR, CWF, zoom=True, window_size=600)"
   ]
  },
  {
   "cell_type": "markdown",
   "metadata": {
    "collapsed": false
   },
   "source": [
    "### Step 2: calibrated PMT sum"
   ]
  },
  {
   "cell_type": "code",
   "execution_count": null,
   "metadata": {
    "collapsed": false
   },
   "outputs": [],
   "source": [
    "event=0\n",
    "t0 = time()\n",
    "CWF = blr.deconv_pmt(RWF, coeff_c, coeff_blr)\n",
    "csum = cpf.calibrated_pmt_sum(CWF, adc_to_pes, n_MAU=200, thr_MAU=5) \n",
    "t1 = time()        \n",
    "dt = t1 - t0\n",
    "\n",
    "print(\"run over  one event  in {} s\".format(dt))"
   ]
  },
  {
   "cell_type": "code",
   "execution_count": null,
   "metadata": {
    "collapsed": false
   },
   "outputs": [],
   "source": [
    "tstep = 25\n",
    "signal_t = np.arange(0., PMTWL * tstep, tstep)"
   ]
  },
  {
   "cell_type": "code",
   "execution_count": null,
   "metadata": {
    "collapsed": false
   },
   "outputs": [],
   "source": [
    "mpl.plot_signal(signal_t/units.mus, csum, title=\"calibrated sum\",\n",
    "                signal_start=0, signal_end=1200, \n",
    "                ymax = 200, \n",
    "                t_units='mus', units=\"pes\")"
   ]
  },
  {
   "cell_type": "code",
   "execution_count": null,
   "metadata": {
    "collapsed": false
   },
   "outputs": [],
   "source": [
    "np.sum(csum)"
   ]
  },
  {
   "cell_type": "markdown",
   "metadata": {
    "collapsed": false
   },
   "source": [
    "#### A protection is needed here, requesting the sum of the PMTs to be larger than a threshold!"
   ]
  },
  {
   "cell_type": "code",
   "execution_count": null,
   "metadata": {
    "collapsed": false
   },
   "outputs": [],
   "source": [
    "np.sum(wfzs_ene)"
   ]
  },
  {
   "cell_type": "markdown",
   "metadata": {
    "collapsed": false
   },
   "source": [
    "#### An empty waveform... looking for trouble!"
   ]
  },
  {
   "cell_type": "markdown",
   "metadata": {
    "collapsed": false
   },
   "source": [
    "### Step 4: Find S12 "
   ]
  },
  {
   "cell_type": "markdown",
   "metadata": {
    "collapsed": false
   },
   "source": [
    "S1 and S2 signals are found from the ZS waveform"
   ]
  },
  {
   "cell_type": "code",
   "execution_count": null,
   "metadata": {
    "collapsed": false
   },
   "outputs": [],
   "source": [
    "event = 0\n",
    "t0 = time()\n",
    "CWF = blr.deconv_pmt(pmtrwf[event], coeff_c, coeff_blr)\n",
    "csum = cpf.calibrated_pmt_sum(CWF, adc_to_pes, n_MAU=100, thr_MAU=5) \n",
    "wfzs_ene, wfzs_indx = cpf.wfzs(csum, threshold=1*units.pes)\n",
    "wfzs_t = cpf.time_from_index(wfzs_indx)\n",
    "S1 = cpf.find_S12(wfzs_ene, wfzs_indx, tmin=0,  tmax=590*units.mus, \n",
    "                 lmin=8, lmax=20, stride=4,\n",
    "                 rebin=False)\n",
    "S2 = cpf.find_S12(wfzs_ene, wfzs_indx, tmin=0*units.mus,  tmax=1100*units.mus, \n",
    "                 lmin=100, lmax=1000000, stride=40,\n",
    "                 rebin=True, rebin_stride=40)\n",
    "t1 = time()        \n",
    "dt = t1 - t0\n",
    "\n",
    "print(\"run  in {} s\".format(dt))"
   ]
  },
  {
   "cell_type": "markdown",
   "metadata": {
    "collapsed": false
   },
   "source": [
    "#### of course it fails! wfzs_ene is empty!"
   ]
  },
  {
   "cell_type": "markdown",
   "metadata": {
    "collapsed": false
   },
   "source": [
    "## Is the problem in DIOMIRA?"
   ]
  },
  {
   "cell_type": "code",
   "execution_count": null,
   "metadata": {
    "collapsed": false
   },
   "outputs": [],
   "source": [
    "h5mcrd = tb.open_file(fmcrd,'r+')"
   ]
  },
  {
   "cell_type": "markdown",
   "metadata": {
    "collapsed": false
   },
   "source": [
    "### diomira raw data"
   ]
  },
  {
   "cell_type": "code",
   "execution_count": null,
   "metadata": {
    "collapsed": false
   },
   "outputs": [],
   "source": [
    "pmtrd = h5mcrd.root.pmtrd\n",
    "mpl.plot_waveforms(pmtrd[0])"
   ]
  },
  {
   "cell_type": "markdown",
   "metadata": {
    "collapsed": false
   },
   "source": [
    "#### The raw data is already corrupted (all PMTs equal to zero). The way to solve the problem is to add a protection to simulate_pmt_response.\n",
    "\n",
    "In fact the protection can be very hard. One should not accept events unless there is signal (even if small) in all the PMTs, since there is no physical case for PMTs not having signal (S2 is large even for small energy depositions), and thus any event with a PMT totally empty is likely to be corrupted."
   ]
  },
  {
   "cell_type": "code",
   "execution_count": null,
   "metadata": {
    "collapsed": false
   },
   "outputs": [],
   "source": []
  }
 ],
 "metadata": {
  "anaconda-cloud": {},
  "kernelspec": {
   "display_name": "Python [conda env:IC3.5]",
   "language": "python",
   "name": "conda-env-IC3.5-py"
  },
  "language_info": {
   "codemirror_mode": {
    "name": "ipython",
    "version": 3
   },
   "file_extension": ".py",
   "mimetype": "text/x-python",
   "name": "python",
   "nbconvert_exporter": "python",
   "pygments_lexer": "ipython3",
   "version": "3.5.2"
  }
 },
 "nbformat": 4,
 "nbformat_minor": 0
}
