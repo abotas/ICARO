{
 "cells": [
  {
   "cell_type": "markdown",
   "metadata": {
    "collapsed": false
   },
   "source": [
    "\n",
    "# IRENE-2983"
   ]
  },
  {
   "cell_type": "code",
   "execution_count": null,
   "metadata": {
    "collapsed": false
   },
   "outputs": [],
   "source": [
    "import datetime"
   ]
  },
  {
   "cell_type": "code",
   "execution_count": null,
   "metadata": {
    "collapsed": false
   },
   "outputs": [],
   "source": [
    "print(datetime.datetime.now().strftime('%Y-%m-%d %H:%M:%S'))"
   ]
  },
  {
   "cell_type": "code",
   "execution_count": null,
   "metadata": {
    "collapsed": false
   },
   "outputs": [],
   "source": [
    "from __future__ import print_function\n",
    "import sys\n",
    "import os\n",
    "from glob import glob\n",
    "from time import time"
   ]
  },
  {
   "cell_type": "code",
   "execution_count": null,
   "metadata": {
    "collapsed": false
   },
   "outputs": [],
   "source": [
    "%matplotlib inline\n",
    "%load_ext autoreload\n",
    "%autoreload 2\n",
    "import matplotlib.pyplot as plt\n",
    "import pandas as pd\n",
    "import tables as tb\n",
    "import numpy as np\n",
    "import math\n"
   ]
  },
  {
   "cell_type": "code",
   "execution_count": null,
   "metadata": {
    "collapsed": false
   },
   "outputs": [],
   "source": [
    "from invisible_cities.database import load_db\n",
    "from invisible_cities.core.system_of_units_c import SystemOfUnits\n",
    "import invisible_cities.sierpe.blr as blr\n",
    "import invisible_cities.core.mpl_functions as mpl\n",
    "import invisible_cities.core.wfm_functions as wfm\n",
    "import invisible_cities.core.tbl_functions as tbl\n",
    "import invisible_cities.core.peak_functions_c as cpf\n",
    "import invisible_cities.core.pmaps_functions as pf\n",
    "import invisible_cities.core.sensor_functions as sf"
   ]
  },
  {
   "cell_type": "code",
   "execution_count": null,
   "metadata": {
    "collapsed": false
   },
   "outputs": [],
   "source": [
    "from invisible_cities.core.core_functions import define_window"
   ]
  },
  {
   "cell_type": "code",
   "execution_count": null,
   "metadata": {
    "collapsed": false
   },
   "outputs": [],
   "source": [
    "from invisible_cities.core.core_functions import lrange"
   ]
  },
  {
   "cell_type": "code",
   "execution_count": null,
   "metadata": {
    "collapsed": false
   },
   "outputs": [],
   "source": [
    "from collections import namedtuple"
   ]
  },
  {
   "cell_type": "code",
   "execution_count": null,
   "metadata": {
    "collapsed": false
   },
   "outputs": [],
   "source": [
    "from   invisible_cities.core.params import S12Params as S12P"
   ]
  },
  {
   "cell_type": "code",
   "execution_count": null,
   "metadata": {
    "collapsed": false
   },
   "outputs": [],
   "source": [
    "from   invisible_cities.core.params import SensorParams"
   ]
  },
  {
   "cell_type": "code",
   "execution_count": null,
   "metadata": {
    "collapsed": false
   },
   "outputs": [],
   "source": [
    "from invisible_cities.cities.irene import Irene, IRENE"
   ]
  },
  {
   "cell_type": "markdown",
   "metadata": {
    "collapsed": false
   },
   "source": [
    "## Preproc Steps\n",
    "\n",
    "**Irene takes care of the following chores**\n",
    "\n",
    "1. Deconvolute RWF\n",
    "2. Compute calibrated sum of PMTs (including MAU threshold)\n",
    "3. Zero Suppression (ZS) in PMTs\n",
    "4. S1 search (analysis specific)\n",
    "5. S2 search (analysis specific) and rebin\n",
    "6. ZS in SiPMs\n",
    "7. Select S2 in ZS SiPMs \n",
    "\n",
    "For fast pre-proc, all the above steps must be computed on the fly (e.g, minimal access to disk) and\n",
    "using pre-compiled (cython) functions in calculation-intensive parts (loops)"
   ]
  },
  {
   "cell_type": "markdown",
   "metadata": {
    "collapsed": false
   },
   "source": [
    "## Files"
   ]
  },
  {
   "cell_type": "code",
   "execution_count": null,
   "metadata": {
    "collapsed": false
   },
   "outputs": [],
   "source": []
  },
  {
   "cell_type": "code",
   "execution_count": null,
   "metadata": {
    "collapsed": false
   },
   "outputs": [],
   "source": [
    "RWF_file = os.path.join(os.environ['IC_DATA'],'LSC/2983/run_2983.gdcsnext.9600.next1el_2983.root.h5')\n",
    "PMP_file = os.path.join(os.environ['IC_DATA'],'LSC/PMP_2983/run_2983.9600.PMP.h5')\n",
    "CONF_file = os.path.join(os.environ['IC_CONFIG'], 'irene_Kr2983.conf')"
   ]
  },
  {
   "cell_type": "code",
   "execution_count": null,
   "metadata": {
    "collapsed": false
   },
   "outputs": [],
   "source": [
    "h5rwf = False"
   ]
  },
  {
   "cell_type": "code",
   "execution_count": null,
   "metadata": {
    "collapsed": false
   },
   "outputs": [],
   "source": [
    "if h5rwf:\n",
    "    h5rwf.close()"
   ]
  },
  {
   "cell_type": "code",
   "execution_count": null,
   "metadata": {
    "collapsed": false
   },
   "outputs": [],
   "source": [
    "h5rwf = tb.open_file(RWF_file,'r')"
   ]
  },
  {
   "cell_type": "code",
   "execution_count": null,
   "metadata": {
    "collapsed": false
   },
   "outputs": [],
   "source": []
  },
  {
   "cell_type": "markdown",
   "metadata": {
    "collapsed": false
   },
   "source": [
    "### pmtrwf and sipmrwf vectors"
   ]
  },
  {
   "cell_type": "markdown",
   "metadata": {
    "collapsed": false
   },
   "source": [
    "To get vectors use **get_vectors(file)** in tbl_functions"
   ]
  },
  {
   "cell_type": "code",
   "execution_count": null,
   "metadata": {
    "collapsed": false
   },
   "outputs": [],
   "source": [
    "pmtrwf, pmtblr, sipmrwf = tbl.get_vectors(h5rwf)"
   ]
  },
  {
   "cell_type": "code",
   "execution_count": null,
   "metadata": {
    "collapsed": false
   },
   "outputs": [],
   "source": [
    "NEVT, NPMT, PMTWL = pmtrwf.shape\n",
    "NEVT, NSIPM, SIPMWL = sipmrwf.shape\n",
    "print(\"\"\"\n",
    "        Number of events in file = {}\n",
    "        Number of PMTs = {}\n",
    "        PMTWL = {}\n",
    "        Number of SiPMs = {}\n",
    "        SiPMWL = {}\n",
    "      \"\"\".format(NEVT, NPMT, PMTWL,NSIPM, SIPMWL))"
   ]
  },
  {
   "cell_type": "code",
   "execution_count": null,
   "metadata": {
    "collapsed": false
   },
   "outputs": [],
   "source": []
  },
  {
   "cell_type": "markdown",
   "metadata": {
    "collapsed": false
   },
   "source": [
    "### Access to data base and definition of units"
   ]
  },
  {
   "cell_type": "code",
   "execution_count": null,
   "metadata": {
    "collapsed": false
   },
   "outputs": [],
   "source": [
    "DataPMT = load_db.DataPMT(2983)\n",
    "units = SystemOfUnits()\n",
    "adc_to_pes = abs(DataPMT.adc_to_pes.values)\n",
    "coeff_c = abs(DataPMT.coeff_c.values)\n",
    "coeff_blr = abs(DataPMT.coeff_blr.values)\n",
    "DataSiPM = load_db.DataSiPM()\n",
    "adc_to_pes_sipm = DataSiPM.adc_to_pes.values\n",
    "xs = DataSiPM.X.values\n",
    "ys = DataSiPM.Y.values"
   ]
  },
  {
   "cell_type": "markdown",
   "metadata": {
    "collapsed": false
   },
   "source": [
    "### Instance"
   ]
  },
  {
   "cell_type": "code",
   "execution_count": null,
   "metadata": {
    "collapsed": false
   },
   "outputs": [],
   "source": [
    "s1par = S12P(tmin       = 10 * units.mus,\n",
    "                 tmax   = 590 * units.mus,\n",
    "                 stride = 4,\n",
    "                 lmin   = 6,\n",
    "                 lmax   = 16,\n",
    "                 rebin  = False)\n",
    "\n",
    "s2par = S12P(tmin       = 590 * units.mus,\n",
    "                 tmax   = 620 * units.mus,\n",
    "                 stride = 40,\n",
    "                 lmin   = 100,\n",
    "                 lmax   = 1000,\n",
    "                 rebin  = True)\n",
    "\n",
    "irene = Irene(run_number  = 2983,\n",
    "                 files_in    = [RWF_file],\n",
    "                 file_out    = PMP_file,\n",
    "                 compression = 'ZLIB4',\n",
    "                 nprint      = 1,\n",
    "                 n_baseline  = 38000,\n",
    "                 thr_trigger = 5.0 * units.adc,\n",
    "                 n_MAU       = 100,\n",
    "                 thr_MAU     = 3.0 * units.adc,\n",
    "                 thr_csum_s1 = 0.2 * units.adc,\n",
    "                 thr_csum_s2 = 1.0 * units.adc,\n",
    "                 n_MAU_sipm  = 100,\n",
    "                 thr_sipm    = 5.0 * units.pes,\n",
    "                 s1_params   = s1par,\n",
    "                 s2_params   = s2par,\n",
    "                 thr_sipm_s2 = 30. * units.pes)"
   ]
  },
  {
   "cell_type": "code",
   "execution_count": null,
   "metadata": {
    "collapsed": false
   },
   "outputs": [],
   "source": [
    "def irene_run(irene, evt):\n",
    "    # Check that PMAPS tables are written correctly\n",
    "    \n",
    "    with tb.open_file(irene.input_files[0], \"r\") as h5in:\n",
    "        with tb.open_file(irene.output_file, \"w\",\n",
    "            filters = tbl.filters(irene.compression)) as pmap_file:\n",
    "\n",
    "            irene._set_pmap_store(pmap_file)\n",
    "            irene.eventsInfo = h5in.root.Run.events\n",
    "            pmtrwf  = h5in.root.RD. pmtrwf\n",
    "            sipmrwf = h5in.root.RD.sipmrwf\n",
    "\n",
    "            CWF = irene.deconv_pmt(pmtrwf[evt])\n",
    "            csum, csum_mau = irene.calibrated_pmt_sum(CWF)\n",
    "            s1_ene, s1_indx = irene.csum_zs(csum_mau,\n",
    "                                             threshold = irene.thr_csum_s1)\n",
    "            s2_ene, s2_indx = irene.csum_zs(csum,\n",
    "                                             threshold = irene.thr_csum_s2)\n",
    "\n",
    "            sipmzs = irene.calibrated_signal_sipm(sipmrwf[evt])\n",
    "            S1, S2 = irene.find_S12(s1_ene, s1_indx, s2_ene, s2_indx)\n",
    "            S2Si = irene.find_S2Si(S2, sipmzs)\n",
    "            irene._store_pmaps(0, 0, S1, S2, S2Si)\n",
    "\n",
    "            assert irene.s1t == pmap_file.root.PMAPS.S1\n",
    "            assert irene.s2t == pmap_file.root.PMAPS.S2\n",
    "            assert irene.s2sit == pmap_file.root.PMAPS.S2Si\n",
    "            \n",
    "    return CWF, csum, csum_mau, s1_ene, s2_ene, S1, S2, S2Si \n",
    "\n"
   ]
  },
  {
   "cell_type": "code",
   "execution_count": null,
   "metadata": {
    "collapsed": false
   },
   "outputs": [],
   "source": [
    "CWF, csum, csum_mau, s1_ene, s2_ene, S1, S2, S2Si = irene_run(irene, evt=0)"
   ]
  },
  {
   "cell_type": "code",
   "execution_count": null,
   "metadata": {
    "collapsed": false
   },
   "outputs": [],
   "source": [
    "wfm.plot_pmt_waveforms(CWF, zoom=False, window_size=2000)"
   ]
  },
  {
   "cell_type": "code",
   "execution_count": null,
   "metadata": {
    "collapsed": false
   },
   "outputs": [],
   "source": []
  },
  {
   "cell_type": "code",
   "execution_count": null,
   "metadata": {
    "collapsed": false
   },
   "outputs": [],
   "source": [
    "tmin=0\n",
    "tmax=1200\n",
    "mpl.plot_signal_vs_time_mus(csum, t_min=tmin, t_max=tmax, signal_min=-2, signal_max=60)"
   ]
  },
  {
   "cell_type": "code",
   "execution_count": null,
   "metadata": {
    "collapsed": false
   },
   "outputs": [],
   "source": [
    "tmin=590\n",
    "tmax=620\n",
    "mpl.plot_signal_vs_time_mus(csum, t_min=tmin, t_max=tmax, signal_min=-2, signal_max=60)"
   ]
  },
  {
   "cell_type": "code",
   "execution_count": null,
   "metadata": {
    "collapsed": false
   },
   "outputs": [],
   "source": [
    "tmin=0\n",
    "tmax=1200\n",
    "mpl.plot_signal_vs_time_mus(csum_mau, t_min=tmin, t_max=tmax, signal_min=-2, signal_max=60)"
   ]
  },
  {
   "cell_type": "code",
   "execution_count": null,
   "metadata": {
    "collapsed": false
   },
   "outputs": [],
   "source": [
    "S1"
   ]
  },
  {
   "cell_type": "code",
   "execution_count": null,
   "metadata": {
    "collapsed": false
   },
   "outputs": [],
   "source": [
    "tmin=0\n",
    "tmax=200\n",
    "mpl.plot_signal_vs_time_mus(csum_mau, t_min=tmin, t_max=tmax, signal_min=-2, signal_max=5)"
   ]
  },
  {
   "cell_type": "code",
   "execution_count": null,
   "metadata": {
    "collapsed": false
   },
   "outputs": [],
   "source": [
    "tmin=240\n",
    "tmax=280\n",
    "mpl.plot_signal_vs_time_mus(csum_mau, t_min=tmin, t_max=tmax, signal_min=-2, signal_max=20)"
   ]
  },
  {
   "cell_type": "code",
   "execution_count": null,
   "metadata": {
    "collapsed": false
   },
   "outputs": [],
   "source": [
    "tmin=367\n",
    "tmax=369\n",
    "mpl.plot_signal_vs_time_mus(csum_mau, t_min=tmin, t_max=tmax, signal_min=-2, signal_max=10)"
   ]
  },
  {
   "cell_type": "code",
   "execution_count": null,
   "metadata": {
    "collapsed": false
   },
   "outputs": [],
   "source": [
    "csum, csum_mau, s1_ene, s2_ene, S1, S2, S2Si = irene_run(irene, evt=100)"
   ]
  },
  {
   "cell_type": "code",
   "execution_count": null,
   "metadata": {
    "collapsed": false
   },
   "outputs": [],
   "source": [
    "S1"
   ]
  },
  {
   "cell_type": "code",
   "execution_count": null,
   "metadata": {
    "collapsed": false
   },
   "outputs": [],
   "source": [
    "tmin=0\n",
    "tmax=1200\n",
    "mpl.plot_signal_vs_time_mus(csum_mau, t_min=tmin, t_max=tmax, signal_min=-2, signal_max=60)"
   ]
  },
  {
   "cell_type": "code",
   "execution_count": null,
   "metadata": {
    "collapsed": false
   },
   "outputs": [],
   "source": [
    "S2"
   ]
  },
  {
   "cell_type": "code",
   "execution_count": null,
   "metadata": {
    "collapsed": false
   },
   "outputs": [],
   "source": []
  },
  {
   "cell_type": "markdown",
   "metadata": {
    "collapsed": false
   },
   "source": [
    "### Step 1: Deconvolution (from RWF to CWF)"
   ]
  },
  {
   "cell_type": "markdown",
   "metadata": {
    "collapsed": false
   },
   "source": [
    "#### A deconvolution algorithm (V. Herrero, JJGC) takes the distorted RWF and produces corrected waveforms (CWF) where the effect of the FEE has been deconvoluted.\n",
    "\n",
    "Found in module **invisible_cities.sierpe.blr**\n",
    "\n",
    "Signature: **deconv_pmt(RWF, coeff_c, coeff_blr, n_baseline=28000, thr_trigger=5)**"
   ]
  },
  {
   "cell_type": "markdown",
   "metadata": {
    "collapsed": false
   },
   "source": [
    "**Run over one event**"
   ]
  },
  {
   "cell_type": "code",
   "execution_count": null,
   "metadata": {
    "collapsed": false
   },
   "outputs": [],
   "source": [
    "event = 0\n",
    "BLR = pmtblr[event]\n",
    "RWF = pmtrwf[event]"
   ]
  },
  {
   "cell_type": "code",
   "execution_count": null,
   "metadata": {
    "collapsed": false
   },
   "outputs": [],
   "source": [
    "t0 = time()\n",
    "CWF = blr.deconv_pmt(RWF, coeff_c, coeff_blr, n_baseline=28000, thr_trigger=5)\n",
    "t1 = time()        \n",
    "dt = t1 - t0\n",
    "print(\"run  in {} s\".format(dt))"
   ]
  },
  {
   "cell_type": "markdown",
   "metadata": {
    "collapsed": false
   },
   "source": [
    "To plot the waveforms use **invisible_cities.core.wfm_functions** function:\n",
    "\n",
    "**plot_pmt_waveforms(WF)** where WF is a vector of waveforms"
   ]
  },
  {
   "cell_type": "code",
   "execution_count": null,
   "metadata": {
    "collapsed": false
   },
   "outputs": [],
   "source": [
    "wfm.plot_pmt_waveforms(RWF, zoom=True, window_size=2000)"
   ]
  },
  {
   "cell_type": "markdown",
   "metadata": {
    "collapsed": false
   },
   "source": [
    "Notice the small S1, which is observed in a few of the waveforms. S1 for 40 keV electrons is small (a few PES) and thus the probability of observing zero PES in one of the PMTs is high. "
   ]
  },
  {
   "cell_type": "code",
   "execution_count": null,
   "metadata": {
    "collapsed": false
   },
   "outputs": [],
   "source": [
    "RWF_file = os.path.join(os.environ['IC_DATA'],'LSC/2983/run_2983.gdcsnext.9999.next1el_2983.root.h5')\n",
    "PMP_file = os.path.join(os.environ['IC_DATA'],'LSC/PMP_2983/run_2983.gdcsnext.9999.next1el_2983.root.h5')"
   ]
  },
  {
   "cell_type": "code",
   "execution_count": null,
   "metadata": {
    "collapsed": false
   },
   "outputs": [],
   "source": [
    "if h5rwf:\n",
    "    h5rwf.close()\n",
    "h5rwf = tb.open_file(RWF_file,'r')"
   ]
  },
  {
   "cell_type": "code",
   "execution_count": null,
   "metadata": {
    "collapsed": false
   },
   "outputs": [],
   "source": [
    "pmtrwf, pmtblr, sipmrwf = tbl.get_vectors(h5rwf)\n",
    "NEVT, NPMT, PMTWL = pmtrwf.shape\n",
    "NEVT, NSIPM, SIPMWL = sipmrwf.shape\n",
    "print(\"\"\"\n",
    "        Number of events in file = {}\n",
    "        Number of PMTs = {}\n",
    "        PMTWL = {}\n",
    "        Number of SiPMs = {}\n",
    "        SiPMWL = {}\n",
    "      \"\"\".format(NEVT, NPMT, PMTWL,NSIPM, SIPMWL))"
   ]
  },
  {
   "cell_type": "code",
   "execution_count": null,
   "metadata": {
    "collapsed": false
   },
   "outputs": [],
   "source": [
    "event = 0\n",
    "BLR = pmtblr[event]\n",
    "RWF = pmtrwf[event]"
   ]
  },
  {
   "cell_type": "code",
   "execution_count": null,
   "metadata": {
    "collapsed": false
   },
   "outputs": [],
   "source": [
    "wfm.plot_pmt_waveforms(RWF, zoom=True, window_size=2000)"
   ]
  },
  {
   "cell_type": "code",
   "execution_count": null,
   "metadata": {
    "collapsed": false
   },
   "outputs": [],
   "source": []
  },
  {
   "cell_type": "markdown",
   "metadata": {
    "collapsed": false
   },
   "source": [
    "#### Plot BLR on top of CWF. Excellent match"
   ]
  },
  {
   "cell_type": "code",
   "execution_count": null,
   "metadata": {
    "collapsed": false
   },
   "outputs": [],
   "source": [
    "wfm.plot_wfa_wfb(CWF, BLR, zoom=True, window_size=200) "
   ]
  },
  {
   "cell_type": "markdown",
   "metadata": {
    "collapsed": false
   },
   "source": [
    "### Step 2: calibrated PMT sum"
   ]
  },
  {
   "cell_type": "markdown",
   "metadata": {
    "collapsed": false
   },
   "source": [
    "#### The PMTs of the energy plane are calibrated (dividing by calibration constants) and added. "
   ]
  },
  {
   "cell_type": "code",
   "execution_count": null,
   "metadata": {
    "collapsed": false
   },
   "outputs": [],
   "source": [
    "event=0\n",
    "t0 = time()\n",
    "CWF = blr.deconv_pmt(RWF, coeff_c, coeff_blr)\n",
    "csum, csum_mau = cpf.calibrated_pmt_sum(CWF, adc_to_pes, n_MAU=100, thr_MAU=3) \n",
    "t1 = time()        \n",
    "dt = t1 - t0\n",
    "\n",
    "print(\"run over  one event  in {} s\".format(dt))"
   ]
  },
  {
   "cell_type": "code",
   "execution_count": null,
   "metadata": {
    "collapsed": false
   },
   "outputs": [],
   "source": [
    "tmin=120\n",
    "tmax=130\n",
    "mpl.plot_signal_vs_time_mus(csum, t_min=tmin, t_max=tmax, signal_min=-2, signal_max=100)\n",
    "#mpl.plot_signal_vs_time_mus(csum_mau, t_min=tmin, t_max=tmax, signal_min=-2, signal_max=100)"
   ]
  },
  {
   "cell_type": "markdown",
   "metadata": {
    "collapsed": false
   },
   "source": [
    "#### Notice that MAU introduces a bias in the signal region, thus csum in the signal region must be used without MAU"
   ]
  },
  {
   "cell_type": "code",
   "execution_count": null,
   "metadata": {
    "collapsed": false
   },
   "outputs": [],
   "source": [
    "tmin=99\n",
    "tmax=101\n",
    "mpl.plot_signal_vs_time_mus(csum, t_min=tmin, t_max=tmax, signal_min=-2, signal_max=2)\n",
    "mpl.plot_signal_vs_time_mus(csum_mau, t_min=tmin, t_max=tmax, signal_min=-2, signal_max=2)"
   ]
  },
  {
   "cell_type": "markdown",
   "metadata": {
    "collapsed": false
   },
   "source": [
    "#### MAU works very nicely to search for S1, since it eliminates the pedestal. "
   ]
  },
  {
   "cell_type": "markdown",
   "metadata": {
    "collapsed": false
   },
   "source": [
    "#### Test: the calibrated sum of the BLR and the CWF must be very close"
   ]
  },
  {
   "cell_type": "code",
   "execution_count": null,
   "metadata": {
    "collapsed": false
   },
   "outputs": [],
   "source": [
    "def calibrated_sum_cwf_blr_diff(pmtrwf, pmtblr, event_list=[10], \n",
    "                                plot=False, window=200):\n",
    "    \"\"\"Test that the calibrated sum of the BLR and the CWF is the same within tolerance\"\"\"\n",
    "    \n",
    "    DataPMT = load_db.DataPMT()\n",
    "    coeff_c = abs(DataPMT.coeff_c.values)\n",
    "    coeff_blr = abs(DataPMT.coeff_blr.values)\n",
    "    adc_to_pes = abs(DataPMT.adc_to_pes.values)\n",
    "    DIFF = []\n",
    "    for event in event_list:     \n",
    "        CWF = blr.deconv_pmt(pmtrwf[event], coeff_c, coeff_blr)\n",
    "        csum_cwf, _ = cpf.calibrated_pmt_sum(CWF, adc_to_pes)\n",
    "        csum_blr, _ = cpf.calibrated_pmt_sum(pmtblr[event].astype(np.float64), adc_to_pes)\n",
    "        diff = csum_cwf - csum_blr\n",
    "        norm = np.sum(csum_blr)\n",
    "        if plot:\n",
    "            wfm.plot_waveform(diff, zoom=plot, window_size=window)\n",
    "            plt.show()\n",
    "        DIFF.append(np.sum(diff)/norm)\n",
    "    return DIFF\n"
   ]
  },
  {
   "cell_type": "code",
   "execution_count": null,
   "metadata": {
    "collapsed": false
   },
   "outputs": [],
   "source": [
    "diff = calibrated_sum_cwf_blr_diff(pmtrwf, pmtblr, event_list=lrange(10))"
   ]
  },
  {
   "cell_type": "code",
   "execution_count": null,
   "metadata": {
    "collapsed": false
   },
   "outputs": [],
   "source": [
    "mpl.histo(diff, nbins=10, \n",
    "          title=\"diff BLR-CWF\", xlabel=\"abs(e[blr] - e[cwf])\", ylabel=\"Frequency\")"
   ]
  },
  {
   "cell_type": "markdown",
   "metadata": {
    "collapsed": false
   },
   "source": [
    "### Step 3: Zero suppression"
   ]
  },
  {
   "cell_type": "markdown",
   "metadata": {
    "collapsed": false
   },
   "source": [
    "#### ZS is performed separately for S1 (using csum_MAU) and for S2 (using csum)"
   ]
  },
  {
   "cell_type": "code",
   "execution_count": null,
   "metadata": {
    "collapsed": false
   },
   "outputs": [],
   "source": [
    "event = 0\n",
    "t0 = time()\n",
    "CWF = blr.deconv_pmt(pmtrwf[event], coeff_c, coeff_blr)\n",
    "csum, csum_mau = cpf.calibrated_pmt_sum(CWF, adc_to_pes, n_MAU=100, thr_MAU=3) \n",
    "s2_ene, s2_indx = cpf.wfzs(csum, threshold=1.0*units.pes)\n",
    "s2_t = cpf.time_from_index(s2_indx)\n",
    "s1_ene, s1_indx = cpf.wfzs(csum_mau, threshold=0.2*units.pes)\n",
    "s1_t = cpf.time_from_index(s1_indx)\n",
    "t1 = time()        \n",
    "dt = t1 - t0\n",
    "\n",
    "print(\"run  in {} s\".format(dt))"
   ]
  },
  {
   "cell_type": "code",
   "execution_count": null,
   "metadata": {
    "collapsed": false
   },
   "outputs": [],
   "source": [
    "mpl.plot_signal(s2_t/units.mus, s2_ene, title=\"calibrated sum, ZS\",\n",
    "                signal_start=120, signal_end=130, \n",
    "                ymax = 150, \n",
    "                t_units='mus', units=\"pes\")"
   ]
  },
  {
   "cell_type": "code",
   "execution_count": null,
   "metadata": {
    "collapsed": false
   },
   "outputs": [],
   "source": [
    "mpl.plot_signal(s1_t/units.mus, s1_ene, title=\"calibrated sum\",\n",
    "                signal_start=99, signal_end=101, \n",
    "                ymax = 2, t_units='mus', units=\"pes\")"
   ]
  },
  {
   "cell_type": "markdown",
   "metadata": {
    "collapsed": false
   },
   "source": [
    "### Step 4: Find S12 "
   ]
  },
  {
   "cell_type": "markdown",
   "metadata": {
    "collapsed": false
   },
   "source": [
    "**S1 and S2 signals are found from the ZS waveform**\n",
    "\n",
    "1. S1: Search the first 600 mus (in the MC S1 is always at 100 mus but not in the data). The S1 signal must be at least 100 ns long (this is the minimum length of S1 after the shaping of the electronics) and not larger than 500 ns. The stride counts the number of bins that need to have signal. A stride of 4 means that there must be at least 0.5 pes each 100 ns (4 x 25 ns, where 25 ns is the DAQ sampling time). \n",
    "\n",
    "2. Search in the whole window (in the MC data, S2 can be anywhere after 100 mus, in the data it will tipically be placed in the middle of the DAQ window, thus one would search in the range [600, 1200] ns. The minimum length is 120 bins (120 x 25 = 3000 ns), no limit in the max length of the signal is not restricted (in order to avoid a bias, but one could further select the signal with a max width cut), the stride is taken to 40 (1 mus) and the signal is rebinned also in bins of 1 mus"
   ]
  },
  {
   "cell_type": "code",
   "execution_count": null,
   "metadata": {
    "collapsed": false
   },
   "outputs": [],
   "source": [
    "event = 0\n",
    "t0 = time()\n",
    "CWF = blr.deconv_pmt(pmtrwf[event], coeff_c, coeff_blr)\n",
    "csum, csum_mau = cpf.calibrated_pmt_sum(CWF, adc_to_pes, n_MAU=100, thr_MAU=3) \n",
    "s2_ene, s2_indx = cpf.wfzs(csum, threshold=1.0*units.pes)\n",
    "s2_t = cpf.time_from_index(s2_indx)\n",
    "s1_ene, s1_indx = cpf.wfzs(csum_mau, threshold=0.2*units.pes)\n",
    "s1_t = cpf.time_from_index(s1_indx)\n",
    "\n",
    "S1 = cpf.find_S12(s1_ene, s1_indx, tmin=0,  tmax=110*units.mus, \n",
    "                 lmin=4, lmax=16, stride=4,\n",
    "                 rebin=False)\n",
    "\n",
    "S2 = cpf.find_S12(s2_ene, s2_indx, tmin=110*units.mus,  tmax=1100*units.mus, \n",
    "                 lmin=80, lmax=10000, stride=40,\n",
    "                 rebin=True, rebin_stride=40)\n",
    "t1 = time()        \n",
    "dt = t1 - t0\n",
    "\n",
    "print(\"run  in {} s\".format(dt))"
   ]
  },
  {
   "cell_type": "markdown",
   "metadata": {
    "collapsed": false
   },
   "source": [
    "#### S1 and and S2 signals"
   ]
  },
  {
   "cell_type": "code",
   "execution_count": null,
   "metadata": {
    "collapsed": false
   },
   "outputs": [],
   "source": [
    "S1"
   ]
  },
  {
   "cell_type": "code",
   "execution_count": null,
   "metadata": {
    "collapsed": false
   },
   "outputs": [],
   "source": [
    "S2"
   ]
  },
  {
   "cell_type": "markdown",
   "metadata": {
    "collapsed": false
   },
   "source": [
    "There is one S2 in this event. The format of S2 is:\n",
    "\n",
    "**{s2_number:[array(T), array(E)]}**\n",
    "\n",
    "where the ZS waveform is expressed by the list **[array(T), array(E)]**"
   ]
  },
  {
   "cell_type": "markdown",
   "metadata": {
    "collapsed": false
   },
   "source": [
    "#### Structure of S1/S2\n",
    "1. Dictionary index counts the number of peaks\n",
    "2. Dict values are a list [T,E], where T and E are numpy arrays of Time and Energy"
   ]
  },
  {
   "cell_type": "code",
   "execution_count": null,
   "metadata": {
    "collapsed": false
   },
   "outputs": [],
   "source": [
    "pf.scan_s12(S1)"
   ]
  },
  {
   "cell_type": "code",
   "execution_count": null,
   "metadata": {
    "collapsed": false
   },
   "outputs": [],
   "source": [
    "pf.scan_s12(S2)"
   ]
  },
  {
   "cell_type": "markdown",
   "metadata": {
    "collapsed": false
   },
   "source": [
    "### SiPMs"
   ]
  },
  {
   "cell_type": "markdown",
   "metadata": {
    "collapsed": false
   },
   "source": [
    "In the case of MC Many of the SiPMs will contain exact zeros, since they had been ZS already at DIOMIRA level. For example, if we plot the first 16 SiPMs, we can see they are all exactly zero."
   ]
  },
  {
   "cell_type": "markdown",
   "metadata": {
    "collapsed": false
   },
   "source": [
    "Find SiPMs with signal: the threshold is set to 1 adc count to simply get rid of all SiPMs which have exactly zero signal (the output of DIOMIRA is already ZS)"
   ]
  },
  {
   "cell_type": "code",
   "execution_count": null,
   "metadata": {
    "collapsed": false
   },
   "outputs": [],
   "source": [
    "event=1\n",
    "sipm_i = sf.sipm_with_signal(sipmrwf[event], thr=1*units.adc) "
   ]
  },
  {
   "cell_type": "code",
   "execution_count": null,
   "metadata": {
    "collapsed": false
   },
   "outputs": [],
   "source": [
    "sipm_i"
   ]
  },
  {
   "cell_type": "code",
   "execution_count": null,
   "metadata": {
    "collapsed": false
   },
   "outputs": [],
   "source": [
    "sf.plot_sipm_list(sipmrwf[event], sipm_i)"
   ]
  },
  {
   "cell_type": "markdown",
   "metadata": {
    "collapsed": false
   },
   "source": [
    "### Subtract baseline, and set a cut to supress dark current"
   ]
  },
  {
   "cell_type": "markdown",
   "metadata": {
    "collapsed": false
   },
   "source": [
    "in the MC the data comes already ZS. In data one needs to set a cut in order to ZS the SiPMs. "
   ]
  },
  {
   "cell_type": "code",
   "execution_count": null,
   "metadata": {
    "collapsed": false
   },
   "outputs": [],
   "source": [
    "event=1\n",
    "t0 = time()\n",
    "sipm = cpf.signal_sipm(sipmrwf[event], adc_to_pes_sipm, thr=5*units.pes, n_MAU=100)\n",
    "SIPM = cpf.select_sipm(sipm)\n",
    "t1 = time()        \n",
    "dt = t1 - t0\n",
    "\n",
    "print(\"run in {} s\".format(dt))\n",
    "print('number of SiPM with signal = {}'.format(len(SIPM)))"
   ]
  },
  {
   "cell_type": "markdown",
   "metadata": {
    "collapsed": false
   },
   "source": [
    "### PMAPS"
   ]
  },
  {
   "cell_type": "markdown",
   "metadata": {
    "collapsed": false
   },
   "source": [
    "#### Structure of a PMAP\n",
    "1. S1 and S2 are dictionaries: each dictionary index is one S1/S2 candidate. Each dictionary value is a list which contains two elements. Element [0] is a np vector of times, element[1] is a np vector of energies in pes.\n",
    "2. S2Si is a dictionary. Each index correspond to the S2 index. Each value is a list, whose length is equal to the number of SiPM with no zero signal in the S2 window. The list has as a first element the SiPM index and as a second the energy of each SiPM in the S2 window. Time is not neeeded (comes with S2)."
   ]
  },
  {
   "cell_type": "markdown",
   "metadata": {
    "collapsed": false
   },
   "source": [
    "#### S2 window\n",
    "1. Given an S2 (T,E), obtain the relevant index range. \n",
    "2. Given a vector with SIPMs (energies above threshold), returns\n",
    "    a list of np arrays. Each element of the list is the S2 window \n",
    "    in the SiPM (if not zero)\n",
    "3. Given a vector with SIPMs (energies above threshold), and a \n",
    "    dictionary of S2s, S2d, returns a dictionary of SiPMs-S2.\n",
    "    Each index of the dictionary correspond to one S2 and is\n",
    "    a list of np arrays. Each element of the list is the S2 window \n",
    "    in the SiPM (if not zero)"
   ]
  },
  {
   "cell_type": "markdown",
   "metadata": {
    "collapsed": false
   },
   "source": [
    "## The full pre-proc "
   ]
  },
  {
   "cell_type": "code",
   "execution_count": null,
   "metadata": {
    "collapsed": false
   },
   "outputs": [],
   "source": [
    "S12P= namedtuple('S12Params', 'tmin tmax lmin lmax stride')"
   ]
  },
  {
   "cell_type": "code",
   "execution_count": null,
   "metadata": {
    "collapsed": false
   },
   "outputs": [],
   "source": [
    "PMPT = namedtuple('PMPT', 'thr_s1 thr_s2 thr_MAU thr_sipm thr_SIPM')"
   ]
  },
  {
   "cell_type": "code",
   "execution_count": null,
   "metadata": {
    "collapsed": false
   },
   "outputs": [],
   "source": [
    "s1par = S12P(tmin=90*units.mus, tmax=110*units.mus, lmin=4, lmax=20, stride=4)"
   ]
  },
  {
   "cell_type": "code",
   "execution_count": null,
   "metadata": {
    "collapsed": false
   },
   "outputs": [],
   "source": [
    "s1par"
   ]
  },
  {
   "cell_type": "code",
   "execution_count": null,
   "metadata": {
    "collapsed": false
   },
   "outputs": [],
   "source": [
    "s2par = S12P(tmin=110*units.mus, tmax=1190*units.mus, lmin=80, lmax=200000, stride=40)"
   ]
  },
  {
   "cell_type": "code",
   "execution_count": null,
   "metadata": {
    "collapsed": false
   },
   "outputs": [],
   "source": [
    "s2par"
   ]
  },
  {
   "cell_type": "code",
   "execution_count": null,
   "metadata": {
    "collapsed": false
   },
   "outputs": [],
   "source": [
    "thr = PMPT(thr_s1=0.2*units.pes, \n",
    "                 thr_s2=1*units.pes, \n",
    "                 thr_MAU=3*units.adc, \n",
    "                 thr_sipm=5*units.pes, \n",
    "                 thr_SIPM=30*units.pes )"
   ]
  },
  {
   "cell_type": "code",
   "execution_count": null,
   "metadata": {
    "collapsed": false
   },
   "outputs": [],
   "source": [
    "thr"
   ]
  },
  {
   "cell_type": "code",
   "execution_count": null,
   "metadata": {
    "collapsed": false
   },
   "outputs": [],
   "source": [
    "Csum= namedtuple('CalibratedSum', 'csum csum_mau')"
   ]
  },
  {
   "cell_type": "code",
   "execution_count": null,
   "metadata": {
    "collapsed": false
   },
   "outputs": [],
   "source": [
    "Pmp = namedtuple('PMaps', 'S1 S2 S2Si')"
   ]
  },
  {
   "cell_type": "code",
   "execution_count": null,
   "metadata": {
    "collapsed": false
   },
   "outputs": [],
   "source": [
    "a = None"
   ]
  },
  {
   "cell_type": "code",
   "execution_count": null,
   "metadata": {
    "collapsed": false
   },
   "outputs": [],
   "source": [
    "if a:\n",
    "    print('a is not monja')\n",
    "else:\n",
    "    print('a is monja')\n"
   ]
  },
  {
   "cell_type": "code",
   "execution_count": null,
   "metadata": {
    "collapsed": false
   },
   "outputs": [],
   "source": []
  },
  {
   "cell_type": "code",
   "execution_count": null,
   "metadata": {
    "collapsed": false
   },
   "outputs": [],
   "source": []
  },
  {
   "cell_type": "code",
   "execution_count": null,
   "metadata": {
    "collapsed": false
   },
   "outputs": [],
   "source": [
    "def compute_pmp(pmtrwf, s1par, s2par2, thresholds, event):\n",
    "    \"\"\"Compute S12 for event\"\"\"\n",
    "    \n",
    "    s1_params = s1par\n",
    "    s2_params = s2par\n",
    "    thr = thresholds\n",
    "    \n",
    "    # data base\n",
    "    DataPMT = load_db.DataPMT()\n",
    "    adc_to_pes = abs(DataPMT.adc_to_pes.values)\n",
    "    coeff_c = abs(DataPMT.coeff_c.values)\n",
    "    coeff_blr = abs(DataPMT.coeff_blr.values)\n",
    "    DataSiPM = load_db.DataSiPM()\n",
    "    adc_to_pes_sipm = DataSiPM.adc_to_pes.values\n",
    "\n",
    "    # deconv\n",
    "    CWF = blr.deconv_pmt(pmtrwf[event], coeff_c, coeff_blr)\n",
    "    \n",
    "    # calibrated sum\n",
    "    csum, csum_mau = cpf.calibrated_pmt_sum(CWF, adc_to_pes, n_MAU=100, thr_MAU=thr.thr_MAU)\n",
    "     \n",
    "    # zs sum\n",
    "    s2_ene, s2_indx = cpf.wfzs(csum, threshold=thr.thr_s2)\n",
    "    s2_t = cpf.time_from_index(s2_indx)\n",
    "    s1_ene, s1_indx = cpf.wfzs(csum_mau, threshold=thr.thr_s1)\n",
    "    s1_t = cpf.time_from_index(s1_indx)\n",
    "\n",
    "    # S1 and S2\n",
    "    S1 = cpf.find_S12(s1_ene, s1_indx, rebin = False, **s1_params._asdict())\n",
    "    S2 = cpf.find_S12(s2_ene, s2_indx, rebin=True, **s2_params._asdict())\n",
    "    \n",
    "    #S2Si\n",
    "    sipm = cpf.signal_sipm(sipmrwf[event], adc_to_pes_sipm, thr=thr.thr_sipm, n_MAU=100)\n",
    "    SIPM = cpf.select_sipm(sipm)\n",
    "    S2Si = pf.sipm_s2_dict(SIPM, S2, thr=thr.thr_SIPM)\n",
    "    return Csum(csum=csum, csum_mau=csum_mau), Pmp(S1=S1, S2=S2, S2Si=S2Si)"
   ]
  },
  {
   "cell_type": "code",
   "execution_count": null,
   "metadata": {
    "collapsed": false
   },
   "outputs": [],
   "source": [
    "CSUM, PMP = compute_pmp(pmtrwf, s1par, s2par, thr, event=0)"
   ]
  },
  {
   "cell_type": "code",
   "execution_count": null,
   "metadata": {
    "collapsed": false
   },
   "outputs": [],
   "source": [
    "def plot_signal_vs_time_mus(signal,\n",
    "                            t_min      =    0,\n",
    "                            t_max      = 1200,\n",
    "                            signal_min =    0,\n",
    "                            signal_max =  200,\n",
    "                            label=''):\n",
    "    \"\"\"Plot signal versus time in mus (tmin, tmax in mus). \"\"\"\n",
    "    tstep = 25 # in ns\n",
    "    PMTWL = signal.shape[0]\n",
    "    signal_t = np.arange(0., PMTWL * tstep, tstep)/units.mus\n",
    "    ax1 = plt.subplot(1, 1, 1)\n",
    "    ax1.set_xlim([t_min, t_max])\n",
    "    ax1.set_ylim([signal_min, signal_max])\n",
    "    mpl.set_plot_labels(xlabel = \"t (mus)\",\n",
    "                    ylabel = \"signal (pes/adc)\")\n",
    "    plt.plot(signal_t, signal, label=label)\n",
    "    legend = plt.legend(loc='upper right')\n",
    "    for label in legend.get_texts():\n",
    "        label.set_fontsize('small')"
   ]
  },
  {
   "cell_type": "code",
   "execution_count": null,
   "metadata": {
    "collapsed": false
   },
   "outputs": [],
   "source": [
    "def plot_csum_in_mus(CSUM, tmin, tmax, signal_min, signal_max):\n",
    "    \"\"\"Plots in mus (notice units)\"\"\"\n",
    "    plot_signal_vs_time_mus(CSUM.csum, \n",
    "                                t_min=tmin, t_max=tmax, \n",
    "                                signal_min=signal_min, signal_max=signal_max,\n",
    "                                label='CSUM')\n",
    "    plot_signal_vs_time_mus(CSUM.csum_mau, \n",
    "                                t_min=tmin, t_max=tmax, \n",
    "                                signal_min=signal_min, signal_max=signal_max,\n",
    "                                label='CSUM_MAU')"
   ]
  },
  {
   "cell_type": "code",
   "execution_count": null,
   "metadata": {
    "collapsed": false
   },
   "outputs": [],
   "source": [
    "plot_csum_in_mus(CSUM, tmin=120, tmax=130, signal_min=-2, signal_max=120)"
   ]
  },
  {
   "cell_type": "code",
   "execution_count": null,
   "metadata": {
    "collapsed": false
   },
   "outputs": [],
   "source": [
    "plot_csum_in_mus(CSUM, tmin=99, tmax=101, signal_min=-2, signal_max=2)"
   ]
  },
  {
   "cell_type": "code",
   "execution_count": null,
   "metadata": {
    "collapsed": false
   },
   "outputs": [],
   "source": [
    "pf.scan_s12(PMP.S1)"
   ]
  },
  {
   "cell_type": "code",
   "execution_count": null,
   "metadata": {
    "collapsed": false
   },
   "outputs": [],
   "source": [
    "pf.scan_s12(PMP.S2)"
   ]
  },
  {
   "cell_type": "code",
   "execution_count": null,
   "metadata": {
    "collapsed": false
   },
   "outputs": [],
   "source": [
    "PMP.S2Si"
   ]
  },
  {
   "cell_type": "markdown",
   "metadata": {
    "collapsed": false
   },
   "source": [
    "#### Plot SiPMs"
   ]
  },
  {
   "cell_type": "code",
   "execution_count": null,
   "metadata": {
    "collapsed": false
   },
   "outputs": [],
   "source": [
    "pf.plot_s2si_map(PMP.S2Si)"
   ]
  },
  {
   "cell_type": "markdown",
   "metadata": {
    "collapsed": false
   },
   "source": [
    "#### event=1"
   ]
  },
  {
   "cell_type": "code",
   "execution_count": null,
   "metadata": {
    "collapsed": false
   },
   "outputs": [],
   "source": [
    "CsPl= namedtuple('CsumPlot', 'tmin tmax signal_min signal_max')"
   ]
  },
  {
   "cell_type": "code",
   "execution_count": null,
   "metadata": {
    "collapsed": false
   },
   "outputs": [],
   "source": [
    "def describe_event(pmtrwf, s1par, s2par, thr, csumpl_s1, csumpl_s2, event=0):\n",
    "    CSUM, PMP = compute_pmp(pmtrwf, s1par, s2par, thr, event=event)\n",
    "    plot_csum_in_mus(CSUM, **csumpl_s1._asdict())\n",
    "    plt.show()\n",
    "    plot_csum_in_mus(CSUM, **csumpl_s2._asdict())\n",
    "    plt.show()\n",
    "    pf.scan_s12(PMP.S1)\n",
    "    plt.show()\n",
    "    pf.scan_s12(PMP.S2)\n",
    "    plt.show()\n",
    "    pf.plot_s2si_map(PMP.S2Si)\n",
    "    plt.show()"
   ]
  },
  {
   "cell_type": "code",
   "execution_count": null,
   "metadata": {
    "collapsed": false
   },
   "outputs": [],
   "source": [
    "csumpl_s2 = CsPl(tmin=120, tmax=130, signal_min=-2, signal_max=120)"
   ]
  },
  {
   "cell_type": "code",
   "execution_count": null,
   "metadata": {
    "collapsed": false
   },
   "outputs": [],
   "source": [
    "csumpl_s1 = CsPl(tmin=99, tmax=101, signal_min=-2, signal_max=2)"
   ]
  },
  {
   "cell_type": "code",
   "execution_count": null,
   "metadata": {
    "collapsed": false
   },
   "outputs": [],
   "source": [
    "describe_event(pmtrwf, s1par, s2par, thr, csumpl_s1, csumpl_s2, event=0)"
   ]
  },
  {
   "cell_type": "code",
   "execution_count": null,
   "metadata": {
    "collapsed": false
   },
   "outputs": [],
   "source": [
    "describe_event(pmtrwf, s1par, s2par, thr, csumpl_s1, csumpl_s2, event=1)"
   ]
  },
  {
   "cell_type": "code",
   "execution_count": null,
   "metadata": {
    "collapsed": false
   },
   "outputs": [],
   "source": [
    "describe_event(pmtrwf, s1par, s2par, thr, csumpl_s1, csumpl_s2, event=2)"
   ]
  },
  {
   "cell_type": "markdown",
   "metadata": {
    "collapsed": false
   },
   "source": [
    "## Case 2: electrons of 511 keV"
   ]
  },
  {
   "cell_type": "code",
   "execution_count": null,
   "metadata": {
    "collapsed": false
   },
   "outputs": [],
   "source": [
    "RWF_file = os.environ['IC_DATA']  + '/electrons_511keV_z250_RWF.h5'\n",
    "PMAP_file = os.environ['IC_DATA']  + '/electrons_511keV_z250_PMAP.h5'"
   ]
  },
  {
   "cell_type": "code",
   "execution_count": null,
   "metadata": {
    "collapsed": false
   },
   "outputs": [],
   "source": [
    "if h5rwf:\n",
    "    h5rwf.close()"
   ]
  },
  {
   "cell_type": "code",
   "execution_count": null,
   "metadata": {
    "collapsed": false
   },
   "outputs": [],
   "source": [
    "h5rwf = tb.open_file(RWF_file,'r')"
   ]
  },
  {
   "cell_type": "code",
   "execution_count": null,
   "metadata": {
    "collapsed": false
   },
   "outputs": [],
   "source": [
    "pmtrwf, pmtblr, sipmrwf = tbl.get_vectors(h5rwf)"
   ]
  },
  {
   "cell_type": "code",
   "execution_count": null,
   "metadata": {
    "collapsed": false
   },
   "outputs": [],
   "source": [
    "csumpl_s1 = CsPl(tmin=99, tmax=101, signal_min=-2, signal_max=20)\n",
    "csumpl_s2 = CsPl(tmin=300, tmax=400, signal_min=-2, signal_max=350)"
   ]
  },
  {
   "cell_type": "code",
   "execution_count": null,
   "metadata": {
    "collapsed": false
   },
   "outputs": [],
   "source": [
    "describe_event(pmtrwf, s1par, s2par, thr, csumpl_s1, csumpl_s2, event=0)"
   ]
  },
  {
   "cell_type": "markdown",
   "metadata": {
    "collapsed": false
   },
   "source": [
    "## Case 3: electrons of 1250 keV"
   ]
  },
  {
   "cell_type": "code",
   "execution_count": null,
   "metadata": {
    "collapsed": false
   },
   "outputs": [],
   "source": [
    "RWF_file = os.environ['IC_DATA']  + '/electrons_1250keV_z250_RWF.h5'\n",
    "PMAP_file = os.environ['IC_DATA']  + '/electrons_1250keV_z250_PMAP.h5'"
   ]
  },
  {
   "cell_type": "code",
   "execution_count": null,
   "metadata": {
    "collapsed": false
   },
   "outputs": [],
   "source": [
    "if h5rwf:\n",
    "    h5rwf.close()"
   ]
  },
  {
   "cell_type": "code",
   "execution_count": null,
   "metadata": {
    "collapsed": false
   },
   "outputs": [],
   "source": [
    "h5rwf = tb.open_file(RWF_file,'r')"
   ]
  },
  {
   "cell_type": "code",
   "execution_count": null,
   "metadata": {
    "collapsed": false
   },
   "outputs": [],
   "source": [
    "pmtrwf, pmtblr, sipmrwf = tbl.get_vectors(h5rwf)"
   ]
  },
  {
   "cell_type": "code",
   "execution_count": null,
   "metadata": {
    "collapsed": false
   },
   "outputs": [],
   "source": [
    "csumpl_s1 = CsPl(tmin=99, tmax=101, signal_min=-2, signal_max=40)\n",
    "csumpl_s2 = CsPl(tmin=110, tmax=160, signal_min=-2, signal_max=900)"
   ]
  },
  {
   "cell_type": "code",
   "execution_count": null,
   "metadata": {
    "collapsed": false
   },
   "outputs": [],
   "source": [
    "describe_event(pmtrwf, s1par, s2par, thr, csumpl_s1, csumpl_s2, event=0)"
   ]
  },
  {
   "cell_type": "markdown",
   "metadata": {
    "collapsed": false
   },
   "source": [
    "## Case 4: electrons of 2500 keV"
   ]
  },
  {
   "cell_type": "code",
   "execution_count": null,
   "metadata": {
    "collapsed": false
   },
   "outputs": [],
   "source": [
    "RWF_file = os.environ['IC_DATA']  + '/electrons_2500keV_z250_RWF.h5'\n",
    "PMAP_file = os.environ['IC_DATA']  + '/electrons_2500keV_z250_PMAP.h5'"
   ]
  },
  {
   "cell_type": "code",
   "execution_count": null,
   "metadata": {
    "collapsed": false
   },
   "outputs": [],
   "source": [
    "if h5rwf:\n",
    "    h5rwf.close()"
   ]
  },
  {
   "cell_type": "code",
   "execution_count": null,
   "metadata": {
    "collapsed": false
   },
   "outputs": [],
   "source": [
    "h5rwf = tb.open_file(RWF_file,'r')"
   ]
  },
  {
   "cell_type": "code",
   "execution_count": null,
   "metadata": {
    "collapsed": false
   },
   "outputs": [],
   "source": [
    "pmtrwf, pmtblr, sipmrwf = tbl.get_vectors(h5rwf)"
   ]
  },
  {
   "cell_type": "code",
   "execution_count": null,
   "metadata": {
    "collapsed": false
   },
   "outputs": [],
   "source": [
    "csumpl_s1 = CsPl(tmin=99, tmax=101, signal_min=-2, signal_max=90)\n",
    "csumpl_s2 = CsPl(tmin=90, tmax=300, signal_min=-2, signal_max=500)"
   ]
  },
  {
   "cell_type": "code",
   "execution_count": null,
   "metadata": {
    "collapsed": false
   },
   "outputs": [],
   "source": [
    "describe_event(pmtrwf, s1par, s2par, thr, csumpl_s1, csumpl_s2, event=2)"
   ]
  },
  {
   "cell_type": "markdown",
   "metadata": {
    "collapsed": false
   },
   "source": [
    "End of notebook"
   ]
  }
 ],
 "metadata": {
  "anaconda-cloud": {},
  "kernelspec": {
   "display_name": "Python 3",
   "language": "python",
   "name": "python3"
  },
  "language_info": {
   "codemirror_mode": {
    "name": "ipython",
    "version": 3
   },
   "file_extension": ".py",
   "mimetype": "text/x-python",
   "name": "python",
   "nbconvert_exporter": "python",
   "pygments_lexer": "ipython3",
   "version": "3.6.0"
  }
 },
 "nbformat": 4,
 "nbformat_minor": 0
}
