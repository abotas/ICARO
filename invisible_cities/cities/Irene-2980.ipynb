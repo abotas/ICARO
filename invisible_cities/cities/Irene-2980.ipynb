{
 "cells": [
  {
   "cell_type": "markdown",
   "metadata": {
    "collapsed": false
   },
   "source": [
    "\n",
    "# IRENE-2980"
   ]
  },
  {
   "cell_type": "code",
   "execution_count": null,
   "metadata": {
    "collapsed": false
   },
   "outputs": [],
   "source": [
    "import datetime"
   ]
  },
  {
   "cell_type": "code",
   "execution_count": null,
   "metadata": {
    "collapsed": false
   },
   "outputs": [],
   "source": [
    "print(datetime.datetime.now().strftime('%Y-%m-%d %H:%M:%S'))"
   ]
  },
  {
   "cell_type": "code",
   "execution_count": null,
   "metadata": {
    "collapsed": false
   },
   "outputs": [],
   "source": [
    "from __future__ import print_function\n",
    "import sys\n",
    "import os\n",
    "from glob import glob\n",
    "from time import time"
   ]
  },
  {
   "cell_type": "code",
   "execution_count": null,
   "metadata": {
    "collapsed": false
   },
   "outputs": [],
   "source": [
    "%matplotlib inline\n",
    "%load_ext autoreload\n",
    "%autoreload 2\n",
    "import matplotlib.pyplot as plt\n",
    "import pandas as pd\n",
    "import tables as tb\n",
    "import numpy as np\n",
    "import math\n"
   ]
  },
  {
   "cell_type": "code",
   "execution_count": null,
   "metadata": {
    "collapsed": false
   },
   "outputs": [],
   "source": [
    "from invisible_cities.database import load_db\n",
    "from invisible_cities.core.system_of_units_c import SystemOfUnits\n",
    "import invisible_cities.sierpe.blr as blr\n",
    "import invisible_cities.core.mpl_functions as mpl\n",
    "import invisible_cities.core.wfm_functions as wfm\n",
    "import invisible_cities.core.tbl_functions as tbl\n",
    "import invisible_cities.core.peak_functions_c as cpf\n",
    "import invisible_cities.core.pmaps_functions as pf\n",
    "import invisible_cities.core.sensor_functions as sf"
   ]
  },
  {
   "cell_type": "code",
   "execution_count": null,
   "metadata": {
    "collapsed": false
   },
   "outputs": [],
   "source": [
    "from invisible_cities.core.core_functions import define_window"
   ]
  },
  {
   "cell_type": "code",
   "execution_count": null,
   "metadata": {
    "collapsed": false
   },
   "outputs": [],
   "source": [
    "from invisible_cities.core.core_functions import lrange"
   ]
  },
  {
   "cell_type": "code",
   "execution_count": null,
   "metadata": {
    "collapsed": false
   },
   "outputs": [],
   "source": [
    "from collections import namedtuple"
   ]
  },
  {
   "cell_type": "code",
   "execution_count": null,
   "metadata": {
    "collapsed": false
   },
   "outputs": [],
   "source": [
    "from   invisible_cities.core.params import S12Params as S12P"
   ]
  },
  {
   "cell_type": "code",
   "execution_count": null,
   "metadata": {
    "collapsed": false
   },
   "outputs": [],
   "source": [
    "from   invisible_cities.core.params import SensorParams"
   ]
  },
  {
   "cell_type": "code",
   "execution_count": null,
   "metadata": {
    "collapsed": false
   },
   "outputs": [],
   "source": [
    "from invisible_cities.cities.irene import Irene, IRENE"
   ]
  },
  {
   "cell_type": "markdown",
   "metadata": {
    "collapsed": false
   },
   "source": [
    "## Preproc Steps\n",
    "\n",
    "**Irene takes care of the following chores**\n",
    "\n",
    "1. Deconvolute RWF\n",
    "2. Compute calibrated sum of PMTs (including MAU threshold)\n",
    "3. Zero Suppression (ZS) in PMTs\n",
    "4. S1 search (analysis specific)\n",
    "5. S2 search (analysis specific) and rebin\n",
    "6. ZS in SiPMs\n",
    "7. Select S2 in ZS SiPMs \n",
    "\n",
    "For fast pre-proc, all the above steps must be computed on the fly (e.g, minimal access to disk) and\n",
    "using pre-compiled (cython) functions in calculation-intensive parts (loops)"
   ]
  },
  {
   "cell_type": "markdown",
   "metadata": {
    "collapsed": false
   },
   "source": [
    "## Files"
   ]
  },
  {
   "cell_type": "code",
   "execution_count": null,
   "metadata": {
    "collapsed": false
   },
   "outputs": [],
   "source": [
    "RWF_file = os.path.join(os.environ['IC_DATA'],'LSC/2980/run_2980.gdc1next.000.next1el_2980.root.h5')\n",
    "PMP_file = os.path.join(os.environ['IC_DATA'],'LSC/PMP_2980/run_2983.000.PMP.h5')\n",
    "CONF_file = os.path.join(os.environ['IC_CONFIG'], 'irene_Kr2983.conf')"
   ]
  },
  {
   "cell_type": "code",
   "execution_count": null,
   "metadata": {
    "collapsed": false
   },
   "outputs": [],
   "source": [
    "h5rwf = False"
   ]
  },
  {
   "cell_type": "code",
   "execution_count": null,
   "metadata": {
    "collapsed": false
   },
   "outputs": [],
   "source": [
    "if h5rwf:\n",
    "    h5rwf.close()"
   ]
  },
  {
   "cell_type": "code",
   "execution_count": null,
   "metadata": {
    "collapsed": false
   },
   "outputs": [],
   "source": [
    "h5rwf = tb.open_file(RWF_file,'r')"
   ]
  },
  {
   "cell_type": "code",
   "execution_count": null,
   "metadata": {
    "collapsed": false
   },
   "outputs": [],
   "source": [
    "h5rwf"
   ]
  },
  {
   "cell_type": "code",
   "execution_count": null,
   "metadata": {
    "collapsed": false
   },
   "outputs": [],
   "source": [
    "event_number = (100, 101, 102)"
   ]
  },
  {
   "cell_type": "code",
   "execution_count": null,
   "metadata": {
    "collapsed": false
   },
   "outputs": [],
   "source": [
    "for i, _ in enumerate(event_number):\n",
    "    print(i)"
   ]
  },
  {
   "cell_type": "code",
   "execution_count": null,
   "metadata": {
    "collapsed": false
   },
   "outputs": [],
   "source": []
  },
  {
   "cell_type": "markdown",
   "metadata": {
    "collapsed": false
   },
   "source": [
    "### pmtrwf and sipmrwf vectors"
   ]
  },
  {
   "cell_type": "markdown",
   "metadata": {
    "collapsed": false
   },
   "source": [
    "To get vectors use **get_vectors(file)** in tbl_functions"
   ]
  },
  {
   "cell_type": "code",
   "execution_count": null,
   "metadata": {
    "collapsed": false
   },
   "outputs": [],
   "source": [
    "pmtrwf, pmtblr, sipmrwf = tbl.get_vectors(h5rwf)"
   ]
  },
  {
   "cell_type": "code",
   "execution_count": null,
   "metadata": {
    "collapsed": false
   },
   "outputs": [],
   "source": [
    "NEVT, NPMT, PMTWL = pmtrwf.shape\n",
    "NEVT, NSIPM, SIPMWL = sipmrwf.shape\n",
    "print(\"\"\"\n",
    "        Number of events in file = {}\n",
    "        Number of PMTs = {}\n",
    "        PMTWL = {}\n",
    "        Number of SiPMs = {}\n",
    "        SiPMWL = {}\n",
    "      \"\"\".format(NEVT, NPMT, PMTWL,NSIPM, SIPMWL))"
   ]
  },
  {
   "cell_type": "markdown",
   "metadata": {
    "collapsed": false
   },
   "source": [
    "### Access to data base and definition of units"
   ]
  },
  {
   "cell_type": "code",
   "execution_count": null,
   "metadata": {
    "collapsed": false
   },
   "outputs": [],
   "source": [
    "DataPMT = load_db.DataPMT(2983)\n",
    "units = SystemOfUnits()\n",
    "adc_to_pes = abs(DataPMT.adc_to_pes.values)\n",
    "coeff_c = abs(DataPMT.coeff_c.values)\n",
    "coeff_blr = abs(DataPMT.coeff_blr.values)\n",
    "DataSiPM = load_db.DataSiPM()\n",
    "adc_to_pes_sipm = DataSiPM.adc_to_pes.values\n",
    "xs = DataSiPM.X.values\n",
    "ys = DataSiPM.Y.values"
   ]
  },
  {
   "cell_type": "markdown",
   "metadata": {
    "collapsed": false
   },
   "source": [
    "### Instance"
   ]
  },
  {
   "cell_type": "code",
   "execution_count": null,
   "metadata": {
    "collapsed": false
   },
   "outputs": [],
   "source": [
    "s1par = S12P(tmin       = 10 * units.mus,\n",
    "                 tmax   = 590 * units.mus,\n",
    "                 stride = 4,\n",
    "                 lmin   = 6,\n",
    "                 lmax   = 16,\n",
    "                 rebin  = False)\n",
    "\n",
    "s2par = S12P(tmin       = 590 * units.mus,\n",
    "                 tmax   = 620 * units.mus,\n",
    "                 stride = 40,\n",
    "                 lmin   = 100,\n",
    "                 lmax   = 1000,\n",
    "                 rebin  = True)\n",
    "\n",
    "irene = Irene(run_number  = 2980,\n",
    "                 files_in    = [RWF_file],\n",
    "                 file_out    = PMP_file,\n",
    "                 compression = 'ZLIB4',\n",
    "                 nprint      = 1,\n",
    "                 n_baseline  = 38000,\n",
    "                 thr_trigger = 5.0 * units.adc,\n",
    "                 n_MAU       = 100,\n",
    "                 thr_MAU     = 3.0 * units.adc,\n",
    "                 thr_csum_s1 = 0.2 * units.adc,\n",
    "                 thr_csum_s2 = 1.0 * units.adc,\n",
    "                 n_MAU_sipm  = 100,\n",
    "                 thr_sipm    = 5.0 * units.pes,\n",
    "                 s1_params   = s1par,\n",
    "                 s2_params   = s2par,\n",
    "                 thr_sipm_s2 = 30. * units.pes)"
   ]
  },
  {
   "cell_type": "code",
   "execution_count": null,
   "metadata": {
    "collapsed": false
   },
   "outputs": [],
   "source": [
    "def irene_run(irene, evt):\n",
    "    # Check that PMAPS tables are written correctly\n",
    "    \n",
    "    with tb.open_file(irene.input_files[0], \"r\") as h5in:\n",
    "        with tb.open_file(irene.output_file, \"w\",\n",
    "            filters = tbl.filters(irene.compression)) as pmap_file:\n",
    "\n",
    "            irene._set_pmap_store(pmap_file)\n",
    "            irene.eventsInfo = h5in.root.Run.events\n",
    "            pmtrwf  = h5in.root.RD. pmtrwf\n",
    "            sipmrwf = h5in.root.RD.sipmrwf\n",
    "\n",
    "            CWF = irene.deconv_pmt(pmtrwf[evt])\n",
    "            csum, csum_mau = irene.calibrated_pmt_sum(CWF)\n",
    "            s1_ene, s1_indx = irene.csum_zs(csum_mau,\n",
    "                                             threshold = irene.thr_csum_s1)\n",
    "            s2_ene, s2_indx = irene.csum_zs(csum,\n",
    "                                             threshold = irene.thr_csum_s2)\n",
    "\n",
    "            sipmzs = irene.calibrated_signal_sipm(sipmrwf[evt])\n",
    "            S1, S2 = irene.find_S12(s1_ene, s1_indx, s2_ene, s2_indx)\n",
    "            S2Si = irene.find_S2Si(S2, sipmzs)\n",
    "            irene._store_pmaps(0, 0, S1, S2, S2Si)\n",
    "\n",
    "            assert irene.s1t == pmap_file.root.PMAPS.S1\n",
    "            assert irene.s2t == pmap_file.root.PMAPS.S2\n",
    "            assert irene.s2sit == pmap_file.root.PMAPS.S2Si\n",
    "            \n",
    "    return CWF, csum, csum_mau, s1_ene, s2_ene, S1, S2, S2Si \n",
    "\n"
   ]
  },
  {
   "cell_type": "code",
   "execution_count": null,
   "metadata": {
    "collapsed": false
   },
   "outputs": [],
   "source": [
    "CWF, csum, csum_mau, s1_ene, s2_ene, S1, S2, S2Si = irene_run(irene, evt=0)"
   ]
  },
  {
   "cell_type": "code",
   "execution_count": null,
   "metadata": {
    "collapsed": false
   },
   "outputs": [],
   "source": [
    "wfm.plot_pmt_waveforms(CWF, zoom=False, window_size=2000)"
   ]
  },
  {
   "cell_type": "code",
   "execution_count": null,
   "metadata": {
    "collapsed": false
   },
   "outputs": [],
   "source": [
    "tmin=0\n",
    "tmax=1200\n",
    "mpl.plot_signal_vs_time_mus(csum, t_min=tmin, t_max=tmax, signal_min=-2, signal_max=60)"
   ]
  },
  {
   "cell_type": "code",
   "execution_count": null,
   "metadata": {
    "collapsed": false
   },
   "outputs": [],
   "source": [
    "tmin=590\n",
    "tmax=620\n",
    "mpl.plot_signal_vs_time_mus(csum, t_min=tmin, t_max=tmax, signal_min=-2, signal_max=100)"
   ]
  },
  {
   "cell_type": "code",
   "execution_count": null,
   "metadata": {
    "collapsed": false
   },
   "outputs": [],
   "source": [
    "tmin=0\n",
    "tmax=590\n",
    "mpl.plot_signal_vs_time_mus(csum_mau, t_min=tmin, t_max=tmax, signal_min=-2, signal_max=5)"
   ]
  },
  {
   "cell_type": "code",
   "execution_count": null,
   "metadata": {
    "collapsed": false
   },
   "outputs": [],
   "source": [
    "S1"
   ]
  },
  {
   "cell_type": "code",
   "execution_count": null,
   "metadata": {
    "collapsed": false
   },
   "outputs": [],
   "source": [
    "S2"
   ]
  },
  {
   "cell_type": "code",
   "execution_count": null,
   "metadata": {
    "collapsed": false
   },
   "outputs": [],
   "source": [
    "pf.scan_s12(S2)"
   ]
  },
  {
   "cell_type": "code",
   "execution_count": null,
   "metadata": {
    "collapsed": false
   },
   "outputs": [],
   "source": [
    "pf.scan_s12(S1)"
   ]
  },
  {
   "cell_type": "code",
   "execution_count": null,
   "metadata": {
    "collapsed": false
   },
   "outputs": [],
   "source": [
    "s1par = S12P(tmin       = 800 * units.mus,\n",
    "                 tmax   = 1100 * units.mus,\n",
    "                 stride = 4,\n",
    "                 lmin   = 6,\n",
    "                 lmax   = 16,\n",
    "                 rebin  = False)\n",
    "irene2 = Irene(run_number  = 2980,\n",
    "                 files_in    = [RWF_file],\n",
    "                 file_out    = PMP_file,\n",
    "                 compression = 'ZLIB4',\n",
    "                 nprint      = 1,\n",
    "                 n_baseline  = 38000,\n",
    "                 thr_trigger = 5.0 * units.adc,\n",
    "                 n_MAU       = 100,\n",
    "                 thr_MAU     = 3.0 * units.adc,\n",
    "                 thr_csum_s1 = 0.2 * units.adc,\n",
    "                 thr_csum_s2 = 1.0 * units.adc,\n",
    "                 n_MAU_sipm  = 100,\n",
    "                 thr_sipm    = 5.0 * units.pes,\n",
    "                 s1_params   = s1par,\n",
    "                 s2_params   = s2par,\n",
    "                 thr_sipm_s2 = 30. * units.pes)"
   ]
  },
  {
   "cell_type": "code",
   "execution_count": null,
   "metadata": {
    "collapsed": false
   },
   "outputs": [],
   "source": [
    "CWF, csum, csum_mau, s1_ene, s2_ene, S1, S2, S2Si = irene_run(irene2, evt=0)"
   ]
  },
  {
   "cell_type": "code",
   "execution_count": null,
   "metadata": {
    "collapsed": false
   },
   "outputs": [],
   "source": [
    "S1"
   ]
  },
  {
   "cell_type": "code",
   "execution_count": null,
   "metadata": {
    "collapsed": false
   },
   "outputs": [],
   "source": [
    "pf.scan_s12(S1)"
   ]
  },
  {
   "cell_type": "code",
   "execution_count": null,
   "metadata": {
    "collapsed": false
   },
   "outputs": [],
   "source": [
    "CWF, csum, csum_mau, s1_ene, s2_ene, S1, S2, S2Si = irene_run(irene2, evt=1)"
   ]
  },
  {
   "cell_type": "code",
   "execution_count": null,
   "metadata": {
    "collapsed": false
   },
   "outputs": [],
   "source": [
    "tmin=0\n",
    "tmax=1200\n",
    "mpl.plot_signal_vs_time_mus(csum, t_min=tmin, t_max=tmax, signal_min=-2, signal_max=120)"
   ]
  },
  {
   "cell_type": "code",
   "execution_count": null,
   "metadata": {
    "collapsed": false
   },
   "outputs": [],
   "source": [
    "S1"
   ]
  },
  {
   "cell_type": "code",
   "execution_count": null,
   "metadata": {
    "collapsed": false
   },
   "outputs": [],
   "source": [
    "S2"
   ]
  },
  {
   "cell_type": "code",
   "execution_count": null,
   "metadata": {
    "collapsed": false
   },
   "outputs": [],
   "source": [
    "pf.scan_s12(S2)"
   ]
  },
  {
   "cell_type": "code",
   "execution_count": null,
   "metadata": {
    "collapsed": false
   },
   "outputs": [],
   "source": [
    "pf.scan_s12(S1)"
   ]
  },
  {
   "cell_type": "code",
   "execution_count": null,
   "metadata": {
    "collapsed": false
   },
   "outputs": [],
   "source": [
    "CWF, csum, csum_mau, s1_ene, s2_ene, S1, S2, S2Si = irene_run(irene2, evt=2)"
   ]
  },
  {
   "cell_type": "code",
   "execution_count": null,
   "metadata": {
    "collapsed": false
   },
   "outputs": [],
   "source": [
    "tmin=0\n",
    "tmax=1200\n",
    "mpl.plot_signal_vs_time_mus(csum, t_min=tmin, t_max=tmax, signal_min=-2, signal_max=120)"
   ]
  },
  {
   "cell_type": "code",
   "execution_count": null,
   "metadata": {
    "collapsed": false
   },
   "outputs": [],
   "source": [
    "S2"
   ]
  },
  {
   "cell_type": "code",
   "execution_count": null,
   "metadata": {
    "collapsed": false
   },
   "outputs": [],
   "source": [
    "S1"
   ]
  },
  {
   "cell_type": "code",
   "execution_count": null,
   "metadata": {
    "collapsed": false
   },
   "outputs": [],
   "source": [
    "pf.scan_s12(S1)"
   ]
  },
  {
   "cell_type": "code",
   "execution_count": null,
   "metadata": {
    "collapsed": false
   },
   "outputs": [],
   "source": [
    "wfm.plot_pmt_waveforms(CWF, zoom=False, window_size=2000)"
   ]
  },
  {
   "cell_type": "code",
   "execution_count": null,
   "metadata": {
    "collapsed": false
   },
   "outputs": [],
   "source": [
    "CWF, csum, csum_mau, s1_ene, s2_ene, S1, S2, S2Si = irene_run(irene2, evt=3)"
   ]
  },
  {
   "cell_type": "code",
   "execution_count": null,
   "metadata": {
    "collapsed": false
   },
   "outputs": [],
   "source": [
    "wfm.plot_pmt_waveforms(CWF, zoom=False, window_size=2000)"
   ]
  },
  {
   "cell_type": "code",
   "execution_count": null,
   "metadata": {
    "collapsed": false
   },
   "outputs": [],
   "source": [
    "tmin=0\n",
    "tmax=1200\n",
    "mpl.plot_signal_vs_time_mus(csum, t_min=tmin, t_max=tmax, signal_min=-2, signal_max=150)"
   ]
  },
  {
   "cell_type": "code",
   "execution_count": null,
   "metadata": {
    "collapsed": false
   },
   "outputs": [],
   "source": [
    "pf.scan_s12(S2)"
   ]
  },
  {
   "cell_type": "code",
   "execution_count": null,
   "metadata": {
    "collapsed": false
   },
   "outputs": [],
   "source": [
    "pf.scan_s12(S1)"
   ]
  },
  {
   "cell_type": "code",
   "execution_count": null,
   "metadata": {
    "collapsed": false
   },
   "outputs": [],
   "source": [
    "CWF, csum, csum_mau, s1_ene, s2_ene, S1, S2, S2Si = irene_run(irene, evt=3)"
   ]
  },
  {
   "cell_type": "code",
   "execution_count": null,
   "metadata": {
    "collapsed": false
   },
   "outputs": [],
   "source": [
    "pf.scan_s12(S1)"
   ]
  },
  {
   "cell_type": "code",
   "execution_count": null,
   "metadata": {
    "collapsed": false
   },
   "outputs": [],
   "source": [
    "CWF, csum, csum_mau, s1_ene, s2_ene, S1, S2, S2Si = irene_run(irene, evt=4)"
   ]
  },
  {
   "cell_type": "code",
   "execution_count": null,
   "metadata": {
    "collapsed": false
   },
   "outputs": [],
   "source": [
    "wfm.plot_pmt_waveforms(CWF, zoom=False, window_size=2000)"
   ]
  },
  {
   "cell_type": "code",
   "execution_count": null,
   "metadata": {
    "collapsed": false
   },
   "outputs": [],
   "source": [
    "tmin=490\n",
    "tmax=625\n",
    "mpl.plot_signal_vs_time_mus(csum, t_min=tmin, t_max=tmax, signal_min=-2, signal_max=60)"
   ]
  },
  {
   "cell_type": "code",
   "execution_count": null,
   "metadata": {
    "collapsed": false
   },
   "outputs": [],
   "source": [
    "pf.scan_s12(S2)"
   ]
  },
  {
   "cell_type": "code",
   "execution_count": null,
   "metadata": {
    "collapsed": false
   },
   "outputs": [],
   "source": [
    "pf.scan_s12(S1)"
   ]
  },
  {
   "cell_type": "code",
   "execution_count": null,
   "metadata": {
    "collapsed": false
   },
   "outputs": [],
   "source": [
    "tmin=500\n",
    "tmax=502\n",
    "mpl.plot_signal_vs_time_mus(csum_mau, t_min=tmin, t_max=tmax, signal_min=-2, signal_max=6)"
   ]
  },
  {
   "cell_type": "code",
   "execution_count": null,
   "metadata": {
    "collapsed": false
   },
   "outputs": [],
   "source": []
  }
 ],
 "metadata": {
  "anaconda-cloud": {},
  "kernelspec": {
   "display_name": "Python 3",
   "language": "python",
   "name": "python3"
  },
  "language_info": {
   "codemirror_mode": {
    "name": "ipython",
    "version": 3
   },
   "file_extension": ".py",
   "mimetype": "text/x-python",
   "name": "python",
   "nbconvert_exporter": "python",
   "pygments_lexer": "ipython3",
   "version": "3.6.0"
  }
 },
 "nbformat": 4,
 "nbformat_minor": 0
}
