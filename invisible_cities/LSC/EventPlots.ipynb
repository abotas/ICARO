{
 "cells": [
  {
   "cell_type": "code",
   "execution_count": 1,
   "metadata": {
    "collapsed": false
   },
   "outputs": [
    {
     "name": "stdout",
     "output_type": "stream",
     "text": [
      "2017-04-04 00:45:44\n"
     ]
    }
   ],
   "source": [
    "import datetime\n",
    "print(datetime.datetime.now().strftime('%Y-%m-%d %H:%M:%S'))"
   ]
  },
  {
   "cell_type": "code",
   "execution_count": 2,
   "metadata": {
    "collapsed": false
   },
   "outputs": [],
   "source": [
    "%gui qt\n",
    "%load_ext autoreload\n",
    "%autoreload 2"
   ]
  },
  {
   "cell_type": "code",
   "execution_count": 3,
   "metadata": {
    "collapsed": false
   },
   "outputs": [],
   "source": [
    "import sys\n",
    "import os\n",
    "import time\n",
    "import tables as tb\n",
    "import numpy as np"
   ]
  },
  {
   "cell_type": "code",
   "execution_count": 4,
   "metadata": {
    "collapsed": false
   },
   "outputs": [],
   "source": [
    "import invisible_cities.reco.tbl_functions as tbl\n",
    "import invisible_cities.reco.wfm_functions as wfm\n",
    "import invisible_cities.sierpe.blr as blr\n",
    "import invisible_cities.reco.peak_functions_c as cpf\n",
    "from invisible_cities.core.mpl_functions import set_plot_labels\n",
    "from invisible_cities.reco.params import S12Params, ThresholdParams\n",
    "from   invisible_cities.core.system_of_units_c import units"
   ]
  },
  {
   "cell_type": "code",
   "execution_count": 5,
   "metadata": {
    "collapsed": false
   },
   "outputs": [],
   "source": [
    "from plot_functions import plot_pmt_waveforms, plot_pmt_signals_vs_time_mus, plot_signal_vs_time_mus,\\\n",
    "                           plot_s12, hist_1d"
   ]
  },
  {
   "cell_type": "code",
   "execution_count": 6,
   "metadata": {
    "collapsed": false
   },
   "outputs": [],
   "source": [
    "from event_pmaps import EventPmaps, print_s12, print_s2si"
   ]
  },
  {
   "cell_type": "code",
   "execution_count": 7,
   "metadata": {
    "collapsed": false
   },
   "outputs": [],
   "source": [
    "from PyQt5 import QtCore, QtWidgets, uic\n",
    "from matplotlib.backends.backend_qt5agg import (\n",
    "    FigureCanvasQTAgg as FigureCanvas,\n",
    "    NavigationToolbar2QT as NavigationToolbar)\n",
    "from matplotlib.figure import Figure\n",
    "\n",
    "from PyQt5.uic import loadUiType\n",
    "\n",
    "\n",
    "qtCreatorFile = \"event_maps.ui\" # Enter file here.\n",
    "Ui_MainWindow, QMainWindow = loadUiType(qtCreatorFile)"
   ]
  },
  {
   "cell_type": "code",
   "execution_count": 8,
   "metadata": {
    "collapsed": false
   },
   "outputs": [],
   "source": [
    "class QtGui(QMainWindow, Ui_MainWindow):\n",
    "    def __init__(self, ):\n",
    "        super(QtGui, self).__init__()\n",
    "        self.setupUi(self)\n",
    "        \n",
    "        self.fig_dict = {}\n",
    "        self.mplfigs.itemClicked.connect(self.change_figure)\n",
    "\n",
    "        fig = Figure()\n",
    "        self.add_mpl(fig)\n",
    "\n",
    "    def add_figure(self, name, fig):\n",
    "        test_key = self.fig_dict.pop(name, None)\n",
    "        self.fig_dict[name] = fig\n",
    "        if not test_key: # key not in dict\n",
    "            self.mplfigs.addItem(name)\n",
    "\n",
    "    def change_figure(self, item):\n",
    "        text = item.text()\n",
    "        self.rm_mpl()\n",
    "        self.add_mpl(self.fig_dict[text])\n",
    "\n",
    "    def add_mpl(self, fig):\n",
    "        self.canvas = FigureCanvas(fig)\n",
    "        self.mplvl.addWidget(self.canvas)\n",
    "        self.canvas.draw()\n",
    "        self.toolbar = NavigationToolbar(self.canvas,\n",
    "                self.mplwindow, coordinates=True)\n",
    "        self.mplvl.addWidget(self.toolbar)\n",
    "\n",
    "    def rm_mpl(self,):\n",
    "        self.mplvl.removeWidget(self.canvas)\n",
    "        self.canvas.close()\n",
    "        self.mplvl.removeWidget(self.toolbar)\n",
    "        self.toolbar.close()\n",
    "\n"
   ]
  },
  {
   "cell_type": "code",
   "execution_count": null,
   "metadata": {
    "collapsed": true
   },
   "outputs": [],
   "source": []
  },
  {
   "cell_type": "code",
   "execution_count": 9,
   "metadata": {
    "collapsed": false
   },
   "outputs": [],
   "source": [
    "def scan_events(epm, gui, event_list=list(range(1)), event_plot_list=list(range(1)), printout=10):\n",
    "    \"\"\"Loop over events\"\"\"\n",
    "    for event in event_list:\n",
    "        if(event%printout == 0):\n",
    "            print('processing event number {}'.format(event))\n",
    "        epm.calibrated_sum(event)\n",
    "        epm.find_s1(event)\n",
    "        epm.find_s2(event)\n",
    "        if (len(epm.S2) > 0):\n",
    "            epm.find_s2si(event)\n",
    "        \n",
    "        if event in event_plot_list:\n",
    "            #gui.add_figure('RWF-event-{}'.format(event), \n",
    "            #                plot_pmt_waveforms(epm.RWF, zoom=False, window_size=10000))\n",
    "            gui.add_figure('CWF_vs_time_mus-event-{}'.format(event), \n",
    "                            plot_pmt_signals_vs_time_mus(epm.CWF,\n",
    "                                                         epm.P.pmt_active,\n",
    "                                                         t_min      =    0,\n",
    "                                                         t_max      = 1300,\n",
    "                                                         signal_min =   -5,\n",
    "                                                         signal_max =  200))\n",
    "            gui.add_figure('Calibrated_SUM-event-{}'.format(event), \n",
    "                            plot_signal_vs_time_mus(epm.csum, t_min=0, t_max=1300, signal_min=-5, signal_max=100))\n",
    "            if (len(epm.S1) > 0):\n",
    "                gui.add_figure('S1-event-{}'.format(event), plot_s12(epm.S1))\n",
    "            if (len(epm.S2) > 0):\n",
    "                gui.add_figure('S2-event-{}'.format(event), plot_s12(epm.S2))\n",
    "                "
   ]
  },
  {
   "cell_type": "code",
   "execution_count": 10,
   "metadata": {
    "collapsed": false
   },
   "outputs": [],
   "source": [
    "RWF_file = os.path.join(os.environ['IC_DATA'],'LSC/3392/dst_waves.gdcsnext.000_3392.root.h5')\n"
   ]
  },
  {
   "cell_type": "code",
   "execution_count": 11,
   "metadata": {
    "collapsed": false
   },
   "outputs": [],
   "source": [
    "h5rwf = tb.open_file(RWF_file,'r')"
   ]
  },
  {
   "cell_type": "code",
   "execution_count": 12,
   "metadata": {
    "collapsed": false
   },
   "outputs": [],
   "source": [
    "pmtrwf, pmtblr, sipmrwf = tbl.get_vectors(h5rwf)"
   ]
  },
  {
   "cell_type": "code",
   "execution_count": 13,
   "metadata": {
    "collapsed": false
   },
   "outputs": [
    {
     "name": "stdout",
     "output_type": "stream",
     "text": [
      "\n",
      "        Number of events in file = 163\n",
      "        Number of PMTs = 12\n",
      "        PMTWL = 52000\n",
      "        Number of SiPMs = 1792\n",
      "        SiPMWL = 1300\n",
      "      \n"
     ]
    }
   ],
   "source": [
    "NEVT, NPMT, PMTWL = pmtrwf.shape\n",
    "NEVT, NSIPM, SIPMWL = sipmrwf.shape\n",
    "print(\"\"\"\n",
    "        Number of events in file = {}\n",
    "        Number of PMTs = {}\n",
    "        PMTWL = {}\n",
    "        Number of SiPMs = {}\n",
    "        SiPMWL = {}\n",
    "      \"\"\".format(NEVT, NPMT, PMTWL,NSIPM, SIPMWL))"
   ]
  },
  {
   "cell_type": "code",
   "execution_count": 14,
   "metadata": {
    "collapsed": false
   },
   "outputs": [],
   "source": [
    "s1par  = S12Params(tmin= 0*units.mus, tmax=640*units.mus, lmin=6, lmax=20, stride=4, rebin=False)\n",
    "s2par = S12Params(tmin=640*units.mus, tmax=800*units.mus, stride=40, lmin=80, lmax=20000, rebin=True)\n",
    "thr    = ThresholdParams(thr_s1=0.5 * units.pes,  thr_s2=1 *units.pes,\n",
    "                        thr_MAU = 3 * units.adc, thr_sipm = 3.5 * units.pes,\n",
    "                        thr_SIPM = 20 * units.adc)"
   ]
  },
  {
   "cell_type": "code",
   "execution_count": 15,
   "metadata": {
    "collapsed": false
   },
   "outputs": [],
   "source": [
    "gui=QtGui()\n",
    "gui.show()\n",
    "epm = EventPmaps(3392, pmtrwf, sipmrwf, s1par, s2par, thr, verbose=False)"
   ]
  },
  {
   "cell_type": "code",
   "execution_count": 16,
   "metadata": {
    "collapsed": false
   },
   "outputs": [
    {
     "name": "stdout",
     "output_type": "stream",
     "text": [
      "processing event number 0\n",
      "processing event number 10\n",
      "processing event number 20\n",
      "processing event number 30\n",
      "processing event number 40\n",
      "processing event number 50\n",
      "processing event number 60\n",
      "processing event number 70\n",
      "processing event number 80\n",
      "processing event number 90\n",
      "processing event number 100\n",
      "processing event number 110\n",
      "processing event number 120\n",
      "processing event number 130\n",
      "processing event number 140\n",
      "processing event number 150\n",
      "run 160 events in 99.6284658908844 s event/s = 0.6226779118180275\n"
     ]
    }
   ],
   "source": [
    "n_events = 160\n",
    "sample_plot = 10\n",
    "t0 = time.time()\n",
    "scan_events(epm, gui, event_list=list(range(n_events)), event_plot_list=list(range(0,n_events,sample_plot)))\n",
    "t1 = time.time()        \n",
    "dt = t1 - t0\n",
    "print(\"run {} events in {} s event/s = {}\".format(n_events, dt, dt/n_events))"
   ]
  },
  {
   "cell_type": "code",
   "execution_count": 18,
   "metadata": {
    "collapsed": false
   },
   "outputs": [
    {
     "ename": "AttributeError",
     "evalue": "'S12F' object has no attribute 'width'",
     "output_type": "error",
     "traceback": [
      "\u001b[0;31m---------------------------------------------------------------------------\u001b[0m",
      "\u001b[0;31mAttributeError\u001b[0m                            Traceback (most recent call last)",
      "\u001b[0;32m<ipython-input-18-a13154467030>\u001b[0m in \u001b[0;36m<module>\u001b[0;34m()\u001b[0m\n\u001b[1;32m      1\u001b[0m \u001b[0;31m#gui.add_figure('s1 peaks ',hist_1d(epm.s1f.peak(), xlo=0, xhi=max(epm.s1f.peak()) + 1))\u001b[0m\u001b[0;34m\u001b[0m\u001b[0;34m\u001b[0m\u001b[0m\n\u001b[0;32m----> 2\u001b[0;31m \u001b[0mgui\u001b[0m\u001b[0;34m.\u001b[0m\u001b[0madd_figure\u001b[0m\u001b[0;34m(\u001b[0m\u001b[0;34m's1 width in ns'\u001b[0m\u001b[0;34m,\u001b[0m\u001b[0mhist_1d\u001b[0m\u001b[0;34m(\u001b[0m\u001b[0mepm\u001b[0m\u001b[0;34m.\u001b[0m\u001b[0ms1f\u001b[0m\u001b[0;34m.\u001b[0m\u001b[0mwidth\u001b[0m\u001b[0;34m(\u001b[0m\u001b[0;34m)\u001b[0m\u001b[0;34m,\u001b[0m \u001b[0mxlo\u001b[0m\u001b[0;34m=\u001b[0m\u001b[0;36m0\u001b[0m\u001b[0;34m,\u001b[0m \u001b[0mxhi\u001b[0m\u001b[0;34m=\u001b[0m\u001b[0;36m500\u001b[0m\u001b[0;34m)\u001b[0m\u001b[0;34m)\u001b[0m\u001b[0;34m\u001b[0m\u001b[0m\n\u001b[0m\u001b[1;32m      3\u001b[0m \u001b[0mgui\u001b[0m\u001b[0;34m.\u001b[0m\u001b[0madd_figure\u001b[0m\u001b[0;34m(\u001b[0m\u001b[0;34m's1 t in mus'\u001b[0m\u001b[0;34m,\u001b[0m\u001b[0mhist_1d\u001b[0m\u001b[0;34m(\u001b[0m\u001b[0mepm\u001b[0m\u001b[0;34m.\u001b[0m\u001b[0ms1f\u001b[0m\u001b[0;34m.\u001b[0m\u001b[0mtpeak\u001b[0m\u001b[0;34m(\u001b[0m\u001b[0;34m)\u001b[0m\u001b[0;34m/\u001b[0m\u001b[0munits\u001b[0m\u001b[0;34m.\u001b[0m\u001b[0mmus\u001b[0m\u001b[0;34m,\u001b[0m \u001b[0mxlo\u001b[0m\u001b[0;34m=\u001b[0m\u001b[0;36m0\u001b[0m\u001b[0;34m,\u001b[0m \u001b[0mxhi\u001b[0m\u001b[0;34m=\u001b[0m\u001b[0;36m650\u001b[0m\u001b[0;34m)\u001b[0m\u001b[0;34m)\u001b[0m\u001b[0;34m\u001b[0m\u001b[0m\n\u001b[1;32m      4\u001b[0m \u001b[0mgui\u001b[0m\u001b[0;34m.\u001b[0m\u001b[0madd_figure\u001b[0m\u001b[0;34m(\u001b[0m\u001b[0;34m's1 etot in pes'\u001b[0m\u001b[0;34m,\u001b[0m\u001b[0mhist_1d\u001b[0m\u001b[0;34m(\u001b[0m\u001b[0mepm\u001b[0m\u001b[0;34m.\u001b[0m\u001b[0ms1f\u001b[0m\u001b[0;34m.\u001b[0m\u001b[0metot\u001b[0m\u001b[0;34m(\u001b[0m\u001b[0;34m)\u001b[0m\u001b[0;34m,\u001b[0m \u001b[0mxlo\u001b[0m\u001b[0;34m=\u001b[0m\u001b[0;36m0\u001b[0m\u001b[0;34m,\u001b[0m \u001b[0mxhi\u001b[0m\u001b[0;34m=\u001b[0m\u001b[0mmax\u001b[0m\u001b[0;34m(\u001b[0m\u001b[0mepm\u001b[0m\u001b[0;34m.\u001b[0m\u001b[0ms1f\u001b[0m\u001b[0;34m.\u001b[0m\u001b[0metot\u001b[0m\u001b[0;34m(\u001b[0m\u001b[0;34m)\u001b[0m\u001b[0;34m)\u001b[0m\u001b[0;34m+\u001b[0m\u001b[0;36m10\u001b[0m\u001b[0;34m)\u001b[0m\u001b[0;34m)\u001b[0m\u001b[0;34m\u001b[0m\u001b[0m\n\u001b[1;32m      5\u001b[0m \u001b[0mgui\u001b[0m\u001b[0;34m.\u001b[0m\u001b[0madd_figure\u001b[0m\u001b[0;34m(\u001b[0m\u001b[0;34m's1 etot in pes (2)'\u001b[0m\u001b[0;34m,\u001b[0m\u001b[0mhist_1d\u001b[0m\u001b[0;34m(\u001b[0m\u001b[0mepm\u001b[0m\u001b[0;34m.\u001b[0m\u001b[0ms1f\u001b[0m\u001b[0;34m.\u001b[0m\u001b[0metot\u001b[0m\u001b[0;34m(\u001b[0m\u001b[0;34m)\u001b[0m\u001b[0;34m,\u001b[0m \u001b[0mxlo\u001b[0m\u001b[0;34m=\u001b[0m\u001b[0;36m0\u001b[0m\u001b[0;34m,\u001b[0m \u001b[0mxhi\u001b[0m\u001b[0;34m=\u001b[0m\u001b[0;36m50\u001b[0m\u001b[0;34m)\u001b[0m\u001b[0;34m)\u001b[0m\u001b[0;34m\u001b[0m\u001b[0m\n",
      "\u001b[0;31mAttributeError\u001b[0m: 'S12F' object has no attribute 'width'"
     ]
    }
   ],
   "source": [
    "#gui.add_figure('s1 peaks ',hist_1d(epm.s1f.peak(), xlo=0, xhi=max(epm.s1f.peak()) + 1))\n",
    "gui.add_figure('s1 width in ns',hist_1d(epm.s1f.width(), xlo=0, xhi=500))\n",
    "gui.add_figure('s1 t in mus',hist_1d(epm.s1f.tpeak()/units.mus, xlo=0, xhi=650))\n",
    "gui.add_figure('s1 etot in pes',hist_1d(epm.s1f.etot(), xlo=0, xhi=max(epm.s1f.etot())+10))\n",
    "gui.add_figure('s1 etot in pes (2)',hist_1d(epm.s1f.etot(), xlo=0, xhi=50))\n",
    "gui.add_figure('s1 emax in pes',hist_1d(epm.s1f.emax(), xlo=0, xhi=max(epm.s1f.emax())+10))\n",
    "gui.add_figure('s1 emax/etot in pes',hist_1d(epm.s1f.emax_over_etot(), xlo=0, xhi=1))"
   ]
  },
  {
   "cell_type": "code",
   "execution_count": 20,
   "metadata": {
    "collapsed": false
   },
   "outputs": [
    {
     "ename": "AttributeError",
     "evalue": "'EventPmaps' object has no attribute 'S1f'",
     "output_type": "error",
     "traceback": [
      "\u001b[0;31m---------------------------------------------------------------------------\u001b[0m",
      "\u001b[0;31mAttributeError\u001b[0m                            Traceback (most recent call last)",
      "\u001b[0;32m<ipython-input-20-060665b03e5b>\u001b[0m in \u001b[0;36m<module>\u001b[0;34m()\u001b[0m\n\u001b[0;32m----> 1\u001b[0;31m \u001b[0mprint\u001b[0m\u001b[0;34m(\u001b[0m\u001b[0mepm\u001b[0m\u001b[0;34m.\u001b[0m\u001b[0mS1f\u001b[0m\u001b[0;34m)\u001b[0m\u001b[0;34m\u001b[0m\u001b[0m\n\u001b[0m",
      "\u001b[0;31mAttributeError\u001b[0m: 'EventPmaps' object has no attribute 'S1f'"
     ]
    }
   ],
   "source": [
    "print(epm.S1f)"
   ]
  },
  {
   "cell_type": "code",
   "execution_count": null,
   "metadata": {
    "collapsed": false
   },
   "outputs": [],
   "source": [
    "gui.add_figure('s2 peaks ',hist_1d(epm.s2f.peak(), xlo=0, xhi=max(epm.s2f.peak()) + 1))\n",
    "gui.add_figure('s2 width in mua',hist_1d(epm.s2f.width()/units.mus, xlo=0, xhi=max(epm.s2f.width()/units.mus)+10))\n",
    "gui.add_figure('s2 t in mus',hist_1d(epm.s2f.tpeak()/units.mus, xlo=650, xhi=670))\n",
    "gui.add_figure('s2 etot in pes',hist_1d(epm.s2f.etot(), xlo=0, xhi=max(epm.s2f.etot())+100))\n",
    "gui.add_figure('s2 emax in pes',hist_1d(epm.s2f.emax(), xlo=0, xhi=max(epm.s2f.emax())+100))\n",
    "gui.add_figure('s2 emax/etot in pes',hist_1d(epm.s2f.emax_over_etot(), xlo=0, xhi=1))"
   ]
  },
  {
   "cell_type": "code",
   "execution_count": null,
   "metadata": {
    "collapsed": true
   },
   "outputs": [],
   "source": []
  }
 ],
 "metadata": {
  "kernelspec": {
   "display_name": "Python 3",
   "language": "python",
   "name": "python3"
  },
  "language_info": {
   "codemirror_mode": {
    "name": "ipython",
    "version": 3
   },
   "file_extension": ".py",
   "mimetype": "text/x-python",
   "name": "python",
   "nbconvert_exporter": "python",
   "pygments_lexer": "ipython3",
   "version": "3.6.0"
  }
 },
 "nbformat": 4,
 "nbformat_minor": 2
}
