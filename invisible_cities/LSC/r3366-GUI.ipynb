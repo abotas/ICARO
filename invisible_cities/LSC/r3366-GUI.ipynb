{
 "cells": [
  {
   "cell_type": "markdown",
   "metadata": {
    "collapsed": false
   },
   "source": [
    "# r-3366-GUI"
   ]
  },
  {
   "cell_type": "markdown",
   "metadata": {
    "collapsed": false
   },
   "source": [
    "Taken on March 19th, Krypton run, Krypton trigger with \"November 20162 conditions"
   ]
  },
  {
   "cell_type": "code",
   "execution_count": null,
   "metadata": {
    "collapsed": false
   },
   "outputs": [],
   "source": [
    "import datetime"
   ]
  },
  {
   "cell_type": "code",
   "execution_count": null,
   "metadata": {
    "collapsed": false
   },
   "outputs": [],
   "source": [
    "print(datetime.datetime.now().strftime('%Y-%m-%d %H:%M:%S'))"
   ]
  },
  {
   "cell_type": "code",
   "execution_count": null,
   "metadata": {
    "collapsed": false
   },
   "outputs": [],
   "source": [
    "from __future__ import print_function\n",
    "import sys\n",
    "import os\n",
    "from glob import glob\n",
    "from time import time"
   ]
  },
  {
   "cell_type": "code",
   "execution_count": null,
   "metadata": {
    "collapsed": false
   },
   "outputs": [],
   "source": [
    "%gui qt\n",
    "%load_ext autoreload\n",
    "%autoreload 2\n",
    "import matplotlib.pyplot as plt\n",
    "import pandas as pd\n",
    "import tables as tb\n",
    "import numpy as np\n",
    "import math\n"
   ]
  },
  {
   "cell_type": "code",
   "execution_count": null,
   "metadata": {
    "collapsed": false
   },
   "outputs": [],
   "source": [
    "from invisible_cities.database import load_db\n",
    "import invisible_cities.sierpe.blr as blr\n",
    "import invisible_cities.core.mpl_functions as mpl\n",
    "import invisible_cities.reco.wfm_functions as wfm\n",
    "import invisible_cities.reco.tbl_functions as tbl\n",
    "import invisible_cities.reco.peak_functions_c as cpf\n",
    "import invisible_cities.reco.peak_functions as pf\n",
    "import invisible_cities.reco.pmaps_functions as pmf"
   ]
  },
  {
   "cell_type": "code",
   "execution_count": null,
   "metadata": {
    "collapsed": false
   },
   "outputs": [],
   "source": [
    "from invisible_cities.reco.pmap_io import pmap_writer, S12, S2Si\n",
    "\n",
    "from   invisible_cities.core.configure import configure, print_configuration\n",
    "\n",
    "from   invisible_cities.core.system_of_units_c import units\n",
    "from   invisible_cities.cities.base_cities import PmapCity, SensorParams\n",
    "from   invisible_cities.cities.base_cities import S12Params as S12P"
   ]
  },
  {
   "cell_type": "code",
   "execution_count": null,
   "metadata": {
    "collapsed": false
   },
   "outputs": [],
   "source": [
    "from invisible_cities.core.core_functions import define_window\n",
    "from invisible_cities.core.core_functions import lrange\n",
    "from collections import namedtuple"
   ]
  },
  {
   "cell_type": "code",
   "execution_count": null,
   "metadata": {
    "collapsed": false
   },
   "outputs": [],
   "source": [
    "from invisible_cities.reco.params import S12Params, ThresholdParams, CalibratedSum, PMaps, RawVectors,\\\n",
    "                                         SensorParams, CalibParams, PmapParams, CalibratedPMT, S1PMaps"
   ]
  },
  {
   "cell_type": "code",
   "execution_count": null,
   "metadata": {
    "collapsed": false
   },
   "outputs": [],
   "source": [
    "%load_ext Cython"
   ]
  },
  {
   "cell_type": "code",
   "execution_count": null,
   "metadata": {
    "collapsed": false
   },
   "outputs": [],
   "source": [
    "from matplotlib.figure import Figure"
   ]
  },
  {
   "cell_type": "code",
   "execution_count": null,
   "metadata": {
    "collapsed": false
   },
   "outputs": [],
   "source": [
    "from event_maps import Main"
   ]
  },
  {
   "cell_type": "code",
   "execution_count": null,
   "metadata": {
    "collapsed": false
   },
   "outputs": [],
   "source": [
    "from event_pmaps import pmt_calib_vectors, compare_S1, print_s12, compare_S1, S12F"
   ]
  },
  {
   "cell_type": "code",
   "execution_count": null,
   "metadata": {
    "collapsed": false
   },
   "outputs": [],
   "source": [
    "from plot_functions import plot_pmt_waveforms, plot_pmt_signals_vs_time_mus, \\\n",
    "                       plot_signal_vs_time_mus, plot_s12,  plot_vector, plot_xy, hist_1d\n",
    "                       "
   ]
  },
  {
   "cell_type": "markdown",
   "metadata": {
    "collapsed": false
   },
   "source": [
    "### Import GUI"
   ]
  },
  {
   "cell_type": "code",
   "execution_count": null,
   "metadata": {
    "collapsed": false
   },
   "outputs": [],
   "source": [
    "from PyQt5 import QtCore, QtWidgets, uic\n",
    "from matplotlib.backends.backend_qt5agg import (\n",
    "    FigureCanvasQTAgg as FigureCanvas,\n",
    "    NavigationToolbar2QT as NavigationToolbar)\n",
    "from matplotlib.figure import Figure\n",
    "\n",
    "from PyQt5.uic import loadUiType\n",
    "\n",
    "\n",
    "qtCreatorFile = \"event_maps.ui\" # Enter file here.\n",
    "Ui_MainWindow, QMainWindow = loadUiType(qtCreatorFile)\n",
    "\n",
    "class Main(QMainWindow, Ui_MainWindow):\n",
    "    def __init__(self, ):\n",
    "        super(Main, self).__init__()\n",
    "        self.setupUi(self)\n",
    "        self.fig_dict = {}\n",
    "\n",
    "        self.mplfigs.itemClicked.connect(self.change_figure)\n",
    "\n",
    "        fig = Figure()\n",
    "        self.add_mpl(fig)\n",
    "\n",
    "    def add_figure(self, name, fig):\n",
    "        test_key = self.fig_dict.pop(name, None)\n",
    "        self.fig_dict[name] = fig\n",
    "        if not test_key: # key not in dict\n",
    "            self.mplfigs.addItem(name)\n",
    "\n",
    "    def change_figure(self, item):\n",
    "        text = item.text()\n",
    "        self.rm_mpl()\n",
    "        self.add_mpl(self.fig_dict[text])\n",
    "\n",
    "    def add_mpl(self, fig):\n",
    "        self.canvas = FigureCanvas(fig)\n",
    "        self.mplvl.addWidget(self.canvas)\n",
    "        self.canvas.draw()\n",
    "        self.toolbar = NavigationToolbar(self.canvas,\n",
    "                self.mplwindow, coordinates=True)\n",
    "        self.mplvl.addWidget(self.toolbar)\n",
    "\n",
    "    def rm_mpl(self,):\n",
    "        self.mplvl.removeWidget(self.canvas)\n",
    "        self.canvas.close()\n",
    "        self.mplvl.removeWidget(self.toolbar)\n",
    "        self.toolbar.close()\n"
   ]
  },
  {
   "cell_type": "code",
   "execution_count": null,
   "metadata": {
    "collapsed": false
   },
   "outputs": [],
   "source": [
    "main=Main()\n",
    "main.show()"
   ]
  },
  {
   "cell_type": "markdown",
   "metadata": {
    "collapsed": false
   },
   "source": [
    "### Calibration vectors"
   ]
  },
  {
   "cell_type": "code",
   "execution_count": null,
   "metadata": {
    "collapsed": false
   },
   "outputs": [],
   "source": [
    "DataSiPM = load_db.DataSiPM()\n",
    "adc_to_pes_sipm = DataSiPM.adc_to_pes.values\n",
    "xs = DataSiPM.X.values\n",
    "ys = DataSiPM.Y.values"
   ]
  },
  {
   "cell_type": "code",
   "execution_count": null,
   "metadata": {
    "collapsed": false
   },
   "outputs": [],
   "source": [
    "P = pmt_calib_vectors()"
   ]
  },
  {
   "cell_type": "code",
   "execution_count": null,
   "metadata": {
    "collapsed": false
   },
   "outputs": [],
   "source": [
    "P"
   ]
  },
  {
   "cell_type": "markdown",
   "metadata": {
    "collapsed": false
   },
   "source": [
    "## Files"
   ]
  },
  {
   "cell_type": "code",
   "execution_count": null,
   "metadata": {
    "collapsed": false
   },
   "outputs": [],
   "source": [
    "RWF_file = os.path.join(os.environ['IC_DATA'],'LSC/3366/dst_waves_f0_3366.root.h5')"
   ]
  },
  {
   "cell_type": "code",
   "execution_count": null,
   "metadata": {
    "collapsed": false
   },
   "outputs": [],
   "source": [
    "h5rwf = False"
   ]
  },
  {
   "cell_type": "code",
   "execution_count": null,
   "metadata": {
    "collapsed": false
   },
   "outputs": [],
   "source": [
    "if h5rwf:\n",
    "    h5rwf.close()"
   ]
  },
  {
   "cell_type": "code",
   "execution_count": null,
   "metadata": {
    "collapsed": false
   },
   "outputs": [],
   "source": [
    "h5rwf = tb.open_file(RWF_file,'r')"
   ]
  },
  {
   "cell_type": "markdown",
   "metadata": {
    "collapsed": false
   },
   "source": [
    "### pmtrwf and sipmrwf vectors"
   ]
  },
  {
   "cell_type": "markdown",
   "metadata": {
    "collapsed": false
   },
   "source": [
    "To get vectors use **get_vectors(file)** in tbl_functions"
   ]
  },
  {
   "cell_type": "code",
   "execution_count": null,
   "metadata": {
    "collapsed": false
   },
   "outputs": [],
   "source": [
    "pmtrwf, pmtblr, sipmrwf = tbl.get_vectors(h5rwf)"
   ]
  },
  {
   "cell_type": "code",
   "execution_count": null,
   "metadata": {
    "collapsed": false
   },
   "outputs": [],
   "source": [
    "pmt_active = list(range(11))"
   ]
  },
  {
   "cell_type": "code",
   "execution_count": null,
   "metadata": {
    "collapsed": false
   },
   "outputs": [],
   "source": [
    "NEVT, NPMT, PMTWL = pmtrwf.shape\n",
    "NEVT, NSIPM, SIPMWL = sipmrwf.shape\n",
    "print(\"\"\"\n",
    "        Number of events in file = {}\n",
    "        Number of PMTs = {}\n",
    "        PMTWL = {}\n",
    "        Number of SiPMs = {}\n",
    "        SiPMWL = {}\n",
    "      \"\"\".format(NEVT, NPMT, PMTWL,NSIPM, SIPMWL))"
   ]
  },
  {
   "cell_type": "markdown",
   "metadata": {
    "collapsed": false
   },
   "source": [
    "### Params"
   ]
  },
  {
   "cell_type": "code",
   "execution_count": null,
   "metadata": {
    "collapsed": false
   },
   "outputs": [],
   "source": [
    "s1par = S12Params(tmin=0*units.mus, tmax=640*units.mus, lmin=6, lmax=20, stride=4, rebin=False)"
   ]
  },
  {
   "cell_type": "code",
   "execution_count": null,
   "metadata": {
    "collapsed": false
   },
   "outputs": [],
   "source": []
  },
  {
   "cell_type": "markdown",
   "metadata": {
    "collapsed": false
   },
   "source": [
    "### Maps"
   ]
  },
  {
   "cell_type": "code",
   "execution_count": null,
   "metadata": {
    "collapsed": false
   },
   "outputs": [],
   "source": [
    "def event_maps(P, pmtrwf, sipmrwf, event=0):\n",
    "    \"\"\" Events maps\"\"\"\n",
    "    RWF = pmtrwf[event]\n",
    "    CWF = blr.deconv_pmt(RWF, P.coeff_c, P.coeff_blr, n_baseline=48000, thr_trigger=5)\n",
    "    CAL_PMT, CAL_PMT_MAU    =    cpf.calibrated_pmt_mau(CWF,\n",
    "                                                        P.adc_to_pes,\n",
    "                                                        pmt_active = P.pmt_active,\n",
    "                                                        n_MAU = 100,\n",
    "                                                        thr_MAU =  3)\n",
    "    rms = [np.std(CAL_PMT[i]) for i in P.pmt_active]\n",
    "    \n",
    "    csum, csum_mau = cpf.calibrated_pmt_sum(CWF,P.adc_to_pes,P.pmt_active)\n",
    "    s1par = S12Params(tmin=0*units.mus, tmax=640*units.mus, lmin=6, lmax=20, stride=4, rebin=False)\n",
    "    s1_ene, s1_indx = cpf.wfzs(csum_mau, threshold=0.3)\n",
    "    S1 =  cpf.find_S12(s1_ene, s1_indx, **s1par._asdict())\n",
    "    print('***S1****')\n",
    "    print_s12(S1)\n",
    "    \n",
    "    for i in S1:\n",
    "        print('S1 number {}'.format(i))\n",
    "        s1f = features_s12(S1[i])\n",
    "        print('S1 features = {}'.format(s1f))\n",
    "        t = S1[i][0]\n",
    "        tmin = t[0] - 100*units.ns\n",
    "        tmax = t[-1] + 100*units.ns\n",
    "        \n",
    "        #print('S1 match region: [tmin:tmax] (mus) = {}:{}'.format(tmin/units.mus,tmax/units.mus))\n",
    "        s1par_PMT = S12Params(tmin=tmin, tmax=tmax, lmin=3, lmax=20, stride=4, rebin=False)\n",
    "        \n",
    "        PMT_S1 = {}\n",
    "        for pmt in P.pmt_active:\n",
    "            s1_ene, s1_indx = cpf.wfzs(CAL_PMT_MAU[pmt], threshold=0.1)\n",
    "            PMT_S1[pmt] = cpf.find_S12(s1_ene, s1_indx, **s1par_PMT._asdict())\n",
    "        nm = compare_S1(S1[i], PMT_S1)\n",
    "        print('number of PMT matches = {}'.format(nm))\n",
    "    \n",
    "    s2_par = S12Params(tmin=640*units.mus, tmax=800*units.mus, stride=40, lmin=80, lmax=20000, rebin=True)\n",
    "    s2_ene, s2_indx = cpf.wfzs(csum, threshold=1.0)\n",
    "    S2    = cpf.find_S12(s2_ene, s2_indx, **s2_par._asdict())\n",
    "   \n",
    "    print_s12(S2)\n",
    "    if len(S2) == 0:\n",
    "        return 0\n",
    "    \n",
    "    s2f = features_s12(S2[0])\n",
    "    print('S2 features = {}'.format(s2f))\n",
    "    t = S2[0][0]\n",
    "    tmin = t[-1] + 1*units.mus\n",
    "    print('S1p search starts at {}'.format(tmin))\n",
    "    s1p_params = S12Params(tmin=tmin, tmax=1300*units.mus, stride=4, lmin=4, lmax=20, rebin=False)\n",
    "    s1_ene, s1_indx = cpf.wfzs(csum_mau, threshold=0.1)\n",
    "    S1p =  cpf.find_S12(s1_ene, s1_indx, **s1p_params._asdict())\n",
    "    S12t, S12l, S12e = scan_s12(S1p)\n",
    "    \n",
    "    if(len(S1) == 1 and len(S2) == 1):\n",
    "        dt = s2f.tpeak - s1f.tpeak\n",
    "        \n",
    "        print('drif time = {} mus'.format(dt/units.mus))\n",
    "    \n",
    "    print('***S2Si****')\n",
    "    sipm = cpf.signal_sipm(sipmrwf[event], adc_to_pes_sipm, thr=3.5*units.pes, n_MAU=100)\n",
    "    SIPM = cpf.select_sipm(sipm)\n",
    "    S2Si = pf.sipm_s2_dict(SIPM, S2, thr=30*units.pes)\n",
    "\n",
    "    \n",
    "    main.add_figure('RWF', plot_pmt_waveforms(RWF, zoom=False, window_size=10000))\n",
    "    main.add_figure('CWF_vs_time_mus',\n",
    "                plot_pmt_signals_vs_time_mus(CWF,\n",
    "                                             P.pmt_active,\n",
    "                                             t_min      =    0,\n",
    "                                             t_max      = 1200,\n",
    "                                             signal_min =    -5,\n",
    "                                             signal_max =  200))\n",
    "    main.add_figure('Calibrated_PMTs', \n",
    "                plot_pmt_signals_vs_time_mus(CAL_PMT,\n",
    "                                             P.pmt_active,\n",
    "                                             t_min      = 400,\n",
    "                                             t_max      = 800,\n",
    "                                             signal_min =  -2,\n",
    "                                             signal_max =  10))\n",
    "                    \n",
    "    main.add_figure('PMT_rms',plot_xy(P.channel_id, rms))\n",
    "    main.add_figure('Calibrated_SUM', \n",
    "                plot_signal_vs_time_mus(csum, t_min=0, t_max=1300, signal_min=-5, signal_max=60))\n",
    "    main.add_figure('Calibrated_SUM_S1', \n",
    "                plot_signal_vs_time_mus(csum, t_min=0, t_max=640, signal_min=-2, signal_max=10))\n",
    "    main.add_figure('Calibrated_SUM_S2', \n",
    "                plot_signal_vs_time_mus(csum, t_min=640, t_max=660, signal_min=-2, signal_max=100))\n",
    "    main.add_figure('Calibrated_PMT_S1', \n",
    "                plot_pmt_signals_vs_time_mus(CAL_PMT,\n",
    "                                             P.pmt_active,\n",
    "                                             t_min      = 0,\n",
    "                                             t_max      = 640,\n",
    "                                             signal_min =  -2,\n",
    "                                             signal_max =  2))\n",
    "    if len(S1) > 0:\n",
    "        main.add_figure('S1', plot_s12(S1))\n",
    "    if len(S2) > 0:\n",
    "        main.add_figure('S2', plot_s12(S2))\n",
    "    main.add_figure('S1p_t',hist_1d(S12t, xlo=650*units.mus, xhi=1300*units.mus))\n",
    "    main.add_figure('S1p_l',hist_1d(S12l, xlo=0, xhi=20))\n",
    "    main.add_figure('S1p_e',hist_1d(S12e, xlo=0, xhi=10))\n",
    "    pmf.scan_s2si_map(S2Si)\n"
   ]
  },
  {
   "cell_type": "code",
   "execution_count": null,
   "metadata": {
    "collapsed": false
   },
   "outputs": [],
   "source": [
    "event_maps(P, pmtrwf, sipmrwf,event=20)"
   ]
  },
  {
   "cell_type": "code",
   "execution_count": null,
   "metadata": {
    "collapsed": false
   },
   "outputs": [],
   "source": [
    "event=0\n",
    "RWF = pmtrwf[event]"
   ]
  },
  {
   "cell_type": "code",
   "execution_count": null,
   "metadata": {
    "collapsed": false
   },
   "outputs": [],
   "source": [
    "main.add_figure('RWF', plot_pmt_waveforms(RWF, zoom=False, window_size=10000))"
   ]
  },
  {
   "cell_type": "code",
   "execution_count": null,
   "metadata": {
    "collapsed": false
   },
   "outputs": [],
   "source": [
    "CWF = blr.deconv_pmt(RWF, P.coeff_c, P.coeff_blr, n_baseline=48000, thr_trigger=5)"
   ]
  },
  {
   "cell_type": "code",
   "execution_count": null,
   "metadata": {
    "collapsed": false
   },
   "outputs": [],
   "source": [
    "main.add_figure('CWF', plot_pmt_waveforms(CWF, zoom=False, window_size=10000))"
   ]
  },
  {
   "cell_type": "code",
   "execution_count": null,
   "metadata": {
    "collapsed": false
   },
   "outputs": [],
   "source": [
    "main.add_figure('CWF_vs_time_mus',\n",
    "                plot_pmt_signals_vs_time_mus(CWF,\n",
    "                                             P.pmt_active,\n",
    "                                             t_min      =    0,\n",
    "                                             t_max      = 1200,\n",
    "                                             signal_min =    -5,\n",
    "                                             signal_max =  200))"
   ]
  },
  {
   "cell_type": "code",
   "execution_count": null,
   "metadata": {
    "collapsed": false
   },
   "outputs": [],
   "source": [
    "CAL_PMT, CAL_PMT_MAU    =    cpf.calibrated_pmt_mau(\n",
    "                               CWF,\n",
    "                               P.adc_to_pes,\n",
    "                               pmt_active = list(range(11)),\n",
    "                               n_MAU = 100,\n",
    "                               thr_MAU =  3)"
   ]
  },
  {
   "cell_type": "code",
   "execution_count": null,
   "metadata": {
    "collapsed": false
   },
   "outputs": [],
   "source": [
    "rms = [np.std(CAL_PMT[i]) for i in P.pmt_active]"
   ]
  },
  {
   "cell_type": "code",
   "execution_count": null,
   "metadata": {
    "collapsed": false
   },
   "outputs": [],
   "source": [
    "rms"
   ]
  },
  {
   "cell_type": "code",
   "execution_count": null,
   "metadata": {
    "collapsed": false
   },
   "outputs": [],
   "source": [
    "P.channel_id"
   ]
  },
  {
   "cell_type": "code",
   "execution_count": null,
   "metadata": {
    "collapsed": false
   },
   "outputs": [],
   "source": [
    "main.add_figure('Calibrated_PMTs', \n",
    "                plot_pmt_signals_vs_time_mus(CAL_PMT,\n",
    "                                             P.pmt_active,\n",
    "                                             t_min      = 400,\n",
    "                                             t_max      = 800,\n",
    "                                             signal_min =  -2,\n",
    "                                             signal_max =  10))"
   ]
  },
  {
   "cell_type": "code",
   "execution_count": null,
   "metadata": {
    "collapsed": false
   },
   "outputs": [],
   "source": [
    "main.add_figure('PMT_rms',plot_xy(P.channel_id, rms))"
   ]
  },
  {
   "cell_type": "code",
   "execution_count": null,
   "metadata": {
    "collapsed": false
   },
   "outputs": [],
   "source": [
    "csum, csum_mau = cpf.calibrated_pmt_sum(CWF,P.adc_to_pes,P.pmt_active)"
   ]
  },
  {
   "cell_type": "code",
   "execution_count": null,
   "metadata": {
    "collapsed": false
   },
   "outputs": [],
   "source": [
    "main.add_figure('Calibrated_SUM', \n",
    "                plot_signal_vs_time_mus(csum, t_min=0, t_max=1300, signal_min=-5, signal_max=60))"
   ]
  },
  {
   "cell_type": "code",
   "execution_count": null,
   "metadata": {
    "collapsed": false
   },
   "outputs": [],
   "source": [
    "main.add_figure('Calibrated_SUM_S1', \n",
    "                plot_signal_vs_time_mus(csum, t_min=550, t_max=600, signal_min=-2, signal_max=10))"
   ]
  },
  {
   "cell_type": "code",
   "execution_count": null,
   "metadata": {
    "collapsed": false
   },
   "outputs": [],
   "source": [
    "main.add_figure('Calibrated_SUM_S2', \n",
    "                plot_signal_vs_time_mus(csum, t_min=640, t_max=660, signal_min=-2, signal_max=100))"
   ]
  },
  {
   "cell_type": "code",
   "execution_count": null,
   "metadata": {
    "collapsed": false
   },
   "outputs": [],
   "source": [
    "main.add_figure('Calibrated_PMT_S1', \n",
    "                plot_pmt_signals_vs_time_mus(CAL_PMT,\n",
    "                                             P.pmt_active,\n",
    "                                             t_min      = 560,\n",
    "                                             t_max      = 570,\n",
    "                                             signal_min =  -2,\n",
    "                                             signal_max =  2))"
   ]
  },
  {
   "cell_type": "code",
   "execution_count": null,
   "metadata": {
    "collapsed": false
   },
   "outputs": [],
   "source": [
    "main.add_figure('Calibrated_PMT_S2', \n",
    "                plot_pmt_signals_vs_time_mus(CAL_PMT,\n",
    "                                             P.pmt_active,\n",
    "                                             t_min      = 640,\n",
    "                                             t_max      = 660,\n",
    "                                             signal_min =  -2,\n",
    "                                             signal_max =  10))"
   ]
  },
  {
   "cell_type": "code",
   "execution_count": null,
   "metadata": {
    "collapsed": false
   },
   "outputs": [],
   "source": [
    "s1par = S12Params(tmin=0*units.mus, tmax=620*units.mus, lmin=6, lmax=20, stride=4, rebin=False)"
   ]
  },
  {
   "cell_type": "code",
   "execution_count": null,
   "metadata": {
    "collapsed": false
   },
   "outputs": [],
   "source": [
    "s1_ene, s1_indx = cpf.wfzs(csum_mau, threshold=0.2)\n",
    "S1 =  cpf.find_S12(s1_ene, s1_indx, **s1par._asdict())"
   ]
  },
  {
   "cell_type": "code",
   "execution_count": null,
   "metadata": {
    "collapsed": false
   },
   "outputs": [],
   "source": [
    "print_s12(S1)"
   ]
  },
  {
   "cell_type": "code",
   "execution_count": null,
   "metadata": {
    "collapsed": false
   },
   "outputs": [],
   "source": [
    "main.add_figure('S1', plot_s12(S1))"
   ]
  },
  {
   "cell_type": "code",
   "execution_count": null,
   "metadata": {
    "collapsed": false
   },
   "outputs": [],
   "source": [
    "S1[0][0]"
   ]
  },
  {
   "cell_type": "code",
   "execution_count": null,
   "metadata": {
    "collapsed": false
   },
   "outputs": [],
   "source": [
    "t = S1[0][0]"
   ]
  },
  {
   "cell_type": "code",
   "execution_count": null,
   "metadata": {
    "collapsed": false
   },
   "outputs": [],
   "source": [
    "tmin = t[0] - 100*units.ns\n",
    "tmax = t[-1] + 100*units.ns"
   ]
  },
  {
   "cell_type": "code",
   "execution_count": null,
   "metadata": {
    "collapsed": false
   },
   "outputs": [],
   "source": [
    "s1par_PMT = S12Params(tmin=tmin, tmax=tmax, lmin=3, lmax=20, stride=4, rebin=False)"
   ]
  },
  {
   "cell_type": "code",
   "execution_count": null,
   "metadata": {
    "collapsed": false
   },
   "outputs": [],
   "source": [
    "PMT_S1 = {}\n",
    "    \n",
    "for pmt in list(range(11)):\n",
    "    s1_ene, s1_indx = cpf.wfzs(CAL_PMT_MAU[pmt], threshold=0.1)\n",
    "    PMT_S1[pmt] = cpf.find_S12(s1_ene, s1_indx, **s1par_PMT._asdict())"
   ]
  },
  {
   "cell_type": "code",
   "execution_count": null,
   "metadata": {
    "collapsed": false
   },
   "outputs": [],
   "source": [
    "PMT_S1"
   ]
  },
  {
   "cell_type": "code",
   "execution_count": null,
   "metadata": {
    "collapsed": false
   },
   "outputs": [],
   "source": [
    "compare_S1(S1, PMT_S1)"
   ]
  },
  {
   "cell_type": "code",
   "execution_count": null,
   "metadata": {
    "collapsed": false
   },
   "outputs": [],
   "source": [
    "s2_par = S12Params(tmin=620*units.mus, tmax=800*units.mus, stride=40, lmin=80, lmax=20000, rebin=True)"
   ]
  },
  {
   "cell_type": "code",
   "execution_count": null,
   "metadata": {
    "collapsed": false
   },
   "outputs": [],
   "source": [
    "s2_ene, s2_indx = cpf.wfzs(csum, threshold=0.5)\n",
    "S2              = cpf.find_S12(s2_ene, s2_indx, **s2_par._asdict())"
   ]
  },
  {
   "cell_type": "code",
   "execution_count": null,
   "metadata": {
    "collapsed": false
   },
   "outputs": [],
   "source": [
    "print_s12(S2)"
   ]
  },
  {
   "cell_type": "code",
   "execution_count": null,
   "metadata": {
    "collapsed": false
   },
   "outputs": [],
   "source": [
    "main.add_figure('S2', plot_s12(S2))"
   ]
  },
  {
   "cell_type": "code",
   "execution_count": null,
   "metadata": {
    "collapsed": false
   },
   "outputs": [],
   "source": [
    "t = S2[0][0]\n",
    "tmin = t[-1] + 1*units.mus"
   ]
  },
  {
   "cell_type": "code",
   "execution_count": null,
   "metadata": {
    "collapsed": false
   },
   "outputs": [],
   "source": [
    "s1p_params = S12Params(tmin=tmin, tmax=1300*units.mus, stride=4, lmin=4, lmax=20, rebin=False)"
   ]
  },
  {
   "cell_type": "code",
   "execution_count": null,
   "metadata": {
    "collapsed": false
   },
   "outputs": [],
   "source": [
    "s1_ene, s1_indx = cpf.wfzs(csum_mau, threshold=0.1)\n",
    "S1p =  cpf.find_S12(s1_ene, s1_indx, **s1p_params._asdict())"
   ]
  },
  {
   "cell_type": "code",
   "execution_count": null,
   "metadata": {
    "collapsed": false
   },
   "outputs": [],
   "source": [
    "S12t, S12l, S12e = scan_s12(S1p)"
   ]
  },
  {
   "cell_type": "code",
   "execution_count": null,
   "metadata": {
    "collapsed": false
   },
   "outputs": [],
   "source": [
    "S12t/units.mus"
   ]
  },
  {
   "cell_type": "code",
   "execution_count": null,
   "metadata": {
    "collapsed": false
   },
   "outputs": [],
   "source": [
    "S12l"
   ]
  },
  {
   "cell_type": "code",
   "execution_count": null,
   "metadata": {
    "collapsed": false
   },
   "outputs": [],
   "source": [
    "S12e"
   ]
  },
  {
   "cell_type": "code",
   "execution_count": null,
   "metadata": {
    "collapsed": false
   },
   "outputs": [],
   "source": []
  },
  {
   "cell_type": "code",
   "execution_count": null,
   "metadata": {
    "collapsed": false
   },
   "outputs": [],
   "source": [
    "hist"
   ]
  },
  {
   "cell_type": "code",
   "execution_count": null,
   "metadata": {
    "collapsed": false
   },
   "outputs": [],
   "source": [
    "bin_edges"
   ]
  },
  {
   "cell_type": "code",
   "execution_count": null,
   "metadata": {
    "collapsed": false
   },
   "outputs": [],
   "source": [
    "main.add_figure('S1p_t',hist_1d(S12t/units.mus, xlo=S12t[0]/units.mus, xhi=S12t[-1]/units.mus))"
   ]
  },
  {
   "cell_type": "code",
   "execution_count": null,
   "metadata": {
    "collapsed": false
   },
   "outputs": [],
   "source": [
    "main.add_figure('S1p_l',hist_1d(S12l, xlo=0, xhi=20))"
   ]
  },
  {
   "cell_type": "code",
   "execution_count": null,
   "metadata": {
    "collapsed": false
   },
   "outputs": [],
   "source": [
    "main.add_figure('S1p_e',hist_1d(S12e, xlo=0, xhi=10))"
   ]
  },
  {
   "cell_type": "code",
   "execution_count": null,
   "metadata": {
    "collapsed": false
   },
   "outputs": [],
   "source": [
    "sipm = cpf.signal_sipm(sipmrwf[event], adc_to_pes_sipm, thr=3.5*units.pes, n_MAU=100)\n",
    "SIPM = cpf.select_sipm(sipm)\n",
    "S2Si = pf.sipm_s2_dict(SIPM, S2, thr=30*units.pes)\n"
   ]
  },
  {
   "cell_type": "code",
   "execution_count": null,
   "metadata": {
    "collapsed": false
   },
   "outputs": [],
   "source": [
    "S2Si"
   ]
  },
  {
   "cell_type": "code",
   "execution_count": null,
   "metadata": {
    "collapsed": false
   },
   "outputs": [],
   "source": [
    "S2"
   ]
  },
  {
   "cell_type": "code",
   "execution_count": null,
   "metadata": {
    "collapsed": false
   },
   "outputs": [],
   "source": [
    "pmf.scan_s2si_map(S2Si)\n"
   ]
  },
  {
   "cell_type": "code",
   "execution_count": null,
   "metadata": {
    "collapsed": false
   },
   "outputs": [],
   "source": [
    "xs[1688]"
   ]
  },
  {
   "cell_type": "code",
   "execution_count": null,
   "metadata": {
    "collapsed": false
   },
   "outputs": [],
   "source": [
    "xs[1689]"
   ]
  },
  {
   "cell_type": "code",
   "execution_count": null,
   "metadata": {
    "collapsed": false
   },
   "outputs": [],
   "source": [
    "ys[1688]"
   ]
  },
  {
   "cell_type": "code",
   "execution_count": null,
   "metadata": {
    "collapsed": false
   },
   "outputs": [],
   "source": [
    "ys[1689]"
   ]
  },
  {
   "cell_type": "code",
   "execution_count": null,
   "metadata": {
    "collapsed": false
   },
   "outputs": [],
   "source": [
    "\n",
    "def event_maps(P, pmtrwf, sipmrwf, s1par, thr_s1=0.3*units.pes, event=0):\n",
    "\n",
    "    main.add_figure('RWF', plot_pmt_waveforms(RWF, zoom=False, window_size=10000))\n",
    "    main.add_figure('CWF_vs_time_mus',\n",
    "                plot_pmt_signals_vs_time_mus(CWF,\n",
    "                                             P.pmt_active,\n",
    "                                             t_min      =    0,\n",
    "                                             t_max      = 1200,\n",
    "                                             signal_min =    -5,\n",
    "                                             signal_max =  200))\n",
    "    main.add_figure('Calibrated_PMTs',\n",
    "                plot_pmt_signals_vs_time_mus(CAL_PMT,\n",
    "                                             P.pmt_active,\n",
    "                                             t_min      = 400,\n",
    "                                             t_max      = 800,\n",
    "                                             signal_min =  -2,\n",
    "                                             signal_max =  10))\n",
    "\n",
    "    main.add_figure('PMT_rms',plot_xy(P.channel_id, rms))\n",
    "    main.add_figure('Calibrated_SUM',\n",
    "                plot_signal_vs_time_mus(csum, t_min=0, t_max=1300, signal_min=-5, signal_max=60))\n",
    "    main.add_figure('Calibrated_SUM_S1',\n",
    "                plot_signal_vs_time_mus(csum, t_min=0, t_max=640, signal_min=-2, signal_max=10))\n",
    "    main.add_figure('Calibrated_SUM_S2',\n",
    "                plot_signal_vs_time_mus(csum, t_min=640, t_max=660, signal_min=-2, signal_max=100))\n",
    "    main.add_figure('Calibrated_PMT_S1',\n",
    "                plot_pmt_signals_vs_time_mus(CAL_PMT,\n",
    "                                             P.pmt_active,\n",
    "                                             t_min      = 0,\n",
    "                                             t_max      = 640,\n",
    "                                             signal_min =  -2,\n",
    "                                             signal_max =  2))\n",
    "    if len(S1) > 0:\n",
    "        main.add_figure('S1', plot_s12(S1))\n",
    "    if len(S2) > 0:\n",
    "        main.add_figure('S2', plot_s12(S2))\n",
    "    main.add_figure('S1p_t',hist_1d(S12t, xlo=650*units.mus, xhi=1300*units.mus))\n",
    "    main.add_figure('S1p_l',hist_1d(S12l, xlo=0, xhi=20))\n",
    "    main.add_figure('S1p_e',hist_1d(S12e, xlo=0, xhi=10))\n",
    "    pmf.scan_s2si_map(S2Si)\n",
    "\n"
   ]
  }
 ],
 "metadata": {
  "anaconda-cloud": {},
  "kernelspec": {
   "display_name": "Python 3",
   "language": "python",
   "name": "python3"
  },
  "language_info": {
   "codemirror_mode": {
    "name": "ipython",
    "version": 3
   },
   "file_extension": ".py",
   "mimetype": "text/x-python",
   "name": "python",
   "nbconvert_exporter": "python",
   "pygments_lexer": "ipython3",
   "version": "3.6.0"
  }
 },
 "nbformat": 4,
 "nbformat_minor": 0
}
