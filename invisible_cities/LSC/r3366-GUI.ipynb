{
 "cells": [
  {
   "cell_type": "markdown",
   "metadata": {
    "collapsed": false
   },
   "source": [
    "# r-3366-GUI"
   ]
  },
  {
   "cell_type": "markdown",
   "metadata": {},
   "source": [
    "Taken on March 19th, Krypton run, Krypton trigger with \"November 20162 conditions"
   ]
  },
  {
   "cell_type": "code",
   "execution_count": 1,
   "metadata": {
    "collapsed": false
   },
   "outputs": [],
   "source": [
    "import datetime"
   ]
  },
  {
   "cell_type": "code",
   "execution_count": 2,
   "metadata": {
    "collapsed": false
   },
   "outputs": [
    {
     "name": "stdout",
     "output_type": "stream",
     "text": [
      "2017-03-20 13:52:52\n"
     ]
    }
   ],
   "source": [
    "print(datetime.datetime.now().strftime('%Y-%m-%d %H:%M:%S'))"
   ]
  },
  {
   "cell_type": "code",
   "execution_count": 3,
   "metadata": {
    "collapsed": false
   },
   "outputs": [],
   "source": [
    "from __future__ import print_function\n",
    "import sys\n",
    "import os\n",
    "from glob import glob\n",
    "from time import time"
   ]
  },
  {
   "cell_type": "code",
   "execution_count": 4,
   "metadata": {
    "collapsed": false
   },
   "outputs": [],
   "source": [
    "%gui qt\n",
    "%load_ext autoreload\n",
    "%autoreload 2\n",
    "import matplotlib.pyplot as plt\n",
    "import pandas as pd\n",
    "import tables as tb\n",
    "import numpy as np\n",
    "import math\n"
   ]
  },
  {
   "cell_type": "code",
   "execution_count": 5,
   "metadata": {
    "collapsed": false
   },
   "outputs": [],
   "source": [
    "from invisible_cities.database import load_db\n",
    "import invisible_cities.sierpe.blr as blr\n",
    "import invisible_cities.core.mpl_functions as mpl\n",
    "import invisible_cities.reco.wfm_functions as wfm\n",
    "import invisible_cities.reco.tbl_functions as tbl\n",
    "import invisible_cities.reco.peak_functions_c as cpf\n",
    "import invisible_cities.reco.peak_functions as pf\n",
    "import invisible_cities.reco.pmaps_functions as pmf"
   ]
  },
  {
   "cell_type": "code",
   "execution_count": 6,
   "metadata": {
    "collapsed": true
   },
   "outputs": [],
   "source": [
    "from invisible_cities.reco.pmap_io import pmap_writer, S12, S2Si\n",
    "\n",
    "from   invisible_cities.core.configure import configure, print_configuration\n",
    "\n",
    "from   invisible_cities.core.system_of_units_c import units\n",
    "from   invisible_cities.cities.base_cities import PmapCity, SensorParams\n",
    "from   invisible_cities.cities.base_cities import S12Params as S12P"
   ]
  },
  {
   "cell_type": "code",
   "execution_count": 7,
   "metadata": {
    "collapsed": false
   },
   "outputs": [],
   "source": [
    "from invisible_cities.core.core_functions import define_window\n",
    "from invisible_cities.core.core_functions import lrange\n",
    "from collections import namedtuple"
   ]
  },
  {
   "cell_type": "code",
   "execution_count": 81,
   "metadata": {
    "collapsed": false
   },
   "outputs": [],
   "source": [
    "from invisible_cities.reco.params import S12Params, ThresholdParams, CalibratedSum, PMaps, RawVectors,\\\n",
    "                                         SensorParams, CalibParams, PmapParams, CalibratedPMT, S1PMaps"
   ]
  },
  {
   "cell_type": "code",
   "execution_count": 9,
   "metadata": {
    "collapsed": false
   },
   "outputs": [],
   "source": [
    "%load_ext Cython"
   ]
  },
  {
   "cell_type": "code",
   "execution_count": 10,
   "metadata": {
    "collapsed": true
   },
   "outputs": [],
   "source": [
    "from matplotlib.figure import Figure"
   ]
  },
  {
   "cell_type": "code",
   "execution_count": 134,
   "metadata": {
    "collapsed": false
   },
   "outputs": [],
   "source": [
    "from event_maps import Main, pmt_calib_vectors, plot_pmt_waveforms, plot_pmt_signals_vs_time_mus, \\\n",
    "                       plot_signal_vs_time_mus, plot_s12, print_s12, plot_vector, plot_xy, scan_s12, hist_1d, \\\n",
    "                       compare_S1, features_s12, S12F"
   ]
  },
  {
   "cell_type": "markdown",
   "metadata": {},
   "source": [
    "### Import GUI"
   ]
  },
  {
   "cell_type": "code",
   "execution_count": 12,
   "metadata": {
    "collapsed": true
   },
   "outputs": [],
   "source": [
    "main=Main()\n",
    "main.show()"
   ]
  },
  {
   "cell_type": "markdown",
   "metadata": {},
   "source": [
    "### Calibration vectors"
   ]
  },
  {
   "cell_type": "code",
   "execution_count": 13,
   "metadata": {
    "collapsed": true
   },
   "outputs": [],
   "source": [
    "DataSiPM = load_db.DataSiPM()\n",
    "adc_to_pes_sipm = DataSiPM.adc_to_pes.values\n",
    "xs = DataSiPM.X.values\n",
    "ys = DataSiPM.Y.values"
   ]
  },
  {
   "cell_type": "code",
   "execution_count": 14,
   "metadata": {
    "collapsed": false
   },
   "outputs": [],
   "source": [
    "P = pmt_calib_vectors()"
   ]
  },
  {
   "cell_type": "code",
   "execution_count": 15,
   "metadata": {
    "collapsed": false
   },
   "outputs": [
    {
     "data": {
      "text/plain": [
       "CalibVectors(channel_id=array([ 0,  1,  4,  5,  8, 18, 22, 23, 26, 27, 31]), coeff_blr=array([ 0.00161,  0.00162,  0.00161,  0.00161,  0.00161,  0.0008 ,\n",
       "        0.0008 ,  0.0008 ,  0.0008 ,  0.0008 ,  0.0016 ,  0.001  ]), coeff_c=array([  2.94000000e-06,   2.75000000e-06,   3.09000000e-06,\n",
       "         2.81000000e-06,   2.88000000e-06,   1.00000000e-06,\n",
       "         1.00000000e-06,   1.00000000e-06,   1.00000000e-06,\n",
       "         1.00000000e-06,   2.76000000e-06,   1.00000000e-06]), adc_to_pes=array([ 25.17,  22.15,  33.57,  23.88,  21.55,  26.49,  25.39,  27.74,\n",
       "        23.78,  20.83,  26.56,   0.  ]), pmt_active=[0, 1, 2, 3, 4, 5, 6, 7, 8, 9, 10])"
      ]
     },
     "execution_count": 15,
     "metadata": {},
     "output_type": "execute_result"
    }
   ],
   "source": [
    "P"
   ]
  },
  {
   "cell_type": "markdown",
   "metadata": {
    "collapsed": false
   },
   "source": [
    "## Files"
   ]
  },
  {
   "cell_type": "code",
   "execution_count": 16,
   "metadata": {
    "collapsed": false
   },
   "outputs": [],
   "source": [
    "RWF_file = os.path.join(os.environ['IC_DATA'],'LSC/3366/dst_waves_f0_3366.root.h5')"
   ]
  },
  {
   "cell_type": "code",
   "execution_count": 17,
   "metadata": {
    "collapsed": false
   },
   "outputs": [],
   "source": [
    "h5rwf = False"
   ]
  },
  {
   "cell_type": "code",
   "execution_count": 18,
   "metadata": {
    "collapsed": false
   },
   "outputs": [],
   "source": [
    "if h5rwf:\n",
    "    h5rwf.close()"
   ]
  },
  {
   "cell_type": "code",
   "execution_count": 19,
   "metadata": {
    "collapsed": false
   },
   "outputs": [],
   "source": [
    "h5rwf = tb.open_file(RWF_file,'r')"
   ]
  },
  {
   "cell_type": "markdown",
   "metadata": {
    "collapsed": false
   },
   "source": [
    "### pmtrwf and sipmrwf vectors"
   ]
  },
  {
   "cell_type": "markdown",
   "metadata": {
    "collapsed": false
   },
   "source": [
    "To get vectors use **get_vectors(file)** in tbl_functions"
   ]
  },
  {
   "cell_type": "code",
   "execution_count": 20,
   "metadata": {
    "collapsed": false
   },
   "outputs": [],
   "source": [
    "pmtrwf, pmtblr, sipmrwf = tbl.get_vectors(h5rwf)"
   ]
  },
  {
   "cell_type": "code",
   "execution_count": 21,
   "metadata": {
    "collapsed": false
   },
   "outputs": [],
   "source": [
    "pmt_active = list(range(11))"
   ]
  },
  {
   "cell_type": "code",
   "execution_count": 22,
   "metadata": {
    "collapsed": false
   },
   "outputs": [
    {
     "name": "stdout",
     "output_type": "stream",
     "text": [
      "\n",
      "        Number of events in file = 167\n",
      "        Number of PMTs = 12\n",
      "        PMTWL = 52000\n",
      "        Number of SiPMs = 1792\n",
      "        SiPMWL = 1300\n",
      "      \n"
     ]
    }
   ],
   "source": [
    "NEVT, NPMT, PMTWL = pmtrwf.shape\n",
    "NEVT, NSIPM, SIPMWL = sipmrwf.shape\n",
    "print(\"\"\"\n",
    "        Number of events in file = {}\n",
    "        Number of PMTs = {}\n",
    "        PMTWL = {}\n",
    "        Number of SiPMs = {}\n",
    "        SiPMWL = {}\n",
    "      \"\"\".format(NEVT, NPMT, PMTWL,NSIPM, SIPMWL))"
   ]
  },
  {
   "cell_type": "markdown",
   "metadata": {},
   "source": [
    "### Params"
   ]
  },
  {
   "cell_type": "code",
   "execution_count": 198,
   "metadata": {
    "collapsed": true
   },
   "outputs": [],
   "source": [
    "s1par = S12Params(tmin=0*units.mus, tmax=640*units.mus, lmin=6, lmax=20, stride=4, rebin=False)"
   ]
  },
  {
   "cell_type": "code",
   "execution_count": null,
   "metadata": {
    "collapsed": true
   },
   "outputs": [],
   "source": []
  },
  {
   "cell_type": "markdown",
   "metadata": {
    "collapsed": false
   },
   "source": [
    "### Maps"
   ]
  },
  {
   "cell_type": "code",
   "execution_count": 195,
   "metadata": {
    "collapsed": false
   },
   "outputs": [],
   "source": [
    "def event_maps(P, pmtrwf, sipmrwf, event=0):\n",
    "    \"\"\" Events maps\"\"\"\n",
    "    RWF = pmtrwf[event]\n",
    "    CWF = blr.deconv_pmt(RWF, P.coeff_c, P.coeff_blr, n_baseline=48000, thr_trigger=5)\n",
    "    CAL_PMT, CAL_PMT_MAU    =    cpf.calibrated_pmt_mau(CWF,\n",
    "                                                        P.adc_to_pes,\n",
    "                                                        pmt_active = P.pmt_active,\n",
    "                                                        n_MAU = 100,\n",
    "                                                        thr_MAU =  3)\n",
    "    rms = [np.std(CAL_PMT[i]) for i in P.pmt_active]\n",
    "    \n",
    "    csum, csum_mau = cpf.calibrated_pmt_sum(CWF,P.adc_to_pes,P.pmt_active)\n",
    "    s1par = S12Params(tmin=0*units.mus, tmax=640*units.mus, lmin=6, lmax=20, stride=4, rebin=False)\n",
    "    s1_ene, s1_indx = cpf.wfzs(csum_mau, threshold=0.3)\n",
    "    S1 =  cpf.find_S12(s1_ene, s1_indx, **s1par._asdict())\n",
    "    print('***S1****')\n",
    "    print_s12(S1)\n",
    "    \n",
    "    for i in S1:\n",
    "        print('S1 number {}'.format(i))\n",
    "        s1f = features_s12(S1[i])\n",
    "        print('S1 features = {}'.format(s1f))\n",
    "        t = S1[i][0]\n",
    "        tmin = t[0] - 100*units.ns\n",
    "        tmax = t[-1] + 100*units.ns\n",
    "        \n",
    "        #print('S1 match region: [tmin:tmax] (mus) = {}:{}'.format(tmin/units.mus,tmax/units.mus))\n",
    "        s1par_PMT = S12Params(tmin=tmin, tmax=tmax, lmin=3, lmax=20, stride=4, rebin=False)\n",
    "        \n",
    "        PMT_S1 = {}\n",
    "        for pmt in P.pmt_active:\n",
    "            s1_ene, s1_indx = cpf.wfzs(CAL_PMT_MAU[pmt], threshold=0.1)\n",
    "            PMT_S1[pmt] = cpf.find_S12(s1_ene, s1_indx, **s1par_PMT._asdict())\n",
    "        nm = compare_S1(S1[i], PMT_S1)\n",
    "        print('number of PMT matches = {}'.format(nm))\n",
    "    \n",
    "    s2_par = S12Params(tmin=640*units.mus, tmax=800*units.mus, stride=40, lmin=80, lmax=20000, rebin=True)\n",
    "    s2_ene, s2_indx = cpf.wfzs(csum, threshold=1.0)\n",
    "    S2    = cpf.find_S12(s2_ene, s2_indx, **s2_par._asdict())\n",
    "   \n",
    "    print_s12(S2)\n",
    "    if len(S2) == 0:\n",
    "        return 0\n",
    "    \n",
    "    s2f = features_s12(S2[0])\n",
    "    print('S2 features = {}'.format(s2f))\n",
    "    t = S2[0][0]\n",
    "    tmin = t[-1] + 1*units.mus\n",
    "    print('S1p search starts at {}'.format(tmin))\n",
    "    s1p_params = S12Params(tmin=tmin, tmax=1300*units.mus, stride=4, lmin=4, lmax=20, rebin=False)\n",
    "    s1_ene, s1_indx = cpf.wfzs(csum_mau, threshold=0.1)\n",
    "    S1p =  cpf.find_S12(s1_ene, s1_indx, **s1p_params._asdict())\n",
    "    S12t, S12l, S12e = scan_s12(S1p)\n",
    "    \n",
    "    if(len(S1) == 1 and len(S2) == 1):\n",
    "        dt = s2f.tpeak - s1f.tpeak\n",
    "        \n",
    "        print('drif time = {} mus'.format(dt/units.mus))\n",
    "    \n",
    "    print('***S2Si****')\n",
    "    sipm = cpf.signal_sipm(sipmrwf[event], adc_to_pes_sipm, thr=3.5*units.pes, n_MAU=100)\n",
    "    SIPM = cpf.select_sipm(sipm)\n",
    "    S2Si = pf.sipm_s2_dict(SIPM, S2, thr=30*units.pes)\n",
    "\n",
    "    \n",
    "    main.add_figure('RWF', plot_pmt_waveforms(RWF, zoom=False, window_size=10000))\n",
    "    main.add_figure('CWF_vs_time_mus',\n",
    "                plot_pmt_signals_vs_time_mus(CWF,\n",
    "                                             P.pmt_active,\n",
    "                                             t_min      =    0,\n",
    "                                             t_max      = 1200,\n",
    "                                             signal_min =    -5,\n",
    "                                             signal_max =  200))\n",
    "    main.add_figure('Calibrated_PMTs', \n",
    "                plot_pmt_signals_vs_time_mus(CAL_PMT,\n",
    "                                             P.pmt_active,\n",
    "                                             t_min      = 400,\n",
    "                                             t_max      = 800,\n",
    "                                             signal_min =  -2,\n",
    "                                             signal_max =  10))\n",
    "                    \n",
    "    main.add_figure('PMT_rms',plot_xy(P.channel_id, rms))\n",
    "    main.add_figure('Calibrated_SUM', \n",
    "                plot_signal_vs_time_mus(csum, t_min=0, t_max=1300, signal_min=-5, signal_max=60))\n",
    "    main.add_figure('Calibrated_SUM_S1', \n",
    "                plot_signal_vs_time_mus(csum, t_min=0, t_max=640, signal_min=-2, signal_max=10))\n",
    "    main.add_figure('Calibrated_SUM_S2', \n",
    "                plot_signal_vs_time_mus(csum, t_min=640, t_max=660, signal_min=-2, signal_max=100))\n",
    "    main.add_figure('Calibrated_PMT_S1', \n",
    "                plot_pmt_signals_vs_time_mus(CAL_PMT,\n",
    "                                             P.pmt_active,\n",
    "                                             t_min      = 0,\n",
    "                                             t_max      = 640,\n",
    "                                             signal_min =  -2,\n",
    "                                             signal_max =  2))\n",
    "    if len(S1) > 0:\n",
    "        main.add_figure('S1', plot_s12(S1))\n",
    "    if len(S2) > 0:\n",
    "        main.add_figure('S2', plot_s12(S2))\n",
    "    main.add_figure('S1p_t',hist_1d(S12t, xlo=650*units.mus, xhi=1300*units.mus))\n",
    "    main.add_figure('S1p_l',hist_1d(S12l, xlo=0, xhi=20))\n",
    "    main.add_figure('S1p_e',hist_1d(S12e, xlo=0, xhi=10))\n",
    "    pmf.scan_s2si_map(S2Si)\n"
   ]
  },
  {
   "cell_type": "code",
   "execution_count": 197,
   "metadata": {
    "collapsed": false
   },
   "outputs": [
    {
     "name": "stdout",
     "output_type": "stream",
     "text": [
      "***S1****\n",
      "number of peaks = 1\n",
      "S12 number = 0, samples = 11 sum in pes =6.518566533403748\n",
      "time vector (mus) = [ 585.85   585.875  585.9    585.925  585.95   585.975  586.     586.025\n",
      "  586.05   586.075  586.1  ]\n",
      "energy vector (pes) = [ 0.40199683  0.86930846  0.99918481  0.95252814  0.72410708  0.34136451\n",
      "  0.30223495  0.30669875  0.38500688  0.60882399  0.62731215]\n",
      "S1 number 0\n",
      "S1 features = S12F(tmin=585850.0, tmax=586100.0, tpeak=585900.0, w=250.0, etot=6.5185665334037477, emax=0.9991848050895642, er=0.15328290352937884)\n",
      "number of PMT matches = 5\n",
      "number of peaks = 1\n",
      "S12 number = 0, samples = 7 sum in pes =6001.627505715247\n",
      "time vector (mus) = [ 648.61375     649.6375      650.6375      651.6375      652.6375\n",
      "  653.6525      654.58815789]\n",
      "energy vector (pes) = [  118.82699895   689.38728416  1864.49332482  2190.81864371   929.84990157\n",
      "   166.57143833    41.67991417]\n",
      "S2 features = S12F(tmin=648613.75, tmax=654588.15789473685, tpeak=651637.5, w=5974.4078947368544, etot=6001.627505715247, emax=2190.8186437109839, er=0.36503742386955951)\n",
      "S1p search starts at 655588.1578947369\n",
      "drif time = 65.7375 mus\n",
      "***S2Si****\n",
      "SiPM number = 624, total energy = 92.3786147549722\n",
      "SiPM number = 625, total energy = 73.01484188889214\n"
     ]
    }
   ],
   "source": [
    "event_maps(P, pmtrwf, sipmrwf,event=20)"
   ]
  },
  {
   "cell_type": "code",
   "execution_count": 23,
   "metadata": {
    "collapsed": false
   },
   "outputs": [],
   "source": [
    "event=0\n",
    "RWF = pmtrwf[event]"
   ]
  },
  {
   "cell_type": "code",
   "execution_count": 24,
   "metadata": {
    "collapsed": false
   },
   "outputs": [],
   "source": [
    "main.add_figure('RWF', plot_pmt_waveforms(RWF, zoom=False, window_size=10000))"
   ]
  },
  {
   "cell_type": "code",
   "execution_count": 25,
   "metadata": {
    "collapsed": false
   },
   "outputs": [],
   "source": [
    "CWF = blr.deconv_pmt(RWF, P.coeff_c, P.coeff_blr, n_baseline=48000, thr_trigger=5)"
   ]
  },
  {
   "cell_type": "code",
   "execution_count": 26,
   "metadata": {
    "collapsed": true
   },
   "outputs": [],
   "source": [
    "main.add_figure('CWF', plot_pmt_waveforms(CWF, zoom=False, window_size=10000))"
   ]
  },
  {
   "cell_type": "code",
   "execution_count": 27,
   "metadata": {
    "collapsed": false
   },
   "outputs": [],
   "source": [
    "main.add_figure('CWF_vs_time_mus',\n",
    "                plot_pmt_signals_vs_time_mus(CWF,\n",
    "                                             P.pmt_active,\n",
    "                                             t_min      =    0,\n",
    "                                             t_max      = 1200,\n",
    "                                             signal_min =    -5,\n",
    "                                             signal_max =  200))"
   ]
  },
  {
   "cell_type": "code",
   "execution_count": 28,
   "metadata": {
    "collapsed": false
   },
   "outputs": [],
   "source": [
    "CAL_PMT, CAL_PMT_MAU    =    cpf.calibrated_pmt_mau(\n",
    "                               CWF,\n",
    "                               P.adc_to_pes,\n",
    "                               pmt_active = list(range(11)),\n",
    "                               n_MAU = 100,\n",
    "                               thr_MAU =  3)"
   ]
  },
  {
   "cell_type": "code",
   "execution_count": 29,
   "metadata": {
    "collapsed": false
   },
   "outputs": [],
   "source": [
    "rms = [np.std(CAL_PMT[i]) for i in P.pmt_active]"
   ]
  },
  {
   "cell_type": "code",
   "execution_count": 30,
   "metadata": {
    "collapsed": false
   },
   "outputs": [
    {
     "data": {
      "text/plain": [
       "[0.13925952503699188,\n",
       " 0.18988275237228988,\n",
       " 0.14793908358074045,\n",
       " 0.13922641519407108,\n",
       " 0.20270519939212719,\n",
       " 0.23757858207682561,\n",
       " 0.1964793708546671,\n",
       " 0.19660480579001594,\n",
       " 0.14619025685631598,\n",
       " 0.16907160576246427,\n",
       " 0.16005621327768194]"
      ]
     },
     "execution_count": 30,
     "metadata": {},
     "output_type": "execute_result"
    }
   ],
   "source": [
    "rms"
   ]
  },
  {
   "cell_type": "code",
   "execution_count": 31,
   "metadata": {
    "collapsed": false
   },
   "outputs": [
    {
     "data": {
      "text/plain": [
       "array([ 0,  1,  4,  5,  8, 18, 22, 23, 26, 27, 31])"
      ]
     },
     "execution_count": 31,
     "metadata": {},
     "output_type": "execute_result"
    }
   ],
   "source": [
    "P.channel_id"
   ]
  },
  {
   "cell_type": "code",
   "execution_count": 32,
   "metadata": {
    "collapsed": false
   },
   "outputs": [],
   "source": [
    "main.add_figure('Calibrated_PMTs', \n",
    "                plot_pmt_signals_vs_time_mus(CAL_PMT,\n",
    "                                             P.pmt_active,\n",
    "                                             t_min      = 400,\n",
    "                                             t_max      = 800,\n",
    "                                             signal_min =  -2,\n",
    "                                             signal_max =  10))"
   ]
  },
  {
   "cell_type": "code",
   "execution_count": 33,
   "metadata": {
    "collapsed": false
   },
   "outputs": [],
   "source": [
    "main.add_figure('PMT_rms',plot_xy(P.channel_id, rms))"
   ]
  },
  {
   "cell_type": "code",
   "execution_count": 34,
   "metadata": {
    "collapsed": false
   },
   "outputs": [],
   "source": [
    "csum, csum_mau = cpf.calibrated_pmt_sum(CWF,P.adc_to_pes,P.pmt_active)"
   ]
  },
  {
   "cell_type": "code",
   "execution_count": 35,
   "metadata": {
    "collapsed": false
   },
   "outputs": [],
   "source": [
    "main.add_figure('Calibrated_SUM', \n",
    "                plot_signal_vs_time_mus(csum, t_min=0, t_max=1300, signal_min=-5, signal_max=60))"
   ]
  },
  {
   "cell_type": "code",
   "execution_count": 36,
   "metadata": {
    "collapsed": true
   },
   "outputs": [],
   "source": [
    "main.add_figure('Calibrated_SUM_S1', \n",
    "                plot_signal_vs_time_mus(csum, t_min=550, t_max=600, signal_min=-2, signal_max=10))"
   ]
  },
  {
   "cell_type": "code",
   "execution_count": 37,
   "metadata": {
    "collapsed": true
   },
   "outputs": [],
   "source": [
    "main.add_figure('Calibrated_SUM_S2', \n",
    "                plot_signal_vs_time_mus(csum, t_min=640, t_max=660, signal_min=-2, signal_max=100))"
   ]
  },
  {
   "cell_type": "code",
   "execution_count": 38,
   "metadata": {
    "collapsed": true
   },
   "outputs": [],
   "source": [
    "main.add_figure('Calibrated_PMT_S1', \n",
    "                plot_pmt_signals_vs_time_mus(CAL_PMT,\n",
    "                                             P.pmt_active,\n",
    "                                             t_min      = 560,\n",
    "                                             t_max      = 570,\n",
    "                                             signal_min =  -2,\n",
    "                                             signal_max =  2))"
   ]
  },
  {
   "cell_type": "code",
   "execution_count": 39,
   "metadata": {
    "collapsed": true
   },
   "outputs": [],
   "source": [
    "main.add_figure('Calibrated_PMT_S2', \n",
    "                plot_pmt_signals_vs_time_mus(CAL_PMT,\n",
    "                                             P.pmt_active,\n",
    "                                             t_min      = 640,\n",
    "                                             t_max      = 660,\n",
    "                                             signal_min =  -2,\n",
    "                                             signal_max =  10))"
   ]
  },
  {
   "cell_type": "code",
   "execution_count": 40,
   "metadata": {
    "collapsed": false
   },
   "outputs": [],
   "source": [
    "s1par = S12Params(tmin=0*units.mus, tmax=620*units.mus, lmin=6, lmax=20, stride=4, rebin=False)"
   ]
  },
  {
   "cell_type": "code",
   "execution_count": 41,
   "metadata": {
    "collapsed": true
   },
   "outputs": [],
   "source": [
    "s1_ene, s1_indx = cpf.wfzs(csum_mau, threshold=0.2)\n",
    "S1 =  cpf.find_S12(s1_ene, s1_indx, **s1par._asdict())"
   ]
  },
  {
   "cell_type": "code",
   "execution_count": 42,
   "metadata": {
    "collapsed": false
   },
   "outputs": [
    {
     "name": "stdout",
     "output_type": "stream",
     "text": [
      "number of peaks = 1\n",
      "S12 number = 0, samples = 8 sum in pes =4.184503416638211\n"
     ]
    }
   ],
   "source": [
    "print_s12(S1)"
   ]
  },
  {
   "cell_type": "code",
   "execution_count": 43,
   "metadata": {
    "collapsed": true
   },
   "outputs": [],
   "source": [
    "main.add_figure('S1', plot_s12(S1))"
   ]
  },
  {
   "cell_type": "code",
   "execution_count": 44,
   "metadata": {
    "collapsed": false
   },
   "outputs": [
    {
     "data": {
      "text/plain": [
       "array([ 564175.,  564200.,  564250.,  564275.,  564300.,  564325.,\n",
       "        564350.,  564375.])"
      ]
     },
     "execution_count": 44,
     "metadata": {},
     "output_type": "execute_result"
    }
   ],
   "source": [
    "S1[0][0]"
   ]
  },
  {
   "cell_type": "code",
   "execution_count": 45,
   "metadata": {
    "collapsed": true
   },
   "outputs": [],
   "source": [
    "t = S1[0][0]"
   ]
  },
  {
   "cell_type": "code",
   "execution_count": 49,
   "metadata": {
    "collapsed": false
   },
   "outputs": [],
   "source": [
    "tmin = t[0] - 100*units.ns\n",
    "tmax = t[-1] + 100*units.ns"
   ]
  },
  {
   "cell_type": "code",
   "execution_count": 50,
   "metadata": {
    "collapsed": false
   },
   "outputs": [],
   "source": [
    "s1par_PMT = S12Params(tmin=tmin, tmax=tmax, lmin=3, lmax=20, stride=4, rebin=False)"
   ]
  },
  {
   "cell_type": "code",
   "execution_count": 51,
   "metadata": {
    "collapsed": false
   },
   "outputs": [],
   "source": [
    "PMT_S1 = {}\n",
    "    \n",
    "for pmt in list(range(11)):\n",
    "    s1_ene, s1_indx = cpf.wfzs(CAL_PMT_MAU[pmt], threshold=0.1)\n",
    "    PMT_S1[pmt] = cpf.find_S12(s1_ene, s1_indx, **s1par_PMT._asdict())"
   ]
  },
  {
   "cell_type": "code",
   "execution_count": 52,
   "metadata": {
    "collapsed": false
   },
   "outputs": [
    {
     "data": {
      "text/plain": [
       "{0: {0: [array([ 564275.,  564300.,  564325.,  564350.,  564375.]),\n",
       "   array([ 0.1886195 ,  0.3082061 ,  0.42798349,  0.34914349,  0.27017628])]},\n",
       " 1: {},\n",
       " 2: {},\n",
       " 3: {},\n",
       " 4: {0: [array([ 564225.,  564250.,  564275.,  564300.]),\n",
       "   array([ 0.19741919,  0.24417585,  0.24456594,  0.15207431])]},\n",
       " 5: {0: [array([ 564250.,  564275.,  564300.,  564325.,  564350.]),\n",
       "   array([ 0.14624002,  0.37283037,  0.44865761,  0.33571934,  0.18492569])]},\n",
       " 6: {},\n",
       " 7: {},\n",
       " 8: {0: [array([ 564150.,  564175.,  564200.]),\n",
       "   array([ 0.1503108 ,  0.27651703,  0.23466839])]},\n",
       " 9: {},\n",
       " 10: {}}"
      ]
     },
     "execution_count": 52,
     "metadata": {},
     "output_type": "execute_result"
    }
   ],
   "source": [
    "PMT_S1"
   ]
  },
  {
   "cell_type": "code",
   "execution_count": 106,
   "metadata": {
    "collapsed": false
   },
   "outputs": [
    {
     "data": {
      "text/plain": [
       "4"
      ]
     },
     "execution_count": 106,
     "metadata": {},
     "output_type": "execute_result"
    }
   ],
   "source": [
    "compare_S1(S1, PMT_S1)"
   ]
  },
  {
   "cell_type": "code",
   "execution_count": 55,
   "metadata": {
    "collapsed": true
   },
   "outputs": [],
   "source": [
    "s2_par = S12Params(tmin=620*units.mus, tmax=800*units.mus, stride=40, lmin=80, lmax=20000, rebin=True)"
   ]
  },
  {
   "cell_type": "code",
   "execution_count": 56,
   "metadata": {
    "collapsed": false
   },
   "outputs": [],
   "source": [
    "s2_ene, s2_indx = cpf.wfzs(csum, threshold=0.5)\n",
    "S2              = cpf.find_S12(s2_ene, s2_indx, **s2_par._asdict())"
   ]
  },
  {
   "cell_type": "code",
   "execution_count": 58,
   "metadata": {
    "collapsed": false
   },
   "outputs": [
    {
     "name": "stdout",
     "output_type": "stream",
     "text": [
      "number of peaks = 1\n",
      "S12 number = 0, samples = 8 sum in pes =5548.952226606702\n"
     ]
    }
   ],
   "source": [
    "print_s12(S2)"
   ]
  },
  {
   "cell_type": "code",
   "execution_count": 59,
   "metadata": {
    "collapsed": true
   },
   "outputs": [],
   "source": [
    "main.add_figure('S2', plot_s12(S2))"
   ]
  },
  {
   "cell_type": "code",
   "execution_count": 60,
   "metadata": {
    "collapsed": true
   },
   "outputs": [],
   "source": [
    "t = S2[0][0]\n",
    "tmin = t[-1] + 1*units.mus"
   ]
  },
  {
   "cell_type": "code",
   "execution_count": 61,
   "metadata": {
    "collapsed": true
   },
   "outputs": [],
   "source": [
    "s1p_params = S12Params(tmin=tmin, tmax=1300*units.mus, stride=4, lmin=4, lmax=20, rebin=False)"
   ]
  },
  {
   "cell_type": "code",
   "execution_count": 62,
   "metadata": {
    "collapsed": true
   },
   "outputs": [],
   "source": [
    "s1_ene, s1_indx = cpf.wfzs(csum_mau, threshold=0.1)\n",
    "S1p =  cpf.find_S12(s1_ene, s1_indx, **s1p_params._asdict())"
   ]
  },
  {
   "cell_type": "code",
   "execution_count": 72,
   "metadata": {
    "collapsed": false
   },
   "outputs": [],
   "source": [
    "S12t, S12l, S12e = scan_s12(S1p)"
   ]
  },
  {
   "cell_type": "code",
   "execution_count": 85,
   "metadata": {
    "collapsed": false
   },
   "outputs": [
    {
     "data": {
      "text/plain": [
       "array([  663.8  ,   675.6  ,   676.   ,   676.225,   729.825,   735.775,\n",
       "         738.825,   739.425,   772.95 ,   790.125,   790.775,   791.225,\n",
       "         825.525,   843.475,   844.125,   856.5  ,   856.825,   857.075,\n",
       "         858.625,   860.55 ,   860.775,   879.175,   881.   ,   892.125,\n",
       "         892.65 ,   893.425,   942.9  ,   951.1  ,  1017.45 ,  1018.875,\n",
       "        1019.325,  1040.875,  1048.475,  1067.85 ,  1077.575,  1111.4  ,\n",
       "        1120.775,  1121.475,  1172.775,  1184.425,  1184.875,  1210.625,\n",
       "        1221.15 ,  1250.125,  1258.35 ,  1283.15 ])"
      ]
     },
     "execution_count": 85,
     "metadata": {},
     "output_type": "execute_result"
    }
   ],
   "source": [
    "S12t/units.mus"
   ]
  },
  {
   "cell_type": "code",
   "execution_count": 90,
   "metadata": {
    "collapsed": false
   },
   "outputs": [
    {
     "data": {
      "text/plain": [
       "array([ 4, 12,  5,  5,  4,  5,  5,  9,  5,  4,  6,  5,  4, 17,  7,  6,  5,\n",
       "       11,  6,  4,  7,  5,  5, 11,  4,  5,  4,  5,  4, 14,  7,  4,  6,  4,\n",
       "        4,  4, 13,  5,  5,  8, 15,  4,  4,  5,  5,  5])"
      ]
     },
     "execution_count": 90,
     "metadata": {},
     "output_type": "execute_result"
    }
   ],
   "source": [
    "S12l"
   ]
  },
  {
   "cell_type": "code",
   "execution_count": 93,
   "metadata": {
    "collapsed": false
   },
   "outputs": [
    {
     "data": {
      "text/plain": [
       "array([ 1.33578137,  4.68475057,  1.83204878,  1.65008565,  0.99754446,\n",
       "        1.38571219,  1.45342644,  4.83244309,  1.18557195,  1.24960416,\n",
       "        4.85666601,  1.14894777,  1.16390972,  4.7269626 ,  4.13192381,\n",
       "        2.60109528,  1.62381392,  5.17319124,  3.50308452,  0.75610212,\n",
       "        4.2571463 ,  1.1207497 ,  1.64150105,  3.37867788,  1.13941775,\n",
       "        1.4246488 ,  0.71109499,  0.95501715,  1.01405978,  4.66909534,\n",
       "        1.61661456,  1.16445021,  1.49907679,  1.21008107,  1.03846749,\n",
       "        0.75744174,  3.27173295,  1.78426881,  1.7920126 ,  2.31884286,\n",
       "        6.62468596,  0.9835525 ,  1.20420064,  1.23241195,  1.63786143,\n",
       "        1.55100131])"
      ]
     },
     "execution_count": 93,
     "metadata": {},
     "output_type": "execute_result"
    }
   ],
   "source": [
    "S12e"
   ]
  },
  {
   "cell_type": "code",
   "execution_count": null,
   "metadata": {
    "collapsed": true
   },
   "outputs": [],
   "source": []
  },
  {
   "cell_type": "code",
   "execution_count": 77,
   "metadata": {
    "collapsed": false
   },
   "outputs": [
    {
     "data": {
      "text/plain": [
       "array([ 4,  5,  6, 11,  2,  3,  4,  3,  5,  3])"
      ]
     },
     "execution_count": 77,
     "metadata": {},
     "output_type": "execute_result"
    }
   ],
   "source": [
    "hist"
   ]
  },
  {
   "cell_type": "code",
   "execution_count": 78,
   "metadata": {
    "collapsed": false
   },
   "outputs": [
    {
     "data": {
      "text/plain": [
       "array([  663.8  ,   725.735,   787.67 ,   849.605,   911.54 ,   973.475,\n",
       "        1035.41 ,  1097.345,  1159.28 ,  1221.215,  1283.15 ])"
      ]
     },
     "execution_count": 78,
     "metadata": {},
     "output_type": "execute_result"
    }
   ],
   "source": [
    "bin_edges"
   ]
  },
  {
   "cell_type": "code",
   "execution_count": 88,
   "metadata": {
    "collapsed": false
   },
   "outputs": [],
   "source": [
    "main.add_figure('S1p_t',hist_1d(S12t/units.mus, xlo=S12t[0]/units.mus, xhi=S12t[-1]/units.mus))"
   ]
  },
  {
   "cell_type": "code",
   "execution_count": 92,
   "metadata": {
    "collapsed": true
   },
   "outputs": [],
   "source": [
    "main.add_figure('S1p_l',hist_1d(S12l, xlo=0, xhi=20))"
   ]
  },
  {
   "cell_type": "code",
   "execution_count": 94,
   "metadata": {
    "collapsed": true
   },
   "outputs": [],
   "source": [
    "main.add_figure('S1p_e',hist_1d(S12e, xlo=0, xhi=10))"
   ]
  },
  {
   "cell_type": "code",
   "execution_count": 97,
   "metadata": {
    "collapsed": true
   },
   "outputs": [],
   "source": [
    "sipm = cpf.signal_sipm(sipmrwf[event], adc_to_pes_sipm, thr=3.5*units.pes, n_MAU=100)\n",
    "SIPM = cpf.select_sipm(sipm)\n",
    "S2Si = pf.sipm_s2_dict(SIPM, S2, thr=30*units.pes)\n"
   ]
  },
  {
   "cell_type": "code",
   "execution_count": 98,
   "metadata": {
    "collapsed": false
   },
   "outputs": [
    {
     "data": {
      "text/plain": [
       "{0: {1688: array([  4.46084186,  13.4669971 ,  14.46077975,   6.6347414 ,\n",
       "           4.95773318,   0.        ,   0.        ,   0.        ]),\n",
       "  1689: array([  4.11322481,  24.12610811,  24.68897045,  15.68317297,\n",
       "           5.17640924,   0.        ,   0.        ,   0.        ])}}"
      ]
     },
     "execution_count": 98,
     "metadata": {},
     "output_type": "execute_result"
    }
   ],
   "source": [
    "S2Si"
   ]
  },
  {
   "cell_type": "code",
   "execution_count": 99,
   "metadata": {
    "collapsed": false
   },
   "outputs": [
    {
     "data": {
      "text/plain": [
       "{0: [array([ 647248.75,  648287.5 ,  649287.5 ,  650287.5 ,  651287.5 ,\n",
       "          652287.5 ,  653287.5 ,  654101.  ]),\n",
       "  array([  104.85434639,   392.01175852,  1040.54204411,  1667.3030003 ,\n",
       "          1376.86022385,   731.9631686 ,   193.76803026,    41.64965458])]}"
      ]
     },
     "execution_count": 99,
     "metadata": {},
     "output_type": "execute_result"
    }
   ],
   "source": [
    "S2"
   ]
  },
  {
   "cell_type": "code",
   "execution_count": 101,
   "metadata": {
    "collapsed": false
   },
   "outputs": [
    {
     "name": "stdout",
     "output_type": "stream",
     "text": [
      "SiPM number = 1688, total energy = 43.98109328513487\n",
      "SiPM number = 1689, total energy = 73.7878855667182\n"
     ]
    }
   ],
   "source": [
    "pmf.scan_s2si_map(S2Si)\n"
   ]
  },
  {
   "cell_type": "code",
   "execution_count": 102,
   "metadata": {
    "collapsed": false
   },
   "outputs": [
    {
     "data": {
      "text/plain": [
       "195.0"
      ]
     },
     "execution_count": 102,
     "metadata": {},
     "output_type": "execute_result"
    }
   ],
   "source": [
    "xs[1688]"
   ]
  },
  {
   "cell_type": "code",
   "execution_count": 103,
   "metadata": {
    "collapsed": false
   },
   "outputs": [
    {
     "data": {
      "text/plain": [
       "195.0"
      ]
     },
     "execution_count": 103,
     "metadata": {},
     "output_type": "execute_result"
    }
   ],
   "source": [
    "xs[1689]"
   ]
  },
  {
   "cell_type": "code",
   "execution_count": 104,
   "metadata": {
    "collapsed": false
   },
   "outputs": [
    {
     "data": {
      "text/plain": [
       "-35.0"
      ]
     },
     "execution_count": 104,
     "metadata": {},
     "output_type": "execute_result"
    }
   ],
   "source": [
    "ys[1688]"
   ]
  },
  {
   "cell_type": "code",
   "execution_count": 105,
   "metadata": {
    "collapsed": false
   },
   "outputs": [
    {
     "data": {
      "text/plain": [
       "-25.0"
      ]
     },
     "execution_count": 105,
     "metadata": {},
     "output_type": "execute_result"
    }
   ],
   "source": [
    "ys[1689]"
   ]
  }
 ],
 "metadata": {
  "anaconda-cloud": {},
  "kernelspec": {
   "display_name": "Python 3",
   "language": "python",
   "name": "python3"
  },
  "language_info": {
   "codemirror_mode": {
    "name": "ipython",
    "version": 3
   },
   "file_extension": ".py",
   "mimetype": "text/x-python",
   "name": "python",
   "nbconvert_exporter": "python",
   "pygments_lexer": "ipython3",
   "version": "3.6.0"
  }
 },
 "nbformat": 4,
 "nbformat_minor": 0
}
