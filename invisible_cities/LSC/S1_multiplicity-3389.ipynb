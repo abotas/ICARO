{
 "cells": [
  {
   "cell_type": "markdown",
   "metadata": {
    "collapsed": false
   },
   "source": [
    "# S1 Multiplicity\n",
    ".... background and bullshit"
   ]
  },
  {
   "cell_type": "code",
   "execution_count": null,
   "metadata": {
    "collapsed": true
   },
   "outputs": [],
   "source": []
  },
  {
   "cell_type": "code",
   "execution_count": 1,
   "metadata": {
    "collapsed": false
   },
   "outputs": [],
   "source": [
    "import datetime"
   ]
  },
  {
   "cell_type": "code",
   "execution_count": 2,
   "metadata": {
    "collapsed": false
   },
   "outputs": [
    {
     "name": "stdout",
     "output_type": "stream",
     "text": [
      "2017-04-03 11:02:08\n"
     ]
    }
   ],
   "source": [
    "print(datetime.datetime.now().strftime('%Y-%m-%d %H:%M:%S'))"
   ]
  },
  {
   "cell_type": "code",
   "execution_count": 3,
   "metadata": {
    "collapsed": false
   },
   "outputs": [],
   "source": [
    "from __future__ import print_function\n",
    "import sys\n",
    "import os\n",
    "from glob import glob\n",
    "from time import time"
   ]
  },
  {
   "cell_type": "code",
   "execution_count": 4,
   "metadata": {
    "collapsed": false
   },
   "outputs": [],
   "source": [
    "%matplotlib inline\n",
    "%load_ext autoreload\n",
    "%autoreload 2\n",
    "import matplotlib.pyplot as plt\n",
    "import pandas as pd\n",
    "import tables as tb\n",
    "import numpy as np\n",
    "import math"
   ]
  },
  {
   "cell_type": "code",
   "execution_count": 5,
   "metadata": {
    "collapsed": false
   },
   "outputs": [],
   "source": [
    "from invisible_cities.database import load_db\n",
    "import invisible_cities.sierpe.blr as blr\n",
    "import invisible_cities.core.mpl_functions as mpl\n",
    "import invisible_cities.reco.wfm_functions as wfm\n",
    "import invisible_cities.reco.tbl_functions as tbl\n",
    "import invisible_cities.reco.peak_functions_c as cpf\n",
    "import invisible_cities.reco.peak_functions as pf\n",
    "import invisible_cities.reco.pmaps_functions as pmf"
   ]
  },
  {
   "cell_type": "code",
   "execution_count": 6,
   "metadata": {
    "collapsed": false
   },
   "outputs": [],
   "source": [
    "from invisible_cities.reco.pmap_io import pmap_writer, S12, S2Si\n",
    "\n",
    "from invisible_cities.core.configure import configure, print_configuration\n",
    "\n",
    "from invisible_cities.core.system_of_units_c import units\n",
    "from invisible_cities.cities.base_cities import PmapCity, SensorParams\n",
    "from invisible_cities.cities.base_cities import S12Params as S12P"
   ]
  },
  {
   "cell_type": "code",
   "execution_count": 7,
   "metadata": {
    "collapsed": false
   },
   "outputs": [],
   "source": [
    "from invisible_cities.core.core_functions import define_window\n",
    "from invisible_cities.core.core_functions import lrange\n",
    "from collections import namedtuple"
   ]
  },
  {
   "cell_type": "code",
   "execution_count": 8,
   "metadata": {
    "collapsed": false
   },
   "outputs": [],
   "source": [
    "from invisible_cities.reco.params import S12Params, ThresholdParams, CalibratedSum, PMaps,\\\n",
    "                                         SensorParams, CalibParams, PmapParams, CalibratedPMT, S1PMaps"
   ]
  },
  {
   "cell_type": "code",
   "execution_count": 9,
   "metadata": {
    "collapsed": false
   },
   "outputs": [],
   "source": [
    "from matplotlib.figure import Figure"
   ]
  },
  {
   "cell_type": "code",
   "execution_count": 10,
   "metadata": {
    "collapsed": false
   },
   "outputs": [],
   "source": [
    "%load_ext Cython"
   ]
  },
  {
   "cell_type": "code",
   "execution_count": 11,
   "metadata": {
    "collapsed": false
   },
   "outputs": [],
   "source": [
    "from event_pmaps import compare_S1_ext"
   ]
  },
  {
   "cell_type": "markdown",
   "metadata": {},
   "source": [
    "### Input"
   ]
  },
  {
   "cell_type": "code",
   "execution_count": 12,
   "metadata": {
    "collapsed": true
   },
   "outputs": [],
   "source": [
    "run_number=3389\n",
    "#run_number=0"
   ]
  },
  {
   "cell_type": "code",
   "execution_count": 13,
   "metadata": {
    "collapsed": false
   },
   "outputs": [],
   "source": [
    "ic_data = os.path.join(os.environ['IC_DATA'])\n",
    "files  = glob(ic_data + 'LSC/' + str(run_number) + '/' +  'dst_waves.gdcsnext.*_3389.root.h5')\n",
    "#files  = [ic_data + 'Montecarlo/' + 'dst_NEXT_v0_08_09_Kr_ACTIVE_0_0_7bar_RWF_10000.root.h5']"
   ]
  },
  {
   "cell_type": "code",
   "execution_count": 14,
   "metadata": {
    "collapsed": false
   },
   "outputs": [
    {
     "name": "stdout",
     "output_type": "stream",
     "text": [
      "['/Users/alej/Desktop/IC_DATA/LSC/3389/dst_waves.gdcsnext.000_3389.root.h5', '/Users/alej/Desktop/IC_DATA/LSC/3389/dst_waves.gdcsnext.001_3389.root.h5', '/Users/alej/Desktop/IC_DATA/LSC/3389/dst_waves.gdcsnext.002_3389.root.h5', '/Users/alej/Desktop/IC_DATA/LSC/3389/dst_waves.gdcsnext.003_3389.root.h5', '/Users/alej/Desktop/IC_DATA/LSC/3389/dst_waves.gdcsnext.004_3389.root.h5', '/Users/alej/Desktop/IC_DATA/LSC/3389/dst_waves.gdcsnext.005_3389.root.h5', '/Users/alej/Desktop/IC_DATA/LSC/3389/dst_waves.gdcsnext.006_3389.root.h5', '/Users/alej/Desktop/IC_DATA/LSC/3389/dst_waves.gdcsnext.007_3389.root.h5', '/Users/alej/Desktop/IC_DATA/LSC/3389/dst_waves.gdcsnext.008_3389.root.h5', '/Users/alej/Desktop/IC_DATA/LSC/3389/dst_waves.gdcsnext.009_3389.root.h5']\n"
     ]
    }
   ],
   "source": [
    "print(files)"
   ]
  },
  {
   "cell_type": "markdown",
   "metadata": {
    "collapsed": false
   },
   "source": [
    "### pmtrwf and sipmrwf vectors"
   ]
  },
  {
   "cell_type": "code",
   "execution_count": null,
   "metadata": {
    "collapsed": true
   },
   "outputs": [],
   "source": []
  },
  {
   "cell_type": "markdown",
   "metadata": {
    "collapsed": false
   },
   "source": [
    "To get vectors use **get_vectors(file)** in tbl_functions"
   ]
  },
  {
   "cell_type": "code",
   "execution_count": 15,
   "metadata": {
    "collapsed": false
   },
   "outputs": [],
   "source": [
    "def _calib_vectors(self):\n",
    "        \"\"\"Provisional fix for calib vectors\"\"\"\n",
    "        channel_id = np.array([0,1,4,5,8,18,22,23,26,27,30])\n",
    "        coeff_blr = np.array([1.61,1.62,1.61,1.61,1.61,\n",
    "                          0.8,0.8,0.8,0.8,0.8,1.60,\n",
    "                          1.0]) * 0.001\n",
    "        coeff_c = np.array([2.94,2.75,3.09,2.81,2.88,\n",
    "                        1.,1.,1.,1.,1.,2.76,\n",
    "                        1.0]) * 1e-6\n",
    "        adc_to_pes = np.array([25.17,22.15,33.57,23.88,21.55,\n",
    "                           26.49,25.39,27.74,23.78,20.83,26.56,\n",
    "                           0.])\n",
    "        pmt_active = list(range(11))\n",
    "\n",
    "        DataSiPM = load_db.DataSiPM()\n",
    "        self.P   = CalibVectors(channel_id = channel_id,\n",
    "                                coeff_blr  = coeff_blr,\n",
    "                                coeff_c    = coeff_c,\n",
    "                                adc_to_pes_pmt = adc_to_pes,\n",
    "                                adc_to_pes_sipm = DataSiPM.adc_to_pes.values,\n",
    "                                pmt_active  = pmt_active)"
   ]
  },
  {
   "cell_type": "markdown",
   "metadata": {},
   "source": [
    "### S1 multiplicity"
   ]
  },
  {
   "cell_type": "code",
   "execution_count": 16,
   "metadata": {
    "collapsed": false
   },
   "outputs": [],
   "source": [
    "DataPMT = load_db.DataPMT(run_number)\n",
    "adc_to_pes = abs(DataPMT.adc_to_pes.values)\n",
    "coeff_c    = abs(DataPMT.coeff_c.values)\n",
    "coeff_blr  = abs(DataPMT.coeff_blr.values)\n",
    "DataSiPM   = load_db.DataSiPM()\n",
    "adc_to_pes_sipm = DataSiPM.adc_to_pes.values\n",
    "pmt_active = np.nonzero(DataPMT.Active.values)[0].tolist()\n",
    "xs = DataSiPM.X.values\n",
    "ys = DataSiPM.Y.values"
   ]
  },
  {
   "cell_type": "code",
   "execution_count": 17,
   "metadata": {
    "collapsed": true
   },
   "outputs": [],
   "source": [
    "def charge_and_position(s2si):\n",
    "        \"\"\"\n",
    "        Charge and position from S2Si\n",
    "        \"\"\"\n",
    "        xsipm = []\n",
    "        ysipm = []\n",
    "        Q = []\n",
    "        \n",
    "        for key, value in s2si.items():\n",
    "            xsipm.append(xs[key])\n",
    "            ysipm.append(ys[key])\n",
    "            Q.append(np.sum(value))\n",
    "        return np.array(xsipm), np.array(ysipm), np.array(Q)"
   ]
  },
  {
   "cell_type": "code",
   "execution_count": 21,
   "metadata": {
    "collapsed": false
   },
   "outputs": [
    {
     "name": "stdout",
     "output_type": "stream",
     "text": [
      "[ 0  1  2  3  4  5  6  7  8 10 11]\n",
      "[ 0  1  2  3  4  5  6  7  8 10 11]\n",
      "[ 0  1  2  3  4  5  6  7  8 10 11]\n",
      "[ 0  1  2  3  4  5  6  7  8 10 11]\n",
      "[ 0  1  2  3  4  5  6  7  8 10 11]\n",
      "[ 0  1  2  3  4  5  6  7  8 10 11]\n",
      "[ 0  1  2  3  4  5  6  7  8 10 11]\n",
      "[ 0  1  2  3  4  5  6  7  8 10 11]\n",
      "[ 0  1  2  3  4  5  6  7  8 10 11]\n",
      "[ 0  1  2  3  4  5  6  7  8 10 11]\n"
     ]
    }
   ],
   "source": [
    "multiplicity = []\n",
    "energies = []\n",
    "\n",
    "Ms = []\n",
    "\n",
    "no_m_ev = []\n",
    "#no_m_s1 = []\n",
    "\n",
    "s2_info = []\n",
    "s2_info_m1 =[]\n",
    "\n",
    "for f in files:\n",
    "    \n",
    "    with tb.open_file(f, 'r') as h5rwf:\n",
    "\n",
    "        print(h5rwf.root.Sensors.DataPMT[:]['sensorID'])\n",
    "\n",
    "        pmtrwf, pmtblr, sipmrwf = tbl.get_vectors(h5rwf)\n",
    "        NEVT, NPMT, PMTWL = pmtrwf.shape\n",
    "        NEVT, NSIPM, SIPMWL = sipmrwf.shape\n",
    "        \n",
    "        #print(str(NEVT) + ' in: ' + f + '... ')\n",
    "\n",
    "        for event in range(NEVT):\n",
    "            #if len(energies) >= 1500: break\n",
    "\n",
    "            # Get cwf csum_mau\n",
    "            RWF = pmtrwf[event]\n",
    "            CWF = blr.deconv_pmt(RWF,\n",
    "                                 coeff_c,\n",
    "                                 coeff_blr,\n",
    "                                 pmt_active,\n",
    "                                 n_baseline  = 48000,\n",
    "                                 thr_trigger = 5)\n",
    "\n",
    "            CAL_PMT, CAL_PMT_MAU = cpf.calibrated_pmt_mau(\n",
    "                                   CWF,\n",
    "                                   adc_to_pes,\n",
    "                                   pmt_active = pmt_active,\n",
    "                                   n_MAU   = 100,\n",
    "                                   thr_MAU =   3)\n",
    "            csum, csum_mau = cpf.calibrated_pmt_sum(CWF,adc_to_pes, pmt_active)\n",
    "\n",
    "            # Find s1s ## SET tmin and tmax appropriately!!\n",
    "            s1par = S12Params(tmin=0*units.mus, \n",
    "                              tmax=640*units.mus, \n",
    "                              lmin=6, lmax=40, \n",
    "                              stride=4, rebin=False)\n",
    "            s1_ene, s1_indx = cpf.wfzs(csum_mau, threshold=0.5)        \n",
    "            \n",
    "            try:\n",
    "                S1 = cpf.find_S12(s1_ene, s1_indx, **s1par._asdict())\n",
    "            except IndexError:\n",
    "                if s1_ene != 0 or s1_indx !=0: \n",
    "                    print(s1_ene, s1_indx, **s1par._asdict())\n",
    "                    raise\n",
    "            \n",
    "            # Will discard evts with multiple S1s\n",
    "            if len(S1) != 1: continue\n",
    "\n",
    "            # (there can pe multiple S1s in each event)\n",
    "            for nums1, s_1 in enumerate(S1):\n",
    "\n",
    "                t_buffer = 50 * units.ns\n",
    "                # Set up params for searching individual pmt cal mau waveforms\n",
    "                s1par  = S12Params(tmin=(S1[s_1][0][ 0] - t_buffer), \n",
    "                                   tmax=(S1[s_1][0][-1] + t_buffer), \n",
    "                                   lmin=3, \n",
    "                                   lmax=40, \n",
    "                                   stride=4, \n",
    "                                   rebin=False)\n",
    "\n",
    "                # Dict for storing individual pmt s1s\n",
    "                PMT_S1 = {}      \n",
    "                for pmt in pmt_active:\n",
    "\n",
    "                    # See if there is a corresponding S1 in this PMT\n",
    "                    s1_ene, s1_indx = cpf.wfzs(CAL_PMT_MAU[pmt], threshold=0.1)\n",
    "                    try:\n",
    "                        PMT_S1[pmt] = cpf.find_S12(s1_ene, s1_indx, **s1par._asdict())\n",
    "                    except IndexError:\n",
    "                        if len(s1_ene) != 0 and len(s1_indx) != 0: \n",
    "                            print(s1_ene, s1_indx, **s1par._asdict())\n",
    "                            raise\n",
    "\n",
    "                # Record multiplicity\n",
    "\n",
    "                \n",
    "                # find xy pos\n",
    "                s2_par = S12Params(tmin=640*units.mus, \n",
    "                                   tmax=800*units.mus, \n",
    "                                   stride=40, lmin=80, lmax=20000, rebin=True)\n",
    "                s2_ene, s2_indx = cpf.wfzs(csum, threshold=0.5)\n",
    "                S2              = cpf.find_S12(s2_ene, s2_indx, **s2_par._asdict())\n",
    "                sipm = cpf.signal_sipm(sipmrwf[event], adc_to_pes_sipm, thr=3.5*units.pes, n_MAU=100)\n",
    "                SIPM = cpf.select_sipm(sipm)\n",
    "                S2Si = pf.sipm_s2_dict(SIPM, S2, thr=5*units.pes)\n",
    "                xsipm, ysipm, Q = charge_and_position(S2Si[0])\n",
    "                X    = np.average(xsipm, weights=Q) if np.any(Q) else np.nan\n",
    "                Y    = np.average(ysipm, weights=Q) if np.any(Q) else np.nan\n",
    "                R    = (X**2 + Y**2)**0.5 if np.any(Q) else np.nan\n",
    "                Phi  = np.arctan2(Y, X) if np.any(Q) else np.nan\n",
    "                \n",
    "                s2_info.append([X,Y,R,Phi])\n",
    "                    \n",
    "                if multiplicity[-1].sum() == 1:\n",
    "                    s2_info_m1.append([X, Y, R, Phi])\n",
    "\n",
    "                # remember the S1's energy\n",
    "                energies.append(S1[s_1][1].sum())\n",
    "                \n",
    "                # Looking at multiple s1s from same evt is complicated\n",
    "                break\n",
    "            \n",
    "multiplicity = np.array(multiplicity)  "
   ]
  },
  {
   "cell_type": "code",
   "execution_count": 22,
   "metadata": {
    "collapsed": false
   },
   "outputs": [
    {
     "name": "stdout",
     "output_type": "stream",
     "text": [
      "Fraction of S1s found by this PMT\n",
      "---\n",
      "PMT1 0.603255340793\n",
      "PMT3 0.678535096643\n",
      "PMT2 0.649033570702\n",
      "PMT4 0.495422177009\n",
      "PMTC 0.510681586979\n",
      "PMTB 0.591047812818\n",
      "PMTA 0.538148524924\n",
      "PMT9 0.558494404883\n",
      "PMT8 0.603255340793\n",
      "PMT6 0.553407934893\n",
      "PMT5 0.513733468973\n",
      " \n",
      "Fraction of garbage S1s found by this PMT\n",
      "(Found are 14 garbage S1s)\n",
      "---\n",
      "PMT1 0.0714285714286\n",
      "PMT3 0.0714285714286\n",
      "PMT2 0.142857142857\n",
      "PMT4 0.0714285714286\n",
      "PMTC 0.428571428571\n",
      "PMTB 0.0\n",
      "PMTA 0.0714285714286\n",
      "PMT9 0.214285714286\n",
      "PMT8 0.142857142857\n",
      "PMT6 0.0714285714286\n",
      "PMT5 0.0\n",
      " \n",
      "Fraction of garbage S1s found by this PMT / Fraction of S1s found by this PMT\n",
      "---\n",
      "PMT1 0.118405203565\n",
      "PMT3 0.105268794174\n",
      "PMT2 0.220107478728\n",
      "PMT4 0.144177178058\n",
      "PMTC 0.83921457029\n",
      "PMTB 0.0\n",
      "PMTA 0.132730218742\n",
      "PMT9 0.38368462139\n",
      "PMT8 0.236810407131\n",
      "PMT6 0.129070378151\n",
      "PMT5 0.0\n"
     ]
    }
   ],
   "source": [
    "print('Fraction of S1s found by this PMT')\n",
    "print('---')\n",
    "Fs1s=[]\n",
    "for i, s1f in enumerate(multiplicity.T):\n",
    "    Fs1s.append(s1f.sum() / len(multiplicity))\n",
    "    print(DataPMT['PmtID'][i], s1f.sum() / len(multiplicity))\n",
    "    \n",
    "garbage = multiplicity[np.where(multiplicity.sum(axis=1) < 3)[0]]\n",
    "\n",
    "print(' ')\n",
    "print('Fraction of garbage S1s found by this PMT')\n",
    "print('(Found are ' + str(len(garbage)) + ' garbage S1s)')\n",
    "print('---')\n",
    "for i, s1f in enumerate(garbage.T):\n",
    "    print(DataPMT['PmtID'][i], s1f.sum() / len(garbage))\n",
    "    \n",
    "print(' ')\n",
    "print('Fraction of garbage S1s found by this PMT / Fraction of S1s found by this PMT')\n",
    "print('---')    \n",
    "for i, s1f in enumerate(garbage.T):\n",
    "    print(DataPMT['PmtID'][i], s1f.sum() / len(garbage) / Fs1s[i])\n",
    "\n",
    "\n",
    "#print(multiplicity.sum(axis=0) / len(multiplicity)), \n",
    "#print(pmt_active)\n",
    "#print(DataPMT['PmtID'][11])"
   ]
  },
  {
   "cell_type": "code",
   "execution_count": 23,
   "metadata": {
    "collapsed": false
   },
   "outputs": [
    {
     "data": {
      "text/plain": [
       "983"
      ]
     },
     "execution_count": 23,
     "metadata": {},
     "output_type": "execute_result"
    }
   ],
   "source": [
    "len(multiplicity)"
   ]
  },
  {
   "cell_type": "markdown",
   "metadata": {},
   "source": [
    "Sometimes it is not finding the S1"
   ]
  },
  {
   "cell_type": "code",
   "execution_count": 24,
   "metadata": {
    "collapsed": true
   },
   "outputs": [],
   "source": [
    "s2_info    = np.array(s2_info)\n",
    "s2_info_m1 = np.array(s2_info_m1)"
   ]
  },
  {
   "cell_type": "code",
   "execution_count": 27,
   "metadata": {
    "collapsed": false
   },
   "outputs": [
    {
     "data": {
      "image/png": "[encoded data removed]",
      "text/plain": [
       "<matplotlib.figure.Figure at 0x11ae25320>"
      ]
     },
     "metadata": {},
     "output_type": "display_data"
    }
   ],
   "source": [
    "heatmap, xedges, yedges = np.histogram2d(s2_info[:,0], s2_info[:,1], bins=50)\n",
    "extent = [-235, 235, -235, 235]\n",
    "plt.clf()\n",
    "plt.imshow(heatmap.T, extent=extent, origin='lower')\n",
    "plt.show()"
   ]
  },
  {
   "cell_type": "code",
   "execution_count": 28,
   "metadata": {
    "collapsed": false
   },
   "outputs": [
    {
     "data": {
      "image/png": "[encoded data removed]",
      "text/plain": [
       "<matplotlib.figure.Figure at 0x11a4a9c88>"
      ]
     },
     "metadata": {},
     "output_type": "display_data"
    }
   ],
   "source": [
    "heatmap, xedges, yedges = np.histogram2d(s2_info_m1[:,0], s2_info_m1[:,1], bins=50)\n",
    "extent = [-235, 235, -235, 235]\n",
    "plt.clf()\n",
    "plt.imshow(heatmap.T, extent=extent, origin='lower')\n",
    "plt.show()"
   ]
  },
  {
   "cell_type": "code",
   "execution_count": 29,
   "metadata": {
    "collapsed": false
   },
   "outputs": [
    {
     "name": "stdout",
     "output_type": "stream",
     "text": [
      "0\n",
      "983\n"
     ]
    }
   ],
   "source": [
    "print(len(no_m_ev))\n",
    "print(len(multiplicity))"
   ]
  },
  {
   "cell_type": "code",
   "execution_count": 30,
   "metadata": {
    "collapsed": false
   },
   "outputs": [],
   "source": [
    "def plot_mult_heatmap(energies, multiplicity):\n",
    "    fig = plt.figure(figsize=(20,15))\n",
    "    ax  = plt.gca()\n",
    "    \"\"\"\n",
    "    h, x, y = np.histogram2d(energies, multiplicity, bins=(range(2000), \n",
    "                             range(len(pmt_active)+2)), \n",
    "                             range=None, normed=False, weights=None)                          \n",
    "    \"\"\"\n",
    "    \n",
    "    # Adding and subtracting .5 to center bins\n",
    "    plt.hist2d(energies, multiplicity - .5, \n",
    "               bins=(len(multiplicity)*3, np.array(range(len(pmt_active) + 2)) - .5), \n",
    "               cmap='Spectral_r', normed=True)\n",
    "    ax.set_xscale('log')\n",
    "    plt.xlim(0,1000)\n",
    "    plt.ylim(-.5, len(pmt_active) + .5)\n",
    "    plt.colorbar()\n",
    "    plt.xlabel('pes')\n",
    "    plt.ylabel('multiplicity')\n",
    "    plt.title('Run: ' + str(run_number))\n",
    "    plt.show()"
   ]
  },
  {
   "cell_type": "code",
   "execution_count": 31,
   "metadata": {
    "collapsed": false
   },
   "outputs": [
    {
     "data": {
      "image/png": "[encoded data removed]",
      "text/plain": [
       "<matplotlib.figure.Figure at 0x11ae0ab70>"
      ]
     },
     "metadata": {},
     "output_type": "display_data"
    }
   ],
   "source": [
    "plot_mult_heatmap(energies, multiplicity.sum(axis=1))"
   ]
  },
  {
   "cell_type": "code",
   "execution_count": 32,
   "metadata": {
    "collapsed": false
   },
   "outputs": [
    {
     "data": {
      "image/png": "[encoded data removed]",
      "text/plain": [
       "<matplotlib.figure.Figure at 0x11ae39400>"
      ]
     },
     "metadata": {},
     "output_type": "display_data"
    }
   ],
   "source": [
    "plt.hist(multiplicity.sum(axis=1), bins=30 + 1, alpha=0.6, normed=True)\n",
    "plt.xlabel('multiplicity')\n",
    "plt.title(str(run_number))\n",
    "plt.show()"
   ]
  },
  {
   "cell_type": "code",
   "execution_count": null,
   "metadata": {
    "collapsed": true
   },
   "outputs": [],
   "source": []
  }
 ],
 "metadata": {
  "anaconda-cloud": {},
  "kernelspec": {
   "display_name": "Python 3",
   "language": "python",
   "name": "python3"
  },
  "language_info": {
   "codemirror_mode": {
    "name": "ipython",
    "version": 3
   },
   "file_extension": ".py",
   "mimetype": "text/x-python",
   "name": "python",
   "nbconvert_exporter": "python",
   "pygments_lexer": "ipython3",
   "version": "3.6.0"
  }
 },
 "nbformat": 4,
 "nbformat_minor": 0
}
