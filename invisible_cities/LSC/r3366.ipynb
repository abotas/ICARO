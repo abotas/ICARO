{
 "cells": [
  {
   "cell_type": "markdown",
   "metadata": {
    "collapsed": false
   },
   "source": [
    "# r-3366"
   ]
  },
  {
   "cell_type": "markdown",
   "metadata": {
    "collapsed": false
   },
   "source": [
    "Taken on March 19th, Krypton run, Krypton trigger with \"November 20162 conditions"
   ]
  },
  {
   "cell_type": "code",
   "execution_count": null,
   "metadata": {
    "collapsed": false
   },
   "outputs": [],
   "source": [
    "import datetime"
   ]
  },
  {
   "cell_type": "code",
   "execution_count": null,
   "metadata": {
    "collapsed": false
   },
   "outputs": [],
   "source": [
    "print(datetime.datetime.now().strftime('%Y-%m-%d %H:%M:%S'))"
   ]
  },
  {
   "cell_type": "code",
   "execution_count": null,
   "metadata": {
    "collapsed": false
   },
   "outputs": [],
   "source": [
    "from __future__ import print_function\n",
    "import sys\n",
    "import os\n",
    "from glob import glob\n",
    "from time import time"
   ]
  },
  {
   "cell_type": "code",
   "execution_count": null,
   "metadata": {
    "collapsed": false
   },
   "outputs": [],
   "source": [
    "%matplotlib inline\n",
    "%load_ext autoreload\n",
    "%autoreload 2\n",
    "import matplotlib.pyplot as plt\n",
    "import pandas as pd\n",
    "import tables as tb\n",
    "import numpy as np\n",
    "import math\n"
   ]
  },
  {
   "cell_type": "code",
   "execution_count": null,
   "metadata": {
    "collapsed": false
   },
   "outputs": [],
   "source": [
    "from invisible_cities.database import load_db\n",
    "import invisible_cities.sierpe.blr as blr\n",
    "import invisible_cities.core.mpl_functions as mpl\n",
    "import invisible_cities.reco.wfm_functions as wfm\n",
    "import invisible_cities.reco.tbl_functions as tbl\n",
    "import invisible_cities.reco.peak_functions_c as cpf\n",
    "import invisible_cities.reco.peak_functions as pf\n",
    "import invisible_cities.reco.pmaps_functions as pmf"
   ]
  },
  {
   "cell_type": "code",
   "execution_count": null,
   "metadata": {
    "collapsed": false
   },
   "outputs": [],
   "source": [
    "from invisible_cities.reco.pmap_io import pmap_writer, S12, S2Si\n",
    "\n",
    "from   invisible_cities.core.configure import configure, print_configuration\n",
    "\n",
    "from   invisible_cities.core.system_of_units_c import units\n",
    "from   invisible_cities.cities.base_cities import PmapCity, SensorParams\n",
    "from   invisible_cities.cities.base_cities import S12Params as S12P"
   ]
  },
  {
   "cell_type": "code",
   "execution_count": null,
   "metadata": {
    "collapsed": false
   },
   "outputs": [],
   "source": [
    "from invisible_cities.core.core_functions import define_window\n",
    "from invisible_cities.core.core_functions import lrange\n",
    "from collections import namedtuple"
   ]
  },
  {
   "cell_type": "code",
   "execution_count": null,
   "metadata": {
    "collapsed": false
   },
   "outputs": [],
   "source": [
    "from invisible_cities.reco.params import S12Params, ThresholdParams, CalibratedSum, PMaps,\\\n",
    "                                         SensorParams, CalibParams, PmapParams, CalibratedPMT, S1PMaps"
   ]
  },
  {
   "cell_type": "code",
   "execution_count": null,
   "metadata": {
    "collapsed": false
   },
   "outputs": [],
   "source": [
    "from matplotlib.figure import Figure"
   ]
  },
  {
   "cell_type": "code",
   "execution_count": null,
   "metadata": {
    "collapsed": false
   },
   "outputs": [],
   "source": [
    "%load_ext Cython"
   ]
  },
  {
   "cell_type": "code",
   "execution_count": null,
   "metadata": {
    "collapsed": false
   },
   "outputs": [],
   "source": [
    "from event_pmaps import pmt_calib_vectors, compare_S1"
   ]
  },
  {
   "cell_type": "markdown",
   "metadata": {
    "collapsed": false
   },
   "source": [
    "## Files"
   ]
  },
  {
   "cell_type": "code",
   "execution_count": null,
   "metadata": {
    "collapsed": false
   },
   "outputs": [],
   "source": [
    "RWF_file = os.path.join(os.environ['IC_DATA'],'LSC/3366/dst_waves_f0_3366.root.h5')\n",
    "RWF_file = os.path.join(os.environ['IC_DATA'],'LSC/3373/dst_waves_f0_3373.root.h5')"
   ]
  },
  {
   "cell_type": "code",
   "execution_count": null,
   "metadata": {
    "collapsed": false
   },
   "outputs": [],
   "source": [
    "h5rwf = False"
   ]
  },
  {
   "cell_type": "code",
   "execution_count": null,
   "metadata": {
    "collapsed": false
   },
   "outputs": [],
   "source": [
    "if h5rwf:\n",
    "    h5rwf.close()"
   ]
  },
  {
   "cell_type": "code",
   "execution_count": null,
   "metadata": {
    "collapsed": false
   },
   "outputs": [],
   "source": [
    "h5rwf = tb.open_file(RWF_file,'r')"
   ]
  },
  {
   "cell_type": "code",
   "execution_count": null,
   "metadata": {
    "collapsed": false
   },
   "outputs": [],
   "source": [
    "h5rwf"
   ]
  },
  {
   "cell_type": "markdown",
   "metadata": {
    "collapsed": false
   },
   "source": [
    "### pmtrwf and sipmrwf vectors"
   ]
  },
  {
   "cell_type": "markdown",
   "metadata": {
    "collapsed": false
   },
   "source": [
    "To get vectors use **get_vectors(file)** in tbl_functions"
   ]
  },
  {
   "cell_type": "code",
   "execution_count": null,
   "metadata": {
    "collapsed": false
   },
   "outputs": [],
   "source": [
    "pmtrwf, pmtblr, sipmrwf = tbl.get_vectors(h5rwf)"
   ]
  },
  {
   "cell_type": "code",
   "execution_count": null,
   "metadata": {
    "collapsed": false
   },
   "outputs": [],
   "source": [
    "NEVT, NPMT, PMTWL = pmtrwf.shape\n",
    "NEVT, NSIPM, SIPMWL = sipmrwf.shape\n",
    "print(\"\"\"\n",
    "        Number of events in file = {}\n",
    "        Number of PMTs = {}\n",
    "        PMTWL = {}\n",
    "        Number of SiPMs = {}\n",
    "        SiPMWL = {}\n",
    "      \"\"\".format(NEVT, NPMT, PMTWL,NSIPM, SIPMWL))"
   ]
  },
  {
   "cell_type": "markdown",
   "metadata": {
    "collapsed": false
   },
   "source": [
    "### Access to data base and definition of units"
   ]
  },
  {
   "cell_type": "code",
   "execution_count": null,
   "metadata": {
    "collapsed": false
   },
   "outputs": [],
   "source": [
    "DataPMT = load_db.DataPMT()\n",
    "adc_to_pes = abs(DataPMT.adc_to_pes.values)\n",
    "coeff_c = abs(DataPMT.coeff_c.values)\n",
    "coeff_blr = abs(DataPMT.coeff_blr.values)\n",
    "DataSiPM = load_db.DataSiPM()\n",
    "adc_to_pes_sipm = DataSiPM.adc_to_pes.values\n",
    "xs = DataSiPM.X.values\n",
    "ys = DataSiPM.Y.values"
   ]
  },
  {
   "cell_type": "code",
   "execution_count": null,
   "metadata": {
    "collapsed": false
   },
   "outputs": [],
   "source": [
    "P = pmt_calib_vectors()"
   ]
  },
  {
   "cell_type": "code",
   "execution_count": null,
   "metadata": {
    "collapsed": false
   },
   "outputs": [],
   "source": [
    "P"
   ]
  },
  {
   "cell_type": "markdown",
   "metadata": {
    "collapsed": false
   },
   "source": [
    "### RWF"
   ]
  },
  {
   "cell_type": "code",
   "execution_count": null,
   "metadata": {
    "collapsed": false
   },
   "outputs": [],
   "source": [
    "event=2\n",
    "RWF = pmtrwf[event]"
   ]
  },
  {
   "cell_type": "code",
   "execution_count": null,
   "metadata": {
    "collapsed": false,
    "scrolled": true
   },
   "outputs": [],
   "source": [
    "wfm.plot_pmt_waveforms(RWF, zoom=False, window_size=10000)"
   ]
  },
  {
   "cell_type": "code",
   "execution_count": null,
   "metadata": {
    "collapsed": false
   },
   "outputs": [],
   "source": [
    "CWF = blr.deconv_pmt(RWF, P.coeff_c, P.coeff_blr, n_baseline=48000, thr_trigger=5)"
   ]
  },
  {
   "cell_type": "code",
   "execution_count": null,
   "metadata": {
    "collapsed": false
   },
   "outputs": [],
   "source": [
    "wfm.plot_pmt_waveforms(CWF, zoom=True, window_size=10000)"
   ]
  },
  {
   "cell_type": "code",
   "execution_count": null,
   "metadata": {
    "collapsed": false
   },
   "outputs": [],
   "source": [
    "CAL_PMT, CAL_PMT_MAU    =    cpf.calibrated_pmt_mau(\n",
    "                               CWF,\n",
    "                               P.adc_to_pes,\n",
    "                               pmt_active =P.pmt_active,\n",
    "                               n_MAU = 100,\n",
    "                               thr_MAU =  3)"
   ]
  },
  {
   "cell_type": "code",
   "execution_count": null,
   "metadata": {
    "collapsed": false
   },
   "outputs": [],
   "source": [
    "mpl.plot_pmt_signals_vs_time_mus(CAL_PMT,\n",
    "                             pmt_active = P.pmt_active,\n",
    "                             t_min      = 0,\n",
    "                             t_max      = 1200,\n",
    "                             signal_min =    0,\n",
    "                             signal_max =  10)"
   ]
  },
  {
   "cell_type": "code",
   "execution_count": null,
   "metadata": {
    "collapsed": false
   },
   "outputs": [],
   "source": [
    "csum, csum_mau = cpf.calibrated_pmt_sum(CWF,P.adc_to_pes,P.pmt_active)"
   ]
  },
  {
   "cell_type": "code",
   "execution_count": null,
   "metadata": {
    "collapsed": false
   },
   "outputs": [],
   "source": [
    "mpl.plot_signal_vs_time_mus(csum, t_min=0, t_max=1300, signal_min=-5, signal_max=60, label='CSUM')"
   ]
  },
  {
   "cell_type": "code",
   "execution_count": null,
   "metadata": {
    "collapsed": false
   },
   "outputs": [],
   "source": [
    "mpl.plot_pmt_signals_vs_time_mus(CAL_PMT,\n",
    "                             pmt_active = P.pmt_active,\n",
    "                             t_min      = 0,\n",
    "                             t_max      = 1300,\n",
    "                             signal_min =    -2,\n",
    "                             signal_max =  10)"
   ]
  },
  {
   "cell_type": "code",
   "execution_count": null,
   "metadata": {
    "collapsed": false
   },
   "outputs": [],
   "source": [
    "mpl.plot_calibrated_sum_in_mus(CalibratedSum(csum=csum, csum_mau=csum_mau), \n",
    "                               tmin=331, tmax=333, signal_min=-2, signal_max=20, \n",
    "                               csum=True, csum_mau=True)"
   ]
  },
  {
   "cell_type": "code",
   "execution_count": null,
   "metadata": {
    "collapsed": false
   },
   "outputs": [],
   "source": [
    "mpl.plot_signal_vs_time_mus(csum, t_min=640, t_max=670, signal_min=-2, signal_max=60, label='CSUM')"
   ]
  },
  {
   "cell_type": "markdown",
   "metadata": {
    "collapsed": false
   },
   "source": [
    "### s12 searches"
   ]
  },
  {
   "cell_type": "code",
   "execution_count": null,
   "metadata": {
    "collapsed": false
   },
   "outputs": [],
   "source": [
    "s1par = S12Params(tmin=0*units.mus, tmax=640*units.mus, lmin=6, lmax=40, stride=10, rebin=False)\n",
    "s1par_PMT = S12Params(tmin=331*units.mus, tmax=333*units.mus, lmin=3, lmax=30, stride=4, rebin=False)"
   ]
  },
  {
   "cell_type": "code",
   "execution_count": null,
   "metadata": {
    "collapsed": false
   },
   "outputs": [],
   "source": [
    "s1_ene, s1_indx = cpf.wfzs(csum_mau, threshold=0.5)\n",
    "S1 =  cpf.find_S12(s1_ene, s1_indx, **s1par._asdict())"
   ]
  },
  {
   "cell_type": "code",
   "execution_count": null,
   "metadata": {
    "collapsed": false
   },
   "outputs": [],
   "source": [
    "S1"
   ]
  },
  {
   "cell_type": "code",
   "execution_count": null,
   "metadata": {
    "collapsed": false
   },
   "outputs": [],
   "source": [
    "pmf.scan_s12(S1)"
   ]
  },
  {
   "cell_type": "code",
   "execution_count": null,
   "metadata": {
    "collapsed": false
   },
   "outputs": [],
   "source": [
    "plot_s12(S1)"
   ]
  },
  {
   "cell_type": "code",
   "execution_count": null,
   "metadata": {
    "collapsed": false
   },
   "outputs": [],
   "source": []
  },
  {
   "cell_type": "code",
   "execution_count": null,
   "metadata": {
    "collapsed": false
   },
   "outputs": [],
   "source": [
    "PMT_S1 = {}\n",
    "    \n",
    "for pmt in P.pmt_active:\n",
    "    s1_ene, s1_indx = cpf.wfzs(CAL_PMT_MAU[pmt], threshold=0.1)\n",
    "    PMT_S1[pmt] = cpf.find_S12(s1_ene, s1_indx, **s1par_PMT._asdict())"
   ]
  },
  {
   "cell_type": "code",
   "execution_count": null,
   "metadata": {
    "collapsed": false
   },
   "outputs": [],
   "source": [
    "PMT_S1"
   ]
  },
  {
   "cell_type": "code",
   "execution_count": null,
   "metadata": {
    "collapsed": false
   },
   "outputs": [],
   "source": [
    "compare_S1(S1, PMT_S1)"
   ]
  },
  {
   "cell_type": "code",
   "execution_count": null,
   "metadata": {
    "collapsed": false
   },
   "outputs": [],
   "source": [
    "s2_par = S12Params(tmin=640*units.mus, tmax=800*units.mus, stride=40, lmin=80, lmax=20000, rebin=True)"
   ]
  },
  {
   "cell_type": "code",
   "execution_count": null,
   "metadata": {
    "collapsed": false
   },
   "outputs": [],
   "source": [
    "s2_ene, s2_indx = cpf.wfzs(csum, threshold=0.5)\n",
    "S2              = cpf.find_S12(s2_ene, s2_indx, **s2_par._asdict())"
   ]
  },
  {
   "cell_type": "code",
   "execution_count": null,
   "metadata": {
    "collapsed": false
   },
   "outputs": [],
   "source": [
    "S2"
   ]
  },
  {
   "cell_type": "code",
   "execution_count": null,
   "metadata": {
    "collapsed": false
   },
   "outputs": [],
   "source": [
    "def plot_s12(S12):\n",
    "    \"\"\"Plot the peaks of input S12.\n",
    "\n",
    "    S12 is a dictionary\n",
    "    S12[i] for i in keys() are the S12 peaks\n",
    "    \"\"\"\n",
    "    plt.figure(figsize=(10, 10))\n",
    "    mpl.set_plot_labels(xlabel = \"t (mus)\",\n",
    "                    ylabel = \"S12 (pes)\")\n",
    "    xy = len(S12)\n",
    "    if xy == 1:\n",
    "        t = S12[0][0]\n",
    "        E = S12[0][1]\n",
    "        ax1 = plt.subplot(1, 1, 1)\n",
    "        plt.plot(t, E)\n",
    "    else:\n",
    "        x = 3\n",
    "        y = xy/x\n",
    "        if y % xy != 0:\n",
    "            y = int(xy/x) + 1\n",
    "        for i in S12.keys():\n",
    "            ax1 =  plt.subplot(x, y, i+1)\n",
    "            t = S12[i][0]\n",
    "            E = S12[i][1]\n",
    "            plt.plot(t, E)\n"
   ]
  },
  {
   "cell_type": "code",
   "execution_count": null,
   "metadata": {
    "collapsed": false
   },
   "outputs": [],
   "source": [
    "pmf.scan_s12(S2)"
   ]
  },
  {
   "cell_type": "code",
   "execution_count": null,
   "metadata": {
    "collapsed": false
   },
   "outputs": [],
   "source": [
    "sipm = cpf.signal_sipm(sipmrwf[event], adc_to_pes_sipm, thr=3.5*units.pes, n_MAU=100)\n",
    "SIPM = cpf.select_sipm(sipm)\n",
    "S2Si = pf.sipm_s2_dict(SIPM, S2, thr=5*units.pes)"
   ]
  },
  {
   "cell_type": "code",
   "execution_count": null,
   "metadata": {
    "collapsed": false
   },
   "outputs": [],
   "source": [
    "S2Si"
   ]
  },
  {
   "cell_type": "code",
   "execution_count": null,
   "metadata": {
    "collapsed": false
   },
   "outputs": [],
   "source": [
    "def plot_s2si_map(S2Si, cmap='Dark2'):\n",
    "        \"\"\"Plot a map of the energies of S2Si objects.\"\"\"\n",
    "        from   invisible_cities.core.mpl_functions import circles\n",
    "\n",
    "        DataSensor = load_db.DataSiPM()\n",
    "        radius = 3\n",
    "        xs = DataSensor.X.values\n",
    "        ys = DataSensor.Y.values\n",
    "        r = np.ones(len(xs)) * radius\n",
    "        col = np.zeros(len(xs))\n",
    "        for sipm in S2Si.values():\n",
    "            for nsipm, E in sipm.items():\n",
    "                ene = np.sum(E)\n",
    "                col[nsipm] = ene\n",
    "        plt.figure(figsize=(8, 8))\n",
    "        plt.subplot(aspect=\"equal\")\n",
    "        circles(xs, ys, r, c=col, alpha=0.5, ec=\"none\", cmap=cmap)\n",
    "        plt.colorbar()\n",
    "\n",
    "        plt.xlim(-198, 198)\n",
    "        plt.ylim(-198, 198)"
   ]
  },
  {
   "cell_type": "code",
   "execution_count": null,
   "metadata": {
    "collapsed": false
   },
   "outputs": [],
   "source": [
    "plot_s2si_map(S2Si)"
   ]
  },
  {
   "cell_type": "code",
   "execution_count": null,
   "metadata": {
    "collapsed": false
   },
   "outputs": [],
   "source": [
    "def event_pmaps(P,\n",
    "                pmtrwf, sipmrwf,\n",
    "                s1par, s2par, thr,\n",
    "                s12f,\n",
    "                deconv_n_baseline  = 48000,\n",
    "                deconv_thr_trigger =     5,\n",
    "                s1_match_pmt       = 1 * units.mus,\n",
    "                event=0):\n",
    "    \"\"\"Compute Event pmaps and pmaps features.\n",
    "    input:\n",
    "    P           : CalibVectors named tuple.\n",
    "                  ('CalibVectors',\n",
    "                  'channel_id coeff_blr coeff_c adc_to_pes pmt_active')\n",
    "    pmtrwf      : raw waveform for pmts\n",
    "    sipmrwf     : raw waveform for SiPMs\n",
    "    thr         : threshold for PMAP searches.\n",
    "                  ('ThresholdParams',\n",
    "                  'thr_s1 thr_s2 thr_MAU thr_sipm thr_SIPM')\n",
    "    s12f        : named tuple containing features of S1 and S2\n",
    "                  S12Features = namedtuple('S12Features',\n",
    "                    's1f s1_pmt_f s1pf s2f ')\n",
    "    event       : event number\n",
    "    \"\"\"\n",
    "\n",
    "    RWF = pmtrwf[event]\n",
    "    CWF                  = blr.deconv_pmt(RWF,\n",
    "                                          P.coeff_c,\n",
    "                                          P.coeff_blr,\n",
    "                                          n_baseline  = deconv_n_baseline,\n",
    "                                          thr_trigger = deconv_thr_trigger)\n",
    "\n",
    "    # calibrated sum\n",
    "\n",
    "    csum, csum_mau       = cpf.calibrated_pmt_sum(CWF,\n",
    "                                                  P.adc_to_pes,\n",
    "                                                  pmt_active   = P.pmt_active,\n",
    "                                                  n_MAU        = 100,\n",
    "                                                  thr_MAU      = thr.thr_MAU)\n",
    "\n",
    "\n",
    "    CAL_PMT, CAL_PMT_MAU = cpf.calibrated_pmt_mau(CWF,\n",
    "                                                  P.adc_to_pes,\n",
    "                                                  pmt_active = P.pmt_active,\n",
    "                                                  n_MAU      = 100,\n",
    "                                                  thr_MAU    = thr.thr_MAU)\n",
    "\n",
    "\n",
    "    s1_ene, s1_indx      = cpf.wfzs(              csum_mau,\n",
    "                                                  threshold  =thr.thr_s1)\n",
    "    S1                   =  cpf.find_S12(         s1_ene,\n",
    "                                                  s1_indx,\n",
    "                                                  **s1par._asdict())\n",
    "\n",
    "    print_s12(S1)\n",
    "\n",
    "    if len(S1) == 0:\n",
    "        return EventPmaps.not_s1\n",
    "\n",
    "    s2_ene, s2_indx = cpf.wfzs(csum, threshold=thr.thr_s1)\n",
    "    S2    = cpf.find_S12(s2_ene, s2_indx, **s2par._asdict())\n",
    "\n",
    "    print_s12(S2)\n",
    "    if len(S2) == 0:\n",
    "        return EventPmaps.not_s2\n",
    "\n",
    "    for i in S1:\n",
    "        print('S1: adding features for peak number {}'.format(i))\n",
    "        s12f.s1f.add_features(self, S1, peak_number=i)\n",
    "\n",
    "        # Search S1 for PMTs where we have found S1 for sum\n",
    "        t = S1[i][0]\n",
    "        tmin = t[0] - s1_match_pmt\n",
    "        tmax = t[-1] + s1_match_pmt\n",
    "\n",
    "        s1par_PMT = S12Params(tmin=tmin, tmax=tmax, lmin=3, lmax=20,\n",
    "                              stride=4, rebin=False)\n",
    "\n",
    "        PMT_S1 = {}\n",
    "        for pmt in P.pmt_active:\n",
    "            s1_ene, s1_indx = cpf.wfzs(CAL_PMT_MAU[pmt], threshold=0.1)\n",
    "            PMT_S1[pmt] = cpf.find_S12(s1_ene, s1_indx, **s1par_PMT._asdict())\n",
    "            s12f.s1_pmt_f.add_features(self, PMT_S1[pmt], peak_number=i)\n",
    "\n",
    "\n",
    "        nm = compare_S1(S1, PMT_S1, peak=i)\n",
    "        print('number of S1 - S1_PMT matches = {}'.format(nm))\n",
    "        s12f.s1f.add_number_of_matches(nm)\n",
    "\n",
    "    for i in S2:\n",
    "        print('S2: adding features for peak number {}'.format(i))\n",
    "        s12f.s2.add_features(S2, peak_number=i)\n",
    "\n",
    "    # S1p\n",
    "    t = S2[0][0]\n",
    "    tmin = t[-1] + 5 * units.mus\n",
    "    print('S1p search starts at {}'.format(tmin))\n",
    "\n",
    "    s1p_params = S12Params(tmin=tmin, tmax=1300*units.mus, stride=4, lmin=4,\n",
    "                           lmax=20, rebin=False)\n",
    "    s1_ene, s1_indx = cpf.wfzs(csum_mau, threshold=0.1)\n",
    "    S1p =  cpf.find_S12(s1_ene, s1_indx, **s1p_params._asdict())\n",
    "    for i in S1p:\n",
    "        s12f.s1pf.add_features(S1p, peak_number=i)\n",
    "\n",
    "\n",
    "    if len(S1) != 1:\n",
    "        return EventPmaps.s1_not_1\n",
    "\n",
    "    if len(S2) != 1:\n",
    "        return EventPmaps.s2_not_1  # TODO: treat the case with more than 1 s2\n",
    "\n",
    "\n",
    "    dt = s2f.tpeak - s1f.tpeak\n",
    "\n",
    "    print('drif time = {} mus'.format(dt/units.mus))\n",
    "\n",
    "    print('***S2Si****')\n",
    "    sipm = cpf.signal_sipm(sipmrwf[event], adc_to_pes_sipm, thr=3.5*units.pes, n_MAU=100)\n",
    "    SIPM = cpf.select_sipm(sipm)\n",
    "    S2Si = pf.sipm_s2_dict(SIPM, S2, thr=20*units.pes)\n",
    "\n",
    "    return (CalibratedSum(csum=csum, csum_mau=csum_mau),\n",
    "            PMaps(S1=S1, S2=S2, S2Si=S2Si))\n"
   ]
  }
 ],
 "metadata": {
  "anaconda-cloud": {},
  "kernelspec": {
   "display_name": "Python 3",
   "language": "python",
   "name": "python3"
  },
  "language_info": {
   "codemirror_mode": {
    "name": "ipython",
    "version": 3
   },
   "file_extension": ".py",
   "mimetype": "text/x-python",
   "name": "python",
   "nbconvert_exporter": "python",
   "pygments_lexer": "ipython3",
   "version": "3.6.0"
  }
 },
 "nbformat": 4,
 "nbformat_minor": 0
}
