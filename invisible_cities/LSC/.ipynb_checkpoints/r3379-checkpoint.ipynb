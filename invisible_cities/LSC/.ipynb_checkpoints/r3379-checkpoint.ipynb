{
 "cells": [
  {
   "cell_type": "markdown",
   "metadata": {
    "collapsed": false
   },
   "source": [
    "# r-3379"
   ]
  },
  {
   "cell_type": "markdown",
   "metadata": {
    "collapsed": false
   },
   "source": [
    "Taken on March 30th, Krypton run, Krypton trigger with \"November 20162 conditions"
   ]
  },
  {
   "cell_type": "code",
   "execution_count": 1,
   "metadata": {
    "collapsed": false
   },
   "outputs": [],
   "source": [
    "import datetime"
   ]
  },
  {
   "cell_type": "code",
   "execution_count": 2,
   "metadata": {
    "collapsed": false
   },
   "outputs": [
    {
     "name": "stdout",
     "output_type": "stream",
     "text": [
      "2017-03-24 16:26:28\n"
     ]
    }
   ],
   "source": [
    "print(datetime.datetime.now().strftime('%Y-%m-%d %H:%M:%S'))"
   ]
  },
  {
   "cell_type": "code",
   "execution_count": 3,
   "metadata": {
    "collapsed": false
   },
   "outputs": [],
   "source": [
    "from __future__ import print_function\n",
    "import sys\n",
    "import os\n",
    "from glob import glob\n",
    "from time import time"
   ]
  },
  {
   "cell_type": "code",
   "execution_count": 4,
   "metadata": {
    "collapsed": false
   },
   "outputs": [],
   "source": [
    "%matplotlib inline\n",
    "%load_ext autoreload\n",
    "%autoreload 2\n",
    "import matplotlib.pyplot as plt\n",
    "import pandas as pd\n",
    "import tables as tb\n",
    "import numpy as np\n",
    "import math\n"
   ]
  },
  {
   "cell_type": "code",
   "execution_count": 5,
   "metadata": {
    "collapsed": false
   },
   "outputs": [],
   "source": [
    "from invisible_cities.database import load_db\n",
    "import invisible_cities.sierpe.blr as blr\n",
    "import invisible_cities.core.mpl_functions as mpl\n",
    "import invisible_cities.reco.wfm_functions as wfm\n",
    "import invisible_cities.reco.tbl_functions as tbl\n",
    "import invisible_cities.reco.peak_functions_c as cpf\n",
    "import invisible_cities.reco.peak_functions as pf\n",
    "import invisible_cities.reco.pmaps_functions as pmf"
   ]
  },
  {
   "cell_type": "code",
   "execution_count": 6,
   "metadata": {
    "collapsed": false
   },
   "outputs": [],
   "source": [
    "from invisible_cities.reco.pmap_io import pmap_writer, S12, S2Si\n",
    "\n",
    "from   invisible_cities.core.configure import configure, print_configuration\n",
    "\n",
    "from   invisible_cities.core.system_of_units_c import units\n",
    "from   invisible_cities.cities.base_cities import PmapCity, SensorParams\n",
    "from   invisible_cities.cities.base_cities import S12Params as S12P"
   ]
  },
  {
   "cell_type": "code",
   "execution_count": 7,
   "metadata": {
    "collapsed": false
   },
   "outputs": [],
   "source": [
    "from invisible_cities.core.core_functions import define_window\n",
    "from invisible_cities.core.core_functions import lrange\n",
    "from collections import namedtuple"
   ]
  },
  {
   "cell_type": "code",
   "execution_count": 8,
   "metadata": {
    "collapsed": false
   },
   "outputs": [],
   "source": [
    "from invisible_cities.reco.params import S12Params, ThresholdParams, CalibratedSum, PMaps,\\\n",
    "                                         SensorParams, CalibParams, PmapParams, CalibratedPMT, S1PMaps"
   ]
  },
  {
   "cell_type": "code",
   "execution_count": 9,
   "metadata": {
    "collapsed": false
   },
   "outputs": [],
   "source": [
    "from matplotlib.figure import Figure"
   ]
  },
  {
   "cell_type": "code",
   "execution_count": 10,
   "metadata": {
    "collapsed": false
   },
   "outputs": [],
   "source": [
    "%load_ext Cython"
   ]
  },
  {
   "cell_type": "code",
   "execution_count": 11,
   "metadata": {
    "collapsed": false
   },
   "outputs": [],
   "source": [
    "from event_pmaps import compare_S1"
   ]
  },
  {
   "cell_type": "markdown",
   "metadata": {},
   "source": [
    "### Input"
   ]
  },
  {
   "cell_type": "code",
   "execution_count": 12,
   "metadata": {
    "collapsed": true
   },
   "outputs": [],
   "source": [
    "run_number=3379\n"
   ]
  },
  {
   "cell_type": "code",
   "execution_count": 13,
   "metadata": {
    "collapsed": true
   },
   "outputs": [],
   "source": [
    "RWF_file = os.path.join(os.environ['IC_DATA'],\n",
    "                        'LSC/{}/run_3379.gdc1next.next-new.000.rd_3379.root.h5'.format(run_number))"
   ]
  },
  {
   "cell_type": "code",
   "execution_count": 14,
   "metadata": {
    "collapsed": false
   },
   "outputs": [],
   "source": [
    "h5rwf = False"
   ]
  },
  {
   "cell_type": "code",
   "execution_count": 15,
   "metadata": {
    "collapsed": false
   },
   "outputs": [],
   "source": [
    "if h5rwf:\n",
    "    h5rwf.close()"
   ]
  },
  {
   "cell_type": "code",
   "execution_count": 16,
   "metadata": {
    "collapsed": false
   },
   "outputs": [],
   "source": [
    "h5rwf = tb.open_file(RWF_file,'r')"
   ]
  },
  {
   "cell_type": "code",
   "execution_count": 17,
   "metadata": {
    "collapsed": false
   },
   "outputs": [
    {
     "data": {
      "text/plain": [
       "File(filename=/Users/alej/Desktop/IC_DATA/LSC/3379/run_3379.gdc1next.next-new.000.rd_3379.root.h5, title='', mode='r', root_uep='/', filters=Filters(complevel=0, shuffle=False, bitshuffle=False, fletcher32=False, least_significant_digit=None))\n",
       "/ (RootGroup) ''\n",
       "/RD (Group) ''\n",
       "/RD/pmtblr (EArray(82, 12, 52000), zlib(4)) ''\n",
       "  atom := Int16Atom(shape=(), dflt=0)\n",
       "  maindim := 0\n",
       "  flavor := 'numpy'\n",
       "  byteorder := 'little'\n",
       "  chunkshape := (1, 1, 32768)\n",
       "/RD/pmtrwf (EArray(82, 12, 52000), zlib(4)) ''\n",
       "  atom := Int16Atom(shape=(), dflt=0)\n",
       "  maindim := 0\n",
       "  flavor := 'numpy'\n",
       "  byteorder := 'little'\n",
       "  chunkshape := (1, 1, 32768)\n",
       "/RD/sipmrwf (EArray(82, 1792, 1300), zlib(4)) ''\n",
       "  atom := Int16Atom(shape=(), dflt=0)\n",
       "  maindim := 0\n",
       "  flavor := 'numpy'\n",
       "  byteorder := 'little'\n",
       "  chunkshape := (1, 50, 1300)\n",
       "/Run (Group) ''\n",
       "/Run/events (Table(82,)) ''\n",
       "  description := {\n",
       "  \"evt_number\": Int32Col(shape=(), dflt=0, pos=0),\n",
       "  \"timestamp\": UInt64Col(shape=(), dflt=0, pos=1)}\n",
       "  byteorder := 'little'\n",
       "  chunkshape := (32768,)\n",
       "/Run/runInfo (Table(1,)) ''\n",
       "  description := {\n",
       "  \"run_number\": Int32Col(shape=(), dflt=0, pos=0)}\n",
       "  byteorder := 'little'\n",
       "  chunkshape := (16384,)\n",
       "/Sensors (Group) ''\n",
       "/Sensors/DataBLR (Table(11,)) ''\n",
       "  description := {\n",
       "  \"channel\": Int32Col(shape=(), dflt=0, pos=0),\n",
       "  \"sensorID\": Int32Col(shape=(), dflt=0, pos=1),\n",
       "  \"position\": Float32Col(shape=(3,), dflt=0.0, pos=2)}\n",
       "  byteorder := 'little'\n",
       "  chunkshape := (3276,)\n",
       "/Sensors/DataPMT (Table(11,)) ''\n",
       "  description := {\n",
       "  \"channel\": Int32Col(shape=(), dflt=0, pos=0),\n",
       "  \"sensorID\": Int32Col(shape=(), dflt=0, pos=1),\n",
       "  \"position\": Float32Col(shape=(3,), dflt=0.0, pos=2)}\n",
       "  byteorder := 'little'\n",
       "  chunkshape := (3276,)\n",
       "/Sensors/DataSiPM (Table(1792,)) ''\n",
       "  description := {\n",
       "  \"channel\": Int32Col(shape=(), dflt=0, pos=0),\n",
       "  \"sensorID\": Int32Col(shape=(), dflt=0, pos=1),\n",
       "  \"position\": Float32Col(shape=(3,), dflt=0.0, pos=2)}\n",
       "  byteorder := 'little'\n",
       "  chunkshape := (3276,)"
      ]
     },
     "execution_count": 17,
     "metadata": {},
     "output_type": "execute_result"
    }
   ],
   "source": [
    "h5rwf"
   ]
  },
  {
   "cell_type": "markdown",
   "metadata": {
    "collapsed": false
   },
   "source": [
    "### pmtrwf and sipmrwf vectors"
   ]
  },
  {
   "cell_type": "markdown",
   "metadata": {
    "collapsed": false
   },
   "source": [
    "To get vectors use **get_vectors(file)** in tbl_functions"
   ]
  },
  {
   "cell_type": "code",
   "execution_count": 18,
   "metadata": {
    "collapsed": false
   },
   "outputs": [],
   "source": [
    "pmtrwf, pmtblr, sipmrwf = tbl.get_vectors(h5rwf)"
   ]
  },
  {
   "cell_type": "code",
   "execution_count": 19,
   "metadata": {
    "collapsed": false
   },
   "outputs": [
    {
     "name": "stdout",
     "output_type": "stream",
     "text": [
      "\n",
      "        Number of events in file = 82\n",
      "        Number of PMTs = 12\n",
      "        PMTWL = 52000\n",
      "        Number of SiPMs = 1792\n",
      "        SiPMWL = 1300\n",
      "      \n"
     ]
    }
   ],
   "source": [
    "NEVT, NPMT, PMTWL = pmtrwf.shape\n",
    "NEVT, NSIPM, SIPMWL = sipmrwf.shape\n",
    "print(\"\"\"\n",
    "        Number of events in file = {}\n",
    "        Number of PMTs = {}\n",
    "        PMTWL = {}\n",
    "        Number of SiPMs = {}\n",
    "        SiPMWL = {}\n",
    "      \"\"\".format(NEVT, NPMT, PMTWL,NSIPM, SIPMWL))"
   ]
  },
  {
   "cell_type": "markdown",
   "metadata": {
    "collapsed": false
   },
   "source": [
    "### Access to data base and definition of units"
   ]
  },
  {
   "cell_type": "code",
   "execution_count": 20,
   "metadata": {
    "collapsed": false
   },
   "outputs": [],
   "source": [
    "DataPMT = load_db.DataPMT(run_number)\n",
    "adc_to_pes = abs(DataPMT.adc_to_pes.values)\n",
    "coeff_c = abs(DataPMT.coeff_c.values)\n",
    "coeff_blr = abs(DataPMT.coeff_blr.values)\n",
    "DataSiPM = load_db.DataSiPM()\n",
    "adc_to_pes_sipm = DataSiPM.adc_to_pes.values\n",
    "pmt_active = np.nonzero(DataPMT.Active.values)[0].tolist()\n",
    "xs = DataSiPM.X.values\n",
    "ys = DataSiPM.Y.values"
   ]
  },
  {
   "cell_type": "code",
   "execution_count": 21,
   "metadata": {
    "collapsed": false
   },
   "outputs": [
    {
     "data": {
      "text/html": [
       "<div>\n",
       "<table border=\"1\" class=\"dataframe\">\n",
       "  <thead>\n",
       "    <tr style=\"text-align: right;\">\n",
       "      <th></th>\n",
       "      <th>SensorID</th>\n",
       "      <th>ChannelID</th>\n",
       "      <th>PmtID</th>\n",
       "      <th>Active</th>\n",
       "      <th>X</th>\n",
       "      <th>Y</th>\n",
       "      <th>coeff_blr</th>\n",
       "      <th>coeff_c</th>\n",
       "      <th>adc_to_pes</th>\n",
       "      <th>noise_rms</th>\n",
       "      <th>Sigma</th>\n",
       "    </tr>\n",
       "  </thead>\n",
       "  <tbody>\n",
       "    <tr>\n",
       "      <th>0</th>\n",
       "      <td>0</td>\n",
       "      <td>22</td>\n",
       "      <td>PMT1</td>\n",
       "      <td>1</td>\n",
       "      <td>-23.9414</td>\n",
       "      <td>65.7785</td>\n",
       "      <td>0.00080</td>\n",
       "      <td>0.000001</td>\n",
       "      <td>25.39</td>\n",
       "      <td>0.7160</td>\n",
       "      <td>9.474</td>\n",
       "    </tr>\n",
       "    <tr>\n",
       "      <th>1</th>\n",
       "      <td>1</td>\n",
       "      <td>18</td>\n",
       "      <td>PMT3</td>\n",
       "      <td>1</td>\n",
       "      <td>-44.9951</td>\n",
       "      <td>-53.6231</td>\n",
       "      <td>0.00080</td>\n",
       "      <td>0.000001</td>\n",
       "      <td>26.49</td>\n",
       "      <td>0.8744</td>\n",
       "      <td>10.510</td>\n",
       "    </tr>\n",
       "    <tr>\n",
       "      <th>2</th>\n",
       "      <td>2</td>\n",
       "      <td>23</td>\n",
       "      <td>PMT2</td>\n",
       "      <td>1</td>\n",
       "      <td>68.9365</td>\n",
       "      <td>-12.1554</td>\n",
       "      <td>0.00080</td>\n",
       "      <td>0.000001</td>\n",
       "      <td>27.74</td>\n",
       "      <td>0.7303</td>\n",
       "      <td>9.031</td>\n",
       "    </tr>\n",
       "    <tr>\n",
       "      <th>3</th>\n",
       "      <td>3</td>\n",
       "      <td>0</td>\n",
       "      <td>PMT4</td>\n",
       "      <td>1</td>\n",
       "      <td>0.0000</td>\n",
       "      <td>185.0000</td>\n",
       "      <td>0.00161</td>\n",
       "      <td>0.000003</td>\n",
       "      <td>25.17</td>\n",
       "      <td>0.7060</td>\n",
       "      <td>8.720</td>\n",
       "    </tr>\n",
       "    <tr>\n",
       "      <th>4</th>\n",
       "      <td>4</td>\n",
       "      <td>31</td>\n",
       "      <td>PMTC</td>\n",
       "      <td>1</td>\n",
       "      <td>-118.9160</td>\n",
       "      <td>141.7180</td>\n",
       "      <td>0.00160</td>\n",
       "      <td>0.000003</td>\n",
       "      <td>26.56</td>\n",
       "      <td>0.7000</td>\n",
       "      <td>8.910</td>\n",
       "    </tr>\n",
       "    <tr>\n",
       "      <th>5</th>\n",
       "      <td>5</td>\n",
       "      <td>8</td>\n",
       "      <td>PMTB</td>\n",
       "      <td>1</td>\n",
       "      <td>-182.1890</td>\n",
       "      <td>32.1249</td>\n",
       "      <td>0.00161</td>\n",
       "      <td>0.000003</td>\n",
       "      <td>21.55</td>\n",
       "      <td>0.7278</td>\n",
       "      <td>6.900</td>\n",
       "    </tr>\n",
       "    <tr>\n",
       "      <th>6</th>\n",
       "      <td>6</td>\n",
       "      <td>5</td>\n",
       "      <td>PMTA</td>\n",
       "      <td>1</td>\n",
       "      <td>-160.2150</td>\n",
       "      <td>-92.5000</td>\n",
       "      <td>0.00161</td>\n",
       "      <td>0.000003</td>\n",
       "      <td>23.86</td>\n",
       "      <td>0.7323</td>\n",
       "      <td>7.860</td>\n",
       "    </tr>\n",
       "    <tr>\n",
       "      <th>7</th>\n",
       "      <td>7</td>\n",
       "      <td>4</td>\n",
       "      <td>PMT9</td>\n",
       "      <td>1</td>\n",
       "      <td>-63.2737</td>\n",
       "      <td>-173.8430</td>\n",
       "      <td>0.00161</td>\n",
       "      <td>0.000003</td>\n",
       "      <td>33.57</td>\n",
       "      <td>0.7206</td>\n",
       "      <td>11.750</td>\n",
       "    </tr>\n",
       "    <tr>\n",
       "      <th>8</th>\n",
       "      <td>8</td>\n",
       "      <td>1</td>\n",
       "      <td>PMT8</td>\n",
       "      <td>1</td>\n",
       "      <td>63.2737</td>\n",
       "      <td>-173.8430</td>\n",
       "      <td>0.00162</td>\n",
       "      <td>0.000003</td>\n",
       "      <td>22.15</td>\n",
       "      <td>0.7213</td>\n",
       "      <td>7.070</td>\n",
       "    </tr>\n",
       "    <tr>\n",
       "      <th>9</th>\n",
       "      <td>10</td>\n",
       "      <td>27</td>\n",
       "      <td>PMT6</td>\n",
       "      <td>1</td>\n",
       "      <td>182.1890</td>\n",
       "      <td>32.1249</td>\n",
       "      <td>0.00080</td>\n",
       "      <td>0.000001</td>\n",
       "      <td>20.83</td>\n",
       "      <td>0.7921</td>\n",
       "      <td>6.780</td>\n",
       "    </tr>\n",
       "    <tr>\n",
       "      <th>10</th>\n",
       "      <td>11</td>\n",
       "      <td>26</td>\n",
       "      <td>PMT5</td>\n",
       "      <td>1</td>\n",
       "      <td>118.9160</td>\n",
       "      <td>141.7180</td>\n",
       "      <td>0.00080</td>\n",
       "      <td>0.000001</td>\n",
       "      <td>23.78</td>\n",
       "      <td>0.8660</td>\n",
       "      <td>8.050</td>\n",
       "    </tr>\n",
       "    <tr>\n",
       "      <th>11</th>\n",
       "      <td>9</td>\n",
       "      <td>30</td>\n",
       "      <td>PMT7</td>\n",
       "      <td>0</td>\n",
       "      <td>160.2150</td>\n",
       "      <td>-92.5000</td>\n",
       "      <td>0.00000</td>\n",
       "      <td>0.000000</td>\n",
       "      <td>0.00</td>\n",
       "      <td>0.0000</td>\n",
       "      <td>0.000</td>\n",
       "    </tr>\n",
       "  </tbody>\n",
       "</table>\n",
       "</div>"
      ],
      "text/plain": [
       "    SensorID  ChannelID PmtID  Active         X         Y  coeff_blr  \\\n",
       "0          0         22  PMT1       1  -23.9414   65.7785    0.00080   \n",
       "1          1         18  PMT3       1  -44.9951  -53.6231    0.00080   \n",
       "2          2         23  PMT2       1   68.9365  -12.1554    0.00080   \n",
       "3          3          0  PMT4       1    0.0000  185.0000    0.00161   \n",
       "4          4         31  PMTC       1 -118.9160  141.7180    0.00160   \n",
       "5          5          8  PMTB       1 -182.1890   32.1249    0.00161   \n",
       "6          6          5  PMTA       1 -160.2150  -92.5000    0.00161   \n",
       "7          7          4  PMT9       1  -63.2737 -173.8430    0.00161   \n",
       "8          8          1  PMT8       1   63.2737 -173.8430    0.00162   \n",
       "9         10         27  PMT6       1  182.1890   32.1249    0.00080   \n",
       "10        11         26  PMT5       1  118.9160  141.7180    0.00080   \n",
       "11         9         30  PMT7       0  160.2150  -92.5000    0.00000   \n",
       "\n",
       "     coeff_c  adc_to_pes  noise_rms   Sigma  \n",
       "0   0.000001       25.39     0.7160   9.474  \n",
       "1   0.000001       26.49     0.8744  10.510  \n",
       "2   0.000001       27.74     0.7303   9.031  \n",
       "3   0.000003       25.17     0.7060   8.720  \n",
       "4   0.000003       26.56     0.7000   8.910  \n",
       "5   0.000003       21.55     0.7278   6.900  \n",
       "6   0.000003       23.86     0.7323   7.860  \n",
       "7   0.000003       33.57     0.7206  11.750  \n",
       "8   0.000003       22.15     0.7213   7.070  \n",
       "9   0.000001       20.83     0.7921   6.780  \n",
       "10  0.000001       23.78     0.8660   8.050  \n",
       "11  0.000000        0.00     0.0000   0.000  "
      ]
     },
     "execution_count": 21,
     "metadata": {},
     "output_type": "execute_result"
    }
   ],
   "source": [
    "DataPMT"
   ]
  },
  {
   "cell_type": "code",
   "execution_count": 22,
   "metadata": {
    "collapsed": false
   },
   "outputs": [],
   "source": [
    "def _calib_vectors(self):\n",
    "        \"\"\"Provisional fix for calib vectors\"\"\"\n",
    "        channel_id = np.array([0,1,4,5,8,18,22,23,26,27,30])\n",
    "        coeff_blr = np.array([1.61,1.62,1.61,1.61,1.61,\n",
    "                          0.8,0.8,0.8,0.8,0.8,1.60,\n",
    "                          1.0]) * 0.001\n",
    "        coeff_c = np.array([2.94,2.75,3.09,2.81,2.88,\n",
    "                        1.,1.,1.,1.,1.,2.76,\n",
    "                        1.0]) * 1e-6\n",
    "        adc_to_pes = np.array([25.17,22.15,33.57,23.88,21.55,\n",
    "                           26.49,25.39,27.74,23.78,20.83,26.56,\n",
    "                           0.])\n",
    "        pmt_active = list(range(11))\n",
    "\n",
    "        DataSiPM = load_db.DataSiPM()\n",
    "        self.P   = CalibVectors(channel_id = channel_id,\n",
    "                                coeff_blr  = coeff_blr,\n",
    "                                coeff_c    = coeff_c,\n",
    "                                adc_to_pes_pmt = adc_to_pes,\n",
    "                                adc_to_pes_sipm = DataSiPM.adc_to_pes.values,\n",
    "                                pmt_active  = pmt_active)"
   ]
  },
  {
   "cell_type": "markdown",
   "metadata": {},
   "source": [
    "### PMT multiplicity\n"
   ]
  },
  {
   "cell_type": "code",
   "execution_count": 23,
   "metadata": {
    "collapsed": false
   },
   "outputs": [],
   "source": [
    "pmts_s1s = {}\n",
    "energies = []\n",
    "s1_count = 0 \n",
    "\n",
    "for event in range(NEVT):\n",
    "    RWF = pmtrwf[event]\n",
    "    CWF = blr.deconv_pmt(RWF,\n",
    "                         coeff_c,\n",
    "                         coeff_blr,\n",
    "                         pmt_active,\n",
    "                         n_baseline  = 48000,\n",
    "                         thr_trigger = 5)\n",
    "    \n",
    "    CAL_PMT, CAL_PMT_MAU    =  cpf.calibrated_pmt_mau(\n",
    "                               CWF,\n",
    "                               adc_to_pes,\n",
    "                               pmt_active = pmt_active,\n",
    "                               n_MAU = 100,\n",
    "                               thr_MAU =  3)\n",
    "    \n",
    "    csum, csum_mau = cpf.calibrated_pmt_sum(CWF,adc_to_pes, pmt_active)\n",
    "        \n",
    "    s1par = S12Params(tmin=0*units.mus, tmax=640*units.mus, lmin=6, lmax=40, stride=4, rebin=False)\n",
    "    \n",
    "    s1_ene, s1_indx = cpf.wfzs(csum_mau, threshold=0.5)\n",
    "    \n",
    "    S1 = cpf.find_S12(s1_ene, s1_indx, **s1par._asdict())\n",
    "\n",
    "    ## for each S1\n",
    "    for s_1 in S1:\n",
    "        \n",
    "        pmts_s1s[s1_count] = np.zeros((len(pmt_active),), dtype=np.float32)\n",
    "        energies.append(S1[s_1][1].sum())\n",
    "        \n",
    "        ## for each PMT\n",
    "        for pmt in pmt_active:\n",
    "            \n",
    "            # Get the indicies of the S1 in the csum_mau (hopefully)\n",
    "            ind_S1 = np.array(np.round(S1[s_1][0] / 25), dtype=np.int64)\n",
    "        \n",
    "            # Check if pmt responded during this 'S1'\n",
    "            if (CAL_PMT_MAU[pmt, ind_S1] >= 0).any():\n",
    "                \n",
    "                ## remember which pmts responded, and how much\n",
    "                \n",
    "                pmts_s1s[s1_count][pmt] = np.sum(CAL_PMT_MAU[pmt, ind_S1])\n",
    "                \n",
    "                \n",
    "                if pmts_s1s[s1_count][pmt] < 0:\n",
    "                    print(event, pmt, s_1, s1_count)\n",
    "                    break\n",
    "                \n",
    "        s1_count += 1\n",
    "\n",
    "multiplicity2 = np.zeros((len(pmts_s1s)), dtype=np.int8)\n",
    "for s1 in pmts_s1s: multiplicity2[s1] = len(pmts_s1s[s1].nonzero()[0])    "
   ]
  },
  {
   "cell_type": "code",
   "execution_count": 24,
   "metadata": {
    "collapsed": false
   },
   "outputs": [],
   "source": [
    "##################\n",
    "multiplicity = []\n",
    "energies2 = []\n",
    "\n",
    "for event in range(NEVT):\n",
    "    \n",
    "    # get corrected csum_mau\n",
    "    RWF = pmtrwf[event]\n",
    "    CWF = blr.deconv_pmt(RWF,\n",
    "                         coeff_c,\n",
    "                         coeff_blr,\n",
    "                         pmt_active,\n",
    "                         n_baseline  = 48000,\n",
    "                         thr_trigger = 5)\n",
    "    \n",
    "    CAL_PMT, CAL_PMT_MAU = cpf.calibrated_pmt_mau(\n",
    "                           CWF,\n",
    "                           adc_to_pes,\n",
    "                           pmt_active = pmt_active,\n",
    "                           n_MAU   = 100,\n",
    "                           thr_MAU =   3)\n",
    "    \n",
    "    csum, csum_mau = cpf.calibrated_pmt_sum(CWF,adc_to_pes, pmt_active)\n",
    "        \n",
    "    # Get all the possible s1s\n",
    "    s1par = S12Params(tmin=0*units.mus, tmax=640*units.mus, lmin=6, lmax=40, stride=4, rebin=False)\n",
    "    s1_ene, s1_indx = cpf.wfzs(csum_mau, threshold=0.5)\n",
    "    S1 = cpf.find_S12(s1_ene, s1_indx, **s1par._asdict())\n",
    "\n",
    "    # (there can pe multiple S1s in each event)\n",
    "    for s_1 in S1:\n",
    "        \n",
    "        # Set up params for searching individual pmt cal mau waveforms\n",
    "        s1par  = S12Params(tmin=(S1[s_1][0][ 0] - 1000) * units.ns, \n",
    "                           tmax=(S1[s_1][0][ 0] + 1000) * units.ns, \n",
    "                           lmin=3, \n",
    "                           lmax=40, \n",
    "                           stride=4, \n",
    "                           rebin=False)\n",
    "    \n",
    "        # Dict for storing individual pmt s1s\n",
    "        PMT_S1 = {}      \n",
    "        for pmt in pmt_active:\n",
    "        \n",
    "            # See if there is a corresponding S1 in this PMT\n",
    "            s1_ene, s1_indx = cpf.wfzs(CAL_PMT_MAU[pmt], threshold=0.1)\n",
    "            PMT_S1[pmt] = cpf.find_S12(s1_ene, s1_indx, **s1par._asdict())\n",
    "        \n",
    "        # Record multiplicity\n",
    "        multiplicity.append(compare_S1(S1, PMT_S1, peak=0, tol=0.5*units.mus))\n",
    "        \n",
    "        print(S1[s_1][1])\n",
    "        \n",
    "        # remember the S1's energy\n",
    "        energies2.append(S1[s_1][1].sum())\n",
    "        \n",
    "multiplicity = np.array(multiplicity)      "
   ]
  },
  {
   "cell_type": "code",
   "execution_count": 65,
   "metadata": {
    "collapsed": false
   },
   "outputs": [
    {
     "data": {
      "image/png": "[encoded data removed]",
      "text/plain": [
       "<matplotlib.figure.Figure at 0x1209c84e0>"
      ]
     },
     "metadata": {},
     "output_type": "display_data"
    },
    {
     "data": {
      "image/png": "[encoded data removed]",
      "text/plain": [
       "<matplotlib.figure.Figure at 0x1209c8dd8>"
      ]
     },
     "metadata": {},
     "output_type": "display_data"
    }
   ],
   "source": [
    "def plot_enrg_mult(energies, multiplicity):\n",
    "    fig = plt.figure(figsize=(20,10))\n",
    "    ax  = plt.gca()\n",
    "    plt.scatter(energies, multiplicity)\n",
    "    plt.ylim(0,12)\n",
    "    plt.xlabel('pes')\n",
    "    plt.ylabel('multiplicity')\n",
    "    plt.grid(True)\n",
    "    ax.set_xscale('log')\n",
    "    plt.show()\n",
    "    \n",
    "plot_enrg_mult(energies , multiplicity)\n",
    "plot_enrg_mult(energies2, multiplicity2)"
   ]
  },
  {
   "cell_type": "code",
   "execution_count": 119,
   "metadata": {
    "collapsed": false
   },
   "outputs": [
    {
     "data": {
      "image/png": "[encoded data removed]",
      "text/plain": [
       "<matplotlib.figure.Figure at 0x1208dd6d8>"
      ]
     },
     "metadata": {},
     "output_type": "display_data"
    }
   ],
   "source": [
    "def plot_mult_heatmap(energies, multiplicity):\n",
    "    fig = plt.figure(figsize=(10,5))\n",
    "    ax  = plt.gca()\n",
    "    \n",
    "    #heatmap, xedges, yedges = np.histogram2d(np.log(energies), multiplicity, bins=30)\n",
    "    #extent = [xedges[0], 20, yedges[0], yedges[-1]]\n",
    "    #plt.clf()\n",
    "    #plt.imshow(heatmap.T, extent=extent, origin='lower')\n",
    "    #plt.show()\n",
    "    \n",
    "    plt.hist2d(energies, multiplicity, bins=(10000,20))\n",
    "    ax.set_xscale('log')\n",
    "    plt.xlim(0,100)\n",
    "    plt.ylim(0,11)\n",
    "    plt.colorbar()\n",
    "    \n",
    "\n",
    "    \n",
    "    #plt.ylim(0,12)\n",
    "    #plt.xlabel('pes')\n",
    "    #plt.ylabel('multiplicity')\n",
    "    #plt.grid(True)\n",
    "\n",
    "    #plt.show()\n",
    "plot_mult_heatmap(energies, multiplicity)"
   ]
  },
  {
   "cell_type": "code",
   "execution_count": 54,
   "metadata": {
    "collapsed": false
   },
   "outputs": [
    {
     "data": {
      "image/png": "[encoded data removed]",
      "text/plain": [
       "<matplotlib.figure.Figure at 0x11a8a2160>"
      ]
     },
     "metadata": {},
     "output_type": "display_data"
    }
   ],
   "source": [
    "plt.hist(multiplicity, np.array(range(12))-.5, alpha=0.6)\n",
    "plt.grid(True)\n",
    "plt.ylabel('multiplicity')\n",
    "plt.show()"
   ]
  },
  {
   "cell_type": "code",
   "execution_count": 53,
   "metadata": {
    "collapsed": false
   },
   "outputs": [
    {
     "data": {
      "image/png": "[encoded data removed]",
      "text/plain": [
       "<matplotlib.figure.Figure at 0x11ab0ec50>"
      ]
     },
     "metadata": {},
     "output_type": "display_data"
    }
   ],
   "source": [
    "plt.hist(multiplicity / energies, facecolor='red', alpha=0.6)\n",
    "plt.grid(True)\n",
    "plt.ylabel('multiplicity/energy')\n",
    "plt.show()"
   ]
  },
  {
   "cell_type": "markdown",
   "metadata": {
    "collapsed": false
   },
   "source": [
    "### RWF"
   ]
  },
  {
   "cell_type": "code",
   "execution_count": null,
   "metadata": {
    "collapsed": true
   },
   "outputs": [],
   "source": []
  },
  {
   "cell_type": "code",
   "execution_count": null,
   "metadata": {
    "collapsed": true
   },
   "outputs": [],
   "source": []
  },
  {
   "cell_type": "code",
   "execution_count": null,
   "metadata": {
    "collapsed": true
   },
   "outputs": [],
   "source": []
  },
  {
   "cell_type": "code",
   "execution_count": null,
   "metadata": {
    "collapsed": true
   },
   "outputs": [],
   "source": []
  },
  {
   "cell_type": "code",
   "execution_count": null,
   "metadata": {
    "collapsed": false
   },
   "outputs": [],
   "source": [
    "event=0\n",
    "RWF = pmtrwf[event]"
   ]
  },
  {
   "cell_type": "code",
   "execution_count": null,
   "metadata": {
    "collapsed": false
   },
   "outputs": [],
   "source": [
    "wfm.plot_pmt_waveforms(RWF, zoom=False, window_size=10000)"
   ]
  },
  {
   "cell_type": "code",
   "execution_count": null,
   "metadata": {
    "collapsed": false
   },
   "outputs": [],
   "source": [
    "CWF = blr.deconv_pmt(RWF,\n",
    "                             coeff_c,\n",
    "                             coeff_blr,\n",
    "                             pmt_active,\n",
    "                             n_baseline  = 48000,\n",
    "                             thr_trigger = 5)"
   ]
  },
  {
   "cell_type": "code",
   "execution_count": null,
   "metadata": {
    "collapsed": false
   },
   "outputs": [],
   "source": [
    "wfm.plot_pmt_waveforms(CWF, zoom=True, window_size=10000)"
   ]
  },
  {
   "cell_type": "code",
   "execution_count": null,
   "metadata": {
    "collapsed": false
   },
   "outputs": [],
   "source": [
    "CAL_PMT, CAL_PMT_MAU    =    cpf.calibrated_pmt_mau(\n",
    "                               CWF,\n",
    "                               adc_to_pes,\n",
    "                               pmt_active = pmt_active,\n",
    "                               n_MAU = 100,\n",
    "                               thr_MAU =  3)"
   ]
  },
  {
   "cell_type": "code",
   "execution_count": null,
   "metadata": {
    "collapsed": false
   },
   "outputs": [],
   "source": [
    "mpl.plot_pmt_signals_vs_time_mus(CAL_PMT,\n",
    "                             pmt_active = pmt_active,\n",
    "                             t_min      = 0,\n",
    "                             t_max      = 1200,\n",
    "                             signal_min =    0,\n",
    "                             signal_max =  7)"
   ]
  },
  {
   "cell_type": "code",
   "execution_count": null,
   "metadata": {
    "collapsed": false
   },
   "outputs": [],
   "source": [
    "csum, csum_mau = cpf.calibrated_pmt_sum(CWF,adc_to_pes, pmt_active)"
   ]
  },
  {
   "cell_type": "code",
   "execution_count": null,
   "metadata": {
    "collapsed": false
   },
   "outputs": [],
   "source": [
    "mpl.plot_signal_vs_time_mus(csum, t_min=0, t_max=1300, signal_min=-5, signal_max=40, label='CSUM')"
   ]
  },
  {
   "cell_type": "code",
   "execution_count": null,
   "metadata": {
    "collapsed": false
   },
   "outputs": [],
   "source": [
    "mpl.plot_calibrated_sum_in_mus(CalibratedSum(csum=csum, csum_mau=csum_mau), \n",
    "                               tmin=0, tmax=1200, signal_min=-2, signal_max=30, \n",
    "                               csum=True, csum_mau=True)"
   ]
  },
  {
   "cell_type": "code",
   "execution_count": null,
   "metadata": {
    "collapsed": false
   },
   "outputs": [],
   "source": [
    "mpl.plot_signal_vs_time_mus(csum, t_min=640, t_max=670, signal_min=-2, signal_max=30, label='CSUM')"
   ]
  },
  {
   "cell_type": "markdown",
   "metadata": {
    "collapsed": false
   },
   "source": [
    "### s12 searches"
   ]
  },
  {
   "cell_type": "code",
   "execution_count": null,
   "metadata": {
    "collapsed": false
   },
   "outputs": [],
   "source": [
    "s1par = S12Params(tmin=0*units.mus, tmax=640*units.mus, lmin=6, lmax=40, stride=10, rebin=False)"
   ]
  },
  {
   "cell_type": "code",
   "execution_count": null,
   "metadata": {
    "collapsed": false
   },
   "outputs": [],
   "source": [
    "s1_ene, s1_indx = cpf.wfzs(csum_mau, threshold=0.5)\n",
    "S1 =  cpf.find_S12(s1_ene, s1_indx, **s1par._asdict())"
   ]
  },
  {
   "cell_type": "code",
   "execution_count": null,
   "metadata": {
    "collapsed": false
   },
   "outputs": [],
   "source": [
    "S1"
   ]
  },
  {
   "cell_type": "code",
   "execution_count": null,
   "metadata": {
    "collapsed": false
   },
   "outputs": [],
   "source": [
    "pmf.scan_s12(S1)"
   ]
  },
  {
   "cell_type": "code",
   "execution_count": null,
   "metadata": {
    "collapsed": false
   },
   "outputs": [],
   "source": [
    "plot_s12(S1)"
   ]
  },
  {
   "cell_type": "code",
   "execution_count": null,
   "metadata": {
    "collapsed": false
   },
   "outputs": [],
   "source": [
    "s1par_PMT = S12Params(tmin=471*units.mus, tmax=474*units.mus, lmin=3, lmax=30, stride=4, rebin=False)"
   ]
  },
  {
   "cell_type": "code",
   "execution_count": null,
   "metadata": {
    "collapsed": false
   },
   "outputs": [],
   "source": [
    "PMT_S1 = {}\n",
    "    \n",
    "for pmt in pmt_active:\n",
    "    s1_ene, s1_indx = cpf.wfzs(CAL_PMT_MAU[pmt], threshold=0.1)\n",
    "    PMT_S1[pmt] = cpf.find_S12(s1_ene, s1_indx, **s1par_PMT._asdict())"
   ]
  },
  {
   "cell_type": "code",
   "execution_count": null,
   "metadata": {
    "collapsed": false
   },
   "outputs": [],
   "source": [
    "PMT_S1"
   ]
  },
  {
   "cell_type": "code",
   "execution_count": null,
   "metadata": {
    "collapsed": false
   },
   "outputs": [],
   "source": [
    "compare_S1(S1, PMT_S1)"
   ]
  },
  {
   "cell_type": "code",
   "execution_count": null,
   "metadata": {
    "collapsed": false
   },
   "outputs": [],
   "source": [
    "s2_par = S12Params(tmin=640*units.mus, tmax=800*units.mus, stride=40, lmin=80, lmax=20000, rebin=True)"
   ]
  },
  {
   "cell_type": "code",
   "execution_count": null,
   "metadata": {
    "collapsed": false
   },
   "outputs": [],
   "source": [
    "s2_ene, s2_indx = cpf.wfzs(csum, threshold=0.5)\n",
    "S2              = cpf.find_S12(s2_ene, s2_indx, **s2_par._asdict())"
   ]
  },
  {
   "cell_type": "code",
   "execution_count": null,
   "metadata": {
    "collapsed": false
   },
   "outputs": [],
   "source": [
    "S2"
   ]
  },
  {
   "cell_type": "code",
   "execution_count": null,
   "metadata": {
    "collapsed": false
   },
   "outputs": [],
   "source": [
    "def plot_s12(S12):\n",
    "    \"\"\"Plot the peaks of input S12.\n",
    "\n",
    "    S12 is a dictionary\n",
    "    S12[i] for i in keys() are the S12 peaks\n",
    "    \"\"\"\n",
    "    plt.figure(figsize=(10, 10))\n",
    "    mpl.set_plot_labels(xlabel = \"t (mus)\",\n",
    "                    ylabel = \"S12 (pes)\")\n",
    "    xy = len(S12)\n",
    "    if xy == 1:\n",
    "        t = S12[0][0]\n",
    "        E = S12[0][1]\n",
    "        ax1 = plt.subplot(1, 1, 1)\n",
    "        plt.plot(t, E)\n",
    "    else:\n",
    "        x = 3\n",
    "        y = xy/x\n",
    "        if y % xy != 0:\n",
    "            y = int(xy/x) + 1\n",
    "        for i in S12.keys():\n",
    "            ax1 =  plt.subplot(x, y, i+1)\n",
    "            t = S12[i][0]\n",
    "            E = S12[i][1]\n",
    "            plt.plot(t, E)\n"
   ]
  },
  {
   "cell_type": "code",
   "execution_count": null,
   "metadata": {
    "collapsed": false
   },
   "outputs": [],
   "source": [
    "pmf.scan_s12(S2)"
   ]
  },
  {
   "cell_type": "code",
   "execution_count": null,
   "metadata": {
    "collapsed": false
   },
   "outputs": [],
   "source": [
    "sipm = cpf.signal_sipm(sipmrwf[event], adc_to_pes_sipm, thr=3.5*units.pes, n_MAU=100)\n",
    "SIPM = cpf.select_sipm(sipm)\n",
    "S2Si = pf.sipm_s2_dict(SIPM, S2, thr=5*units.pes)"
   ]
  },
  {
   "cell_type": "code",
   "execution_count": null,
   "metadata": {
    "collapsed": false
   },
   "outputs": [],
   "source": [
    "S2Si"
   ]
  },
  {
   "cell_type": "code",
   "execution_count": null,
   "metadata": {
    "collapsed": false
   },
   "outputs": [],
   "source": [
    "len(S2Si)"
   ]
  },
  {
   "cell_type": "code",
   "execution_count": null,
   "metadata": {
    "collapsed": false
   },
   "outputs": [],
   "source": [
    "def charge_and_position(s2si):\n",
    "        \"\"\"\n",
    "        Charge and position from S2Si\n",
    "        \"\"\"\n",
    "        xsipm = []\n",
    "        ysipm = []\n",
    "        Q = []\n",
    "        \n",
    "        for key, value in s2si.items():\n",
    "            xsipm.append(xs[key])\n",
    "            ysipm.append(ys[key])\n",
    "            Q.append(np.sum(value))\n",
    "        return np.array(xsipm), np.array(ysipm), np.array(Q)"
   ]
  },
  {
   "cell_type": "code",
   "execution_count": null,
   "metadata": {
    "collapsed": false
   },
   "outputs": [],
   "source": [
    "xsipm, ysipm, Q = charge_and_position(S2Si[0])"
   ]
  },
  {
   "cell_type": "code",
   "execution_count": null,
   "metadata": {
    "collapsed": false
   },
   "outputs": [],
   "source": [
    "X    = np.average(xsipm, weights=Q) if np.any(Q) else np.nan\n",
    "Y    = np.average(ysipm, weights=Q) if np.any(Q) else np.nan\n",
    "R    = (X**2 + Y**2)**0.5 if np.any(Q) else np.nan\n",
    "Phi  = np.arctan2(Y, X) if np.any(Q) else np.nan"
   ]
  },
  {
   "cell_type": "code",
   "execution_count": null,
   "metadata": {
    "collapsed": false
   },
   "outputs": [],
   "source": [
    "print(X,Y,R,Phi)"
   ]
  },
  {
   "cell_type": "code",
   "execution_count": null,
   "metadata": {
    "collapsed": false
   },
   "outputs": [],
   "source": [
    "def plot_s2si_map(S2Si, cmap='Blues'):\n",
    "        \"\"\"Plot a map of the energies of S2Si objects.\"\"\"\n",
    "        from   invisible_cities.core.mpl_functions import circles\n",
    "\n",
    "        DataSensor = load_db.DataSiPM()\n",
    "        radius = 3\n",
    "        xs = DataSensor.X.values\n",
    "        ys = DataSensor.Y.values\n",
    "        r = np.ones(len(xs)) * radius\n",
    "        col = np.zeros(len(xs))\n",
    "        for sipm in S2Si.values():\n",
    "            for nsipm, E in sipm.items():\n",
    "                ene = np.sum(E)\n",
    "                col[nsipm] = ene\n",
    "        plt.figure(figsize=(8, 8))\n",
    "        plt.subplot(aspect=\"equal\")\n",
    "        circles(xs, ys, r, c=col, alpha=0.5, ec=\"none\", cmap=cmap)\n",
    "        plt.colorbar()\n",
    "\n",
    "        plt.xlim(-198, 198)\n",
    "        plt.ylim(-198, 198)"
   ]
  },
  {
   "cell_type": "code",
   "execution_count": null,
   "metadata": {
    "collapsed": false
   },
   "outputs": [],
   "source": [
    "plot_s2si_map(S2Si)"
   ]
  },
  {
   "cell_type": "code",
   "execution_count": null,
   "metadata": {
    "collapsed": true
   },
   "outputs": [],
   "source": []
  }
 ],
 "metadata": {
  "anaconda-cloud": {},
  "kernelspec": {
   "display_name": "Python 3",
   "language": "python",
   "name": "python3"
  },
  "language_info": {
   "codemirror_mode": {
    "name": "ipython",
    "version": 3
   },
   "file_extension": ".py",
   "mimetype": "text/x-python",
   "name": "python",
   "nbconvert_exporter": "python",
   "pygments_lexer": "ipython3",
   "version": "3.6.0"
  }
 },
 "nbformat": 4,
 "nbformat_minor": 0
}
