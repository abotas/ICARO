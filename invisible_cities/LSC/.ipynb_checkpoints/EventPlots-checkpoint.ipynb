{
 "cells": [
  {
   "cell_type": "code",
   "execution_count": 1,
   "metadata": {
    "collapsed": false
   },
   "outputs": [
    {
     "name": "stdout",
     "output_type": "stream",
     "text": [
      "2017-04-04 00:51:37\n"
     ]
    }
   ],
   "source": [
    "import datetime\n",
    "print(datetime.datetime.now().strftime('%Y-%m-%d %H:%M:%S'))"
   ]
  },
  {
   "cell_type": "code",
   "execution_count": 2,
   "metadata": {
    "collapsed": false
   },
   "outputs": [],
   "source": [
    "%gui qt\n",
    "%load_ext autoreload\n",
    "%autoreload 2"
   ]
  },
  {
   "cell_type": "code",
   "execution_count": 3,
   "metadata": {
    "collapsed": false
   },
   "outputs": [],
   "source": [
    "import sys\n",
    "import os\n",
    "import time\n",
    "import tables as tb\n",
    "import numpy as np"
   ]
  },
  {
   "cell_type": "code",
   "execution_count": 4,
   "metadata": {
    "collapsed": false
   },
   "outputs": [],
   "source": [
    "from invisible_cities.database import load_db"
   ]
  },
  {
   "cell_type": "code",
   "execution_count": 5,
   "metadata": {
    "collapsed": false
   },
   "outputs": [],
   "source": [
    "import invisible_cities.reco.tbl_functions as tbl\n",
    "import invisible_cities.reco.wfm_functions as wfm\n",
    "import invisible_cities.sierpe.blr as blr\n",
    "import invisible_cities.reco.peak_functions_c as cpf\n",
    "from invisible_cities.core.mpl_functions import set_plot_labels\n",
    "from invisible_cities.reco.params import S12Params, ThresholdParams\n",
    "from   invisible_cities.core.system_of_units_c import units"
   ]
  },
  {
   "cell_type": "code",
   "execution_count": 6,
   "metadata": {
    "collapsed": false
   },
   "outputs": [],
   "source": [
    "from plot_functions import plot_pmt_waveforms, plot_pmt_signals_vs_time_mus, plot_signal_vs_time_mus,\\\n",
    "                           plot_s12, hist_1d"
   ]
  },
  {
   "cell_type": "code",
   "execution_count": 7,
   "metadata": {
    "collapsed": false
   },
   "outputs": [],
   "source": [
    "from event_pmaps import EventPmaps, print_s12, print_s2si"
   ]
  },
  {
   "cell_type": "code",
   "execution_count": 8,
   "metadata": {
    "collapsed": false
   },
   "outputs": [],
   "source": [
    "run_number = 3389"
   ]
  },
  {
   "cell_type": "code",
   "execution_count": 9,
   "metadata": {
    "collapsed": false
   },
   "outputs": [],
   "source": [
    "DataPMT = load_db.DataPMT(run_number)"
   ]
  },
  {
   "cell_type": "code",
   "execution_count": 10,
   "metadata": {
    "collapsed": false
   },
   "outputs": [
    {
     "data": {
      "text/html": [
       "<div>\n",
       "<table border=\"1\" class=\"dataframe\">\n",
       "  <thead>\n",
       "    <tr style=\"text-align: right;\">\n",
       "      <th></th>\n",
       "      <th>SensorID</th>\n",
       "      <th>ChannelID</th>\n",
       "      <th>PmtID</th>\n",
       "      <th>Active</th>\n",
       "      <th>X</th>\n",
       "      <th>Y</th>\n",
       "      <th>coeff_blr</th>\n",
       "      <th>coeff_c</th>\n",
       "      <th>adc_to_pes</th>\n",
       "      <th>noise_rms</th>\n",
       "      <th>Sigma</th>\n",
       "    </tr>\n",
       "  </thead>\n",
       "  <tbody>\n",
       "    <tr>\n",
       "      <th>0</th>\n",
       "      <td>0</td>\n",
       "      <td>22</td>\n",
       "      <td>PMT1</td>\n",
       "      <td>1</td>\n",
       "      <td>-23.9414</td>\n",
       "      <td>65.7785</td>\n",
       "      <td>0.00080</td>\n",
       "      <td>0.000001</td>\n",
       "      <td>25.39</td>\n",
       "      <td>0.7160</td>\n",
       "      <td>9.474</td>\n",
       "    </tr>\n",
       "    <tr>\n",
       "      <th>1</th>\n",
       "      <td>1</td>\n",
       "      <td>18</td>\n",
       "      <td>PMT3</td>\n",
       "      <td>1</td>\n",
       "      <td>-44.9951</td>\n",
       "      <td>-53.6231</td>\n",
       "      <td>0.00080</td>\n",
       "      <td>0.000001</td>\n",
       "      <td>26.49</td>\n",
       "      <td>0.8744</td>\n",
       "      <td>10.510</td>\n",
       "    </tr>\n",
       "    <tr>\n",
       "      <th>2</th>\n",
       "      <td>2</td>\n",
       "      <td>23</td>\n",
       "      <td>PMT2</td>\n",
       "      <td>1</td>\n",
       "      <td>68.9365</td>\n",
       "      <td>-12.1554</td>\n",
       "      <td>0.00080</td>\n",
       "      <td>0.000001</td>\n",
       "      <td>27.74</td>\n",
       "      <td>0.7303</td>\n",
       "      <td>9.031</td>\n",
       "    </tr>\n",
       "    <tr>\n",
       "      <th>3</th>\n",
       "      <td>3</td>\n",
       "      <td>0</td>\n",
       "      <td>PMT4</td>\n",
       "      <td>1</td>\n",
       "      <td>0.0000</td>\n",
       "      <td>185.0000</td>\n",
       "      <td>0.00161</td>\n",
       "      <td>0.000003</td>\n",
       "      <td>25.17</td>\n",
       "      <td>0.7060</td>\n",
       "      <td>8.720</td>\n",
       "    </tr>\n",
       "    <tr>\n",
       "      <th>4</th>\n",
       "      <td>4</td>\n",
       "      <td>31</td>\n",
       "      <td>PMTC</td>\n",
       "      <td>1</td>\n",
       "      <td>-118.9160</td>\n",
       "      <td>141.7180</td>\n",
       "      <td>0.00160</td>\n",
       "      <td>0.000003</td>\n",
       "      <td>26.56</td>\n",
       "      <td>0.7000</td>\n",
       "      <td>8.910</td>\n",
       "    </tr>\n",
       "    <tr>\n",
       "      <th>5</th>\n",
       "      <td>5</td>\n",
       "      <td>8</td>\n",
       "      <td>PMTB</td>\n",
       "      <td>1</td>\n",
       "      <td>-182.1890</td>\n",
       "      <td>32.1249</td>\n",
       "      <td>0.00161</td>\n",
       "      <td>0.000003</td>\n",
       "      <td>21.55</td>\n",
       "      <td>0.7278</td>\n",
       "      <td>6.900</td>\n",
       "    </tr>\n",
       "    <tr>\n",
       "      <th>6</th>\n",
       "      <td>6</td>\n",
       "      <td>5</td>\n",
       "      <td>PMTA</td>\n",
       "      <td>1</td>\n",
       "      <td>-160.2150</td>\n",
       "      <td>-92.5000</td>\n",
       "      <td>0.00161</td>\n",
       "      <td>0.000003</td>\n",
       "      <td>23.86</td>\n",
       "      <td>0.7323</td>\n",
       "      <td>7.860</td>\n",
       "    </tr>\n",
       "    <tr>\n",
       "      <th>7</th>\n",
       "      <td>7</td>\n",
       "      <td>4</td>\n",
       "      <td>PMT9</td>\n",
       "      <td>1</td>\n",
       "      <td>-63.2737</td>\n",
       "      <td>-173.8430</td>\n",
       "      <td>0.00161</td>\n",
       "      <td>0.000003</td>\n",
       "      <td>33.57</td>\n",
       "      <td>0.7206</td>\n",
       "      <td>11.750</td>\n",
       "    </tr>\n",
       "    <tr>\n",
       "      <th>8</th>\n",
       "      <td>8</td>\n",
       "      <td>1</td>\n",
       "      <td>PMT8</td>\n",
       "      <td>1</td>\n",
       "      <td>63.2737</td>\n",
       "      <td>-173.8430</td>\n",
       "      <td>0.00162</td>\n",
       "      <td>0.000003</td>\n",
       "      <td>22.15</td>\n",
       "      <td>0.7213</td>\n",
       "      <td>7.070</td>\n",
       "    </tr>\n",
       "    <tr>\n",
       "      <th>9</th>\n",
       "      <td>10</td>\n",
       "      <td>27</td>\n",
       "      <td>PMT6</td>\n",
       "      <td>1</td>\n",
       "      <td>182.1890</td>\n",
       "      <td>32.1249</td>\n",
       "      <td>0.00080</td>\n",
       "      <td>0.000001</td>\n",
       "      <td>20.83</td>\n",
       "      <td>0.7921</td>\n",
       "      <td>6.780</td>\n",
       "    </tr>\n",
       "    <tr>\n",
       "      <th>10</th>\n",
       "      <td>11</td>\n",
       "      <td>26</td>\n",
       "      <td>PMT5</td>\n",
       "      <td>1</td>\n",
       "      <td>118.9160</td>\n",
       "      <td>141.7180</td>\n",
       "      <td>0.00080</td>\n",
       "      <td>0.000001</td>\n",
       "      <td>23.78</td>\n",
       "      <td>0.8660</td>\n",
       "      <td>8.050</td>\n",
       "    </tr>\n",
       "    <tr>\n",
       "      <th>11</th>\n",
       "      <td>9</td>\n",
       "      <td>30</td>\n",
       "      <td>PMT7</td>\n",
       "      <td>0</td>\n",
       "      <td>160.2150</td>\n",
       "      <td>-92.5000</td>\n",
       "      <td>0.00000</td>\n",
       "      <td>0.000000</td>\n",
       "      <td>0.00</td>\n",
       "      <td>0.0000</td>\n",
       "      <td>0.000</td>\n",
       "    </tr>\n",
       "  </tbody>\n",
       "</table>\n",
       "</div>"
      ],
      "text/plain": [
       "    SensorID  ChannelID PmtID  Active         X         Y  coeff_blr  \\\n",
       "0          0         22  PMT1       1  -23.9414   65.7785    0.00080   \n",
       "1          1         18  PMT3       1  -44.9951  -53.6231    0.00080   \n",
       "2          2         23  PMT2       1   68.9365  -12.1554    0.00080   \n",
       "3          3          0  PMT4       1    0.0000  185.0000    0.00161   \n",
       "4          4         31  PMTC       1 -118.9160  141.7180    0.00160   \n",
       "5          5          8  PMTB       1 -182.1890   32.1249    0.00161   \n",
       "6          6          5  PMTA       1 -160.2150  -92.5000    0.00161   \n",
       "7          7          4  PMT9       1  -63.2737 -173.8430    0.00161   \n",
       "8          8          1  PMT8       1   63.2737 -173.8430    0.00162   \n",
       "9         10         27  PMT6       1  182.1890   32.1249    0.00080   \n",
       "10        11         26  PMT5       1  118.9160  141.7180    0.00080   \n",
       "11         9         30  PMT7       0  160.2150  -92.5000    0.00000   \n",
       "\n",
       "     coeff_c  adc_to_pes  noise_rms   Sigma  \n",
       "0   0.000001       25.39     0.7160   9.474  \n",
       "1   0.000001       26.49     0.8744  10.510  \n",
       "2   0.000001       27.74     0.7303   9.031  \n",
       "3   0.000003       25.17     0.7060   8.720  \n",
       "4   0.000003       26.56     0.7000   8.910  \n",
       "5   0.000003       21.55     0.7278   6.900  \n",
       "6   0.000003       23.86     0.7323   7.860  \n",
       "7   0.000003       33.57     0.7206  11.750  \n",
       "8   0.000003       22.15     0.7213   7.070  \n",
       "9   0.000001       20.83     0.7921   6.780  \n",
       "10  0.000001       23.78     0.8660   8.050  \n",
       "11  0.000000        0.00     0.0000   0.000  "
      ]
     },
     "execution_count": 10,
     "metadata": {},
     "output_type": "execute_result"
    }
   ],
   "source": [
    "DataPMT"
   ]
  },
  {
   "cell_type": "code",
   "execution_count": null,
   "metadata": {
    "collapsed": false
   },
   "outputs": [],
   "source": []
  },
  {
   "cell_type": "code",
   "execution_count": 11,
   "metadata": {
    "collapsed": false
   },
   "outputs": [],
   "source": [
    "from PyQt5 import QtCore, QtWidgets, uic\n",
    "from matplotlib.backends.backend_qt5agg import (\n",
    "    FigureCanvasQTAgg as FigureCanvas,\n",
    "    NavigationToolbar2QT as NavigationToolbar)\n",
    "from matplotlib.figure import Figure\n",
    "\n",
    "from PyQt5.uic import loadUiType\n",
    "\n",
    "\n",
    "qtCreatorFile = \"event_maps.ui\" # Enter file here.\n",
    "Ui_MainWindow, QMainWindow = loadUiType(qtCreatorFile)"
   ]
  },
  {
   "cell_type": "code",
   "execution_count": 12,
   "metadata": {
    "collapsed": false
   },
   "outputs": [],
   "source": [
    "class QtGui(QMainWindow, Ui_MainWindow):\n",
    "    def __init__(self, ):\n",
    "        super(QtGui, self).__init__()\n",
    "        self.setupUi(self)\n",
    "        \n",
    "        self.fig_dict = {}\n",
    "        self.mplfigs.itemClicked.connect(self.change_figure)\n",
    "\n",
    "        fig = Figure()\n",
    "        self.add_mpl(fig)\n",
    "\n",
    "    def add_figure(self, name, fig):\n",
    "        test_key = self.fig_dict.pop(name, None)\n",
    "        self.fig_dict[name] = fig\n",
    "        if not test_key: # key not in dict\n",
    "            self.mplfigs.addItem(name)\n",
    "\n",
    "    def change_figure(self, item):\n",
    "        text = item.text()\n",
    "        self.rm_mpl()\n",
    "        self.add_mpl(self.fig_dict[text])\n",
    "\n",
    "    def add_mpl(self, fig):\n",
    "        self.canvas = FigureCanvas(fig)\n",
    "        self.mplvl.addWidget(self.canvas)\n",
    "        self.canvas.draw()\n",
    "        self.toolbar = NavigationToolbar(self.canvas,\n",
    "                self.mplwindow, coordinates=True)\n",
    "        self.mplvl.addWidget(self.toolbar)\n",
    "\n",
    "    def rm_mpl(self,):\n",
    "        self.mplvl.removeWidget(self.canvas)\n",
    "        self.canvas.close()\n",
    "        self.mplvl.removeWidget(self.toolbar)\n",
    "        self.toolbar.close()\n",
    "\n"
   ]
  },
  {
   "cell_type": "code",
   "execution_count": 27,
   "metadata": {
    "collapsed": false
   },
   "outputs": [],
   "source": [
    "RWF_file = os.path.join(os.environ['IC_DATA'],'LSC/3389/dst_waves.gdcsnext.000_3389.root.h5')\n"
   ]
  },
  {
   "cell_type": "code",
   "execution_count": 28,
   "metadata": {
    "collapsed": false
   },
   "outputs": [],
   "source": [
    "h5rwf = tb.open_file(RWF_file,'r')"
   ]
  },
  {
   "cell_type": "code",
   "execution_count": 29,
   "metadata": {
    "collapsed": false
   },
   "outputs": [],
   "source": [
    "pmtrwf, pmtblr, sipmrwf = tbl.get_vectors(h5rwf)"
   ]
  },
  {
   "cell_type": "code",
   "execution_count": 30,
   "metadata": {
    "collapsed": false
   },
   "outputs": [
    {
     "name": "stdout",
     "output_type": "stream",
     "text": [
      "\n",
      "        Number of events in file = 163\n",
      "        Number of PMTs = 12\n",
      "        PMTWL = 52000\n",
      "        Number of SiPMs = 1792\n",
      "        SiPMWL = 1300\n",
      "      \n"
     ]
    }
   ],
   "source": [
    "NEVT, NPMT, PMTWL = pmtrwf.shape\n",
    "NEVT, NSIPM, SIPMWL = sipmrwf.shape\n",
    "print(\"\"\"\n",
    "        Number of events in file = {}\n",
    "        Number of PMTs = {}\n",
    "        PMTWL = {}\n",
    "        Number of SiPMs = {}\n",
    "        SiPMWL = {}\n",
    "      \"\"\".format(NEVT, NPMT, PMTWL,NSIPM, SIPMWL))"
   ]
  },
  {
   "cell_type": "code",
   "execution_count": 31,
   "metadata": {
    "collapsed": false
   },
   "outputs": [],
   "source": [
    "s1par  = S12Params(tmin=0*units.mus, tmax=640*units.mus, lmin=6, lmax=20, stride=4, rebin=False)\n",
    "s2par = S12Params(tmin=640*units.mus, tmax=800*units.mus, stride=40, lmin=80, lmax=20000, rebin=True)\n",
    "thr    = ThresholdParams(thr_s1=0.5 * units.pes,  thr_s2=1 *units.pes,\n",
    "                        thr_MAU = 3 * units.adc, thr_sipm = 3.5 * units.pes,\n",
    "                        thr_SIPM = 20 * units.adc)"
   ]
  },
  {
   "cell_type": "code",
   "execution_count": 32,
   "metadata": {
    "collapsed": false
   },
   "outputs": [],
   "source": [
    "gui=QtGui()\n",
    "gui.show()\n",
    "\n",
    "epm = EventPmaps(run_number,\n",
    "                 s1par, s2par, thr,\n",
    "                 verbose=True)"
   ]
  },
  {
   "cell_type": "code",
   "execution_count": 33,
   "metadata": {
    "collapsed": false
   },
   "outputs": [
    {
     "data": {
      "text/plain": [
       "7477.3421116275758"
      ]
     },
     "execution_count": 33,
     "metadata": {},
     "output_type": "execute_result"
    }
   ],
   "source": [
    "event=0\n",
    "epm.calibrated_pmt_and_csum(event, pmtrwf)"
   ]
  },
  {
   "cell_type": "code",
   "execution_count": 34,
   "metadata": {
    "collapsed": false
   },
   "outputs": [],
   "source": [
    "gui.add_figure('CWF-event-{}'.format(event), \n",
    "                plot_pmt_signals_vs_time_mus(epm.CWF,\n",
    "                                             epm.P.pmt_active,\n",
    "                                             t_min      =    0,\n",
    "                                             t_max      = 1300,\n",
    "                                             signal_min =    -5,\n",
    "                                             signal_max =  250))"
   ]
  },
  {
   "cell_type": "code",
   "execution_count": 35,
   "metadata": {
    "collapsed": false
   },
   "outputs": [],
   "source": [
    "gui.add_figure('PMTs-event-{}'.format(event), \n",
    "                plot_pmt_signals_vs_time_mus(epm.CAL_PMT,\n",
    "                                             epm.P.pmt_active,\n",
    "                                             t_min      =    0,\n",
    "                                             t_max      = 1300,\n",
    "                                             signal_min =    -5,\n",
    "                                             signal_max =  200))"
   ]
  },
  {
   "cell_type": "code",
   "execution_count": null,
   "metadata": {
    "collapsed": false
   },
   "outputs": [],
   "source": []
  }
 ],
 "metadata": {
  "kernelspec": {
   "display_name": "Python 3",
   "language": "python",
   "name": "python3"
  },
  "language_info": {
   "codemirror_mode": {
    "name": "ipython",
    "version": 3
   },
   "file_extension": ".py",
   "mimetype": "text/x-python",
   "name": "python",
   "nbconvert_exporter": "python",
   "pygments_lexer": "ipython3",
   "version": "3.6.0"
  }
 },
 "nbformat": 4,
 "nbformat_minor": 2
}
