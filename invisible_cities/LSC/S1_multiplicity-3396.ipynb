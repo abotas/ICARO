{
 "cells": [
  {
   "cell_type": "markdown",
   "metadata": {
    "collapsed": false
   },
   "source": [
    "# S1 Multiplicity\n",
    ".... background and bullshit"
   ]
  },
  {
   "cell_type": "code",
   "execution_count": null,
   "metadata": {
    "collapsed": true
   },
   "outputs": [],
   "source": []
  },
  {
   "cell_type": "code",
   "execution_count": 83,
   "metadata": {
    "collapsed": false
   },
   "outputs": [],
   "source": [
    "import datetime"
   ]
  },
  {
   "cell_type": "code",
   "execution_count": 84,
   "metadata": {
    "collapsed": false
   },
   "outputs": [
    {
     "name": "stdout",
     "output_type": "stream",
     "text": [
      "2017-03-29 17:03:05\n"
     ]
    }
   ],
   "source": [
    "print(datetime.datetime.now().strftime('%Y-%m-%d %H:%M:%S'))"
   ]
  },
  {
   "cell_type": "code",
   "execution_count": 85,
   "metadata": {
    "collapsed": false
   },
   "outputs": [],
   "source": [
    "from __future__ import print_function\n",
    "import sys\n",
    "import os\n",
    "from glob import glob\n",
    "from time import time"
   ]
  },
  {
   "cell_type": "code",
   "execution_count": 86,
   "metadata": {
    "collapsed": false
   },
   "outputs": [
    {
     "name": "stdout",
     "output_type": "stream",
     "text": [
      "The autoreload extension is already loaded. To reload it, use:\n",
      "  %reload_ext autoreload\n"
     ]
    }
   ],
   "source": [
    "%matplotlib inline\n",
    "%load_ext autoreload\n",
    "%autoreload 2\n",
    "import matplotlib.pyplot as plt\n",
    "import pandas as pd\n",
    "import tables as tb\n",
    "import numpy as np\n",
    "import math"
   ]
  },
  {
   "cell_type": "code",
   "execution_count": 87,
   "metadata": {
    "collapsed": false
   },
   "outputs": [],
   "source": [
    "from invisible_cities.database import load_db\n",
    "import invisible_cities.sierpe.blr as blr\n",
    "import invisible_cities.core.mpl_functions as mpl\n",
    "import invisible_cities.reco.wfm_functions as wfm\n",
    "import invisible_cities.reco.tbl_functions as tbl\n",
    "import invisible_cities.reco.peak_functions_c as cpf\n",
    "import invisible_cities.reco.peak_functions as pf\n",
    "import invisible_cities.reco.pmaps_functions as pmf"
   ]
  },
  {
   "cell_type": "code",
   "execution_count": 88,
   "metadata": {
    "collapsed": false
   },
   "outputs": [],
   "source": [
    "from invisible_cities.reco.pmap_io import pmap_writer, S12, S2Si\n",
    "\n",
    "from invisible_cities.core.configure import configure, print_configuration\n",
    "\n",
    "from invisible_cities.core.system_of_units_c import units\n",
    "from invisible_cities.cities.base_cities import PmapCity, SensorParams\n",
    "from invisible_cities.cities.base_cities import S12Params as S12P"
   ]
  },
  {
   "cell_type": "code",
   "execution_count": 89,
   "metadata": {
    "collapsed": false
   },
   "outputs": [],
   "source": [
    "from invisible_cities.core.core_functions import define_window\n",
    "from invisible_cities.core.core_functions import lrange\n",
    "from collections import namedtuple"
   ]
  },
  {
   "cell_type": "code",
   "execution_count": 90,
   "metadata": {
    "collapsed": false
   },
   "outputs": [],
   "source": [
    "from invisible_cities.reco.params import S12Params, ThresholdParams, CalibratedSum, PMaps,\\\n",
    "                                         SensorParams, CalibParams, PmapParams, CalibratedPMT, S1PMaps"
   ]
  },
  {
   "cell_type": "code",
   "execution_count": 91,
   "metadata": {
    "collapsed": false
   },
   "outputs": [],
   "source": [
    "from matplotlib.figure import Figure"
   ]
  },
  {
   "cell_type": "code",
   "execution_count": 92,
   "metadata": {
    "collapsed": false
   },
   "outputs": [
    {
     "name": "stdout",
     "output_type": "stream",
     "text": [
      "The Cython extension is already loaded. To reload it, use:\n",
      "  %reload_ext Cython\n"
     ]
    }
   ],
   "source": [
    "%load_ext Cython"
   ]
  },
  {
   "cell_type": "code",
   "execution_count": 93,
   "metadata": {
    "collapsed": false
   },
   "outputs": [],
   "source": [
    "from event_pmaps import compare_S1_ext"
   ]
  },
  {
   "cell_type": "markdown",
   "metadata": {},
   "source": [
    "### Input"
   ]
  },
  {
   "cell_type": "code",
   "execution_count": 94,
   "metadata": {
    "collapsed": true
   },
   "outputs": [],
   "source": [
    "run_number=3396\n",
    "#run_number=0"
   ]
  },
  {
   "cell_type": "code",
   "execution_count": 95,
   "metadata": {
    "collapsed": false
   },
   "outputs": [],
   "source": [
    "ic_data = os.path.join(os.environ['IC_DATA'])\n",
    "files  = glob(ic_data + 'LSC/' + str(run_number) + '/' +  'dst_waves.gdcsnext.*_3396.root.h5')\n",
    "#files  = [ic_data + 'Montecarlo/' + 'dst_NEXT_v0_08_09_Kr_ACTIVE_0_0_7bar_RWF_10000.root.h5']"
   ]
  },
  {
   "cell_type": "code",
   "execution_count": 96,
   "metadata": {
    "collapsed": false
   },
   "outputs": [
    {
     "name": "stdout",
     "output_type": "stream",
     "text": [
      "['/Users/alej/Desktop/IC_DATA/LSC/3396/dst_waves.gdcsnext.000_3396.root.h5', '/Users/alej/Desktop/IC_DATA/LSC/3396/dst_waves.gdcsnext.001_3396.root.h5', '/Users/alej/Desktop/IC_DATA/LSC/3396/dst_waves.gdcsnext.002_3396.root.h5', '/Users/alej/Desktop/IC_DATA/LSC/3396/dst_waves.gdcsnext.003_3396.root.h5', '/Users/alej/Desktop/IC_DATA/LSC/3396/dst_waves.gdcsnext.004_3396.root.h5', '/Users/alej/Desktop/IC_DATA/LSC/3396/dst_waves.gdcsnext.005_3396.root.h5', '/Users/alej/Desktop/IC_DATA/LSC/3396/dst_waves.gdcsnext.006_3396.root.h5', '/Users/alej/Desktop/IC_DATA/LSC/3396/dst_waves.gdcsnext.007_3396.root.h5', '/Users/alej/Desktop/IC_DATA/LSC/3396/dst_waves.gdcsnext.008_3396.root.h5', '/Users/alej/Desktop/IC_DATA/LSC/3396/dst_waves.gdcsnext.009_3396.root.h5', '/Users/alej/Desktop/IC_DATA/LSC/3396/dst_waves.gdcsnext.010_3396.root.h5', '/Users/alej/Desktop/IC_DATA/LSC/3396/dst_waves.gdcsnext.011_3396.root.h5']\n"
     ]
    }
   ],
   "source": [
    "print(files)"
   ]
  },
  {
   "cell_type": "markdown",
   "metadata": {
    "collapsed": false
   },
   "source": [
    "### pmtrwf and sipmrwf vectors"
   ]
  },
  {
   "cell_type": "markdown",
   "metadata": {
    "collapsed": false
   },
   "source": [
    "To get vectors use **get_vectors(file)** in tbl_functions"
   ]
  },
  {
   "cell_type": "code",
   "execution_count": 97,
   "metadata": {
    "collapsed": false
   },
   "outputs": [],
   "source": [
    "def _calib_vectors(self):\n",
    "        \"\"\"Provisional fix for calib vectors\"\"\"\n",
    "        channel_id = np.array([0,1,4,5,8,18,22,23,26,27,30])\n",
    "        coeff_blr = np.array([1.61,1.62,1.61,1.61,1.61,\n",
    "                          0.8,0.8,0.8,0.8,0.8,1.60,\n",
    "                          1.0]) * 0.001\n",
    "        coeff_c = np.array([2.94,2.75,3.09,2.81,2.88,\n",
    "                        1.,1.,1.,1.,1.,2.76,\n",
    "                        1.0]) * 1e-6\n",
    "        adc_to_pes = np.array([25.17,22.15,33.57,23.88,21.55,\n",
    "                           26.49,25.39,27.74,23.78,20.83,26.56,\n",
    "                           0.])\n",
    "        pmt_active = list(range(11))\n",
    "\n",
    "        DataSiPM = load_db.DataSiPM()\n",
    "        self.P   = CalibVectors(channel_id = channel_id,\n",
    "                                coeff_blr  = coeff_blr,\n",
    "                                coeff_c    = coeff_c,\n",
    "                                adc_to_pes_pmt = adc_to_pes,\n",
    "                                adc_to_pes_sipm = DataSiPM.adc_to_pes.values,\n",
    "                                pmt_active  = pmt_active)"
   ]
  },
  {
   "cell_type": "markdown",
   "metadata": {},
   "source": [
    "### S1 multiplicity"
   ]
  },
  {
   "cell_type": "code",
   "execution_count": 98,
   "metadata": {
    "collapsed": false
   },
   "outputs": [],
   "source": [
    "DataPMT = load_db.DataPMT(run_number)\n",
    "adc_to_pes = abs(DataPMT.adc_to_pes.values)\n",
    "coeff_c    = abs(DataPMT.coeff_c.values)\n",
    "coeff_blr  = abs(DataPMT.coeff_blr.values)\n",
    "DataSiPM   = load_db.DataSiPM()\n",
    "adc_to_pes_sipm = DataSiPM.adc_to_pes.values\n",
    "pmt_active = np.nonzero(DataPMT.Active.values)[0].tolist()\n",
    "xs = DataSiPM.X.values\n",
    "ys = DataSiPM.Y.values"
   ]
  },
  {
   "cell_type": "code",
   "execution_count": 107,
   "metadata": {
    "collapsed": false
   },
   "outputs": [],
   "source": [
    "multiplicity = []\n",
    "energies = []\n",
    "\n",
    "Ms = []\n",
    "\n",
    "no_m_ev = []\n",
    "#no_m_s1 = []\n",
    "\n",
    "for f in files:\n",
    "    \n",
    "    with tb.open_file(f, 'r') as h5rwf:\n",
    "\n",
    "        pmtrwf, pmtblr, sipmrwf = tbl.get_vectors(h5rwf)\n",
    "        NEVT, NPMT, PMTWL = pmtrwf.shape\n",
    "        NEVT, NSIPM, SIPMWL = sipmrwf.shape\n",
    "        \n",
    "        # QUICK FIX\n",
    "        IDs = np.append(h5rwf.root.Sensors.DataPMT[:]['sensorID'], 13)\n",
    "        order = np.argsort(IDs)\n",
    "        pmtrwf_o = np.array(pmtrwf)[:, order]\n",
    "\n",
    "        for event in range(NEVT):\n",
    "            #if len(energies) >= 1500: break\n",
    "\n",
    "            # Get cwf csum_mau\n",
    "            RWF = pmtrwf_o[event]\n",
    "            \n",
    "            CWF = blr.deconv_pmt(RWF,\n",
    "                                 coeff_c,\n",
    "                                 coeff_blr,\n",
    "                                 pmt_active,\n",
    "                                 n_baseline  = 48000,\n",
    "                                 thr_trigger = 5)\n",
    "\n",
    "            CAL_PMT, CAL_PMT_MAU = cpf.calibrated_pmt_mau(\n",
    "                                   CWF,\n",
    "                                   adc_to_pes,\n",
    "                                   pmt_active = pmt_active,\n",
    "                                   n_MAU   = 100,\n",
    "                                   thr_MAU =   3)\n",
    "            csum, csum_mau = cpf.calibrated_pmt_sum(CWF,adc_to_pes, pmt_active)\n",
    "\n",
    "            # Find s1s ## SET tmin and tmax appropriately!!\n",
    "            s1par = S12Params(tmin=0*units.mus, \n",
    "                              tmax=640*units.mus, \n",
    "                              lmin=6, lmax=40, \n",
    "                              stride=4, rebin=False)\n",
    "            s1_ene, s1_indx = cpf.wfzs(csum_mau, threshold=0.5)\n",
    "            \n",
    "            try:\n",
    "                S1 = cpf.find_S12(s1_ene, s1_indx, **s1par._asdict())\n",
    "            except IndexError:\n",
    "                if s1_ene != 0 or s1_indx !=0: \n",
    "                    print(s1_ene, s1_indx, **s1par._asdict())\n",
    "                    raise\n",
    "            \n",
    "            # Will discard evts with multiple S1s\n",
    "            if len(S1) != 1: continue\n",
    "\n",
    "            # (there can pe multiple S1s in each event)\n",
    "            for nums1, s_1 in enumerate(S1):\n",
    "\n",
    "                t_buffer = 50 * units.ns\n",
    "                # Set up params for searching individual pmt cal mau waveforms\n",
    "                s1par  = S12Params(tmin=(S1[s_1][0][ 0] - t_buffer), \n",
    "                                   tmax=(S1[s_1][0][-1] + t_buffer), \n",
    "                                   lmin=3, \n",
    "                                   lmax=40, \n",
    "                                   stride=4, \n",
    "                                   rebin=False)\n",
    "\n",
    "                # Dict for storing individual pmt s1s\n",
    "                PMT_S1 = {}      \n",
    "                for pmt in pmt_active:\n",
    "\n",
    "                    # See if there is a corresponding S1 in this PMT\n",
    "                    s1_ene, s1_indx = cpf.wfzs(CAL_PMT_MAU[pmt], threshold=0.1)\n",
    "                    try:\n",
    "                        PMT_S1[pmt] = cpf.find_S12(s1_ene, s1_indx, **s1par._asdict())\n",
    "                    except IndexError:\n",
    "                        if len(s1_ene) != 0 and len(s1_indx) != 0: \n",
    "                            print(s1_ene, s1_indx, **s1par._asdict())\n",
    "                            raise\n",
    "\n",
    "                # Record multiplicity\n",
    "                multiplicity.append(compare_S1_ext(S1, PMT_S1, peak=0, tol=0.5*units.mus))\n",
    "\n",
    "                # remember the S1's energy\n",
    "                energies.append(S1[s_1][1].sum())\n",
    "                \n",
    "                # Looking at multiple s1s from same evt is complicated\n",
    "                break\n",
    "            \n",
    "multiplicity = np.array(multiplicity) "
   ]
  },
  {
   "cell_type": "code",
   "execution_count": 108,
   "metadata": {
    "collapsed": false,
    "scrolled": true
   },
   "outputs": [
    {
     "name": "stdout",
     "output_type": "stream",
     "text": [
      "Fraction of S1s found by this PMT\n",
      "---\n",
      "PMT1 0.739910313901\n",
      "PMT3 0.792227204783\n",
      "PMT2 0.721225710015\n",
      "PMT4 0.600149476831\n",
      "PMTC 0.660687593423\n",
      "PMTB 0.733931240658\n",
      "PMTA 0.624813153961\n",
      "PMT9 0.683109118087\n",
      "PMT8 0.715246636771\n",
      "PMT6 0.653961136024\n",
      "PMT5 0.628550074738\n",
      " \n",
      "Fraction of garbage S1s found by this PMT\n",
      "(Found are 6 garbage S1s)\n",
      "---\n",
      "PMT1 0.0\n",
      "PMT3 0.333333333333\n",
      "PMT2 0.0\n",
      "PMT4 0.0\n",
      "PMTC 0.666666666667\n",
      "PMTB 0.0\n",
      "PMTA 0.0\n",
      "PMT9 0.166666666667\n",
      "PMT8 0.0\n",
      "PMT6 0.166666666667\n",
      "PMT5 0.0\n",
      " \n",
      "Fraction of garbage S1s found by this PMT / Fraction of S1s found by this PMT\n",
      "---\n",
      "PMT1 0.0\n",
      "PMT3 0.420754716981\n",
      "PMT2 0.0\n",
      "PMT4 0.0\n",
      "PMTC 1.00904977376\n",
      "PMTB 0.0\n",
      "PMTA 0.0\n",
      "PMT9 0.24398249453\n",
      "PMT8 0.0\n",
      "PMT6 0.254857142857\n",
      "PMT5 0.0\n"
     ]
    }
   ],
   "source": [
    "print('Fraction of S1s found by this PMT')\n",
    "print('---')\n",
    "Fs1s = []\n",
    "for i, s1f in enumerate(multiplicity.T):\n",
    "    \n",
    "    Fs1s.append(s1f.sum() / len(multiplicity))\n",
    "    print(DataPMT['PmtID'][i], s1f.sum() / len(multiplicity))\n",
    "    \n",
    "garbage = multiplicity[np.where(multiplicity.sum(axis=1) < 3)[0]]\n",
    "\n",
    "print(' ')\n",
    "print('Fraction of garbage S1s found by this PMT')\n",
    "print('(Found are ' + str(len(garbage)) + ' garbage S1s)')\n",
    "print('---')\n",
    "for i, s1f in enumerate(garbage.T):\n",
    "    print(DataPMT['PmtID'][i], s1f.sum() / len(garbage))\n",
    "    \n",
    "    \n",
    "print(' ')\n",
    "print('Fraction of garbage S1s found by this PMT / Fraction of S1s found by this PMT')\n",
    "print('---')    \n",
    "for i, s1f in enumerate(garbage.T):\n",
    "    print(DataPMT['PmtID'][i], s1f.sum() / len(garbage) / Fs1s[i])\n",
    "\n",
    "#print(multiplicity.sum(axis=0) / len(multiplicity)), \n",
    "#print(pmt_active)\n",
    "#print(DataPMT['PmtID'][11])"
   ]
  },
  {
   "cell_type": "code",
   "execution_count": 109,
   "metadata": {
    "collapsed": false
   },
   "outputs": [
    {
     "data": {
      "text/plain": [
       "1338"
      ]
     },
     "execution_count": 109,
     "metadata": {},
     "output_type": "execute_result"
    }
   ],
   "source": [
    "len(multiplicity)"
   ]
  },
  {
   "cell_type": "markdown",
   "metadata": {},
   "source": [
    "Sometimes it is not finding the S1"
   ]
  },
  {
   "cell_type": "code",
   "execution_count": null,
   "metadata": {
    "collapsed": true
   },
   "outputs": [],
   "source": []
  },
  {
   "cell_type": "code",
   "execution_count": 110,
   "metadata": {
    "collapsed": false
   },
   "outputs": [
    {
     "name": "stdout",
     "output_type": "stream",
     "text": [
      "0\n",
      "1338\n"
     ]
    }
   ],
   "source": [
    "print(len(no_m_ev))\n",
    "print(len(multiplicity))"
   ]
  },
  {
   "cell_type": "code",
   "execution_count": 111,
   "metadata": {
    "collapsed": false
   },
   "outputs": [],
   "source": [
    "def plot_mult_heatmap(energies, multiplicity):\n",
    "    fig = plt.figure(figsize=(20,15))\n",
    "    ax  = plt.gca()\n",
    "    \"\"\"\n",
    "    h, x, y = np.histogram2d(energies, multiplicity, bins=(range(2000), \n",
    "                             range(len(pmt_active)+2)), \n",
    "                             range=None, normed=False, weights=None)                          \n",
    "    \"\"\"\n",
    "    \n",
    "    # Adding and subtracting .5 to center bins\n",
    "    plt.hist2d(energies, multiplicity - .5, \n",
    "               bins=(len(multiplicity)*10, np.array(range(len(pmt_active) + 2)) - .5), \n",
    "               cmap='Spectral_r', normed=True)\n",
    "    ax.set_xscale('log')\n",
    "    plt.xlim(0,100)\n",
    "    plt.ylim(-.5, len(pmt_active) + .5)\n",
    "    plt.colorbar()\n",
    "    plt.xlabel('pes')\n",
    "    plt.ylabel('multiplicity')\n",
    "    plt.title('Run: ' + str(run_number))\n",
    "    plt.show()"
   ]
  },
  {
   "cell_type": "code",
   "execution_count": 112,
   "metadata": {
    "collapsed": false
   },
   "outputs": [
    {
     "data": {
      "image/png": "[encoded data removed]",
      "text/plain": [
       "<matplotlib.figure.Figure at 0x1058506d8>"
      ]
     },
     "metadata": {},
     "output_type": "display_data"
    }
   ],
   "source": [
    "plot_mult_heatmap(energies, multiplicity.sum(axis=1))"
   ]
  },
  {
   "cell_type": "code",
   "execution_count": 113,
   "metadata": {
    "collapsed": false
   },
   "outputs": [
    {
     "data": {
      "image/png": "[encoded data removed]",
      "text/plain": [
       "<matplotlib.figure.Figure at 0x11019e8d0>"
      ]
     },
     "metadata": {},
     "output_type": "display_data"
    }
   ],
   "source": [
    "plt.hist(multiplicity.sum(axis=1), bins=30 + 1, alpha=0.6, normed=True)\n",
    "plt.xlabel('multiplicity')\n",
    "plt.title(str(run_number))\n",
    "plt.show()"
   ]
  },
  {
   "cell_type": "code",
   "execution_count": 114,
   "metadata": {
    "collapsed": false
   },
   "outputs": [
    {
     "data": {
      "image/png": "[encoded data removed]",
      "text/plain": [
       "<matplotlib.figure.Figure at 0x115dc4748>"
      ]
     },
     "metadata": {},
     "output_type": "display_data"
    }
   ],
   "source": [
    "plt.hist(energies/ multiplicity.sum(axis=1), bins=np.arange(0, 10, 0.1), facecolor='red', alpha=0.6, normed=True)\n",
    "plt.grid(True)\n",
    "plt.xlabel('pes/multiplicity')\n",
    "plt.title(str(run_number))\n",
    "plt.show()"
   ]
  },
  {
   "cell_type": "code",
   "execution_count": null,
   "metadata": {
    "collapsed": true
   },
   "outputs": [],
   "source": []
  }
 ],
 "metadata": {
  "anaconda-cloud": {},
  "kernelspec": {
   "display_name": "Python 3",
   "language": "python",
   "name": "python3"
  },
  "language_info": {
   "codemirror_mode": {
    "name": "ipython",
    "version": 3
   },
   "file_extension": ".py",
   "mimetype": "text/x-python",
   "name": "python",
   "nbconvert_exporter": "python",
   "pygments_lexer": "ipython3",
   "version": "3.6.0"
  }
 },
 "nbformat": 4,
 "nbformat_minor": 0
}
