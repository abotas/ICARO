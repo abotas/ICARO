{
 "cells": [
  {
   "cell_type": "markdown",
   "metadata": {},
   "source": [
    "### Kriptonite"
   ]
  },
  {
   "cell_type": "markdown",
   "metadata": {},
   "source": [
    "A draft krypton analyis"
   ]
  },
  {
   "cell_type": "code",
   "execution_count": 1,
   "metadata": {
    "collapsed": false
   },
   "outputs": [
    {
     "name": "stdout",
     "output_type": "stream",
     "text": [
      "2017-03-24 00:19:55\n"
     ]
    }
   ],
   "source": [
    "import datetime\n",
    "print(datetime.datetime.now().strftime('%Y-%m-%d %H:%M:%S'))"
   ]
  },
  {
   "cell_type": "code",
   "execution_count": 2,
   "metadata": {
    "collapsed": false
   },
   "outputs": [],
   "source": [
    "%matplotlib inline\n",
    "%load_ext autoreload\n",
    "%autoreload 2"
   ]
  },
  {
   "cell_type": "code",
   "execution_count": 3,
   "metadata": {
    "collapsed": false
   },
   "outputs": [],
   "source": [
    "import sys\n",
    "import os\n",
    "import time\n",
    "import tables as tb\n",
    "import numpy as np\n",
    "\n",
    "import operator\n",
    "import functools\n",
    "import copy\n",
    "import glob\n",
    "\n",
    "import matplotlib.pyplot as plt"
   ]
  },
  {
   "cell_type": "code",
   "execution_count": 4,
   "metadata": {
    "collapsed": false
   },
   "outputs": [],
   "source": [
    "import invisible_cities.reco.tbl_functions as tbl\n",
    "import invisible_cities.reco.wfm_functions as wfm\n",
    "import invisible_cities.sierpe.blr as blr\n",
    "import invisible_cities.reco.peak_functions_c as cpf\n",
    "from invisible_cities.core.mpl_functions import set_plot_labels\n",
    "from invisible_cities.reco.params import S12Params, ThresholdParams\n",
    "from   invisible_cities.core.system_of_units_c import units\n",
    "from invisible_cities.database import load_db"
   ]
  },
  {
   "cell_type": "code",
   "execution_count": 10,
   "metadata": {
    "collapsed": false
   },
   "outputs": [],
   "source": [
    "from event_pmaps import EventPmaps, KrConditions, KrSelection, print_s12, print_s2si"
   ]
  },
  {
   "cell_type": "code",
   "execution_count": 11,
   "metadata": {
    "collapsed": true
   },
   "outputs": [],
   "source": [
    "from histo_functions import hist, hist2d, log_pdf, pdf, scatter, save_to_folder"
   ]
  },
  {
   "cell_type": "code",
   "execution_count": null,
   "metadata": {
    "collapsed": true
   },
   "outputs": [],
   "source": [
    "from kr_base import kr_writer"
   ]
  },
  {
   "cell_type": "raw",
   "metadata": {},
   "source": [
    "KrConditions = Enum('KrConditions',\n",
    "               's1_multiplicity s2_multiplicity si_multiplicity')\n",
    "KrSelection = namedtuple('KrSelection',\n",
    "               's1_multiplicity s2_multiplicity si_multiplicity')\n"
   ]
  },
  {
   "cell_type": "markdown",
   "metadata": {},
   "source": [
    "### run number"
   ]
  },
  {
   "cell_type": "code",
   "execution_count": 6,
   "metadata": {
    "collapsed": true
   },
   "outputs": [],
   "source": [
    "run_number=3379"
   ]
  },
  {
   "cell_type": "markdown",
   "metadata": {},
   "source": [
    "### Data base"
   ]
  },
  {
   "cell_type": "code",
   "execution_count": 7,
   "metadata": {
    "collapsed": false
   },
   "outputs": [],
   "source": [
    "DataPMT = load_db.DataPMT(run_number)\n",
    "DataSiPM = load_db.DataSiPM(run_number)"
   ]
  },
  {
   "cell_type": "code",
   "execution_count": 8,
   "metadata": {
    "collapsed": false
   },
   "outputs": [
    {
     "data": {
      "text/html": [
       "<div>\n",
       "<table border=\"1\" class=\"dataframe\">\n",
       "  <thead>\n",
       "    <tr style=\"text-align: right;\">\n",
       "      <th></th>\n",
       "      <th>SensorID</th>\n",
       "      <th>ChannelID</th>\n",
       "      <th>PmtID</th>\n",
       "      <th>Active</th>\n",
       "      <th>X</th>\n",
       "      <th>Y</th>\n",
       "      <th>coeff_blr</th>\n",
       "      <th>coeff_c</th>\n",
       "      <th>adc_to_pes</th>\n",
       "      <th>noise_rms</th>\n",
       "      <th>Sigma</th>\n",
       "    </tr>\n",
       "  </thead>\n",
       "  <tbody>\n",
       "    <tr>\n",
       "      <th>0</th>\n",
       "      <td>0</td>\n",
       "      <td>22</td>\n",
       "      <td>PMT1</td>\n",
       "      <td>1</td>\n",
       "      <td>-23.9414</td>\n",
       "      <td>65.7785</td>\n",
       "      <td>0.00080</td>\n",
       "      <td>0.000001</td>\n",
       "      <td>25.39</td>\n",
       "      <td>0.7160</td>\n",
       "      <td>9.474</td>\n",
       "    </tr>\n",
       "    <tr>\n",
       "      <th>1</th>\n",
       "      <td>1</td>\n",
       "      <td>18</td>\n",
       "      <td>PMT3</td>\n",
       "      <td>1</td>\n",
       "      <td>-44.9951</td>\n",
       "      <td>-53.6231</td>\n",
       "      <td>0.00080</td>\n",
       "      <td>0.000001</td>\n",
       "      <td>26.49</td>\n",
       "      <td>0.8744</td>\n",
       "      <td>10.510</td>\n",
       "    </tr>\n",
       "    <tr>\n",
       "      <th>2</th>\n",
       "      <td>2</td>\n",
       "      <td>23</td>\n",
       "      <td>PMT2</td>\n",
       "      <td>1</td>\n",
       "      <td>68.9365</td>\n",
       "      <td>-12.1554</td>\n",
       "      <td>0.00080</td>\n",
       "      <td>0.000001</td>\n",
       "      <td>27.74</td>\n",
       "      <td>0.7303</td>\n",
       "      <td>9.031</td>\n",
       "    </tr>\n",
       "    <tr>\n",
       "      <th>3</th>\n",
       "      <td>3</td>\n",
       "      <td>0</td>\n",
       "      <td>PMT4</td>\n",
       "      <td>1</td>\n",
       "      <td>0.0000</td>\n",
       "      <td>185.0000</td>\n",
       "      <td>0.00161</td>\n",
       "      <td>0.000003</td>\n",
       "      <td>25.17</td>\n",
       "      <td>0.7060</td>\n",
       "      <td>8.720</td>\n",
       "    </tr>\n",
       "    <tr>\n",
       "      <th>4</th>\n",
       "      <td>4</td>\n",
       "      <td>31</td>\n",
       "      <td>PMTC</td>\n",
       "      <td>1</td>\n",
       "      <td>-118.9160</td>\n",
       "      <td>141.7180</td>\n",
       "      <td>0.00160</td>\n",
       "      <td>0.000003</td>\n",
       "      <td>26.56</td>\n",
       "      <td>0.7000</td>\n",
       "      <td>8.910</td>\n",
       "    </tr>\n",
       "    <tr>\n",
       "      <th>5</th>\n",
       "      <td>5</td>\n",
       "      <td>8</td>\n",
       "      <td>PMTB</td>\n",
       "      <td>1</td>\n",
       "      <td>-182.1890</td>\n",
       "      <td>32.1249</td>\n",
       "      <td>0.00161</td>\n",
       "      <td>0.000003</td>\n",
       "      <td>21.55</td>\n",
       "      <td>0.7278</td>\n",
       "      <td>6.900</td>\n",
       "    </tr>\n",
       "    <tr>\n",
       "      <th>6</th>\n",
       "      <td>6</td>\n",
       "      <td>5</td>\n",
       "      <td>PMTA</td>\n",
       "      <td>1</td>\n",
       "      <td>-160.2150</td>\n",
       "      <td>-92.5000</td>\n",
       "      <td>0.00161</td>\n",
       "      <td>0.000003</td>\n",
       "      <td>23.86</td>\n",
       "      <td>0.7323</td>\n",
       "      <td>7.860</td>\n",
       "    </tr>\n",
       "    <tr>\n",
       "      <th>7</th>\n",
       "      <td>7</td>\n",
       "      <td>4</td>\n",
       "      <td>PMT9</td>\n",
       "      <td>1</td>\n",
       "      <td>-63.2737</td>\n",
       "      <td>-173.8430</td>\n",
       "      <td>0.00161</td>\n",
       "      <td>0.000003</td>\n",
       "      <td>33.57</td>\n",
       "      <td>0.7206</td>\n",
       "      <td>11.750</td>\n",
       "    </tr>\n",
       "    <tr>\n",
       "      <th>8</th>\n",
       "      <td>8</td>\n",
       "      <td>1</td>\n",
       "      <td>PMT8</td>\n",
       "      <td>1</td>\n",
       "      <td>63.2737</td>\n",
       "      <td>-173.8430</td>\n",
       "      <td>0.00162</td>\n",
       "      <td>0.000003</td>\n",
       "      <td>22.15</td>\n",
       "      <td>0.7213</td>\n",
       "      <td>7.070</td>\n",
       "    </tr>\n",
       "    <tr>\n",
       "      <th>9</th>\n",
       "      <td>10</td>\n",
       "      <td>27</td>\n",
       "      <td>PMT6</td>\n",
       "      <td>1</td>\n",
       "      <td>182.1890</td>\n",
       "      <td>32.1249</td>\n",
       "      <td>0.00080</td>\n",
       "      <td>0.000001</td>\n",
       "      <td>20.83</td>\n",
       "      <td>0.7921</td>\n",
       "      <td>6.780</td>\n",
       "    </tr>\n",
       "    <tr>\n",
       "      <th>10</th>\n",
       "      <td>11</td>\n",
       "      <td>26</td>\n",
       "      <td>PMT5</td>\n",
       "      <td>1</td>\n",
       "      <td>118.9160</td>\n",
       "      <td>141.7180</td>\n",
       "      <td>0.00080</td>\n",
       "      <td>0.000001</td>\n",
       "      <td>23.78</td>\n",
       "      <td>0.8660</td>\n",
       "      <td>8.050</td>\n",
       "    </tr>\n",
       "    <tr>\n",
       "      <th>11</th>\n",
       "      <td>9</td>\n",
       "      <td>30</td>\n",
       "      <td>PMT7</td>\n",
       "      <td>0</td>\n",
       "      <td>160.2150</td>\n",
       "      <td>-92.5000</td>\n",
       "      <td>0.00000</td>\n",
       "      <td>0.000000</td>\n",
       "      <td>0.00</td>\n",
       "      <td>0.0000</td>\n",
       "      <td>0.000</td>\n",
       "    </tr>\n",
       "  </tbody>\n",
       "</table>\n",
       "</div>"
      ],
      "text/plain": [
       "    SensorID  ChannelID PmtID  Active         X         Y  coeff_blr  \\\n",
       "0          0         22  PMT1       1  -23.9414   65.7785    0.00080   \n",
       "1          1         18  PMT3       1  -44.9951  -53.6231    0.00080   \n",
       "2          2         23  PMT2       1   68.9365  -12.1554    0.00080   \n",
       "3          3          0  PMT4       1    0.0000  185.0000    0.00161   \n",
       "4          4         31  PMTC       1 -118.9160  141.7180    0.00160   \n",
       "5          5          8  PMTB       1 -182.1890   32.1249    0.00161   \n",
       "6          6          5  PMTA       1 -160.2150  -92.5000    0.00161   \n",
       "7          7          4  PMT9       1  -63.2737 -173.8430    0.00161   \n",
       "8          8          1  PMT8       1   63.2737 -173.8430    0.00162   \n",
       "9         10         27  PMT6       1  182.1890   32.1249    0.00080   \n",
       "10        11         26  PMT5       1  118.9160  141.7180    0.00080   \n",
       "11         9         30  PMT7       0  160.2150  -92.5000    0.00000   \n",
       "\n",
       "     coeff_c  adc_to_pes  noise_rms   Sigma  \n",
       "0   0.000001       25.39     0.7160   9.474  \n",
       "1   0.000001       26.49     0.8744  10.510  \n",
       "2   0.000001       27.74     0.7303   9.031  \n",
       "3   0.000003       25.17     0.7060   8.720  \n",
       "4   0.000003       26.56     0.7000   8.910  \n",
       "5   0.000003       21.55     0.7278   6.900  \n",
       "6   0.000003       23.86     0.7323   7.860  \n",
       "7   0.000003       33.57     0.7206  11.750  \n",
       "8   0.000003       22.15     0.7213   7.070  \n",
       "9   0.000001       20.83     0.7921   6.780  \n",
       "10  0.000001       23.78     0.8660   8.050  \n",
       "11  0.000000        0.00     0.0000   0.000  "
      ]
     },
     "execution_count": 8,
     "metadata": {},
     "output_type": "execute_result"
    }
   ],
   "source": [
    "DataPMT"
   ]
  },
  {
   "cell_type": "markdown",
   "metadata": {},
   "source": [
    "### General plot options"
   ]
  },
  {
   "cell_type": "code",
   "execution_count": 9,
   "metadata": {
    "collapsed": false
   },
   "outputs": [],
   "source": [
    "plt.rcParams[\"figure.figsize\"]          = 8, 6\n",
    "plt.rcParams[\"font.size\"]               = 15\n",
    "plt.rcParams[\"figure.max_open_warning\"] = 100\n",
    "\n",
    "profOpt = \"--k\"\n",
    "fitOpt  = \"r\"\n",
    "\n",
    "outputfolder = \"./plots/pmaps\"\n",
    "if not os.path.exists(outputfolder):\n",
    "    os.mkdir(outputfolder)"
   ]
  },
  {
   "cell_type": "markdown",
   "metadata": {},
   "source": [
    "### Useful functions borrowed from Gonzaponte"
   ]
  },
  {
   "cell_type": "code",
   "execution_count": 12,
   "metadata": {
    "collapsed": false
   },
   "outputs": [],
   "source": [
    "def timefunc(f):\n",
    "    \"\"\"\n",
    "    Decorator for function timing.\n",
    "    \"\"\"\n",
    "    def time_f(*args, **kwargs):\n",
    "        t0 = time.time()\n",
    "        output = f(*args, **kwargs)\n",
    "        print(\"Time spent in {}: {} s\".format(f.__name__,\n",
    "                                              time.time() - t0))\n",
    "        return output\n",
    "    return time_f\n",
    "\n",
    "\n",
    "save = functools.partial(save_to_folder, outputfolder)"
   ]
  },
  {
   "cell_type": "code",
   "execution_count": null,
   "metadata": {
    "collapsed": true
   },
   "outputs": [],
   "source": [
    "class KrBox:\n",
    "    \"\"\"Container of krypton events\"\"\"\n",
    "    def __init__(self, run_number):\n",
    "        self.run_number = run_number\n",
    "        self.event_ = []\n",
    "        self.s1f_ = S12F()\n",
    "        self.s2f_ = S12F()\n",
    "        self.qs1_ = []\n",
    "        self.qs2_ = []\n",
    "        self.drift_ = []\n",
    "        self.X_ = []\n",
    "        self.Y_ = []\n",
    "        self.Z_ = []\n",
    "        self.R_ = []\n",
    "        self.Phi_ = []\n",
    "\n",
    "    def event(self):\n",
    "        return np.array(self.event_)\n",
    "    def s1f(self):\n",
    "        return np.array(self.s1f)\n",
    "    def s2f(self):\n",
    "        return np.array(self.s2f)\n",
    "    def qs1(self):\n",
    "        return np.array(self.qs1)\n",
    "    def qs2(self):\n",
    "        return np.array(self.qs2)\n",
    "    def drift(self):\n",
    "        return np.array(self.drift)\n",
    "    def X(self):\n",
    "        return np.array(self.X_)\n",
    "    def Y(self):\n",
    "        return np.array(self.Y_)\n",
    "    def Z(self):\n",
    "        return np.array(self.Z_)\n",
    "    def R(self):\n",
    "        return np.array(self.R_)\n",
    "    def Phi(self):\n",
    "        return np.array(self.Phi_)\n",
    "\n"
   ]
  },
  {
   "cell_type": "markdown",
   "metadata": {},
   "source": [
    "### Main driver"
   ]
  },
  {
   "cell_type": "code",
   "execution_count": null,
   "metadata": {
    "collapsed": true
   },
   "outputs": [],
   "source": [
    "def kryptonite(input_files, output_file):\n",
    "    \"\"\"Main driver\"\"\"\n",
    "    with pmap_writer(self.output_file, self.compression) as write:\n",
    "            if self.monte_carlo:\n",
    "                mctrack_writer = MCTrackWriter(write.file)\n",
    "            # loop over input files\n",
    "            for ffile in self.input_files:\n",
    "                print(\"Opening\", ffile, end=\"... \")\n",
    "                filename = ffile\n",
    "                with tb.open_file(filename, \"r\") as h5in:\n",
    "\n",
    "                    # access RWF\n",
    "                    pmtrwf  = h5in.root.RD. pmtrwf\n",
    "                    sipmrwf = h5in.root.RD.sipmrwf\n",
    "\n",
    "                    self.eventsInfo = h5in.root.Run.events\n",
    "                    # last row copied from MCTracks table\n",
    "                    if self.monte_carlo:\n",
    "                        mctrack_row = 0\n",
    "\n",
    "                    NEVT, NPMT,   PMTWL =  pmtrwf.shape\n",
    "                    NEVT, NSIPM, SIPMWL = sipmrwf.shape\n",
    "                    sensor_param = SensorParams(NPMT   = NPMT,\n",
    "                                                PMTWL  = PMTWL,\n",
    "                                                NSIPM  = NSIPM,\n",
    "                                                SIPMWL = SIPMWL)\n",
    "                    print(\"Events in file = {}\".format(NEVT))\n",
    "\n",
    "                    if not first:\n",
    "                        self.print_configuration(sensor_param)\n",
    "                        first = True\n",
    "                    # loop over all events in file unless reach nmax\n",
    "                    for evt in range(NEVT):\n",
    "                        if self.monte_carlo:\n",
    "                            # copy corresponding MCTracks to output MCTracks table\n",
    "                            mctrack_writer.copy_mctracks(h5in.root.MC.MCTracks,\n",
    "                                          n_events_tot)\n",
    "\n"
   ]
  },
  {
   "cell_type": "code",
   "execution_count": null,
   "metadata": {
    "collapsed": true
   },
   "outputs": [],
   "source": [
    "def kryptonite(run_number, \n",
    "               pmtrwf, \n",
    "               sipmrwf, \n",
    "               event_list=list(range(1)),\n",
    "               event_plot_list=list(range(1)),\n",
    "               printout=10):\n",
    "\n",
    "    \"\"\"Select Kripton like events.\n",
    "       Selection criteria\n",
    "       nS1 = 1 & nS2 = 1\n",
    "    \"\"\"\n",
    "    # searches\n",
    "    s1par  = S12Params(tmin=0*units.mus, tmax=640*units.mus, lmin=6, lmax=20, stride=4, rebin=False)\n",
    "    s2par = S12Params(tmin=640*units.mus, tmax=670*units.mus, stride=40, lmin=80, lmax=20000, rebin=True)\n",
    "    \n",
    "    thr    = ThresholdParams(thr_s1=0.5 * units.pes,  thr_s2=1 *units.pes,\n",
    "                        thr_MAU = 3 * units.adc, thr_sipm = 3.5 * units.pes,\n",
    "                        thr_SIPM = 30 * units.adc)\n",
    "    \n",
    "    # instance of EventPmaps\n",
    "    epm = EventPmaps(run_number, pmtrwf, sipmrwf, s1par, s2par, thr, verbose=False)\n",
    "    \n",
    "    # instance of KryptonBox\n",
    "    krb = KrBox(run_number)\n",
    "    \n",
    "    # Krypton selection\n",
    "    krs = KrSelection(s1_multiplicity=1,\n",
    "                      s2_multiplicity=1,\n",
    "                      si_multiplicity=1)\n",
    "    \n",
    "    drift_velocity = 0.9 * units.mm/units.mus\n",
    "\n",
    "    # start loop\n",
    "    for event in event_list:\n",
    "        \n",
    "        epm.verbose = False\n",
    "        if(event%printout == 0):\n",
    "            print('processing event number {}'.format(event))\n",
    "            epm.verbose = True\n",
    "\n",
    "        csum = epm.calibrated_sum(event)\n",
    "        \n",
    "        if csum == 0:\n",
    "            return KrConditions.csum_is_zero\n",
    "        \n",
    "        ns1 = epm.find_s1(event)\n",
    "        ns2 = epm.find_s2(event)\n",
    "\n",
    "        if ns1 != krs.s1_multiplicity:\n",
    "            return KrConditions.s1_multiplicity\n",
    "\n",
    "        if ns2 != krs.s2_multiplicity:\n",
    "            return KrConditions.s2_multiplicity\n",
    "\n",
    "        krb.s1f.add_features(event, self.S1, peak_number=0)\n",
    "        krb.s2f.add_features(event, self.S2, peak_number=0)\n",
    "\n",
    "        nsi = epm.find_s2si(event)\n",
    "\n",
    "        if nsi != 1:\n",
    "            return KrConditions.si_multiplicity\n",
    "        \n",
    "        # drift time\n",
    "        ts1 = epm.s1f.self.tpeak_[event]\n",
    "        ts2 = epm.s2f.self.tpeak_[event]\n",
    "        \n",
    "        drift_time = ts2 - ts1 \n",
    "        \n",
    "        # position from silicon\n",
    "        xsipm, ysipm, Q = epm.charge_and_position(peak_number=0)\n",
    "        \n",
    "        X    = np.average(xsipm, weights=Q) if np.any(Q) else np.nan\n",
    "        Y    = np.average(ysipm, weights=Q) if np.any(Q) else np.nan\n",
    "        R    = (X**2 + Y**2)**0.5 if np.any(Q) else np.nan\n",
    "        Phi  = np.arctan2(Y, X) if np.any(Q) else np.nan\n",
    "        Z    = drift_time * drift_velocity \n",
    "        \n",
    "        krb.add_position(X,Y,Z,R,Phi, drift_time)\n",
    "\n",
    "        \n"
   ]
  },
  {
   "cell_type": "code",
   "execution_count": 40,
   "metadata": {
    "collapsed": false
   },
   "outputs": [],
   "source": [
    "def scan_events(epm, event_list=list(range(1)), event_plot_list=list(range(1)), printout=10):\n",
    "    \"\"\"Loop over events\"\"\"\n",
    "    \n",
    "    for event in event_list:\n",
    "        if(event%printout == 0):\n",
    "            print('processing event number {}'.format(event))\n",
    "            epm.verbose = True\n",
    "        epm.calibrated_sum(event)\n",
    "        epm.find_s1(event)\n",
    "        epm.find_s2(event)\n",
    "        if (len(epm.S2) > 0):\n",
    "            epm.find_s2si(event)\n",
    "        epm.verbose = False"
   ]
  },
  {
   "cell_type": "markdown",
   "metadata": {},
   "source": [
    "### Input"
   ]
  },
  {
   "cell_type": "code",
   "execution_count": 47,
   "metadata": {
    "collapsed": true
   },
   "outputs": [],
   "source": [
    "run_number=3379"
   ]
  },
  {
   "cell_type": "code",
   "execution_count": null,
   "metadata": {
    "collapsed": true
   },
   "outputs": [],
   "source": []
  },
  {
   "cell_type": "code",
   "execution_count": 49,
   "metadata": {
    "collapsed": false
   },
   "outputs": [],
   "source": [
    "RWF_file = os.path.join(os.environ['IC_DATA'],\n",
    "                        'LSC/{}/dst_waves.gdcsnext.000_{}.root.h5'.format(run_number, run_number))"
   ]
  },
  {
   "cell_type": "code",
   "execution_count": 50,
   "metadata": {
    "collapsed": false
   },
   "outputs": [],
   "source": [
    "h5rwf = tb.open_file(RWF_file,'r')"
   ]
  },
  {
   "cell_type": "code",
   "execution_count": 51,
   "metadata": {
    "collapsed": false
   },
   "outputs": [],
   "source": [
    "pmtrwf, pmtblr, sipmrwf = tbl.get_vectors(h5rwf)"
   ]
  },
  {
   "cell_type": "code",
   "execution_count": 52,
   "metadata": {
    "collapsed": false
   },
   "outputs": [
    {
     "name": "stdout",
     "output_type": "stream",
     "text": [
      "\n",
      "        Number of events in file = 163\n",
      "        Number of PMTs = 12\n",
      "        PMTWL = 52000\n",
      "        Number of SiPMs = 1792\n",
      "        SiPMWL = 1300\n",
      "      \n"
     ]
    }
   ],
   "source": [
    "NEVT, NPMT, PMTWL = pmtrwf.shape\n",
    "NEVT, NSIPM, SIPMWL = sipmrwf.shape\n",
    "print(\"\"\"\n",
    "        Number of events in file = {}\n",
    "        Number of PMTs = {}\n",
    "        PMTWL = {}\n",
    "        Number of SiPMs = {}\n",
    "        SiPMWL = {}\n",
    "      \"\"\".format(NEVT, NPMT, PMTWL,NSIPM, SIPMWL))"
   ]
  },
  {
   "cell_type": "markdown",
   "metadata": {},
   "source": [
    "### S12 searches"
   ]
  },
  {
   "cell_type": "code",
   "execution_count": 45,
   "metadata": {
    "collapsed": false
   },
   "outputs": [],
   "source": [
    "s1par  = S12Params(tmin=0*units.mus, tmax=640*units.mus, lmin=6, lmax=20, stride=4, rebin=False)\n",
    "s2par = S12Params(tmin=640*units.mus, tmax=800*units.mus, stride=40, lmin=80, lmax=20000, rebin=True)\n",
    "thr    = ThresholdParams(thr_s1=0.5 * units.pes,  thr_s2=1 *units.pes,\n",
    "                        thr_MAU = 3 * units.adc, thr_sipm = 3.5 * units.pes,\n",
    "                        thr_SIPM = 30 * units.adc)"
   ]
  },
  {
   "cell_type": "markdown",
   "metadata": {},
   "source": [
    "### Instance of event Pmaps"
   ]
  },
  {
   "cell_type": "code",
   "execution_count": 57,
   "metadata": {
    "collapsed": false
   },
   "outputs": [],
   "source": [
    "epm = EventPmaps(run_number, pmtrwf, sipmrwf, s1par, s2par, thr, verbose=False)"
   ]
  },
  {
   "cell_type": "markdown",
   "metadata": {},
   "source": [
    "### Run"
   ]
  },
  {
   "cell_type": "code",
   "execution_count": 60,
   "metadata": {
    "collapsed": false
   },
   "outputs": [
    {
     "name": "stdout",
     "output_type": "stream",
     "text": [
      "processing event number 0\n",
      "number of peaks = 1\n",
      "S12 number = 0, samples = 9 sum in pes =10.384952485454287\n",
      "time vector (mus) = [ 472.875  472.9    472.925  472.95   472.975  473.     473.025  473.05\n",
      "  473.075]\n",
      "energy vector (pes) = [ 0.65628716  1.39993223  1.66368962  1.77933408  1.43722909  1.11834895\n",
      "  0.95429964  0.77174684  0.60408487]\n",
      "number of peaks = 1\n",
      "S12 number = 0, samples = 9 sum in pes =3715.840224033471\n",
      "time vector (mus) = [ 648.83    649.9125  650.9125  651.9125  652.9125  653.9125  654.9125\n",
      "  655.9125  656.889 ]\n",
      "energy vector (pes) = [  84.85539031  238.22198898  470.12702965  708.85031703  906.14634959\n",
      "  672.39886346  428.3109597   167.47978362   39.4495417 ]\n",
      "S2Si for peak number = 0\n",
      "sipm number = 409, energy = 35.13352675302447\n",
      "processing event number 10\n",
      "number of peaks = 1\n",
      "S12 number = 0, samples = 9 sum in pes =12.733141251372082\n",
      "time vector (mus) = [ 531.25   531.275  531.3    531.325  531.35   531.375  531.4    531.425\n",
      "  531.45 ]\n",
      "energy vector (pes) = [ 0.74129402  1.25759686  1.7849287   2.15600596  2.16173587  1.66387728\n",
      "  1.32165465  0.99075167  0.65529623]\n",
      "number of peaks = 1\n",
      "S12 number = 0, samples = 9 sum in pes =7898.18068913522\n",
      "time vector (mus) = [ 649.49625     650.5875      651.5875      652.5875      653.5875\n",
      "  654.5875      655.5875      656.5875      657.43409091]\n",
      "energy vector (pes) = [  119.17714348   502.49693701  1354.3702552   2074.33646546  2089.60088119\n",
      "  1206.20364249   422.47507001    94.47525512    35.04503917]\n",
      "S2Si for peak number = 0\n",
      "sipm number = 788, energy = 77.64463419859436\n",
      "sipm number = 789, energy = 60.1216065375418\n",
      "sipm number = 792, energy = 55.5662654825382\n",
      "sipm number = 793, energy = 42.61823003570881\n",
      "processing event number 20\n",
      "number of peaks = 1\n",
      "S12 number = 0, samples = 6 sum in pes =8.213323672485533\n",
      "time vector (mus) = [ 584.85   584.875  584.9    584.925  584.95   584.975]\n",
      "energy vector (pes) = [ 0.85941563  1.66281511  1.98971082  1.88309066  1.24987103  0.56842043]\n",
      "number of peaks = 2\n",
      "S12 number = 0, samples = 8 sum in pes =6771.808870366146\n",
      "time vector (mus) = [ 649.70125  650.7625   651.7625   652.7625   653.7625   654.7625\n",
      "  656.09125  658.05   ]\n",
      "energy vector (pes) = [  1.47269832e+02   8.60910565e+02   2.11943484e+03   2.19137924e+03\n",
      "   1.12090511e+03   2.62236585e+02   6.85714510e+01   1.10123847e+00]\n",
      "S12 number = 1, samples = 3 sum in pes =112.36074028340741\n",
      "time vector (mus) = [ 669.613125  674.585     678.2375  ]\n",
      "energy vector (pes) = [ 44.56327661  44.05853094  23.73893274]\n",
      "S2Si for peak number = 0\n",
      "sipm number = 258, energy = 52.22636542020944\n",
      "sipm number = 259, energy = 34.92881069138578\n",
      "sipm number = 262, energy = 61.30679869580968\n",
      "sipm number = 263, energy = 79.84748575512685\n",
      "S2Si for peak number = 1\n",
      "processing event number 30\n",
      "number of peaks = 1\n",
      "S12 number = 0, samples = 7 sum in pes =7.971345993152497\n",
      "time vector (mus) = [ 515.25   515.275  515.3    515.325  515.35   515.375  515.4  ]\n",
      "energy vector (pes) = [ 0.56781498  1.3719574   1.78725707  1.94049549  1.01285286  0.76771108\n",
      "  0.52325711]\n",
      "number of peaks = 1\n",
      "S12 number = 0, samples = 10 sum in pes =5711.598046259506\n",
      "time vector (mus) = [ 649.66625   650.7375    651.7375    652.7375    653.7375    654.7375\n",
      "  655.7375    656.748125  657.894375  658.88125 ]\n",
      "energy vector (pes) = [  127.1359194    399.93208338   977.96848491  1449.87692567  1371.90466487\n",
      "   805.19482589   405.87469687   105.48170468    57.66478486    10.56395573]\n",
      "S2Si for peak number = 0\n",
      "sipm number = 1104, energy = 31.51699472194658\n",
      "sipm number = 1109, energy = 57.450708382814106\n",
      "sipm number = 1110, energy = 46.28496721254929\n",
      "processing event number 40\n",
      "number of peaks = 4\n",
      "S12 number = 0, samples = 7 sum in pes =5.381383321611523\n",
      "time vector (mus) = [ 169.375  169.4    169.425  169.45   169.475  169.5    169.525]\n",
      "energy vector (pes) = [ 0.84727982  0.93082757  0.77734306  1.0482833   0.59578108  0.59052525\n",
      "  0.59134324]\n",
      "S12 number = 1, samples = 8 sum in pes =12.259293063706288\n",
      "time vector (mus) = [ 178.625  178.65   178.675  178.7    178.725  178.75   178.775  178.8  ]\n",
      "energy vector (pes) = [ 0.65318809  1.74984816  1.9554347   2.38773399  1.76247249  1.65432536\n",
      "  1.27290956  0.82338073]\n",
      "S12 number = 2, samples = 10 sum in pes =13.559886238761965\n",
      "time vector (mus) = [ 178.95   178.975  179.     179.025  179.05   179.15   179.175  179.2\n",
      "  179.225  179.25 ]\n",
      "energy vector (pes) = [ 0.55537947  1.7620788   2.80855286  2.1393531   1.52519669  0.63061746\n",
      "  1.39612244  1.17824615  0.97023326  0.59410601]\n",
      "S12 number = 3, samples = 8 sum in pes =11.494589689361469\n",
      "time vector (mus) = [ 530.975  531.     531.025  531.05   531.075  531.1    531.125  531.15 ]\n",
      "energy vector (pes) = [ 1.17206658  1.6145513   1.95491721  1.74536993  1.61132537  1.64939978\n",
      "  1.14755412  0.5994054 ]\n",
      "number of peaks = 1\n",
      "S12 number = 0, samples = 8 sum in pes =3799.363092011242\n",
      "time vector (mus) = [ 649.706875   650.7375     651.7375     652.7375     653.7375     654.7375\n",
      "  655.7375     656.6734375]\n",
      "energy vector (pes) = [ 116.33859232  368.80747162  771.86223152  976.87751801  801.50100427\n",
      "  521.82666207  184.77247042   57.37714178]\n",
      "S2Si for peak number = 0\n",
      "sipm number = 192, energy = 32.4226027430233\n",
      "sipm number = 248, energy = 49.76077086434859\n",
      "processing event number 50\n",
      "number of peaks = 1\n",
      "S12 number = 0, samples = 7 sum in pes =9.186749331686856\n",
      "time vector (mus) = [ 533.925  533.95   533.975  534.     534.025  534.05   534.075]\n",
      "energy vector (pes) = [ 0.67968539  1.37855143  2.09138018  1.98080877  1.65367129  0.89659051\n",
      "  0.50606177]\n",
      "number of peaks = 1\n",
      "S12 number = 0, samples = 9 sum in pes =6498.021338140574\n",
      "time vector (mus) = [ 649.62      650.6375    651.6375    652.6375    653.6375    654.6375\n",
      "  655.6375    656.723125  658.084375]\n",
      "energy vector (pes) = [  130.91107782   509.86567693  1203.08161364  1751.41966481  1607.29893592\n",
      "   896.34520504   293.48517082    84.91105822    20.70293494]\n",
      "S2Si for peak number = 0\n",
      "sipm number = 1457, energy = 84.64486009040465\n",
      "sipm number = 1458, energy = 31.64720512788203\n",
      "sipm number = 1469, energy = 46.22335641629096\n",
      "processing event number 60\n",
      "number of peaks = 1\n",
      "S12 number = 0, samples = 11 sum in pes =13.763468616039377\n",
      "time vector (mus) = [ 468.05   468.075  468.1    468.125  468.15   468.175  468.2    468.225\n",
      "  468.25   468.275  468.3  ]\n",
      "energy vector (pes) = [ 0.83193326  1.39851167  1.91030389  1.96393803  1.69471989  1.34157742\n",
      "  0.78279187  0.8853631   0.99024124  1.10384896  0.86023929]\n",
      "number of peaks = 1\n",
      "S12 number = 0, samples = 9 sum in pes =3000.181608980318\n",
      "time vector (mus) = [ 648.905       650.2125      651.2125      652.2125      653.2125\n",
      "  654.2125      655.2125      656.2125      657.32666667]\n",
      "energy vector (pes) = [  92.76322355  288.9870273   450.21417772  606.76905666  568.52021533\n",
      "  540.45828607  299.84925297  111.17276364   41.44760575]\n",
      "S2Si for peak number = 0\n",
      "processing event number 70\n",
      "number of peaks = 1\n",
      "S12 number = 0, samples = 9 sum in pes =6.438265918800227\n",
      "time vector (mus) = [ 406.925  406.95   406.975  407.     407.05   407.1    407.125  407.15\n",
      "  407.175]\n",
      "energy vector (pes) = [ 0.54242717  0.80575758  0.81195454  0.7367694   0.6237496   0.65553921\n",
      "  0.80876136  0.75437529  0.69893178]\n",
      "number of peaks = 1\n",
      "S12 number = 0, samples = 9 sum in pes =4488.815822082132\n",
      "time vector (mus) = [ 649.73625     650.7875      651.7875      652.7875      653.7875\n",
      "  654.7875      655.7875      656.7875      657.97027027]\n",
      "energy vector (pes) = [ 156.30445804  465.20295308  816.08051694  955.50987264  953.54873326\n",
      "  643.49294916  306.23625715  133.21754454   59.22253727]\n",
      "S2Si for peak number = 0\n",
      "sipm number = 1755, energy = 35.555527017283794\n",
      "sipm number = 1758, energy = 33.90683026321521\n",
      "processing event number 80\n",
      "number of peaks = 1\n",
      "S12 number = 0, samples = 7 sum in pes =7.986528727711468\n",
      "time vector (mus) = [ 557.55   557.575  557.6    557.625  557.65   557.675  557.7  ]\n",
      "energy vector (pes) = [ 0.54540228  0.94325891  1.28974461  1.49520054  1.4789556   1.18510647\n",
      "  1.04886031]\n",
      "number of peaks = 2\n",
      "S12 number = 0, samples = 8 sum in pes =7590.481997024859\n",
      "time vector (mus) = [ 649.65       650.6625     651.6625     652.6625     653.6625     654.6625\n",
      "  655.6625     656.6578125]\n",
      "energy vector (pes) = [  173.03612144   762.71608918  2132.50489341  2362.41462689  1387.98822634\n",
      "   567.04135845   170.74886328    34.03181805]\n",
      "S12 number = 1, samples = 9 sum in pes =373.4168209506724\n",
      "time vector (mus) = [ 668.26875     670.819375    673.228125    675.614375    677.67375     679.71\n",
      "  682.06875     685.91625     690.18214286]\n",
      "energy vector (pes) = [ 47.03458902  45.2453055   43.77777653  43.47589733  44.0420378\n",
      "  42.92421487  42.73879565  42.04441707  22.13378717]\n",
      "S2Si for peak number = 0\n",
      "sipm number = 1126, energy = 58.337078474893126\n",
      "sipm number = 1127, energy = 39.81999891810018\n",
      "sipm number = 1419, energy = 30.433686710642064\n",
      "sipm number = 1422, energy = 84.11815113099405\n",
      "sipm number = 1423, energy = 33.72457078465563\n",
      "S2Si for peak number = 1\n",
      "processing event number 90\n",
      "number of peaks = 1\n",
      "S12 number = 0, samples = 7 sum in pes =6.391235399269685\n",
      "time vector (mus) = [ 480.05   480.075  480.1    480.125  480.225  480.25   480.275]\n",
      "energy vector (pes) = [ 0.69695688  1.54100057  1.55122928  1.00477162  0.50495006  0.58503844\n",
      "  0.50728855]\n",
      "number of peaks = 1\n",
      "S12 number = 0, samples = 9 sum in pes =3050.522464063156\n",
      "time vector (mus) = [ 649.281875    650.3625      651.3625      652.3625      653.3625\n",
      "  654.3625      655.3625      656.520625    657.68636364]\n",
      "energy vector (pes) = [  91.13345837  314.19350271  618.04139189  651.1126784   633.63492302\n",
      "  409.19563678  238.49631      78.63366437   16.08089852]\n",
      "S2Si for peak number = 0\n",
      "processing event number 100\n",
      "number of peaks = 1\n",
      "S12 number = 0, samples = 9 sum in pes =24.758651707825287\n",
      "time vector (mus) = [ 463.625  463.65   463.675  463.7    463.725  463.75   463.775  463.8\n",
      "  463.825]\n",
      "energy vector (pes) = [ 0.77540173  2.67913433  4.90567108  5.65579672  4.85345368  3.09223943\n",
      "  1.49133715  0.64517877  0.66043882]\n",
      "number of peaks = 1\n",
      "S12 number = 0, samples = 10 sum in pes =3056.3170089189794\n",
      "time vector (mus) = [ 647.37375  648.4625   649.4625   650.4625   651.4625   652.4625   653.4625\n",
      "  654.4625   655.75125  657.95   ]\n",
      "energy vector (pes) = [  75.28687628  209.8773594   323.53267766  504.92650329  609.03800848\n",
      "  566.33036373  393.89146424  273.83026153   96.27918466    3.32430966]\n",
      "S2Si for peak number = 0\n",
      "processing event number 110\n",
      "number of peaks = 0\n",
      "number of peaks = 1\n",
      "S12 number = 0, samples = 8 sum in pes =6875.0807304925165\n",
      "time vector (mus) = [ 649.57625  650.5875   651.5875   652.5875   653.5875   654.5875   655.5875\n",
      "  656.84   ]\n",
      "energy vector (pes) = [  133.32525703   590.11901309  1434.14468736  2009.83846136  1659.1257343\n",
      "   722.56240478   229.39476683    96.57040573]\n",
      "S2Si for peak number = 0\n",
      "sipm number = 576, energy = 100.19746158618499\n",
      "sipm number = 632, energy = 54.902242722597876\n",
      "processing event number 120\n",
      "number of peaks = 1\n",
      "S12 number = 0, samples = 6 sum in pes =3.913610534505745\n",
      "time vector (mus) = [ 408.575  408.6    408.625  408.675  408.7    408.75 ]\n",
      "energy vector (pes) = [ 0.63311972  0.77819609  0.83949796  0.6003932   0.53374024  0.52866333]\n",
      "number of peaks = 1\n",
      "S12 number = 0, samples = 9 sum in pes =3138.717604976424\n",
      "time vector (mus) = [ 649.485625  650.4875    651.4875    652.4875    653.4875    654.4875\n",
      "  655.4875    656.4875    657.4775  ]\n",
      "energy vector (pes) = [  92.09492718  294.55670633  430.74184907  614.25235147  558.00108455\n",
      "  577.04210495  371.62325072  147.38057897   53.02475174]\n",
      "S2Si for peak number = 0\n",
      "processing event number 130\n",
      "number of peaks = 1\n",
      "S12 number = 0, samples = 7 sum in pes =6.2165650373491985\n",
      "time vector (mus) = [ 598.2    598.225  598.25   598.275  598.3    598.325  598.35 ]\n",
      "energy vector (pes) = [ 0.58832996  1.17620425  1.10183081  1.06052349  0.77759066  0.88148074\n",
      "  0.63060513]\n",
      "number of peaks = 1\n",
      "S12 number = 0, samples = 7 sum in pes =5190.988612080685\n",
      "time vector (mus) = [ 649.9125      650.9625      651.9625      652.9625      653.9625\n",
      "  654.9625      655.81904762]\n",
      "energy vector (pes) = [  141.72731896   786.51544719  1651.43085079  1610.00773592   749.69577748\n",
      "   205.57862466    46.03285708]\n",
      "S2Si for peak number = 0\n",
      "sipm number = 44, energy = 41.27382933953079\n",
      "sipm number = 51, energy = 31.55793446612718\n",
      "sipm number = 63, energy = 117.0992966603696\n",
      "processing event number 140\n",
      "number of peaks = 0\n",
      "number of peaks = 1\n",
      "S12 number = 0, samples = 9 sum in pes =3385.995532151435\n",
      "time vector (mus) = [ 648.08875     649.3375      650.3375      651.3375      652.3375\n",
      "  653.3375      654.3375      655.3375      656.37619048]\n",
      "energy vector (pes) = [  81.01415344  249.61919816  537.41175914  642.29473825  798.92871461\n",
      "  628.85490312  266.11297821  148.45855203   33.3005352 ]\n",
      "S2Si for peak number = 0\n",
      "sipm number = 97, energy = 35.50127359028134\n",
      "processing event number 150\n",
      "number of peaks = 2\n",
      "S12 number = 0, samples = 6 sum in pes =5.26718116877238\n",
      "time vector (mus) = [ 184.25   184.275  184.3    184.325  184.4    184.425]\n",
      "energy vector (pes) = [ 1.00789634  1.21983445  1.10701716  0.66496573  0.65205573  0.61541175]\n",
      "S12 number = 1, samples = 12 sum in pes =53.33667782286776\n",
      "time vector (mus) = [ 258.025  258.05   258.075  258.1    258.125  258.15   258.175  258.2\n",
      "  258.225  258.25   258.275  258.3  ]\n",
      "energy vector (pes) = [ 3.10277701  6.27854738  8.96408477  9.88980144  8.36177736  6.20759558\n",
      "  4.00838925  2.31176131  1.04843922  1.11021728  1.24333386  0.80995336]\n",
      "number of peaks = 1\n",
      "S12 number = 0, samples = 14 sum in pes =4731.060323998873\n",
      "time vector (mus) = [ 647.20875   648.5625    649.5625    650.5625    651.5625    652.5625\n",
      "  653.5625    654.5625    655.5625    656.5625    657.57375   658.83375\n",
      "  660.316875  661.15    ]\n",
      "energy vector (pes) = [  70.12855694  172.55409347  280.7050201   443.5182436   558.86140916\n",
      "  601.63465469  675.62329664  661.53980759  515.80646855  418.52603985\n",
      "  196.51830023   63.33406231   64.03171689    8.27865399]\n",
      "S2Si for peak number = 0\n",
      "run 160 events in 50.440757751464844 s event/s = 0.31525473594665526\n"
     ]
    }
   ],
   "source": [
    "n_events = 160\n",
    "sample_plot = 10\n",
    "t0 = time.time()\n",
    "scan_events(epm, event_list=list(range(n_events)), event_plot_list=list(range(0,n_events,sample_plot)))\n",
    "t1 = time.time()        \n",
    "dt = t1 - t0\n",
    "print(\"run {} events in {} s event/s = {}\".format(n_events, dt, dt/n_events))"
   ]
  },
  {
   "cell_type": "code",
   "execution_count": 61,
   "metadata": {
    "collapsed": false
   },
   "outputs": [
    {
     "data": {
      "image/png": "[encoded data removed]",
      "text/plain": [
       "<matplotlib.figure.Figure at 0x7f1ec19902b0>"
      ]
     },
     "metadata": {},
     "output_type": "display_data"
    }
   ],
   "source": [
    "pdf(epm.s1f.peak(), 5, range=(0, 5))\n",
    "labels(\"# S1\", \"Entries\")\n",
    "save(\"NS1\")"
   ]
  },
  {
   "cell_type": "code",
   "execution_count": 62,
   "metadata": {
    "collapsed": false
   },
   "outputs": [
    {
     "data": {
      "image/png": "[encoded data removed]",
      "text/plain": [
       "<matplotlib.figure.Figure at 0x7f1ec193f550>"
      ]
     },
     "metadata": {},
     "output_type": "display_data"
    }
   ],
   "source": [
    "pdf(epm.s2f.peak(), 5, range=(0, 5))\n",
    "labels(\"# S2\", \"Entries\")\n",
    "save(\"NS2\")"
   ]
  },
  {
   "cell_type": "code",
   "execution_count": 63,
   "metadata": {
    "collapsed": false,
    "scrolled": false
   },
   "outputs": [
    {
     "data": {
      "image/png": "[encoded data removed]",
      "text/plain": [
       "<matplotlib.figure.Figure at 0x7f1ec4ce1ba8>"
      ]
     },
     "metadata": {},
     "output_type": "display_data"
    }
   ],
   "source": [
    "hist(epm.s1f.tpeak()/units.mus, 25)\n",
    "labels(\"peak time of S1 relative to trigger ($\\mu$s)\", \"Entries\")\n",
    "save(\"t_S1\")"
   ]
  },
  {
   "cell_type": "code",
   "execution_count": 64,
   "metadata": {
    "collapsed": false
   },
   "outputs": [
    {
     "data": {
      "image/png": "[encoded data removed]",
      "text/plain": [
       "<matplotlib.figure.Figure at 0x7f1ec546b518>"
      ]
     },
     "metadata": {},
     "output_type": "display_data"
    }
   ],
   "source": [
    "hist(epm.s1f.etot(), 25,(0,20))\n",
    "labels(\"S1 energy (pes)\", \"Entries\")\n",
    "save(\"e_S1\")"
   ]
  },
  {
   "cell_type": "code",
   "execution_count": 67,
   "metadata": {
    "collapsed": true
   },
   "outputs": [],
   "source": [
    "s1_eq_1 = epm.s1f.peak() == 0  # peak= 0 means nS1 = 1"
   ]
  },
  {
   "cell_type": "code",
   "execution_count": 68,
   "metadata": {
    "collapsed": false
   },
   "outputs": [
    {
     "data": {
      "text/plain": [
       "array([ True,  True,  True,  True,  True,  True,  True,  True,  True,\n",
       "       False,  True, False,  True,  True,  True,  True,  True,  True,\n",
       "       False,  True,  True,  True,  True,  True,  True, False,  True,\n",
       "        True,  True, False, False, False, False,  True,  True,  True,\n",
       "        True,  True, False,  True, False,  True,  True,  True,  True,\n",
       "       False, False, False,  True, False,  True,  True,  True,  True,\n",
       "        True,  True, False,  True,  True,  True,  True, False,  True,\n",
       "        True,  True,  True,  True,  True,  True,  True, False, False,\n",
       "        True, False,  True,  True,  True,  True,  True,  True,  True,\n",
       "        True,  True, False, False, False, False, False, False, False,\n",
       "        True,  True,  True,  True, False,  True,  True,  True,  True,\n",
       "        True,  True, False,  True,  True, False,  True,  True,  True,\n",
       "        True, False, False,  True, False,  True,  True,  True,  True,\n",
       "        True,  True,  True,  True, False,  True,  True,  True, False,\n",
       "        True,  True,  True, False,  True, False, False, False,  True,\n",
       "        True,  True,  True,  True,  True,  True, False, False,  True,\n",
       "        True,  True,  True,  True,  True,  True, False,  True, False,\n",
       "        True,  True,  True, False,  True,  True,  True, False, False,\n",
       "       False, False, False, False, False, False,  True, False, False,\n",
       "        True, False,  True,  True, False,  True,  True,  True, False,\n",
       "       False, False, False, False, False,  True, False,  True,  True,\n",
       "       False, False, False, False, False, False, False, False, False,\n",
       "       False, False, False, False, False,  True, False,  True,  True,\n",
       "        True,  True,  True,  True, False], dtype=bool)"
      ]
     },
     "execution_count": 68,
     "metadata": {},
     "output_type": "execute_result"
    }
   ],
   "source": [
    "s1_eq_1  # The outcome is a selection array"
   ]
  },
  {
   "cell_type": "code",
   "execution_count": 69,
   "metadata": {
    "collapsed": true
   },
   "outputs": [],
   "source": [
    "nS1_1 = epm.s1f.peak()[s1_eq_1] # this is an array such that ns1 = 1"
   ]
  },
  {
   "cell_type": "code",
   "execution_count": 70,
   "metadata": {
    "collapsed": false
   },
   "outputs": [
    {
     "data": {
      "text/plain": [
       "array([0, 0, 0, 0, 0, 0, 0, 0, 0, 0, 0, 0, 0, 0, 0, 0, 0, 0, 0, 0, 0, 0, 0,\n",
       "       0, 0, 0, 0, 0, 0, 0, 0, 0, 0, 0, 0, 0, 0, 0, 0, 0, 0, 0, 0, 0, 0, 0,\n",
       "       0, 0, 0, 0, 0, 0, 0, 0, 0, 0, 0, 0, 0, 0, 0, 0, 0, 0, 0, 0, 0, 0, 0,\n",
       "       0, 0, 0, 0, 0, 0, 0, 0, 0, 0, 0, 0, 0, 0, 0, 0, 0, 0, 0, 0, 0, 0, 0,\n",
       "       0, 0, 0, 0, 0, 0, 0, 0, 0, 0, 0, 0, 0, 0, 0, 0, 0, 0, 0, 0, 0, 0, 0,\n",
       "       0, 0, 0, 0, 0, 0, 0, 0, 0, 0, 0, 0, 0, 0, 0, 0, 0, 0, 0])"
      ]
     },
     "execution_count": 70,
     "metadata": {},
     "output_type": "execute_result"
    }
   ],
   "source": [
    "nS1_1"
   ]
  },
  {
   "cell_type": "code",
   "execution_count": 71,
   "metadata": {
    "collapsed": false
   },
   "outputs": [
    {
     "name": "stderr",
     "output_type": "stream",
     "text": [
      "/home/icuser/miniconda/envs/IC3.6/lib/python3.6/site-packages/ipykernel/__main__.py:1: VisibleDeprecationWarning: boolean index did not match indexed array along dimension 0; dimension is 186 but corresponding boolean dimension is 212\n",
      "  if __name__ == '__main__':\n"
     ]
    },
    {
     "ename": "IndexError",
     "evalue": "index 187 is out of bounds for axis 1 with size 186",
     "output_type": "error",
     "traceback": [
      "\u001b[0;31m---------------------------------------------------------------------------\u001b[0m",
      "\u001b[0;31mIndexError\u001b[0m                                Traceback (most recent call last)",
      "\u001b[0;32m<ipython-input-71-38c80442d049>\u001b[0m in \u001b[0;36m<module>\u001b[0;34m()\u001b[0m\n\u001b[0;32m----> 1\u001b[0;31m \u001b[0mnS2_nS1_1\u001b[0m \u001b[0;34m=\u001b[0m \u001b[0mepm\u001b[0m\u001b[0;34m.\u001b[0m\u001b[0ms2f\u001b[0m\u001b[0;34m.\u001b[0m\u001b[0mpeak\u001b[0m\u001b[0;34m(\u001b[0m\u001b[0;34m)\u001b[0m\u001b[0;34m[\u001b[0m\u001b[0ms1_eq_1\u001b[0m\u001b[0;34m]\u001b[0m \u001b[0;31m# this is an array of nS2 such that ns1 = 1\u001b[0m\u001b[0;34m\u001b[0m\u001b[0m\n\u001b[0m",
      "\u001b[0;31mIndexError\u001b[0m: index 187 is out of bounds for axis 1 with size 186"
     ]
    }
   ],
   "source": [
    "nS2_nS1_1 = epm.s2f.peak()[s1_eq_1] # this is an array of nS2 such that ns1 = 1"
   ]
  },
  {
   "cell_type": "code",
   "execution_count": 72,
   "metadata": {
    "collapsed": false
   },
   "outputs": [
    {
     "data": {
      "text/plain": [
       "212"
      ]
     },
     "execution_count": 72,
     "metadata": {},
     "output_type": "execute_result"
    }
   ],
   "source": [
    "len(epm.s1f.peak())"
   ]
  },
  {
   "cell_type": "code",
   "execution_count": 73,
   "metadata": {
    "collapsed": false
   },
   "outputs": [
    {
     "data": {
      "text/plain": [
       "186"
      ]
     },
     "execution_count": 73,
     "metadata": {},
     "output_type": "execute_result"
    }
   ],
   "source": [
    "len(epm.s2f.peak())"
   ]
  },
  {
   "cell_type": "code",
   "execution_count": null,
   "metadata": {
    "collapsed": true
   },
   "outputs": [],
   "source": []
  },
  {
   "cell_type": "code",
   "execution_count": null,
   "metadata": {
    "collapsed": true
   },
   "outputs": [],
   "source": [
    "nS1 = np.array([…]\n",
    "S1E = np.array([...])\n",
    "S2E = np.array([…])\n",
    "\n",
    "selection = nS1 == 1 # esto es un np.array con True donde se cumple la condición\n",
    "nS1_1 = nS1[selection]  # esto el vector de nS1 reducido a aquellos que tienen exactamente 1 S1\n",
    "S1E_1 = S1E[selection]  # esto el vector de S1E reducido a aquellos que tienen exactamente 1 S1\n",
    "S2E_1 = S2E[selection]  # esto el vector de S2E reducido a aquellos que tienen exactamente 1 S1\n",
    "\n",
    "\n",
    "plt.plot(S1E_1, S2E_1)"
   ]
  },
  {
   "cell_type": "code",
   "execution_count": null,
   "metadata": {
    "collapsed": true
   },
   "outputs": [],
   "source": []
  },
  {
   "cell_type": "code",
   "execution_count": 21,
   "metadata": {
    "collapsed": false
   },
   "outputs": [],
   "source": [
    "gui.add_figure('s1 peaks ',hist_1d(epm.s1f.peak(), xlo=0, xhi=max(epm.s1f.peak()) + 1))\n",
    "gui.add_figure('s1 width in ns',hist_1d(epm.s1f.width(), xlo=0, xhi=500))\n",
    "gui.add_figure('s1 t in mus',hist_1d(epm.s1f.tpeak()/units.mus, xlo=0, xhi=650))\n",
    "gui.add_figure('s1 etot in pes',hist_1d(epm.s1f.etot(), xlo=0, xhi=max(epm.s1f.etot())+10))\n",
    "gui.add_figure('s1 etot in pes (2)',hist_1d(epm.s1f.etot(), xlo=0, xhi=100))\n",
    "gui.add_figure('s1 emax in pes',hist_1d(epm.s1f.emax(), xlo=0, xhi=max(epm.s1f.emax())+10))\n",
    "gui.add_figure('s1 emax/etot in pes',hist_1d(epm.s1f.emax_over_etot(), xlo=0, xhi=1))"
   ]
  },
  {
   "cell_type": "code",
   "execution_count": 20,
   "metadata": {
    "collapsed": false
   },
   "outputs": [],
   "source": [
    "gui.add_figure('s2 peaks ',hist_1d(epm.s2f.peak(), xlo=0, xhi=max(epm.s2f.peak()) + 1))\n",
    "gui.add_figure('s2 width in mua',hist_1d(epm.s2f.width()/units.mus, xlo=0, xhi=max(epm.s2f.width()/units.mus)+10))\n",
    "gui.add_figure('s2 t in mus',hist_1d(epm.s2f.tpeak()/units.mus, xlo=650, xhi=670))\n",
    "gui.add_figure('s2 etot in pes',hist_1d(epm.s2f.etot(), xlo=0, xhi=max(epm.s2f.etot())+100))\n",
    "gui.add_figure('s2 emax in pes',hist_1d(epm.s2f.emax(), xlo=0, xhi=max(epm.s2f.emax())+100))\n",
    "gui.add_figure('s2 emax/etot in pes',hist_1d(epm.s2f.emax_over_etot(), xlo=0, xhi=1))"
   ]
  }
 ],
 "metadata": {
  "kernelspec": {
   "display_name": "Python 3",
   "language": "python",
   "name": "python3"
  },
  "language_info": {
   "codemirror_mode": {
    "name": "ipython",
    "version": 3
   },
   "file_extension": ".py",
   "mimetype": "text/x-python",
   "name": "python",
   "nbconvert_exporter": "python",
   "pygments_lexer": "ipython3",
   "version": "3.6.0"
  }
 },
 "nbformat": 4,
 "nbformat_minor": 2
}
