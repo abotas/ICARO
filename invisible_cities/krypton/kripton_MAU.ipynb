{
 "cells": [
  {
   "cell_type": "markdown",
   "metadata": {
    "collapsed": false
   },
   "source": [
    "# Krypton MAU"
   ]
  },
  {
   "cell_type": "markdown",
   "metadata": {
    "collapsed": false
   },
   "source": [
    "## Study the use of a MAU to remove baseline oscillation"
   ]
  },
  {
   "cell_type": "code",
   "execution_count": null,
   "metadata": {
    "collapsed": false
   },
   "outputs": [],
   "source": [
    "import datetime\n",
    "print(datetime.datetime.now().strftime('%Y-%m-%d %H:%M:%S'))"
   ]
  },
  {
   "cell_type": "code",
   "execution_count": null,
   "metadata": {
    "collapsed": false
   },
   "outputs": [],
   "source": [
    "from __future__ import print_function\n",
    "import sys\n",
    "import os\n",
    "from glob import glob\n",
    "from time import time"
   ]
  },
  {
   "cell_type": "code",
   "execution_count": null,
   "metadata": {
    "collapsed": false
   },
   "outputs": [],
   "source": [
    "%matplotlib inline\n",
    "%load_ext autoreload\n",
    "%autoreload 2\n",
    "import matplotlib.pyplot as plt\n",
    "import pandas as pd\n",
    "import tables as tb\n",
    "import numpy as np"
   ]
  },
  {
   "cell_type": "code",
   "execution_count": null,
   "metadata": {
    "collapsed": false
   },
   "outputs": [],
   "source": [
    "from invisible_cities.database import load_db\n",
    "from invisible_cities.core.system_of_units_c import SystemOfUnits\n",
    "import invisible_cities.sierpe.blr as blr\n",
    "import invisible_cities.core.mpl_functions as mpl\n",
    "import invisible_cities.core.wfm_functions as wfm\n",
    "import invisible_cities.core.tbl_functions as tbl\n",
    "import invisible_cities.core.peak_functions_c as cpf\n",
    "import invisible_cities.core.pmaps_functions as pf\n",
    "import invisible_cities.core.sensor_functions as sf\n",
    "import invisible_cities.core.core_functions as cf"
   ]
  },
  {
   "cell_type": "code",
   "execution_count": null,
   "metadata": {
    "collapsed": false
   },
   "outputs": [],
   "source": [
    "from scipy import signal as SGN"
   ]
  },
  {
   "cell_type": "code",
   "execution_count": null,
   "metadata": {
    "collapsed": false
   },
   "outputs": [],
   "source": [
    "%load_ext Cython"
   ]
  },
  {
   "cell_type": "code",
   "execution_count": null,
   "metadata": {
    "collapsed": false
   },
   "outputs": [],
   "source": []
  },
  {
   "cell_type": "code",
   "execution_count": null,
   "metadata": {
    "collapsed": false
   },
   "outputs": [],
   "source": []
  },
  {
   "cell_type": "markdown",
   "metadata": {
    "collapsed": false
   },
   "source": [
    "### Access to data base and definition of units"
   ]
  },
  {
   "cell_type": "code",
   "execution_count": null,
   "metadata": {
    "collapsed": false
   },
   "outputs": [],
   "source": [
    "DataPMT = load_db.DataPMT(2980)\n",
    "units = SystemOfUnits()\n",
    "adc_to_pes = abs(DataPMT.adc_to_pes.values)\n",
    "coeff_c = abs(DataPMT.coeff_c.values)\n",
    "coeff_blr = abs(DataPMT.coeff_blr.values)\n",
    "DataSiPM = load_db.DataSiPM(2980)\n",
    "adc_to_pes_sipm = DataSiPM.adc_to_pes.values\n",
    "xs = DataSiPM.X.values\n",
    "ys = DataSiPM.Y.values"
   ]
  },
  {
   "cell_type": "markdown",
   "metadata": {
    "collapsed": false
   },
   "source": [
    "### Data files"
   ]
  },
  {
   "cell_type": "code",
   "execution_count": null,
   "metadata": {
    "collapsed": false
   },
   "outputs": [],
   "source": [
    "RWF_file = os.environ['IC_DATA']  + '/LSC/run_2980.gdc1next.999.h5'"
   ]
  },
  {
   "cell_type": "code",
   "execution_count": null,
   "metadata": {
    "collapsed": false
   },
   "outputs": [],
   "source": [
    "h5rwf = tb.open_file(RWF_file,'r')"
   ]
  },
  {
   "cell_type": "code",
   "execution_count": null,
   "metadata": {
    "collapsed": false
   },
   "outputs": [],
   "source": [
    "pmtrwf, pmtblr, sipmrwf = tbl.get_vectors(h5rwf)"
   ]
  },
  {
   "cell_type": "code",
   "execution_count": null,
   "metadata": {
    "collapsed": false
   },
   "outputs": [],
   "source": [
    "NEVT, NPMT, PMTWL = pmtrwf.shape\n",
    "NEVT, NSIPM, SIPMWL = sipmrwf.shape\n",
    "print(\"\"\"\n",
    "        Number of events in file = {}\n",
    "        Number of PMTs = {}\n",
    "        PMTWL = {}\n",
    "        Number of SiPMs = {}\n",
    "        SiPMWL = {}\n",
    "      \"\"\".format(NEVT, NPMT, PMTWL,NSIPM, SIPMWL))"
   ]
  },
  {
   "cell_type": "markdown",
   "metadata": {
    "collapsed": false
   },
   "source": [
    "### MC files"
   ]
  },
  {
   "cell_type": "code",
   "execution_count": null,
   "metadata": {
    "collapsed": false
   },
   "outputs": [],
   "source": [
    "RWF_MC = os.environ['IC_DATA']  + '/NEXT_v0_8_09/dst_NEXT_v0_08_09_Kr_ACTIVE_9_0_7bar_RWF_10000.root.h5'"
   ]
  },
  {
   "cell_type": "code",
   "execution_count": null,
   "metadata": {
    "collapsed": false
   },
   "outputs": [],
   "source": [
    "h5mc = tb.open_file(RWF_MC,'r')"
   ]
  },
  {
   "cell_type": "code",
   "execution_count": null,
   "metadata": {
    "collapsed": false
   },
   "outputs": [],
   "source": [
    "pmtrwfmc, pmtblrmc, sipmrwfmc = tbl.get_vectors(h5mc)"
   ]
  },
  {
   "cell_type": "code",
   "execution_count": null,
   "metadata": {
    "collapsed": false
   },
   "outputs": [],
   "source": [
    "NEVT, NPMT, PMTWL = pmtrwfmc.shape\n",
    "NEVT, NSIPM, SIPMWL = sipmrwfmc.shape\n",
    "print(\"\"\"\n",
    "        Number of events in file = {}\n",
    "        Number of PMTs = {}\n",
    "        PMTWL = {}\n",
    "        Number of SiPMs = {}\n",
    "        SiPMWL = {}\n",
    "      \"\"\".format(NEVT, NPMT, PMTWL,NSIPM, SIPMWL))"
   ]
  },
  {
   "cell_type": "markdown",
   "metadata": {
    "collapsed": false
   },
   "source": [
    "### DATA"
   ]
  },
  {
   "cell_type": "markdown",
   "metadata": {
    "collapsed": false
   },
   "source": [
    "### Detailed analysis of event 0"
   ]
  },
  {
   "cell_type": "code",
   "execution_count": null,
   "metadata": {
    "collapsed": false
   },
   "outputs": [],
   "source": [
    "event = 0\n",
    "RWF = pmtrwf[event]"
   ]
  },
  {
   "cell_type": "code",
   "execution_count": null,
   "metadata": {
    "collapsed": false
   },
   "outputs": [],
   "source": [
    "tstep = 25\n",
    "PMTWL = 48000\n",
    "signal_t = np.arange(0., PMTWL * tstep, tstep)/units.mus"
   ]
  },
  {
   "cell_type": "code",
   "execution_count": null,
   "metadata": {
    "collapsed": false
   },
   "outputs": [],
   "source": [
    "def ei(t):\n",
    "    \"\"\"returns the index in energy corresponding to time t\"\"\"\n",
    "    tstep = 25\n",
    "    PMTWL = 48000\n",
    "    signal_t = np.arange(0., PMTWL * tstep, tstep)/units.mus\n",
    "    return cf.loc_elem_1d(signal_t, t)"
   ]
  },
  {
   "cell_type": "code",
   "execution_count": null,
   "metadata": {
    "collapsed": false
   },
   "outputs": [],
   "source": [
    "wfm.plot_pmt_waveforms(RWF, zoom=False, window_size=2000)"
   ]
  },
  {
   "cell_type": "markdown",
   "metadata": {
    "collapsed": false
   },
   "source": [
    "#### A double event!"
   ]
  },
  {
   "cell_type": "markdown",
   "metadata": {
    "collapsed": false
   },
   "source": [
    "### Deconvolution "
   ]
  },
  {
   "cell_type": "code",
   "execution_count": null,
   "metadata": {
    "collapsed": false
   },
   "outputs": [],
   "source": [
    "event=0\n",
    "t0 = time()\n",
    "CWF = blr.deconv_pmt(RWF, coeff_c, coeff_blr, n_baseline=38000, thr_trigger=5)\n",
    "t1 = time()        \n",
    "dt = t1 - t0\n",
    "\n",
    "print(\"run over  one event  in {} s\".format(dt))"
   ]
  },
  {
   "cell_type": "code",
   "execution_count": null,
   "metadata": {
    "collapsed": false
   },
   "outputs": [],
   "source": [
    "mpl.plot_pmt_signals_vs_time_mus(CWF,\n",
    "                                 t_min=0,\n",
    "                                 t_max=1200,\n",
    "                                 signal_min=-10,\n",
    "                                 signal_max=250)"
   ]
  },
  {
   "cell_type": "code",
   "execution_count": null,
   "metadata": {
    "collapsed": false
   },
   "outputs": [],
   "source": [
    "mpl.plot_pmt_signals_vs_time_mus(CWF, \n",
    "                                 t_min=0,\n",
    "                                 t_max=590,\n",
    "                                 signal_min=-10,\n",
    "                                 signal_max=10)"
   ]
  },
  {
   "cell_type": "code",
   "execution_count": null,
   "metadata": {
    "collapsed": false
   },
   "outputs": [],
   "source": [
    "mpl.plot_pmt_signals_vs_time_mus(CWF, \n",
    "                                 t_min=590,\n",
    "                                 t_max=620,\n",
    "                                 signal_min=-5,\n",
    "                                 signal_max=200)"
   ]
  },
  {
   "cell_type": "code",
   "execution_count": null,
   "metadata": {
    "collapsed": false
   },
   "outputs": [],
   "source": [
    "mpl.plot_pmt_signals_vs_time_mus(CWF, \n",
    "                                 t_min=610,\n",
    "                                 t_max=820,\n",
    "                                 signal_min=-10,\n",
    "                                 signal_max=10)"
   ]
  },
  {
   "cell_type": "markdown",
   "metadata": {
    "collapsed": false
   },
   "source": [
    "#### Using a MAU to eliminate sinusoidal noise. "
   ]
  },
  {
   "cell_type": "markdown",
   "metadata": {
    "collapsed": false
   },
   "source": [
    "This function is a copy of the function found in peak_functions.py, but returns the MAU, for ilustration purposes"
   ]
  },
  {
   "cell_type": "code",
   "execution_count": null,
   "metadata": {
    "collapsed": false
   },
   "outputs": [],
   "source": [
    "def calibrated_pmt_sum_py(CWF, adc_to_pes, n_MAU=200, thr_MAU=5):\n",
    "    \"\"\"Compute the ZS calibrated sum of the PMTs\n",
    "    after correcting the baseline with a MAU to suppress low frequency noise.\n",
    "    input:\n",
    "    CWF         : Corrected waveform (passed by BLR)\n",
    "    adc_to_pes  : a vector with calibration constants\n",
    "    n_MAU       : length of the MAU window\n",
    "    thr_MAU     : treshold above MAU to select sample\n",
    "\n",
    "    NB: This function is used mainly for testing purposes. It is\n",
    "    programmed \"c-style\", which is not necesarily optimal in python,\n",
    "    but follows the same logic that the corresponding cython function\n",
    "    (in peak_functions_c), which runs faster and should be used\n",
    "    instead of this one for nornal calculations.\n",
    "    \"\"\"\n",
    "\n",
    "    NPMT = CWF.shape[0]\n",
    "    NWF  = CWF.shape[1]\n",
    "    MAU  = np.array(np.ones(n_MAU), dtype=np.double) * (1 / n_MAU)\n",
    "\n",
    "    pmt_thr = np.zeros((NPMT, NWF), dtype=np.double)\n",
    "    csum    = np.zeros(       NWF,  dtype=np.double)\n",
    "    csum_mau    = np.zeros(       NWF,  dtype=np.double)\n",
    "    MAU_pmt = np.zeros(       NWF,  dtype=np.double)\n",
    "\n",
    "    MAUL=[]\n",
    "    for j in range(NPMT):\n",
    "        # MAU for each of the PMTs, following the waveform\n",
    "        MAU_pmt = SGN.lfilter(MAU, 1, CWF[j,:])\n",
    "        MAUL.append(MAU_pmt)\n",
    "        csum += CWF[j] * 1 / adc_to_pes[j]\n",
    "        for k in range(NWF):\n",
    "            if CWF[j,k] >= MAU_pmt[k] + thr_MAU: # >= not >. Found testing\n",
    "                pmt_thr[j,k] = CWF[j,k]\n",
    "        csum_mau += pmt_thr[j] * 1 / adc_to_pes[j]\n",
    "    return csum, csum_mau, np.array(MAUL)\n"
   ]
  },
  {
   "cell_type": "code",
   "execution_count": null,
   "metadata": {
    "collapsed": false
   },
   "outputs": [],
   "source": [
    "%%cython\n",
    "from scipy import signal as SGN\n",
    "cimport numpy as np\n",
    "import  numpy as np\n",
    "cpdef calibrated_pmt_sum(double [:, :] CWF,\n",
    "                         double [:] adc_to_pes,\n",
    "                         int      n_MAU = 200,\n",
    "                         double thr_MAU =   5):\n",
    "    \"\"\"\n",
    "    Computes the ZS calibrated sum of the PMTs\n",
    "    after correcting the baseline with a MAU to suppress low frequency noise.\n",
    "    input:\n",
    "    CWF:    Corrected waveform (passed by BLR)\n",
    "    adc_to_pes: a vector with calibration constants\n",
    "    n_MAU:  length of the MAU window\n",
    "    thr_MAU: treshold above MAU to select sample\n",
    "\n",
    "    \"\"\"\n",
    "\n",
    "    cdef int j, k\n",
    "    cdef int NPMT = CWF.shape[0]\n",
    "    cdef int NWF  = CWF.shape[1]\n",
    "    cdef double [:] MAU = np.array(np.ones(n_MAU),\n",
    "                                   dtype = np.double) * (1 / n_MAU)\n",
    "\n",
    "\n",
    "    # CWF if above MAU threshold\n",
    "    cdef double [:, :] pmt_thr = np.zeros((NPMT,NWF), dtype=np.double)\n",
    "    cdef double [:]    csum = np.zeros(         NWF , dtype=np.double)\n",
    "    cdef double [:]    csum_mau = np.zeros(     NWF , dtype=np.double)\n",
    "    cdef double [:]    MAU_pmt = np.zeros(      NWF , dtype=np.double)\n",
    "\n",
    "    for j in range(NPMT):\n",
    "        # MAU for each of the PMTs, following the waveform\n",
    "        MAU_pmt = SGN.lfilter(MAU, 1, CWF[j,:])\n",
    "\n",
    "        for k in range(NWF):\n",
    "            if CWF[j,k] >= MAU_pmt[k] + thr_MAU: # >= not >: found testing!\n",
    "                pmt_thr[j,k] = CWF[j,k]\n",
    "\n",
    "    for j in range(NPMT):\n",
    "        for k in range(NWF):\n",
    "            csum_mau[k] += pmt_thr[j, k] * 1 / adc_to_pes[j]\n",
    "            csum[k] += CWF[j, k] * 1 / adc_to_pes[j]\n",
    "    return np.asarray(csum), np.asarray(csum_mau)"
   ]
  },
  {
   "cell_type": "code",
   "execution_count": null,
   "metadata": {
    "collapsed": false
   },
   "outputs": [],
   "source": [
    "event=0\n",
    "t0 = time()\n",
    "csum, csum_mau, MAU = calibrated_pmt_sum_py(CWF, adc_to_pes, n_MAU=400, thr_MAU=5) \n",
    "t1 = time()        \n",
    "dt = t1 - t0\n",
    "\n",
    "print(\"run over  one event  in {} s\".format(dt))"
   ]
  },
  {
   "cell_type": "code",
   "execution_count": null,
   "metadata": {
    "collapsed": false
   },
   "outputs": [],
   "source": [
    "mpl.plot_pmt_signals_vs_time_mus(MAU, \n",
    "                                 t_min=0,\n",
    "                                 t_max=590,\n",
    "                                 signal_min=-2,\n",
    "                                 signal_max=2)"
   ]
  },
  {
   "cell_type": "code",
   "execution_count": null,
   "metadata": {
    "collapsed": false
   },
   "outputs": [],
   "source": [
    "event=0\n",
    "t0 = time()\n",
    "csum, csum_mau = calibrated_pmt_sum(CWF, adc_to_pes, n_MAU=400, thr_MAU=5) \n",
    "t1 = time()        \n",
    "dt = t1 - t0\n",
    "print(\"run over  one event  in {} s\".format(dt))"
   ]
  },
  {
   "cell_type": "code",
   "execution_count": null,
   "metadata": {
    "collapsed": false
   },
   "outputs": [],
   "source": [
    "tmin=0\n",
    "tmax=1200\n",
    "mpl.plot_signal_vs_time_mus(csum, t_min=tmin, t_max=tmax, signal_min=-2, signal_max=100)\n",
    "mpl.plot_signal_vs_time_mus(csum_mau, t_min=tmin, t_max=tmax, signal_min=-2, signal_max=100)"
   ]
  },
  {
   "cell_type": "code",
   "execution_count": null,
   "metadata": {
    "collapsed": false
   },
   "outputs": [],
   "source": [
    "tmin=0\n",
    "tmax=590\n",
    "mpl.plot_signal_vs_time_mus(csum, t_min=tmin, t_max=tmax, signal_min=-2, signal_max=2)"
   ]
  },
  {
   "cell_type": "code",
   "execution_count": null,
   "metadata": {
    "collapsed": false
   },
   "outputs": [],
   "source": [
    "tmin=0\n",
    "tmax=590\n",
    "mpl.plot_signal_vs_time_mus(csum_mau, t_min=tmin, t_max=tmax, signal_min=-2, signal_max=2)"
   ]
  },
  {
   "cell_type": "markdown",
   "metadata": {
    "collapsed": false
   },
   "source": [
    "#### MAU eliminates sinusoidal noise and leaves only \"S1\" like signals."
   ]
  },
  {
   "cell_type": "code",
   "execution_count": null,
   "metadata": {
    "collapsed": false
   },
   "outputs": [],
   "source": [
    "tmin=590\n",
    "tmax=610\n",
    "mpl.plot_signal_vs_time_mus(csum, t_min=tmin, t_max=tmax, signal_min=-2, signal_max=60)\n",
    "mpl.plot_signal_vs_time_mus(csum_mau, t_min=tmin, t_max=tmax, signal_min=-2, signal_max=60)"
   ]
  },
  {
   "cell_type": "markdown",
   "metadata": {
    "collapsed": false
   },
   "source": [
    "#### MAU introduces a bias in S2. The search can be done with csum_mau but one should take the area from csum"
   ]
  },
  {
   "cell_type": "code",
   "execution_count": null,
   "metadata": {
    "collapsed": false
   },
   "outputs": [],
   "source": [
    "np.sum(csum[ei(tmin):ei(tmax)])"
   ]
  },
  {
   "cell_type": "code",
   "execution_count": null,
   "metadata": {
    "collapsed": false
   },
   "outputs": [],
   "source": [
    "np.sum(csum_mau[ei(tmin):ei(tmax)])"
   ]
  },
  {
   "cell_type": "code",
   "execution_count": null,
   "metadata": {
    "collapsed": false
   },
   "outputs": [],
   "source": [
    "tmin=610\n",
    "tmax=820\n",
    "mpl.plot_signal_vs_time_mus(csum, t_min=tmin, t_max=tmax, signal_min=-2, signal_max=2)"
   ]
  },
  {
   "cell_type": "code",
   "execution_count": null,
   "metadata": {
    "collapsed": false
   },
   "outputs": [],
   "source": [
    "mpl.plot_signal_vs_time_mus(csum_mau, t_min=tmin, t_max=tmax, signal_min=-2, signal_max=2)"
   ]
  },
  {
   "cell_type": "code",
   "execution_count": null,
   "metadata": {
    "collapsed": false
   },
   "outputs": [],
   "source": [
    "tmin=820\n",
    "tmax=825\n",
    "mpl.plot_signal_vs_time_mus(csum, t_min=tmin, t_max=tmax, signal_min=-2, signal_max=100)\n",
    "mpl.plot_signal_vs_time_mus(csum_mau, t_min=tmin, t_max=tmax, signal_min=-2, signal_max=100)"
   ]
  },
  {
   "cell_type": "code",
   "execution_count": null,
   "metadata": {
    "collapsed": false
   },
   "outputs": [],
   "source": [
    "np.sum(csum[ei(tmin):ei(tmax)])"
   ]
  },
  {
   "cell_type": "code",
   "execution_count": null,
   "metadata": {
    "collapsed": false
   },
   "outputs": [],
   "source": [
    "np.sum(csum_mau[ei(tmin):ei(tmax)])"
   ]
  },
  {
   "cell_type": "code",
   "execution_count": null,
   "metadata": {
    "collapsed": false
   },
   "outputs": [],
   "source": [
    "tmin=825\n",
    "tmax=1200\n",
    "mpl.plot_signal_vs_time_mus(csum, t_min=tmin, t_max=tmax, signal_min=-2, signal_max=2)"
   ]
  },
  {
   "cell_type": "code",
   "execution_count": null,
   "metadata": {
    "collapsed": false
   },
   "outputs": [],
   "source": [
    "tmin=825\n",
    "tmax=1200\n",
    "mpl.plot_signal_vs_time_mus(csum_mau, t_min=tmin, t_max=tmax, signal_min=-2, signal_max=2)"
   ]
  },
  {
   "cell_type": "markdown",
   "metadata": {
    "collapsed": false
   },
   "source": [
    "### MC"
   ]
  },
  {
   "cell_type": "code",
   "execution_count": null,
   "metadata": {
    "collapsed": false
   },
   "outputs": [],
   "source": [
    "event = 0\n",
    "RWF = pmtrwfmc[event]"
   ]
  },
  {
   "cell_type": "code",
   "execution_count": null,
   "metadata": {
    "collapsed": false
   },
   "outputs": [],
   "source": [
    "event=0\n",
    "t0 = time()\n",
    "CWF = blr.deconv_pmt(RWF, coeff_c, coeff_blr, n_baseline=38000, thr_trigger=5)\n",
    "t1 = time()        \n",
    "dt = t1 - t0\n",
    "\n",
    "print(\"run over  one event  in {} s\".format(dt))"
   ]
  },
  {
   "cell_type": "code",
   "execution_count": null,
   "metadata": {
    "collapsed": false
   },
   "outputs": [],
   "source": [
    "mpl.plot_pmt_signals_vs_time_mus(CWF,\n",
    "                                 t_min=0,\n",
    "                                 t_max=1200,\n",
    "                                 signal_min=-10,\n",
    "                                 signal_max=250)"
   ]
  },
  {
   "cell_type": "code",
   "execution_count": null,
   "metadata": {
    "collapsed": false
   },
   "outputs": [],
   "source": [
    "mpl.plot_pmt_signals_vs_time_mus(CWF, \n",
    "                                 t_min=0,\n",
    "                                 t_max=400,\n",
    "                                 signal_min=-10,\n",
    "                                 signal_max=10)"
   ]
  },
  {
   "cell_type": "code",
   "execution_count": null,
   "metadata": {
    "collapsed": false
   },
   "outputs": [],
   "source": [
    "mpl.plot_pmt_signals_vs_time_mus(CWF, \n",
    "                                 t_min=400,\n",
    "                                 t_max=500,\n",
    "                                 signal_min=-5,\n",
    "                                 signal_max=200)"
   ]
  },
  {
   "cell_type": "code",
   "execution_count": null,
   "metadata": {
    "collapsed": false
   },
   "outputs": [],
   "source": [
    "mpl.plot_pmt_signals_vs_time_mus(CWF, \n",
    "                                 t_min=470,\n",
    "                                 t_max=800,\n",
    "                                 signal_min=-10,\n",
    "                                 signal_max=10)"
   ]
  },
  {
   "cell_type": "code",
   "execution_count": null,
   "metadata": {
    "collapsed": false
   },
   "outputs": [],
   "source": [
    "event=0\n",
    "t0 = time()\n",
    "csum, csum_mau, MAU = calibrated_pmt_sum_py(CWF, adc_to_pes, n_MAU=400, thr_MAU=5) \n",
    "t1 = time()        \n",
    "dt = t1 - t0\n",
    "\n",
    "print(\"run over  one event  in {} s\".format(dt))"
   ]
  },
  {
   "cell_type": "code",
   "execution_count": null,
   "metadata": {
    "collapsed": false
   },
   "outputs": [],
   "source": [
    "mpl.plot_pmt_signals_vs_time_mus(MAU, \n",
    "                                 t_min=0,\n",
    "                                 t_max=400,\n",
    "                                 signal_min=-2,\n",
    "                                 signal_max=2)"
   ]
  },
  {
   "cell_type": "code",
   "execution_count": null,
   "metadata": {
    "collapsed": false
   },
   "outputs": [],
   "source": [
    "event=0\n",
    "t0 = time()\n",
    "csum, csum_mau = calibrated_pmt_sum(CWF, adc_to_pes, n_MAU=400, thr_MAU=5) \n",
    "t1 = time()        \n",
    "dt = t1 - t0\n",
    "print(\"run over  one event  in {} s\".format(dt))"
   ]
  },
  {
   "cell_type": "code",
   "execution_count": null,
   "metadata": {
    "collapsed": false
   },
   "outputs": [],
   "source": [
    "tmin=0\n",
    "tmax=400\n",
    "mpl.plot_signal_vs_time_mus(csum, t_min=tmin, t_max=tmax, signal_min=-2, signal_max=2)"
   ]
  },
  {
   "cell_type": "code",
   "execution_count": null,
   "metadata": {
    "collapsed": false
   },
   "outputs": [],
   "source": [
    "tmin=0\n",
    "tmax=400\n",
    "mpl.plot_signal_vs_time_mus(csum_mau, t_min=tmin, t_max=tmax, signal_min=-2, signal_max=2)"
   ]
  },
  {
   "cell_type": "code",
   "execution_count": null,
   "metadata": {
    "collapsed": false
   },
   "outputs": [],
   "source": [
    "tmin=100\n",
    "tmax=100.5\n",
    "mpl.plot_signal_vs_time_mus(csum_mau, t_min=tmin, t_max=tmax, signal_min=-2, signal_max=2)"
   ]
  },
  {
   "cell_type": "code",
   "execution_count": null,
   "metadata": {
    "collapsed": false
   },
   "outputs": [],
   "source": [
    "tmin=100\n",
    "tmax=100.5\n",
    "mpl.plot_signal_vs_time_mus(csum, t_min=tmin, t_max=tmax, signal_min=-2, signal_max=2)"
   ]
  },
  {
   "cell_type": "code",
   "execution_count": null,
   "metadata": {
    "collapsed": false
   },
   "outputs": [],
   "source": [
    "np.sum(csum[ei(tmin):ei(tmax)])"
   ]
  },
  {
   "cell_type": "code",
   "execution_count": null,
   "metadata": {
    "collapsed": false
   },
   "outputs": [],
   "source": [
    "np.sum(csum_mau[ei(tmin):ei(tmax)])"
   ]
  },
  {
   "cell_type": "code",
   "execution_count": null,
   "metadata": {
    "collapsed": false
   },
   "outputs": [],
   "source": [
    "tmin=440\n",
    "tmax=480\n",
    "mpl.plot_signal_vs_time_mus(csum, t_min=tmin, t_max=tmax, signal_min=-2, signal_max=60)\n",
    "mpl.plot_signal_vs_time_mus(csum_mau, t_min=tmin, t_max=tmax, signal_min=-2, signal_max=60)"
   ]
  },
  {
   "cell_type": "code",
   "execution_count": null,
   "metadata": {
    "collapsed": false
   },
   "outputs": [],
   "source": [
    "tmin=470\n",
    "tmax=1200\n",
    "mpl.plot_signal_vs_time_mus(csum, t_min=tmin, t_max=tmax, signal_min=-2, signal_max=2)"
   ]
  },
  {
   "cell_type": "code",
   "execution_count": null,
   "metadata": {
    "collapsed": false
   },
   "outputs": [],
   "source": [
    "mpl.plot_signal_vs_time_mus(csum_mau, t_min=tmin, t_max=tmax, signal_min=-2, signal_max=2)"
   ]
  },
  {
   "cell_type": "markdown",
   "metadata": {
    "collapsed": false
   },
   "source": [
    "### A MAU-based search\n",
    "\n",
    "1. Pass MAU in the pre-S2 and post-S2 region\n",
    "2. Identify S1 candidates\n",
    "3. Search for S1 near the candidate region. "
   ]
  },
  {
   "cell_type": "markdown",
   "metadata": {
    "collapsed": false
   },
   "source": [
    "### ZS sum"
   ]
  },
  {
   "cell_type": "markdown",
   "metadata": {
    "collapsed": false
   },
   "source": [
    "#### USING MAU"
   ]
  },
  {
   "cell_type": "code",
   "execution_count": null,
   "metadata": {
    "collapsed": false
   },
   "outputs": [],
   "source": [
    "event = 0\n",
    "t0 = time()\n",
    "wfzs_ene, wfzs_indx = cpf.wfzs(csum, threshold=0.5*units.pes)\n",
    "wfzs_t = cpf.time_from_index(wfzs_indx)\n",
    "wfzs_ene2, wfzs_indx2 = cpf.wfzs(csum_mau, threshold=0.1*units.pes)\n",
    "wfzs_t2 = cpf.time_from_index(wfzs_indx2)\n",
    "t1 = time()        \n",
    "dt = t1 - t0\n",
    "\n",
    "print(\"run  in {} s\".format(dt))"
   ]
  },
  {
   "cell_type": "code",
   "execution_count": null,
   "metadata": {
    "collapsed": false
   },
   "outputs": [],
   "source": [
    "mpl.plot_signal(wfzs_t/units.mus, wfzs_ene, title=\"calibrated sum\",\n",
    "                signal_start=0, signal_end=1200, \n",
    "                ymax = 100, t_units='mus', units=\"pes\")"
   ]
  },
  {
   "cell_type": "code",
   "execution_count": null,
   "metadata": {
    "collapsed": false
   },
   "outputs": [],
   "source": [
    "mpl.plot_signal(wfzs_t/units.mus, wfzs_ene, title=\"calibrated sum\",\n",
    "                signal_start=0, signal_end=400, \n",
    "                ymax = 10, t_units='mus', units=\"pes\")"
   ]
  },
  {
   "cell_type": "markdown",
   "metadata": {
    "collapsed": false
   },
   "source": [
    "### MAU"
   ]
  },
  {
   "cell_type": "code",
   "execution_count": null,
   "metadata": {
    "collapsed": false
   },
   "outputs": [],
   "source": [
    "mpl.plot_signal(wfzs_t/units.mus, wfzs_ene, title=\"calibrated sum\",\n",
    "                signal_start=0, signal_end=1200, \n",
    "                ymax = 100, t_units='mus', units=\"pes\")"
   ]
  },
  {
   "cell_type": "code",
   "execution_count": null,
   "metadata": {
    "collapsed": false
   },
   "outputs": [],
   "source": [
    "mpl.plot_signal(wfzs_t2/units.mus, wfzs_ene2, title=\"calibrated sum\",\n",
    "                signal_start=0, signal_end=400, \n",
    "                ymax = 10, t_units='mus', units=\"pes\")"
   ]
  },
  {
   "cell_type": "markdown",
   "metadata": {
    "collapsed": false
   },
   "source": [
    "### S12"
   ]
  },
  {
   "cell_type": "code",
   "execution_count": null,
   "metadata": {
    "collapsed": false
   },
   "outputs": [],
   "source": [
    "S1 = cpf.find_S12(wfzs_ene, wfzs_indx, tmin=0,  tmax=110*units.mus, \n",
    "                 lmin=6, lmax=16, stride=4,\n",
    "                 rebin=False)\n",
    "S2 = cpf.find_S12(wfzs_ene, wfzs_indx, tmin=110*units.mus,  tmax=1200*units.mus, \n",
    "                 lmin=80, lmax=1000, stride=40,\n",
    "                 rebin=True, rebin_stride=40)"
   ]
  },
  {
   "cell_type": "code",
   "execution_count": null,
   "metadata": {
    "collapsed": false
   },
   "outputs": [],
   "source": [
    "S1"
   ]
  },
  {
   "cell_type": "code",
   "execution_count": null,
   "metadata": {
    "collapsed": false
   },
   "outputs": [],
   "source": [
    "S2"
   ]
  },
  {
   "cell_type": "code",
   "execution_count": null,
   "metadata": {
    "collapsed": false
   },
   "outputs": [],
   "source": [
    "pf.scan_s12(S1)"
   ]
  },
  {
   "cell_type": "code",
   "execution_count": null,
   "metadata": {
    "collapsed": false
   },
   "outputs": [],
   "source": [
    "pf.scan_s12(S2)"
   ]
  },
  {
   "cell_type": "markdown",
   "metadata": {
    "collapsed": false
   },
   "source": [
    "### S12 MAU"
   ]
  },
  {
   "cell_type": "code",
   "execution_count": null,
   "metadata": {
    "collapsed": false
   },
   "outputs": [],
   "source": [
    "S1 = cpf.find_S12(wfzs_ene2, wfzs_indx2, tmin=0,  tmax=110*units.mus, \n",
    "                 lmin=6, lmax=16, stride=4,\n",
    "                 rebin=False)\n",
    "S2 = cpf.find_S12(wfzs_ene2, wfzs_indx2, tmin=110*units.mus,  tmax=1200*units.mus, \n",
    "                 lmin=80, lmax=1000, stride=40,\n",
    "                 rebin=True, rebin_stride=40)"
   ]
  },
  {
   "cell_type": "code",
   "execution_count": null,
   "metadata": {
    "collapsed": false
   },
   "outputs": [],
   "source": [
    "pf.scan_s12(S1)"
   ]
  },
  {
   "cell_type": "code",
   "execution_count": null,
   "metadata": {
    "collapsed": false
   },
   "outputs": [],
   "source": [
    "pf.scan_s12(S2)"
   ]
  },
  {
   "cell_type": "markdown",
   "metadata": {
    "collapsed": false
   },
   "source": [
    "### MAU is not specially useful in the MC"
   ]
  },
  {
   "cell_type": "markdown",
   "metadata": {
    "collapsed": false
   },
   "source": [
    "#### Event 1"
   ]
  },
  {
   "cell_type": "code",
   "execution_count": null,
   "metadata": {
    "collapsed": false
   },
   "outputs": [],
   "source": [
    "event=1\n",
    "RWF = pmtrwf[event]\n",
    "CWF = blr.deconv_pmt(RWF, coeff_c, coeff_blr, n_baseline=38000, thr_trigger=5)\n",
    "csum, csum_mau = calibrated_pmt_sum(CWF, adc_to_pes, n_MAU=100, thr_MAU=5) "
   ]
  },
  {
   "cell_type": "code",
   "execution_count": null,
   "metadata": {
    "collapsed": false
   },
   "outputs": [],
   "source": [
    "tmin=0\n",
    "tmax=590\n",
    "mpl.plot_signal_vs_time_mus(csum, t_min=tmin, t_max=tmax, signal_min=-2, signal_max=2)"
   ]
  },
  {
   "cell_type": "code",
   "execution_count": null,
   "metadata": {
    "collapsed": false
   },
   "outputs": [],
   "source": [
    "tmin=0\n",
    "tmax=590\n",
    "mpl.plot_signal_vs_time_mus(csum_mau, t_min=tmin, t_max=tmax, signal_min=-2, signal_max=2)"
   ]
  },
  {
   "cell_type": "code",
   "execution_count": null,
   "metadata": {
    "collapsed": false
   },
   "outputs": [],
   "source": [
    "tmin=590\n",
    "tmax=610\n",
    "mpl.plot_signal_vs_time_mus(csum, t_min=tmin, t_max=tmax, signal_min=-2, signal_max=60)\n",
    "mpl.plot_signal_vs_time_mus(csum_mau, t_min=tmin, t_max=tmax, signal_min=-2, signal_max=60)"
   ]
  },
  {
   "cell_type": "code",
   "execution_count": null,
   "metadata": {
    "collapsed": false
   },
   "outputs": [],
   "source": [
    "tmin=610\n",
    "tmax=1200\n",
    "mpl.plot_signal_vs_time_mus(csum, t_min=tmin, t_max=tmax, signal_min=-2, signal_max=2)\n",
    "mpl.plot_signal_vs_time_mus(csum_mau, t_min=tmin, t_max=tmax, signal_min=-2, signal_max=2)"
   ]
  },
  {
   "cell_type": "code",
   "execution_count": null,
   "metadata": {
    "collapsed": false
   },
   "outputs": [],
   "source": [
    "wfzs_ene, wfzs_indx = cpf.wfzs(csum, threshold=0.5*units.pes)\n",
    "wfzs_t = cpf.time_from_index(wfzs_indx)\n",
    "S1 = cpf.find_S12(wfzs_ene, wfzs_indx, tmin=0,  tmax=590*units.mus, \n",
    "                 lmin=6, lmax=16, stride=4,\n",
    "                 rebin=False)\n",
    "S2 = cpf.find_S12(wfzs_ene, wfzs_indx, tmin=10*units.mus,  tmax=1190*units.mus, \n",
    "                 lmin=80, lmax=1000, stride=40,\n",
    "                 rebin=True, rebin_stride=40)"
   ]
  },
  {
   "cell_type": "code",
   "execution_count": null,
   "metadata": {
    "collapsed": false
   },
   "outputs": [],
   "source": [
    "S1"
   ]
  },
  {
   "cell_type": "code",
   "execution_count": null,
   "metadata": {
    "collapsed": false
   },
   "outputs": [],
   "source": [
    "S2"
   ]
  },
  {
   "cell_type": "code",
   "execution_count": null,
   "metadata": {
    "collapsed": false
   },
   "outputs": [],
   "source": [
    "pf.scan_s12(S2)"
   ]
  },
  {
   "cell_type": "markdown",
   "metadata": {
    "collapsed": false
   },
   "source": [
    "#### SiPMs"
   ]
  },
  {
   "cell_type": "code",
   "execution_count": null,
   "metadata": {
    "collapsed": false
   },
   "outputs": [],
   "source": [
    "sipm = cpf.signal_sipm(sipmrwf[event], adc_to_pes_sipm, thr=5*units.pes, n_MAU=100)\n",
    "SIPM = cpf.select_sipm(sipm)\n",
    "S2Si = pf.sipm_s2_dict(SIPM, S2, thr=50*units.pes)"
   ]
  },
  {
   "cell_type": "code",
   "execution_count": null,
   "metadata": {
    "collapsed": false
   },
   "outputs": [],
   "source": [
    "S2Si"
   ]
  },
  {
   "cell_type": "code",
   "execution_count": null,
   "metadata": {
    "collapsed": false
   },
   "outputs": [],
   "source": [
    "pf.plot_s2si_map(S2Si)"
   ]
  },
  {
   "cell_type": "code",
   "execution_count": null,
   "metadata": {
    "collapsed": false
   },
   "outputs": [],
   "source": [
    "event=2\n",
    "RWF = pmtrwf[event]\n",
    "CWF = blr.deconv_pmt(RWF, coeff_c, coeff_blr, n_baseline=38000, thr_trigger=5)\n",
    "csum, csum_mau = calibrated_pmt_sum(CWF, adc_to_pes, n_MAU=400, thr_MAU=10) \n",
    "wfzs_ene, wfzs_indx = cpf.wfzs(csum, threshold=0.5*units.pes)\n",
    "wfzs_t = cpf.time_from_index(wfzs_indx)\n",
    "S1 = cpf.find_S12(wfzs_ene, wfzs_indx, tmin=0,  tmax=590*units.mus, \n",
    "                 lmin=6, lmax=16, stride=4,\n",
    "                 rebin=False)\n",
    "S2 = cpf.find_S12(wfzs_ene, wfzs_indx, tmin=0*units.mus,  tmax=1100*units.mus, \n",
    "                 lmin=50, lmax=1000, stride=40,\n",
    "                 rebin=True, rebin_stride=40)\n",
    "sipm = cpf.signal_sipm(sipmrwf[event], adc_to_pes_sipm, thr=5*units.pes, n_MAU=100)\n",
    "SIPM = cpf.select_sipm(sipm)\n",
    "S2Si = pf.sipm_s2_dict(SIPM, S2, thr=50*units.pes)"
   ]
  },
  {
   "cell_type": "code",
   "execution_count": null,
   "metadata": {
    "collapsed": false
   },
   "outputs": [],
   "source": [
    "tmin=0\n",
    "tmax=590\n",
    "mpl.plot_signal_vs_time_mus(csum, t_min=tmin, t_max=tmax, signal_min=-2, signal_max=2)"
   ]
  },
  {
   "cell_type": "code",
   "execution_count": null,
   "metadata": {
    "collapsed": false
   },
   "outputs": [],
   "source": [
    "tmin=0\n",
    "tmax=590\n",
    "mpl.plot_signal_vs_time_mus(csum_mau, t_min=tmin, t_max=tmax, signal_min=-2, signal_max=2)"
   ]
  },
  {
   "cell_type": "code",
   "execution_count": null,
   "metadata": {
    "collapsed": false
   },
   "outputs": [],
   "source": [
    "tmin=590\n",
    "tmax=640\n",
    "mpl.plot_signal_vs_time_mus(csum, t_min=tmin, t_max=tmax, signal_min=-2, signal_max=200)\n",
    "mpl.plot_signal_vs_time_mus(csum_mau, t_min=tmin, t_max=tmax, signal_min=-2, signal_max=200)"
   ]
  },
  {
   "cell_type": "code",
   "execution_count": null,
   "metadata": {
    "collapsed": false
   },
   "outputs": [],
   "source": [
    "tmin=620\n",
    "tmax=1200\n",
    "mpl.plot_signal_vs_time_mus(csum, t_min=tmin, t_max=tmax, signal_min=-2, signal_max=2)"
   ]
  },
  {
   "cell_type": "code",
   "execution_count": null,
   "metadata": {
    "collapsed": false
   },
   "outputs": [],
   "source": [
    "mpl.plot_signal_vs_time_mus(csum_mau, t_min=tmin, t_max=tmax, signal_min=-2, signal_max=2)"
   ]
  },
  {
   "cell_type": "markdown",
   "metadata": {
    "collapsed": false
   },
   "source": [
    "1. Before signal: flat tail at about 0.1 pes.\n",
    "2. After signal: rises to about 1 pes, then decays. "
   ]
  },
  {
   "cell_type": "code",
   "execution_count": null,
   "metadata": {
    "collapsed": false
   },
   "outputs": [],
   "source": [
    "S1"
   ]
  },
  {
   "cell_type": "code",
   "execution_count": null,
   "metadata": {
    "collapsed": false
   },
   "outputs": [],
   "source": [
    "pf.scan_s12(S1)"
   ]
  },
  {
   "cell_type": "code",
   "execution_count": null,
   "metadata": {
    "collapsed": false
   },
   "outputs": [],
   "source": [
    "pf.scan_s12(S2)"
   ]
  },
  {
   "cell_type": "markdown",
   "metadata": {
    "collapsed": false
   },
   "source": [
    "#### Not a krypton signal. "
   ]
  },
  {
   "cell_type": "code",
   "execution_count": null,
   "metadata": {
    "collapsed": false
   },
   "outputs": [],
   "source": [
    "pf.plot_s2si_map(S2Si)"
   ]
  },
  {
   "cell_type": "markdown",
   "metadata": {
    "collapsed": false
   },
   "source": [
    "A clear track!"
   ]
  },
  {
   "cell_type": "code",
   "execution_count": null,
   "metadata": {
    "collapsed": false
   },
   "outputs": [],
   "source": [
    "event=3\n",
    "RWF = pmtrwf[event]\n",
    "CWF = blr.deconv_pmt(RWF, coeff_c, coeff_blr, n_baseline=38000, thr_trigger=5)\n",
    "csum, csum_mau = calibrated_pmt_sum(CWF, adc_to_pes, n_MAU=400, thr_MAU=5) \n",
    "wfzs_ene, wfzs_indx = cpf.wfzs(csum, threshold=0.5*units.pes)\n",
    "wfzs_t = cpf.time_from_index(wfzs_indx)\n",
    "S1 = cpf.find_S12(wfzs_ene, wfzs_indx, tmin=0,  tmax=590*units.mus, \n",
    "                 lmin=6, lmax=16, stride=4,\n",
    "                 rebin=False)\n",
    "S2 = cpf.find_S12(wfzs_ene, wfzs_indx, tmin=0*units.mus,  tmax=1100*units.mus, \n",
    "                 lmin=50, lmax=1000, stride=40,\n",
    "                 rebin=True, rebin_stride=40)\n",
    "sipm = cpf.signal_sipm(sipmrwf[event], adc_to_pes_sipm, thr=5*units.pes, n_MAU=100)\n",
    "SIPM = cpf.select_sipm(sipm)\n",
    "S2Si = pf.sipm_s2_dict(SIPM, S2, thr=50*units.pes)"
   ]
  },
  {
   "cell_type": "code",
   "execution_count": null,
   "metadata": {
    "collapsed": false
   },
   "outputs": [],
   "source": [
    "tmin=0\n",
    "tmax=590\n",
    "mpl.plot_signal_vs_time_mus(csum, t_min=tmin, t_max=tmax, signal_min=-2, signal_max=2)"
   ]
  },
  {
   "cell_type": "code",
   "execution_count": null,
   "metadata": {
    "collapsed": false
   },
   "outputs": [],
   "source": [
    "mpl.plot_signal_vs_time_mus(csum_mau, t_min=tmin, t_max=tmax, signal_min=-2, signal_max=2)"
   ]
  },
  {
   "cell_type": "code",
   "execution_count": null,
   "metadata": {
    "collapsed": false
   },
   "outputs": [],
   "source": [
    "tmin=590\n",
    "tmax=610\n",
    "mpl.plot_signal_vs_time_mus(csum, t_min=tmin, t_max=tmax, signal_min=-2, signal_max=60)\n",
    "mpl.plot_signal_vs_time_mus(csum_mau, t_min=tmin, t_max=tmax, signal_min=-2, signal_max=60)"
   ]
  },
  {
   "cell_type": "code",
   "execution_count": null,
   "metadata": {
    "collapsed": false
   },
   "outputs": [],
   "source": [
    "tmin=610\n",
    "tmax=1200\n",
    "mpl.plot_signal_vs_time_mus(csum, t_min=tmin, t_max=tmax, signal_min=-2, signal_max=2)"
   ]
  },
  {
   "cell_type": "code",
   "execution_count": null,
   "metadata": {
    "collapsed": false
   },
   "outputs": [],
   "source": [
    "mpl.plot_signal_vs_time_mus(csum_mau, t_min=tmin, t_max=tmax, signal_min=-2, signal_max=2)"
   ]
  },
  {
   "cell_type": "code",
   "execution_count": null,
   "metadata": {
    "collapsed": false
   },
   "outputs": [],
   "source": [
    "pf.scan_s12(S1)"
   ]
  },
  {
   "cell_type": "code",
   "execution_count": null,
   "metadata": {
    "collapsed": false
   },
   "outputs": [],
   "source": [
    "pf.scan_s12(S2)"
   ]
  },
  {
   "cell_type": "code",
   "execution_count": null,
   "metadata": {
    "collapsed": false
   },
   "outputs": [],
   "source": [
    "pf.plot_s2si_map(S2Si)"
   ]
  },
  {
   "cell_type": "code",
   "execution_count": null,
   "metadata": {
    "collapsed": false
   },
   "outputs": [],
   "source": []
  }
 ],
 "metadata": {
  "anaconda-cloud": {},
  "kernelspec": {
   "display_name": "Python [conda env:IC3.5]",
   "language": "python",
   "name": "conda-env-IC3.5-py"
  },
  "language_info": {
   "codemirror_mode": {
    "name": "ipython",
    "version": 3
   },
   "file_extension": ".py",
   "mimetype": "text/x-python",
   "name": "python",
   "nbconvert_exporter": "python",
   "pygments_lexer": "ipython3",
   "version": "3.5.2"
  }
 },
 "nbformat": 4,
 "nbformat_minor": 2
}
