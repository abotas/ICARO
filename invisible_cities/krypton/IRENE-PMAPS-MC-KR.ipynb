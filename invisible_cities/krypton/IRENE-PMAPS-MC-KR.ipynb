{
 "cells": [
  {
   "cell_type": "markdown",
   "metadata": {
    "collapsed": false
   },
   "source": [
    "# IRENE-PMAPS-MC-KR"
   ]
  },
  {
   "cell_type": "markdown",
   "metadata": {
    "collapsed": false
   },
   "source": [
    "#### Prototype, IRENE reconstruction, Kripton MC data"
   ]
  },
  {
   "cell_type": "code",
   "execution_count": null,
   "metadata": {
    "collapsed": false
   },
   "outputs": [],
   "source": [
    "from __future__ import print_function"
   ]
  },
  {
   "cell_type": "code",
   "execution_count": null,
   "metadata": {
    "collapsed": false
   },
   "outputs": [],
   "source": [
    "import time\n",
    "%matplotlib inline\n",
    "%load_ext autoreload\n",
    "import matplotlib.pyplot as plt\n",
    "import pandas as pd\n",
    "import tables as tb\n",
    "import numpy as np\n",
    "import Core.mplFunctions as mpl\n",
    "import Core.wfmFunctions as wfm\n",
    "from Database import loadDB\n",
    "import ICython.Sierpe.BLR as blr\n",
    "import ICython.Core.peakFunctions as cpf\n",
    "import Core.peakFunctions as pf\n",
    "from ICython.Core.system_of_units import SystemOfUnits \n",
    "from scipy import signal\n",
    "%load_ext Cython"
   ]
  },
  {
   "cell_type": "code",
   "execution_count": null,
   "metadata": {
    "collapsed": false
   },
   "outputs": [],
   "source": [
    "print(time.strftime(\"%d/%m/%Y\"))\n",
    "print(time.strftime(\"%H:%M:%S\"))"
   ]
  },
  {
   "cell_type": "code",
   "execution_count": null,
   "metadata": {
    "collapsed": false
   },
   "outputs": [],
   "source": [
    "from time import time"
   ]
  },
  {
   "cell_type": "code",
   "execution_count": null,
   "metadata": {
    "collapsed": false
   },
   "outputs": [],
   "source": [
    "import Cities.IRENE as irene"
   ]
  },
  {
   "cell_type": "markdown",
   "metadata": {
    "collapsed": false
   },
   "source": [
    "### Kripton MC"
   ]
  },
  {
   "cell_type": "markdown",
   "metadata": {
    "collapsed": false
   },
   "source": [
    "1. P = 7 bar\n",
    "2. V_gate = 7kV: E/P = 2\n",
    "3. Processed by DIOMIRA"
   ]
  },
  {
   "cell_type": "markdown",
   "metadata": {
    "collapsed": false
   },
   "source": [
    "### Kripton MC file"
   ]
  },
  {
   "cell_type": "code",
   "execution_count": null,
   "metadata": {
    "collapsed": false
   },
   "outputs": [],
   "source": [
    "path='/Users/jjgomezcadenas/Documents/Development/NEXT/icdata/MC/'\n",
    "ffile = 'ic_dst_NEXT_v0_08_06_Kr_ACTIVE_0_0_7bar_MCRD_10000.root.h5'\n",
    "fkr = tb.open_file(path+ffile,'r+')\n",
    "pmtrwf = fkr.root.RD.pmtrwf\n",
    "sipmrwf = fkr.root.RD.sipmrwf\n",
    "NEVT, NPMT, PMTWL = pmtrwf.shape\n",
    "NEVT, NSIPM, SIPMWL = sipmrwf.shape\n",
    "print(\"\"\"\n",
    "        Number of events in file = {}\n",
    "        Number of PMTs = {}\n",
    "        PMTWL = {}\n",
    "        Number of SiPMs = {}\n",
    "        SiPMWL = {}\n",
    "      \"\"\".format(NEVT, NPMT, PMTWL,NSIPM, SIPMWL))"
   ]
  },
  {
   "cell_type": "markdown",
   "metadata": {
    "collapsed": false
   },
   "source": [
    "### Access to data base and definition of units"
   ]
  },
  {
   "cell_type": "code",
   "execution_count": null,
   "metadata": {
    "collapsed": false
   },
   "outputs": [],
   "source": [
    "DataPMT = loadDB.DataPMT()\n",
    "units = SystemOfUnits()\n",
    "adc_to_pes = abs(DataPMT.adc_to_pes.values)\n",
    "coeff_c = abs(DataPMT.coeff_c.values)\n",
    "coeff_blr = abs(DataPMT.coeff_blr.values)\n",
    "DataSiPM = loadDB.DataSiPM(2976)\n",
    "adc_to_pes_sipm = DataSiPM.adc_to_pes.values\n",
    "xs = DataSiPM.X.values\n",
    "ys = DataSiPM.Y.values"
   ]
  },
  {
   "cell_type": "code",
   "execution_count": null,
   "metadata": {
    "collapsed": false
   },
   "outputs": [],
   "source": [
    "DataPMT"
   ]
  },
  {
   "cell_type": "markdown",
   "metadata": {
    "collapsed": false
   },
   "source": [
    "### Structure of file"
   ]
  },
  {
   "cell_type": "code",
   "execution_count": null,
   "metadata": {
    "collapsed": false
   },
   "outputs": [],
   "source": [
    "fkr"
   ]
  },
  {
   "cell_type": "code",
   "execution_count": null,
   "metadata": {
    "collapsed": false
   },
   "outputs": [],
   "source": [
    "fkr.__contains__('/Run')"
   ]
  },
  {
   "cell_type": "code",
   "execution_count": null,
   "metadata": {
    "collapsed": false
   },
   "outputs": [],
   "source": [
    "if '/Run' in fkr:\n",
    "    print('True')\n",
    "else:\n",
    "    print('False')\n"
   ]
  },
  {
   "cell_type": "markdown",
   "metadata": {
    "collapsed": false
   },
   "source": [
    "### Plot Raw Waveform"
   ]
  },
  {
   "cell_type": "code",
   "execution_count": null,
   "metadata": {
    "collapsed": false
   },
   "outputs": [],
   "source": [
    "event = 0\n",
    "mpl.plot_waveforms(pmtrwf[event])"
   ]
  },
  {
   "cell_type": "markdown",
   "metadata": {
    "collapsed": false
   },
   "source": [
    "### Deconvolution"
   ]
  },
  {
   "cell_type": "code",
   "execution_count": null,
   "metadata": {
    "collapsed": false
   },
   "outputs": [],
   "source": [
    "event = 0\n",
    "t0 = time()\n",
    "CWF = blr.deconv_pmt(pmtrwf[event], coeff_c, coeff_blr)\n",
    "t1 = time()        \n",
    "dt = t1 - t0\n",
    "\n",
    "print(\"run over {} events  in {} s\".format(event,dt))\n",
    "mpl.plot_waveforms(CWF)"
   ]
  },
  {
   "cell_type": "markdown",
   "metadata": {
    "collapsed": false
   },
   "source": [
    "### calibrated PMT sum"
   ]
  },
  {
   "cell_type": "code",
   "execution_count": null,
   "metadata": {
    "collapsed": false
   },
   "outputs": [],
   "source": [
    "event = 0\n",
    "t0 = time()\n",
    "CWF = blr.deconv_pmt(pmtrwf[event], coeff_c, coeff_blr)\n",
    "csum = cpf.calibrated_pmt_sum(CWF, adc_to_pes, n_MAU=100, thr_MAU=3) \n",
    "t1 = time()        \n",
    "dt = t1 - t0\n",
    "\n",
    "print(\"run over {} events  in {} s\".format(event,dt))"
   ]
  },
  {
   "cell_type": "code",
   "execution_count": null,
   "metadata": {
    "collapsed": false
   },
   "outputs": [],
   "source": [
    "tstep = 25\n",
    "signal_t = np.arange(0., PMTWL * tstep, tstep)"
   ]
  },
  {
   "cell_type": "code",
   "execution_count": null,
   "metadata": {
    "collapsed": false
   },
   "outputs": [],
   "source": [
    "mpl.plot_signal(signal_t/units.mus, csum, title=\"calibrated sum\",\n",
    "                signal_start=0, signal_end=1200, \n",
    "                ymax = 100, \n",
    "                t_units='mus', units=\"pes\")"
   ]
  },
  {
   "cell_type": "code",
   "execution_count": null,
   "metadata": {
    "collapsed": false
   },
   "outputs": [],
   "source": [
    "mpl.plot_signal(signal_t/units.mus, csum, title=\"calibrated sum\",\n",
    "                signal_start=260, signal_end=280, \n",
    "                ymax = 60, \n",
    "                t_units='mus', units=\"pes\")"
   ]
  },
  {
   "cell_type": "code",
   "execution_count": null,
   "metadata": {
    "collapsed": false
   },
   "outputs": [],
   "source": [
    "np.sum(csum)"
   ]
  },
  {
   "cell_type": "code",
   "execution_count": null,
   "metadata": {
    "collapsed": false
   },
   "outputs": [],
   "source": []
  },
  {
   "cell_type": "code",
   "execution_count": null,
   "metadata": {
    "collapsed": false
   },
   "outputs": [],
   "source": [
    "mpl.plot_signal(signal_t/units.mus, csum, title=\"calibrated sum\",\n",
    "                signal_start=99, signal_end=101, \n",
    "                ymax = 5, \n",
    "                t_units='mus', units=\"pes\")"
   ]
  },
  {
   "cell_type": "markdown",
   "metadata": {
    "collapsed": false
   },
   "source": [
    "###  ZS in PMTs"
   ]
  },
  {
   "cell_type": "code",
   "execution_count": null,
   "metadata": {
    "collapsed": false
   },
   "outputs": [],
   "source": [
    "event = 0\n",
    "t0 = time()\n",
    "CWF = blr.deconv_pmt(pmtrwf[event], coeff_c, coeff_blr)\n",
    "csum = cpf.calibrated_pmt_sum(CWF, adc_to_pes, n_MAU=200, thr_MAU=5) \n",
    "wfzs_ene, wfzs_indx = cpf.wfzs(csum, threshold=0.5*units.pes)\n",
    "wfzs_t = cpf.time_from_index(wfzs_indx)\n",
    "t1 = time()        \n",
    "dt = t1 - t0\n",
    "\n",
    "print(\"run over {} events  in {} s\".format(event,dt))"
   ]
  },
  {
   "cell_type": "code",
   "execution_count": null,
   "metadata": {
    "collapsed": false
   },
   "outputs": [],
   "source": [
    "mpl.plot_signal(wfzs_t/units.mus, wfzs_ene, title=\"calibrated sum, ZS\",\n",
    "                signal_start=260, signal_end=280, \n",
    "                ymax = 60, \n",
    "                t_units='mus', units=\"pes\")"
   ]
  },
  {
   "cell_type": "markdown",
   "metadata": {
    "collapsed": false
   },
   "source": [
    "### Find S12 "
   ]
  },
  {
   "cell_type": "code",
   "execution_count": null,
   "metadata": {
    "collapsed": false
   },
   "outputs": [],
   "source": [
    "event = 0\n",
    "t0 = time()\n",
    "CWF = blr.deconv_pmt(pmtrwf[event], coeff_c, coeff_blr)\n",
    "csum = cpf.calibrated_pmt_sum(CWF, adc_to_pes, n_MAU=100, thr_MAU=3) \n",
    "wfzs_ene, wfzs_indx = cpf.wfzs(csum, threshold=0.25*units.pes)\n",
    "wfzs_t = cpf.time_from_index(wfzs_indx)\n",
    "S1 = cpf.find_S12(wfzs_ene, wfzs_indx, tmin=10,  tmax=110*units.mus, \n",
    "                 lmin=5, lmax=20, stride=4,\n",
    "                 rebin=False)\n",
    "S2 = cpf.find_S12(wfzs_ene, wfzs_indx, tmin=110*units.mus,  tmax=1190*units.mus, \n",
    "                 lmin=100, lmax=300, stride=40,\n",
    "                 rebin=True, rebin_stride=40)\n",
    "t1 = time()        \n",
    "dt = t1 - t0\n",
    "\n",
    "print(\"run over {} events  in {} s\".format(event,dt))"
   ]
  },
  {
   "cell_type": "code",
   "execution_count": null,
   "metadata": {
    "collapsed": false
   },
   "outputs": [],
   "source": [
    "pf.scan_S12(S1)"
   ]
  },
  {
   "cell_type": "code",
   "execution_count": null,
   "metadata": {
    "collapsed": false
   },
   "outputs": [],
   "source": [
    "pf.scan_S12(S2)"
   ]
  },
  {
   "cell_type": "markdown",
   "metadata": {
    "collapsed": false
   },
   "source": [
    "### SiPMs"
   ]
  },
  {
   "cell_type": "code",
   "execution_count": null,
   "metadata": {
    "collapsed": false
   },
   "outputs": [],
   "source": [
    "event=0\n",
    "mpl.plot_sipm(sipmrwf[event], nmin=0, nmax=16, x=4, y=4)"
   ]
  },
  {
   "cell_type": "markdown",
   "metadata": {
    "collapsed": false
   },
   "source": [
    "### Subtract baseline, and set a cut to supress dark current"
   ]
  },
  {
   "cell_type": "code",
   "execution_count": null,
   "metadata": {
    "collapsed": false
   },
   "outputs": [],
   "source": [
    "event=0\n",
    "t0 = time()\n",
    "sipm = cpf.signal_sipm(sipmrwf[event], adc_to_pes_sipm, thr=5*units.pes, n_MAU=100)\n",
    "SIPM = cpf.select_sipm(sipm)\n",
    "t1 = time()        \n",
    "dt = t1 - t0\n",
    "\n",
    "print(\"run in {} s\".format(dt))\n",
    "print('number of SiPM with signal = {}'.format(len(SIPM)))"
   ]
  },
  {
   "cell_type": "code",
   "execution_count": null,
   "metadata": {
    "collapsed": false
   },
   "outputs": [],
   "source": [
    "mpl.plot_sipm(sipm, nmin=0, nmax=16, x=4, y=4)"
   ]
  },
  {
   "cell_type": "code",
   "execution_count": null,
   "metadata": {
    "collapsed": false
   },
   "outputs": [],
   "source": [
    "SIPM"
   ]
  },
  {
   "cell_type": "markdown",
   "metadata": {
    "collapsed": false
   },
   "source": [
    "### Selecting SiPMs: threshold on the window "
   ]
  },
  {
   "cell_type": "code",
   "execution_count": null,
   "metadata": {
    "collapsed": false
   },
   "outputs": [],
   "source": [
    "def sipm_area_S2(sipml):\n",
    "    \"\"\"\n",
    "    Computes and histgram the area in S2 window for SiPMs selected in sipml\n",
    "    \"\"\"\n",
    "    area_s2 = np.zeros(len(sipml), dtype=np.double)\n",
    "    for i, sipm in enumerate(sipml):\n",
    "        area_s2[i] = np.sum(sipm[1])\n",
    "    return area_s2"
   ]
  },
  {
   "cell_type": "markdown",
   "metadata": {
    "collapsed": false
   },
   "source": [
    "### Low threshold"
   ]
  },
  {
   "cell_type": "code",
   "execution_count": null,
   "metadata": {
    "collapsed": false
   },
   "outputs": [],
   "source": [
    "sipml = pf.sipm_S2(SIPM,S2[0], thr=5*units.pes)"
   ]
  },
  {
   "cell_type": "code",
   "execution_count": null,
   "metadata": {
    "collapsed": false
   },
   "outputs": [],
   "source": [
    "sipml"
   ]
  },
  {
   "cell_type": "code",
   "execution_count": null,
   "metadata": {
    "collapsed": false
   },
   "outputs": [],
   "source": [
    "area_s2 = sipm_area_S2(sipml)"
   ]
  },
  {
   "cell_type": "code",
   "execution_count": null,
   "metadata": {
    "collapsed": false
   },
   "outputs": [],
   "source": [
    "plt.hist(area_s2[area_s2<1000], bins=20)"
   ]
  },
  {
   "cell_type": "markdown",
   "metadata": {
    "collapsed": false
   },
   "source": [
    "### A cut at 20-40 separates signal from bkg"
   ]
  },
  {
   "cell_type": "code",
   "execution_count": null,
   "metadata": {
    "collapsed": false
   },
   "outputs": [],
   "source": [
    "sipmd = pf.sipm_S2_dict(SIPM, S2, thr=40*units.pes)"
   ]
  },
  {
   "cell_type": "code",
   "execution_count": null,
   "metadata": {
    "collapsed": false
   },
   "outputs": [],
   "source": [
    "sipmd"
   ]
  },
  {
   "cell_type": "markdown",
   "metadata": {
    "collapsed": false
   },
   "source": [
    "### The full pre-proc "
   ]
  },
  {
   "cell_type": "code",
   "execution_count": null,
   "metadata": {
    "collapsed": false
   },
   "outputs": [],
   "source": [
    "event = 0\n",
    "t0 = time()\n",
    "CWF = blr.deconv_pmt(pmtrwf[event], coeff_c, coeff_blr)\n",
    "csum = cpf.calibrated_pmt_sum(CWF, adc_to_pes, n_MAU=100, thr_MAU=3) \n",
    "wfzs_ene, wfzs_indx = cpf.wfzs(csum, threshold=0.25*units.pes)\n",
    "wfzs_t = cpf.time_from_index(wfzs_indx)\n",
    "S1 = cpf.find_S12(wfzs_ene, wfzs_indx, tmin=10,  tmax=110*units.mus, \n",
    "                 lmin=5, lmax=20, stride=4,\n",
    "                 rebin=False)\n",
    "S2 = cpf.find_S12(wfzs_ene, wfzs_indx, tmin=110*units.mus,  tmax=1190*units.mus, \n",
    "                 lmin=100, lmax=300, stride=40,\n",
    "                 rebin=True, rebin_stride=40)\n",
    "sipm = cpf.signal_sipm(sipmrwf[event], adc_to_pes_sipm, thr=5*units.pes, n_MAU=100)\n",
    "SIPM = cpf.select_sipm(sipm)\n",
    "sipmd = pf.sipm_S2_dict(SIPM, S2, thr=40*units.pes)\n",
    "t1 = time()        \n",
    "dt = t1 - t0\n",
    "\n",
    "print(\"run in {} s\".format(dt))"
   ]
  },
  {
   "cell_type": "code",
   "execution_count": null,
   "metadata": {
    "collapsed": false
   },
   "outputs": [],
   "source": [
    "def plot_ene_sipm(sipmd, Xs, Ys, radius=3):\n",
    "    \"\"\"\n",
    "    plots the reconstructed energy of the SiPMs\n",
    "    input: sipm dictionary\n",
    "    \"\"\"\n",
    "\n",
    "    r = np.ones(len(Xs)) * radius\n",
    "    col = np.zeros(len(Xs))\n",
    "    for i in sipmd.keys():\n",
    "        sipml = sipmd[i]\n",
    "        for sipm in sipml:\n",
    "            sipm_n = sipm[0]\n",
    "            sipm_wf = sipm[1]\n",
    "            sipm_e = np.sum(sipm_wf)\n",
    "            col[sipm_n] = sipm_e\n",
    "\n",
    "    plt.figure(figsize=(10, 10))\n",
    "    plt.subplot(aspect=\"equal\")\n",
    "    mpl.circles(Xs, Ys, r, c=col, alpha=0.5, ec=\"none\")\n",
    "    plt.colorbar()\n",
    "\n",
    "    plt.xlim(-198, 198)\n",
    "    plt.ylim(-198, 198)\n",
    "    \n",
    "    return col"
   ]
  },
  {
   "cell_type": "code",
   "execution_count": null,
   "metadata": {
    "collapsed": false
   },
   "outputs": [],
   "source": [
    "col = plot_ene_sipm(sipmd,xs,ys)"
   ]
  },
  {
   "cell_type": "code",
   "execution_count": null,
   "metadata": {
    "collapsed": false
   },
   "outputs": [],
   "source": [
    "plt.plot(col)"
   ]
  }
 ],
 "metadata": {
  "anaconda-cloud": {},
  "kernelspec": {
   "display_name": "Python [conda env:IC3.5]",
   "language": "python",
   "name": "conda-env-IC3.5-py"
  },
  "language_info": {
   "codemirror_mode": {
    "name": "ipython",
    "version": 3
   },
   "file_extension": ".py",
   "mimetype": "text/x-python",
   "name": "python",
   "nbconvert_exporter": "python",
   "pygments_lexer": "ipython3",
   "version": "3.5.2"
  }
 },
 "nbformat": 4,
 "nbformat_minor": 0
}
