{
 "cells": [
  {
   "cell_type": "markdown",
   "metadata": {
    "collapsed": false
   },
   "source": [
    "# Kripton logbook"
   ]
  },
  {
   "cell_type": "markdown",
   "metadata": {
    "collapsed": false
   },
   "source": [
    "## A logbook for Krypton analysis"
   ]
  },
  {
   "cell_type": "markdown",
   "metadata": {
    "collapsed": false
   },
   "source": [
    "## Run 2980"
   ]
  },
  {
   "cell_type": "code",
   "execution_count": null,
   "metadata": {
    "collapsed": false
   },
   "outputs": [],
   "source": [
    "import datetime\n",
    "print(datetime.datetime.now().strftime('%Y-%m-%d %H:%M:%S'))"
   ]
  },
  {
   "cell_type": "code",
   "execution_count": null,
   "metadata": {
    "collapsed": false
   },
   "outputs": [],
   "source": [
    "from __future__ import print_function\n",
    "import sys\n",
    "import os\n",
    "from glob import glob\n",
    "from time import time"
   ]
  },
  {
   "cell_type": "code",
   "execution_count": null,
   "metadata": {
    "collapsed": false
   },
   "outputs": [],
   "source": [
    "%matplotlib inline\n",
    "%load_ext autoreload\n",
    "%autoreload 2\n",
    "import matplotlib.pyplot as plt\n",
    "import pandas as pd\n",
    "import tables as tb\n",
    "import numpy as np"
   ]
  },
  {
   "cell_type": "code",
   "execution_count": null,
   "metadata": {
    "collapsed": false
   },
   "outputs": [],
   "source": [
    "from invisible_cities.database import load_db\n",
    "from invisible_cities.core.system_of_units_c import SystemOfUnits\n",
    "import invisible_cities.sierpe.blr as blr\n",
    "import invisible_cities.core.mpl_functions as mpl\n",
    "import invisible_cities.core.wfm_functions as wfm\n",
    "import invisible_cities.core.tbl_functions as tbl\n",
    "import invisible_cities.core.peak_functions_c as cpf\n",
    "import invisible_cities.core.pmaps_functions as pf\n",
    "import invisible_cities.core.sensor_functions as sf"
   ]
  },
  {
   "cell_type": "code",
   "execution_count": null,
   "metadata": {
    "collapsed": false
   },
   "outputs": [],
   "source": [
    "from scipy import signal as SGN"
   ]
  },
  {
   "cell_type": "markdown",
   "metadata": {
    "collapsed": false
   },
   "source": [
    "### Access to data base and definition of units"
   ]
  },
  {
   "cell_type": "code",
   "execution_count": null,
   "metadata": {
    "collapsed": false
   },
   "outputs": [],
   "source": [
    "DataPMT = load_db.DataPMT(2980)\n",
    "units = SystemOfUnits()\n",
    "adc_to_pes = abs(DataPMT.adc_to_pes.values)\n",
    "coeff_c = abs(DataPMT.coeff_c.values)\n",
    "coeff_blr = abs(DataPMT.coeff_blr.values)\n",
    "DataSiPM = load_db.DataSiPM(2980)\n",
    "adc_to_pes_sipm = DataSiPM.adc_to_pes.values\n",
    "xs = DataSiPM.X.values\n",
    "ys = DataSiPM.Y.values"
   ]
  },
  {
   "cell_type": "markdown",
   "metadata": {
    "collapsed": false
   },
   "source": [
    "### Data files"
   ]
  },
  {
   "cell_type": "code",
   "execution_count": null,
   "metadata": {
    "collapsed": false
   },
   "outputs": [],
   "source": [
    "RWF_file = os.environ['IC_DATA']  + '/LSC/run_2980.gdc1next.999.h5'"
   ]
  },
  {
   "cell_type": "code",
   "execution_count": null,
   "metadata": {
    "collapsed": false
   },
   "outputs": [],
   "source": [
    "h5rwf = tb.open_file(RWF_file,'r')"
   ]
  },
  {
   "cell_type": "code",
   "execution_count": null,
   "metadata": {
    "collapsed": false
   },
   "outputs": [],
   "source": [
    "pmtrwf, pmtblr, sipmrwf = tbl.get_vectors(h5rwf)"
   ]
  },
  {
   "cell_type": "code",
   "execution_count": null,
   "metadata": {
    "collapsed": false
   },
   "outputs": [],
   "source": [
    "NEVT, NPMT, PMTWL = pmtrwf.shape\n",
    "NEVT, NSIPM, SIPMWL = sipmrwf.shape\n",
    "print(\"\"\"\n",
    "        Number of events in file = {}\n",
    "        Number of PMTs = {}\n",
    "        PMTWL = {}\n",
    "        Number of SiPMs = {}\n",
    "        SiPMWL = {}\n",
    "      \"\"\".format(NEVT, NPMT, PMTWL,NSIPM, SIPMWL))"
   ]
  },
  {
   "cell_type": "markdown",
   "metadata": {
    "collapsed": false
   },
   "source": [
    "### Detailed analysis of event 0"
   ]
  },
  {
   "cell_type": "code",
   "execution_count": null,
   "metadata": {
    "collapsed": false
   },
   "outputs": [],
   "source": [
    "event = 0\n",
    "RWF = pmtrwf[event]"
   ]
  },
  {
   "cell_type": "code",
   "execution_count": null,
   "metadata": {
    "collapsed": false
   },
   "outputs": [],
   "source": [
    "tstep = 25\n",
    "signal_t = np.arange(0., PMTWL * tstep, tstep)/units.mus"
   ]
  },
  {
   "cell_type": "code",
   "execution_count": null,
   "metadata": {
    "collapsed": false
   },
   "outputs": [],
   "source": [
    "wfm.plot_pmt_waveforms(RWF, zoom=False, window_size=2000)"
   ]
  },
  {
   "cell_type": "markdown",
   "metadata": {
    "collapsed": false
   },
   "source": [
    "#### A double event!"
   ]
  },
  {
   "cell_type": "code",
   "execution_count": null,
   "metadata": {
    "collapsed": false
   },
   "outputs": [],
   "source": [
    "def plot_signal(signal, signal_start=0, signal_end=1200, ymax=200):\n",
    "    \"\"\"Given a series signal (t, signal), plot the signal.\"\"\"\n",
    "    tstep = 25\n",
    "    PMTWL = signal.shape[0]\n",
    "    signal_t = np.arange(0., PMTWL * tstep, tstep)/units.mus\n",
    "    ax1 = plt.subplot(1, 1, 1)\n",
    "    ax1.set_xlim([signal_start, signal_end])\n",
    "    ax1.set_ylim([0, ymax])\n",
    "    \n",
    "    plt.plot(signal_t, signal)\n"
   ]
  },
  {
   "cell_type": "code",
   "execution_count": null,
   "metadata": {
    "collapsed": false
   },
   "outputs": [],
   "source": [
    "def plot_pmt_signals(signals, signal_start=0, signal_end=1200, ymax = 250):\n",
    "    \"\"\"Take as input a vector storing the PMT wf and plot the waveforms\"\"\"\n",
    "    \n",
    "    tstep = 25\n",
    "    PMTWL = signals[0].shape[0]\n",
    "    signal_t = np.arange(0., PMTWL * tstep, tstep)/units.mus\n",
    "    plt.figure(figsize=(12, 12))\n",
    "    for i in range(len(signals)):\n",
    "        ax1 = plt.subplot(3, 4, i+1)\n",
    "        ax1.set_xlim([signal_start, signal_end])\n",
    "        ax1.set_ylim([0, ymax])\n",
    "        mpl.set_plot_labels(xlabel=\"t (mus)\",\n",
    "                  ylabel=\"signal (pes)\")\n",
    "        #plt.title(\"EP\")\n",
    "        plt.plot(signal_t, signals[i])\n",
    "        \n"
   ]
  },
  {
   "cell_type": "markdown",
   "metadata": {
    "collapsed": false
   },
   "source": [
    "### Deconvolution "
   ]
  },
  {
   "cell_type": "code",
   "execution_count": null,
   "metadata": {
    "collapsed": false
   },
   "outputs": [],
   "source": [
    "event=0\n",
    "t0 = time()\n",
    "CWF = blr.deconv_pmt(RWF, coeff_c, coeff_blr, n_baseline=38000, thr_trigger=5)\n",
    "t1 = time()        \n",
    "dt = t1 - t0\n",
    "\n",
    "print(\"run over  one event  in {} s\".format(dt))"
   ]
  },
  {
   "cell_type": "code",
   "execution_count": null,
   "metadata": {
    "collapsed": false
   },
   "outputs": [],
   "source": [
    "CWFP = wfm.to_pes(CWF, adc_to_pes)"
   ]
  },
  {
   "cell_type": "code",
   "execution_count": null,
   "metadata": {
    "collapsed": false
   },
   "outputs": [],
   "source": [
    "tstep = 25\n",
    "signal_t = np.arange(0., PMTWL * tstep, tstep)"
   ]
  },
  {
   "cell_type": "code",
   "execution_count": null,
   "metadata": {
    "collapsed": false
   },
   "outputs": [],
   "source": [
    "plot_pmt_signals(CWF, signal_start=0, signal_end=1200, ymax = 250)"
   ]
  },
  {
   "cell_type": "markdown",
   "metadata": {
    "collapsed": false
   },
   "source": [
    "#### Using a MAU to eliminate sinusoidal noise. "
   ]
  },
  {
   "cell_type": "markdown",
   "metadata": {
    "collapsed": false
   },
   "source": [
    "This function is a copy of the function found in peak_functions.py, but returns the MAU, for ilustration purposes"
   ]
  },
  {
   "cell_type": "code",
   "execution_count": null,
   "metadata": {
    "collapsed": false
   },
   "outputs": [],
   "source": [
    "def calibrated_pmt_sum(CWF, adc_to_pes, n_MAU=200, thr_MAU=5):\n",
    "    \"\"\"Compute the ZS calibrated sum of the PMTs\n",
    "    after correcting the baseline with a MAU to suppress low frequency noise.\n",
    "    input:\n",
    "    CWF         : Corrected waveform (passed by BLR)\n",
    "    adc_to_pes  : a vector with calibration constants\n",
    "    n_MAU       : length of the MAU window\n",
    "    thr_MAU     : treshold above MAU to select sample\n",
    "\n",
    "    NB: This function is used mainly for testing purposes. It is\n",
    "    programmed \"c-style\", which is not necesarily optimal in python,\n",
    "    but follows the same logic that the corresponding cython function\n",
    "    (in peak_functions_c), which runs faster and should be used\n",
    "    instead of this one for nornal calculations.\n",
    "    \"\"\"\n",
    "\n",
    "    NPMT = CWF.shape[0]\n",
    "    NWF  = CWF.shape[1]\n",
    "    MAU  = np.array(np.ones(n_MAU), dtype=np.double) * (1 / n_MAU)\n",
    "\n",
    "    pmt_thr = np.zeros((NPMT, NWF), dtype=np.double)\n",
    "    csum    = np.zeros(       NWF,  dtype=np.double)\n",
    "    MAU_pmt = np.zeros(       NWF,  dtype=np.double)\n",
    "\n",
    "    MAUL=[]\n",
    "    for j in range(NPMT):\n",
    "        # MAU for each of the PMTs, following the waveform\n",
    "        MAU_pmt = SGN.lfilter(MAU, 1, CWF[j,:])\n",
    "        MAUL.append(MAU_pmt)\n",
    "        for k in range(NWF):\n",
    "            if CWF[j,k] >= MAU_pmt[k] + thr_MAU: # >= not >. Found testing\n",
    "                pmt_thr[j,k] = CWF[j,k]\n",
    "\n",
    "    for j in range(NPMT):\n",
    "        for k in range(NWF):\n",
    "            csum[k] += pmt_thr[j, k] * 1 / adc_to_pes[j]\n",
    "    return csum, np.array(MAUL)\n"
   ]
  },
  {
   "cell_type": "markdown",
   "metadata": {
    "collapsed": false
   },
   "source": [
    "####  csum computed without a MAU, csum2 computed with a MAU"
   ]
  },
  {
   "cell_type": "code",
   "execution_count": null,
   "metadata": {
    "collapsed": false
   },
   "outputs": [],
   "source": [
    "event=0\n",
    "t0 = time()\n",
    "csum = cpf.calibrated_pmt_sum(CWF, adc_to_pes, n_MAU=100, thr_MAU=0) \n",
    "csum2, MAU = calibrated_pmt_sum(CWF, adc_to_pes, n_MAU=100, thr_MAU=3) \n",
    "t1 = time()        \n",
    "dt = t1 - t0\n",
    "\n",
    "print(\"run over  one event  in {} s\".format(dt))"
   ]
  },
  {
   "cell_type": "code",
   "execution_count": null,
   "metadata": {
    "collapsed": false
   },
   "outputs": [],
   "source": [
    "plot_pmt_signals(CWF - MAU, signal_start=0, signal_end=1200, ymax = 250)"
   ]
  },
  {
   "cell_type": "code",
   "execution_count": null,
   "metadata": {
    "collapsed": false
   },
   "outputs": [],
   "source": [
    "plot_pmt_signals(CWF, signal_start=0, signal_end=600, ymax = 10)"
   ]
  },
  {
   "cell_type": "code",
   "execution_count": null,
   "metadata": {
    "collapsed": false
   },
   "outputs": [],
   "source": [
    "plot_pmt_signals(CWF - MAU, signal_start=0, signal_end=600, ymax = 10)"
   ]
  },
  {
   "cell_type": "code",
   "execution_count": null,
   "metadata": {
    "collapsed": false
   },
   "outputs": [],
   "source": [
    "plot_pmt_signals(CWF, signal_start=590, signal_end=610, ymax = 200)"
   ]
  },
  {
   "cell_type": "code",
   "execution_count": null,
   "metadata": {
    "collapsed": false
   },
   "outputs": [],
   "source": [
    "plot_pmt_signals(CWF - MAU, signal_start=590, signal_end=610, ymax = 200)"
   ]
  },
  {
   "cell_type": "code",
   "execution_count": null,
   "metadata": {
    "collapsed": false
   },
   "outputs": [],
   "source": [
    "plot_signal(CWF[0], signal_start=598, signal_end=603, ymax = 50)"
   ]
  },
  {
   "cell_type": "code",
   "execution_count": null,
   "metadata": {
    "collapsed": false
   },
   "outputs": [],
   "source": [
    "plot_signal(CWF[0] - MAU[0], signal_start=598, signal_end=603, ymax = 50)"
   ]
  },
  {
   "cell_type": "markdown",
   "metadata": {
    "collapsed": false
   },
   "source": [
    "#### MAU introduces holes in the signal. "
   ]
  },
  {
   "cell_type": "code",
   "execution_count": null,
   "metadata": {
    "collapsed": false
   },
   "outputs": [],
   "source": [
    "plot_signal(csum, signal_start=598, signal_end=603, ymax = 30)\n",
    "plot_signal(csum2, signal_start=598, signal_end=603, ymax = 30)"
   ]
  },
  {
   "cell_type": "markdown",
   "metadata": {
    "collapsed": false
   },
   "source": [
    "#### But not in the csum"
   ]
  },
  {
   "cell_type": "code",
   "execution_count": null,
   "metadata": {
    "collapsed": false
   },
   "outputs": [],
   "source": [
    "plot_pmt_signals(CWF, signal_start=605, signal_end=820, ymax = 10)"
   ]
  },
  {
   "cell_type": "code",
   "execution_count": null,
   "metadata": {
    "collapsed": false
   },
   "outputs": [],
   "source": [
    "plot_pmt_signals(CWF -MAU, signal_start=605, signal_end=820, ymax = 10)"
   ]
  },
  {
   "cell_type": "code",
   "execution_count": null,
   "metadata": {
    "collapsed": false
   },
   "outputs": [],
   "source": [
    "plot_signal(csum, signal_start=0, signal_end=1200, ymax = 20)\n",
    "plot_signal(csum2, signal_start=0, signal_end=1200, ymax = 20)"
   ]
  },
  {
   "cell_type": "code",
   "execution_count": null,
   "metadata": {
    "collapsed": false
   },
   "outputs": [],
   "source": [
    "plot_signal(csum, signal_start=0, signal_end=590, ymax = 5)\n",
    "plot_signal(csum2, signal_start=0, signal_end=590, ymax = 5)"
   ]
  },
  {
   "cell_type": "code",
   "execution_count": null,
   "metadata": {
    "collapsed": false
   },
   "outputs": [],
   "source": [
    "plot_signal(csum, signal_start=597, signal_end=605, ymax = 60)\n",
    "plot_signal(csum2, signal_start=597, signal_end=605, ymax = 60)"
   ]
  },
  {
   "cell_type": "code",
   "execution_count": null,
   "metadata": {
    "collapsed": false
   },
   "outputs": [],
   "source": [
    "plot_signal(csum, signal_start=605, signal_end=800, ymax = 2)\n",
    "plot_signal(csum2, signal_start=605, signal_end=800, ymax = 2)"
   ]
  },
  {
   "cell_type": "code",
   "execution_count": null,
   "metadata": {
    "collapsed": false
   },
   "outputs": [],
   "source": [
    "plot_signal(csum, signal_start=820, signal_end=823, ymax = 100)\n",
    "plot_signal(csum2, signal_start=820, signal_end=823, ymax = 100)"
   ]
  },
  {
   "cell_type": "markdown",
   "metadata": {
    "collapsed": false
   },
   "source": [
    "### Waveform has less than 2.5 mus"
   ]
  },
  {
   "cell_type": "code",
   "execution_count": null,
   "metadata": {
    "collapsed": false
   },
   "outputs": [],
   "source": [
    "plot_signal(csum, signal_start=823, signal_end=1200, ymax = 2)\n",
    "plot_signal(csum2, signal_start=823, signal_end=1200, ymax = 2)"
   ]
  },
  {
   "cell_type": "markdown",
   "metadata": {
    "collapsed": false
   },
   "source": [
    "#### MAU eliminates sinusoidal noise and does not affect signal. "
   ]
  },
  {
   "cell_type": "code",
   "execution_count": null,
   "metadata": {
    "collapsed": false
   },
   "outputs": [],
   "source": [
    "plot_signal(csum, signal_start=0, signal_end=590, ymax = 5)\n",
    "plot_signal(csum2, signal_start=0, signal_end=590, ymax = 5)\n",
    "\n",
    "mpl.plot_signal(signal_t/units.mus, csum, title=\"calibrated sum\",\n",
    "                signal_start=605, signal_end=690, \n",
    "                ymax = 2, t_units='mus', units=\"pes\")\n",
    "mpl.plot_signal(signal_t/units.mus, csum2, title=\"calibrated sum\",\n",
    "                signal_start=605, signal_end=690, \n",
    "                ymax = 2, t_units='mus', units=\"pes\")"
   ]
  },
  {
   "cell_type": "markdown",
   "metadata": {
    "collapsed": false
   },
   "source": [
    "### ZS sum"
   ]
  },
  {
   "cell_type": "markdown",
   "metadata": {
    "collapsed": false
   },
   "source": [
    "#### USING MAU"
   ]
  },
  {
   "cell_type": "code",
   "execution_count": null,
   "metadata": {
    "collapsed": false
   },
   "outputs": [],
   "source": [
    "event = 0\n",
    "t0 = time()\n",
    "wfzs_ene, wfzs_indx = cpf.wfzs(csum2, threshold=0.5*units.pes)\n",
    "wfzs_t = cpf.time_from_index(wfzs_indx)\n",
    "t1 = time()        \n",
    "dt = t1 - t0\n",
    "\n",
    "print(\"run  in {} s\".format(dt))"
   ]
  },
  {
   "cell_type": "code",
   "execution_count": null,
   "metadata": {
    "collapsed": false
   },
   "outputs": [],
   "source": [
    "mpl.plot_signal(wfzs_t/units.mus, wfzs_ene, title=\"calibrated sum\",\n",
    "                signal_start=0, signal_end=1200, \n",
    "                ymax = 10, t_units='mus', units=\"pes\")"
   ]
  },
  {
   "cell_type": "code",
   "execution_count": null,
   "metadata": {
    "collapsed": false
   },
   "outputs": [],
   "source": [
    "S1 = cpf.find_S12(wfzs_ene, wfzs_indx, tmin=0,  tmax=590*units.mus, \n",
    "                 lmin=6, lmax=16, stride=4,\n",
    "                 rebin=False)\n",
    "S2 = cpf.find_S12(wfzs_ene, wfzs_indx, tmin=0*units.mus,  tmax=1100*units.mus, \n",
    "                 lmin=80, lmax=1000, stride=40,\n",
    "                 rebin=True, rebin_stride=40)"
   ]
  },
  {
   "cell_type": "code",
   "execution_count": null,
   "metadata": {
    "collapsed": false
   },
   "outputs": [],
   "source": [
    "S1"
   ]
  },
  {
   "cell_type": "code",
   "execution_count": null,
   "metadata": {
    "collapsed": false
   },
   "outputs": [],
   "source": [
    "S2"
   ]
  },
  {
   "cell_type": "markdown",
   "metadata": {
    "collapsed": false
   },
   "source": [
    "#### Not using MAU"
   ]
  },
  {
   "cell_type": "code",
   "execution_count": null,
   "metadata": {
    "collapsed": false
   },
   "outputs": [],
   "source": [
    "event = 0\n",
    "t0 = time()\n",
    "wfzs_ene, wfzs_indx = cpf.wfzs(csum, threshold=0.5*units.pes)\n",
    "wfzs_t = cpf.time_from_index(wfzs_indx)\n",
    "t1 = time()        \n",
    "dt = t1 - t0\n",
    "\n",
    "print(\"run  in {} s\".format(dt))"
   ]
  },
  {
   "cell_type": "code",
   "execution_count": null,
   "metadata": {
    "collapsed": false
   },
   "outputs": [],
   "source": [
    "mpl.plot_signal(wfzs_t/units.mus, wfzs_ene, title=\"calibrated sum\",\n",
    "                signal_start=0, signal_end=1200, \n",
    "                ymax = 10, t_units='mus', units=\"pes\")"
   ]
  },
  {
   "cell_type": "code",
   "execution_count": null,
   "metadata": {
    "collapsed": false
   },
   "outputs": [],
   "source": [
    "S1 = cpf.find_S12(wfzs_ene, wfzs_indx, tmin=0,  tmax=590*units.mus, \n",
    "                 lmin=6, lmax=16, stride=4,\n",
    "                 rebin=False)\n",
    "S2 = cpf.find_S12(wfzs_ene, wfzs_indx, tmin=0*units.mus,  tmax=1100*units.mus, \n",
    "                 lmin=80, lmax=1000, stride=40,\n",
    "                 rebin=True, rebin_stride=40)"
   ]
  },
  {
   "cell_type": "code",
   "execution_count": null,
   "metadata": {
    "collapsed": false
   },
   "outputs": [],
   "source": [
    "S1"
   ]
  },
  {
   "cell_type": "code",
   "execution_count": null,
   "metadata": {
    "collapsed": false
   },
   "outputs": [],
   "source": [
    "S2"
   ]
  },
  {
   "cell_type": "markdown",
   "metadata": {
    "collapsed": false
   },
   "source": [
    "### In conclussion, using a MAU seems to improve response"
   ]
  },
  {
   "cell_type": "markdown",
   "metadata": {
    "collapsed": false
   },
   "source": [
    "#### Event 1"
   ]
  },
  {
   "cell_type": "code",
   "execution_count": null,
   "metadata": {
    "collapsed": false
   },
   "outputs": [],
   "source": [
    "event=1\n",
    "RWF = pmtrwf[event]\n",
    "CWF = blr.deconv_pmt(RWF, coeff_c, coeff_blr, n_baseline=38000, thr_trigger=5)\n",
    "csum = cpf.calibrated_pmt_sum(CWF, adc_to_pes, n_MAU=100, thr_MAU=3) \n",
    "wfzs_ene, wfzs_indx = cpf.wfzs(csum, threshold=0.5*units.pes)\n",
    "wfzs_t = cpf.time_from_index(wfzs_indx)\n",
    "S1 = cpf.find_S12(wfzs_ene, wfzs_indx, tmin=0,  tmax=590*units.mus, \n",
    "                 lmin=6, lmax=16, stride=4,\n",
    "                 rebin=False)\n",
    "S2 = cpf.find_S12(wfzs_ene, wfzs_indx, tmin=0*units.mus,  tmax=1100*units.mus, \n",
    "                 lmin=80, lmax=1000, stride=40,\n",
    "                 rebin=True, rebin_stride=40)"
   ]
  },
  {
   "cell_type": "code",
   "execution_count": null,
   "metadata": {
    "collapsed": false
   },
   "outputs": [],
   "source": [
    "CWFP = wfm.to_pes(CWF, adc_to_pes)"
   ]
  },
  {
   "cell_type": "code",
   "execution_count": null,
   "metadata": {
    "collapsed": false
   },
   "outputs": [],
   "source": [
    "plot_pmt_signals(CWFP, signal_start=0, signal_end=1200, ymax = 10)"
   ]
  },
  {
   "cell_type": "code",
   "execution_count": null,
   "metadata": {
    "collapsed": false
   },
   "outputs": [],
   "source": [
    "plot_pmt_signals(CWFP, signal_start=0, signal_end=1200, ymax = 1)"
   ]
  },
  {
   "cell_type": "code",
   "execution_count": null,
   "metadata": {
    "collapsed": false
   },
   "outputs": [],
   "source": [
    "plot_signal(csum, signal_start=0, signal_end=1200, ymax = 50)"
   ]
  },
  {
   "cell_type": "code",
   "execution_count": null,
   "metadata": {
    "collapsed": false
   },
   "outputs": [],
   "source": [
    "plot_signal(csum, signal_start=0, signal_end=590, ymax = 1)"
   ]
  },
  {
   "cell_type": "code",
   "execution_count": null,
   "metadata": {
    "collapsed": false
   },
   "outputs": [],
   "source": [
    "plot_signal(csum, signal_start=595, signal_end=605, ymax = 50)"
   ]
  },
  {
   "cell_type": "code",
   "execution_count": null,
   "metadata": {
    "collapsed": false
   },
   "outputs": [],
   "source": [
    "plot_signal(csum, signal_start=605, signal_end=1200, ymax = 1)"
   ]
  },
  {
   "cell_type": "markdown",
   "metadata": {
    "collapsed": false
   },
   "source": [
    "The average after the signal appears to be higher than before the signal. "
   ]
  },
  {
   "cell_type": "code",
   "execution_count": null,
   "metadata": {
    "collapsed": false
   },
   "outputs": [],
   "source": [
    "S1"
   ]
  },
  {
   "cell_type": "code",
   "execution_count": null,
   "metadata": {
    "collapsed": false
   },
   "outputs": [],
   "source": [
    "S2"
   ]
  },
  {
   "cell_type": "code",
   "execution_count": null,
   "metadata": {
    "collapsed": false
   },
   "outputs": [],
   "source": [
    "pf.scan_s12(S2)"
   ]
  },
  {
   "cell_type": "markdown",
   "metadata": {
    "collapsed": false
   },
   "source": [
    "#### SiPMs"
   ]
  },
  {
   "cell_type": "code",
   "execution_count": null,
   "metadata": {
    "collapsed": false
   },
   "outputs": [],
   "source": [
    "sipm = cpf.signal_sipm(sipmrwf[event], adc_to_pes_sipm, thr=5*units.pes, n_MAU=100)\n",
    "SIPM = cpf.select_sipm(sipm)\n",
    "S2Si = pf.sipm_s2_dict(SIPM, S2, thr=50*units.pes)"
   ]
  },
  {
   "cell_type": "code",
   "execution_count": null,
   "metadata": {
    "collapsed": false
   },
   "outputs": [],
   "source": [
    "S2Si"
   ]
  },
  {
   "cell_type": "code",
   "execution_count": null,
   "metadata": {
    "collapsed": false
   },
   "outputs": [],
   "source": [
    "pf.plot_s2si_map(S2Si)"
   ]
  },
  {
   "cell_type": "markdown",
   "metadata": {
    "collapsed": false
   },
   "source": [
    "#### Effect of dark current"
   ]
  },
  {
   "cell_type": "code",
   "execution_count": null,
   "metadata": {
    "collapsed": false
   },
   "outputs": [],
   "source": [
    "sipm_i = sf.sipm_with_signal(sipmrwf[event], thr=1*16*units.adc) "
   ]
  },
  {
   "cell_type": "code",
   "execution_count": null,
   "metadata": {
    "collapsed": false
   },
   "outputs": [],
   "source": [
    "sf.plot_sensor_list_ene_map(sipmrwf[event], sipm_i, stype='SiPM')"
   ]
  },
  {
   "cell_type": "code",
   "execution_count": null,
   "metadata": {
    "collapsed": false
   },
   "outputs": [],
   "source": [
    "sipm_i = sf.sipm_with_signal(sipmrwf[event], thr=3*16*units.adc) \n",
    "sf.plot_sensor_list_ene_map(sipmrwf[event], sipm_i, stype='SiPM')"
   ]
  },
  {
   "cell_type": "code",
   "execution_count": null,
   "metadata": {
    "collapsed": false
   },
   "outputs": [],
   "source": [
    "sipm_i = sf.sipm_with_signal(sipmrwf[event], thr=5*16*units.adc) \n",
    "sf.plot_sensor_list_ene_map(sipmrwf[event], sipm_i, stype='SiPM')"
   ]
  },
  {
   "cell_type": "code",
   "execution_count": null,
   "metadata": {
    "collapsed": false
   },
   "outputs": [],
   "source": [
    "sipm_i = sf.sipm_with_signal(sipmrwf[event], thr=7*16*units.adc) \n",
    "sf.plot_sensor_list_ene_map(sipmrwf[event], sipm_i, stype='SiPM')"
   ]
  },
  {
   "cell_type": "code",
   "execution_count": null,
   "metadata": {
    "collapsed": false
   },
   "outputs": [],
   "source": [
    "sipm_i = sf.sipm_with_signal(sipmrwf[event], thr=10*16*units.adc) \n",
    "sf.plot_sensor_list_ene_map(sipmrwf[event], sipm_i, stype='SiPM')"
   ]
  },
  {
   "cell_type": "code",
   "execution_count": null,
   "metadata": {
    "collapsed": false
   },
   "outputs": [],
   "source": [
    "sipm_i = sf.sipm_with_signal(sipmrwf[event], thr=20*16*units.adc) \n",
    "sf.plot_sensor_list_ene_map(sipmrwf[event], sipm_i, stype='SiPM')"
   ]
  },
  {
   "cell_type": "code",
   "execution_count": null,
   "metadata": {
    "collapsed": false
   },
   "outputs": [],
   "source": []
  },
  {
   "cell_type": "code",
   "execution_count": null,
   "metadata": {
    "collapsed": false
   },
   "outputs": [],
   "source": [
    "event=2\n",
    "RWF = pmtrwf[event]\n",
    "CWF = blr.deconv_pmt(RWF, coeff_c, coeff_blr, n_baseline=38000, thr_trigger=5)\n",
    "csum = cpf.calibrated_pmt_sum(CWF, adc_to_pes, n_MAU=100, thr_MAU=3) \n",
    "wfzs_ene, wfzs_indx = cpf.wfzs(csum, threshold=0.5*units.pes)\n",
    "wfzs_t = cpf.time_from_index(wfzs_indx)\n",
    "S1 = cpf.find_S12(wfzs_ene, wfzs_indx, tmin=0,  tmax=590*units.mus, \n",
    "                 lmin=6, lmax=16, stride=4,\n",
    "                 rebin=False)\n",
    "S2 = cpf.find_S12(wfzs_ene, wfzs_indx, tmin=0*units.mus,  tmax=1100*units.mus, \n",
    "                 lmin=50, lmax=1000, stride=40,\n",
    "                 rebin=True, rebin_stride=40)\n",
    "sipm = cpf.signal_sipm(sipmrwf[event], adc_to_pes_sipm, thr=5*units.pes, n_MAU=100)\n",
    "SIPM = cpf.select_sipm(sipm)\n",
    "S2Si = pf.sipm_s2_dict(SIPM, S2, thr=50*units.pes)"
   ]
  },
  {
   "cell_type": "code",
   "execution_count": null,
   "metadata": {
    "collapsed": false
   },
   "outputs": [],
   "source": [
    "plot_pmt_signals(CWFP, signal_start=0, signal_end=1200, ymax = 1)"
   ]
  },
  {
   "cell_type": "code",
   "execution_count": null,
   "metadata": {
    "collapsed": false
   },
   "outputs": [],
   "source": [
    "plot_signal(csum, signal_start=0, signal_end=1200, ymax = 50)"
   ]
  },
  {
   "cell_type": "code",
   "execution_count": null,
   "metadata": {
    "collapsed": false
   },
   "outputs": [],
   "source": [
    "plot_signal(csum, signal_start=0, signal_end=590, ymax = 1)"
   ]
  },
  {
   "cell_type": "code",
   "execution_count": null,
   "metadata": {
    "collapsed": false
   },
   "outputs": [],
   "source": [
    "plot_signal(csum, signal_start=590, signal_end=620, ymax = 150)"
   ]
  },
  {
   "cell_type": "code",
   "execution_count": null,
   "metadata": {
    "collapsed": false
   },
   "outputs": [],
   "source": [
    "plot_signal(csum, signal_start=620, signal_end=1200, ymax = 2)"
   ]
  },
  {
   "cell_type": "markdown",
   "metadata": {
    "collapsed": false
   },
   "source": [
    "1. Before signal: flat tail at about 0.1 pes.\n",
    "2. After signal: rises to about 1 pes, then decays. "
   ]
  },
  {
   "cell_type": "code",
   "execution_count": null,
   "metadata": {
    "collapsed": false
   },
   "outputs": [],
   "source": [
    "S1"
   ]
  },
  {
   "cell_type": "code",
   "execution_count": null,
   "metadata": {
    "collapsed": false
   },
   "outputs": [],
   "source": [
    "pf.scan_s12(S1)"
   ]
  },
  {
   "cell_type": "code",
   "execution_count": null,
   "metadata": {
    "collapsed": false
   },
   "outputs": [],
   "source": [
    "pf.scan_s12(S2)"
   ]
  },
  {
   "cell_type": "markdown",
   "metadata": {
    "collapsed": false
   },
   "source": [
    "#### Not a krypton signal. "
   ]
  },
  {
   "cell_type": "code",
   "execution_count": null,
   "metadata": {
    "collapsed": false
   },
   "outputs": [],
   "source": [
    "pf.plot_s2si_map(S2Si)"
   ]
  },
  {
   "cell_type": "markdown",
   "metadata": {
    "collapsed": false
   },
   "source": [
    "A clear track!"
   ]
  },
  {
   "cell_type": "markdown",
   "metadata": {
    "collapsed": false
   },
   "source": [
    "### Characterization of the photoelectron tail"
   ]
  },
  {
   "cell_type": "markdown",
   "metadata": {
    "collapsed": false
   },
   "source": [
    "1. accumulate csum between 10 and 590\n",
    "2. accumulate csum between 620 and 1200.\n",
    "3. plot average"
   ]
  },
  {
   "cell_type": "code",
   "execution_count": null,
   "metadata": {
    "collapsed": false
   },
   "outputs": [],
   "source": [
    "(1200*units.mus/units.ns)/25"
   ]
  },
  {
   "cell_type": "code",
   "execution_count": null,
   "metadata": {
    "collapsed": false
   },
   "outputs": [],
   "source": [
    "(550*units.mus/units.ns)/25"
   ]
  },
  {
   "cell_type": "code",
   "execution_count": null,
   "metadata": {
    "collapsed": false
   },
   "outputs": [],
   "source": []
  },
  {
   "cell_type": "code",
   "execution_count": null,
   "metadata": {
    "collapsed": false
   },
   "outputs": [],
   "source": [
    "def acc_signal(csum,t0,t1,t2,t3, thr_pre=1*units.pes, thr_post=2*units.pes):\n",
    "    \"\"\"1. accumulate csum between 10 and 590\n",
    "    2. accumulate csum between 620 and 1200.\n",
    "    \n",
    "    \"\"\"\n",
    "    \n",
    "    pre = np.zeros((t1 - t0), dtype=np.double)\n",
    "    sgn = np.zeros((t2 - t1), dtype=np.double)\n",
    "    post = np.zeros((t3 - t2), dtype=np.double)\n",
    "    pre = csum[csum < thr_pre][t0:t1]\n",
    "    post = csum[csum < thr_post][t2:t3]\n",
    "    sgn = csum[t1:t2]\n",
    "    return sgn, pre, post"
   ]
  },
  {
   "cell_type": "code",
   "execution_count": null,
   "metadata": {
    "collapsed": false
   },
   "outputs": [],
   "source": [
    "t0 = 0\n",
    "t1 = int((550*units.mus/units.ns)/25.) # (1 sample each 25 ns)\n",
    "t2 = int((650*units.mus/units.ns)/25.)\n",
    "t3 = int((1200*units.mus/units.ns)/25.)"
   ]
  },
  {
   "cell_type": "code",
   "execution_count": null,
   "metadata": {
    "collapsed": false
   },
   "outputs": [],
   "source": [
    "sgn, pre, post = acc_signal(csum, t0, t1, t2, t3, thr_pre=1*units.pes, thr_post=2*units.pes)"
   ]
  },
  {
   "cell_type": "code",
   "execution_count": null,
   "metadata": {
    "collapsed": false
   },
   "outputs": [],
   "source": [
    "plt.plot(sgn)"
   ]
  },
  {
   "cell_type": "code",
   "execution_count": null,
   "metadata": {
    "collapsed": false
   },
   "outputs": [],
   "source": [
    "sgn.shape[0]"
   ]
  },
  {
   "cell_type": "code",
   "execution_count": null,
   "metadata": {
    "collapsed": false
   },
   "outputs": [],
   "source": [
    "plot_signal(sgn, signal_start=0, signal_end=100, ymax = 150)"
   ]
  },
  {
   "cell_type": "code",
   "execution_count": null,
   "metadata": {
    "collapsed": false
   },
   "outputs": [],
   "source": [
    "plt.plot(pre)"
   ]
  },
  {
   "cell_type": "code",
   "execution_count": null,
   "metadata": {
    "collapsed": false
   },
   "outputs": [],
   "source": [
    "pre.shape[0]/(25)"
   ]
  },
  {
   "cell_type": "code",
   "execution_count": null,
   "metadata": {
    "collapsed": false
   },
   "outputs": [],
   "source": [
    "plot_signal(pre, signal_start=0, signal_end=550, ymax = 15)"
   ]
  },
  {
   "cell_type": "code",
   "execution_count": null,
   "metadata": {
    "collapsed": false
   },
   "outputs": [],
   "source": [
    "plt.plot(post)"
   ]
  },
  {
   "cell_type": "code",
   "execution_count": null,
   "metadata": {
    "collapsed": false
   },
   "outputs": [],
   "source": [
    "post.shape[0]"
   ]
  },
  {
   "cell_type": "code",
   "execution_count": null,
   "metadata": {
    "collapsed": false
   },
   "outputs": [],
   "source": [
    "plot_signal(post, signal_start=0, signal_end=(1200-650), ymax = 5)"
   ]
  },
  {
   "cell_type": "code",
   "execution_count": null,
   "metadata": {
    "collapsed": false
   },
   "outputs": [],
   "source": []
  },
  {
   "cell_type": "code",
   "execution_count": null,
   "metadata": {
    "collapsed": false
   },
   "outputs": [],
   "source": [
    "t0 = 0\n",
    "t1 = int((590*units.mus/units.ns)/25.) # (1 sample each 25 ns)\n",
    "t2 = int((620*units.mus/units.ns)/25.)\n",
    "t3 = int((1190*units.mus/units.ns)/25.)\n",
    "pre_signal = np.zeros((t1 - t0), dtype=np.double)\n",
    "post_signal = np.zeros((t3 - t2), dtype=np.double)\n",
    "signal = np.zeros((t2 - t1), dtype=np.double)\n",
    "\n",
    "for event in range(NEVT):\n",
    "    RWF = pmtrwf[event]\n",
    "    CWF = blr.deconv_pmt(RWF, coeff_c, coeff_blr, n_baseline=38000, thr_trigger=5)\n",
    "    csum = cpf.calibrated_pmt_sum(CWF, adc_to_pes, n_MAU=100, thr_MAU=3) \n",
    "    sgn, pre, post = acc_signal(csum,t0,t1,t2,t3)\n",
    "    signal += sgn\n",
    "    pre_signal += pre\n",
    "    post_signal += post\n",
    "signal /= event\n",
    "pre_signal /= event\n",
    "post_signal /= event"
   ]
  },
  {
   "cell_type": "code",
   "execution_count": null,
   "metadata": {
    "collapsed": false
   },
   "outputs": [],
   "source": [
    "plt.plot(pre_signal)"
   ]
  },
  {
   "cell_type": "code",
   "execution_count": null,
   "metadata": {
    "collapsed": false
   },
   "outputs": [],
   "source": [
    "plt.plot(post_signal)"
   ]
  },
  {
   "cell_type": "code",
   "execution_count": null,
   "metadata": {
    "collapsed": false
   },
   "outputs": [],
   "source": [
    "plt.plot(signal)"
   ]
  },
  {
   "cell_type": "code",
   "execution_count": null,
   "metadata": {
    "collapsed": false
   },
   "outputs": [],
   "source": []
  },
  {
   "cell_type": "code",
   "execution_count": null,
   "metadata": {
    "collapsed": false
   },
   "outputs": [],
   "source": [
    "mpl.histo(pre_signal[pre_signal>0.05], nbins=10, \n",
    "          title=\"pre-signal\", xlabel=\"pes\", ylabel=\"Frequency\")"
   ]
  },
  {
   "cell_type": "code",
   "execution_count": null,
   "metadata": {
    "collapsed": false
   },
   "outputs": [],
   "source": [
    "mpl.histo(post_signal[post_signal>0.05], nbins=10, \n",
    "          title=\"post-signal\", xlabel=\"pes\", ylabel=\"Frequency\")"
   ]
  },
  {
   "cell_type": "code",
   "execution_count": null,
   "metadata": {
    "collapsed": false
   },
   "outputs": [],
   "source": [
    "mpl.histo(signal[signal>10], nbins=10, \n",
    "          title=\"signal\", xlabel=\"pes\", ylabel=\"Frequency\")"
   ]
  },
  {
   "cell_type": "code",
   "execution_count": null,
   "metadata": {
    "collapsed": false
   },
   "outputs": [],
   "source": [
    "np.sum(signal)"
   ]
  },
  {
   "cell_type": "code",
   "execution_count": null,
   "metadata": {
    "collapsed": false
   },
   "outputs": [],
   "source": [
    "np.sum(pre_signal)"
   ]
  },
  {
   "cell_type": "code",
   "execution_count": null,
   "metadata": {
    "collapsed": false
   },
   "outputs": [],
   "source": [
    "np.sum(post_signal)"
   ]
  },
  {
   "cell_type": "code",
   "execution_count": null,
   "metadata": {
    "collapsed": false
   },
   "outputs": [],
   "source": []
  }
 ],
 "metadata": {
  "anaconda-cloud": {},
  "kernelspec": {
   "display_name": "Python [conda env:IC3.5]",
   "language": "python",
   "name": "conda-env-IC3.5-py"
  },
  "language_info": {
   "codemirror_mode": {
    "name": "ipython",
    "version": 3
   },
   "file_extension": ".py",
   "mimetype": "text/x-python",
   "name": "python",
   "nbconvert_exporter": "python",
   "pygments_lexer": "ipython3",
   "version": "3.5.2"
  }
 },
 "nbformat": 4,
 "nbformat_minor": 2
}
