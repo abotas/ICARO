{
 "cells": [
  {
   "cell_type": "markdown",
   "metadata": {
    "collapsed": false
   },
   "source": [
    "# configure_test"
   ]
  },
  {
   "cell_type": "markdown",
   "metadata": {
    "collapsed": false
   },
   "source": [
    "## Tests of module configure.py "
   ]
  },
  {
   "cell_type": "code",
   "execution_count": null,
   "metadata": {
    "collapsed": false
   },
   "outputs": [],
   "source": [
    "import datetime\n",
    "print(datetime.datetime.now().strftime('%Y-%m-%d %H:%M:%S'))"
   ]
  },
  {
   "cell_type": "code",
   "execution_count": null,
   "metadata": {
    "collapsed": false
   },
   "outputs": [],
   "source": [
    "from __future__ import print_function\n",
    "import sys\n",
    "import os\n",
    "from glob import glob\n",
    "from time import time"
   ]
  },
  {
   "cell_type": "code",
   "execution_count": null,
   "metadata": {
    "collapsed": false
   },
   "outputs": [],
   "source": [
    "import argparse"
   ]
  },
  {
   "cell_type": "code",
   "execution_count": null,
   "metadata": {
    "collapsed": false
   },
   "outputs": [],
   "source": [
    "%matplotlib inline\n",
    "%load_ext autoreload\n",
    "%autoreload 2\n",
    "import matplotlib.pyplot as plt\n",
    "import pandas as pd\n",
    "import tables as tb\n",
    "import numpy as np\n",
    "import math"
   ]
  },
  {
   "cell_type": "code",
   "execution_count": null,
   "metadata": {
    "collapsed": false
   },
   "outputs": [],
   "source": [
    "import invisible_cities.core.configure as conf"
   ]
  },
  {
   "cell_type": "code",
   "execution_count": null,
   "metadata": {
    "collapsed": false
   },
   "outputs": [],
   "source": [
    "from invisible_cities.core.system_of_units_c import SystemOfUnits"
   ]
  },
  {
   "cell_type": "code",
   "execution_count": null,
   "metadata": {
    "collapsed": false
   },
   "outputs": [],
   "source": [
    "units = SystemOfUnits()"
   ]
  },
  {
   "cell_type": "markdown",
   "metadata": {
    "collapsed": false
   },
   "source": [
    "### Configuration, input and output fles"
   ]
  },
  {
   "cell_type": "code",
   "execution_count": null,
   "metadata": {
    "collapsed": false
   },
   "outputs": [],
   "source": [
    "RWF_file = os.environ['IC_DATA']      + '/electrons_40keV_z250_RWF.h5'\n",
    "PMP_file = os.environ['IC_DATA']      + '/electrons_40keV_z250_PMAP.h5'\n",
    "CONF_file_def = os.environ['ICDIR']   + '/config/irene.conf'\n",
    "CONF_file = os.environ['IC_CONFIG']      + '/irene_e40keV.conf'"
   ]
  },
  {
   "cell_type": "markdown",
   "metadata": {
    "collapsed": false
   },
   "source": [
    "### function configure_bug\n",
    "\n",
    "**configure_bug** corresponds to the configure.py function being fixed. It declares parameters 'n', 's' and 'p' of integer type. For some reason this does not seem to work in python3.\n"
   ]
  },
  {
   "cell_type": "code",
   "execution_count": null,
   "metadata": {
    "collapsed": false
   },
   "outputs": [],
   "source": [
    "def configure_bug(input_options=sys.argv):\n",
    "    \"\"\"Translate command line options to a meaningfull dictionary.\n",
    "\n",
    "    Parameters\n",
    "    ----------\n",
    "    input_options : sequence of strings, optional\n",
    "        Input flags and parameters. Default are command line options from\n",
    "        sys.argv.\n",
    "\n",
    "    Returns\n",
    "    -------\n",
    "    output_options : dictionary\n",
    "        Options as key-value pairs.\n",
    "    \"\"\"\n",
    "    program, args = input_options[0], input_options[1:]\n",
    "    print(program, args)\n",
    "    parser = argparse.ArgumentParser()\n",
    "    \n",
    "    parser.add_argument(\"-c\", metavar=\"cfile\", type=str,\n",
    "                        help=\"configuration file\", required=True)\n",
    "    parser.add_argument(\"-i\", metavar=\"ifile\", type=str,\n",
    "                        help=\"input file\")\n",
    "    parser.add_argument(\"-o\", metavar=\"ofile\", type=str,\n",
    "                        help=\"output file\")\n",
    "   \n",
    "    print('program will crash after this line, trying to process nevt as int')\n",
    "    parser.add_argument(\"-n\", metavar=\"nevt\", type=int,\n",
    "                        help=\"number of events to be processed\")\n",
    "    \n",
    "    parser.add_argument(\"-s\", metavar=\"skip\", type=int, default=0,\n",
    "                        help=\"number of events to be skipped\")\n",
    "    parser.add_argument(\"-p\", metavar=\"print_mod\", type=int,\n",
    "                        help=\"print every this number of events\")\n",
    "    parser.add_argument(\"--runall\", action=\"store_true\",\n",
    "                        help=\"number of events to be skipped\")\n",
    "    parser.add_argument(\"-I\", action=\"store_true\", help=\"print info\")\n",
    "    parser.add_argument(\"-v\", action=\"count\", help=\"verbosity level\")\n",
    "\n",
    "    flags, extras = parser.parse_known_args(args)\n",
    "    options = conf.read_config_file(flags.c) if flags.c else {}\n",
    "    \n",
    "    if flags.i is not None:\n",
    "        options[\"FILE_IN\"] = flags.i\n",
    "    if flags.o is not None:\n",
    "        options[\"FILE_OUT\"] = flags.o\n",
    "    if flags.n is not None:\n",
    "        options[\"NEVENTS\"] = flags.n\n",
    "    if flags.s is not None:\n",
    "        options[\"SKIP\"] = flags.s\n",
    "    if flags.p is not None:\n",
    "        options[\"PRINT_MOD\"] = flags.p\n",
    "    if flags.runall:\n",
    "        options[\"RUN_ALL\"] = flags.runall\n",
    "    options[\"INFO\"] = flags.I\n",
    "    if flags.v is not None:\n",
    "        options[\"VERBOSITY\"] = 50 - min(flags.v, 4)*10\n",
    "\n",
    "\n",
    "    conf.print_configuration(options)\n",
    "    return options\n"
   ]
  },
  {
   "cell_type": "code",
   "execution_count": null,
   "metadata": {
    "collapsed": false
   },
   "outputs": [],
   "source": [
    "def crash_configure_bug(rwf_file, pmp_file, conf_file, n_events= 1, store_pmaps=False):\n",
    "    \"\"\"Run Irene.\"\"\"\n",
    "    print('n_events = {} type of n_events = {}'.format(n_events,type(n_events)))\n",
    "    print('This will crash now')\n",
    "    CFP = configure_bug(['IRENE',\n",
    "                     '-c', conf_file,\n",
    "                     '-i', rwf_file,\n",
    "                     '-o', pmp_file,\n",
    "                     '-n', n_events])\n"
   ]
  },
  {
   "cell_type": "code",
   "execution_count": null,
   "metadata": {
    "collapsed": false
   },
   "outputs": [],
   "source": [
    "crash_configure_bug(RWF_file, PMP_file, CONF_file_def, n_events= 1, store_pmaps=False)"
   ]
  },
  {
   "cell_type": "markdown",
   "metadata": {
    "collapsed": false
   },
   "source": [
    "### function configure_fix\n",
    "\n",
    "function **configure_fix** fixes the problem declaring the int variables as str and casting the int type when passing to opts."
   ]
  },
  {
   "cell_type": "code",
   "execution_count": null,
   "metadata": {
    "collapsed": false
   },
   "outputs": [],
   "source": [
    "def configure_fix(input_options=sys.argv):\n",
    "    \"\"\"Translate command line options to a meaningfull dictionary.\n",
    "\n",
    "    Parameters\n",
    "    ----------\n",
    "    input_options : sequence of strings, optional\n",
    "        Input flags and parameters. Default are command line options from\n",
    "        sys.argv.\n",
    "\n",
    "    Returns\n",
    "    -------\n",
    "    output_options : dictionary\n",
    "        Options as key-value pairs.\n",
    "    \"\"\"\n",
    "    print('configure')\n",
    "    program, args = input_options[0], input_options[1:]\n",
    "    print(program, args)\n",
    "    parser = argparse.ArgumentParser()\n",
    "    parser.add_argument(\"-c\", metavar=\"cfile\", type=str,\n",
    "                        help=\"configuration file\", required=True)\n",
    "    parser.add_argument(\"-i\", metavar=\"ifile\", type=str,\n",
    "                        help=\"input file\")\n",
    "    parser.add_argument(\"-o\", metavar=\"ofile\", type=str,\n",
    "                        help=\"output file\")\n",
    "    parser.add_argument(\"-n\", metavar=\"nevt\", type=str,\n",
    "                        help=\"number of events to be processed\")\n",
    "    parser.add_argument(\"-s\", metavar=\"skip\", type=str, default=0,\n",
    "                        help=\"number of events to be skipped\")\n",
    "    parser.add_argument(\"-p\", metavar=\"print_mod\", type=str,\n",
    "                        help=\"print every this number of events\")\n",
    "    parser.add_argument(\"--runall\", action=\"store_true\",\n",
    "                        help=\"number of events to be skipped\")\n",
    "    parser.add_argument(\"-I\", action=\"store_true\", help=\"print info\")\n",
    "    parser.add_argument(\"-v\", action=\"count\", help=\"verbosity level\")\n",
    "\n",
    "    flags, extras = parser.parse_known_args(args)\n",
    "    print(flags)\n",
    "    options = conf.read_config_file(flags.c) if flags.c else {}\n",
    "    print(options)\n",
    "\n",
    "    if flags.i is not None:\n",
    "        options[\"FILE_IN\"] = flags.i\n",
    "    if flags.o is not None:\n",
    "        options[\"FILE_OUT\"] = flags.o\n",
    "    if flags.n is not None:\n",
    "        options[\"NEVENTS\"] = int(flags.n)\n",
    "    if flags.s is not None:\n",
    "        options[\"SKIP\"] = int(flags.s)\n",
    "    if flags.p is not None:\n",
    "        options[\"PRINT_MOD\"] = int(flags.p)\n",
    "    if flags.runall:\n",
    "        options[\"RUN_ALL\"] = flags.runall\n",
    "    options[\"INFO\"] = flags.I\n",
    "    if flags.v is not None:\n",
    "        options[\"VERBOSITY\"] = 50 - min(flags.v, 4)*10\n",
    "\n",
    "\n",
    "    conf.print_configuration(options)\n",
    "    return options\n",
    "\n"
   ]
  },
  {
   "cell_type": "code",
   "execution_count": null,
   "metadata": {
    "collapsed": false
   },
   "outputs": [],
   "source": [
    "def test_configure_simple():\n",
    "    \"\"\"Test configure function. Only input parameters\"\"\"\n",
    "    \n",
    "    n = 10\n",
    "    s = 0\n",
    "    p = 1\n",
    "    CFP = configure_fix(['program_name',\n",
    "                     '-c', CONF_file_def,\n",
    "                     '-i', 'rwf_file',\n",
    "                     '-o', 'pmp_file',\n",
    "                     '-n', str(n),\n",
    "                     '-s', str(s),\n",
    "                     '-p', str(p)])\n",
    "    \n",
    "    assert CFP[\"FILE_IN\"] == 'rwf_file'\n",
    "    assert CFP[\"FILE_OUT\"] == 'pmp_file'\n",
    "    assert CFP[\"NEVENTS\"] == 10\n",
    "    assert CFP[\"SKIP\"] == 0\n",
    "    assert CFP[\"PRINT_MOD\"] == 1\n",
    "    "
   ]
  },
  {
   "cell_type": "code",
   "execution_count": null,
   "metadata": {
    "collapsed": false
   },
   "outputs": [],
   "source": [
    "test_configure_simple()"
   ]
  },
  {
   "cell_type": "code",
   "execution_count": null,
   "metadata": {
    "collapsed": false
   },
   "outputs": [],
   "source": [
    "def test_configure_fix():\n",
    "    \"\"\"Test fixed configure function. Read from conf file\"\"\"\n",
    "    \n",
    "    CFP = configure_fix(['program_name',\n",
    "                     '-c', CONF_file_def])\n",
    "    \n",
    "    assert CFP[\"COMPRESSION\"] == 'ZLIB4'\n",
    "    assert CFP[\"FILE_IN\"] == ('/Users/jjgomezcadenas/Projects/IC/invisible_cities/'\n",
    "                          +'/database/test_data//electrons_40keV_z250_RWF.h5')\n",
    "    assert CFP[\"FILE_OUT\"] == ('/Users/jjgomezcadenas/Projects/IC/invisible_cities/'\n",
    "                           +'/database/test_data//electrons_40keV_z250_PMP.h5')\n",
    "    assert CFP[\"INFO\"] ==                   False\n",
    "    assert CFP[\"NBASELINE\"] ==              28000\n",
    "    assert CFP[\"NEVENTS\"] ==                10\n",
    "    assert CFP[\"NMAU\"] ==                   100\n",
    "    assert CFP[\"NPRINT\"] ==                 1\n",
    "    assert CFP[\"PRINT_EMPTY_EVENTS\"] ==     1\n",
    "    assert CFP[\"RUN_ALL\"] ==                False\n",
    "    assert CFP[\"RUN_NUMBER\"] ==             0\n",
    "    assert CFP[\"S1_LMAX\"] ==                20\n",
    "    assert CFP[\"S1_LMIN\"] ==                6\n",
    "    assert CFP[\"S1_STRIDE\"] ==              4\n",
    "    assert CFP[\"S1_TMAX\"] ==                590\n",
    "    assert CFP[\"S1_TMIN\"] ==                10\n",
    "    assert CFP[\"S2_LMAX\"] ==                100000\n",
    "    assert CFP[\"S2_LMIN\"] ==                100\n",
    "    assert CFP[\"S2_STRIDE\"] ==              40\n",
    "    assert CFP[\"S2_TMAX\"] ==                1190\n",
    "    assert CFP[\"S2_TMIN\"] ==                0\n",
    "    assert CFP[\"SKIP\"] ==                   0\n",
    "    assert CFP[\"THR_CSUM\"] ==               0.5\n",
    "    assert CFP[\"THR_MAU\"] ==                3\n",
    "    assert CFP[\"THR_SIPM_S2\"] ==            30\n",
    "    assert CFP[\"THR_TRIGGER\"] ==            5\n",
    "    assert CFP[\"THR_ZS\"] ==                 20\n",
    "    assert CFP[\"VERBOSITY\"] ==              20"
   ]
  },
  {
   "cell_type": "code",
   "execution_count": null,
   "metadata": {
    "collapsed": false
   },
   "outputs": [],
   "source": [
    "test_configure_fix()"
   ]
  },
  {
   "cell_type": "code",
   "execution_count": null,
   "metadata": {
    "collapsed": false
   },
   "outputs": [],
   "source": [
    "def test_configure():\n",
    "    \"\"\"Test configure function. Read from conf file\"\"\"\n",
    "    \n",
    "    n = 10\n",
    "    s = 0\n",
    "    p = 1\n",
    "    CFP = conf.configure(['program_name',\n",
    "                     '-c', CONF_file_def,\n",
    "                     '-i', 'rwf_file',\n",
    "                     '-o', 'pmp_file',\n",
    "                     '-n', str(n),\n",
    "                     '-s', str(s),\n",
    "                     '-p', str(p)])\n",
    "    \n",
    "    assert CFP[\"COMPRESSION\"] == 'ZLIB4'\n",
    "    assert CFP[\"FILE_IN\"] == 'rwf_file'\n",
    "    assert CFP[\"FILE_OUT\"] == 'pmp_file'\n",
    "    assert CFP[\"INFO\"] ==                   False\n",
    "    assert CFP[\"NBASELINE\"] ==              28000\n",
    "    assert CFP[\"NEVENTS\"] ==                10\n",
    "    assert CFP[\"NMAU\"] ==                   100\n",
    "    assert CFP[\"NPRINT\"] ==                 1\n",
    "    assert CFP[\"PRINT_EMPTY_EVENTS\"] ==     1\n",
    "    assert CFP[\"RUN_ALL\"] ==                False\n",
    "    assert CFP[\"RUN_NUMBER\"] ==             0\n",
    "    assert CFP[\"S1_LMAX\"] ==                20\n",
    "    assert CFP[\"S1_LMIN\"] ==                6\n",
    "    assert CFP[\"S1_STRIDE\"] ==              4\n",
    "    assert CFP[\"S1_TMAX\"] ==                590\n",
    "    assert CFP[\"S1_TMIN\"] ==                10\n",
    "    assert CFP[\"S2_LMAX\"] ==                100000\n",
    "    assert CFP[\"S2_LMIN\"] ==                100\n",
    "    assert CFP[\"S2_STRIDE\"] ==              40\n",
    "    assert CFP[\"S2_TMAX\"] ==                1190\n",
    "    assert CFP[\"S2_TMIN\"] ==                0\n",
    "    assert CFP[\"SKIP\"] ==                   0\n",
    "    assert CFP[\"THR_CSUM\"] ==               0.5\n",
    "    assert CFP[\"THR_MAU\"] ==                3\n",
    "    assert CFP[\"THR_SIPM_S2\"] ==            30\n",
    "    assert CFP[\"THR_TRIGGER\"] ==            5\n",
    "    assert CFP[\"THR_ZS\"] ==                 20\n",
    "    assert CFP[\"VERBOSITY\"] ==              20"
   ]
  },
  {
   "cell_type": "code",
   "execution_count": null,
   "metadata": {
    "collapsed": false
   },
   "outputs": [],
   "source": [
    "test_configure()"
   ]
  }
 ],
 "metadata": {
  "anaconda-cloud": {},
  "kernelspec": {
   "display_name": "Python [conda env:IC3.5]",
   "language": "python",
   "name": "conda-env-IC3.5-py"
  },
  "language_info": {
   "codemirror_mode": {
    "name": "ipython",
    "version": 3
   },
   "file_extension": ".py",
   "mimetype": "text/x-python",
   "name": "python",
   "nbconvert_exporter": "python",
   "pygments_lexer": "ipython3",
   "version": "3.5.2"
  }
 },
 "nbformat": 4,
 "nbformat_minor": 2
}
