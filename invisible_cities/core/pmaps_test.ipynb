{
 "cells": [
  {
   "cell_type": "markdown",
   "metadata": {
    "collapsed": false
   },
   "source": [
    "# pmaps_test"
   ]
  },
  {
   "cell_type": "code",
   "execution_count": null,
   "metadata": {
    "collapsed": false
   },
   "outputs": [],
   "source": [
    "import datetime"
   ]
  },
  {
   "cell_type": "code",
   "execution_count": null,
   "metadata": {
    "collapsed": false
   },
   "outputs": [],
   "source": [
    "print(datetime.datetime.now().strftime('%Y-%m-%d %H:%M:%S'))"
   ]
  },
  {
   "cell_type": "code",
   "execution_count": null,
   "metadata": {
    "collapsed": false
   },
   "outputs": [],
   "source": [
    "from __future__ import print_function\n",
    "import sys\n",
    "import os\n",
    "from glob import glob\n",
    "from time import time"
   ]
  },
  {
   "cell_type": "code",
   "execution_count": null,
   "metadata": {
    "collapsed": false
   },
   "outputs": [],
   "source": [
    "%matplotlib inline\n",
    "%load_ext autoreload\n",
    "%autoreload 2\n",
    "import matplotlib.pyplot as plt\n",
    "import pandas as pd\n",
    "import tables as tb\n",
    "import numpy as np\n",
    "import math\n"
   ]
  },
  {
   "cell_type": "code",
   "execution_count": null,
   "metadata": {
    "collapsed": false
   },
   "outputs": [],
   "source": [
    "import time\n",
    "\n",
    "from invisible_cities.reco.pmap_io           import pmap_writer, S12, S2Si\n",
    "from invisible_cities.core.system_of_units_c import units\n",
    "from invisible_cities.reco.pmaps_functions   import read_pmaps, read_run_and_event_from_pmaps_file\n",
    "from invisible_cities.reco.params            import PMaps"
   ]
  },
  {
   "cell_type": "code",
   "execution_count": null,
   "metadata": {
    "collapsed": false
   },
   "outputs": [],
   "source": [
    "from invisible_cities.reco.pmaps_functions_c import df_to_pmaps_dict, df_to_s2si_dict"
   ]
  },
  {
   "cell_type": "markdown",
   "metadata": {
    "collapsed": false
   },
   "source": [
    "### files"
   ]
  },
  {
   "cell_type": "code",
   "execution_count": null,
   "metadata": {
    "collapsed": false
   },
   "outputs": [],
   "source": [
    "PMP_file_name  = os.path.join(os.environ['IC_DATA'],'test_pmaps.h5')"
   ]
  },
  {
   "cell_type": "markdown",
   "metadata": {
    "collapsed": false
   },
   "source": [
    "### read back tables"
   ]
  },
  {
   "cell_type": "code",
   "execution_count": null,
   "metadata": {
    "collapsed": false
   },
   "outputs": [],
   "source": [
    "s1df, s2df, s2sidf = read_pmaps(PMP_file_name)\n",
    "rundf, evtdf = read_run_and_event_from_pmaps_file(PMP_file_name)"
   ]
  },
  {
   "cell_type": "code",
   "execution_count": null,
   "metadata": {
    "collapsed": false
   },
   "outputs": [],
   "source": [
    "rundf"
   ]
  },
  {
   "cell_type": "code",
   "execution_count": null,
   "metadata": {
    "collapsed": false
   },
   "outputs": [],
   "source": [
    "rundf.run_number.values"
   ]
  },
  {
   "cell_type": "code",
   "execution_count": null,
   "metadata": {
    "collapsed": false
   },
   "outputs": [],
   "source": [
    "np.testing.assert_equal(rundf.run_number.values, np.zeros(3, dtype=np.int32))"
   ]
  },
  {
   "cell_type": "code",
   "execution_count": null,
   "metadata": {
    "collapsed": false
   },
   "outputs": [],
   "source": [
    "evtdf"
   ]
  },
  {
   "cell_type": "code",
   "execution_count": null,
   "metadata": {
    "collapsed": false
   },
   "outputs": [],
   "source": [
    "evtdf.evt_number.values"
   ]
  },
  {
   "cell_type": "markdown",
   "metadata": {
    "collapsed": false
   },
   "source": [
    "### test"
   ]
  },
  {
   "cell_type": "code",
   "execution_count": null,
   "metadata": {
    "collapsed": false
   },
   "outputs": [],
   "source": [
    "def pmaps():\n",
    "    \"\"\"Return  PMAPS.\"\"\"\n",
    "\n",
    "    S1 = S12({0:(np.random.rand(5),\n",
    "         np.random.rand(5))})\n",
    "    S2 = S12({0:(np.random.rand(5),\n",
    "         np.random.rand(5))})\n",
    "\n",
    "    nsipm = {}\n",
    "    for i in (1,2,3):\n",
    "        nsipm[i] = np.random.rand(5)\n",
    "    s2si = {0:nsipm}\n",
    "\n",
    "    Si = S2Si(s2si)\n",
    "\n",
    "    # Si = S2Si({0:[(1, np.random.rand(5)),\n",
    "    #       (2, np.random.rand(5)),\n",
    "    #       (3, np.random.rand(5))]})\n",
    "\n",
    "    return PMaps(S1, S2, Si)"
   ]
  },
  {
   "cell_type": "code",
   "execution_count": null,
   "metadata": {
    "collapsed": false
   },
   "outputs": [],
   "source": [
    "\n",
    "P = pmaps()\n",
    "\n",
    "run_number = 0\n",
    "event_info_table = []\n",
    "for i in range(3):\n",
    "    event_info_table.append((100+i, int(time.time()) ))\n",
    "\n",
    "    # write with context\n",
    "with pmap_writer(PMP_file_name) as write:\n",
    "    for (event_number, timestamp) in event_info_table:\n",
    "        write(run_number, event_number, timestamp, P.S1, P.S2, P.S2Si)\n"
   ]
  },
  {
   "cell_type": "code",
   "execution_count": null,
   "metadata": {
    "collapsed": false
   },
   "outputs": [],
   "source": [
    "s1df, s2df, s2sidf = read_pmaps(PMP_file_name)\n",
    "rundf, evtdf = read_run_and_event_from_pmaps_file(PMP_file_name)\n"
   ]
  },
  {
   "cell_type": "code",
   "execution_count": null,
   "metadata": {
    "collapsed": false
   },
   "outputs": [],
   "source": [
    "s1df"
   ]
  },
  {
   "cell_type": "code",
   "execution_count": null,
   "metadata": {
    "collapsed": false
   },
   "outputs": [],
   "source": [
    "s2df"
   ]
  },
  {
   "cell_type": "code",
   "execution_count": null,
   "metadata": {
    "collapsed": false
   },
   "outputs": [],
   "source": [
    "s2sidf"
   ]
  },
  {
   "cell_type": "code",
   "execution_count": null,
   "metadata": {
    "collapsed": false
   },
   "outputs": [],
   "source": [
    "S1L = df_to_pmaps_dict(s1df)"
   ]
  },
  {
   "cell_type": "code",
   "execution_count": null,
   "metadata": {
    "collapsed": false
   },
   "outputs": [],
   "source": [
    "S1L"
   ]
  },
  {
   "cell_type": "code",
   "execution_count": null,
   "metadata": {
    "collapsed": false
   },
   "outputs": [],
   "source": [
    "S2L = df_to_pmaps_dict(s2df)"
   ]
  },
  {
   "cell_type": "code",
   "execution_count": null,
   "metadata": {
    "collapsed": false
   },
   "outputs": [],
   "source": [
    "S2L"
   ]
  },
  {
   "cell_type": "code",
   "execution_count": null,
   "metadata": {
    "collapsed": false
   },
   "outputs": [],
   "source": [
    "S2SiL = df_to_s2si_dict(s2sidf)"
   ]
  },
  {
   "cell_type": "code",
   "execution_count": null,
   "metadata": {
    "collapsed": false
   },
   "outputs": [],
   "source": [
    "S2SiL"
   ]
  },
  {
   "cell_type": "code",
   "execution_count": null,
   "metadata": {
    "collapsed": false
   },
   "outputs": [],
   "source": [
    "for s1p in S1L.values():\n",
    "    for peak in s1p.values():\n",
    "        print(peak.t, peak.E)\n",
    "        np.testing.assert_allclose(peak.t, P.S1[0][0])\n",
    "        np.testing.assert_allclose(peak.E, P.S1[0][1])"
   ]
  },
  {
   "cell_type": "code",
   "execution_count": null,
   "metadata": {
    "collapsed": false
   },
   "outputs": [],
   "source": [
    "for s2p in S2L.values():\n",
    "    for peak in s2p.values():\n",
    "        np.testing.assert_allclose(peak.t, P.S2[0][0])\n",
    "        np.testing.assert_allclose(peak.E, P.S2[0][1])\n"
   ]
  },
  {
   "cell_type": "code",
   "execution_count": null,
   "metadata": {
    "collapsed": false
   },
   "outputs": [],
   "source": [
    "for s in S2SiL.values():\n",
    "    for peak in s.values():\n",
    "        for i, E in peak.items():\n",
    "            np.testing.assert_allclose(E, P.S2Si[0][i])"
   ]
  }
 ],
 "metadata": {
  "anaconda-cloud": {},
  "kernelspec": {
   "display_name": "Python 3",
   "language": "python",
   "name": "python3"
  },
  "language_info": {
   "codemirror_mode": {
    "name": "ipython",
    "version": 3
   },
   "file_extension": ".py",
   "mimetype": "text/x-python",
   "name": "python",
   "nbconvert_exporter": "python",
   "pygments_lexer": "ipython3",
   "version": "3.6.0"
  }
 },
 "nbformat": 4,
 "nbformat_minor": 0
}
