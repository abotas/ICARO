{
 "cells": [
  {
   "cell_type": "markdown",
   "metadata": {},
   "source": [
    "# Na analysis (run 3575)"
   ]
  },
  {
   "cell_type": "code",
   "execution_count": 1,
   "metadata": {
    "collapsed": false
   },
   "outputs": [
    {
     "name": "stdout",
     "output_type": "stream",
     "text": [
      "Running on  Thu Apr  6 17:03:41 2017\n"
     ]
    }
   ],
   "source": [
    "from __future__ import print_function, division\n",
    "%load_ext autoreload\n",
    "%autoreload 2\n",
    "import os\n",
    "import operator\n",
    "import functools\n",
    "import textwrap\n",
    "import copy\n",
    "import time\n",
    "import glob\n",
    "import math\n",
    "print(\"Running on \", time.asctime())\n",
    "\n",
    "import textwrap\n",
    "import numpy as np\n",
    "import pandas as pd\n",
    "import tables as tb\n",
    "import matplotlib.pyplot as plt\n",
    "from matplotlib.colors import LogNorm\n",
    "%matplotlib inline\n",
    "\n",
    "import invisible_cities.database.load_db as DB\n",
    "import invisible_cities.core.system_of_units_c as SystemOfUnits\n",
    "import invisible_cities.reco.pmaps_functions as pmapf\n",
    "import invisible_cities.core.fit_functions as fitf\n",
    "\n",
    "from invisible_cities.core.core_functions import timefunc, flat\n",
    "from invisible_cities.reco.pmaps_functions import width, integrate_charge\n",
    "from icaro.core.hst_functions import labels, hist, doublehist, hist2d, pdf, scatter, profile_and_scatter,\\\n",
    "                              doublescatter, covariance, reso, gausstext, save_to_folder \n",
    "\n",
    "from icaro.core.kdst_functions import load_dst, event_rate\n",
    "DataPMT = DB.DataPMT()\n",
    "DataSiPM = DB.DataSiPM()\n",
    "units = SystemOfUnits.SystemOfUnits()\n",
    "pi = np.pi\n"
   ]
  },
  {
   "cell_type": "markdown",
   "metadata": {},
   "source": [
    "#### General plotting options"
   ]
  },
  {
   "cell_type": "code",
   "execution_count": 2,
   "metadata": {
    "collapsed": false
   },
   "outputs": [],
   "source": [
    "plt.rcParams[\"figure.figsize\"]          = 6, 6\n",
    "plt.rcParams[\"font.size\"]               = 15\n",
    "plt.rcParams[\"figure.max_open_warning\"] = 100\n",
    "\n",
    "profOpt = \"--k\"\n",
    "fitOpt  = \"r\"\n",
    "\n",
    "outputfolder = \"plots/\"\n",
    "if not os.path.exists(outputfolder):\n",
    "    os.mkdir(outputfolder)"
   ]
  },
  {
   "cell_type": "markdown",
   "metadata": {},
   "source": [
    "#### Useful functions"
   ]
  },
  {
   "cell_type": "code",
   "execution_count": 3,
   "metadata": {
    "collapsed": false
   },
   "outputs": [],
   "source": [
    "save = functools.partial(save_to_folder, outputfolder)"
   ]
  },
  {
   "cell_type": "code",
   "execution_count": 4,
   "metadata": {
    "collapsed": true
   },
   "outputs": [],
   "source": [
    "def gausstext(values):\n",
    "    return textwrap.dedent(\"\"\"\n",
    "        $\\mu$ = {:.1f}\n",
    "        $\\sigma$ = {:.2f}\n",
    "        R = {:.3}%\n",
    "        Rbb = {:.3}%\"\"\".format(*f.values[1:], *reso(f.values)))\n",
    "\n"
   ]
  },
  {
   "cell_type": "markdown",
   "metadata": {},
   "source": [
    "### Run"
   ]
  },
  {
   "cell_type": "code",
   "execution_count": 5,
   "metadata": {
    "collapsed": true
   },
   "outputs": [],
   "source": [
    "run_number = 3575"
   ]
  },
  {
   "cell_type": "markdown",
   "metadata": {},
   "source": [
    "### Input data"
   ]
  },
  {
   "cell_type": "code",
   "execution_count": 6,
   "metadata": {
    "collapsed": false
   },
   "outputs": [
    {
     "name": "stdout",
     "output_type": "stream",
     "text": [
      "ifile: /Users/jjgomezcadenas/Projects/ICDATA/LSC/kdst/3575/kdst_3575_000_999.h5\n"
     ]
    }
   ],
   "source": [
    "# Comment out this line if your data is in $IC_DATA\n",
    "#ifile = os.path.expandvars(\"/Users/Gonzalo/github/NEXTdata/Na22/Na22DST.h5\")\n",
    "ifile = os.path.join(os.environ['IC_DATA'],\n",
    "                        'LSC/kdst/{}/kdst_3575_000_999.h5'.format(run_number))\n",
    "print(\"ifile:\", ifile)"
   ]
  },
  {
   "cell_type": "markdown",
   "metadata": {},
   "source": [
    "# Read data"
   ]
  },
  {
   "cell_type": "code",
   "execution_count": 7,
   "metadata": {
    "collapsed": false,
    "scrolled": false
   },
   "outputs": [
    {
     "data": {
      "text/html": [
       "<div>\n",
       "<table border=\"1\" class=\"dataframe\">\n",
       "  <thead>\n",
       "    <tr style=\"text-align: right;\">\n",
       "      <th></th>\n",
       "      <th>event</th>\n",
       "      <th>time</th>\n",
       "      <th>peak</th>\n",
       "      <th>nS2</th>\n",
       "      <th>S1w</th>\n",
       "      <th>S1h</th>\n",
       "      <th>S1e</th>\n",
       "      <th>S1t</th>\n",
       "      <th>S2w</th>\n",
       "      <th>S2h</th>\n",
       "      <th>...</th>\n",
       "      <th>S2t</th>\n",
       "      <th>Nsipm</th>\n",
       "      <th>DT</th>\n",
       "      <th>Z</th>\n",
       "      <th>X</th>\n",
       "      <th>Y</th>\n",
       "      <th>R</th>\n",
       "      <th>Phi</th>\n",
       "      <th>Xrms</th>\n",
       "      <th>Yrms</th>\n",
       "    </tr>\n",
       "  </thead>\n",
       "  <tbody>\n",
       "    <tr>\n",
       "      <th>0</th>\n",
       "      <td>2</td>\n",
       "      <td>1.491342e+09</td>\n",
       "      <td>0</td>\n",
       "      <td>1</td>\n",
       "      <td>275.0</td>\n",
       "      <td>64.295494</td>\n",
       "      <td>365.038980</td>\n",
       "      <td>486125.0</td>\n",
       "      <td>41.665438</td>\n",
       "      <td>9505.395508</td>\n",
       "      <td>...</td>\n",
       "      <td>654462.5</td>\n",
       "      <td>49.0</td>\n",
       "      <td>168.3375</td>\n",
       "      <td>168337.5</td>\n",
       "      <td>-30.902690</td>\n",
       "      <td>53.909130</td>\n",
       "      <td>62.138318</td>\n",
       "      <td>2.091304</td>\n",
       "      <td>41.113927</td>\n",
       "      <td>58.683844</td>\n",
       "    </tr>\n",
       "    <tr>\n",
       "      <th>1</th>\n",
       "      <td>4</td>\n",
       "      <td>1.491342e+09</td>\n",
       "      <td>0</td>\n",
       "      <td>1</td>\n",
       "      <td>200.0</td>\n",
       "      <td>36.470367</td>\n",
       "      <td>194.114036</td>\n",
       "      <td>531950.0</td>\n",
       "      <td>23.402500</td>\n",
       "      <td>9115.522461</td>\n",
       "      <td>...</td>\n",
       "      <td>661462.5</td>\n",
       "      <td>27.0</td>\n",
       "      <td>129.5125</td>\n",
       "      <td>129512.5</td>\n",
       "      <td>57.252296</td>\n",
       "      <td>0.689844</td>\n",
       "      <td>57.256452</td>\n",
       "      <td>0.012049</td>\n",
       "      <td>12.112382</td>\n",
       "      <td>52.490100</td>\n",
       "    </tr>\n",
       "    <tr>\n",
       "      <th>2</th>\n",
       "      <td>6</td>\n",
       "      <td>1.491342e+09</td>\n",
       "      <td>0</td>\n",
       "      <td>1</td>\n",
       "      <td>225.0</td>\n",
       "      <td>49.535275</td>\n",
       "      <td>273.186763</td>\n",
       "      <td>504150.0</td>\n",
       "      <td>30.916812</td>\n",
       "      <td>9145.306641</td>\n",
       "      <td>...</td>\n",
       "      <td>665462.5</td>\n",
       "      <td>43.0</td>\n",
       "      <td>161.3125</td>\n",
       "      <td>161312.5</td>\n",
       "      <td>-80.515359</td>\n",
       "      <td>8.131453</td>\n",
       "      <td>80.924926</td>\n",
       "      <td>3.040941</td>\n",
       "      <td>20.215411</td>\n",
       "      <td>13.245800</td>\n",
       "    </tr>\n",
       "    <tr>\n",
       "      <th>3</th>\n",
       "      <td>8</td>\n",
       "      <td>1.491342e+09</td>\n",
       "      <td>0</td>\n",
       "      <td>1</td>\n",
       "      <td>200.0</td>\n",
       "      <td>35.185417</td>\n",
       "      <td>195.103758</td>\n",
       "      <td>517600.0</td>\n",
       "      <td>29.096375</td>\n",
       "      <td>9989.318359</td>\n",
       "      <td>...</td>\n",
       "      <td>654862.5</td>\n",
       "      <td>22.0</td>\n",
       "      <td>137.2625</td>\n",
       "      <td>137262.5</td>\n",
       "      <td>72.665855</td>\n",
       "      <td>68.384014</td>\n",
       "      <td>99.783264</td>\n",
       "      <td>0.755051</td>\n",
       "      <td>13.088289</td>\n",
       "      <td>22.880939</td>\n",
       "    </tr>\n",
       "    <tr>\n",
       "      <th>4</th>\n",
       "      <td>12</td>\n",
       "      <td>1.491342e+09</td>\n",
       "      <td>0</td>\n",
       "      <td>1</td>\n",
       "      <td>175.0</td>\n",
       "      <td>34.424568</td>\n",
       "      <td>179.909183</td>\n",
       "      <td>617450.0</td>\n",
       "      <td>39.079687</td>\n",
       "      <td>20055.962891</td>\n",
       "      <td>...</td>\n",
       "      <td>656412.5</td>\n",
       "      <td>50.0</td>\n",
       "      <td>38.9625</td>\n",
       "      <td>38962.5</td>\n",
       "      <td>79.846011</td>\n",
       "      <td>-0.266283</td>\n",
       "      <td>79.846455</td>\n",
       "      <td>-0.003335</td>\n",
       "      <td>12.658441</td>\n",
       "      <td>19.831387</td>\n",
       "    </tr>\n",
       "  </tbody>\n",
       "</table>\n",
       "<p>5 rows × 22 columns</p>\n",
       "</div>"
      ],
      "text/plain": [
       "   event          time  peak  nS2    S1w        S1h         S1e       S1t  \\\n",
       "0      2  1.491342e+09     0    1  275.0  64.295494  365.038980  486125.0   \n",
       "1      4  1.491342e+09     0    1  200.0  36.470367  194.114036  531950.0   \n",
       "2      6  1.491342e+09     0    1  225.0  49.535275  273.186763  504150.0   \n",
       "3      8  1.491342e+09     0    1  200.0  35.185417  195.103758  517600.0   \n",
       "4     12  1.491342e+09     0    1  175.0  34.424568  179.909183  617450.0   \n",
       "\n",
       "         S2w           S2h    ...           S2t  Nsipm        DT         Z  \\\n",
       "0  41.665438   9505.395508    ...      654462.5   49.0  168.3375  168337.5   \n",
       "1  23.402500   9115.522461    ...      661462.5   27.0  129.5125  129512.5   \n",
       "2  30.916812   9145.306641    ...      665462.5   43.0  161.3125  161312.5   \n",
       "3  29.096375   9989.318359    ...      654862.5   22.0  137.2625  137262.5   \n",
       "4  39.079687  20055.962891    ...      656412.5   50.0   38.9625   38962.5   \n",
       "\n",
       "           X          Y          R       Phi       Xrms       Yrms  \n",
       "0 -30.902690  53.909130  62.138318  2.091304  41.113927  58.683844  \n",
       "1  57.252296   0.689844  57.256452  0.012049  12.112382  52.490100  \n",
       "2 -80.515359   8.131453  80.924926  3.040941  20.215411  13.245800  \n",
       "3  72.665855  68.384014  99.783264  0.755051  13.088289  22.880939  \n",
       "4  79.846011  -0.266283  79.846455 -0.003335  12.658441  19.831387  \n",
       "\n",
       "[5 rows x 22 columns]"
      ]
     },
     "execution_count": 7,
     "metadata": {},
     "output_type": "execute_result"
    }
   ],
   "source": [
    "full = load_dst(ifile)\n",
    "full.head()"
   ]
  },
  {
   "cell_type": "markdown",
   "metadata": {},
   "source": [
    "### Trigger rate and z distribution "
   ]
  },
  {
   "cell_type": "code",
   "execution_count": 8,
   "metadata": {
    "collapsed": false
   },
   "outputs": [],
   "source": [
    "r = event_rate(full)"
   ]
  },
  {
   "cell_type": "code",
   "execution_count": 9,
   "metadata": {
    "collapsed": false
   },
   "outputs": [
    {
     "name": "stdout",
     "output_type": "stream",
     "text": [
      "Trigger rate: 0.43752105359206156 evts/s\n"
     ]
    }
   ],
   "source": [
    "print(\"Trigger rate: {} evts/s\".format(r))"
   ]
  },
  {
   "cell_type": "code",
   "execution_count": 10,
   "metadata": {
    "collapsed": false
   },
   "outputs": [
    {
     "data": {
      "image/png": "[encoded data removed]",
      "text/plain": [
       "<matplotlib.figure.Figure at 0x1055ebc50>"
      ]
     },
     "metadata": {},
     "output_type": "display_data"
    }
   ],
   "source": [
    "n, bins, patches  = hist(full.time, 25)"
   ]
  },
  {
   "cell_type": "code",
   "execution_count": 11,
   "metadata": {
    "collapsed": false
   },
   "outputs": [
    {
     "data": {
      "image/png": "[encoded data removed]",
      "text/plain": [
       "<matplotlib.figure.Figure at 0x110299390>"
      ]
     },
     "metadata": {},
     "output_type": "display_data"
    }
   ],
   "source": [
    "hist(full.Z/units.mus, 100, (0,600))\n",
    "labels(\"Drift time ($\\mu$s)\", \"Entries\")"
   ]
  },
  {
   "cell_type": "markdown",
   "metadata": {},
   "source": [
    "#### NB very visible position of the source"
   ]
  },
  {
   "cell_type": "markdown",
   "metadata": {},
   "source": [
    "### Raw S2"
   ]
  },
  {
   "cell_type": "code",
   "execution_count": 13,
   "metadata": {
    "collapsed": false
   },
   "outputs": [
    {
     "data": {
      "image/png": "[encoded data removed]",
      "text/plain": [
       "<matplotlib.figure.Figure at 0x1110f9a20>"
      ]
     },
     "metadata": {},
     "output_type": "display_data"
    }
   ],
   "source": [
    "hist(full.nS2, 5, (0,5))\n",
    "labels(\"Number of S2 signals\", \"Entries\")"
   ]
  },
  {
   "cell_type": "code",
   "execution_count": 14,
   "metadata": {
    "collapsed": false
   },
   "outputs": [
    {
     "data": {
      "image/png": "[encoded data removed]",
      "text/plain": [
       "<matplotlib.figure.Figure at 0x1117729e8>"
      ]
     },
     "metadata": {},
     "output_type": "display_data"
    }
   ],
   "source": [
    "pdf(full.S2e, 200, (0,3e5))\n",
    "labels(\"S2 energy (pes)\", \"Entries\")"
   ]
  },
  {
   "cell_type": "code",
   "execution_count": 15,
   "metadata": {
    "collapsed": false
   },
   "outputs": [
    {
     "data": {
      "image/png": "[encoded data removed]",
      "text/plain": [
       "<matplotlib.figure.Figure at 0x110406e80>"
      ]
     },
     "metadata": {},
     "output_type": "display_data"
    }
   ],
   "source": [
    "n, bins, patches  = hist(full.S2e, 50, (0e3,1e5))\n",
    "labels(\"S2 energy (pes)\", \"Entries\")"
   ]
  },
  {
   "cell_type": "code",
   "execution_count": 16,
   "metadata": {
    "collapsed": false
   },
   "outputs": [
    {
     "data": {
      "image/png": "[encoded data removed]",
      "text/plain": [
       "<matplotlib.figure.Figure at 0x110fed940>"
      ]
     },
     "metadata": {},
     "output_type": "display_data"
    }
   ],
   "source": [
    "n, bins, patches  = hist(full.S2e, 25, (0,1e4))\n",
    "labels(\"S2 energy (pes)\", \"Entries\")"
   ]
  },
  {
   "cell_type": "markdown",
   "metadata": {},
   "source": [
    "### S1"
   ]
  },
  {
   "cell_type": "code",
   "execution_count": 17,
   "metadata": {
    "collapsed": false,
    "scrolled": false
   },
   "outputs": [
    {
     "data": {
      "image/png": "[encoded data removed]",
      "text/plain": [
       "<matplotlib.figure.Figure at 0x114e50ac8>"
      ]
     },
     "metadata": {},
     "output_type": "display_data"
    },
    {
     "data": {
      "image/png": "[encoded data removed]",
      "text/plain": [
       "<matplotlib.figure.Figure at 0x11107db38>"
      ]
     },
     "metadata": {},
     "output_type": "display_data"
    },
    {
     "data": {
      "image/png": "[encoded data removed]",
      "text/plain": [
       "<matplotlib.figure.Figure at 0x1055eb780>"
      ]
     },
     "metadata": {},
     "output_type": "display_data"
    }
   ],
   "source": [
    "bins = np.linspace(0, 500, 100)\n",
    "n, bins, patches  = hist(full.S1e, bins)\n",
    "labels(\"S1 energy (pes)\", \"Entries\")\n",
    "\n",
    "bins = np.linspace(0, 500, 21)\n",
    "n, bins, patches  = hist(full.S1w, bins)\n",
    "labels(\"S1 width (ns)\", \"Entries\")\n",
    "\n",
    "bins = np.linspace(0, 100, 100)\n",
    "n, bins, patches  =  hist(full.S1h, bins)\n",
    "labels(\"S1 heigth (pes)\", \"Entries\")"
   ]
  },
  {
   "cell_type": "markdown",
   "metadata": {},
   "source": [
    "### S2 energy vs Z"
   ]
  },
  {
   "cell_type": "code",
   "execution_count": 18,
   "metadata": {
    "collapsed": false
   },
   "outputs": [
    {
     "data": {
      "image/png": "[encoded data removed]",
      "text/plain": [
       "<matplotlib.figure.Figure at 0x110f66dd8>"
      ]
     },
     "metadata": {},
     "output_type": "display_data"
    }
   ],
   "source": [
    "zrange =   0, 250\n",
    "Erange = 2e3, 1e5\n",
    "hist2d(full.Z/units.mus, full.S2e, (25, 25), range=(zrange, Erange))\n",
    "labels(\"Drift time ($\\mu$s)\", \"S2 energy\")\n",
    "save(\"S2energyvsZ_short\")\n",
    "\n",
    "#zrange = 200, 600\n",
    "#Erange = 2e3, 3e5\n",
    "#hist2d(full.Z * 1e-3, full.S2e, (25,  25), range=(zrange, Erange))\n",
    "#labels(\"Drift time ($\\mu$s)\", \"S2 energy\")\n",
    "#save(\"S2energyvsZ_long\")"
   ]
  },
  {
   "cell_type": "markdown",
   "metadata": {},
   "source": [
    "### S1 energy vs Z"
   ]
  },
  {
   "cell_type": "code",
   "execution_count": 19,
   "metadata": {
    "collapsed": false
   },
   "outputs": [
    {
     "data": {
      "image/png": "[encoded data removed]",
      "text/plain": [
       "<matplotlib.figure.Figure at 0x114e695f8>"
      ]
     },
     "metadata": {},
     "output_type": "display_data"
    }
   ],
   "source": [
    "zrange =   0, 250\n",
    "Erange = 50, 500\n",
    "hist2d(full.Z/units.mus, full.S1e, (25, 25), range=(zrange, Erange))\n",
    "labels(\"Drift time ($\\mu$s)\", \"S1 energy\")\n",
    "save(\"S1_energy_vsZ_short\")"
   ]
  },
  {
   "cell_type": "markdown",
   "metadata": {},
   "source": [
    "### S1 vs S2"
   ]
  },
  {
   "cell_type": "code",
   "execution_count": 21,
   "metadata": {
    "collapsed": false
   },
   "outputs": [
    {
     "data": {
      "image/png": "[encoded data removed]",
      "text/plain": [
       "<matplotlib.figure.Figure at 0x110272470>"
      ]
     },
     "metadata": {},
     "output_type": "display_data"
    }
   ],
   "source": [
    "zrange =   0, 250\n",
    "S1range = 50, 500\n",
    "S2range = 2e3, 1e5\n",
    "hist2d(full.S1e, full.S2e, (25, 25), range=(S1range, S2range))\n",
    "labels(\"S1 energy (pes)\", \"S2 energy (pes)\")\n",
    "#save(\"S1_energy_vs_S2_energy_short\")"
   ]
  },
  {
   "cell_type": "markdown",
   "metadata": {},
   "source": [
    "# Short drift time: Z < 200 $\\mu$s"
   ]
  },
  {
   "cell_type": "code",
   "execution_count": 22,
   "metadata": {
    "collapsed": false
   },
   "outputs": [
    {
     "name": "stdout",
     "output_type": "stream",
     "text": [
      "Ratio: 0.9254260165345031\n"
     ]
    },
    {
     "data": {
      "text/html": [
       "<div>\n",
       "<table border=\"1\" class=\"dataframe\">\n",
       "  <thead>\n",
       "    <tr style=\"text-align: right;\">\n",
       "      <th></th>\n",
       "      <th>event</th>\n",
       "      <th>time</th>\n",
       "      <th>peak</th>\n",
       "      <th>nS2</th>\n",
       "      <th>S1w</th>\n",
       "      <th>S1h</th>\n",
       "      <th>S1e</th>\n",
       "      <th>S1t</th>\n",
       "      <th>S2w</th>\n",
       "      <th>S2h</th>\n",
       "      <th>...</th>\n",
       "      <th>S2t</th>\n",
       "      <th>Nsipm</th>\n",
       "      <th>DT</th>\n",
       "      <th>Z</th>\n",
       "      <th>X</th>\n",
       "      <th>Y</th>\n",
       "      <th>R</th>\n",
       "      <th>Phi</th>\n",
       "      <th>Xrms</th>\n",
       "      <th>Yrms</th>\n",
       "    </tr>\n",
       "  </thead>\n",
       "  <tbody>\n",
       "    <tr>\n",
       "      <th>0</th>\n",
       "      <td>2</td>\n",
       "      <td>1.491342e+09</td>\n",
       "      <td>0</td>\n",
       "      <td>1</td>\n",
       "      <td>275.0</td>\n",
       "      <td>64.295494</td>\n",
       "      <td>365.038980</td>\n",
       "      <td>486125.0</td>\n",
       "      <td>41.665438</td>\n",
       "      <td>9505.395508</td>\n",
       "      <td>...</td>\n",
       "      <td>654462.5</td>\n",
       "      <td>49.0</td>\n",
       "      <td>168.3375</td>\n",
       "      <td>168337.5</td>\n",
       "      <td>-30.902690</td>\n",
       "      <td>53.909130</td>\n",
       "      <td>62.138318</td>\n",
       "      <td>2.091304</td>\n",
       "      <td>41.113927</td>\n",
       "      <td>58.683844</td>\n",
       "    </tr>\n",
       "    <tr>\n",
       "      <th>1</th>\n",
       "      <td>4</td>\n",
       "      <td>1.491342e+09</td>\n",
       "      <td>0</td>\n",
       "      <td>1</td>\n",
       "      <td>200.0</td>\n",
       "      <td>36.470367</td>\n",
       "      <td>194.114036</td>\n",
       "      <td>531950.0</td>\n",
       "      <td>23.402500</td>\n",
       "      <td>9115.522461</td>\n",
       "      <td>...</td>\n",
       "      <td>661462.5</td>\n",
       "      <td>27.0</td>\n",
       "      <td>129.5125</td>\n",
       "      <td>129512.5</td>\n",
       "      <td>57.252296</td>\n",
       "      <td>0.689844</td>\n",
       "      <td>57.256452</td>\n",
       "      <td>0.012049</td>\n",
       "      <td>12.112382</td>\n",
       "      <td>52.490100</td>\n",
       "    </tr>\n",
       "    <tr>\n",
       "      <th>2</th>\n",
       "      <td>6</td>\n",
       "      <td>1.491342e+09</td>\n",
       "      <td>0</td>\n",
       "      <td>1</td>\n",
       "      <td>225.0</td>\n",
       "      <td>49.535275</td>\n",
       "      <td>273.186763</td>\n",
       "      <td>504150.0</td>\n",
       "      <td>30.916812</td>\n",
       "      <td>9145.306641</td>\n",
       "      <td>...</td>\n",
       "      <td>665462.5</td>\n",
       "      <td>43.0</td>\n",
       "      <td>161.3125</td>\n",
       "      <td>161312.5</td>\n",
       "      <td>-80.515359</td>\n",
       "      <td>8.131453</td>\n",
       "      <td>80.924926</td>\n",
       "      <td>3.040941</td>\n",
       "      <td>20.215411</td>\n",
       "      <td>13.245800</td>\n",
       "    </tr>\n",
       "    <tr>\n",
       "      <th>3</th>\n",
       "      <td>8</td>\n",
       "      <td>1.491342e+09</td>\n",
       "      <td>0</td>\n",
       "      <td>1</td>\n",
       "      <td>200.0</td>\n",
       "      <td>35.185417</td>\n",
       "      <td>195.103758</td>\n",
       "      <td>517600.0</td>\n",
       "      <td>29.096375</td>\n",
       "      <td>9989.318359</td>\n",
       "      <td>...</td>\n",
       "      <td>654862.5</td>\n",
       "      <td>22.0</td>\n",
       "      <td>137.2625</td>\n",
       "      <td>137262.5</td>\n",
       "      <td>72.665855</td>\n",
       "      <td>68.384014</td>\n",
       "      <td>99.783264</td>\n",
       "      <td>0.755051</td>\n",
       "      <td>13.088289</td>\n",
       "      <td>22.880939</td>\n",
       "    </tr>\n",
       "    <tr>\n",
       "      <th>4</th>\n",
       "      <td>12</td>\n",
       "      <td>1.491342e+09</td>\n",
       "      <td>0</td>\n",
       "      <td>1</td>\n",
       "      <td>175.0</td>\n",
       "      <td>34.424568</td>\n",
       "      <td>179.909183</td>\n",
       "      <td>617450.0</td>\n",
       "      <td>39.079687</td>\n",
       "      <td>20055.962891</td>\n",
       "      <td>...</td>\n",
       "      <td>656412.5</td>\n",
       "      <td>50.0</td>\n",
       "      <td>38.9625</td>\n",
       "      <td>38962.5</td>\n",
       "      <td>79.846011</td>\n",
       "      <td>-0.266283</td>\n",
       "      <td>79.846455</td>\n",
       "      <td>-0.003335</td>\n",
       "      <td>12.658441</td>\n",
       "      <td>19.831387</td>\n",
       "    </tr>\n",
       "  </tbody>\n",
       "</table>\n",
       "<p>5 rows × 22 columns</p>\n",
       "</div>"
      ],
      "text/plain": [
       "   event          time  peak  nS2    S1w        S1h         S1e       S1t  \\\n",
       "0      2  1.491342e+09     0    1  275.0  64.295494  365.038980  486125.0   \n",
       "1      4  1.491342e+09     0    1  200.0  36.470367  194.114036  531950.0   \n",
       "2      6  1.491342e+09     0    1  225.0  49.535275  273.186763  504150.0   \n",
       "3      8  1.491342e+09     0    1  200.0  35.185417  195.103758  517600.0   \n",
       "4     12  1.491342e+09     0    1  175.0  34.424568  179.909183  617450.0   \n",
       "\n",
       "         S2w           S2h    ...           S2t  Nsipm        DT         Z  \\\n",
       "0  41.665438   9505.395508    ...      654462.5   49.0  168.3375  168337.5   \n",
       "1  23.402500   9115.522461    ...      661462.5   27.0  129.5125  129512.5   \n",
       "2  30.916812   9145.306641    ...      665462.5   43.0  161.3125  161312.5   \n",
       "3  29.096375   9989.318359    ...      654862.5   22.0  137.2625  137262.5   \n",
       "4  39.079687  20055.962891    ...      656412.5   50.0   38.9625   38962.5   \n",
       "\n",
       "           X          Y          R       Phi       Xrms       Yrms  \n",
       "0 -30.902690  53.909130  62.138318  2.091304  41.113927  58.683844  \n",
       "1  57.252296   0.689844  57.256452  0.012049  12.112382  52.490100  \n",
       "2 -80.515359   8.131453  80.924926  3.040941  20.215411  13.245800  \n",
       "3  72.665855  68.384014  99.783264  0.755051  13.088289  22.880939  \n",
       "4  79.846011  -0.266283  79.846455 -0.003335  12.658441  19.831387  \n",
       "\n",
       "[5 rows x 22 columns]"
      ]
     },
     "execution_count": 22,
     "metadata": {},
     "output_type": "execute_result"
    }
   ],
   "source": [
    "zrange = 0, 200\n",
    "shortZ = full[full.Z/units.mus < 200]\n",
    "print(\"Ratio:\", len(shortZ)/len(full))\n",
    "shortZ.head()"
   ]
  },
  {
   "cell_type": "markdown",
   "metadata": {},
   "source": [
    "# S2 energy"
   ]
  },
  {
   "cell_type": "code",
   "execution_count": 23,
   "metadata": {
    "collapsed": false
   },
   "outputs": [
    {
     "data": {
      "image/png": "[encoded data removed]",
      "text/plain": [
       "<matplotlib.figure.Figure at 0x110416dd8>"
      ]
     },
     "metadata": {},
     "output_type": "display_data"
    }
   ],
   "source": [
    "Erange = 0e3, 300e3\n",
    "\n",
    "hist(shortZ.S2e, 50, range=Erange)\n",
    "labels(\"S2 energy (pes)\", \"Entries\")\n",
    "save(\"S2energy\")\n"
   ]
  },
  {
   "cell_type": "code",
   "execution_count": null,
   "metadata": {
    "collapsed": true
   },
   "outputs": [],
   "source": [
    "def profile_histogram()"
   ]
  },
  {
   "cell_type": "code",
   "execution_count": 25,
   "metadata": {
    "collapsed": false
   },
   "outputs": [
    {
     "data": {
      "text/plain": [
       "<matplotlib.axes._subplots.AxesSubplot at 0x110ffc4a8>"
      ]
     },
     "execution_count": 25,
     "metadata": {},
     "output_type": "execute_result"
    },
    {
     "data": {
      "image/png": "[encoded data removed]",
      "text/plain": [
       "<matplotlib.figure.Figure at 0x111741358>"
      ]
     },
     "metadata": {},
     "output_type": "display_data"
    }
   ],
   "source": [
    "\n",
    "# just some random numbers to get startet\n",
    "x = np.random.uniform(-2, 2, 10000)\n",
    "y = np.random.normal(x**2, np.abs(x) + 1)\n",
    "df = pd.DataFrame({'x': x, 'y': y})\n",
    "\n",
    "\n",
    "# calculate in which bin row belongs base on `x`\n",
    "# bins needs the bin edges, so this will give as 100 equally sized bins\n",
    "bins = np.linspace(-2, 2, 101)\n",
    "df['bin'] = np.digitize(x, bins=bins)\n",
    "bin_centers = 0.5 * (bins[:-1] + bins[1:])\n",
    "bin_width = bins[1] - bins[0]\n",
    "\n",
    "# grouby bin, so we can calculate stuff\n",
    "binned = df.groupby('bin')\n",
    "# calculate mean and standard error of the mean for y in each bin\n",
    "result = binned['y'].agg(['mean', 'sem'])\n",
    "result['x'] = bin_centers\n",
    "result['xerr'] = bin_width / 2\n",
    "\n",
    "# plot it\n",
    "\n",
    "result.plot(\n",
    "    x='x',\n",
    "    y='mean',\n",
    "    xerr='xerr',\n",
    "    yerr='sem',\n",
    "    linestyle='none',\n",
    "    capsize=0,\n",
    "    color='black',\n",
    ")\n",
    "#plt.savefig('result.png', dpi=300)"
   ]
  },
  {
   "cell_type": "code",
   "execution_count": 24,
   "metadata": {
    "collapsed": false
   },
   "outputs": [
    {
     "data": {
      "image/png": "[encoded data removed]",
      "text/plain": [
       "<matplotlib.figure.Figure at 0x11149fef0>"
      ]
     },
     "metadata": {},
     "output_type": "display_data"
    }
   ],
   "source": [
    "Erange = 50e3, 80e3\n",
    "zrange = 100, 200\n",
    "pErange = 55e3, 70e3\n",
    "pZrange = 160, 180\n",
    "\n",
    "hist2d(shortZ.Z/units.mus, shortZ.S2e, (20, 20), range=(zrange, Erange))\n",
    "x, y, _ = fitf.profileX(shortZ.Z/units.mus, shortZ.S2e, 20, xrange=pZrange, yrange=pErange)\n",
    "plt.plot(x, y, profOpt)\n",
    "\n",
    "labels(\"Drift time ($\\mu$s)\", \"S2 energy (pes)\")\n",
    "#save(\"S2energyvsZ\")"
   ]
  },
  {
   "cell_type": "markdown",
   "metadata": {},
   "source": [
    "# S2 width"
   ]
  },
  {
   "cell_type": "code",
   "execution_count": null,
   "metadata": {
    "collapsed": false
   },
   "outputs": [],
   "source": [
    "zrange = 0, 200\n",
    "wrange = 5, 15\n",
    "\n",
    "hist(shortZ.S2w, 20)\n",
    "labels(\"S2 width ($\\mu$s)\", \"Entries\")\n",
    "#save(\"S2width\")\n",
    "\n",
    "#hist2d(shortZ.Z, shortZ.S2w*1e-3, (50, 20), range=(zrange, wrange))\n",
    "#x, y, _ = fitf.profileX(shortZ.Z, shortZ.S2w*1e-3, 30, xrange=zrange, yrange=wrange)\n",
    "#plt.plot(x, y, profOpt)\n",
    "\n",
    "#labels(\"Drift time ($\\mu$s)\", \"S2 energy (pes)\")\n",
    "#save(\"S2widthvsZ\")"
   ]
  },
  {
   "cell_type": "markdown",
   "metadata": {},
   "source": [
    "# S2 height"
   ]
  },
  {
   "cell_type": "code",
   "execution_count": null,
   "metadata": {
    "collapsed": false
   },
   "outputs": [],
   "source": [
    "zrange = 0, 200\n",
    "hrange = 0, 40e3\n",
    "\n",
    "hist(shortZ.S2h, 30, range=hrange)\n",
    "labels(\"S2 height (pes)\", \"Entries\")\n",
    "#save(\"S2height\")\n",
    "\n",
    "#hist2d(shortZ.Z, shortZ.S2h, (50, 30), range=(zrange, hrange))\n",
    "#x, y, _ = fitf.profileX(shortZ.Z, shortZ.S2h, 30, xrange=zrange, yrange=hrange)\n",
    "#plt.plot(x, y, profOpt)\n",
    "\n",
    "#labels(\"Drift time ($\\mu$s)\", \"S2 height (pes)\")\n",
    "#save(\"S2heightvsZ\")"
   ]
  },
  {
   "cell_type": "markdown",
   "metadata": {},
   "source": [
    "# S2 peak to area ratio"
   ]
  },
  {
   "cell_type": "code",
   "execution_count": null,
   "metadata": {
    "collapsed": false
   },
   "outputs": [],
   "source": [
    "zrange = 0, 200\n",
    "rrange = 0, 0.5\n",
    "\n",
    "S2r = shortZ.S2h/shortZ.S2e\n",
    "\n",
    "hist(S2r, 50, range=rrange)\n",
    "labels(\"Height/Area\", \"Entries\")\n",
    "#save(\"S2Peak2Area\")\n",
    "\n",
    "#hist2d(shortZ.Z, S2r, (50, 50), range=(zrange, rrange))\n",
    "#x, y, _ = fitf.profileX(shortZ.Z, S2r, 30, xrange=zrange, yrange=rrange)\n",
    "#plt.plot(x, y, profOpt)\n",
    "\n",
    "#labels(\"Drift time ($\\mu$s)\", \"Height/Area\")\n",
    "#save(\"S2ratiovsZ\")"
   ]
  },
  {
   "cell_type": "markdown",
   "metadata": {},
   "source": [
    "# S2 vs S1"
   ]
  },
  {
   "cell_type": "code",
   "execution_count": null,
   "metadata": {
    "collapsed": false
   },
   "outputs": [],
   "source": [
    "Srange = 0, 20\n",
    "Erange = 0, 3e5\n",
    "\n",
    "S = shortZ.S1e\n",
    "E = shortZ.S2e\n",
    "\n",
    "hist2d(S, E, (50, 50), range=(Srange, Erange))\n",
    "x, y, _ = fitf.profileX(S, E, 30, xrange=Srange, yrange=Erange)\n",
    "plt.plot(x, y, profOpt)\n",
    "\n",
    "sel = fitf.in_range(S, *Srange) & fitf.in_range(E, *Erange)\n",
    "c = covariance(S[sel], E[sel])\n",
    "print(*c)\n",
    "labels(\"S1 energy (pes)\", \"S2 energy (pes)\")\n",
    "save(\"S2vsS1\")"
   ]
  },
  {
   "cell_type": "code",
   "execution_count": null,
   "metadata": {
    "collapsed": false
   },
   "outputs": [],
   "source": [
    "zrange = 0, 200\n",
    "Rrange = 0, 0.006\n",
    "\n",
    "S12r = shortZ.S1e/shortZ.S2e\n",
    "\n",
    "hist(S12r, 50, range=Rrange)\n",
    "labels(\"S1/S2\", \"Entries\")\n",
    "save(\"S12ratio\")\n",
    "\n",
    "hist2d(shortZ.Z, S12r, (50, 50), range=(zrange, Rrange))\n",
    "x, y, _ = fitf.profileX(shortZ.Z, S12r, 30, xrange=zrange, yrange=Rrange)\n",
    "plt.plot(x, y, profOpt)\n",
    "\n",
    "labels(\"Drift time ($\\mu$s)\", \"S1/S2\")\n",
    "save(\"S12ratiovsZ\")"
   ]
  },
  {
   "cell_type": "markdown",
   "metadata": {},
   "source": [
    "# Temporary fiducialization"
   ]
  },
  {
   "cell_type": "code",
   "execution_count": null,
   "metadata": {
    "collapsed": false
   },
   "outputs": [],
   "source": [
    "shortZfid = shortZ[shortZ.R < 100]\n",
    "print(\"Ratio:\", len(shortZfid)/len(full))\n",
    "print(\"Ratio:\", len(shortZfid)/len(shortZ))\n",
    "shortZfid.head()"
   ]
  },
  {
   "cell_type": "markdown",
   "metadata": {},
   "source": [
    "# S2 energy fiducialized"
   ]
  },
  {
   "cell_type": "code",
   "execution_count": null,
   "metadata": {
    "collapsed": false
   },
   "outputs": [],
   "source": [
    "zrange = 0,200\n",
    "Erange = 0e3, 200e3\n",
    "\n",
    "hist(shortZfid.S2e, 50, range=Erange)\n",
    "labels(\"S2 energy (pes)\", \"Entries\")\n",
    "#save(\"S2energy_fiducial\")\n",
    "\n"
   ]
  },
  {
   "cell_type": "code",
   "execution_count": null,
   "metadata": {
    "collapsed": false
   },
   "outputs": [],
   "source": [
    "Erange = 50e3, 80e3\n",
    "zrange = 100, 200\n",
    "pErange = 55e3, 70e3\n",
    "pZrange = 160, 180\n",
    "\n",
    "hist2d(shortZ.Z/units.mus, shortZ.S2e, (20, 20), range=(zrange, Erange))\n",
    "x, y, _ = fitf.profileX(shortZ.Z/units.mus, shortZ.S2e, 20, xrange=pZrange, yrange=pErange)\n",
    "plt.plot(x, y, profOpt)\n",
    "\n",
    "labels(\"Drift time ($\\mu$s)\", \"S2 energy (pes)\")"
   ]
  },
  {
   "cell_type": "code",
   "execution_count": null,
   "metadata": {
    "collapsed": false
   },
   "outputs": [],
   "source": [
    "sel  = fitf.in_range(x, 160, 180)\n",
    "x, y = x[sel], y[sel]\n",
    "\n",
    "f = fitf.fit(fitf.expo, x, y, (1e4, -200))\n",
    "plt.plot(x, f.fn(x), fitOpt)\n",
    "print(f.values)\n",
    "labels(\"Drift time ($\\mu$s)\", \"S2 energy (pes)\")\n",
    "#save(\"S2energyvsZ_fiducial\")\n",
    "\n",
    "zfun  = f.fn\n",
    "zmin  = np.min(x)\n",
    "zcorr = lambda z: zfun(zmin)/zfun(z)"
   ]
  },
  {
   "cell_type": "markdown",
   "metadata": {},
   "source": [
    "# Correction by attachment"
   ]
  },
  {
   "cell_type": "code",
   "execution_count": null,
   "metadata": {
    "collapsed": false
   },
   "outputs": [],
   "source": [
    "Erange = 1e3, 200e3\n",
    "E = shortZfid.S2e * zcorr(shortZfid.Z/units.mus)\n",
    "y, x, _ = hist(E, 50, range=Erange)"
   ]
  },
  {
   "cell_type": "code",
   "execution_count": null,
   "metadata": {
    "collapsed": false
   },
   "outputs": [],
   "source": [
    "Erange = 50e3, 100e3\n",
    "E = shortZfid.S2e * zcorr(shortZfid.Z/units.mus)\n",
    "y, x, _ = hist(E, 25, range=Erange)"
   ]
  },
  {
   "cell_type": "code",
   "execution_count": null,
   "metadata": {
    "collapsed": false
   },
   "outputs": [],
   "source": [
    "x    = x[:-1] + np.diff(x) * 0.5\n",
    "sel  = fitf.in_range(x, 65e3, 75e3)\n",
    "x, y = x[sel], y[sel]\n",
    "f    = fitf.fit(fitf.gauss, x, y, (1e3, 7e4, 2000))\n",
    "plt.plot(x, f.fn(x), fitOpt)\n",
    "plt.text(Erange[0], max(y)/2, gausstext(f.values))\n",
    "\n",
    "labels(\"S2 energy (pes)\", \"Entries\")"
   ]
  },
  {
   "cell_type": "code",
   "execution_count": null,
   "metadata": {
    "collapsed": false
   },
   "outputs": [],
   "source": [
    "Erange = 50e3, 100e3\n",
    "E = shortZfid.S2e * zcorr(shortZfid.Z/units.mus)\n",
    "\n",
    "y, x, _ = hist(E, 50, range=Erange)\n",
    "\n",
    "x    = x[:-1] + np.diff(x) * 0.5\n",
    "sel  = fitf.in_range(x, 62e3, 72e3)\n",
    "x, y = x[sel], y[sel]\n",
    "f    = fitf.fit(fitf.gauss, x, y, (1e3, 7e4, 2000))\n",
    "plt.plot(x, f.fn(x), fitOpt)\n",
    "plt.text(Erange[0], max(y)/2, gausstext(f.values))\n",
    "\n",
    "labels(\"S2 energy (pes)\", \"Entries\")\n",
    "\n"
   ]
  },
  {
   "cell_type": "code",
   "execution_count": null,
   "metadata": {
    "collapsed": true
   },
   "outputs": [],
   "source": [
    "Erange2 = 140e3, 170e3"
   ]
  },
  {
   "cell_type": "code",
   "execution_count": null,
   "metadata": {
    "collapsed": true
   },
   "outputs": [],
   "source": []
  },
  {
   "cell_type": "markdown",
   "metadata": {},
   "source": [
    "# Tracking"
   ]
  },
  {
   "cell_type": "code",
   "execution_count": null,
   "metadata": {
    "collapsed": false
   },
   "outputs": [],
   "source": [
    "nrange = 0, 12\n",
    "zrange = 0, 600\n",
    "\n",
    "hist(shortZ.Nsipm, max(nrange), nrange)\n",
    "labels(\"# SiPMs\", \"Entries\")\n",
    "save(\"Nsipm\")\n",
    "\n",
    "hist2d(shortZ.Z/units.mus, shortZ.Nsipm, (30, max(nrange)), range=(zrange, nrange))\n",
    "x, y, _ = fitf.profileX(shortZ.Z, shortZ.Nsipm, 30, xrange=zrange, yrange=nrange)\n",
    "plt.plot(x, y, profOpt)\n",
    "\n",
    "labels(\"Drift time ($\\mu$s)\", \"# SiPMs\")\n",
    "#save(\"NsipmvsZ\")\n"
   ]
  },
  {
   "cell_type": "markdown",
   "metadata": {},
   "source": [
    "# Event distribution"
   ]
  },
  {
   "cell_type": "code",
   "execution_count": null,
   "metadata": {
    "collapsed": false,
    "scrolled": false
   },
   "outputs": [],
   "source": [
    "xrange = -215, 215\n",
    "yrange = -215, 215\n",
    "rrange =    0, 215\n",
    "prange = - pi,  pi\n",
    "\n",
    "hist(shortZ.X, 50, range=xrange)\n",
    "labels(\"x (mm)\", \"Entries\")\n",
    "save(\"X\")\n",
    "\n",
    "hist(shortZ.Y, 50, range=yrange)\n",
    "labels(\"y (mm)\", \"Entries\")\n",
    "save(\"Y\")\n",
    "\n",
    "hist(shortZ.R, 50, range=rrange)\n",
    "labels(\"r (mm)\", \"Entries\")\n",
    "save(\"R\")\n",
    "\n",
    "hist(shortZ.Phi, 50, range=prange)\n",
    "labels(\"$\\phi$ (rad)\", \"Entries\")\n",
    "save(\"Phi\")\n",
    "\n",
    "nevts, xs, ys, _ = \\\n",
    "hist2d(shortZ.X, shortZ.Y, (50, 50), range=(xrange, yrange))\n",
    "plt.colorbar().set_label(\"# events\")\n",
    "labels(\"x (mm)\", \"y (mm)\")\n",
    "save(\"XY\")\n",
    "\n",
    "################################\n",
    "hist2d(shortZ.R, shortZ.Phi, (50, 50), range=(rrange, prange))\n",
    "plt.colorbar().set_label(\"# events\")\n",
    "labels(\"r (mm)\", \"$\\phi$ (mm)\")\n",
    "save(\"RPhi\")"
   ]
  },
  {
   "cell_type": "markdown",
   "metadata": {},
   "source": [
    "# Tracking charge"
   ]
  },
  {
   "cell_type": "code",
   "execution_count": null,
   "metadata": {
    "collapsed": false
   },
   "outputs": [],
   "source": [
    "zrange = 0, 200\n",
    "Qrange = 0, 500\n",
    "\n",
    "hist(shortZ.S2q, 100, range=Qrange)\n",
    "labels(\"S2 charge (pes)\", \"Entries\")\n",
    "save(\"S2charge\")\n",
    "\n",
    "hist2d(shortZ.Z, shortZ.S2q, (50, 100), range=(zrange, Qrange))\n",
    "x, y, _ = fitf.profileX(shortZ.Z, shortZ.S2q, 30, xrange=zrange, yrange=Qrange)\n",
    "plt.plot(x, y, profOpt)\n",
    "\n",
    "labels(\"Drift time ($\\mu$s)\", \"S2 charge (pes)\")\n",
    "save(\"S2chargevsZ\")"
   ]
  },
  {
   "cell_type": "code",
   "execution_count": null,
   "metadata": {
    "collapsed": false,
    "scrolled": false
   },
   "outputs": [],
   "source": [
    "xrange = -215, 215\n",
    "yrange = -50, 50\n",
    "rrange =    0, 215\n",
    "prange = - pi,  pi\n",
    "Qrange =    0, 500\n",
    "\n",
    "_, _, cb = profile_and_scatter(shortZ.X, shortZ.Y, shortZ.S2q, (50, 50), xrange=xrange, yrange=yrange)\n",
    "cb.set_label(\"Q (pes)\")\n",
    "labels(\"x (mm)\", \"y (mm)\")\n",
    "save(\"QvsXY\")\n",
    "\n",
    "_, _, cb = profile_and_scatter(shortZ.R, shortZ.Phi, shortZ.S2q, (50, 50), xrange=rrange, yrange=prange)\n",
    "cb.set_label(\"Q (pes)\")\n",
    "labels(\"r (mm)\", \"$\\phi$ (rad)\")\n",
    "save(\"QvsRPhi\")\n",
    "\n",
    "hist2d(shortZ.R, shortZ.S2q, (50, 50), range=(rrange, Qrange))\n",
    "x, y, _ = fitf.profileX(shortZ.R, shortZ.S2q, 50, xrange=rrange, yrange=Qrange)\n",
    "plt.plot(x, y, profOpt)\n",
    "labels(\"r (mm)\", \"S2 charge (pes)\")\n",
    "save(\"QvsR\")\n",
    "\n",
    "hist2d(shortZ.Phi, shortZ.S2q, (50, 50), range=(prange, Qrange))\n",
    "x, y, _ = fitf.profileX(shortZ.Phi, shortZ.S2q, 50, xrange=prange, yrange=Qrange)\n",
    "plt.plot(x, y, profOpt)\n",
    "labels(\"phi (rad)\", \"S2 charge (pes)\")\n",
    "save(\"QvsPhi\")\n"
   ]
  },
  {
   "cell_type": "markdown",
   "metadata": {},
   "source": [
    "# Energy vs position"
   ]
  },
  {
   "cell_type": "code",
   "execution_count": null,
   "metadata": {
    "collapsed": false,
    "scrolled": false
   },
   "outputs": [],
   "source": [
    "xrange = -215, 215\n",
    "yrange = -215, 215\n",
    "rrange =    0, 215\n",
    "prange = - pi,  pi\n",
    "Erange =  4e3, 9e3\n",
    "\n",
    "E = shortZ.S2e * zcorr(shortZ.Z)\n",
    "\n",
    "pf, _, cb = profile_and_scatter(shortZ.X, shortZ.Y, E, (50, 50), xrange=xrange, yrange=yrange)\n",
    "cb.set_label(\"E (pes)\")\n",
    "labels(\"x (mm)\", \"y (mm)\")\n",
    "save(\"EvsXY\")\n",
    "\n",
    "_, _, cb = profile_and_scatter(shortZ.R, shortZ.Phi, E, (50, 50), xrange=rrange, yrange=prange)\n",
    "cb.set_label(\"E (pes)\")\n",
    "labels(\"r (mm)\", \"$\\phi$ (rad)\")\n",
    "save(\"EvsRPhi\")\n",
    "\n",
    "hist2d(shortZ.R, E, (50, 50), range=(rrange, Erange), weights=E)\n",
    "x, y, _ = fitf.profileX(shortZ.R, E, 50, xrange=rrange, yrange=Erange)\n",
    "plt.plot(x, y, profOpt)\n",
    "labels(\"r (mm)\", \"S2 energy (pes)\")\n",
    "save(\"EvsR\")\n",
    "\n",
    "hist2d(shortZ.Phi, E, (50, 50), range=(prange, Erange), weights=E)\n",
    "x, y, _ = fitf.profileX(shortZ.Phi, E, 50, xrange=prange, yrange=Erange)\n",
    "plt.plot(x, y, profOpt)\n",
    "labels(\"phi (rad)\", \"S2 energy (pes)\")\n",
    "save(\"EvsPhi\")\n",
    "\n",
    "def get_xycorr(xs, ys, es, eref=None):\n",
    "    if eref is None:\n",
    "        eref = es[es.shape[0]//2, es.shape[1]//2]\n",
    "    xs   = xs.reshape(xs.size, 1)\n",
    "    ys   = ys.reshape(ys.size, 1)\n",
    "    print(eref)\n",
    "    def xycorr(x, y):\n",
    "        x_closest = np.apply_along_axis(np.argmin, 0, abs(x-xs))\n",
    "        y_closest = np.apply_along_axis(np.argmin, 0, abs(y-ys))\n",
    "        e = es[x_closest, y_closest]\n",
    "        e[e<1e3] = eref\n",
    "        return eref/ e\n",
    "    return xycorr\n",
    "xycorr = get_xycorr(*pf[:-1])\n"
   ]
  },
  {
   "cell_type": "markdown",
   "metadata": {},
   "source": [
    "# Correction by attachment and position"
   ]
  },
  {
   "cell_type": "code",
   "execution_count": null,
   "metadata": {
    "collapsed": false,
    "scrolled": false
   },
   "outputs": [],
   "source": [
    "xrange = -215, 215\n",
    "yrange = -215, 215\n",
    "rrange =    0, 215\n",
    "prange = - pi,  pi\n",
    "Erange =  4e3, 11e3\n",
    "\n",
    "E  = shortZ.S2e * zcorr(shortZ.Z) * xycorr(shortZ.X.values, shortZ.Y.values)\n",
    "\n",
    "y, x, _ = hist(E, 100, Erange)\n",
    "\n",
    "x = x[:-1] + np.diff(x) * 0.5\n",
    "f = fitf.fit(fitf.gauss, x, y, (1e5, 1e4, 1e2))\n",
    "plt.plot(x, f.fn(x), fitOpt)\n",
    "plt.text(Erange[0], max(y)/2, gausstext(f.values))\n",
    "\n",
    "labels(\"E (pes)\", \"Entries\")\n",
    "save(\"EcorrZXY\")\n",
    "\n",
    "_, _, cb = profile_and_scatter(shortZ.X, shortZ.Y, E, (50, 50), xrange=xrange, yrange=yrange)\n",
    "cb.set_label(\"E (pes)\")\n",
    "labels(\"x (mm)\", \"y (mm)\")\n",
    "save(\"EvsXY\")\n",
    "\n",
    "_, _, cb = profile_and_scatter(shortZ.R, shortZ.Phi, E, (50, 50), xrange=rrange, yrange=prange)\n",
    "cb.set_label(\"E (pes)\")\n",
    "labels(\"r (mm)\", \"$\\phi$ (rad)\")\n",
    "save(\"EvsRPhi\")\n",
    "\n",
    "hist2d(shortZ.R, E, (50, 50), range=(rrange, Erange), weights=E)\n",
    "x, y, _ = fitf.profileX(shortZ.R, E, 50, xrange=rrange, yrange=Erange)\n",
    "plt.plot(x, y, profOpt)\n",
    "labels(\"r (mm)\", \"S2 energy (pes)\")\n",
    "save(\"EvsR\")\n",
    "\n",
    "hist2d(shortZ.Phi, E, (50, 50), range=(prange, Erange), weights=E)\n",
    "x, y, _ = fitf.profileX(shortZ.Phi, E, 50, xrange=prange, yrange=Erange)\n",
    "plt.plot(x, y, profOpt)\n",
    "labels(\"phi (rad)\", \"S2 energy (pes)\")\n",
    "save(\"EvsPhi\")\n"
   ]
  },
  {
   "cell_type": "code",
   "execution_count": null,
   "metadata": {
    "collapsed": false
   },
   "outputs": [],
   "source": [
    "E = shortZ.S2e * zcorr(shortZ.Z) * xycorr(shortZ.X.values, shortZ.Y.values)\n",
    "T = (shortZ.time - np.min(shortZ.time))/60\n",
    "\n",
    "Erange = 4e3, 11e3\n",
    "Trange =   0, 1800\n",
    "\n",
    "hist2d(T, E, (50, 50), range=(Trange, Erange))\n",
    "\n",
    "x, y, _ = fitf.profileX(T, E, 50, Trange)\n",
    "plt.plot(x, y, profOpt)\n",
    "\n",
    "labels(\"Time (min)\", \"Energy (pes)\")\n",
    "\n",
    "def get_timecorr(T, E):\n",
    "    eref = np.max(E)\n",
    "    def timecorr(t):\n",
    "        dt = np.abs(t[:, np.newaxis]-T)\n",
    "        return eref / E[np.apply_along_axis(np.argmin, 1, dt)]\n",
    "    return timecorr\n",
    "tcorr = get_timecorr(x, y)"
   ]
  },
  {
   "cell_type": "code",
   "execution_count": null,
   "metadata": {
    "collapsed": false
   },
   "outputs": [],
   "source": [
    "T = (shortZ.time - np.min(shortZ.time))/60\n",
    "E = shortZ.S2e * zcorr(shortZ.Z) * xycorr(shortZ.X.values, shortZ.Y.values) * tcorr(T)\n",
    "\n",
    "Trange =   0, 1800\n",
    "Erange = 4e3, 11e3\n",
    "\n",
    "y, x, _ = hist(E, 100, Erange)\n",
    "\n",
    "x = x[:-1] + np.diff(x) * 0.5\n",
    "f = fitf.fit(fitf.gauss, x, y, (1e5, 1e4, 1e2))\n",
    "plt.plot(x, f.fn(x), fitOpt)\n",
    "plt.text(Erange[0], max(y)/2, gausstext(f.values))\n",
    "\n",
    "labels(\"E (pes)\", \"Entries\")\n",
    "save(\"EcorrZXYT\")\n",
    "\n",
    "hist2d(T, E, (50, 50), range=(Trange, Erange))\n",
    "x, y, _ = fitf.profileX(T, E, 50, Trange)\n",
    "plt.plot(x, y, profOpt)\n",
    "\n",
    "labels(\"Time (min)\", \"Energy (pes)\")\n"
   ]
  },
  {
   "cell_type": "code",
   "execution_count": null,
   "metadata": {
    "collapsed": true
   },
   "outputs": [],
   "source": []
  },
  {
   "cell_type": "code",
   "execution_count": null,
   "metadata": {
    "collapsed": true
   },
   "outputs": [],
   "source": []
  }
 ],
 "metadata": {
  "kernelspec": {
   "display_name": "Python 3",
   "language": "python",
   "name": "python3"
  },
  "language_info": {
   "codemirror_mode": {
    "name": "ipython",
    "version": 3
   },
   "file_extension": ".py",
   "mimetype": "text/x-python",
   "name": "python",
   "nbconvert_exporter": "python",
   "pygments_lexer": "ipython3",
   "version": "3.6.0"
  }
 },
 "nbformat": 4,
 "nbformat_minor": 2
}
