{
 "cells": [
  {
   "cell_type": "markdown",
   "metadata": {},
   "source": [
    "# Na analysis (run 3614)"
   ]
  },
  {
   "cell_type": "code",
   "execution_count": 1,
   "metadata": {
    "collapsed": false
   },
   "outputs": [
    {
     "name": "stdout",
     "output_type": "stream",
     "text": [
      "Running on  Tue Apr 18 15:17:02 2017\n"
     ]
    }
   ],
   "source": [
    "from __future__ import print_function, division\n",
    "%load_ext autoreload\n",
    "%autoreload 2\n",
    "import os\n",
    "import sys\n",
    "import operator\n",
    "import functools\n",
    "import textwrap\n",
    "import copy\n",
    "import time\n",
    "import glob\n",
    "import math\n",
    "print(\"Running on \", time.asctime())\n",
    "\n",
    "import textwrap\n",
    "import numpy as np\n",
    "import pandas as pd\n",
    "import tables as tb\n",
    "import pandas as pd\n",
    "import matplotlib.pyplot as plt\n",
    "from matplotlib.colors import LogNorm\n",
    "%matplotlib inline\n",
    "\n",
    "\n",
    "import invisible_cities.database.load_db as DB\n",
    "import invisible_cities.core.system_of_units_c as SystemOfUnits\n",
    "import invisible_cities.reco.pmaps_functions as pmapf\n",
    "import invisible_cities.core.fit_functions as fitf\n",
    "\n",
    "from invisible_cities.core.core_functions import timefunc, flat\n",
    "from invisible_cities.reco.pmaps_functions import width, integrate_charge\n",
    "\n",
    "sys.path.append('/Users/alej/Desktop/Valencia/nextic/ICARO')\n",
    "\n",
    "\n",
    "from icaro.core.hst_functions import labels, hist, doublehist, hist2d, pdf, scatter, profile_and_scatter,\\\n",
    "                              doublescatter, covariance, reso, gausstext, plot_profile_histogram \n",
    "\n",
    "from scipy.optimize import curve_fit\n",
    "from icaro.core.kdst_functions import load_dst, event_rate, profile_and_fit, print_fit, chi2\n",
    "DataPMT = DB.DataPMT()\n",
    "DataSiPM = DB.DataSiPM()\n",
    "units = SystemOfUnits.SystemOfUnits()\n",
    "pi = np.pi\n"
   ]
  },
  {
   "cell_type": "markdown",
   "metadata": {},
   "source": [
    "#### General plotting options"
   ]
  },
  {
   "cell_type": "code",
   "execution_count": 2,
   "metadata": {
    "collapsed": true
   },
   "outputs": [],
   "source": [
    "def plot_options(figsize=(6,6), fontsize=15):\n",
    "    plt.rcParams[\"figure.figsize\"]          = figsize\n",
    "    plt.rcParams[\"font.size\"]               = fontsize\n",
    "    plt.rcParams[\"figure.max_open_warning\"] = 100"
   ]
  },
  {
   "cell_type": "code",
   "execution_count": 3,
   "metadata": {
    "collapsed": false
   },
   "outputs": [],
   "source": [
    "plt.rcParams[\"figure.figsize\"]          = 6, 6\n",
    "plt.rcParams[\"font.size\"]               = 15\n",
    "plt.rcParams[\"figure.max_open_warning\"] = 100\n",
    "\n",
    "profOpt = \"--k\"\n",
    "fitOpt  = \"r\"\n",
    "\n",
    "outputfolder = \"plots/\"\n",
    "if not os.path.exists(outputfolder):\n",
    "    os.mkdir(outputfolder)"
   ]
  },
  {
   "cell_type": "markdown",
   "metadata": {},
   "source": [
    "#### Useful functions"
   ]
  },
  {
   "cell_type": "markdown",
   "metadata": {},
   "source": [
    "### Run"
   ]
  },
  {
   "cell_type": "code",
   "execution_count": 4,
   "metadata": {
    "collapsed": true
   },
   "outputs": [],
   "source": [
    "run_number = 3614"
   ]
  },
  {
   "cell_type": "markdown",
   "metadata": {},
   "source": [
    "### Input data"
   ]
  },
  {
   "cell_type": "code",
   "execution_count": 9,
   "metadata": {
    "collapsed": false
   },
   "outputs": [
    {
     "name": "stdout",
     "output_type": "stream",
     "text": [
      "ifile: /Users/alej/Desktop/IC_DATA/LSC/kdst/3614/dst_3614.root.h5\n"
     ]
    }
   ],
   "source": [
    "# Comment out this line if your data is in $IC_DATA\n",
    "#ifile = os.path.expandvars(\"/Users/Gonzalo/github/NEXTdata/Na22/Na22DST.h5\")\n",
    "ifile = os.path.join(os.environ['IC_DATA'],\n",
    "                        'LSC/kdst/{}/dst_3614.root.h5'.format(run_number))\n",
    "print(\"ifile:\", ifile)"
   ]
  },
  {
   "cell_type": "markdown",
   "metadata": {},
   "source": [
    "# Read data"
   ]
  },
  {
   "cell_type": "code",
   "execution_count": 10,
   "metadata": {
    "collapsed": false,
    "scrolled": false
   },
   "outputs": [
    {
     "name": "stdout",
     "output_type": "stream",
     "text": [
      "453713\n"
     ]
    },
    {
     "data": {
      "text/html": [
       "<div>\n",
       "<table border=\"1\" class=\"dataframe\">\n",
       "  <thead>\n",
       "    <tr style=\"text-align: right;\">\n",
       "      <th></th>\n",
       "      <th>event</th>\n",
       "      <th>time</th>\n",
       "      <th>peak</th>\n",
       "      <th>nS2</th>\n",
       "      <th>S1w</th>\n",
       "      <th>S1h</th>\n",
       "      <th>S1e</th>\n",
       "      <th>S1t</th>\n",
       "      <th>S2w</th>\n",
       "      <th>S2h</th>\n",
       "      <th>...</th>\n",
       "      <th>S2t</th>\n",
       "      <th>Nsipm</th>\n",
       "      <th>DT</th>\n",
       "      <th>Z</th>\n",
       "      <th>X</th>\n",
       "      <th>Y</th>\n",
       "      <th>R</th>\n",
       "      <th>Phi</th>\n",
       "      <th>Xrms</th>\n",
       "      <th>Yrms</th>\n",
       "    </tr>\n",
       "  </thead>\n",
       "  <tbody>\n",
       "    <tr>\n",
       "      <th>0</th>\n",
       "      <td>1</td>\n",
       "      <td>1.491674e+09</td>\n",
       "      <td>0</td>\n",
       "      <td>1</td>\n",
       "      <td>275.0</td>\n",
       "      <td>49.620018</td>\n",
       "      <td>287.162550</td>\n",
       "      <td>537150.0</td>\n",
       "      <td>40.100437</td>\n",
       "      <td>13367.398438</td>\n",
       "      <td>...</td>\n",
       "      <td>657112.5</td>\n",
       "      <td>54</td>\n",
       "      <td>119.9625</td>\n",
       "      <td>119.9625</td>\n",
       "      <td>97.811136</td>\n",
       "      <td>40.847802</td>\n",
       "      <td>105.997930</td>\n",
       "      <td>0.395602</td>\n",
       "      <td>25.243436</td>\n",
       "      <td>11.175782</td>\n",
       "    </tr>\n",
       "    <tr>\n",
       "      <th>1</th>\n",
       "      <td>2</td>\n",
       "      <td>1.491674e+09</td>\n",
       "      <td>0</td>\n",
       "      <td>1</td>\n",
       "      <td>200.0</td>\n",
       "      <td>24.205078</td>\n",
       "      <td>129.749825</td>\n",
       "      <td>557000.0</td>\n",
       "      <td>38.343750</td>\n",
       "      <td>10287.787109</td>\n",
       "      <td>...</td>\n",
       "      <td>653687.5</td>\n",
       "      <td>25</td>\n",
       "      <td>96.6875</td>\n",
       "      <td>96.6875</td>\n",
       "      <td>136.927309</td>\n",
       "      <td>5.200002</td>\n",
       "      <td>137.026012</td>\n",
       "      <td>0.037958</td>\n",
       "      <td>9.209800</td>\n",
       "      <td>10.444016</td>\n",
       "    </tr>\n",
       "    <tr>\n",
       "      <th>2</th>\n",
       "      <td>4</td>\n",
       "      <td>1.491674e+09</td>\n",
       "      <td>0</td>\n",
       "      <td>1</td>\n",
       "      <td>225.0</td>\n",
       "      <td>30.098822</td>\n",
       "      <td>160.997304</td>\n",
       "      <td>470600.0</td>\n",
       "      <td>23.514125</td>\n",
       "      <td>8284.446289</td>\n",
       "      <td>...</td>\n",
       "      <td>664512.5</td>\n",
       "      <td>19</td>\n",
       "      <td>193.9125</td>\n",
       "      <td>193.9125</td>\n",
       "      <td>-55.612291</td>\n",
       "      <td>-10.052078</td>\n",
       "      <td>56.513460</td>\n",
       "      <td>-2.962771</td>\n",
       "      <td>10.149977</td>\n",
       "      <td>8.824298</td>\n",
       "    </tr>\n",
       "    <tr>\n",
       "      <th>3</th>\n",
       "      <td>5</td>\n",
       "      <td>1.491674e+09</td>\n",
       "      <td>0</td>\n",
       "      <td>2</td>\n",
       "      <td>225.0</td>\n",
       "      <td>54.494896</td>\n",
       "      <td>286.139376</td>\n",
       "      <td>615225.0</td>\n",
       "      <td>45.152500</td>\n",
       "      <td>10520.092773</td>\n",
       "      <td>...</td>\n",
       "      <td>672387.5</td>\n",
       "      <td>54</td>\n",
       "      <td>57.1625</td>\n",
       "      <td>57.1625</td>\n",
       "      <td>-21.676225</td>\n",
       "      <td>165.445635</td>\n",
       "      <td>166.859572</td>\n",
       "      <td>1.701072</td>\n",
       "      <td>15.885687</td>\n",
       "      <td>18.841620</td>\n",
       "    </tr>\n",
       "    <tr>\n",
       "      <th>4</th>\n",
       "      <td>5</td>\n",
       "      <td>1.491674e+09</td>\n",
       "      <td>1</td>\n",
       "      <td>2</td>\n",
       "      <td>225.0</td>\n",
       "      <td>54.494896</td>\n",
       "      <td>286.139376</td>\n",
       "      <td>615225.0</td>\n",
       "      <td>29.291875</td>\n",
       "      <td>6783.470215</td>\n",
       "      <td>...</td>\n",
       "      <td>918112.5</td>\n",
       "      <td>26</td>\n",
       "      <td>302.8875</td>\n",
       "      <td>302.8875</td>\n",
       "      <td>-168.863477</td>\n",
       "      <td>45.446878</td>\n",
       "      <td>174.872218</td>\n",
       "      <td>2.878688</td>\n",
       "      <td>9.241491</td>\n",
       "      <td>15.903105</td>\n",
       "    </tr>\n",
       "  </tbody>\n",
       "</table>\n",
       "<p>5 rows × 22 columns</p>\n",
       "</div>"
      ],
      "text/plain": [
       "   event          time  peak  nS2    S1w        S1h         S1e       S1t  \\\n",
       "0      1  1.491674e+09     0    1  275.0  49.620018  287.162550  537150.0   \n",
       "1      2  1.491674e+09     0    1  200.0  24.205078  129.749825  557000.0   \n",
       "2      4  1.491674e+09     0    1  225.0  30.098822  160.997304  470600.0   \n",
       "3      5  1.491674e+09     0    2  225.0  54.494896  286.139376  615225.0   \n",
       "4      5  1.491674e+09     1    2  225.0  54.494896  286.139376  615225.0   \n",
       "\n",
       "         S2w           S2h    ...           S2t  Nsipm        DT         Z  \\\n",
       "0  40.100437  13367.398438    ...      657112.5     54  119.9625  119.9625   \n",
       "1  38.343750  10287.787109    ...      653687.5     25   96.6875   96.6875   \n",
       "2  23.514125   8284.446289    ...      664512.5     19  193.9125  193.9125   \n",
       "3  45.152500  10520.092773    ...      672387.5     54   57.1625   57.1625   \n",
       "4  29.291875   6783.470215    ...      918112.5     26  302.8875  302.8875   \n",
       "\n",
       "            X           Y           R       Phi       Xrms       Yrms  \n",
       "0   97.811136   40.847802  105.997930  0.395602  25.243436  11.175782  \n",
       "1  136.927309    5.200002  137.026012  0.037958   9.209800  10.444016  \n",
       "2  -55.612291  -10.052078   56.513460 -2.962771  10.149977   8.824298  \n",
       "3  -21.676225  165.445635  166.859572  1.701072  15.885687  18.841620  \n",
       "4 -168.863477   45.446878  174.872218  2.878688   9.241491  15.903105  \n",
       "\n",
       "[5 rows x 22 columns]"
      ]
     },
     "execution_count": 10,
     "metadata": {},
     "output_type": "execute_result"
    }
   ],
   "source": [
    "full = load_dst(ifile)\n",
    "print(len(full))\n",
    "full.head()"
   ]
  },
  {
   "cell_type": "markdown",
   "metadata": {},
   "source": [
    "### Trigger rate and z distribution "
   ]
  },
  {
   "cell_type": "code",
   "execution_count": 11,
   "metadata": {
    "collapsed": false
   },
   "outputs": [],
   "source": [
    "r = event_rate(full)"
   ]
  },
  {
   "cell_type": "code",
   "execution_count": 12,
   "metadata": {
    "collapsed": false
   },
   "outputs": [
    {
     "name": "stdout",
     "output_type": "stream",
     "text": [
      "Trigger rate: 2.01149686705759 evts/s\n"
     ]
    }
   ],
   "source": [
    "print(\"Trigger rate: {} evts/s\".format(r))"
   ]
  },
  {
   "cell_type": "code",
   "execution_count": 13,
   "metadata": {
    "collapsed": false
   },
   "outputs": [
    {
     "data": {
      "image/png": "[encoded data removed]",
      "text/plain": [
       "<matplotlib.figure.Figure at 0x11622d470>"
      ]
     },
     "metadata": {},
     "output_type": "display_data"
    }
   ],
   "source": [
    "hist(full.time/1.419e+9, 25)\n",
    "labels(\"time stamp)\", \"Entries\")"
   ]
  },
  {
   "cell_type": "code",
   "execution_count": 14,
   "metadata": {
    "collapsed": false
   },
   "outputs": [],
   "source": [
    "t = full.time.values - full.time.values[0]"
   ]
  },
  {
   "cell_type": "code",
   "execution_count": 15,
   "metadata": {
    "collapsed": false
   },
   "outputs": [
    {
     "data": {
      "image/png": "[encoded data removed]",
      "text/plain": [
       "<matplotlib.figure.Figure at 0x122a27a58>"
      ]
     },
     "metadata": {},
     "output_type": "display_data"
    }
   ],
   "source": [
    "hist(t, 25, (0,1e+5))\n",
    "labels(\"time stamp)\", \"Entries\")"
   ]
  },
  {
   "cell_type": "code",
   "execution_count": 16,
   "metadata": {
    "collapsed": false
   },
   "outputs": [
    {
     "data": {
      "image/png": "[encoded data removed]",
      "text/plain": [
       "<matplotlib.figure.Figure at 0x122da7da0>"
      ]
     },
     "metadata": {},
     "output_type": "display_data"
    }
   ],
   "source": [
    "hist(full.S2e, 50, (0e3,3e5))\n",
    "labels(\"S2 energy (pes)\", \"Entries\")"
   ]
  },
  {
   "cell_type": "code",
   "execution_count": 17,
   "metadata": {
    "collapsed": false
   },
   "outputs": [
    {
     "data": {
      "image/png": "[encoded data removed]",
      "text/plain": [
       "<matplotlib.figure.Figure at 0x122cd8b38>"
      ]
     },
     "metadata": {},
     "output_type": "display_data"
    }
   ],
   "source": [
    "hist(full.Z, 25, (0,500))\n",
    "labels(\"Drift time (mm)\", \"Entries\")"
   ]
  },
  {
   "cell_type": "markdown",
   "metadata": {},
   "source": [
    "#### Select PE enriched interactions by requiring 2 S2s \n",
    "1. PE interactions produce 80% of the time an X-ray\n",
    "2. Electrons produced by Compton interactions will also produce an X-ray.\n",
    "3. X rays from PE will tend to be at the interaction vertex, while X rays from Compton are produced along the electron trajectory. "
   ]
  },
  {
   "cell_type": "code",
   "execution_count": 18,
   "metadata": {
    "collapsed": false
   },
   "outputs": [
    {
     "name": "stdout",
     "output_type": "stream",
     "text": [
      "Length of data set = 95914\n",
      "RatioΩ: 0.2113979542133463\n"
     ]
    },
    {
     "data": {
      "text/html": [
       "<div>\n",
       "<table border=\"1\" class=\"dataframe\">\n",
       "  <thead>\n",
       "    <tr style=\"text-align: right;\">\n",
       "      <th></th>\n",
       "      <th>event</th>\n",
       "      <th>time</th>\n",
       "      <th>peak</th>\n",
       "      <th>nS2</th>\n",
       "      <th>S1w</th>\n",
       "      <th>S1h</th>\n",
       "      <th>S1e</th>\n",
       "      <th>S1t</th>\n",
       "      <th>S2w</th>\n",
       "      <th>S2h</th>\n",
       "      <th>...</th>\n",
       "      <th>S2t</th>\n",
       "      <th>Nsipm</th>\n",
       "      <th>DT</th>\n",
       "      <th>Z</th>\n",
       "      <th>X</th>\n",
       "      <th>Y</th>\n",
       "      <th>R</th>\n",
       "      <th>Phi</th>\n",
       "      <th>Xrms</th>\n",
       "      <th>Yrms</th>\n",
       "    </tr>\n",
       "  </thead>\n",
       "  <tbody>\n",
       "    <tr>\n",
       "      <th>3</th>\n",
       "      <td>5</td>\n",
       "      <td>1.491674e+09</td>\n",
       "      <td>0</td>\n",
       "      <td>2</td>\n",
       "      <td>225.0</td>\n",
       "      <td>54.494896</td>\n",
       "      <td>286.139376</td>\n",
       "      <td>615225.0</td>\n",
       "      <td>45.152500</td>\n",
       "      <td>10520.092773</td>\n",
       "      <td>...</td>\n",
       "      <td>672387.5</td>\n",
       "      <td>54</td>\n",
       "      <td>57.1625</td>\n",
       "      <td>57.1625</td>\n",
       "      <td>-21.676225</td>\n",
       "      <td>165.445635</td>\n",
       "      <td>166.859572</td>\n",
       "      <td>1.701072</td>\n",
       "      <td>15.885687</td>\n",
       "      <td>18.841620</td>\n",
       "    </tr>\n",
       "    <tr>\n",
       "      <th>4</th>\n",
       "      <td>5</td>\n",
       "      <td>1.491674e+09</td>\n",
       "      <td>1</td>\n",
       "      <td>2</td>\n",
       "      <td>225.0</td>\n",
       "      <td>54.494896</td>\n",
       "      <td>286.139376</td>\n",
       "      <td>615225.0</td>\n",
       "      <td>29.291875</td>\n",
       "      <td>6783.470215</td>\n",
       "      <td>...</td>\n",
       "      <td>918112.5</td>\n",
       "      <td>26</td>\n",
       "      <td>302.8875</td>\n",
       "      <td>302.8875</td>\n",
       "      <td>-168.863477</td>\n",
       "      <td>45.446878</td>\n",
       "      <td>174.872218</td>\n",
       "      <td>2.878688</td>\n",
       "      <td>9.241491</td>\n",
       "      <td>15.903105</td>\n",
       "    </tr>\n",
       "    <tr>\n",
       "      <th>17</th>\n",
       "      <td>20</td>\n",
       "      <td>1.491674e+09</td>\n",
       "      <td>0</td>\n",
       "      <td>2</td>\n",
       "      <td>225.0</td>\n",
       "      <td>37.718376</td>\n",
       "      <td>217.355925</td>\n",
       "      <td>530875.0</td>\n",
       "      <td>36.222500</td>\n",
       "      <td>11878.065430</td>\n",
       "      <td>...</td>\n",
       "      <td>655912.5</td>\n",
       "      <td>59</td>\n",
       "      <td>125.0375</td>\n",
       "      <td>125.0375</td>\n",
       "      <td>48.661950</td>\n",
       "      <td>-86.593677</td>\n",
       "      <td>99.330007</td>\n",
       "      <td>-1.058819</td>\n",
       "      <td>27.819668</td>\n",
       "      <td>13.258652</td>\n",
       "    </tr>\n",
       "    <tr>\n",
       "      <th>18</th>\n",
       "      <td>20</td>\n",
       "      <td>1.491674e+09</td>\n",
       "      <td>1</td>\n",
       "      <td>2</td>\n",
       "      <td>225.0</td>\n",
       "      <td>37.718376</td>\n",
       "      <td>217.355925</td>\n",
       "      <td>530875.0</td>\n",
       "      <td>37.557875</td>\n",
       "      <td>4042.697510</td>\n",
       "      <td>...</td>\n",
       "      <td>936162.5</td>\n",
       "      <td>21</td>\n",
       "      <td>405.2875</td>\n",
       "      <td>405.2875</td>\n",
       "      <td>-175.367060</td>\n",
       "      <td>-88.570991</td>\n",
       "      <td>196.464821</td>\n",
       "      <td>-2.673905</td>\n",
       "      <td>9.955684</td>\n",
       "      <td>10.491740</td>\n",
       "    </tr>\n",
       "    <tr>\n",
       "      <th>32</th>\n",
       "      <td>38</td>\n",
       "      <td>1.491674e+09</td>\n",
       "      <td>0</td>\n",
       "      <td>2</td>\n",
       "      <td>150.0</td>\n",
       "      <td>14.287548</td>\n",
       "      <td>67.987579</td>\n",
       "      <td>606650.0</td>\n",
       "      <td>11.080000</td>\n",
       "      <td>12572.112305</td>\n",
       "      <td>...</td>\n",
       "      <td>657387.5</td>\n",
       "      <td>18</td>\n",
       "      <td>50.7375</td>\n",
       "      <td>50.7375</td>\n",
       "      <td>22.448518</td>\n",
       "      <td>-94.719632</td>\n",
       "      <td>97.343437</td>\n",
       "      <td>-1.338090</td>\n",
       "      <td>8.182807</td>\n",
       "      <td>8.481033</td>\n",
       "    </tr>\n",
       "  </tbody>\n",
       "</table>\n",
       "<p>5 rows × 22 columns</p>\n",
       "</div>"
      ],
      "text/plain": [
       "    event          time  peak  nS2    S1w        S1h         S1e       S1t  \\\n",
       "3       5  1.491674e+09     0    2  225.0  54.494896  286.139376  615225.0   \n",
       "4       5  1.491674e+09     1    2  225.0  54.494896  286.139376  615225.0   \n",
       "17     20  1.491674e+09     0    2  225.0  37.718376  217.355925  530875.0   \n",
       "18     20  1.491674e+09     1    2  225.0  37.718376  217.355925  530875.0   \n",
       "32     38  1.491674e+09     0    2  150.0  14.287548   67.987579  606650.0   \n",
       "\n",
       "          S2w           S2h    ...           S2t  Nsipm        DT         Z  \\\n",
       "3   45.152500  10520.092773    ...      672387.5     54   57.1625   57.1625   \n",
       "4   29.291875   6783.470215    ...      918112.5     26  302.8875  302.8875   \n",
       "17  36.222500  11878.065430    ...      655912.5     59  125.0375  125.0375   \n",
       "18  37.557875   4042.697510    ...      936162.5     21  405.2875  405.2875   \n",
       "32  11.080000  12572.112305    ...      657387.5     18   50.7375   50.7375   \n",
       "\n",
       "             X           Y           R       Phi       Xrms       Yrms  \n",
       "3   -21.676225  165.445635  166.859572  1.701072  15.885687  18.841620  \n",
       "4  -168.863477   45.446878  174.872218  2.878688   9.241491  15.903105  \n",
       "17   48.661950  -86.593677   99.330007 -1.058819  27.819668  13.258652  \n",
       "18 -175.367060  -88.570991  196.464821 -2.673905   9.955684  10.491740  \n",
       "32   22.448518  -94.719632   97.343437 -1.338090   8.182807   8.481033  \n",
       "\n",
       "[5 rows x 22 columns]"
      ]
     },
     "execution_count": 18,
     "metadata": {},
     "output_type": "execute_result"
    }
   ],
   "source": [
    "s2eq2 = full[full.nS2 ==2]\n",
    "print(\"Length of data set = {}\".format(len(s2eq2)))\n",
    "print(\"RatioΩ:\", len(s2eq2)/len(full))\n",
    "s2eq2.head()"
   ]
  },
  {
   "cell_type": "code",
   "execution_count": 19,
   "metadata": {
    "collapsed": true
   },
   "outputs": [],
   "source": [
    "PE = s2eq2[s2eq2.peak ==0]\n",
    "XR = s2eq2[s2eq2.peak ==1]"
   ]
  },
  {
   "cell_type": "markdown",
   "metadata": {},
   "source": [
    "#### Z distribution"
   ]
  },
  {
   "cell_type": "code",
   "execution_count": 20,
   "metadata": {
    "collapsed": true
   },
   "outputs": [],
   "source": [
    "def histos(*args, **kwargs):\n",
    "    \"\"\"\n",
    "    Create a figure and then the histogram\n",
    "    \"\"\"\n",
    "    plt.figure()\n",
    "    return plt.hist(*args, **kwargs)\n"
   ]
  },
  {
   "cell_type": "code",
   "execution_count": 21,
   "metadata": {
    "collapsed": false
   },
   "outputs": [
    {
     "data": {
      "text/plain": [
       "<matplotlib.text.Text at 0x12557e1d0>"
      ]
     },
     "execution_count": 21,
     "metadata": {},
     "output_type": "execute_result"
    },
    {
     "data": {
      "image/png": "[encoded data removed]",
      "text/plain": [
       "<matplotlib.figure.Figure at 0x12324fd30>"
      ]
     },
     "metadata": {},
     "output_type": "display_data"
    }
   ],
   "source": [
    "figsize=(12,8)\n",
    "plt.figure(figsize=figsize)\n",
    "ax = plt.subplot(1, 3, 1)\n",
    "plt.hist(full.Z, 25, (0,300))\n",
    "labels(\"Drift time (mm): Full\", \"Entries\")\n",
    "plt.title('full set')\n",
    "ax = plt.subplot(1, 3, 2)\n",
    "plt.hist(PE.Z, 25, (0,300))\n",
    "labels(\"Drift time (mm):PE\", \"Entries\")\n",
    "plt.title('PE enriched')\n",
    "ax = plt.subplot(1, 3, 3)\n",
    "plt.hist(XR.Z, 25, (0,300))\n",
    "labels(\"Drift time (mm):XR\", \"Entries\")\n",
    "plt.title('XR enriched')"
   ]
  },
  {
   "cell_type": "code",
   "execution_count": 22,
   "metadata": {
    "collapsed": false
   },
   "outputs": [
    {
     "data": {
      "text/plain": [
       "<matplotlib.text.Text at 0x1230ed710>"
      ]
     },
     "execution_count": 22,
     "metadata": {},
     "output_type": "execute_result"
    },
    {
     "data": {
      "image/png": "[encoded data removed]",
      "text/plain": [
       "<matplotlib.figure.Figure at 0x125533e10>"
      ]
     },
     "metadata": {},
     "output_type": "display_data"
    }
   ],
   "source": [
    "figsize=(12,8)\n",
    "plt.figure(figsize=figsize)\n",
    "ax = plt.subplot(1, 3, 1)\n",
    "plt.hist(full.S2e, 50, (0,300e+3))\n",
    "labels(\"Energy (pes)\", \"Entries\")\n",
    "plt.title('full set')\n",
    "ax = plt.subplot(1, 3, 2)\n",
    "plt.hist(PE.S2e, 50, (0,300e+3))\n",
    "labels(\"Energy (pes)\", \"Entries\")\n",
    "plt.title('PE enriched')\n",
    "ax = plt.subplot(1, 3, 3)\n",
    "plt.hist(XR.S2e, 50, (0,30e+3))\n",
    "labels(\"Energy (pes)\", \"Entries\")\n",
    "plt.title('XR enriched')"
   ]
  },
  {
   "cell_type": "markdown",
   "metadata": {},
   "source": [
    "### Zoom into PE region"
   ]
  },
  {
   "cell_type": "code",
   "execution_count": 23,
   "metadata": {
    "collapsed": false
   },
   "outputs": [
    {
     "data": {
      "image/png": "[encoded data removed]",
      "text/plain": [
       "<matplotlib.figure.Figure at 0x12534af28>"
      ]
     },
     "metadata": {},
     "output_type": "display_data"
    }
   ],
   "source": [
    "hist(PE.S2e, 25, (40e3,1e5))\n",
    "labels(\"S2 energy (pes)\", \"Entries\")"
   ]
  },
  {
   "cell_type": "markdown",
   "metadata": {},
   "source": [
    "#### Where to espect the peaks"
   ]
  },
  {
   "cell_type": "code",
   "execution_count": 24,
   "metadata": {
    "collapsed": false
   },
   "outputs": [
    {
     "name": "stdout",
     "output_type": "stream",
     "text": [
      "for peak name = Krypton with energy 41.5 keV, expect 7400.0 PES\n",
      "for peak name = Na-22-XR with energy 30 keV, expect 5349.3975903614455 PES\n",
      "for peak name = Na-22-511 with energy 511 keV, expect 91118.07228915663 PES\n",
      "for peak name = Na-22-1275 with energy 1275 keV, expect 227349.39759036142 PES\n",
      "for peak name = Na-22-Compton with energy 150 keV, expect 26746.98795180723 PES\n"
     ]
    }
   ],
   "source": [
    "peak_name = ['Krypton', 'Na-22-XR', 'Na-22-511', 'Na-22-1275', 'Na-22-Compton']\n",
    "peak_energy = {'Krypton':41.5, 'Na-22-XR':30, 'Na-22-511':511,'Na-22-1275':1275, 'Na-22-Compton':150}\n",
    "KrE = 7400\n",
    "for peak in peak_name:\n",
    "    print('for peak name = {} with energy {} keV, expect {} PES'.format(\n",
    "    peak, peak_energy[peak], KrE * (peak_energy[peak]/peak_energy['Krypton']) ))"
   ]
  },
  {
   "cell_type": "markdown",
   "metadata": {},
   "source": [
    "#### S1 to S2:"
   ]
  },
  {
   "cell_type": "code",
   "execution_count": 25,
   "metadata": {
    "collapsed": false
   },
   "outputs": [
    {
     "data": {
      "text/plain": [
       "311.8884540117417"
      ]
     },
     "execution_count": 25,
     "metadata": {},
     "output_type": "execute_result"
    }
   ],
   "source": [
    "125*(1275./511)"
   ]
  },
  {
   "cell_type": "markdown",
   "metadata": {},
   "source": [
    "#### E-Z correlation"
   ]
  },
  {
   "cell_type": "code",
   "execution_count": 26,
   "metadata": {
    "collapsed": false
   },
   "outputs": [
    {
     "data": {
      "text/plain": [
       "<matplotlib.text.Text at 0x125de7ef0>"
      ]
     },
     "execution_count": 26,
     "metadata": {},
     "output_type": "execute_result"
    },
    {
     "data": {
      "image/png": "[encoded data removed]",
      "text/plain": [
       "<matplotlib.figure.Figure at 0x125b42b00>"
      ]
     },
     "metadata": {},
     "output_type": "display_data"
    }
   ],
   "source": [
    "zrange =   0, 250\n",
    "Erange = 4e4, 1e5\n",
    "\n",
    "figsize=(12,6)\n",
    "plt.figure(figsize=figsize)\n",
    "ax = plt.subplot(1, 2, 1)\n",
    "plt.hist2d(PE.Z, PE.S2e, (25, 25), range=(zrange, Erange))\n",
    "labels(\"Drift time ($\\mu$s)\", \"S2 energy\")\n",
    "plt.title('S2 vs Z')\n",
    "\n",
    "zrange =   150, 200\n",
    "Erange = 5e4, 1e5\n",
    "\n",
    "ax = plt.subplot(1, 2, 2)\n",
    "plt.hist2d(PE.Z, PE.S2e, (25, 25), range=(zrange, Erange))\n",
    "labels(\"Drift time ($\\mu$s)\", \"S2 energy\")\n",
    "plt.title('S2 vs Z')\n",
    "\n"
   ]
  },
  {
   "cell_type": "markdown",
   "metadata": {},
   "source": [
    "#### S1"
   ]
  },
  {
   "cell_type": "code",
   "execution_count": 27,
   "metadata": {
    "collapsed": false
   },
   "outputs": [
    {
     "data": {
      "text/plain": [
       "<matplotlib.text.Text at 0x1165ecc88>"
      ]
     },
     "execution_count": 27,
     "metadata": {},
     "output_type": "execute_result"
    },
    {
     "data": {
      "image/png": "[encoded data removed]",
      "text/plain": [
       "<matplotlib.figure.Figure at 0x116370ef0>"
      ]
     },
     "metadata": {},
     "output_type": "display_data"
    }
   ],
   "source": [
    "figsize=(12,8)\n",
    "plt.figure(figsize=figsize)\n",
    "ax = plt.subplot(1, 3, 1)\n",
    "plt.hist(full.S1e, 50, (0,500))\n",
    "labels(\"Energy (pes)\", \"Entries\")\n",
    "plt.title('full set')\n",
    "ax = plt.subplot(1, 3, 2)\n",
    "plt.hist(PE.S1e, 50, (0,500))\n",
    "labels(\"Energy (pes)\", \"Entries\")\n",
    "plt.title('PE enriched')\n",
    "ax = plt.subplot(1, 3, 3)\n",
    "plt.hist(XR.S1e, 50, (0,500))\n",
    "labels(\"Energy (pes)\", \"Entries\")\n",
    "plt.title('XR enriched')"
   ]
  },
  {
   "cell_type": "markdown",
   "metadata": {},
   "source": [
    "#### S1 S2 correlation"
   ]
  },
  {
   "cell_type": "code",
   "execution_count": 28,
   "metadata": {
    "collapsed": false
   },
   "outputs": [
    {
     "data": {
      "image/png": "[encoded data removed]",
      "text/plain": [
       "<matplotlib.figure.Figure at 0x11672e748>"
      ]
     },
     "metadata": {},
     "output_type": "display_data"
    }
   ],
   "source": [
    "S1range =   0, 200\n",
    "Erange = 4e4, 1e5\n",
    "hist2d(PE.S1e, PE.S2e, (20, 20), range=(S1range, Erange))\n",
    "labels(\"S1 (pes)\", \"S2 energy\")\n",
    "\n"
   ]
  },
  {
   "cell_type": "markdown",
   "metadata": {},
   "source": [
    "#### The two regions of high density in the correlation plot above correspond to PE peak and Compton shoulder (which is cutoff by the trigger)"
   ]
  },
  {
   "cell_type": "markdown",
   "metadata": {},
   "source": [
    "####  Gamma of 1275?"
   ]
  },
  {
   "cell_type": "code",
   "execution_count": 29,
   "metadata": {
    "collapsed": false
   },
   "outputs": [
    {
     "data": {
      "image/png": "[encoded data removed]",
      "text/plain": [
       "<matplotlib.figure.Figure at 0x11679d7f0>"
      ]
     },
     "metadata": {},
     "output_type": "display_data"
    }
   ],
   "source": [
    "S1range =   280, 300\n",
    "Erange = 150e3, 200e3\n",
    "hist2d(PE.S1e, PE.S2e, (10, 10), range=(S1range, Erange))\n",
    "labels(\"S1 (pes)\", \"S2 energy\")\n"
   ]
  },
  {
   "cell_type": "markdown",
   "metadata": {},
   "source": [
    "####  X rays"
   ]
  },
  {
   "cell_type": "code",
   "execution_count": 30,
   "metadata": {
    "collapsed": false
   },
   "outputs": [
    {
     "name": "stdout",
     "output_type": "stream",
     "text": [
      "Ratio: 0.10569897710667316\n"
     ]
    }
   ],
   "source": [
    "XR = s2eq2[s2eq2.peak ==1]\n",
    "print(\"Ratio:\", len(XR)/len(full))"
   ]
  },
  {
   "cell_type": "code",
   "execution_count": 31,
   "metadata": {
    "collapsed": false
   },
   "outputs": [
    {
     "data": {
      "text/plain": [
       "<matplotlib.text.Text at 0x1163eecf8>"
      ]
     },
     "execution_count": 31,
     "metadata": {},
     "output_type": "execute_result"
    },
    {
     "data": {
      "image/png": "[encoded data removed]",
      "text/plain": [
       "<matplotlib.figure.Figure at 0x116963f98>"
      ]
     },
     "metadata": {},
     "output_type": "display_data"
    }
   ],
   "source": [
    "S1range =   0, 200\n",
    "Erange = 3e3, 10e3\n",
    "zrange =   0, 250\n",
    "\n",
    "figsize=(12,6)\n",
    "plt.figure(figsize=figsize)\n",
    "ax = plt.subplot(1, 2, 1)\n",
    "plt.hist2d(XR.S1e, XR.S2e, (20, 20), range=(S1range, Erange))\n",
    "labels(\"S1 (pes)\", \"S2 energy\")\n",
    "plt.title('S2 vs S1')\n",
    "\n",
    "ax = plt.subplot(1, 2, 2)\n",
    "plt.hist2d(XR.Z, XR.S2e, (20, 20), range=(zrange, Erange))\n",
    "labels(\"Z (mm)\", \"S2 energy\")\n",
    "plt.title('S2 vs Z')\n"
   ]
  },
  {
   "cell_type": "markdown",
   "metadata": {},
   "source": [
    "#### The plot above shows two components, one due to PE (S1 ~125 pes) and the other due to X rays emitted by Compton electrons with S1 in the range 50-125. This correlation plot also shows in position."
   ]
  },
  {
   "cell_type": "markdown",
   "metadata": {},
   "source": [
    "#### One can select the PE/Compton part cutting on S1"
   ]
  },
  {
   "cell_type": "code",
   "execution_count": 32,
   "metadata": {
    "collapsed": false
   },
   "outputs": [
    {
     "name": "stdout",
     "output_type": "stream",
     "text": [
      "Ratio wrt XE: 0.7394332422795421\n"
     ]
    }
   ],
   "source": [
    "peXR = XR[XR.S1e >100]\n",
    "print(\"Ratio wrt XE:\", len(peXR)/len(XR))"
   ]
  },
  {
   "cell_type": "code",
   "execution_count": 33,
   "metadata": {
    "collapsed": false
   },
   "outputs": [
    {
     "name": "stdout",
     "output_type": "stream",
     "text": [
      "Ratio wrt XE: 0.2605667577204579\n"
     ]
    }
   ],
   "source": [
    "cXR = XR[XR.S1e <100]\n",
    "print(\"Ratio wrt XE:\", len(cXR)/len(XR))"
   ]
  },
  {
   "cell_type": "code",
   "execution_count": 34,
   "metadata": {
    "collapsed": false
   },
   "outputs": [
    {
     "data": {
      "text/plain": [
       "<matplotlib.text.Text at 0x117b65ac8>"
      ]
     },
     "execution_count": 34,
     "metadata": {},
     "output_type": "execute_result"
    },
    {
     "data": {
      "image/png": "[encoded data removed]",
      "text/plain": [
       "<matplotlib.figure.Figure at 0x11696d780>"
      ]
     },
     "metadata": {},
     "output_type": "display_data"
    }
   ],
   "source": [
    "Erange = 3e3, 10e3\n",
    "zrange =   0, 250\n",
    "\n",
    "figsize=(12,6)\n",
    "plt.figure(figsize=figsize)\n",
    "ax = plt.subplot(1, 2, 1)\n",
    "plt.hist2d(peXR.Z, peXR.S2e, (20, 20), range=(zrange, Erange))\n",
    "labels(\"Z (mm)\", \"S2 energy\")\n",
    "plt.title('S2 vs Z for PE')\n",
    "\n",
    "ax = plt.subplot(1, 2, 2)\n",
    "plt.hist2d(cXR.Z, cXR.S2e, (20, 20), range=(zrange, Erange))\n",
    "labels(\"Z (mm)\", \"S2 energy\")\n",
    "plt.title('S2 vs Z for Compton')"
   ]
  },
  {
   "cell_type": "markdown",
   "metadata": {},
   "source": [
    "#### One can use the Z dependence of \"Compton-produced\" X rays to measure electron lifetime. But notice also the different XY distributions."
   ]
  },
  {
   "cell_type": "code",
   "execution_count": 35,
   "metadata": {
    "collapsed": false
   },
   "outputs": [
    {
     "data": {
      "text/plain": [
       "<matplotlib.text.Text at 0x125ae3eb8>"
      ]
     },
     "execution_count": 35,
     "metadata": {},
     "output_type": "execute_result"
    },
    {
     "data": {
      "image/png": "[encoded data removed]",
      "text/plain": [
       "<matplotlib.figure.Figure at 0x117bc2278>"
      ]
     },
     "metadata": {},
     "output_type": "display_data"
    }
   ],
   "source": [
    "xrange = -215, 215\n",
    "yrange = -215, 215\n",
    "\n",
    "figsize=(12,6)\n",
    "plt.figure(figsize=figsize)\n",
    "ax = plt.subplot(1, 2, 1)\n",
    "plt.hist2d(peXR.X, peXR.Y, (20, 20), range=(xrange, yrange))\n",
    "labels(\"X (mm)\", \"Y (mm)\")\n",
    "plt.title('Y vs X for PE X rays')\n",
    "\n",
    "ax = plt.subplot(1, 2, 2)\n",
    "plt.hist2d(cXR.X, cXR.Y, (20, 20), range=(xrange, yrange))\n",
    "labels(\"X (mm)\", \"Y (mm)\")\n",
    "plt.title('Y vs X for Compton X rays')"
   ]
  },
  {
   "cell_type": "markdown",
   "metadata": {},
   "source": [
    "#### PE X rays are produced more or less symmetrically through the across the line of interaction of gammas, while Compton X rays are produced by compton electrons moving towards negative X and are more spread in Y. "
   ]
  },
  {
   "cell_type": "markdown",
   "metadata": {},
   "source": [
    "### Profile histograms and fits"
   ]
  },
  {
   "cell_type": "code",
   "execution_count": 36,
   "metadata": {
    "collapsed": false
   },
   "outputs": [
    {
     "data": {
      "text/plain": [
       "<matplotlib.text.Text at 0x11809ffd0>"
      ]
     },
     "execution_count": 36,
     "metadata": {},
     "output_type": "execute_result"
    },
    {
     "data": {
      "image/png": "[encoded data removed]",
      "text/plain": [
       "<matplotlib.figure.Figure at 0x11642f5c0>"
      ]
     },
     "metadata": {},
     "output_type": "display_data"
    }
   ],
   "source": [
    "Erange = 4e3, 9e3\n",
    "zrange =   40, 200\n",
    "\n",
    "plt.hist2d(cXR.Z, cXR.S2e, (20, 20), range=(zrange, Erange))\n",
    "labels(\"Z (mm)\", \"S2 energy\")\n",
    "plt.title('S2 vs Z for Compton')"
   ]
  },
  {
   "cell_type": "code",
   "execution_count": 37,
   "metadata": {
    "collapsed": false
   },
   "outputs": [
    {
     "data": {
      "image/png": "[encoded data removed]",
      "text/plain": [
       "<matplotlib.figure.Figure at 0x117c21c88>"
      ]
     },
     "metadata": {},
     "output_type": "display_data"
    }
   ],
   "source": [
    "zrange =   40, 125\n",
    "Erange = 4e+3, 8e3\n",
    "nbins = 10\n",
    "F, x, y, sy = profile_and_fit(cXR.Z.values, cXR.S2e.values, \n",
    "                    xrange=zrange, \n",
    "                    yrange=Erange, \n",
    "                    nbins=10, \n",
    "                    fitpar=(8e+3,-200), label=(\"Drift time ($\\mu$s)\", \"S2 energy (pes)\"))"
   ]
  },
  {
   "cell_type": "code",
   "execution_count": 38,
   "metadata": {
    "collapsed": false
   },
   "outputs": [
    {
     "name": "stdout",
     "output_type": "stream",
     "text": [
      "fit par[0] = 7758.840603337712 error = 36.225233915529465\n",
      "fit par[1] = -418.04938718633525 error = 9.692877330623416\n",
      "degrees of freedom = 2\n",
      "chi2 = 0.788040856843303\n"
     ]
    }
   ],
   "source": [
    "print_fit(F)\n",
    "print('chi2 = {}'.format(chi2(F, x, y, sy)))"
   ]
  },
  {
   "cell_type": "markdown",
   "metadata": {},
   "source": [
    "#### Fiducialize"
   ]
  },
  {
   "cell_type": "markdown",
   "metadata": {},
   "source": [
    "#### Thus, lifetime = 418 +- 11 mus"
   ]
  },
  {
   "cell_type": "markdown",
   "metadata": {},
   "source": [
    "#### We now apply the correction to the full crXR set"
   ]
  },
  {
   "cell_type": "code",
   "execution_count": 39,
   "metadata": {
    "collapsed": false
   },
   "outputs": [
    {
     "ename": "NameError",
     "evalue": "name 'z' is not defined",
     "output_type": "error",
     "traceback": [
      "\u001b[0;31m---------------------------------------------------------------------------\u001b[0m",
      "\u001b[0;31mNameError\u001b[0m                                 Traceback (most recent call last)",
      "\u001b[0;32m<ipython-input-39-4d59793d3d36>\u001b[0m in \u001b[0;36m<module>\u001b[0;34m()\u001b[0m\n\u001b[1;32m      1\u001b[0m \u001b[0mzfun\u001b[0m  \u001b[0;34m=\u001b[0m \u001b[0mF\u001b[0m\u001b[0;34m.\u001b[0m\u001b[0mfn\u001b[0m\u001b[0;34m\u001b[0m\u001b[0m\n\u001b[0;32m----> 2\u001b[0;31m \u001b[0mzmin\u001b[0m  \u001b[0;34m=\u001b[0m \u001b[0mnp\u001b[0m\u001b[0;34m.\u001b[0m\u001b[0mmin\u001b[0m\u001b[0;34m(\u001b[0m\u001b[0mz\u001b[0m\u001b[0;34m)\u001b[0m\u001b[0;34m\u001b[0m\u001b[0m\n\u001b[0m\u001b[1;32m      3\u001b[0m \u001b[0mzcorr\u001b[0m \u001b[0;34m=\u001b[0m \u001b[0;32mlambda\u001b[0m \u001b[0mz\u001b[0m\u001b[0;34m:\u001b[0m \u001b[0mzfun\u001b[0m\u001b[0;34m(\u001b[0m\u001b[0mzmin\u001b[0m\u001b[0;34m)\u001b[0m\u001b[0;34m/\u001b[0m\u001b[0mzfun\u001b[0m\u001b[0;34m(\u001b[0m\u001b[0mz\u001b[0m\u001b[0;34m)\u001b[0m\u001b[0;34m\u001b[0m\u001b[0m\n",
      "\u001b[0;31mNameError\u001b[0m: name 'z' is not defined"
     ]
    }
   ],
   "source": [
    "zfun  = F.fn\n",
    "zmin  = np.min(z)\n",
    "zcorr = lambda z: zfun(zmin)/zfun(z)"
   ]
  },
  {
   "cell_type": "code",
   "execution_count": 40,
   "metadata": {
    "collapsed": false
   },
   "outputs": [
    {
     "ename": "NameError",
     "evalue": "name 'zcorr' is not defined",
     "output_type": "error",
     "traceback": [
      "\u001b[0;31m---------------------------------------------------------------------------\u001b[0m",
      "\u001b[0;31mNameError\u001b[0m                                 Traceback (most recent call last)",
      "\u001b[0;32m<ipython-input-40-3f84bf97fb05>\u001b[0m in \u001b[0;36m<module>\u001b[0;34m()\u001b[0m\n\u001b[1;32m      1\u001b[0m \u001b[0mErange\u001b[0m \u001b[0;34m=\u001b[0m \u001b[0;36m4e+3\u001b[0m\u001b[0;34m,\u001b[0m \u001b[0;36m11e3\u001b[0m\u001b[0;34m\u001b[0m\u001b[0m\n\u001b[0;32m----> 2\u001b[0;31m \u001b[0mEz\u001b[0m \u001b[0;34m=\u001b[0m \u001b[0mcXR\u001b[0m\u001b[0;34m.\u001b[0m\u001b[0mS2e\u001b[0m \u001b[0;34m*\u001b[0m \u001b[0mzcorr\u001b[0m\u001b[0;34m(\u001b[0m\u001b[0mcXR\u001b[0m\u001b[0;34m.\u001b[0m\u001b[0mZ\u001b[0m\u001b[0;34m)\u001b[0m\u001b[0;34m\u001b[0m\u001b[0m\n\u001b[0m",
      "\u001b[0;31mNameError\u001b[0m: name 'zcorr' is not defined"
     ]
    }
   ],
   "source": [
    "Erange = 4e+3, 11e3\n",
    "Ez = cXR.S2e * zcorr(cXR.Z)"
   ]
  },
  {
   "cell_type": "code",
   "execution_count": 41,
   "metadata": {
    "collapsed": false
   },
   "outputs": [
    {
     "ename": "NameError",
     "evalue": "name 'Ez' is not defined",
     "output_type": "error",
     "traceback": [
      "\u001b[0;31m---------------------------------------------------------------------------\u001b[0m",
      "\u001b[0;31mNameError\u001b[0m                                 Traceback (most recent call last)",
      "\u001b[0;32m<ipython-input-41-d76e4281f05b>\u001b[0m in \u001b[0;36m<module>\u001b[0;34m()\u001b[0m\n\u001b[1;32m      2\u001b[0m \u001b[0mplt\u001b[0m\u001b[0;34m.\u001b[0m\u001b[0mfigure\u001b[0m\u001b[0;34m(\u001b[0m\u001b[0mfigsize\u001b[0m\u001b[0;34m=\u001b[0m\u001b[0mfigsize\u001b[0m\u001b[0;34m)\u001b[0m\u001b[0;34m\u001b[0m\u001b[0m\n\u001b[1;32m      3\u001b[0m \u001b[0max\u001b[0m \u001b[0;34m=\u001b[0m \u001b[0mplt\u001b[0m\u001b[0;34m.\u001b[0m\u001b[0msubplot\u001b[0m\u001b[0;34m(\u001b[0m\u001b[0;36m1\u001b[0m\u001b[0;34m,\u001b[0m \u001b[0;36m2\u001b[0m\u001b[0;34m,\u001b[0m \u001b[0;36m1\u001b[0m\u001b[0;34m)\u001b[0m\u001b[0;34m\u001b[0m\u001b[0m\n\u001b[0;32m----> 4\u001b[0;31m \u001b[0my\u001b[0m\u001b[0;34m,\u001b[0m \u001b[0mx\u001b[0m\u001b[0;34m,\u001b[0m \u001b[0m_\u001b[0m \u001b[0;34m=\u001b[0m \u001b[0mplt\u001b[0m\u001b[0;34m.\u001b[0m\u001b[0mhist\u001b[0m\u001b[0;34m(\u001b[0m\u001b[0mEz\u001b[0m\u001b[0;34m,\u001b[0m \u001b[0;36m50\u001b[0m\u001b[0;34m,\u001b[0m \u001b[0mrange\u001b[0m\u001b[0;34m=\u001b[0m\u001b[0mErange\u001b[0m\u001b[0;34m)\u001b[0m\u001b[0;34m\u001b[0m\u001b[0m\n\u001b[0m\u001b[1;32m      5\u001b[0m \u001b[0mlabels\u001b[0m\u001b[0;34m(\u001b[0m\u001b[0;34m\"S2 energy (pes)\"\u001b[0m\u001b[0;34m,\u001b[0m \u001b[0;34m\"Entries\"\u001b[0m\u001b[0;34m)\u001b[0m\u001b[0;34m\u001b[0m\u001b[0m\n\u001b[1;32m      6\u001b[0m \u001b[0mplt\u001b[0m\u001b[0;34m.\u001b[0m\u001b[0mtitle\u001b[0m\u001b[0;34m(\u001b[0m\u001b[0;34m'E corrected by Z'\u001b[0m\u001b[0;34m)\u001b[0m\u001b[0;34m\u001b[0m\u001b[0m\n",
      "\u001b[0;31mNameError\u001b[0m: name 'Ez' is not defined"
     ]
    },
    {
     "data": {
      "image/png": "[encoded data removed]",
      "text/plain": [
       "<matplotlib.figure.Figure at 0x117c47400>"
      ]
     },
     "metadata": {},
     "output_type": "display_data"
    }
   ],
   "source": [
    "figsize=(12,8)\n",
    "plt.figure(figsize=figsize)\n",
    "ax = plt.subplot(1, 2, 1)\n",
    "y, x, _ = plt.hist(Ez, 50, range=Erange)\n",
    "labels(\"S2 energy (pes)\", \"Entries\")\n",
    "plt.title('E corrected by Z')\n",
    "\n",
    "x    = x[:-1] + np.diff(x) * 0.5\n",
    "sel  = fitf.in_range(x, 7000, 9000)\n",
    "x, y = x[sel], y[sel]\n",
    "f    = fitf.fit(fitf.gauss, x, y, (1e3, 8e3, 200))\n",
    "plt.plot(x, f.fn(x), fitOpt)\n",
    "plt.text(Erange[0], max(y)/2, gausstext(f))\n",
    "\n",
    "ax = plt.subplot(1, 2, 2)\n",
    "y, x, _ = plt.hist(crXR.S2e, 50, range=Erange)\n",
    "labels(\"S2 energy (pes)\", \"Entries\")\n",
    "plt.title('E uncorrected')\n",
    "\n",
    "x    = x[:-1] + np.diff(x) * 0.5\n",
    "sel  = fitf.in_range(x, 5000, 8000)\n",
    "x, y = x[sel], y[sel]\n",
    "f    = fitf.fit(fitf.gauss, x, y, (1e3, 8e3, 200))\n",
    "plt.plot(x, f.fn(x), fitOpt)\n",
    "plt.text(Erange[0], max(y)/2, gausstext(f))\n"
   ]
  },
  {
   "cell_type": "code",
   "execution_count": 42,
   "metadata": {
    "collapsed": false
   },
   "outputs": [
    {
     "ename": "NameError",
     "evalue": "name 'Ez' is not defined",
     "output_type": "error",
     "traceback": [
      "\u001b[0;31m---------------------------------------------------------------------------\u001b[0m",
      "\u001b[0;31mNameError\u001b[0m                                 Traceback (most recent call last)",
      "\u001b[0;32m<ipython-input-42-b9748dad6988>\u001b[0m in \u001b[0;36m<module>\u001b[0;34m()\u001b[0m\n\u001b[1;32m      2\u001b[0m \u001b[0mErange\u001b[0m \u001b[0;34m=\u001b[0m \u001b[0;36m4e+3\u001b[0m\u001b[0;34m,\u001b[0m \u001b[0;36m8e3\u001b[0m\u001b[0;34m\u001b[0m\u001b[0m\n\u001b[1;32m      3\u001b[0m \u001b[0mnbins\u001b[0m \u001b[0;34m=\u001b[0m \u001b[0;36m9\u001b[0m\u001b[0;34m\u001b[0m\u001b[0m\n\u001b[0;32m----> 4\u001b[0;31m F2, x, y, sy = profile_and_fit(cXR.Z.values, Ez, \n\u001b[0m\u001b[1;32m      5\u001b[0m                     \u001b[0mxrange\u001b[0m\u001b[0;34m=\u001b[0m\u001b[0mzrange\u001b[0m\u001b[0;34m,\u001b[0m\u001b[0;34m\u001b[0m\u001b[0m\n\u001b[1;32m      6\u001b[0m                     \u001b[0myrange\u001b[0m\u001b[0;34m=\u001b[0m\u001b[0mErange\u001b[0m\u001b[0;34m,\u001b[0m\u001b[0;34m\u001b[0m\u001b[0m\n",
      "\u001b[0;31mNameError\u001b[0m: name 'Ez' is not defined"
     ]
    }
   ],
   "source": [
    "zrange =   40, 120\n",
    "Erange = 4e+3, 8e3\n",
    "nbins = 9\n",
    "F2, x, y, sy = profile_and_fit(cXR.Z.values, Ez, \n",
    "                    xrange=zrange, \n",
    "                    yrange=Erange, \n",
    "                    nbins=10, \n",
    "                    fitpar=(8e+3,-10), label=(\"Drift time ($\\mu$s)\", \"S2 energy (pes)\"))"
   ]
  },
  {
   "cell_type": "code",
   "execution_count": 43,
   "metadata": {
    "collapsed": false
   },
   "outputs": [
    {
     "ename": "NameError",
     "evalue": "name 'F2' is not defined",
     "output_type": "error",
     "traceback": [
      "\u001b[0;31m---------------------------------------------------------------------------\u001b[0m",
      "\u001b[0;31mNameError\u001b[0m                                 Traceback (most recent call last)",
      "\u001b[0;32m<ipython-input-43-cab77c3ea5f0>\u001b[0m in \u001b[0;36m<module>\u001b[0;34m()\u001b[0m\n\u001b[0;32m----> 1\u001b[0;31m \u001b[0mprint_fit\u001b[0m\u001b[0;34m(\u001b[0m\u001b[0mF2\u001b[0m\u001b[0;34m)\u001b[0m\u001b[0;34m\u001b[0m\u001b[0m\n\u001b[0m\u001b[1;32m      2\u001b[0m \u001b[0mprint\u001b[0m\u001b[0;34m(\u001b[0m\u001b[0;34m'chi2 = {}'\u001b[0m\u001b[0;34m.\u001b[0m\u001b[0mformat\u001b[0m\u001b[0;34m(\u001b[0m\u001b[0mchi2\u001b[0m\u001b[0;34m(\u001b[0m\u001b[0mF2\u001b[0m\u001b[0;34m,\u001b[0m \u001b[0mx\u001b[0m\u001b[0;34m,\u001b[0m \u001b[0my\u001b[0m\u001b[0;34m,\u001b[0m \u001b[0msy\u001b[0m\u001b[0;34m)\u001b[0m\u001b[0;34m)\u001b[0m\u001b[0;34m)\u001b[0m\u001b[0;34m\u001b[0m\u001b[0m\n",
      "\u001b[0;31mNameError\u001b[0m: name 'F2' is not defined"
     ]
    }
   ],
   "source": [
    "print_fit(F2)\n",
    "print('chi2 = {}'.format(chi2(F2, x, y, sy)))"
   ]
  },
  {
   "cell_type": "code",
   "execution_count": 44,
   "metadata": {
    "collapsed": false
   },
   "outputs": [
    {
     "ename": "NameError",
     "evalue": "name 'F2' is not defined",
     "output_type": "error",
     "traceback": [
      "\u001b[0;31m---------------------------------------------------------------------------\u001b[0m",
      "\u001b[0;31mNameError\u001b[0m                                 Traceback (most recent call last)",
      "\u001b[0;32m<ipython-input-44-854479f6c062>\u001b[0m in \u001b[0;36m<module>\u001b[0;34m()\u001b[0m\n\u001b[0;32m----> 1\u001b[0;31m \u001b[0mzfun2\u001b[0m  \u001b[0;34m=\u001b[0m \u001b[0mF2\u001b[0m\u001b[0;34m.\u001b[0m\u001b[0mfn\u001b[0m\u001b[0;34m\u001b[0m\u001b[0m\n\u001b[0m\u001b[1;32m      2\u001b[0m \u001b[0mzcorr2\u001b[0m \u001b[0;34m=\u001b[0m \u001b[0;32mlambda\u001b[0m \u001b[0mz\u001b[0m\u001b[0;34m:\u001b[0m \u001b[0mzfun2\u001b[0m\u001b[0;34m(\u001b[0m\u001b[0mzmin\u001b[0m\u001b[0;34m)\u001b[0m\u001b[0;34m/\u001b[0m\u001b[0mzfun2\u001b[0m\u001b[0;34m(\u001b[0m\u001b[0mz\u001b[0m\u001b[0;34m)\u001b[0m\u001b[0;34m\u001b[0m\u001b[0m\n",
      "\u001b[0;31mNameError\u001b[0m: name 'F2' is not defined"
     ]
    }
   ],
   "source": [
    "zfun2  = F2.fn\n",
    "zcorr2 = lambda z: zfun2(zmin)/zfun2(z)"
   ]
  },
  {
   "cell_type": "code",
   "execution_count": 45,
   "metadata": {
    "collapsed": false
   },
   "outputs": [
    {
     "ename": "NameError",
     "evalue": "name 'zcorr' is not defined",
     "output_type": "error",
     "traceback": [
      "\u001b[0;31m---------------------------------------------------------------------------\u001b[0m",
      "\u001b[0;31mNameError\u001b[0m                                 Traceback (most recent call last)",
      "\u001b[0;32m<ipython-input-45-84f567b64771>\u001b[0m in \u001b[0;36m<module>\u001b[0;34m()\u001b[0m\n\u001b[1;32m      2\u001b[0m \u001b[0mplt\u001b[0m\u001b[0;34m.\u001b[0m\u001b[0mfigure\u001b[0m\u001b[0;34m(\u001b[0m\u001b[0mfigsize\u001b[0m\u001b[0;34m=\u001b[0m\u001b[0mfigsize\u001b[0m\u001b[0;34m)\u001b[0m\u001b[0;34m\u001b[0m\u001b[0m\n\u001b[1;32m      3\u001b[0m \u001b[0max\u001b[0m \u001b[0;34m=\u001b[0m \u001b[0mplt\u001b[0m\u001b[0;34m.\u001b[0m\u001b[0msubplot\u001b[0m\u001b[0;34m(\u001b[0m\u001b[0;36m1\u001b[0m\u001b[0;34m,\u001b[0m \u001b[0;36m2\u001b[0m\u001b[0;34m,\u001b[0m \u001b[0;36m1\u001b[0m\u001b[0;34m)\u001b[0m\u001b[0;34m\u001b[0m\u001b[0m\n\u001b[0;32m----> 4\u001b[0;31m \u001b[0mplt\u001b[0m\u001b[0;34m.\u001b[0m\u001b[0mplot\u001b[0m\u001b[0;34m(\u001b[0m\u001b[0mx\u001b[0m\u001b[0;34m,\u001b[0m \u001b[0mzcorr\u001b[0m\u001b[0;34m(\u001b[0m\u001b[0mx\u001b[0m\u001b[0;34m)\u001b[0m\u001b[0;34m)\u001b[0m\u001b[0;34m\u001b[0m\u001b[0m\n\u001b[0m\u001b[1;32m      5\u001b[0m \u001b[0mplt\u001b[0m\u001b[0;34m.\u001b[0m\u001b[0mtitle\u001b[0m\u001b[0;34m(\u001b[0m\u001b[0;34m'first order correction function'\u001b[0m\u001b[0;34m)\u001b[0m\u001b[0;34m\u001b[0m\u001b[0m\n\u001b[1;32m      6\u001b[0m \u001b[0;34m\u001b[0m\u001b[0m\n",
      "\u001b[0;31mNameError\u001b[0m: name 'zcorr' is not defined"
     ]
    },
    {
     "data": {
      "image/png": "[encoded data removed]",
      "text/plain": [
       "<matplotlib.figure.Figure at 0x116743160>"
      ]
     },
     "metadata": {},
     "output_type": "display_data"
    }
   ],
   "source": [
    "figsize=(12,8)\n",
    "plt.figure(figsize=figsize)\n",
    "ax = plt.subplot(1, 2, 1)\n",
    "plt.plot(x, zcorr(x))\n",
    "plt.title('first order correction function')\n",
    "\n",
    "ax = plt.subplot(1, 2, 2)\n",
    "plt.plot(x, zcorr2(x))\n",
    "plt.title('second order correction function')"
   ]
  },
  {
   "cell_type": "code",
   "execution_count": 46,
   "metadata": {
    "collapsed": false
   },
   "outputs": [
    {
     "ename": "NameError",
     "evalue": "name 'zcorr' is not defined",
     "output_type": "error",
     "traceback": [
      "\u001b[0;31m---------------------------------------------------------------------------\u001b[0m",
      "\u001b[0;31mNameError\u001b[0m                                 Traceback (most recent call last)",
      "\u001b[0;32m<ipython-input-46-12da1193abf1>\u001b[0m in \u001b[0;36m<module>\u001b[0;34m()\u001b[0m\n\u001b[1;32m      1\u001b[0m \u001b[0mErange\u001b[0m \u001b[0;34m=\u001b[0m \u001b[0;36m4e+3\u001b[0m\u001b[0;34m,\u001b[0m \u001b[0;36m11e3\u001b[0m\u001b[0;34m\u001b[0m\u001b[0m\n\u001b[0;32m----> 2\u001b[0;31m \u001b[0mEz2\u001b[0m \u001b[0;34m=\u001b[0m \u001b[0mcXR\u001b[0m\u001b[0;34m.\u001b[0m\u001b[0mS2e\u001b[0m \u001b[0;34m*\u001b[0m \u001b[0mzcorr\u001b[0m\u001b[0;34m(\u001b[0m\u001b[0mcXR\u001b[0m\u001b[0;34m.\u001b[0m\u001b[0mZ\u001b[0m\u001b[0;34m)\u001b[0m \u001b[0;34m*\u001b[0m \u001b[0mzcorr2\u001b[0m\u001b[0;34m(\u001b[0m\u001b[0mcXR\u001b[0m\u001b[0;34m.\u001b[0m\u001b[0mZ\u001b[0m\u001b[0;34m)\u001b[0m\u001b[0;34m\u001b[0m\u001b[0m\n\u001b[0m",
      "\u001b[0;31mNameError\u001b[0m: name 'zcorr' is not defined"
     ]
    }
   ],
   "source": [
    "Erange = 4e+3, 11e3\n",
    "Ez2 = cXR.S2e * zcorr(cXR.Z) * zcorr2(cXR.Z)"
   ]
  },
  {
   "cell_type": "code",
   "execution_count": 47,
   "metadata": {
    "collapsed": false
   },
   "outputs": [
    {
     "ename": "NameError",
     "evalue": "name 'Ez' is not defined",
     "output_type": "error",
     "traceback": [
      "\u001b[0;31m---------------------------------------------------------------------------\u001b[0m",
      "\u001b[0;31mNameError\u001b[0m                                 Traceback (most recent call last)",
      "\u001b[0;32m<ipython-input-47-0ecafecabe63>\u001b[0m in \u001b[0;36m<module>\u001b[0;34m()\u001b[0m\n\u001b[1;32m      2\u001b[0m \u001b[0mplt\u001b[0m\u001b[0;34m.\u001b[0m\u001b[0mfigure\u001b[0m\u001b[0;34m(\u001b[0m\u001b[0mfigsize\u001b[0m\u001b[0;34m=\u001b[0m\u001b[0mfigsize\u001b[0m\u001b[0;34m)\u001b[0m\u001b[0;34m\u001b[0m\u001b[0m\n\u001b[1;32m      3\u001b[0m \u001b[0max\u001b[0m \u001b[0;34m=\u001b[0m \u001b[0mplt\u001b[0m\u001b[0;34m.\u001b[0m\u001b[0msubplot\u001b[0m\u001b[0;34m(\u001b[0m\u001b[0;36m1\u001b[0m\u001b[0;34m,\u001b[0m \u001b[0;36m2\u001b[0m\u001b[0;34m,\u001b[0m \u001b[0;36m1\u001b[0m\u001b[0;34m)\u001b[0m\u001b[0;34m\u001b[0m\u001b[0m\n\u001b[0;32m----> 4\u001b[0;31m \u001b[0my\u001b[0m\u001b[0;34m,\u001b[0m \u001b[0mx\u001b[0m\u001b[0;34m,\u001b[0m \u001b[0m_\u001b[0m \u001b[0;34m=\u001b[0m \u001b[0mplt\u001b[0m\u001b[0;34m.\u001b[0m\u001b[0mhist\u001b[0m\u001b[0;34m(\u001b[0m\u001b[0mEz\u001b[0m\u001b[0;34m,\u001b[0m \u001b[0;36m50\u001b[0m\u001b[0;34m,\u001b[0m \u001b[0mrange\u001b[0m\u001b[0;34m=\u001b[0m\u001b[0mErange\u001b[0m\u001b[0;34m)\u001b[0m\u001b[0;34m\u001b[0m\u001b[0m\n\u001b[0m\u001b[1;32m      5\u001b[0m \u001b[0mlabels\u001b[0m\u001b[0;34m(\u001b[0m\u001b[0;34m\"S2 energy (pes)\"\u001b[0m\u001b[0;34m,\u001b[0m \u001b[0;34m\"Entries\"\u001b[0m\u001b[0;34m)\u001b[0m\u001b[0;34m\u001b[0m\u001b[0m\n\u001b[1;32m      6\u001b[0m \u001b[0mplt\u001b[0m\u001b[0;34m.\u001b[0m\u001b[0mtitle\u001b[0m\u001b[0;34m(\u001b[0m\u001b[0;34m'E corrected by Z (first order)'\u001b[0m\u001b[0;34m)\u001b[0m\u001b[0;34m\u001b[0m\u001b[0m\n",
      "\u001b[0;31mNameError\u001b[0m: name 'Ez' is not defined"
     ]
    },
    {
     "data": {
      "image/png": "[encoded data removed]",
      "text/plain": [
       "<matplotlib.figure.Figure at 0x118ae0dd8>"
      ]
     },
     "metadata": {},
     "output_type": "display_data"
    }
   ],
   "source": [
    "figsize=(12,8)\n",
    "plt.figure(figsize=figsize)\n",
    "ax = plt.subplot(1, 2, 1)\n",
    "y, x, _ = plt.hist(Ez, 50, range=Erange)\n",
    "labels(\"S2 energy (pes)\", \"Entries\")\n",
    "plt.title('E corrected by Z (first order)')\n",
    "\n",
    "x    = x[:-1] + np.diff(x) * 0.5\n",
    "sel  = fitf.in_range(x, 7000, 9000)\n",
    "x, y = x[sel], y[sel]\n",
    "f    = fitf.fit(fitf.gauss, x, y, (1e3, 8e3, 200))\n",
    "plt.plot(x, f.fn(x), fitOpt)\n",
    "plt.text(Erange[0], max(y)/2, gausstext(f))\n",
    "\n",
    "ax = plt.subplot(1, 2, 2)\n",
    "y, x, _ = plt.hist(Ez2, 50, range=Erange)\n",
    "labels(\"S2 energy (pes)\", \"Entries\")\n",
    "plt.title('E corrected by Z (second order)')\n",
    "\n",
    "x    = x[:-1] + np.diff(x) * 0.5\n",
    "sel  = fitf.in_range(x, 7400, 9400)\n",
    "x, y = x[sel], y[sel]\n",
    "f    = fitf.fit(fitf.gauss, x, y, (1e3, 8e3, 200))\n",
    "plt.plot(x, f.fn(x), fitOpt)\n",
    "plt.text(Erange[0], max(y)/2, gausstext(f))"
   ]
  },
  {
   "cell_type": "markdown",
   "metadata": {},
   "source": [
    "### Geometrical corrections"
   ]
  },
  {
   "cell_type": "code",
   "execution_count": 48,
   "metadata": {
    "collapsed": false
   },
   "outputs": [
    {
     "data": {
      "text/plain": [
       "<matplotlib.text.Text at 0x118b94d30>"
      ]
     },
     "execution_count": 48,
     "metadata": {},
     "output_type": "execute_result"
    },
    {
     "data": {
      "image/png": "[encoded data removed]",
      "text/plain": [
       "<matplotlib.figure.Figure at 0x118abcf28>"
      ]
     },
     "metadata": {},
     "output_type": "display_data"
    }
   ],
   "source": [
    "xrange=-215, 215\n",
    "yrange=-215, 215\n",
    "plot_options(figsize=(6,6), fontsize=15)\n",
    "ax = plt.subplot(1, 1, 1)\n",
    "plt.hist2d(cXR.X, cXR.Y, (15, 15), range=(xrange, yrange))\n",
    "labels(\"X (mm)\", \"Y (mm)\")\n",
    "plt.title('Y vs X for Compton X rays')"
   ]
  },
  {
   "cell_type": "code",
   "execution_count": 49,
   "metadata": {
    "collapsed": false
   },
   "outputs": [
    {
     "name": "stdout",
     "output_type": "stream",
     "text": [
      "Ratio wrt cXR: 0.037371959026888606\n"
     ]
    }
   ],
   "source": [
    "cXR_x1 = cXR[cXR.X < -70 ]\n",
    "cXR_x2 = cXR_x1[cXR_x1.X > -130 ]\n",
    "crXR = cXR_x2[abs(cXR_x2.Y) < 20 ]\n",
    "print(\"Ratio wrt cXR:\", len(crXR)/len(cXR))"
   ]
  },
  {
   "cell_type": "code",
   "execution_count": 50,
   "metadata": {
    "collapsed": false
   },
   "outputs": [
    {
     "data": {
      "text/plain": [
       "<matplotlib.text.Text at 0x118c259e8>"
      ]
     },
     "execution_count": 50,
     "metadata": {},
     "output_type": "execute_result"
    },
    {
     "data": {
      "image/png": "[encoded data removed]",
      "text/plain": [
       "<matplotlib.figure.Figure at 0x118be1cc0>"
      ]
     },
     "metadata": {},
     "output_type": "display_data"
    }
   ],
   "source": [
    "plot_options(figsize=(6,6), fontsize=15)\n",
    "ax = plt.subplot(1, 1, 1)\n",
    "plt.hist2d(crXR.X, crXR.Y, (15, 15), range=(xrange, yrange))\n",
    "labels(\"X (mm)\", \"Y (mm)\")\n",
    "plt.title('Y vs X for Compton X rays')"
   ]
  },
  {
   "cell_type": "code",
   "execution_count": 51,
   "metadata": {
    "collapsed": false
   },
   "outputs": [
    {
     "ename": "NameError",
     "evalue": "name 'zcorr' is not defined",
     "output_type": "error",
     "traceback": [
      "\u001b[0;31m---------------------------------------------------------------------------\u001b[0m",
      "\u001b[0;31mNameError\u001b[0m                                 Traceback (most recent call last)",
      "\u001b[0;32m<ipython-input-51-4f75cec91a50>\u001b[0m in \u001b[0;36m<module>\u001b[0;34m()\u001b[0m\n\u001b[1;32m      1\u001b[0m \u001b[0mErange\u001b[0m \u001b[0;34m=\u001b[0m \u001b[0;36m4e+3\u001b[0m\u001b[0;34m,\u001b[0m \u001b[0;36m11e3\u001b[0m\u001b[0;34m\u001b[0m\u001b[0m\n\u001b[0;32m----> 2\u001b[0;31m \u001b[0mEz2\u001b[0m \u001b[0;34m=\u001b[0m \u001b[0mcrXR\u001b[0m\u001b[0;34m.\u001b[0m\u001b[0mS2e\u001b[0m \u001b[0;34m*\u001b[0m \u001b[0mzcorr\u001b[0m\u001b[0;34m(\u001b[0m\u001b[0mcrXR\u001b[0m\u001b[0;34m.\u001b[0m\u001b[0mZ\u001b[0m\u001b[0;34m)\u001b[0m\u001b[0;34m\u001b[0m\u001b[0m\n\u001b[0m",
      "\u001b[0;31mNameError\u001b[0m: name 'zcorr' is not defined"
     ]
    }
   ],
   "source": [
    "Erange = 4e+3, 11e3\n",
    "Ez2 = crXR.S2e * zcorr(crXR.Z) "
   ]
  },
  {
   "cell_type": "code",
   "execution_count": 52,
   "metadata": {
    "collapsed": false
   },
   "outputs": [
    {
     "ename": "NameError",
     "evalue": "name 'Ez' is not defined",
     "output_type": "error",
     "traceback": [
      "\u001b[0;31m---------------------------------------------------------------------------\u001b[0m",
      "\u001b[0;31mNameError\u001b[0m                                 Traceback (most recent call last)",
      "\u001b[0;32m<ipython-input-52-af07e196d3a3>\u001b[0m in \u001b[0;36m<module>\u001b[0;34m()\u001b[0m\n\u001b[1;32m      2\u001b[0m \u001b[0mplt\u001b[0m\u001b[0;34m.\u001b[0m\u001b[0mfigure\u001b[0m\u001b[0;34m(\u001b[0m\u001b[0mfigsize\u001b[0m\u001b[0;34m=\u001b[0m\u001b[0mfigsize\u001b[0m\u001b[0;34m)\u001b[0m\u001b[0;34m\u001b[0m\u001b[0m\n\u001b[1;32m      3\u001b[0m \u001b[0max\u001b[0m \u001b[0;34m=\u001b[0m \u001b[0mplt\u001b[0m\u001b[0;34m.\u001b[0m\u001b[0msubplot\u001b[0m\u001b[0;34m(\u001b[0m\u001b[0;36m1\u001b[0m\u001b[0;34m,\u001b[0m \u001b[0;36m2\u001b[0m\u001b[0;34m,\u001b[0m \u001b[0;36m1\u001b[0m\u001b[0;34m)\u001b[0m\u001b[0;34m\u001b[0m\u001b[0m\n\u001b[0;32m----> 4\u001b[0;31m \u001b[0my\u001b[0m\u001b[0;34m,\u001b[0m \u001b[0mx\u001b[0m\u001b[0;34m,\u001b[0m \u001b[0m_\u001b[0m \u001b[0;34m=\u001b[0m \u001b[0mplt\u001b[0m\u001b[0;34m.\u001b[0m\u001b[0mhist\u001b[0m\u001b[0;34m(\u001b[0m\u001b[0mEz\u001b[0m\u001b[0;34m,\u001b[0m \u001b[0;36m50\u001b[0m\u001b[0;34m,\u001b[0m \u001b[0mrange\u001b[0m\u001b[0;34m=\u001b[0m\u001b[0mErange\u001b[0m\u001b[0;34m)\u001b[0m\u001b[0;34m\u001b[0m\u001b[0m\n\u001b[0m\u001b[1;32m      5\u001b[0m \u001b[0mlabels\u001b[0m\u001b[0;34m(\u001b[0m\u001b[0;34m\"S2 energy (pes)\"\u001b[0m\u001b[0;34m,\u001b[0m \u001b[0;34m\"Entries\"\u001b[0m\u001b[0;34m)\u001b[0m\u001b[0;34m\u001b[0m\u001b[0m\n\u001b[1;32m      6\u001b[0m \u001b[0mplt\u001b[0m\u001b[0;34m.\u001b[0m\u001b[0mtitle\u001b[0m\u001b[0;34m(\u001b[0m\u001b[0;34m'E corrected by Z (first order)'\u001b[0m\u001b[0;34m)\u001b[0m\u001b[0;34m\u001b[0m\u001b[0m\n",
      "\u001b[0;31mNameError\u001b[0m: name 'Ez' is not defined"
     ]
    },
    {
     "data": {
      "image/png": "[encoded data removed]",
      "text/plain": [
       "<matplotlib.figure.Figure at 0x118f079e8>"
      ]
     },
     "metadata": {},
     "output_type": "display_data"
    }
   ],
   "source": [
    "figsize=(12,8)\n",
    "plt.figure(figsize=figsize)\n",
    "ax = plt.subplot(1, 2, 1)\n",
    "y, x, _ = plt.hist(Ez, 50, range=Erange)\n",
    "labels(\"S2 energy (pes)\", \"Entries\")\n",
    "plt.title('E corrected by Z (first order)')\n",
    "\n",
    "x    = x[:-1] + np.diff(x) * 0.5\n",
    "sel  = fitf.in_range(x, 7000, 9000)\n",
    "x, y = x[sel], y[sel]\n",
    "f    = fitf.fit(fitf.gauss, x, y, (1e3, 8e3, 200))\n",
    "plt.plot(x, f.fn(x), fitOpt)\n",
    "plt.text(Erange[0], max(y)/2, gausstext(f))\n",
    "\n",
    "ax = plt.subplot(1, 2, 2)\n",
    "y, x, _ = plt.hist(Ez2, 25, range=Erange)\n",
    "labels(\"S2 energy (pes)\", \"Entries\")\n",
    "plt.title('E corrected by Z (second order)')\n",
    "\n",
    "x    = x[:-1] + np.diff(x) * 0.5\n",
    "sel  = fitf.in_range(x, 7000, 8500)\n",
    "x, y = x[sel], y[sel]\n",
    "f    = fitf.fit(fitf.gauss, x, y, (1e3, 8e3, 200))\n",
    "plt.plot(x, f.fn(x), fitOpt)\n",
    "plt.text(Erange[0], max(y)/2, gausstext(f))\n",
    "         "
   ]
  },
  {
   "cell_type": "code",
   "execution_count": 53,
   "metadata": {
    "collapsed": false
   },
   "outputs": [
    {
     "data": {
      "text/plain": [
       "<matplotlib.text.Text at 0x11909c278>"
      ]
     },
     "execution_count": 53,
     "metadata": {},
     "output_type": "execute_result"
    },
    {
     "data": {
      "image/png": "[encoded data removed]",
      "text/plain": [
       "<matplotlib.figure.Figure at 0x118f273c8>"
      ]
     },
     "metadata": {},
     "output_type": "display_data"
    }
   ],
   "source": [
    "xrange=-215, 215\n",
    "yrange=-215, 215\n",
    "plot_options(figsize=(6,6), fontsize=15)\n",
    "ax = plt.subplot(1, 1, 1)\n",
    "plt.hist2d(peXR.X, peXR.Y, (15, 15), range=(xrange, yrange))\n",
    "labels(\"X (mm)\", \"Y (mm)\")\n",
    "plt.title('Y vs X for PE X rays')"
   ]
  },
  {
   "cell_type": "code",
   "execution_count": 54,
   "metadata": {
    "collapsed": false
   },
   "outputs": [
    {
     "data": {
      "text/plain": [
       "<matplotlib.text.Text at 0x11912c320>"
      ]
     },
     "execution_count": 54,
     "metadata": {},
     "output_type": "execute_result"
    },
    {
     "data": {
      "image/png": "[encoded data removed]",
      "text/plain": [
       "<matplotlib.figure.Figure at 0x119089ef0>"
      ]
     },
     "metadata": {},
     "output_type": "display_data"
    }
   ],
   "source": [
    "xrange=-215, 215\n",
    "yrange=-215, 215\n",
    "plot_options(figsize=(6,6), fontsize=15)\n",
    "ax = plt.subplot(1, 1, 1)\n",
    "plt.hist2d(XR.X, XR.Y, (15, 15), range=(xrange, yrange))\n",
    "labels(\"X (mm)\", \"Y (mm)\")\n",
    "plt.title('Y vs X for X rays')"
   ]
  },
  {
   "cell_type": "code",
   "execution_count": 55,
   "metadata": {
    "collapsed": false
   },
   "outputs": [
    {
     "name": "stdout",
     "output_type": "stream",
     "text": [
      "Ratio wrt cXR: 0.8499072085409847\n"
     ]
    }
   ],
   "source": [
    "fXR = XR[XR.R < 180 ]\n",
    "print(\"Ratio wrt cXR:\", len(fXR)/len(XR))"
   ]
  },
  {
   "cell_type": "code",
   "execution_count": 56,
   "metadata": {
    "collapsed": false
   },
   "outputs": [
    {
     "data": {
      "text/plain": [
       "<matplotlib.text.Text at 0x119012390>"
      ]
     },
     "execution_count": 56,
     "metadata": {},
     "output_type": "execute_result"
    },
    {
     "data": {
      "image/png": "[encoded data removed]",
      "text/plain": [
       "<matplotlib.figure.Figure at 0x11911e438>"
      ]
     },
     "metadata": {},
     "output_type": "display_data"
    }
   ],
   "source": [
    "xrange=-215, 215\n",
    "yrange=-215, 215\n",
    "plot_options(figsize=(6,6), fontsize=15)\n",
    "ax = plt.subplot(1, 1, 1)\n",
    "plt.hist2d(fXR.X, fXR.Y, (10, 10), range=(xrange, yrange))\n",
    "labels(\"X (mm)\", \"Y (mm)\")\n",
    "plt.title('Y vs X for X rays')"
   ]
  },
  {
   "cell_type": "code",
   "execution_count": 57,
   "metadata": {
    "collapsed": false
   },
   "outputs": [
    {
     "ename": "NameError",
     "evalue": "name 'zcorr' is not defined",
     "output_type": "error",
     "traceback": [
      "\u001b[0;31m---------------------------------------------------------------------------\u001b[0m",
      "\u001b[0;31mNameError\u001b[0m                                 Traceback (most recent call last)",
      "\u001b[0;32m<ipython-input-57-7eae5a2cc33e>\u001b[0m in \u001b[0;36m<module>\u001b[0;34m()\u001b[0m\n\u001b[1;32m      1\u001b[0m \u001b[0mErange\u001b[0m \u001b[0;34m=\u001b[0m \u001b[0;36m4e+3\u001b[0m\u001b[0;34m,\u001b[0m \u001b[0;36m11e3\u001b[0m\u001b[0;34m\u001b[0m\u001b[0m\n\u001b[0;32m----> 2\u001b[0;31m \u001b[0mEz\u001b[0m \u001b[0;34m=\u001b[0m \u001b[0mfXR\u001b[0m\u001b[0;34m.\u001b[0m\u001b[0mS2e\u001b[0m \u001b[0;34m*\u001b[0m \u001b[0mzcorr\u001b[0m\u001b[0;34m(\u001b[0m\u001b[0mfXR\u001b[0m\u001b[0;34m.\u001b[0m\u001b[0mZ\u001b[0m\u001b[0;34m)\u001b[0m\u001b[0;34m\u001b[0m\u001b[0m\n\u001b[0m\u001b[1;32m      3\u001b[0m \u001b[0mEz2\u001b[0m \u001b[0;34m=\u001b[0m \u001b[0mXR\u001b[0m\u001b[0;34m.\u001b[0m\u001b[0mS2e\u001b[0m \u001b[0;34m*\u001b[0m \u001b[0mzcorr\u001b[0m\u001b[0;34m(\u001b[0m\u001b[0mXR\u001b[0m\u001b[0;34m.\u001b[0m\u001b[0mZ\u001b[0m\u001b[0;34m)\u001b[0m\u001b[0;34m\u001b[0m\u001b[0m\n",
      "\u001b[0;31mNameError\u001b[0m: name 'zcorr' is not defined"
     ]
    }
   ],
   "source": [
    "Erange = 4e+3, 11e3\n",
    "Ez = fXR.S2e * zcorr(fXR.Z) \n",
    "Ez2 = XR.S2e * zcorr(XR.Z) "
   ]
  },
  {
   "cell_type": "code",
   "execution_count": 58,
   "metadata": {
    "collapsed": false
   },
   "outputs": [
    {
     "ename": "NameError",
     "evalue": "name 'Ez' is not defined",
     "output_type": "error",
     "traceback": [
      "\u001b[0;31m---------------------------------------------------------------------------\u001b[0m",
      "\u001b[0;31mNameError\u001b[0m                                 Traceback (most recent call last)",
      "\u001b[0;32m<ipython-input-58-a358e19d77f2>\u001b[0m in \u001b[0;36m<module>\u001b[0;34m()\u001b[0m\n\u001b[1;32m      2\u001b[0m \u001b[0mplt\u001b[0m\u001b[0;34m.\u001b[0m\u001b[0mfigure\u001b[0m\u001b[0;34m(\u001b[0m\u001b[0mfigsize\u001b[0m\u001b[0;34m=\u001b[0m\u001b[0mfigsize\u001b[0m\u001b[0;34m)\u001b[0m\u001b[0;34m\u001b[0m\u001b[0m\n\u001b[1;32m      3\u001b[0m \u001b[0max\u001b[0m \u001b[0;34m=\u001b[0m \u001b[0mplt\u001b[0m\u001b[0;34m.\u001b[0m\u001b[0msubplot\u001b[0m\u001b[0;34m(\u001b[0m\u001b[0;36m1\u001b[0m\u001b[0;34m,\u001b[0m \u001b[0;36m2\u001b[0m\u001b[0;34m,\u001b[0m \u001b[0;36m1\u001b[0m\u001b[0;34m)\u001b[0m\u001b[0;34m\u001b[0m\u001b[0m\n\u001b[0;32m----> 4\u001b[0;31m \u001b[0my\u001b[0m\u001b[0;34m,\u001b[0m \u001b[0mx\u001b[0m\u001b[0;34m,\u001b[0m \u001b[0m_\u001b[0m \u001b[0;34m=\u001b[0m \u001b[0mplt\u001b[0m\u001b[0;34m.\u001b[0m\u001b[0mhist\u001b[0m\u001b[0;34m(\u001b[0m\u001b[0mEz\u001b[0m\u001b[0;34m,\u001b[0m \u001b[0;36m50\u001b[0m\u001b[0;34m,\u001b[0m \u001b[0mrange\u001b[0m\u001b[0;34m=\u001b[0m\u001b[0mErange\u001b[0m\u001b[0;34m)\u001b[0m\u001b[0;34m\u001b[0m\u001b[0m\n\u001b[0m\u001b[1;32m      5\u001b[0m \u001b[0mlabels\u001b[0m\u001b[0;34m(\u001b[0m\u001b[0;34m\"S2 energy (pes)\"\u001b[0m\u001b[0;34m,\u001b[0m \u001b[0;34m\"Entries\"\u001b[0m\u001b[0;34m)\u001b[0m\u001b[0;34m\u001b[0m\u001b[0m\n\u001b[1;32m      6\u001b[0m \u001b[0mplt\u001b[0m\u001b[0;34m.\u001b[0m\u001b[0mtitle\u001b[0m\u001b[0;34m(\u001b[0m\u001b[0;34m'E corrected by Z (fiducial)'\u001b[0m\u001b[0;34m)\u001b[0m\u001b[0;34m\u001b[0m\u001b[0m\n",
      "\u001b[0;31mNameError\u001b[0m: name 'Ez' is not defined"
     ]
    },
    {
     "data": {
      "image/png": "[encoded data removed]",
      "text/plain": [
       "<matplotlib.figure.Figure at 0x119170ac8>"
      ]
     },
     "metadata": {},
     "output_type": "display_data"
    }
   ],
   "source": [
    "figsize=(12,8)\n",
    "plt.figure(figsize=figsize)\n",
    "ax = plt.subplot(1, 2, 1)\n",
    "y, x, _ = plt.hist(Ez, 50, range=Erange)\n",
    "labels(\"S2 energy (pes)\", \"Entries\")\n",
    "plt.title('E corrected by Z (fiducial)')\n",
    "\n",
    "x    = x[:-1] + np.diff(x) * 0.5\n",
    "sel  = fitf.in_range(x, 7000, 9000)\n",
    "x, y = x[sel], y[sel]\n",
    "f    = fitf.fit(fitf.gauss, x, y, (1e3, 8e3, 200))\n",
    "plt.plot(x, f.fn(x), fitOpt)\n",
    "plt.text(Erange[0], max(y)/2, gausstext(f))\n",
    "\n",
    "ax = plt.subplot(1, 2, 2)\n",
    "\n",
    "y, x, _ = plt.hist(Ez2, 25, range=Erange)\n",
    "labels(\"S2 energy (pes)\", \"Entries\")\n",
    "plt.title('E corrected by Z (full)')\n",
    "\n",
    "x    = x[:-1] + np.diff(x) * 0.5\n",
    "sel  = fitf.in_range(x, 7000, 8500)\n",
    "x, y = x[sel], y[sel]\n",
    "f    = fitf.fit(fitf.gauss, x, y, (1e3, 8e3, 200))\n",
    "plt.plot(x, f.fn(x), fitOpt)\n",
    "plt.text(Erange[0], max(y)/2, gausstext(f))"
   ]
  },
  {
   "cell_type": "code",
   "execution_count": 59,
   "metadata": {
    "collapsed": false
   },
   "outputs": [
    {
     "ename": "NameError",
     "evalue": "name 'zcorr' is not defined",
     "output_type": "error",
     "traceback": [
      "\u001b[0;31m---------------------------------------------------------------------------\u001b[0m",
      "\u001b[0;31mNameError\u001b[0m                                 Traceback (most recent call last)",
      "\u001b[0;32m<ipython-input-59-405ae0751041>\u001b[0m in \u001b[0;36m<module>\u001b[0;34m()\u001b[0m\n\u001b[1;32m      5\u001b[0m \u001b[0mErange\u001b[0m \u001b[0;34m=\u001b[0m  \u001b[0;36m4e3\u001b[0m\u001b[0;34m,\u001b[0m \u001b[0;36m9e3\u001b[0m\u001b[0;34m\u001b[0m\u001b[0m\n\u001b[1;32m      6\u001b[0m \u001b[0;34m\u001b[0m\u001b[0m\n\u001b[0;32m----> 7\u001b[0;31m \u001b[0mE\u001b[0m \u001b[0;34m=\u001b[0m \u001b[0mXR\u001b[0m\u001b[0;34m.\u001b[0m\u001b[0mS2e\u001b[0m \u001b[0;34m*\u001b[0m \u001b[0mzcorr\u001b[0m\u001b[0;34m(\u001b[0m\u001b[0mXR\u001b[0m\u001b[0;34m.\u001b[0m\u001b[0mZ\u001b[0m\u001b[0;34m)\u001b[0m\u001b[0;34m\u001b[0m\u001b[0m\n\u001b[0m\u001b[1;32m      8\u001b[0m \u001b[0;34m\u001b[0m\u001b[0m\n\u001b[1;32m      9\u001b[0m \u001b[0mpf\u001b[0m\u001b[0;34m,\u001b[0m \u001b[0m_\u001b[0m\u001b[0;34m,\u001b[0m \u001b[0mcb\u001b[0m \u001b[0;34m=\u001b[0m \u001b[0mprofile_and_scatter\u001b[0m\u001b[0;34m(\u001b[0m\u001b[0mXR\u001b[0m\u001b[0;34m.\u001b[0m\u001b[0mX\u001b[0m\u001b[0;34m,\u001b[0m \u001b[0mXR\u001b[0m\u001b[0;34m.\u001b[0m\u001b[0mY\u001b[0m\u001b[0;34m,\u001b[0m \u001b[0mE\u001b[0m\u001b[0;34m,\u001b[0m \u001b[0;34m(\u001b[0m\u001b[0;36m50\u001b[0m\u001b[0;34m,\u001b[0m \u001b[0;36m50\u001b[0m\u001b[0;34m)\u001b[0m\u001b[0;34m,\u001b[0m \u001b[0mxrange\u001b[0m\u001b[0;34m=\u001b[0m\u001b[0mxrange\u001b[0m\u001b[0;34m,\u001b[0m \u001b[0myrange\u001b[0m\u001b[0;34m=\u001b[0m\u001b[0myrange\u001b[0m\u001b[0;34m)\u001b[0m\u001b[0;34m\u001b[0m\u001b[0m\n",
      "\u001b[0;31mNameError\u001b[0m: name 'zcorr' is not defined"
     ]
    }
   ],
   "source": [
    "xrange = -215, 215\n",
    "yrange = -215, 215\n",
    "rrange =    0, 215\n",
    "prange = - pi,  pi\n",
    "Erange =  4e3, 9e3\n",
    "\n",
    "E = XR.S2e * zcorr(XR.Z)\n",
    "\n",
    "pf, _, cb = profile_and_scatter(XR.X, XR.Y, E, (50, 50), xrange=xrange, yrange=yrange)\n",
    "cb.set_label(\"E (pes)\")\n",
    "labels(\"x (mm)\", \"y (mm)\")"
   ]
  },
  {
   "cell_type": "code",
   "execution_count": 60,
   "metadata": {
    "collapsed": false
   },
   "outputs": [
    {
     "ename": "NameError",
     "evalue": "name 'E' is not defined",
     "output_type": "error",
     "traceback": [
      "\u001b[0;31m---------------------------------------------------------------------------\u001b[0m",
      "\u001b[0;31mNameError\u001b[0m                                 Traceback (most recent call last)",
      "\u001b[0;32m<ipython-input-60-8c6d93c968ed>\u001b[0m in \u001b[0;36m<module>\u001b[0;34m()\u001b[0m\n\u001b[0;32m----> 1\u001b[0;31m \u001b[0m_\u001b[0m\u001b[0;34m,\u001b[0m \u001b[0m_\u001b[0m\u001b[0;34m,\u001b[0m \u001b[0mcb\u001b[0m \u001b[0;34m=\u001b[0m \u001b[0mprofile_and_scatter\u001b[0m\u001b[0;34m(\u001b[0m\u001b[0mXR\u001b[0m\u001b[0;34m.\u001b[0m\u001b[0mR\u001b[0m\u001b[0;34m,\u001b[0m \u001b[0mXR\u001b[0m\u001b[0;34m.\u001b[0m\u001b[0mPhi\u001b[0m\u001b[0;34m,\u001b[0m \u001b[0mE\u001b[0m\u001b[0;34m,\u001b[0m \u001b[0;34m(\u001b[0m\u001b[0;36m50\u001b[0m\u001b[0;34m,\u001b[0m \u001b[0;36m50\u001b[0m\u001b[0;34m)\u001b[0m\u001b[0;34m,\u001b[0m \u001b[0mxrange\u001b[0m\u001b[0;34m=\u001b[0m\u001b[0mrrange\u001b[0m\u001b[0;34m,\u001b[0m \u001b[0myrange\u001b[0m\u001b[0;34m=\u001b[0m\u001b[0mprange\u001b[0m\u001b[0;34m)\u001b[0m\u001b[0;34m\u001b[0m\u001b[0m\n\u001b[0m\u001b[1;32m      2\u001b[0m \u001b[0mcb\u001b[0m\u001b[0;34m.\u001b[0m\u001b[0mset_label\u001b[0m\u001b[0;34m(\u001b[0m\u001b[0;34m\"E (pes)\"\u001b[0m\u001b[0;34m)\u001b[0m\u001b[0;34m\u001b[0m\u001b[0m\n\u001b[1;32m      3\u001b[0m \u001b[0mlabels\u001b[0m\u001b[0;34m(\u001b[0m\u001b[0;34m\"r (mm)\"\u001b[0m\u001b[0;34m,\u001b[0m \u001b[0;34m\"$\\phi$ (rad)\"\u001b[0m\u001b[0;34m)\u001b[0m\u001b[0;34m\u001b[0m\u001b[0m\n",
      "\u001b[0;31mNameError\u001b[0m: name 'E' is not defined"
     ]
    }
   ],
   "source": [
    "_, _, cb = profile_and_scatter(XR.R, XR.Phi, E, (50, 50), xrange=rrange, yrange=prange)\n",
    "cb.set_label(\"E (pes)\")\n",
    "labels(\"r (mm)\", \"$\\phi$ (rad)\")"
   ]
  },
  {
   "cell_type": "code",
   "execution_count": 61,
   "metadata": {
    "collapsed": false
   },
   "outputs": [
    {
     "ename": "NameError",
     "evalue": "name 'E' is not defined",
     "output_type": "error",
     "traceback": [
      "\u001b[0;31m---------------------------------------------------------------------------\u001b[0m",
      "\u001b[0;31mNameError\u001b[0m                                 Traceback (most recent call last)",
      "\u001b[0;32m<ipython-input-61-d32ab9dc34fe>\u001b[0m in \u001b[0;36m<module>\u001b[0;34m()\u001b[0m\n\u001b[0;32m----> 1\u001b[0;31m \u001b[0mhist2d\u001b[0m\u001b[0;34m(\u001b[0m\u001b[0mXR\u001b[0m\u001b[0;34m.\u001b[0m\u001b[0mR\u001b[0m\u001b[0;34m,\u001b[0m \u001b[0mE\u001b[0m\u001b[0;34m,\u001b[0m \u001b[0;34m(\u001b[0m\u001b[0;36m50\u001b[0m\u001b[0;34m,\u001b[0m \u001b[0;36m50\u001b[0m\u001b[0;34m)\u001b[0m\u001b[0;34m,\u001b[0m \u001b[0mrange\u001b[0m\u001b[0;34m=\u001b[0m\u001b[0;34m(\u001b[0m\u001b[0mrrange\u001b[0m\u001b[0;34m,\u001b[0m \u001b[0mErange\u001b[0m\u001b[0;34m)\u001b[0m\u001b[0;34m,\u001b[0m \u001b[0mweights\u001b[0m\u001b[0;34m=\u001b[0m\u001b[0mE\u001b[0m\u001b[0;34m)\u001b[0m\u001b[0;34m\u001b[0m\u001b[0m\n\u001b[0m\u001b[1;32m      2\u001b[0m \u001b[0mx\u001b[0m\u001b[0;34m,\u001b[0m \u001b[0my\u001b[0m\u001b[0;34m,\u001b[0m \u001b[0m_\u001b[0m \u001b[0;34m=\u001b[0m \u001b[0mfitf\u001b[0m\u001b[0;34m.\u001b[0m\u001b[0mprofileX\u001b[0m\u001b[0;34m(\u001b[0m\u001b[0mXR\u001b[0m\u001b[0;34m.\u001b[0m\u001b[0mR\u001b[0m\u001b[0;34m,\u001b[0m \u001b[0mE\u001b[0m\u001b[0;34m,\u001b[0m \u001b[0;36m50\u001b[0m\u001b[0;34m,\u001b[0m \u001b[0mxrange\u001b[0m\u001b[0;34m=\u001b[0m\u001b[0mrrange\u001b[0m\u001b[0;34m,\u001b[0m \u001b[0myrange\u001b[0m\u001b[0;34m=\u001b[0m\u001b[0mErange\u001b[0m\u001b[0;34m)\u001b[0m\u001b[0;34m\u001b[0m\u001b[0m\n\u001b[1;32m      3\u001b[0m \u001b[0mplt\u001b[0m\u001b[0;34m.\u001b[0m\u001b[0mplot\u001b[0m\u001b[0;34m(\u001b[0m\u001b[0mx\u001b[0m\u001b[0;34m,\u001b[0m \u001b[0my\u001b[0m\u001b[0;34m,\u001b[0m \u001b[0mprofOpt\u001b[0m\u001b[0;34m)\u001b[0m\u001b[0;34m\u001b[0m\u001b[0m\n\u001b[1;32m      4\u001b[0m \u001b[0mlabels\u001b[0m\u001b[0;34m(\u001b[0m\u001b[0;34m\"r (mm)\"\u001b[0m\u001b[0;34m,\u001b[0m \u001b[0;34m\"S2 energy (pes)\"\u001b[0m\u001b[0;34m)\u001b[0m\u001b[0;34m\u001b[0m\u001b[0m\n",
      "\u001b[0;31mNameError\u001b[0m: name 'E' is not defined"
     ]
    }
   ],
   "source": [
    "hist2d(XR.R, E, (50, 50), range=(rrange, Erange), weights=E)\n",
    "x, y, _ = fitf.profileX(XR.R, E, 50, xrange=rrange, yrange=Erange)\n",
    "plt.plot(x, y, profOpt)\n",
    "labels(\"r (mm)\", \"S2 energy (pes)\")"
   ]
  },
  {
   "cell_type": "code",
   "execution_count": 62,
   "metadata": {
    "collapsed": false
   },
   "outputs": [
    {
     "ename": "NameError",
     "evalue": "name 'E' is not defined",
     "output_type": "error",
     "traceback": [
      "\u001b[0;31m---------------------------------------------------------------------------\u001b[0m",
      "\u001b[0;31mNameError\u001b[0m                                 Traceback (most recent call last)",
      "\u001b[0;32m<ipython-input-62-53bbceb264c8>\u001b[0m in \u001b[0;36m<module>\u001b[0;34m()\u001b[0m\n\u001b[0;32m----> 1\u001b[0;31m \u001b[0mhist2d\u001b[0m\u001b[0;34m(\u001b[0m\u001b[0mXR\u001b[0m\u001b[0;34m.\u001b[0m\u001b[0mPhi\u001b[0m\u001b[0;34m,\u001b[0m \u001b[0mE\u001b[0m\u001b[0;34m,\u001b[0m \u001b[0;34m(\u001b[0m\u001b[0;36m50\u001b[0m\u001b[0;34m,\u001b[0m \u001b[0;36m50\u001b[0m\u001b[0;34m)\u001b[0m\u001b[0;34m,\u001b[0m \u001b[0mrange\u001b[0m\u001b[0;34m=\u001b[0m\u001b[0;34m(\u001b[0m\u001b[0mprange\u001b[0m\u001b[0;34m,\u001b[0m \u001b[0mErange\u001b[0m\u001b[0;34m)\u001b[0m\u001b[0;34m,\u001b[0m \u001b[0mweights\u001b[0m\u001b[0;34m=\u001b[0m\u001b[0mE\u001b[0m\u001b[0;34m)\u001b[0m\u001b[0;34m\u001b[0m\u001b[0m\n\u001b[0m\u001b[1;32m      2\u001b[0m \u001b[0mx\u001b[0m\u001b[0;34m,\u001b[0m \u001b[0my\u001b[0m\u001b[0;34m,\u001b[0m \u001b[0m_\u001b[0m \u001b[0;34m=\u001b[0m \u001b[0mfitf\u001b[0m\u001b[0;34m.\u001b[0m\u001b[0mprofileX\u001b[0m\u001b[0;34m(\u001b[0m\u001b[0mXR\u001b[0m\u001b[0;34m.\u001b[0m\u001b[0mPhi\u001b[0m\u001b[0;34m,\u001b[0m \u001b[0mE\u001b[0m\u001b[0;34m,\u001b[0m \u001b[0;36m50\u001b[0m\u001b[0;34m,\u001b[0m \u001b[0mxrange\u001b[0m\u001b[0;34m=\u001b[0m\u001b[0mprange\u001b[0m\u001b[0;34m,\u001b[0m \u001b[0myrange\u001b[0m\u001b[0;34m=\u001b[0m\u001b[0mErange\u001b[0m\u001b[0;34m)\u001b[0m\u001b[0;34m\u001b[0m\u001b[0m\n\u001b[1;32m      3\u001b[0m \u001b[0mplt\u001b[0m\u001b[0;34m.\u001b[0m\u001b[0mplot\u001b[0m\u001b[0;34m(\u001b[0m\u001b[0mx\u001b[0m\u001b[0;34m,\u001b[0m \u001b[0my\u001b[0m\u001b[0;34m,\u001b[0m \u001b[0mprofOpt\u001b[0m\u001b[0;34m)\u001b[0m\u001b[0;34m\u001b[0m\u001b[0m\n\u001b[1;32m      4\u001b[0m \u001b[0mlabels\u001b[0m\u001b[0;34m(\u001b[0m\u001b[0;34m\"phi (rad)\"\u001b[0m\u001b[0;34m,\u001b[0m \u001b[0;34m\"S2 energy (pes)\"\u001b[0m\u001b[0;34m)\u001b[0m\u001b[0;34m\u001b[0m\u001b[0m\n",
      "\u001b[0;31mNameError\u001b[0m: name 'E' is not defined"
     ]
    }
   ],
   "source": [
    "hist2d(XR.Phi, E, (50, 50), range=(prange, Erange), weights=E)\n",
    "x, y, _ = fitf.profileX(XR.Phi, E, 50, xrange=prange, yrange=Erange)\n",
    "plt.plot(x, y, profOpt)\n",
    "labels(\"phi (rad)\", \"S2 energy (pes)\")"
   ]
  },
  {
   "cell_type": "code",
   "execution_count": 63,
   "metadata": {
    "collapsed": false
   },
   "outputs": [
    {
     "ename": "NameError",
     "evalue": "name 'pf' is not defined",
     "output_type": "error",
     "traceback": [
      "\u001b[0;31m---------------------------------------------------------------------------\u001b[0m",
      "\u001b[0;31mNameError\u001b[0m                                 Traceback (most recent call last)",
      "\u001b[0;32m<ipython-input-63-a7f1575932c5>\u001b[0m in \u001b[0;36m<module>\u001b[0;34m()\u001b[0m\n\u001b[1;32m     12\u001b[0m         \u001b[0;32mreturn\u001b[0m \u001b[0meref\u001b[0m\u001b[0;34m/\u001b[0m \u001b[0me\u001b[0m\u001b[0;34m\u001b[0m\u001b[0m\n\u001b[1;32m     13\u001b[0m     \u001b[0;32mreturn\u001b[0m \u001b[0mxycorr\u001b[0m\u001b[0;34m\u001b[0m\u001b[0m\n\u001b[0;32m---> 14\u001b[0;31m \u001b[0mxycorr\u001b[0m \u001b[0;34m=\u001b[0m \u001b[0mget_xycorr\u001b[0m\u001b[0;34m(\u001b[0m\u001b[0;34m*\u001b[0m\u001b[0mpf\u001b[0m\u001b[0;34m[\u001b[0m\u001b[0;34m:\u001b[0m\u001b[0;34m-\u001b[0m\u001b[0;36m1\u001b[0m\u001b[0;34m]\u001b[0m\u001b[0;34m)\u001b[0m\u001b[0;34m\u001b[0m\u001b[0m\n\u001b[0m",
      "\u001b[0;31mNameError\u001b[0m: name 'pf' is not defined"
     ]
    }
   ],
   "source": [
    "def get_xycorr(xs, ys, es, eref=None):\n",
    "    if eref is None:\n",
    "        eref = es[es.shape[0]//2, es.shape[1]//2]\n",
    "    xs   = xs.reshape(xs.size, 1)\n",
    "    ys   = ys.reshape(ys.size, 1)\n",
    "    print(eref)\n",
    "    def xycorr(x, y):\n",
    "        x_closest = np.apply_along_axis(np.argmin, 0, abs(x-xs))\n",
    "        y_closest = np.apply_along_axis(np.argmin, 0, abs(y-ys))\n",
    "        e = es[x_closest, y_closest]\n",
    "        e[e<1e3] = eref\n",
    "        return eref/ e\n",
    "    return xycorr\n",
    "xycorr = get_xycorr(*pf[:-1])"
   ]
  },
  {
   "cell_type": "code",
   "execution_count": 64,
   "metadata": {
    "collapsed": false
   },
   "outputs": [
    {
     "ename": "NameError",
     "evalue": "name 'zcorr' is not defined",
     "output_type": "error",
     "traceback": [
      "\u001b[0;31m---------------------------------------------------------------------------\u001b[0m",
      "\u001b[0;31mNameError\u001b[0m                                 Traceback (most recent call last)",
      "\u001b[0;32m<ipython-input-64-98e1d5e2fe58>\u001b[0m in \u001b[0;36m<module>\u001b[0;34m()\u001b[0m\n\u001b[1;32m      5\u001b[0m \u001b[0mErange\u001b[0m \u001b[0;34m=\u001b[0m  \u001b[0;36m4e3\u001b[0m\u001b[0;34m,\u001b[0m \u001b[0;36m11e3\u001b[0m\u001b[0;34m\u001b[0m\u001b[0m\n\u001b[1;32m      6\u001b[0m \u001b[0;31m#Erange = 6500, 7500\u001b[0m\u001b[0;34m\u001b[0m\u001b[0;34m\u001b[0m\u001b[0m\n\u001b[0;32m----> 7\u001b[0;31m \u001b[0mE\u001b[0m  \u001b[0;34m=\u001b[0m \u001b[0mXR\u001b[0m\u001b[0;34m.\u001b[0m\u001b[0mS2e\u001b[0m \u001b[0;34m*\u001b[0m \u001b[0mzcorr\u001b[0m\u001b[0;34m(\u001b[0m\u001b[0mXR\u001b[0m\u001b[0;34m.\u001b[0m\u001b[0mZ\u001b[0m\u001b[0;34m)\u001b[0m \u001b[0;34m*\u001b[0m \u001b[0mxycorr\u001b[0m\u001b[0;34m(\u001b[0m\u001b[0mXR\u001b[0m\u001b[0;34m.\u001b[0m\u001b[0mX\u001b[0m\u001b[0;34m.\u001b[0m\u001b[0mvalues\u001b[0m\u001b[0;34m,\u001b[0m \u001b[0mXR\u001b[0m\u001b[0;34m.\u001b[0m\u001b[0mY\u001b[0m\u001b[0;34m.\u001b[0m\u001b[0mvalues\u001b[0m\u001b[0;34m)\u001b[0m\u001b[0;34m\u001b[0m\u001b[0m\n\u001b[0m\u001b[1;32m      8\u001b[0m \u001b[0;34m\u001b[0m\u001b[0m\n\u001b[1;32m      9\u001b[0m \u001b[0my\u001b[0m\u001b[0;34m,\u001b[0m \u001b[0mx\u001b[0m\u001b[0;34m,\u001b[0m \u001b[0m_\u001b[0m \u001b[0;34m=\u001b[0m \u001b[0mhist\u001b[0m\u001b[0;34m(\u001b[0m\u001b[0mE\u001b[0m\u001b[0;34m,\u001b[0m \u001b[0;36m50\u001b[0m\u001b[0;34m,\u001b[0m \u001b[0mErange\u001b[0m\u001b[0;34m)\u001b[0m\u001b[0;34m\u001b[0m\u001b[0m\n",
      "\u001b[0;31mNameError\u001b[0m: name 'zcorr' is not defined"
     ]
    }
   ],
   "source": [
    "xrange = -215, 215\n",
    "yrange = -215, 215\n",
    "rrange =    0, 215\n",
    "prange = - pi,  pi\n",
    "Erange =  4e3, 11e3\n",
    "#Erange = 6500, 7500\n",
    "E  = XR.S2e * zcorr(XR.Z) * xycorr(XR.X.values, XR.Y.values)\n",
    "\n",
    "y, x, _ = hist(E, 50, Erange)\n",
    "\n",
    "x = x[:-1] + np.diff(x) * 0.5\n",
    "f = fitf.fit(fitf.gauss, x, y, (1e5, 7e3, 5e2), fit_range=(6500, 8000))\n",
    "plt.plot(x, f.fn(x), fitOpt)\n",
    "plt.text(Erange[0], max(y)/2, gausstext(f.values))\n",
    "\n",
    "labels(\"E (pes)\", \"Entries\")"
   ]
  },
  {
   "cell_type": "code",
   "execution_count": null,
   "metadata": {
    "collapsed": true
   },
   "outputs": [],
   "source": []
  },
  {
   "cell_type": "code",
   "execution_count": 65,
   "metadata": {
    "collapsed": false
   },
   "outputs": [
    {
     "ename": "NameError",
     "evalue": "name 'E' is not defined",
     "output_type": "error",
     "traceback": [
      "\u001b[0;31m---------------------------------------------------------------------------\u001b[0m",
      "\u001b[0;31mNameError\u001b[0m                                 Traceback (most recent call last)",
      "\u001b[0;32m<ipython-input-65-b01e17d953ef>\u001b[0m in \u001b[0;36m<module>\u001b[0;34m()\u001b[0m\n\u001b[1;32m      3\u001b[0m \u001b[0;34m\u001b[0m\u001b[0m\n\u001b[1;32m      4\u001b[0m \u001b[0;34m\u001b[0m\u001b[0m\n\u001b[0;32m----> 5\u001b[0;31m \u001b[0mhist2d\u001b[0m\u001b[0;34m(\u001b[0m\u001b[0mXR\u001b[0m\u001b[0;34m.\u001b[0m\u001b[0mR\u001b[0m\u001b[0;34m,\u001b[0m \u001b[0mE\u001b[0m\u001b[0;34m,\u001b[0m \u001b[0;34m(\u001b[0m\u001b[0;36m50\u001b[0m\u001b[0;34m,\u001b[0m \u001b[0;36m50\u001b[0m\u001b[0;34m)\u001b[0m\u001b[0;34m,\u001b[0m \u001b[0mrange\u001b[0m\u001b[0;34m=\u001b[0m\u001b[0;34m(\u001b[0m\u001b[0mrrange\u001b[0m\u001b[0;34m,\u001b[0m \u001b[0mErange\u001b[0m\u001b[0;34m)\u001b[0m\u001b[0;34m,\u001b[0m \u001b[0mweights\u001b[0m\u001b[0;34m=\u001b[0m\u001b[0mE\u001b[0m\u001b[0;34m)\u001b[0m\u001b[0;34m\u001b[0m\u001b[0m\n\u001b[0m\u001b[1;32m      6\u001b[0m \u001b[0mx\u001b[0m\u001b[0;34m,\u001b[0m \u001b[0my\u001b[0m\u001b[0;34m,\u001b[0m \u001b[0m_\u001b[0m \u001b[0;34m=\u001b[0m \u001b[0mfitf\u001b[0m\u001b[0;34m.\u001b[0m\u001b[0mprofileX\u001b[0m\u001b[0;34m(\u001b[0m\u001b[0mXR\u001b[0m\u001b[0;34m.\u001b[0m\u001b[0mR\u001b[0m\u001b[0;34m,\u001b[0m \u001b[0mE\u001b[0m\u001b[0;34m,\u001b[0m \u001b[0;36m50\u001b[0m\u001b[0;34m,\u001b[0m \u001b[0mxrange\u001b[0m\u001b[0;34m=\u001b[0m\u001b[0mrrange\u001b[0m\u001b[0;34m,\u001b[0m \u001b[0myrange\u001b[0m\u001b[0;34m=\u001b[0m\u001b[0mErange\u001b[0m\u001b[0;34m)\u001b[0m\u001b[0;34m\u001b[0m\u001b[0m\n\u001b[1;32m      7\u001b[0m \u001b[0mplt\u001b[0m\u001b[0;34m.\u001b[0m\u001b[0mplot\u001b[0m\u001b[0;34m(\u001b[0m\u001b[0mx\u001b[0m\u001b[0;34m,\u001b[0m \u001b[0my\u001b[0m\u001b[0;34m,\u001b[0m \u001b[0mprofOpt\u001b[0m\u001b[0;34m)\u001b[0m\u001b[0;34m\u001b[0m\u001b[0m\n",
      "\u001b[0;31mNameError\u001b[0m: name 'E' is not defined"
     ]
    }
   ],
   "source": [
    "\n",
    "\n",
    "\n",
    "\n",
    "hist2d(XR.R, E, (50, 50), range=(rrange, Erange), weights=E)\n",
    "x, y, _ = fitf.profileX(XR.R, E, 50, xrange=rrange, yrange=Erange)\n",
    "plt.plot(x, y, profOpt)\n",
    "labels(\"r (mm)\", \"S2 energy (pes)\")\n",
    "save(\"EvsR\")\n",
    "\n",
    "hist2d(XR.Phi, E, (50, 50), range=(prange, Erange), weights=E)\n",
    "x, y, _ = fitf.profileX(XR.Phi, E, 50, xrange=prange, yrange=Erange)\n",
    "plt.plot(x, y, profOpt)\n",
    "labels(\"phi (rad)\", \"S2 energy (pes)\")\n",
    "save(\"EvsPhi\")"
   ]
  },
  {
   "cell_type": "code",
   "execution_count": 66,
   "metadata": {
    "collapsed": false
   },
   "outputs": [
    {
     "ename": "NameError",
     "evalue": "name 'Ez2' is not defined",
     "output_type": "error",
     "traceback": [
      "\u001b[0;31m---------------------------------------------------------------------------\u001b[0m",
      "\u001b[0;31mNameError\u001b[0m                                 Traceback (most recent call last)",
      "\u001b[0;32m<ipython-input-66-43623408587e>\u001b[0m in \u001b[0;36m<module>\u001b[0;34m()\u001b[0m\n\u001b[1;32m     17\u001b[0m \u001b[0;34m\u001b[0m\u001b[0m\n\u001b[1;32m     18\u001b[0m \u001b[0max\u001b[0m \u001b[0;34m=\u001b[0m \u001b[0mplt\u001b[0m\u001b[0;34m.\u001b[0m\u001b[0msubplot\u001b[0m\u001b[0;34m(\u001b[0m\u001b[0;36m1\u001b[0m\u001b[0;34m,\u001b[0m \u001b[0;36m2\u001b[0m\u001b[0;34m,\u001b[0m \u001b[0;36m2\u001b[0m\u001b[0;34m)\u001b[0m\u001b[0;34m\u001b[0m\u001b[0m\n\u001b[0;32m---> 19\u001b[0;31m \u001b[0mx\u001b[0m\u001b[0;34m,\u001b[0m \u001b[0my\u001b[0m\u001b[0;34m,\u001b[0m \u001b[0mE\u001b[0m\u001b[0;34m,\u001b[0m \u001b[0mEe\u001b[0m \u001b[0;34m=\u001b[0m \u001b[0mfitf\u001b[0m\u001b[0;34m.\u001b[0m\u001b[0mprofileXY\u001b[0m\u001b[0;34m(\u001b[0m\u001b[0mcrXR\u001b[0m\u001b[0;34m.\u001b[0m\u001b[0mX\u001b[0m\u001b[0;34m,\u001b[0m \u001b[0mcrXR\u001b[0m\u001b[0;34m.\u001b[0m\u001b[0mY\u001b[0m\u001b[0;34m,\u001b[0m \u001b[0mEz2\u001b[0m\u001b[0;34m,\u001b[0m \u001b[0;34m*\u001b[0m\u001b[0mnbin\u001b[0m\u001b[0;34m,\u001b[0m \u001b[0mxrange\u001b[0m\u001b[0;34m=\u001b[0m\u001b[0mxrange\u001b[0m\u001b[0;34m,\u001b[0m \u001b[0myrange\u001b[0m\u001b[0;34m=\u001b[0m\u001b[0myrange\u001b[0m\u001b[0;34m)\u001b[0m\u001b[0;34m\u001b[0m\u001b[0m\n\u001b[0m\u001b[1;32m     20\u001b[0m \u001b[0mx_\u001b[0m \u001b[0;34m=\u001b[0m \u001b[0mnp\u001b[0m\u001b[0;34m.\u001b[0m\u001b[0mrepeat\u001b[0m\u001b[0;34m(\u001b[0m\u001b[0mx\u001b[0m\u001b[0;34m,\u001b[0m \u001b[0mx\u001b[0m\u001b[0;34m.\u001b[0m\u001b[0msize\u001b[0m\u001b[0;34m)\u001b[0m\u001b[0;34m\u001b[0m\u001b[0m\n\u001b[1;32m     21\u001b[0m \u001b[0my_\u001b[0m \u001b[0;34m=\u001b[0m \u001b[0mnp\u001b[0m\u001b[0;34m.\u001b[0m\u001b[0mtile\u001b[0m  \u001b[0;34m(\u001b[0m\u001b[0my\u001b[0m\u001b[0;34m,\u001b[0m \u001b[0my\u001b[0m\u001b[0;34m.\u001b[0m\u001b[0msize\u001b[0m\u001b[0;34m)\u001b[0m\u001b[0;34m\u001b[0m\u001b[0m\n",
      "\u001b[0;31mNameError\u001b[0m: name 'Ez2' is not defined"
     ]
    },
    {
     "data": {
      "image/png": "[encoded data removed]",
      "text/plain": [
       "<matplotlib.figure.Figure at 0x1189f9940>"
      ]
     },
     "metadata": {},
     "output_type": "display_data"
    }
   ],
   "source": [
    "xrange = -100, -10\n",
    "yrange = -90, 90\n",
    "nbin = (10,10)\n",
    "figsize=(16,6)\n",
    "plt.figure(figsize=figsize)\n",
    "ax = plt.subplot(1, 2, 1)\n",
    "\n",
    "x, y, E, Ee = fitf.profileXY(crXR.X, crXR.Y, crXR.S2e, *nbin, xrange=xrange, yrange=yrange)\n",
    "x_ = np.repeat(x, x.size)\n",
    "y_ = np.tile  (y, y.size)\n",
    "z_ = E.flatten()\n",
    "plt.scatter(x_, y_, c=z_, marker=\"s\") \n",
    "cb = plt.colorbar()\n",
    "cb.set_label(\"E (pes)\")\n",
    "labels(\"x (mm)\", \"y (mm)\")\n",
    "plt.title('2d Profile E uncorrected')\n",
    "\n",
    "ax = plt.subplot(1, 2, 2)\n",
    "x, y, E, Ee = fitf.profileXY(crXR.X, crXR.Y, Ez2, *nbin, xrange=xrange, yrange=yrange)\n",
    "x_ = np.repeat(x, x.size)\n",
    "y_ = np.tile  (y, y.size)\n",
    "z_ = E.flatten()\n",
    "plt.scatter(x_, y_, c=z_, marker=\"s\") \n",
    "cb = plt.colorbar()\n",
    "cb.set_label(\"E (pes)\")\n",
    "labels(\"x (mm)\", \"y (mm)\")\n",
    "plt.title('2d Profile E corrected')\n"
   ]
  },
  {
   "cell_type": "code",
   "execution_count": null,
   "metadata": {
    "collapsed": false
   },
   "outputs": [],
   "source": [
    "E"
   ]
  },
  {
   "cell_type": "code",
   "execution_count": null,
   "metadata": {
    "collapsed": true
   },
   "outputs": [],
   "source": [
    "eref = E[E.shape[0]//2, E.shape[1]//2]"
   ]
  },
  {
   "cell_type": "code",
   "execution_count": 67,
   "metadata": {
    "collapsed": false
   },
   "outputs": [
    {
     "ename": "NameError",
     "evalue": "name 'eref' is not defined",
     "output_type": "error",
     "traceback": [
      "\u001b[0;31m---------------------------------------------------------------------------\u001b[0m",
      "\u001b[0;31mNameError\u001b[0m                                 Traceback (most recent call last)",
      "\u001b[0;32m<ipython-input-67-623ce8025da3>\u001b[0m in \u001b[0;36m<module>\u001b[0;34m()\u001b[0m\n\u001b[0;32m----> 1\u001b[0;31m \u001b[0meref\u001b[0m\u001b[0;34m\u001b[0m\u001b[0m\n\u001b[0m",
      "\u001b[0;31mNameError\u001b[0m: name 'eref' is not defined"
     ]
    }
   ],
   "source": [
    "eref"
   ]
  },
  {
   "cell_type": "code",
   "execution_count": 68,
   "metadata": {
    "collapsed": false
   },
   "outputs": [
    {
     "data": {
      "text/plain": [
       "array([-95.5, -86.5, -77.5, -68.5, -59.5, -50.5, -41.5, -32.5, -23.5, -14.5])"
      ]
     },
     "execution_count": 68,
     "metadata": {},
     "output_type": "execute_result"
    }
   ],
   "source": [
    "x"
   ]
  },
  {
   "cell_type": "code",
   "execution_count": 69,
   "metadata": {
    "collapsed": false
   },
   "outputs": [
    {
     "data": {
      "text/plain": [
       "array([-81., -63., -45., -27.,  -9.,   9.,  27.,  45.,  63.,  81.])"
      ]
     },
     "execution_count": 69,
     "metadata": {},
     "output_type": "execute_result"
    }
   ],
   "source": [
    "y"
   ]
  },
  {
   "cell_type": "code",
   "execution_count": null,
   "metadata": {
    "collapsed": true
   },
   "outputs": [],
   "source": []
  },
  {
   "cell_type": "code",
   "execution_count": null,
   "metadata": {
    "collapsed": true
   },
   "outputs": [],
   "source": []
  },
  {
   "cell_type": "code",
   "execution_count": 70,
   "metadata": {
    "collapsed": true
   },
   "outputs": [],
   "source": [
    "class XYCorr:\n",
    "    def __init__(self, x, y, e):\n",
    "        self.xs = x.reshape(x.size, 1)\n",
    "        self.ys = y.reshape(y.size, 1)\n",
    "        eref = e[e.shape[0]//2, e.shape[1]//2]\n",
    "        self.es = e / eref\n",
    "        print(self.es)\n",
    "    def xycorr(self, x, y):\n",
    "        x_closest = np.apply_along_axis(np.argmin, 0, abs(x - self.xs))\n",
    "        y_closest = np.apply_along_axis(np.argmin, 0, abs(y - self.ys))\n",
    "        return self.es[x_closest, y_closest]\n",
    "        \n",
    "        "
   ]
  },
  {
   "cell_type": "code",
   "execution_count": 71,
   "metadata": {
    "collapsed": false
   },
   "outputs": [
    {
     "name": "stdout",
     "output_type": "stream",
     "text": [
      "[[ nan  nan  nan  inf  inf  inf  inf  nan  nan  nan]\n",
      " [ nan  nan  nan  inf  inf  inf  inf  nan  nan  nan]\n",
      " [ nan  nan  nan  inf  inf  inf  inf  nan  nan  nan]\n",
      " [ nan  nan  nan  inf  inf  inf  inf  nan  nan  nan]\n",
      " [ nan  nan  nan  nan  nan  nan  nan  nan  nan  nan]\n",
      " [ nan  nan  nan  nan  nan  nan  nan  nan  nan  nan]\n",
      " [ nan  nan  nan  nan  nan  nan  nan  nan  nan  nan]\n",
      " [ nan  nan  nan  nan  nan  nan  nan  nan  nan  nan]\n",
      " [ nan  nan  nan  nan  nan  nan  nan  nan  nan  nan]\n",
      " [ nan  nan  nan  nan  nan  nan  nan  nan  nan  nan]]\n"
     ]
    },
    {
     "name": "stderr",
     "output_type": "stream",
     "text": [
      "/Users/alej/miniconda/envs/IC3.6/lib/python3.6/site-packages/ipykernel/__main__.py:6: RuntimeWarning: divide by zero encountered in true_divide\n",
      "/Users/alej/miniconda/envs/IC3.6/lib/python3.6/site-packages/ipykernel/__main__.py:6: RuntimeWarning: invalid value encountered in true_divide\n"
     ]
    }
   ],
   "source": [
    "xyc = XYCorr(x, y, E)"
   ]
  },
  {
   "cell_type": "code",
   "execution_count": 72,
   "metadata": {
    "collapsed": false
   },
   "outputs": [
    {
     "data": {
      "text/plain": [
       "array([[-95.5],\n",
       "       [-86.5],\n",
       "       [-77.5],\n",
       "       [-68.5],\n",
       "       [-59.5],\n",
       "       [-50.5],\n",
       "       [-41.5],\n",
       "       [-32.5],\n",
       "       [-23.5],\n",
       "       [-14.5]])"
      ]
     },
     "execution_count": 72,
     "metadata": {},
     "output_type": "execute_result"
    }
   ],
   "source": [
    "xyc.xs"
   ]
  },
  {
   "cell_type": "code",
   "execution_count": 73,
   "metadata": {
    "collapsed": false
   },
   "outputs": [
    {
     "data": {
      "text/plain": [
       "array([[-81.],\n",
       "       [-63.],\n",
       "       [-45.],\n",
       "       [-27.],\n",
       "       [ -9.],\n",
       "       [  9.],\n",
       "       [ 27.],\n",
       "       [ 45.],\n",
       "       [ 63.],\n",
       "       [ 81.]])"
      ]
     },
     "execution_count": 73,
     "metadata": {},
     "output_type": "execute_result"
    }
   ],
   "source": [
    "xyc.ys"
   ]
  },
  {
   "cell_type": "code",
   "execution_count": 74,
   "metadata": {
    "collapsed": false
   },
   "outputs": [],
   "source": [
    "x_closest = np.apply_along_axis(np.argmin, 0, abs(crXR.X.values - xyc.xs))"
   ]
  },
  {
   "cell_type": "code",
   "execution_count": 75,
   "metadata": {
    "collapsed": false
   },
   "outputs": [],
   "source": [
    "y_closest = np.apply_along_axis(np.argmin, 0, abs(crXR.Y.values - xyc.ys))"
   ]
  },
  {
   "cell_type": "code",
   "execution_count": 76,
   "metadata": {
    "collapsed": false
   },
   "outputs": [
    {
     "data": {
      "text/plain": [
       "array([ inf,  inf,  inf,  inf,  inf,  inf,  inf,  inf,  inf,  inf,  inf,\n",
       "        inf,  inf,  inf,  inf,  inf,  inf,  inf,  inf,  inf,  inf,  inf,\n",
       "        inf,  inf,  inf,  inf,  inf,  inf,  inf,  inf,  inf,  inf,  inf,\n",
       "        inf,  inf,  inf,  inf,  inf,  inf,  inf,  inf,  inf,  inf,  inf,\n",
       "        inf,  inf,  inf,  inf,  inf,  inf,  inf,  inf,  inf,  inf,  inf,\n",
       "        inf,  inf,  inf,  inf,  inf,  inf,  inf,  inf,  inf,  inf,  inf,\n",
       "        inf,  inf,  inf,  inf,  inf,  inf,  inf,  inf,  inf,  inf,  inf,\n",
       "        inf,  inf,  inf,  inf,  inf,  inf,  inf,  inf,  inf,  inf,  inf,\n",
       "        inf,  inf,  inf,  inf,  inf,  inf,  inf,  inf,  inf,  inf,  inf,\n",
       "        inf,  inf,  inf,  inf,  inf,  inf,  inf,  inf,  inf,  inf,  inf,\n",
       "        inf,  inf,  inf,  inf,  inf,  inf,  inf,  inf,  inf,  inf,  inf,\n",
       "        inf,  inf,  inf,  inf,  inf,  inf,  inf,  inf,  inf,  inf,  inf,\n",
       "        inf,  inf,  inf,  inf,  inf,  inf,  inf,  inf,  inf,  inf,  inf,\n",
       "        inf,  inf,  inf,  inf,  inf,  inf,  inf,  inf,  inf,  inf,  inf,\n",
       "        inf,  inf,  inf,  inf,  inf,  inf,  inf,  inf,  inf,  inf,  inf,\n",
       "        inf,  inf,  inf,  inf,  inf,  inf,  inf,  inf,  inf,  inf,  inf,\n",
       "        inf,  inf,  inf,  inf,  inf,  inf,  inf,  inf,  inf,  inf,  inf,\n",
       "        inf,  inf,  inf,  inf,  inf,  inf,  inf,  inf,  inf,  inf,  inf,\n",
       "        inf,  inf,  inf,  inf,  inf,  inf,  inf,  inf,  inf,  inf,  inf,\n",
       "        inf,  inf,  inf,  inf,  inf,  inf,  inf,  inf,  inf,  inf,  inf,\n",
       "        inf,  inf,  inf,  inf,  inf,  inf,  inf,  inf,  inf,  inf,  inf,\n",
       "        inf,  inf,  inf,  inf,  inf,  inf,  inf,  inf,  inf,  inf,  inf,\n",
       "        inf,  inf,  inf,  inf,  inf,  inf,  inf,  inf,  inf,  inf,  inf,\n",
       "        inf,  inf,  inf,  inf,  inf,  inf,  inf,  inf,  inf,  inf,  inf,\n",
       "        inf,  inf,  inf,  inf,  inf,  inf,  inf,  inf,  inf,  inf,  inf,\n",
       "        inf,  inf,  inf,  inf,  inf,  inf,  inf,  inf,  inf,  inf,  inf,\n",
       "        inf,  inf,  inf,  inf,  inf,  inf,  inf,  inf,  inf,  inf,  inf,\n",
       "        inf,  inf,  inf,  inf,  inf,  inf,  inf,  inf,  inf,  inf,  inf,\n",
       "        inf,  inf,  inf,  inf,  inf,  inf,  inf,  inf,  inf,  inf,  inf,\n",
       "        inf,  inf,  inf,  inf,  inf,  inf,  inf,  inf,  inf,  inf,  inf,\n",
       "        inf,  inf,  inf,  inf,  inf,  inf,  inf,  inf,  inf,  inf,  inf,\n",
       "        inf,  inf,  inf,  inf,  inf,  inf,  inf,  inf,  inf,  inf,  inf,\n",
       "        inf,  inf,  inf,  inf,  inf,  inf,  inf,  inf,  inf,  inf,  inf,\n",
       "        inf,  inf,  inf,  inf,  inf,  inf,  inf,  inf,  inf,  inf,  inf,\n",
       "        inf,  inf,  inf,  inf,  inf,  inf,  inf,  inf,  inf,  inf,  inf,\n",
       "        inf,  inf,  inf,  inf,  inf,  inf,  inf,  inf,  inf,  inf,  inf,\n",
       "        inf,  inf,  inf,  inf,  inf,  inf,  inf,  inf,  inf,  inf,  inf,\n",
       "        inf,  inf,  inf,  inf,  inf,  inf,  inf,  inf,  inf,  inf,  inf,\n",
       "        inf,  inf,  inf,  inf,  inf,  inf,  inf,  inf,  inf,  inf,  inf,\n",
       "        inf,  inf,  inf,  inf,  inf,  inf,  inf,  inf,  inf,  inf,  inf,\n",
       "        inf,  inf,  inf,  inf,  inf,  inf,  inf,  inf,  inf,  inf,  inf,\n",
       "        inf,  inf,  inf,  inf,  inf,  inf,  inf,  inf,  inf,  inf,  inf,\n",
       "        inf,  inf,  inf,  inf,  inf])"
      ]
     },
     "execution_count": 76,
     "metadata": {},
     "output_type": "execute_result"
    }
   ],
   "source": [
    "xyc.es[x_closest, y_closest]"
   ]
  },
  {
   "cell_type": "code",
   "execution_count": 77,
   "metadata": {
    "collapsed": false
   },
   "outputs": [
    {
     "ename": "NameError",
     "evalue": "name 'zcorr' is not defined",
     "output_type": "error",
     "traceback": [
      "\u001b[0;31m---------------------------------------------------------------------------\u001b[0m",
      "\u001b[0;31mNameError\u001b[0m                                 Traceback (most recent call last)",
      "\u001b[0;32m<ipython-input-77-fdbb0f4ef02f>\u001b[0m in \u001b[0;36m<module>\u001b[0;34m()\u001b[0m\n\u001b[0;32m----> 1\u001b[0;31m \u001b[0mEc\u001b[0m  \u001b[0;34m=\u001b[0m \u001b[0mcrXR\u001b[0m\u001b[0;34m.\u001b[0m\u001b[0mS2e\u001b[0m\u001b[0;34m.\u001b[0m\u001b[0mvalues\u001b[0m \u001b[0;34m*\u001b[0m \u001b[0mzcorr\u001b[0m\u001b[0;34m(\u001b[0m\u001b[0mcrXR\u001b[0m\u001b[0;34m.\u001b[0m\u001b[0mZ\u001b[0m\u001b[0;34m)\u001b[0m \u001b[0;34m*\u001b[0m \u001b[0mxyc\u001b[0m\u001b[0;34m.\u001b[0m\u001b[0mxycorr\u001b[0m\u001b[0;34m(\u001b[0m\u001b[0mcrXR\u001b[0m\u001b[0;34m.\u001b[0m\u001b[0mX\u001b[0m\u001b[0;34m.\u001b[0m\u001b[0mvalues\u001b[0m\u001b[0;34m,\u001b[0m \u001b[0mcrXR\u001b[0m\u001b[0;34m.\u001b[0m\u001b[0mY\u001b[0m\u001b[0;34m.\u001b[0m\u001b[0mvalues\u001b[0m\u001b[0;34m)\u001b[0m\u001b[0;34m\u001b[0m\u001b[0m\n\u001b[0m",
      "\u001b[0;31mNameError\u001b[0m: name 'zcorr' is not defined"
     ]
    }
   ],
   "source": [
    "Ec  = crXR.S2e.values * zcorr(crXR.Z) * xyc.xycorr(crXR.X.values, crXR.Y.values)"
   ]
  },
  {
   "cell_type": "code",
   "execution_count": 78,
   "metadata": {
    "collapsed": false
   },
   "outputs": [
    {
     "ename": "NameError",
     "evalue": "name 'zcorr' is not defined",
     "output_type": "error",
     "traceback": [
      "\u001b[0;31m---------------------------------------------------------------------------\u001b[0m",
      "\u001b[0;31mNameError\u001b[0m                                 Traceback (most recent call last)",
      "\u001b[0;32m<ipython-input-78-af676f7d1ed9>\u001b[0m in \u001b[0;36m<module>\u001b[0;34m()\u001b[0m\n\u001b[0;32m----> 1\u001b[0;31m \u001b[0mcrXR\u001b[0m\u001b[0;34m.\u001b[0m\u001b[0mS2e\u001b[0m\u001b[0;34m.\u001b[0m\u001b[0mvalues\u001b[0m \u001b[0;34m*\u001b[0m \u001b[0mzcorr\u001b[0m\u001b[0;34m(\u001b[0m\u001b[0mcrXR\u001b[0m\u001b[0;34m.\u001b[0m\u001b[0mZ\u001b[0m\u001b[0;34m.\u001b[0m\u001b[0mvalues\u001b[0m\u001b[0;34m)\u001b[0m\u001b[0;34m\u001b[0m\u001b[0m\n\u001b[0m",
      "\u001b[0;31mNameError\u001b[0m: name 'zcorr' is not defined"
     ]
    }
   ],
   "source": [
    "crXR.S2e.values * zcorr(crXR.Z.values)"
   ]
  },
  {
   "cell_type": "code",
   "execution_count": 79,
   "metadata": {
    "collapsed": false
   },
   "outputs": [
    {
     "ename": "NameError",
     "evalue": "name 'zcorr' is not defined",
     "output_type": "error",
     "traceback": [
      "\u001b[0;31m---------------------------------------------------------------------------\u001b[0m",
      "\u001b[0;31mNameError\u001b[0m                                 Traceback (most recent call last)",
      "\u001b[0;32m<ipython-input-79-21c942cd8a1d>\u001b[0m in \u001b[0;36m<module>\u001b[0;34m()\u001b[0m\n\u001b[0;32m----> 1\u001b[0;31m \u001b[0mEc\u001b[0m \u001b[0;34m=\u001b[0m \u001b[0mcrXR\u001b[0m\u001b[0;34m.\u001b[0m\u001b[0mS2e\u001b[0m\u001b[0;34m.\u001b[0m\u001b[0mvalues\u001b[0m \u001b[0;34m*\u001b[0m \u001b[0mzcorr\u001b[0m\u001b[0;34m(\u001b[0m\u001b[0mcrXR\u001b[0m\u001b[0;34m.\u001b[0m\u001b[0mZ\u001b[0m\u001b[0;34m.\u001b[0m\u001b[0mvalues\u001b[0m\u001b[0;34m)\u001b[0m \u001b[0;34m*\u001b[0m \u001b[0mxyc\u001b[0m\u001b[0;34m.\u001b[0m\u001b[0mes\u001b[0m\u001b[0;34m[\u001b[0m\u001b[0mx_closest\u001b[0m\u001b[0;34m,\u001b[0m \u001b[0my_closest\u001b[0m\u001b[0;34m]\u001b[0m\u001b[0;34m\u001b[0m\u001b[0m\n\u001b[0m",
      "\u001b[0;31mNameError\u001b[0m: name 'zcorr' is not defined"
     ]
    }
   ],
   "source": [
    "Ec = crXR.S2e.values * zcorr(crXR.Z.values) * xyc.es[x_closest, y_closest]"
   ]
  },
  {
   "cell_type": "code",
   "execution_count": null,
   "metadata": {
    "collapsed": true
   },
   "outputs": [],
   "source": []
  },
  {
   "cell_type": "code",
   "execution_count": 80,
   "metadata": {
    "collapsed": false
   },
   "outputs": [
    {
     "ename": "NameError",
     "evalue": "name 'Ez' is not defined",
     "output_type": "error",
     "traceback": [
      "\u001b[0;31m---------------------------------------------------------------------------\u001b[0m",
      "\u001b[0;31mNameError\u001b[0m                                 Traceback (most recent call last)",
      "\u001b[0;32m<ipython-input-80-880015943eb6>\u001b[0m in \u001b[0;36m<module>\u001b[0;34m()\u001b[0m\n\u001b[1;32m      2\u001b[0m \u001b[0mplt\u001b[0m\u001b[0;34m.\u001b[0m\u001b[0mfigure\u001b[0m\u001b[0;34m(\u001b[0m\u001b[0mfigsize\u001b[0m\u001b[0;34m=\u001b[0m\u001b[0mfigsize\u001b[0m\u001b[0;34m)\u001b[0m\u001b[0;34m\u001b[0m\u001b[0m\n\u001b[1;32m      3\u001b[0m \u001b[0max\u001b[0m \u001b[0;34m=\u001b[0m \u001b[0mplt\u001b[0m\u001b[0;34m.\u001b[0m\u001b[0msubplot\u001b[0m\u001b[0;34m(\u001b[0m\u001b[0;36m1\u001b[0m\u001b[0;34m,\u001b[0m \u001b[0;36m2\u001b[0m\u001b[0;34m,\u001b[0m \u001b[0;36m1\u001b[0m\u001b[0;34m)\u001b[0m\u001b[0;34m\u001b[0m\u001b[0m\n\u001b[0;32m----> 4\u001b[0;31m \u001b[0my\u001b[0m\u001b[0;34m,\u001b[0m \u001b[0mx\u001b[0m\u001b[0;34m,\u001b[0m \u001b[0m_\u001b[0m \u001b[0;34m=\u001b[0m \u001b[0mplt\u001b[0m\u001b[0;34m.\u001b[0m\u001b[0mhist\u001b[0m\u001b[0;34m(\u001b[0m\u001b[0mEz\u001b[0m\u001b[0;34m,\u001b[0m \u001b[0;36m50\u001b[0m\u001b[0;34m,\u001b[0m \u001b[0mrange\u001b[0m\u001b[0;34m=\u001b[0m\u001b[0mErange\u001b[0m\u001b[0;34m)\u001b[0m\u001b[0;34m\u001b[0m\u001b[0m\n\u001b[0m\u001b[1;32m      5\u001b[0m \u001b[0mlabels\u001b[0m\u001b[0;34m(\u001b[0m\u001b[0;34m\"S2 energy (pes)\"\u001b[0m\u001b[0;34m,\u001b[0m \u001b[0;34m\"Entries\"\u001b[0m\u001b[0;34m)\u001b[0m\u001b[0;34m\u001b[0m\u001b[0m\n\u001b[1;32m      6\u001b[0m \u001b[0mplt\u001b[0m\u001b[0;34m.\u001b[0m\u001b[0mtitle\u001b[0m\u001b[0;34m(\u001b[0m\u001b[0;34m'E corrected by Z (first order)'\u001b[0m\u001b[0;34m)\u001b[0m\u001b[0;34m\u001b[0m\u001b[0m\n",
      "\u001b[0;31mNameError\u001b[0m: name 'Ez' is not defined"
     ]
    },
    {
     "data": {
      "image/png": "[encoded data removed]",
      "text/plain": [
       "<matplotlib.figure.Figure at 0x1180fd470>"
      ]
     },
     "metadata": {},
     "output_type": "display_data"
    }
   ],
   "source": [
    "figsize=(12,8)\n",
    "plt.figure(figsize=figsize)\n",
    "ax = plt.subplot(1, 2, 1)\n",
    "y, x, _ = plt.hist(Ez, 50, range=Erange)\n",
    "labels(\"S2 energy (pes)\", \"Entries\")\n",
    "plt.title('E corrected by Z (first order)')\n",
    "\n",
    "x    = x[:-1] + np.diff(x) * 0.5\n",
    "sel  = fitf.in_range(x, 7000, 9000)\n",
    "x, y = x[sel], y[sel]\n",
    "f    = fitf.fit(fitf.gauss, x, y, (1e3, 8e3, 200))\n",
    "plt.plot(x, f.fn(x), fitOpt)\n",
    "plt.text(Erange[0], max(y)/2, gausstext(f))\n",
    "\n",
    "ax = plt.subplot(1, 2, 2)\n",
    "y, x, _ = plt.hist(Ec, 50, range=Erange)\n",
    "labels(\"S2 energy (pes)\", \"Entries\")\n",
    "plt.title('E corrected by Z (second order)')\n",
    "\n",
    "x    = x[:-1] + np.diff(x) * 0.5\n",
    "sel  = fitf.in_range(x, 7000, 8500)\n",
    "x, y = x[sel], y[sel]\n",
    "f    = fitf.fit(fitf.gauss, x, y, (1e3, 8e3, 200))\n",
    "plt.plot(x, f.fn(x), fitOpt)\n",
    "plt.text(Erange[0], max(y)/2, gausstext(f))"
   ]
  },
  {
   "cell_type": "code",
   "execution_count": null,
   "metadata": {
    "collapsed": true
   },
   "outputs": [],
   "source": []
  },
  {
   "cell_type": "code",
   "execution_count": null,
   "metadata": {
    "collapsed": false
   },
   "outputs": [],
   "source": [
    "x.reshape(x.size, 1)"
   ]
  },
  {
   "cell_type": "code",
   "execution_count": null,
   "metadata": {
    "collapsed": true
   },
   "outputs": [],
   "source": [
    "eref = E[E.shape[0]//2, E.shape[1]//2]"
   ]
  },
  {
   "cell_type": "code",
   "execution_count": null,
   "metadata": {
    "collapsed": false
   },
   "outputs": [],
   "source": [
    "eref"
   ]
  },
  {
   "cell_type": "code",
   "execution_count": null,
   "metadata": {
    "collapsed": true
   },
   "outputs": [],
   "source": []
  },
  {
   "cell_type": "code",
   "execution_count": null,
   "metadata": {
    "collapsed": true
   },
   "outputs": [],
   "source": [
    "pf, _, cb = profile_and_scatter(crXR.X, crXR.Y, crXR.S2e, (20, 20), xrange=xrange, yrange=yrange)\n",
    "cb.set_label(\"E (pes)\")\n",
    "labels(\"x (mm)\", \"y (mm)\")\n",
    "plt.title('2d Profile E uncorrected')\n",
    "\n",
    "ax = plt.subplot(1, 2, 2)\n",
    "pf, _, cb = profile_and_scatter(crXR.X, crXR.Y, E, (20, 20), xrange=xrange, yrange=yrange)\n",
    "cb.set_label(\"E (pes)\")\n",
    "labels(\"x (mm)\", \"y (mm)\")\n",
    "plt.title('2d Profile E corrected by attachment')\n",
    "\n",
    "x, y, z, ze = fitf.profileXY(crXR.X, crXR.Y, Ez2, *nbin, xrange=xrange, yrange=yrange)\n",
    "def get_xycorr(xs, ys, es, eref=None):\n",
    "    if eref is None:\n",
    "        eref = es[es.shape[0]//2, es.shape[1]//2]\n",
    "    xs   = xs.reshape(xs.size, 1)\n",
    "    ys   = ys.reshape(ys.size, 1)\n",
    "    print(eref)\n",
    "    def xycorr(x, y):\n",
    "        x_closest = np.apply_along_axis(np.argmin, 0, abs(x-xs))\n",
    "        y_closest = np.apply_along_axis(np.argmin, 0, abs(y-ys))\n",
    "        e = es[x_closest, y_closest]\n",
    "        e[e<1e3] = eref\n",
    "        return eref/ e\n",
    "    return xycorr\n",
    "xycorr = get_xycorr(*pf[:-1])"
   ]
  },
  {
   "cell_type": "code",
   "execution_count": null,
   "metadata": {
    "collapsed": true
   },
   "outputs": [],
   "source": [
    "peXR = XR[XR.S1e >100]\n",
    "print(\"Ratio wrt XE:\", len(peXR)/len(XR))"
   ]
  },
  {
   "cell_type": "code",
   "execution_count": null,
   "metadata": {
    "collapsed": false,
    "scrolled": true
   },
   "outputs": [],
   "source": [
    "s1cXR = XR[XR.S1e <70]\n",
    "print(\"Ratio:\", len(s1cXR)/len(full))\n",
    "s1cXR.head()"
   ]
  },
  {
   "cell_type": "code",
   "execution_count": null,
   "metadata": {
    "collapsed": false,
    "scrolled": true
   },
   "outputs": [],
   "source": [
    "hist(s1cXR.S2e, 50, (0e3,1e+4))\n",
    "labels(\"S2 energy (pes)\", \"Entries\")"
   ]
  },
  {
   "cell_type": "markdown",
   "metadata": {},
   "source": [
    "### Dependence with Z"
   ]
  },
  {
   "cell_type": "code",
   "execution_count": null,
   "metadata": {
    "collapsed": false,
    "scrolled": false
   },
   "outputs": [],
   "source": [
    "zrange =   0, 220\n",
    "Erange = 4e+3, 8e3\n",
    "hist2d(XR.Z, XR.S2e, (25, 25), range=(zrange, Erange))\n",
    "labels(\"Drift time ($\\mu$s)\", \"S2 energy\")\n",
    "\n"
   ]
  },
  {
   "cell_type": "code",
   "execution_count": null,
   "metadata": {
    "collapsed": false
   },
   "outputs": [],
   "source": [
    "zrange =   150, 220\n",
    "Erange = 2e+3, 1e4\n",
    "hist2d(s1XR.Z, s1XR.S2e, (25, 25), range=(zrange, Erange))\n",
    "labels(\"Drift time ($\\mu$s)\", \"S2 energy\")\n",
    "\n"
   ]
  },
  {
   "cell_type": "markdown",
   "metadata": {},
   "source": [
    "#### Histogram above are supposed to be x-rays from PE interactions. They occur at a fixed position and thus, they all drift the same. "
   ]
  },
  {
   "cell_type": "markdown",
   "metadata": {},
   "source": [
    "#### Histogram below is supposed to be due to Compton-induced X rays. They are distributed "
   ]
  },
  {
   "cell_type": "code",
   "execution_count": null,
   "metadata": {
    "collapsed": false,
    "scrolled": false
   },
   "outputs": [],
   "source": [
    "zrange =   0, 220\n",
    "Erange = 2e+3, 1e+4\n",
    "nbins = 10\n",
    "ze = (zrange[1] - zrange[0])/nbins\n",
    "hist2d(s1cXR.Z, s1cXR.S2e, (25, 25), range=(zrange, Erange))\n",
    "labels(\"Drift time ($\\mu$s)\", \"S2 energy\")\n",
    "\n"
   ]
  },
  {
   "cell_type": "code",
   "execution_count": null,
   "metadata": {
    "collapsed": true
   },
   "outputs": [],
   "source": [
    "zrange =   40, 100\n",
    "Erange = 4e+3, 8e3\n",
    "nbins = 10\n",
    "ze = (zrange[1] - zrange[0])/nbins"
   ]
  },
  {
   "cell_type": "code",
   "execution_count": null,
   "metadata": {
    "collapsed": false
   },
   "outputs": [],
   "source": [
    "zrange =   40, 100\n",
    "Erange = 4e+3, 8e3\n",
    "nbins = 10\n",
    "ze = (zrange[1] - zrange[0])/nbins\n",
    "z, E, Ee = fitf.profileX(s1cXR.Z.values, s1cXR.S2e.values, nbins=nbins,\n",
    "             xrange=zrange, yrange=Erange, drop_nan=True)\n",
    "\n",
    "sel  = fitf.in_range(z, zrange[0], zrange[1])\n",
    "z, E, Ee = z[sel], E[sel], Ee[sel]\n",
    "plt.errorbar(x=z, xerr=ze, y=E, yerr=Ee,\n",
    "                 linestyle='none', marker='.')"
   ]
  },
  {
   "cell_type": "code",
   "execution_count": null,
   "metadata": {
    "collapsed": false
   },
   "outputs": [],
   "source": [
    "plt.errorbar(x=z, xerr=ze, y=E, yerr=Ee,\n",
    "                 linestyle='none', marker='.')"
   ]
  },
  {
   "cell_type": "code",
   "execution_count": null,
   "metadata": {
    "collapsed": false
   },
   "outputs": [],
   "source": [
    "plt.plot(Ee)"
   ]
  },
  {
   "cell_type": "code",
   "execution_count": null,
   "metadata": {
    "collapsed": true
   },
   "outputs": [],
   "source": [
    "Ee = np.repeat(35,10)"
   ]
  },
  {
   "cell_type": "code",
   "execution_count": null,
   "metadata": {
    "collapsed": false
   },
   "outputs": [],
   "source": [
    "f = fitf.fit(fitf.expo, z, E, (1e4, -200), sigma=Ee)\n"
   ]
  },
  {
   "cell_type": "code",
   "execution_count": null,
   "metadata": {
    "collapsed": false
   },
   "outputs": [],
   "source": [
    "plt.errorbar(x=z, xerr=ze, y=E, yerr=Ee,\n",
    "                 linestyle='none', marker='.')\n",
    "plt.plot(z, f.fn(z), fitOpt)\n",
    "print('fit values: E0 = {} lifetime = {}'.format(f.values[0],f.values[1]))\n",
    "print('errors: E0 = {} lifetime = {}'.format(f.errors[0],f.errors[1]))\n",
    "print('chi2 = {}'.format(f.chi2))\n",
    "labels(\"Drift time ($\\mu$s)\", \"S2 energy (pes)\")"
   ]
  },
  {
   "cell_type": "code",
   "execution_count": null,
   "metadata": {
    "collapsed": false,
    "scrolled": false
   },
   "outputs": [],
   "source": [
    "xrange = -215, 215\n",
    "yrange = -215, 215\n",
    "rrange =    0, 215\n",
    "prange = - pi,  pi\n",
    "nevts, xs, ys, _ = \\\n",
    "hist2d(s1cXR.X, s1cXR.Y, (20, 20), range=(xrange, yrange))\n",
    "plt.colorbar().set_label(\"# events\")\n",
    "labels(\"x (mm)\", \"y (mm)\")\n",
    "\n"
   ]
  },
  {
   "cell_type": "code",
   "execution_count": null,
   "metadata": {
    "collapsed": false
   },
   "outputs": [],
   "source": [
    "pf, _, cb = profile_and_scatter(s1cXR.X, s1cXR.Y, s1cXR.S2e, (20, 20), xrange=xrange, yrange=yrange)\n",
    "cb.set_label(\"E (pes)\")\n",
    "labels(\"x (mm)\", \"y (mm)\")"
   ]
  },
  {
   "cell_type": "code",
   "execution_count": null,
   "metadata": {
    "collapsed": false
   },
   "outputs": [],
   "source": [
    "zfPE1 = PE[PE.Z > 165]\n",
    "zfPE = zfPE1[zfPE1.Z < 185]\n",
    "print(\"Ratio wrt full:\", len(zfPE)/len(full))\n",
    "print(\"Ratio wrt PE:\", len(zfPE)/len(PE))"
   ]
  },
  {
   "cell_type": "code",
   "execution_count": null,
   "metadata": {
    "collapsed": false,
    "scrolled": false
   },
   "outputs": [],
   "source": [
    "S1range =   0, 200\n",
    "Erange = (0e3,1e+4)\n",
    "hist2d(XR.S1e, XR.S2e, (25, 25), range=(S1range, Erange))\n",
    "labels(\"S1 (pes)\", \"S2 energy\")"
   ]
  },
  {
   "cell_type": "code",
   "execution_count": null,
   "metadata": {
    "collapsed": false
   },
   "outputs": [],
   "source": [
    "s1cXRx = s1cXR[s1cXR.X <0]\n",
    "s1cXRxy = s1cXRx[abs(s1cXRx.Y) <100]\n",
    "print(\"Ratio:\", len(s1cXRxy)/len(full))\n",
    "s1cXRxy.head()"
   ]
  },
  {
   "cell_type": "code",
   "execution_count": null,
   "metadata": {
    "collapsed": false
   },
   "outputs": [],
   "source": [
    "z, E, Ee = fitf.profileX(s1cXRxy.Z.values, s1cXRxy.S2e.values, nbins=nbins,\n",
    "             xrange=zrange, yrange=Erange, drop_nan=True)\n",
    "\n",
    "sel  = fitf.in_range(z, zrange[0], zrange[1])\n",
    "z, E, Ee = z[sel], E[sel], Ee[sel]\n",
    "plt.errorbar(x=z, xerr=ze, y=E, yerr=Ee,\n",
    "                 linestyle='none', marker='.')"
   ]
  },
  {
   "cell_type": "code",
   "execution_count": null,
   "metadata": {
    "collapsed": true
   },
   "outputs": [],
   "source": [
    "f = fitf.fit(fitf.expo, z, E, (1e4, -200), sigma=Ee)"
   ]
  },
  {
   "cell_type": "code",
   "execution_count": null,
   "metadata": {
    "collapsed": false
   },
   "outputs": [],
   "source": [
    "plt.errorbar(x=z, xerr=ze, y=E, yerr=Ee,\n",
    "                 linestyle='none', marker='.')\n",
    "plt.plot(z, f.fn(z), fitOpt)\n",
    "print('fit values: E0 = {} lifetime = {}'.format(f.values[0],f.values[1]))\n",
    "print('errors: E0 = {} lifetime = {}'.format(f.errors[0],f.errors[1]))\n",
    "print('chi2 = {}'.format(f.chi2))\n",
    "labels(\"Drift time ($\\mu$s)\", \"S2 energy (pes)\")"
   ]
  },
  {
   "cell_type": "markdown",
   "metadata": {},
   "source": [
    "#### Large uncertainties in fit with this subset"
   ]
  },
  {
   "cell_type": "code",
   "execution_count": null,
   "metadata": {
    "collapsed": false
   },
   "outputs": [],
   "source": [
    "zrange =   0, 220\n",
    "Erange = 4e+3, 8e3\n",
    "hist2d(XR.Z, XR.S2e, (25, 25), range=(zrange, Erange))\n",
    "labels(\"Drift time ($\\mu$s)\", \"S2 energy\")\n"
   ]
  },
  {
   "cell_type": "code",
   "execution_count": null,
   "metadata": {
    "collapsed": false
   },
   "outputs": [],
   "source": [
    "hist2d(XR.X, XR.Y, (20, 20), range=(xrange, yrange))\n",
    "plt.colorbar().set_label(\"# events\")\n",
    "labels(\"x (mm)\", \"y (mm)\")\n",
    "\n"
   ]
  },
  {
   "cell_type": "code",
   "execution_count": null,
   "metadata": {
    "collapsed": false
   },
   "outputs": [],
   "source": [
    "zXR1 = XR[XR.Z >40]\n",
    "zXR =  zXR1[zXR1.Z < 150]\n",
    "print(\"Ratio:\", len(zXR)/len(full))\n",
    "s1cXRxy.head()"
   ]
  },
  {
   "cell_type": "code",
   "execution_count": null,
   "metadata": {
    "collapsed": false
   },
   "outputs": [],
   "source": [
    "hist2d(zXR.X, zXR.Y, (20, 20), range=(xrange, yrange))\n",
    "plt.colorbar().set_label(\"# events\")\n",
    "labels(\"x (mm)\", \"y (mm)\")\n"
   ]
  },
  {
   "cell_type": "code",
   "execution_count": null,
   "metadata": {
    "collapsed": false
   },
   "outputs": [],
   "source": [
    "xzXR1 = zXR[zXR.X > -150]\n",
    "xzXR =  xzXR1[xzXR1.X < -50]\n",
    "xyzXR = xzXR[abs(xzXR.Y) <100]\n",
    "print(\"Ratio:\", len(xyzXR)/len(full))\n",
    "xyzXR.head()"
   ]
  },
  {
   "cell_type": "code",
   "execution_count": null,
   "metadata": {
    "collapsed": false
   },
   "outputs": [],
   "source": [
    "hist2d(xyzXR.Z, xyzXR.S2e, (25, 25), range=(zrange, Erange))\n",
    "labels(\"Drift time ($\\mu$s)\", \"S2 energy\")"
   ]
  },
  {
   "cell_type": "code",
   "execution_count": null,
   "metadata": {
    "collapsed": false
   },
   "outputs": [],
   "source": [
    "zrange =   40, 150\n",
    "Erange = 45e+2, 75e2\n",
    "nbins = 10\n",
    "ze = (zrange[1] - zrange[0])/nbins\n",
    "z, E, Ee = fitf.profileX(s1cXRxy.Z.values, s1cXRxy.S2e.values, nbins=nbins,\n",
    "             xrange=zrange, yrange=Erange, drop_nan=True)\n",
    "\n",
    "sel  = fitf.in_range(z, zrange[0], zrange[1])\n",
    "z, E, Ee = z[sel], E[sel], Ee[sel]\n",
    "plt.errorbar(x=z, xerr=ze, y=E, yerr=Ee,\n",
    "                 linestyle='none', marker='.')"
   ]
  },
  {
   "cell_type": "code",
   "execution_count": null,
   "metadata": {
    "collapsed": true
   },
   "outputs": [],
   "source": [
    "f = fitf.fit(fitf.expo, z, E, (1e4, -200), sigma=Ee)"
   ]
  },
  {
   "cell_type": "code",
   "execution_count": null,
   "metadata": {
    "collapsed": false
   },
   "outputs": [],
   "source": [
    "plt.errorbar(x=z, xerr=ze, y=E, yerr=Ee,\n",
    "                 linestyle='none', marker='.')\n",
    "plt.plot(z, f.fn(z), fitOpt)\n",
    "print('fit values: E0 = {} lifetime = {}'.format(f.values[0],f.values[1]))\n",
    "print('errors: E0 = {} lifetime = {}'.format(f.errors[0],f.errors[1]))\n",
    "print('chi2 = {}'.format(f.chi2))\n",
    "labels(\"Drift time ($\\mu$s)\", \"S2 energy (pes)\")"
   ]
  },
  {
   "cell_type": "code",
   "execution_count": null,
   "metadata": {
    "collapsed": true
   },
   "outputs": [],
   "source": [
    "zfun  = f.fn\n",
    "zmin  = np.min(z)\n",
    "zcorr = lambda z: zfun(zmin)/zfun(z)"
   ]
  },
  {
   "cell_type": "code",
   "execution_count": null,
   "metadata": {
    "collapsed": false
   },
   "outputs": [],
   "source": [
    "plt.plot(z, zcorr(z))"
   ]
  },
  {
   "cell_type": "code",
   "execution_count": null,
   "metadata": {
    "collapsed": false
   },
   "outputs": [],
   "source": [
    "Erange = 4e3, 9e3\n",
    "hist(zXR.S2e, 50, range=Erange)\n",
    "labels(\"S2 energy (pes)\", \"Entries\")"
   ]
  },
  {
   "cell_type": "code",
   "execution_count": null,
   "metadata": {
    "collapsed": true
   },
   "outputs": [],
   "source": [
    "E = zXR.S2e * zcorr(zXR.Z)"
   ]
  },
  {
   "cell_type": "code",
   "execution_count": null,
   "metadata": {
    "collapsed": false
   },
   "outputs": [],
   "source": [
    "E = XR.S2e * zcorr(XR.Z)\n",
    "y, x, _ = hist(E, 50, range=Erange)\n",
    "labels(\"S2 energy (pes)\", \"Entries\")"
   ]
  },
  {
   "cell_type": "code",
   "execution_count": null,
   "metadata": {
    "collapsed": false
   },
   "outputs": [],
   "source": [
    "E = XR.S2e * zcorr(XR.Z)\n",
    "y, x, _ = hist(E, 50, range=Erange)\n",
    "labels(\"S2 energy (pes)\", \"Entries\")\n",
    "x    = x[:-1] + np.diff(x) * 0.5\n",
    "sel  = fitf.in_range(x, 6000, 8000)\n",
    "x, y = x[sel], y[sel]\n",
    "f    = fitf.fit(fitf.gauss, x, y, (1e3, 8e3, 200))\n",
    "plt.plot(x, f.fn(x), fitOpt)\n",
    "plt.text(Erange[0], max(y)/2, gausstext(f))"
   ]
  },
  {
   "cell_type": "code",
   "execution_count": null,
   "metadata": {
    "collapsed": false
   },
   "outputs": [],
   "source": [
    "z2XR1 = XR[XR.Z >180]\n",
    "z2XR =  z2XR1[z2XR1.Z < 220]\n",
    "print(\"Ratio:\", len(z2XR)/len(full))"
   ]
  },
  {
   "cell_type": "code",
   "execution_count": null,
   "metadata": {
    "collapsed": false
   },
   "outputs": [],
   "source": [
    "Erange = 2e3, 9e3\n",
    "y, x, _ = hist(z2XR.S2e, 50, range=Erange)\n",
    "labels(\"S2 energy (pes)\", \"Entries\")\n",
    "x    = x[:-1] + np.diff(x) * 0.5\n",
    "sel  = fitf.in_range(x, 4000, 6000)\n",
    "x, y = x[sel], y[sel]\n",
    "f    = fitf.fit(fitf.gauss, x, y, (1e3, 5e3, 200))\n",
    "plt.plot(x, f.fn(x), fitOpt)\n",
    "plt.text(Erange[0], max(y)/2, gausstext(f))"
   ]
  },
  {
   "cell_type": "code",
   "execution_count": null,
   "metadata": {
    "collapsed": false
   },
   "outputs": [],
   "source": [
    "E = z2XR.S2e * zcorr(z2XR.Z)\n",
    "y, x, _ = hist(E, 50, range=Erange)\n",
    "labels(\"S2 energy (pes)\", \"Entries\")\n",
    "x    = x[:-1] + np.diff(x) * 0.5\n",
    "sel  = fitf.in_range(x, 6000, 8000)\n",
    "x, y = x[sel], y[sel]\n",
    "f    = fitf.fit(fitf.gauss, x, y, (1e3, 8e3, 200))\n",
    "plt.plot(x, f.fn(x), fitOpt)\n",
    "plt.text(Erange[0], max(y)/2, gausstext(f))"
   ]
  },
  {
   "cell_type": "code",
   "execution_count": null,
   "metadata": {
    "collapsed": false
   },
   "outputs": [],
   "source": [
    "Erange = 2e3, 9e3\n",
    "y, x, _ = hist(XR.S2e, 50, range=Erange)\n",
    "labels(\"S2 energy (pes)\", \"Entries\")"
   ]
  },
  {
   "cell_type": "code",
   "execution_count": null,
   "metadata": {
    "collapsed": false
   },
   "outputs": [],
   "source": [
    "Erange = 2e3, 10e3\n",
    "E = XR.S2e * zcorr(XR.Z)\n",
    "y, x, _ = hist(E, 50, range=Erange)\n",
    "labels(\"S2 energy (pes)\", \"Entries\")"
   ]
  },
  {
   "cell_type": "code",
   "execution_count": null,
   "metadata": {
    "collapsed": false,
    "scrolled": false
   },
   "outputs": [],
   "source": [
    "hist(zfPE.S1e, 50, (0,200))\n",
    "labels(\"S1 energy (pes)\", \"Entries\")"
   ]
  },
  {
   "cell_type": "code",
   "execution_count": null,
   "metadata": {
    "collapsed": false
   },
   "outputs": [],
   "source": [
    "zs1fPE1 = zfPE[zfPE.S1e > 130]\n",
    "zs1fPE = zs1fPE1[zs1fPE1.S1e < 150]\n",
    "print(\"Ratio:\", len(zs1fPE)/len(full))\n",
    "zfPE.head()"
   ]
  },
  {
   "cell_type": "code",
   "execution_count": null,
   "metadata": {
    "collapsed": false,
    "scrolled": false
   },
   "outputs": [],
   "source": [
    "hist(zs1fPE.S2e, 25, (50e+3,100e3))\n",
    "labels(\"S2 energy (pes)\", \"Entries\")"
   ]
  },
  {
   "cell_type": "code",
   "execution_count": null,
   "metadata": {
    "collapsed": false,
    "scrolled": false
   },
   "outputs": [],
   "source": [
    "S1range =   0, 200\n",
    "Erange = 5e4, 1e5\n",
    "hist2d(zfPE.S1e, zfPE.S2e, (25, 25), range=(S1range, Erange))\n",
    "labels(\"S1 (pes)\", \"S2 energy\")\n",
    "\n"
   ]
  },
  {
   "cell_type": "code",
   "execution_count": null,
   "metadata": {
    "collapsed": false,
    "scrolled": false
   },
   "outputs": [],
   "source": [
    "hist(zfPE.S2e, 50, (0e3,15e4))\n",
    "labels(\"S2 energy (pes)\", \"Entries\")"
   ]
  },
  {
   "cell_type": "code",
   "execution_count": null,
   "metadata": {
    "collapsed": true
   },
   "outputs": [],
   "source": []
  },
  {
   "cell_type": "code",
   "execution_count": null,
   "metadata": {
    "collapsed": false
   },
   "outputs": [],
   "source": [
    "Erange = 2e3, 10e3\n",
    "E = XR.S2e * zcorr(XR.Z)\n",
    "y, x, _ = hist(E, 50, range=Erange)\n",
    "labels(\"S2 energy (pes)\", \"Entries\")\n",
    "x    = x[:-1] + np.diff(x) * 0.5\n",
    "sel  = fitf.in_range(x, 6000, 8000)\n",
    "x, y = x[sel], y[sel]\n",
    "f    = fitf.fit(fitf.gauss, x, y, (1e3, 7e3, 200))\n",
    "plt.plot(x, f.fn(x), fitOpt)\n",
    "plt.text(Erange[0], max(y)/2, gausstext(f))"
   ]
  },
  {
   "cell_type": "markdown",
   "metadata": {},
   "source": [
    "### Now take all the sample"
   ]
  },
  {
   "cell_type": "code",
   "execution_count": null,
   "metadata": {
    "collapsed": false
   },
   "outputs": [],
   "source": [
    "zf1 = full[full.Z > 170]\n",
    "zf = full[full.Z < 172]\n",
    "print(\"Ratio:\", len(zf)/len(full))\n",
    "zf.head()"
   ]
  },
  {
   "cell_type": "code",
   "execution_count": null,
   "metadata": {
    "collapsed": false
   },
   "outputs": [],
   "source": [
    "hist(zf.S2e, 50, (0e3,1e5))\n",
    "labels(\"S2 energy (pes)\", \"Entries\")"
   ]
  },
  {
   "cell_type": "markdown",
   "metadata": {},
   "source": [
    "#### The peak now gets contributions from Compton interactions of the 1.2 MeV gamma"
   ]
  },
  {
   "cell_type": "code",
   "execution_count": null,
   "metadata": {
    "collapsed": false
   },
   "outputs": [],
   "source": [
    "hist(zf.S2e, 50, (2.0e5,3.0e5))\n",
    "labels(\"S2 energy (pes)\", \"Entries\")"
   ]
  },
  {
   "cell_type": "code",
   "execution_count": null,
   "metadata": {
    "collapsed": true
   },
   "outputs": [],
   "source": []
  },
  {
   "cell_type": "code",
   "execution_count": null,
   "metadata": {
    "collapsed": false
   },
   "outputs": [],
   "source": [
    "s2eq2p0zlt15 = s2eq2p0[s2eq2p0.Z < 150]\n",
    "s2eq2p0zlt15.head()"
   ]
  },
  {
   "cell_type": "code",
   "execution_count": null,
   "metadata": {
    "collapsed": false
   },
   "outputs": [],
   "source": [
    "hist(s2eq2p0zlt15.Z, 25, (0,200))\n",
    "labels(\"Drift time (mm)\", \"Entries\")"
   ]
  },
  {
   "cell_type": "code",
   "execution_count": null,
   "metadata": {
    "collapsed": false
   },
   "outputs": [],
   "source": [
    "hist(s2eq2p0zlt15.S2e, 50, (0e3,1e5))\n",
    "labels(\"S2 energy (pes)\", \"Entries\")"
   ]
  },
  {
   "cell_type": "code",
   "execution_count": null,
   "metadata": {
    "collapsed": false
   },
   "outputs": [],
   "source": [
    "s2eq2p0zgt15 = s2eq2p0[s2eq2p0.Z > 150]\n",
    "s2eq2p0zgt15.head()"
   ]
  },
  {
   "cell_type": "code",
   "execution_count": null,
   "metadata": {
    "collapsed": false
   },
   "outputs": [],
   "source": [
    "hist(s2eq2p0zgt15.Z, 25, (0,200))\n",
    "labels(\"Drift time (mm)\", \"Entries\")"
   ]
  },
  {
   "cell_type": "code",
   "execution_count": null,
   "metadata": {
    "collapsed": false
   },
   "outputs": [],
   "source": [
    "hist(s2eq2p0zgt15.S2e, 50, (0e3,1e5))\n",
    "labels(\"S2 energy (pes)\", \"Entries\")"
   ]
  },
  {
   "cell_type": "code",
   "execution_count": null,
   "metadata": {
    "collapsed": false
   },
   "outputs": [],
   "source": [
    "s2eq2p1 = s2eq2[s2eq2.peak ==1]\n",
    "s2eq2p0.head()"
   ]
  },
  {
   "cell_type": "code",
   "execution_count": null,
   "metadata": {
    "collapsed": false
   },
   "outputs": [],
   "source": [
    "hist(s2eq2p1.Z, 25, (0,300))\n",
    "labels(\"Drift time (mm)\", \"Entries\")"
   ]
  },
  {
   "cell_type": "code",
   "execution_count": null,
   "metadata": {
    "collapsed": false
   },
   "outputs": [],
   "source": [
    "hist(s2eq2p1.S2e, 50, (0e3,1e4))\n",
    "labels(\"S2 energy (pes)\", \"Entries\")"
   ]
  },
  {
   "cell_type": "code",
   "execution_count": null,
   "metadata": {
    "collapsed": false
   },
   "outputs": [],
   "source": [
    "zrange =   0, 300\n",
    "Erange = 0e3, 1e4\n",
    "hist2d(s2eq2p1.Z, s2eq2p1.S2e, (25, 25), range=(zrange, Erange))\n",
    "labels(\"Drift time ($\\mu$s)\", \"S2 energy\")"
   ]
  },
  {
   "cell_type": "code",
   "execution_count": null,
   "metadata": {
    "collapsed": true
   },
   "outputs": [],
   "source": []
  },
  {
   "cell_type": "code",
   "execution_count": null,
   "metadata": {
    "collapsed": false
   },
   "outputs": [],
   "source": [
    "XR1 = full[full.S2e > 2e3]\n",
    "XR = XR1[XR1.S2e < 10e3]\n",
    "print(\"Ratio:\", len(XR)/len(full))\n",
    "XR.head()"
   ]
  },
  {
   "cell_type": "code",
   "execution_count": null,
   "metadata": {
    "collapsed": false
   },
   "outputs": [],
   "source": [
    "hist(XR.nS2)\n",
    "labels(\"number of S2\", \"Entries\")"
   ]
  },
  {
   "cell_type": "code",
   "execution_count": null,
   "metadata": {
    "collapsed": false
   },
   "outputs": [],
   "source": [
    "hist(XR.Z, 25, (0,500))\n",
    "labels(\"Drift time (mm)\", \"Entries\")"
   ]
  },
  {
   "cell_type": "code",
   "execution_count": null,
   "metadata": {
    "collapsed": false
   },
   "outputs": [],
   "source": [
    "hist(XR.Z, 25, (0,200))\n",
    "hist(full.Z, 25, (0,200))\n",
    "doublehist(XR.Z, full.Z, ['XR','full'],(0,500))\n",
    "labels(\"Drift time (mm)\", \"Entries\")"
   ]
  },
  {
   "cell_type": "code",
   "execution_count": null,
   "metadata": {
    "collapsed": false
   },
   "outputs": [],
   "source": [
    "plt.figure()\n",
    "h1 = plt.hist(XR.Z, 25, (0,500), label='XR', alpha=0.5, normed=True)\n",
    "h2 = plt.hist(full.Z, 25,(0,500), label='Full', alpha=0.5, normed=True)\n",
    "plt.legend()"
   ]
  },
  {
   "cell_type": "code",
   "execution_count": null,
   "metadata": {
    "collapsed": false
   },
   "outputs": [],
   "source": [
    "zrange =   0, 200\n",
    "Erange = 50e3, 1e5\n",
    "hist2d(full.Z, full.S2e, (25, 25), range=(zrange, Erange))\n",
    "labels(\"Drift time ($\\mu$s)\", \"S2 energy\")\n",
    "\n",
    "\n",
    "Erange =  4e3, 8e3\n",
    "hist2d(XR.Z, XR.S2e, (25, 25), range=(zrange, Erange))\n",
    "labels(\"Drift time ($\\mu$s)\", \"S2 energy\")"
   ]
  },
  {
   "cell_type": "code",
   "execution_count": null,
   "metadata": {
    "collapsed": false
   },
   "outputs": [],
   "source": [
    "x, xe, y, ye  = plot_profile_histogram(XR.Z.values, \n",
    "                                       XR.S2e.values, \n",
    "                                       xr = (50,200), nbins=20)"
   ]
  },
  {
   "cell_type": "code",
   "execution_count": null,
   "metadata": {
    "collapsed": false
   },
   "outputs": [],
   "source": [
    "len(ye)"
   ]
  },
  {
   "cell_type": "code",
   "execution_count": null,
   "metadata": {
    "collapsed": true
   },
   "outputs": [],
   "source": []
  },
  {
   "cell_type": "code",
   "execution_count": null,
   "metadata": {
    "collapsed": false
   },
   "outputs": [],
   "source": [
    "sel  = fitf.in_range(x, 60, 150)\n",
    "x, y, ye = x[sel], y[sel], ye[sel]\n",
    "\n",
    "f = fitf.fit(fitf.expo, x, y, (1e4, -200))\n",
    "plt.errorbar(x=x, xerr=xe, y=y, yerr=ye,\n",
    "                 linestyle='none', marker='.')\n",
    "plt.plot(x, f.fn(x), fitOpt)\n",
    "print('fit values: E0 = {} lifetime = {}'.format(f.values[0],f.values[1]))\n",
    "print('errors: E0 = {} lifetime = {}'.format(f.errors[0],f.errors[1]))\n",
    "print('chi2 = {}'.format(f.chi2))\n",
    "labels(\"Drift time ($\\mu$s)\", \"S2 energy (pes)\")"
   ]
  },
  {
   "cell_type": "code",
   "execution_count": null,
   "metadata": {
    "collapsed": false
   },
   "outputs": [],
   "source": [
    "plt.plot(ze)"
   ]
  },
  {
   "cell_type": "code",
   "execution_count": null,
   "metadata": {
    "collapsed": true
   },
   "outputs": [],
   "source": []
  },
  {
   "cell_type": "code",
   "execution_count": null,
   "metadata": {
    "collapsed": false
   },
   "outputs": [],
   "source": [
    "plt.errorbar(x=z, xerr=ze, y=E, yerr=Ee,\n",
    "                 linestyle='none', marker='.')\n",
    "\n",
    "plt.plot(z, f.fn(z), fitOpt)\n",
    "print('fit values: E0 = {} lifetime = {}'.format(f.values[0],f.values[1]))\n",
    "print('errors: E0 = {} lifetime = {}'.format(f.errors[0],f.errors[1]))\n",
    "print('chi2 = {}'.format(f.chi2))\n",
    "labels(\"Drift time ($\\mu$s)\", \"S2 energy (pes)\")\n",
    "\n"
   ]
  },
  {
   "cell_type": "markdown",
   "metadata": {},
   "source": [
    "#### NB very visible position of the source"
   ]
  },
  {
   "cell_type": "markdown",
   "metadata": {},
   "source": [
    "### Raw S2"
   ]
  },
  {
   "cell_type": "code",
   "execution_count": null,
   "metadata": {
    "collapsed": false
   },
   "outputs": [],
   "source": [
    "hist(full.nS2, 5, (0,5))\n",
    "labels(\"Number of S2 signals\", \"Entries\")"
   ]
  },
  {
   "cell_type": "code",
   "execution_count": null,
   "metadata": {
    "collapsed": false
   },
   "outputs": [],
   "source": [
    "pdf(full.S2e, 200, (0,3e5))\n",
    "labels(\"S2 energy (pes)\", \"Entries\")"
   ]
  },
  {
   "cell_type": "code",
   "execution_count": null,
   "metadata": {
    "collapsed": false
   },
   "outputs": [],
   "source": [
    "hist(full.S2e, 50, (0e3,2e5))\n",
    "labels(\"S2 energy (pes)\", \"Entries\")"
   ]
  },
  {
   "cell_type": "code",
   "execution_count": null,
   "metadata": {
    "collapsed": false
   },
   "outputs": [],
   "source": [
    "n, bins, patches  = hist(full.S2e, 25, (0,1e4))\n",
    "labels(\"S2 energy (pes)\", \"Entries\")"
   ]
  },
  {
   "cell_type": "markdown",
   "metadata": {},
   "source": [
    "### S1"
   ]
  },
  {
   "cell_type": "code",
   "execution_count": null,
   "metadata": {
    "collapsed": false,
    "scrolled": false
   },
   "outputs": [],
   "source": [
    "bins = np.linspace(0, 500, 100)\n",
    "n, bins, patches  = hist(full.S1e, bins)\n",
    "labels(\"S1 energy (pes)\", \"Entries\")\n",
    "\n",
    "bins = np.linspace(0, 500, 21)\n",
    "n, bins, patches  = hist(full.S1w, bins)\n",
    "labels(\"S1 width (ns)\", \"Entries\")\n",
    "\n",
    "bins = np.linspace(0, 100, 100)\n",
    "n, bins, patches  =  hist(full.S1h, bins)\n",
    "labels(\"S1 heigth (pes)\", \"Entries\")"
   ]
  },
  {
   "cell_type": "markdown",
   "metadata": {},
   "source": [
    "### S2 energy vs Z"
   ]
  },
  {
   "cell_type": "code",
   "execution_count": null,
   "metadata": {
    "collapsed": false
   },
   "outputs": [],
   "source": [
    "zrange =   0, 300\n",
    "Erange = 50e3, 1e5\n",
    "hist2d(full.Z, full.S2e, (50, 50), range=(zrange, Erange))\n",
    "labels(\"Drift time ($\\mu$s)\", \"S2 energy\")\n",
    "\n",
    "\n",
    "Erange =  1e3, 1e4\n",
    "hist2d(full.Z, full.S2e, (50, 50), range=(zrange, Erange))\n",
    "labels(\"Drift time ($\\mu$s)\", \"S2 energy\")"
   ]
  },
  {
   "cell_type": "markdown",
   "metadata": {},
   "source": [
    "### S1 energy vs Z"
   ]
  },
  {
   "cell_type": "code",
   "execution_count": null,
   "metadata": {
    "collapsed": false
   },
   "outputs": [],
   "source": [
    "zrange =   0, 250\n",
    "Erange = 50, 250\n",
    "hist2d(full.Z, full.S1e, (50, 50), range=(zrange, Erange))\n",
    "labels(\"Drift time ($\\mu$s)\", \"S1 energy\")"
   ]
  },
  {
   "cell_type": "markdown",
   "metadata": {},
   "source": [
    "### S1 vs S2"
   ]
  },
  {
   "cell_type": "code",
   "execution_count": null,
   "metadata": {
    "collapsed": false
   },
   "outputs": [],
   "source": [
    "zrange =   0, 250\n",
    "S1range = 50, 250\n",
    "S2range = 50e3, 1e5\n",
    "hist2d(full.S1e, full.S2e, (50, 50), range=(S1range, S2range))\n",
    "labels(\"S1 energy (pes)\", \"S2 energy (pes)\")\n",
    "#save(\"S1_energy_vs_S2_energy_short\")"
   ]
  },
  {
   "cell_type": "code",
   "execution_count": null,
   "metadata": {
    "collapsed": false
   },
   "outputs": [],
   "source": [
    "s1pe_l = full[full.S1e > 120]\n",
    "s1pe   = s1pe_l[s1pe_l.S1e < 150]\n",
    "print(\"Ratio:\", len(s1pe)/len(full))\n",
    "s1pe.head()"
   ]
  },
  {
   "cell_type": "code",
   "execution_count": null,
   "metadata": {
    "collapsed": false
   },
   "outputs": [],
   "source": [
    "hist(s1pe.S2e, 50, (0e3,2e5))\n",
    "labels(\"S2 energy (pes)\", \"Entries\")"
   ]
  },
  {
   "cell_type": "code",
   "execution_count": null,
   "metadata": {
    "collapsed": false
   },
   "outputs": [],
   "source": [
    "s1npe = full[full.S1e < 100]\n",
    "print(\"Ratio:\", len(s1npe)/len(full))\n",
    "s1npe.head()"
   ]
  },
  {
   "cell_type": "code",
   "execution_count": null,
   "metadata": {
    "collapsed": false
   },
   "outputs": [],
   "source": [
    "hist(s1npe.S2e, 50, (0e3,2e5))\n",
    "labels(\"S2 energy (pes); S1 < 100 pes\", \"Entries\")"
   ]
  },
  {
   "cell_type": "code",
   "execution_count": null,
   "metadata": {
    "collapsed": true
   },
   "outputs": [],
   "source": []
  },
  {
   "cell_type": "markdown",
   "metadata": {},
   "source": [
    "## Short drift time: Z < 250 $\\mu$s"
   ]
  },
  {
   "cell_type": "code",
   "execution_count": null,
   "metadata": {
    "collapsed": false
   },
   "outputs": [],
   "source": [
    "shortZ = full[full.Z < 250]\n",
    "fidz = shortZ[shortZ.Z > 50]\n",
    "print(\"Ratio:\", len(fidz)/len(full))\n",
    "fidz.head()"
   ]
  },
  {
   "cell_type": "markdown",
   "metadata": {},
   "source": [
    "# S2 energy"
   ]
  },
  {
   "cell_type": "code",
   "execution_count": null,
   "metadata": {
    "collapsed": false
   },
   "outputs": [],
   "source": [
    "zrange =   50, 250\n",
    "Erange = 50e3, 1e5\n",
    "hist2d(shortZ.Z, shortZ.S2e, (50, 50), range=(zrange, Erange))\n",
    "labels(\"Drift time ($\\mu$s)\", \"S2 energy\")\n",
    "\n",
    "\n",
    "Erange =  1e3, 1e4\n",
    "hist2d(shortZ.Z, shortZ.S2e, (50, 50), range=(zrange, Erange))\n",
    "labels(\"Drift time ($\\mu$s)\", \"S2 energy\")"
   ]
  },
  {
   "cell_type": "markdown",
   "metadata": {},
   "source": [
    "### X rays"
   ]
  },
  {
   "cell_type": "code",
   "execution_count": null,
   "metadata": {
    "collapsed": false
   },
   "outputs": [],
   "source": [
    "XR1 = fidz[fidz.S2e > 4e3]\n",
    "XR = XR1[XR1.S2e < 8e3]\n",
    "print(\"Ratio:\", len(XR)/len(full))\n",
    "XR.head()"
   ]
  },
  {
   "cell_type": "code",
   "execution_count": null,
   "metadata": {
    "collapsed": true
   },
   "outputs": [],
   "source": []
  },
  {
   "cell_type": "markdown",
   "metadata": {},
   "source": [
    "### Geometry"
   ]
  },
  {
   "cell_type": "code",
   "execution_count": null,
   "metadata": {
    "collapsed": false,
    "scrolled": false
   },
   "outputs": [],
   "source": [
    "xrange = -215, 215\n",
    "yrange = -215, 215\n",
    "rrange =    0, 215\n",
    "prange = - pi,  pi\n",
    "\n",
    "hist(XR.X, 25, range=xrange)\n",
    "labels(\"x (mm)\", \"Entries\")\n",
    "\n",
    "\n",
    "hist(XR.Y, 25, range=yrange)\n",
    "labels(\"y (mm)\", \"Entries\")\n",
    "\n",
    "hist(XR.R, 25, range=rrange)\n",
    "labels(\"r (mm)\", \"Entries\")\n",
    "\n",
    "hist(XR.Phi, 25, range=prange)\n",
    "labels(\"$\\phi$ (rad)\", \"Entries\")\n",
    "\n",
    "nevts, xs, ys, _ = \\\n",
    "hist2d(XR.X, XR.Y, (20, 30), range=(xrange, yrange))\n",
    "plt.colorbar().set_label(\"# events\")\n",
    "labels(\"x (mm)\", \"y (mm)\")\n"
   ]
  },
  {
   "cell_type": "code",
   "execution_count": null,
   "metadata": {
    "collapsed": false
   },
   "outputs": [],
   "source": [
    "\n",
    "pf, _, cb = profile_and_scatter(XR.X, XR.Y, XR.S2e, (20, 20), xrange=xrange, yrange=yrange)\n",
    "cb.set_label(\"E (pes)\")\n",
    "labels(\"x (mm)\", \"y (mm)\")"
   ]
  },
  {
   "cell_type": "code",
   "execution_count": null,
   "metadata": {
    "collapsed": true
   },
   "outputs": [],
   "source": []
  },
  {
   "cell_type": "code",
   "execution_count": null,
   "metadata": {
    "collapsed": false
   },
   "outputs": [],
   "source": [
    "rfid = 180\n",
    "XRfid = XR[XR.R < rfid]\n",
    "print(\"Ratio:\", len(XRfid)/len(full))\n",
    "print(\"Ratio:\", len(XRfid)/len(XR))\n",
    "XRfid.head()"
   ]
  },
  {
   "cell_type": "code",
   "execution_count": null,
   "metadata": {
    "collapsed": false
   },
   "outputs": [],
   "source": [
    "pf, _, cb = profile_and_scatter(XRfid.X, XRfid.Y, XRfid.S2e, (20, 20), xrange=xrange, yrange=yrange)\n",
    "cb.set_label(\"E (pes)\")\n",
    "labels(\"x (mm)\", \"y (mm)\")"
   ]
  },
  {
   "cell_type": "code",
   "execution_count": null,
   "metadata": {
    "collapsed": false
   },
   "outputs": [],
   "source": [
    "x, xe, y, ye  = plot_profile_histogram(XRfid.Z.values, \n",
    "                                           XRfid.S2e.values, \n",
    "                                           xr = (50,160), nbins=20)"
   ]
  },
  {
   "cell_type": "code",
   "execution_count": null,
   "metadata": {
    "collapsed": false
   },
   "outputs": [],
   "source": [
    "sel  = fitf.in_range(x, 50, 160)\n",
    "x, y = x[sel], y[sel]\n",
    "\n",
    "f = fitf.fit(fitf.expo, x, y, (1e4, -200))\n",
    "plt.errorbar(x=x, xerr=xe, y=y, yerr=ye,\n",
    "                 linestyle='none', marker='.')\n",
    "plt.plot(x, f.fn(x), fitOpt)\n",
    "print('fit values: E0 = {} lifetime = {}'.format(f.values[0],f.values[1]))\n",
    "print('errors: E0 = {} lifetime = {}'.format(f.errors[0],f.errors[1]))\n",
    "print('chi2 = {}'.format(f.chi2))\n",
    "labels(\"Drift time ($\\mu$s)\", \"S2 energy (pes)\")"
   ]
  },
  {
   "cell_type": "code",
   "execution_count": null,
   "metadata": {
    "collapsed": true
   },
   "outputs": [],
   "source": [
    "#('FitFunction'    , 'fn values errors chi2')):"
   ]
  },
  {
   "cell_type": "code",
   "execution_count": null,
   "metadata": {
    "collapsed": true
   },
   "outputs": [],
   "source": [
    "zfun  = f.fn\n",
    "zmin  = np.min(x)\n",
    "zcorr = lambda z: zfun(zmin)/zfun(z)"
   ]
  },
  {
   "cell_type": "code",
   "execution_count": null,
   "metadata": {
    "collapsed": false
   },
   "outputs": [],
   "source": [
    "plt.plot(x, zcorr(x))"
   ]
  },
  {
   "cell_type": "markdown",
   "metadata": {},
   "source": [
    "### Correction by attachment"
   ]
  },
  {
   "cell_type": "markdown",
   "metadata": {},
   "source": [
    "### Z corr in fiducial (no hard cut on R)"
   ]
  },
  {
   "cell_type": "code",
   "execution_count": null,
   "metadata": {
    "collapsed": false
   },
   "outputs": [],
   "source": [
    "Erange = 4e3, 10e3\n",
    "E = XR.S2e * zcorr(XR.Z)\n",
    "y, x, _ = hist(E, 50, range=Erange)\n",
    "x    = x[:-1] + np.diff(x) * 0.5\n",
    "sel  = fitf.in_range(x, 6000, 8000)\n",
    "x, y = x[sel], y[sel]\n",
    "f    = fitf.fit(fitf.gauss, x, y, (1e3, 8e3, 200))\n",
    "plt.plot(x, f.fn(x), fitOpt)\n",
    "plt.text(Erange[0], max(y)/2, gausstext(f))\n",
    "labels(\"S2 energy (pes)\", \"Entries\")"
   ]
  },
  {
   "cell_type": "code",
   "execution_count": null,
   "metadata": {
    "collapsed": false
   },
   "outputs": [],
   "source": [
    "hist2d(XR.Z, E, (25, 25), range=(zrange, Erange))\n",
    "labels(\"z(mm)\", \"S2 energy (pes)\")"
   ]
  },
  {
   "cell_type": "code",
   "execution_count": null,
   "metadata": {
    "collapsed": false
   },
   "outputs": [],
   "source": [
    "Erange = 4e3, 8e3\n",
    "E = XR.S2e * zcorr(XR.Z)\n",
    "x, xe, y, ye  = plot_profile_histogram(XR.Z.values, \n",
    "                                           E, \n",
    "                                           xr = (50,200), nbins=20)"
   ]
  },
  {
   "cell_type": "markdown",
   "metadata": {},
   "source": [
    "### Z corr in restricted fiducial (hard cut on R)"
   ]
  },
  {
   "cell_type": "code",
   "execution_count": null,
   "metadata": {
    "collapsed": false
   },
   "outputs": [],
   "source": [
    "Erange = 4e3, 10e3\n",
    "E = fidzr.S2e * zcorr(fidzr.Z)\n",
    "y, x, _ = hist(E, 25, range=Erange)\n",
    "x    = x[:-1] + np.diff(x) * 0.5\n",
    "sel  = fitf.in_range(x, 6000, 8000)\n",
    "x, y = x[sel], y[sel]\n",
    "f    = fitf.fit(fitf.gauss, x, y, (1e3, 8e3, 200))\n",
    "plt.plot(x, f.fn(x), fitOpt)\n",
    "plt.text(Erange[0], max(y)/2, gausstext(f))\n",
    "labels(\"S2 energy (pes)\", \"Entries\")"
   ]
  },
  {
   "cell_type": "code",
   "execution_count": null,
   "metadata": {
    "collapsed": false
   },
   "outputs": [],
   "source": [
    "hist2d(fidzr.Z, E, (25, 25), range=(zrange, Erange))\n",
    "labels(\"z(mm)\", \"S2 energy (pes)\")"
   ]
  },
  {
   "cell_type": "markdown",
   "metadata": {},
   "source": [
    "### Tracking plane"
   ]
  },
  {
   "cell_type": "code",
   "execution_count": null,
   "metadata": {
    "collapsed": false
   },
   "outputs": [],
   "source": [
    "nrange = 0, 120\n",
    "\n",
    "hist(fidz.Nsipm, max(nrange), nrange)\n",
    "labels(\"# SiPMs\", \"Entries\")"
   ]
  },
  {
   "cell_type": "markdown",
   "metadata": {},
   "source": [
    "### Event distribution "
   ]
  },
  {
   "cell_type": "markdown",
   "metadata": {},
   "source": [
    "#### all events"
   ]
  },
  {
   "cell_type": "code",
   "execution_count": null,
   "metadata": {
    "collapsed": false
   },
   "outputs": [],
   "source": [
    "xrange = -215, 215\n",
    "yrange = -215, 215\n",
    "rrange =    0, 215\n",
    "prange = - pi,  pi\n",
    "\n",
    "hist(fidz.X, 50, range=xrange)\n",
    "labels(\"x (mm)\", \"Entries\")\n",
    "\n",
    "hist(fidz.Y, 50, range=yrange)\n",
    "labels(\"y (mm)\", \"Entries\")\n",
    "\n",
    "hist(fidz.R, 50, range=rrange)\n",
    "labels(\"r (mm)\", \"Entries\")\n",
    "\n",
    "hist(fidz.Phi, 50, range=prange)\n",
    "labels(\"$\\phi$ (rad)\", \"Entries\")\n",
    "\n",
    "\n",
    "nevts, xs, ys, _ = \\\n",
    "hist2d(fidz.X, fidz.Y, (50, 50), range=(xrange, yrange))\n",
    "plt.colorbar().set_label(\"# events\")\n",
    "labels(\"x (mm)\", \"y (mm)\")\n",
    "\n",
    "################################\n",
    "hist2d(fidz.R, fidz.Phi, (50, 50), range=(rrange, prange))\n",
    "plt.colorbar().set_label(\"# events\")\n",
    "labels(\"r (mm)\", \"$\\phi$ (mm)\")\n",
    "save(\"RPhi\")\n"
   ]
  },
  {
   "cell_type": "code",
   "execution_count": null,
   "metadata": {
    "collapsed": false
   },
   "outputs": [],
   "source": [
    "Erange =  4e3, 200e3\n",
    "\n",
    "E = fidz.S2e * zcorr(fidz.Z)\n",
    "\n",
    "pf, _, cb = profile_and_scatter(fidz.X, fidz.Y, E, (20, 20), xrange=xrange, yrange=yrange)\n",
    "cb.set_label(\"E (pes)\")\n",
    "labels(\"x (mm)\", \"y (mm)\")"
   ]
  },
  {
   "cell_type": "code",
   "execution_count": null,
   "metadata": {
    "collapsed": false
   },
   "outputs": [],
   "source": [
    "Erange =  4e3, 10e3\n",
    "\n",
    "E = fidz.S2e * zcorr(fidz.Z)\n",
    "\n",
    "pf, _, cb = profile_and_scatter(fidz.X, fidz.Y, E, (20, 20), xrange=xrange, yrange=yrange)\n",
    "cb.set_label(\"E (pes)\")\n",
    "labels(\"x (mm)\", \"y (mm)\")"
   ]
  },
  {
   "cell_type": "markdown",
   "metadata": {},
   "source": [
    "### Cut on R"
   ]
  },
  {
   "cell_type": "code",
   "execution_count": null,
   "metadata": {
    "collapsed": false
   },
   "outputs": [],
   "source": [
    "rfid = 180\n",
    "fidr = fidz[fidz.R < rfid]\n",
    "print(\"Ratio:\", len(fidr)/len(full))\n",
    "fidr.head()"
   ]
  },
  {
   "cell_type": "code",
   "execution_count": null,
   "metadata": {
    "collapsed": false
   },
   "outputs": [],
   "source": [
    "Erange =  4e3, 200e3\n",
    "\n",
    "E = fidr.S2e * zcorr(fidr.Z)\n",
    "\n",
    "pf, _, cb = profile_and_scatter(fidr.X, fidr.Y, E, (20, 20), xrange=xrange, yrange=yrange)\n",
    "cb.set_label(\"E (pes)\")\n",
    "labels(\"x (mm)\", \"y (mm)\")"
   ]
  },
  {
   "cell_type": "code",
   "execution_count": null,
   "metadata": {
    "collapsed": false
   },
   "outputs": [],
   "source": [
    "Erange =  60e3, 90e3\n",
    "\n",
    "E = fidr.S2e * zcorr(fidr.Z)\n",
    "\n",
    "pf, _, cb = profile_and_scatter(fidr.X, fidr.Y, E, (20, 20), xrange=xrange, yrange=yrange)\n",
    "cb.set_label(\"E (pes)\")\n",
    "labels(\"x (mm)\", \"y (mm)\")"
   ]
  },
  {
   "cell_type": "code",
   "execution_count": null,
   "metadata": {
    "collapsed": false
   },
   "outputs": [],
   "source": [
    "Erange =  4e3, 10e3\n",
    "\n",
    "E = fidr.S2e * zcorr(fidr.Z)\n",
    "\n",
    "pf, _, cb = profile_and_scatter(fidr.X, fidr.Y, E, (20, 20), xrange=xrange, yrange=yrange)\n",
    "cb.set_label(\"E (pes)\")\n",
    "labels(\"x (mm)\", \"y (mm)\")"
   ]
  },
  {
   "cell_type": "markdown",
   "metadata": {},
   "source": [
    "#### X rays"
   ]
  },
  {
   "cell_type": "code",
   "execution_count": null,
   "metadata": {
    "collapsed": false
   },
   "outputs": [],
   "source": [
    "xrange = -215, 215\n",
    "yrange = -215, 215\n",
    "rrange =    0, 215\n",
    "prange = - pi,  pi\n",
    "\n",
    "hist(XR.X, 25, range=xrange)\n",
    "labels(\"x (mm)\", \"Entries\")\n",
    "\n",
    "hist(XR.Y, 25, range=yrange)\n",
    "labels(\"y (mm)\", \"Entries\")\n",
    "\n",
    "hist(XR.R, 25, range=rrange)\n",
    "labels(\"r (mm)\", \"Entries\")\n",
    "\n",
    "hist(XR.Phi, 25, range=prange)\n",
    "labels(\"$\\phi$ (rad)\", \"Entries\")\n",
    "\n",
    "\n",
    "nevts, xs, ys, _ = \\\n",
    "hist2d(XR.X, XR.Y, (25, 25), range=(xrange, yrange))\n",
    "plt.colorbar().set_label(\"# events\")\n",
    "labels(\"x (mm)\", \"y (mm)\")\n",
    "\n",
    "################################\n",
    "hist2d(XR.R, XR.Phi, (25, 25), range=(rrange, prange))\n",
    "plt.colorbar().set_label(\"# events\")\n",
    "labels(\"r (mm)\", \"$\\phi$ (mm)\")\n",
    "save(\"RPhi\")"
   ]
  },
  {
   "cell_type": "code",
   "execution_count": null,
   "metadata": {
    "collapsed": false
   },
   "outputs": [],
   "source": [
    "yfid = 50\n",
    "fidy = fidz[abs(fidz.Y) < yfid]\n",
    "print(\"Ratio:\", len(fidy)/len(full))\n",
    "fidy.head()"
   ]
  },
  {
   "cell_type": "markdown",
   "metadata": {},
   "source": [
    "### After y fiducial cut"
   ]
  },
  {
   "cell_type": "code",
   "execution_count": null,
   "metadata": {
    "collapsed": false
   },
   "outputs": [],
   "source": [
    "xrange = -215, 215\n",
    "yrange = -50, 50\n",
    "rrange =    0, 215\n",
    "prange = - pi,  pi\n",
    "\n",
    "hist(fidy.X, 50, range=xrange)\n",
    "labels(\"x (mm)\", \"Entries\")\n",
    "\n",
    "hist(fidy.Y, 50, range=yrange)\n",
    "labels(\"y (mm)\", \"Entries\")\n",
    "\n",
    "hist(fidy.R, 50, range=rrange)\n",
    "labels(\"r (mm)\", \"Entries\")\n",
    "\n",
    "hist(fidy.Phi, 50, range=prange)\n",
    "labels(\"$\\phi$ (rad)\", \"Entries\")\n",
    "\n",
    "\n",
    "nevts, xs, ys, _ = \\\n",
    "hist2d(fidy.X, fidy.Y, (50, 50), range=(xrange, yrange))\n",
    "plt.colorbar().set_label(\"# events\")\n",
    "labels(\"x (mm)\", \"y (mm)\")\n",
    "\n",
    "################################\n",
    "hist2d(fidy.R, fidy.Phi, (50, 50), range=(rrange, prange))\n",
    "plt.colorbar().set_label(\"# events\")\n",
    "labels(\"r (mm)\", \"$\\phi$ (mm)\")\n",
    "save(\"RPhi\")"
   ]
  },
  {
   "cell_type": "markdown",
   "metadata": {},
   "source": [
    "### X Rays"
   ]
  },
  {
   "cell_type": "code",
   "execution_count": null,
   "metadata": {
    "collapsed": false
   },
   "outputs": [],
   "source": [
    "XRyfid = 150\n",
    "XRxfid = 150\n",
    "fidyXR = XR[abs(XR.Y) < XRyfid]\n",
    "fidXR = fidyXR[abs(fidyXR.X) < XRxfid]\n",
    "print(\"Ratio:\", len(fidXR)/len(full))\n",
    "print(\"Ratio wr XR:\", len(fidXR)/len(XR))\n",
    "fidXR.head()"
   ]
  },
  {
   "cell_type": "code",
   "execution_count": null,
   "metadata": {
    "collapsed": true
   },
   "outputs": [],
   "source": []
  },
  {
   "cell_type": "code",
   "execution_count": null,
   "metadata": {
    "collapsed": false
   },
   "outputs": [],
   "source": [
    "xrange = -150, 150\n",
    "yrange = -150, 150\n",
    "rrange =    0, 215\n",
    "prange = - pi,  pi\n",
    "bins = 25\n",
    "\n",
    "hist(fidXR.X, bins, range=xrange)\n",
    "labels(\"x (mm)\", \"Entries\")\n",
    "\n",
    "hist(fidXR.Y, bins, range=yrange)\n",
    "labels(\"y (mm)\", \"Entries\")\n",
    "\n",
    "hist(fidXR.R, bins, range=rrange)\n",
    "labels(\"r (mm)\", \"Entries\")\n",
    "\n",
    "hist(fidXR.Phi, bins, range=prange)\n",
    "labels(\"$\\phi$ (rad)\", \"Entries\")\n",
    "\n",
    "\n",
    "nevts, xs, ys, _ = \\\n",
    "hist2d(fidXR.X, fidXR.Y, (20, 20), range=(xrange, yrange))\n",
    "plt.colorbar().set_label(\"# events\")\n",
    "labels(\"x (mm)\", \"y (mm)\")\n",
    "\n",
    "################################\n",
    "hist2d(fidXR.R, fidXR.Phi, (20, 20), range=(rrange, prange))\n",
    "plt.colorbar().set_label(\"# events\")\n",
    "labels(\"r (mm)\", \"$\\phi$ (mm)\")"
   ]
  },
  {
   "cell_type": "code",
   "execution_count": null,
   "metadata": {
    "collapsed": true
   },
   "outputs": [],
   "source": []
  },
  {
   "cell_type": "markdown",
   "metadata": {},
   "source": [
    "### Energy vs XY"
   ]
  },
  {
   "cell_type": "code",
   "execution_count": null,
   "metadata": {
    "collapsed": false
   },
   "outputs": [],
   "source": [
    "xrange = -215, 215\n",
    "yrange = -215, 215\n",
    "rrange =    0, 215\n",
    "prange = - pi,  pi\n",
    "Erange =  4e3, 9e3\n",
    "\n",
    "E = fidXR.S2e * zcorr(fidXR.Z)\n",
    "\n",
    "pf, _, cb = profile_and_scatter(fidXR.X, fidXR.Y, E, (20, 20), xrange=xrange, yrange=yrange)\n",
    "cb.set_label(\"E (pes)\")\n",
    "labels(\"x (mm)\", \"y (mm)\")"
   ]
  },
  {
   "cell_type": "code",
   "execution_count": null,
   "metadata": {
    "collapsed": false
   },
   "outputs": [],
   "source": [
    "_, _, cb = profile_and_scatter(fidXR.R, fidXR.Phi, E, (20, 20), xrange=rrange, yrange=prange)\n",
    "cb.set_label(\"E (pes)\")\n",
    "labels(\"r (mm)\", \"$\\phi$ (rad)\")"
   ]
  },
  {
   "cell_type": "code",
   "execution_count": null,
   "metadata": {
    "collapsed": false
   },
   "outputs": [],
   "source": [
    "XRrfid1 = 20\n",
    "XRxfid2 = 160\n",
    "fidyXR = XR[abs(XR.Y) < XRyfid]\n",
    "fidXR = fidyXR[abs(fidyXR.X) < XRxfid]\n",
    "fidr1XR = fidXR[abs(fidXR.R) > XRrfid1]\n",
    "fidrXR = fidr1XR[abs(fidr1XR.R) < XRxfid2]\n",
    "print(\"Ratio:\", len(fidrXR)/len(full))\n",
    "print(\"Ratio wr XR:\", len(fidrXR)/len(XR))\n",
    "fidrXR.head()"
   ]
  },
  {
   "cell_type": "code",
   "execution_count": null,
   "metadata": {
    "collapsed": false
   },
   "outputs": [],
   "source": [
    "xrange = -150, 150\n",
    "yrange = -150, 150\n",
    "rrange =    20, 160\n",
    "prange = - pi,  pi\n",
    "Erange =  4e3, 9e3\n",
    "\n",
    "E = fidrXR.S2e * zcorr(fidrXR.Z)\n",
    "\n",
    "pf, _, cb = profile_and_scatter(fidrXR.X, fidrXR.Y, E, (20, 20), xrange=xrange, yrange=yrange)\n",
    "cb.set_label(\"E (pes)\")\n",
    "labels(\"x (mm)\", \"y (mm)\")"
   ]
  },
  {
   "cell_type": "code",
   "execution_count": null,
   "metadata": {
    "collapsed": false
   },
   "outputs": [],
   "source": [
    "_, _, cb = profile_and_scatter(fidrXR.R, fidrXR.Phi, E, (20, 20), xrange=rrange, yrange=prange)\n",
    "cb.set_label(\"E (pes)\")\n",
    "labels(\"r (mm)\", \"$\\phi$ (rad)\")"
   ]
  },
  {
   "cell_type": "code",
   "execution_count": null,
   "metadata": {
    "collapsed": true
   },
   "outputs": [],
   "source": [
    "XRrfid1 = 10\n",
    "XRxfid2 = 100\n",
    "fidyXR = XR[abs(XR.Y) < XRyfid]\n",
    "fidXR = fidyXR[abs(fidyXR.X) < XRxfid]\n",
    "fidr1XR = fidXR[abs(fidXR.R) > XRrfid1]\n",
    "fidrXR = fidr1XR[abs(fidr1XR.R) < XRxfid2]\n",
    "print(\"Ratio:\", len(fidrXR)/len(full))\n",
    "print(\"Ratio wr "
   ]
  },
  {
   "cell_type": "code",
   "execution_count": null,
   "metadata": {
    "collapsed": true
   },
   "outputs": [],
   "source": [
    "\n",
    "\n",
    "hist2d(XR.R, E, (50, 50), range=(rrange, Erange), weights=E)\n",
    "x, y, _ = fitf.profileX(XR.R, E, 50, xrange=rrange, yrange=Erange)\n",
    "plt.plot(x, y, profOpt)\n",
    "labels(\"r (mm)\", \"S2 energy (pes)\")\n",
    "save(\"EvsR\")\n",
    "\n",
    "hist2d(XR.Phi, E, (50, 50), range=(prange, Erange), weights=E)\n",
    "x, y, _ = fitf.profileX(XR.Phi, E, 50, xrange=prange, yrange=Erange)\n",
    "plt.plot(x, y, profOpt)\n",
    "labels(\"phi (rad)\", \"S2 energy (pes)\")\n",
    "save(\"EvsPhi\")\n",
    "\n",
    "def get_xycorr(xs, ys, es, eref=None):\n",
    "    if eref is None:\n",
    "        eref = es[es.shape[0]//2, es.shape[1]//2]\n",
    "    xs   = xs.reshape(xs.size, 1)\n",
    "    ys   = ys.reshape(ys.size, 1)\n",
    "    print(eref)\n",
    "    def xycorr(x, y):\n",
    "        x_closest = np.apply_along_axis(np.argmin, 0, abs(x-xs))\n",
    "        y_closest = np.apply_along_axis(np.argmin, 0, abs(y-ys))\n",
    "        e = es[x_closest, y_closest]\n",
    "        e[e<1e3] = eref\n",
    "        return eref/ e\n",
    "    return xycorr\n",
    "xycorr = get_xycorr(*pf[:-1])"
   ]
  },
  {
   "cell_type": "code",
   "execution_count": null,
   "metadata": {
    "collapsed": true
   },
   "outputs": [],
   "source": [
    "x    = x[:-1] + np.diff(x) * 0.5\n",
    "sel  = fitf.in_range(x, 6000, 8500)\n",
    "x, y = x[sel], y[sel]\n",
    "f    = fitf.fit(fitf.gauss, x, y, (1e3, 8e3, 200))\n",
    "plt.plot(x, f.fn(x), fitOpt)\n",
    "plt.text(Erange[0], max(y)/2, gausstext(f.values))\n",
    "\n",
    "\n",
    "hist2d(shortZfid.Z, E, (50, 50), range=(zrange, Erange))\n",
    "x, y, _ = fitf.profileX(shortZfid.Z, E, 30, xrange=zrange, yrange=Erange)\n",
    "plt.plot(x, y, profOpt)\n",
    "\n",
    "sel  = fitf.in_range(x, 75, 150)\n",
    "x, y = x[sel], y[sel]\n",
    "f    = fitf.fit(fitf.expo, x, y, (1e4, -200))\n",
    "plt.plot(x, f.fn(x), fitOpt)\n",
    "\n",
    "print(f.values)\n",
    "labels(\"Drift time ($\\mu$s)\", \"S2 energy (pes)\")\n",
    "save(\"S2energyCorrvsZ_fiducial\")"
   ]
  },
  {
   "cell_type": "code",
   "execution_count": null,
   "metadata": {
    "collapsed": false
   },
   "outputs": [],
   "source": [
    "Erange = 50e3, 100e3\n",
    "zrange = 150, 200\n",
    "pErange = 60e3, 90e3\n",
    "pZrange = 160, 180\n",
    "\n",
    "hist2d(shortZ.Z, shortZ.S2e, (20, 20), range=(zrange, Erange))\n",
    "x, y, _ = fitf.profileX(shortZ.Z, shortZ.S2e, 20, xrange=pZrange, yrange=pErange)\n",
    "plt.plot(x, y, profOpt)\n",
    "\n",
    "labels(\"Drift time ($\\mu$s)\", \"S2 energy (pes)\")\n",
    "#save(\"S2energyvsZ\")"
   ]
  },
  {
   "cell_type": "code",
   "execution_count": null,
   "metadata": {
    "collapsed": false
   },
   "outputs": [],
   "source": [
    "minE = shortZ[shortZ.S2e > 60000]"
   ]
  },
  {
   "cell_type": "code",
   "execution_count": null,
   "metadata": {
    "collapsed": true
   },
   "outputs": [],
   "source": [
    "rangeE = minE[minE.S2e < 90000]"
   ]
  },
  {
   "cell_type": "code",
   "execution_count": null,
   "metadata": {
    "collapsed": true
   },
   "outputs": [],
   "source": []
  },
  {
   "cell_type": "code",
   "execution_count": null,
   "metadata": {
    "collapsed": false
   },
   "outputs": [],
   "source": [
    "plot_profile_histogram(rangeE.Z.values, rangeE.S2e.values, xr = (150,190), nbins=20)"
   ]
  },
  {
   "cell_type": "code",
   "execution_count": null,
   "metadata": {
    "collapsed": false
   },
   "outputs": [],
   "source": [
    "n, bins, patches  = hist(shortZ.S2e, 50, (4e3,10e+3))\n",
    "labels(\"S2 energy (pes)\", \"Entries\")"
   ]
  },
  {
   "cell_type": "code",
   "execution_count": null,
   "metadata": {
    "collapsed": false
   },
   "outputs": [],
   "source": [
    "Erange = 4e3, 10e3\n",
    "zrange = 150, 200\n",
    "\n",
    "hist2d(shortZ.Z, shortZ.S2e, (20, 20), range=(zrange, Erange))\n",
    "labels(\"Drift time ($\\mu$s)\", \"S2 energy (pes)\")"
   ]
  },
  {
   "cell_type": "code",
   "execution_count": null,
   "metadata": {
    "collapsed": true
   },
   "outputs": [],
   "source": []
  },
  {
   "cell_type": "code",
   "execution_count": null,
   "metadata": {
    "collapsed": true
   },
   "outputs": [],
   "source": []
  },
  {
   "cell_type": "markdown",
   "metadata": {},
   "source": [
    "# S2 width"
   ]
  },
  {
   "cell_type": "code",
   "execution_count": null,
   "metadata": {
    "collapsed": false
   },
   "outputs": [],
   "source": [
    "zrange = 0, 200\n",
    "wrange = 5, 15\n",
    "\n",
    "hist(shortZ.S2w, 20)\n",
    "labels(\"S2 width ($\\mu$s)\", \"Entries\")\n",
    "#save(\"S2width\")\n",
    "\n",
    "#hist2d(shortZ.Z, shortZ.S2w*1e-3, (50, 20), range=(zrange, wrange))\n",
    "#x, y, _ = fitf.profileX(shortZ.Z, shortZ.S2w*1e-3, 30, xrange=zrange, yrange=wrange)\n",
    "#plt.plot(x, y, profOpt)\n",
    "\n",
    "#labels(\"Drift time ($\\mu$s)\", \"S2 energy (pes)\")\n",
    "#save(\"S2widthvsZ\")"
   ]
  },
  {
   "cell_type": "markdown",
   "metadata": {},
   "source": [
    "# S2 height"
   ]
  },
  {
   "cell_type": "code",
   "execution_count": null,
   "metadata": {
    "collapsed": false
   },
   "outputs": [],
   "source": [
    "zrange = 0, 200\n",
    "hrange = 0, 40e3\n",
    "\n",
    "hist(shortZ.S2h, 30, range=hrange)\n",
    "labels(\"S2 height (pes)\", \"Entries\")\n",
    "#save(\"S2height\")\n",
    "\n",
    "#hist2d(shortZ.Z, shortZ.S2h, (50, 30), range=(zrange, hrange))\n",
    "#x, y, _ = fitf.profileX(shortZ.Z, shortZ.S2h, 30, xrange=zrange, yrange=hrange)\n",
    "#plt.plot(x, y, profOpt)\n",
    "\n",
    "#labels(\"Drift time ($\\mu$s)\", \"S2 height (pes)\")\n",
    "#save(\"S2heightvsZ\")"
   ]
  },
  {
   "cell_type": "markdown",
   "metadata": {},
   "source": [
    "# S2 peak to area ratio"
   ]
  },
  {
   "cell_type": "code",
   "execution_count": null,
   "metadata": {
    "collapsed": false
   },
   "outputs": [],
   "source": [
    "zrange = 0, 200\n",
    "rrange = 0, 0.5\n",
    "\n",
    "S2r = shortZ.S2h/shortZ.S2e\n",
    "\n",
    "hist(S2r, 50, range=rrange)\n",
    "labels(\"Height/Area\", \"Entries\")\n",
    "#save(\"S2Peak2Area\")\n",
    "\n",
    "#hist2d(shortZ.Z, S2r, (50, 50), range=(zrange, rrange))\n",
    "#x, y, _ = fitf.profileX(shortZ.Z, S2r, 30, xrange=zrange, yrange=rrange)\n",
    "#plt.plot(x, y, profOpt)\n",
    "\n",
    "#labels(\"Drift time ($\\mu$s)\", \"Height/Area\")\n",
    "#save(\"S2ratiovsZ\")"
   ]
  },
  {
   "cell_type": "markdown",
   "metadata": {},
   "source": [
    "# S2 vs S1"
   ]
  },
  {
   "cell_type": "code",
   "execution_count": null,
   "metadata": {
    "collapsed": false
   },
   "outputs": [],
   "source": [
    "Srange = 0, 20\n",
    "Erange = 0, 3e5\n",
    "\n",
    "S = shortZ.S1e\n",
    "E = shortZ.S2e\n",
    "\n",
    "hist2d(S, E, (50, 50), range=(Srange, Erange))\n",
    "x, y, _ = fitf.profileX(S, E, 30, xrange=Srange, yrange=Erange)\n",
    "plt.plot(x, y, profOpt)\n",
    "\n",
    "sel = fitf.in_range(S, *Srange) & fitf.in_range(E, *Erange)\n",
    "c = covariance(S[sel], E[sel])\n",
    "print(*c)\n",
    "labels(\"S1 energy (pes)\", \"S2 energy (pes)\")\n",
    "save(\"S2vsS1\")"
   ]
  },
  {
   "cell_type": "code",
   "execution_count": null,
   "metadata": {
    "collapsed": false
   },
   "outputs": [],
   "source": [
    "zrange = 0, 200\n",
    "Rrange = 0, 0.006\n",
    "\n",
    "S12r = shortZ.S1e/shortZ.S2e\n",
    "\n",
    "hist(S12r, 50, range=Rrange)\n",
    "labels(\"S1/S2\", \"Entries\")\n",
    "save(\"S12ratio\")\n",
    "\n",
    "hist2d(shortZ.Z, S12r, (50, 50), range=(zrange, Rrange))\n",
    "x, y, _ = fitf.profileX(shortZ.Z, S12r, 30, xrange=zrange, yrange=Rrange)\n",
    "plt.plot(x, y, profOpt)\n",
    "\n",
    "labels(\"Drift time ($\\mu$s)\", \"S1/S2\")\n",
    "save(\"S12ratiovsZ\")"
   ]
  },
  {
   "cell_type": "markdown",
   "metadata": {},
   "source": [
    "# Temporary fiducialization"
   ]
  },
  {
   "cell_type": "code",
   "execution_count": null,
   "metadata": {
    "collapsed": false
   },
   "outputs": [],
   "source": [
    "shortZfid = shortZ[shortZ.R < 100]\n",
    "print(\"Ratio:\", len(shortZfid)/len(full))\n",
    "print(\"Ratio:\", len(shortZfid)/len(shortZ))\n",
    "shortZfid.head()"
   ]
  },
  {
   "cell_type": "markdown",
   "metadata": {},
   "source": [
    "# S2 energy fiducialized"
   ]
  },
  {
   "cell_type": "code",
   "execution_count": null,
   "metadata": {
    "collapsed": false
   },
   "outputs": [],
   "source": [
    "zrange = 0,200\n",
    "Erange = 0e3, 200e3\n",
    "\n",
    "hist(shortZfid.S2e, 50, range=Erange)\n",
    "labels(\"S2 energy (pes)\", \"Entries\")\n",
    "#save(\"S2energy_fiducial\")\n",
    "\n"
   ]
  },
  {
   "cell_type": "code",
   "execution_count": null,
   "metadata": {
    "collapsed": false
   },
   "outputs": [],
   "source": [
    "Erange = 50e3, 80e3\n",
    "zrange = 100, 200\n",
    "pErange = 55e3, 70e3\n",
    "pZrange = 160, 180\n",
    "\n",
    "hist2d(shortZ.Z/units.mus, shortZ.S2e, (20, 20), range=(zrange, Erange))\n",
    "x, y, _ = fitf.profileX(shortZ.Z/units.mus, shortZ.S2e, 20, xrange=pZrange, yrange=pErange)\n",
    "plt.plot(x, y, profOpt)\n",
    "\n",
    "labels(\"Drift time ($\\mu$s)\", \"S2 energy (pes)\")"
   ]
  },
  {
   "cell_type": "code",
   "execution_count": null,
   "metadata": {
    "collapsed": false
   },
   "outputs": [],
   "source": [
    "sel  = fitf.in_range(x, 160, 180)\n",
    "x, y = x[sel], y[sel]\n",
    "\n",
    "f = fitf.fit(fitf.expo, x, y, (1e4, -200))\n",
    "plt.plot(x, f.fn(x), fitOpt)\n",
    "print(f.values)\n",
    "labels(\"Drift time ($\\mu$s)\", \"S2 energy (pes)\")\n",
    "#save(\"S2energyvsZ_fiducial\")\n",
    "\n",
    "zfun  = f.fn\n",
    "zmin  = np.min(x)\n",
    "zcorr = lambda z: zfun(zmin)/zfun(z)"
   ]
  },
  {
   "cell_type": "markdown",
   "metadata": {},
   "source": [
    "# Correction by attachment"
   ]
  },
  {
   "cell_type": "code",
   "execution_count": null,
   "metadata": {
    "collapsed": false
   },
   "outputs": [],
   "source": [
    "Erange = 1e3, 200e3\n",
    "E = shortZfid.S2e * zcorr(shortZfid.Z/units.mus)\n",
    "y, x, _ = hist(E, 50, range=Erange)"
   ]
  },
  {
   "cell_type": "code",
   "execution_count": null,
   "metadata": {
    "collapsed": false
   },
   "outputs": [],
   "source": [
    "Erange = 50e3, 100e3\n",
    "E = shortZfid.S2e * zcorr(shortZfid.Z/units.mus)\n",
    "y, x, _ = hist(E, 25, range=Erange)"
   ]
  },
  {
   "cell_type": "code",
   "execution_count": null,
   "metadata": {
    "collapsed": false
   },
   "outputs": [],
   "source": [
    "x    = x[:-1] + np.diff(x) * 0.5\n",
    "sel  = fitf.in_range(x, 65e3, 75e3)\n",
    "x, y = x[sel], y[sel]\n",
    "f    = fitf.fit(fitf.gauss, x, y, (1e3, 7e4, 2000))\n",
    "plt.plot(x, f.fn(x), fitOpt)\n",
    "plt.text(Erange[0], max(y)/2, gausstext(f.values))\n",
    "\n",
    "labels(\"S2 energy (pes)\", \"Entries\")"
   ]
  },
  {
   "cell_type": "code",
   "execution_count": null,
   "metadata": {
    "collapsed": false
   },
   "outputs": [],
   "source": [
    "Erange = 50e3, 100e3\n",
    "E = shortZfid.S2e * zcorr(shortZfid.Z/units.mus)\n",
    "\n",
    "y, x, _ = hist(E, 50, range=Erange)\n",
    "\n",
    "x    = x[:-1] + np.diff(x) * 0.5\n",
    "sel  = fitf.in_range(x, 62e3, 72e3)\n",
    "x, y = x[sel], y[sel]\n",
    "f    = fitf.fit(fitf.gauss, x, y, (1e3, 7e4, 2000))\n",
    "plt.plot(x, f.fn(x), fitOpt)\n",
    "plt.text(Erange[0], max(y)/2, gausstext(f.values))\n",
    "\n",
    "labels(\"S2 energy (pes)\", \"Entries\")\n",
    "\n"
   ]
  },
  {
   "cell_type": "code",
   "execution_count": null,
   "metadata": {
    "collapsed": true
   },
   "outputs": [],
   "source": [
    "Erange2 = 140e3, 170e3"
   ]
  },
  {
   "cell_type": "code",
   "execution_count": null,
   "metadata": {
    "collapsed": true
   },
   "outputs": [],
   "source": []
  },
  {
   "cell_type": "markdown",
   "metadata": {},
   "source": [
    "# Tracking"
   ]
  },
  {
   "cell_type": "code",
   "execution_count": null,
   "metadata": {
    "collapsed": false
   },
   "outputs": [],
   "source": [
    "nrange = 0, 12\n",
    "zrange = 0, 600\n",
    "\n",
    "hist(shortZ.Nsipm, max(nrange), nrange)\n",
    "labels(\"# SiPMs\", \"Entries\")\n",
    "save(\"Nsipm\")\n",
    "\n",
    "hist2d(shortZ.Z/units.mus, shortZ.Nsipm, (30, max(nrange)), range=(zrange, nrange))\n",
    "x, y, _ = fitf.profileX(shortZ.Z, shortZ.Nsipm, 30, xrange=zrange, yrange=nrange)\n",
    "plt.plot(x, y, profOpt)\n",
    "\n",
    "labels(\"Drift time ($\\mu$s)\", \"# SiPMs\")\n",
    "#save(\"NsipmvsZ\")\n"
   ]
  },
  {
   "cell_type": "markdown",
   "metadata": {},
   "source": [
    "# Event distribution"
   ]
  },
  {
   "cell_type": "code",
   "execution_count": null,
   "metadata": {
    "collapsed": false,
    "scrolled": false
   },
   "outputs": [],
   "source": [
    "xrange = -215, 215\n",
    "yrange = -215, 215\n",
    "rrange =    0, 215\n",
    "prange = - pi,  pi\n",
    "\n",
    "hist(shortZ.X, 50, range=xrange)\n",
    "labels(\"x (mm)\", \"Entries\")\n",
    "save(\"X\")\n",
    "\n",
    "hist(shortZ.Y, 50, range=yrange)\n",
    "labels(\"y (mm)\", \"Entries\")\n",
    "save(\"Y\")\n",
    "\n",
    "hist(shortZ.R, 50, range=rrange)\n",
    "labels(\"r (mm)\", \"Entries\")\n",
    "save(\"R\")\n",
    "\n",
    "hist(shortZ.Phi, 50, range=prange)\n",
    "labels(\"$\\phi$ (rad)\", \"Entries\")\n",
    "save(\"Phi\")\n",
    "\n",
    "nevts, xs, ys, _ = \\\n",
    "hist2d(shortZ.X, shortZ.Y, (50, 50), range=(xrange, yrange))\n",
    "plt.colorbar().set_label(\"# events\")\n",
    "labels(\"x (mm)\", \"y (mm)\")\n",
    "save(\"XY\")\n",
    "\n",
    "################################\n",
    "hist2d(shortZ.R, shortZ.Phi, (50, 50), range=(rrange, prange))\n",
    "plt.colorbar().set_label(\"# events\")\n",
    "labels(\"r (mm)\", \"$\\phi$ (mm)\")\n",
    "save(\"RPhi\")"
   ]
  },
  {
   "cell_type": "markdown",
   "metadata": {},
   "source": [
    "# Tracking charge"
   ]
  },
  {
   "cell_type": "code",
   "execution_count": null,
   "metadata": {
    "collapsed": false
   },
   "outputs": [],
   "source": [
    "zrange = 0, 200\n",
    "Qrange = 0, 500\n",
    "\n",
    "hist(shortZ.S2q, 100, range=Qrange)\n",
    "labels(\"S2 charge (pes)\", \"Entries\")\n",
    "save(\"S2charge\")\n",
    "\n",
    "hist2d(shortZ.Z, shortZ.S2q, (50, 100), range=(zrange, Qrange))\n",
    "x, y, _ = fitf.profileX(shortZ.Z, shortZ.S2q, 30, xrange=zrange, yrange=Qrange)\n",
    "plt.plot(x, y, profOpt)\n",
    "\n",
    "labels(\"Drift time ($\\mu$s)\", \"S2 charge (pes)\")\n",
    "save(\"S2chargevsZ\")"
   ]
  },
  {
   "cell_type": "code",
   "execution_count": null,
   "metadata": {
    "collapsed": false,
    "scrolled": false
   },
   "outputs": [],
   "source": [
    "xrange = -215, 215\n",
    "yrange = -50, 50\n",
    "rrange =    0, 215\n",
    "prange = - pi,  pi\n",
    "Qrange =    0, 500\n",
    "\n",
    "_, _, cb = profile_and_scatter(shortZ.X, shortZ.Y, shortZ.S2q, (50, 50), xrange=xrange, yrange=yrange)\n",
    "cb.set_label(\"Q (pes)\")\n",
    "labels(\"x (mm)\", \"y (mm)\")\n",
    "save(\"QvsXY\")\n",
    "\n",
    "_, _, cb = profile_and_scatter(shortZ.R, shortZ.Phi, shortZ.S2q, (50, 50), xrange=rrange, yrange=prange)\n",
    "cb.set_label(\"Q (pes)\")\n",
    "labels(\"r (mm)\", \"$\\phi$ (rad)\")\n",
    "save(\"QvsRPhi\")\n",
    "\n",
    "hist2d(shortZ.R, shortZ.S2q, (50, 50), range=(rrange, Qrange))\n",
    "x, y, _ = fitf.profileX(shortZ.R, shortZ.S2q, 50, xrange=rrange, yrange=Qrange)\n",
    "plt.plot(x, y, profOpt)\n",
    "labels(\"r (mm)\", \"S2 charge (pes)\")\n",
    "save(\"QvsR\")\n",
    "\n",
    "hist2d(shortZ.Phi, shortZ.S2q, (50, 50), range=(prange, Qrange))\n",
    "x, y, _ = fitf.profileX(shortZ.Phi, shortZ.S2q, 50, xrange=prange, yrange=Qrange)\n",
    "plt.plot(x, y, profOpt)\n",
    "labels(\"phi (rad)\", \"S2 charge (pes)\")\n",
    "save(\"QvsPhi\")\n"
   ]
  },
  {
   "cell_type": "markdown",
   "metadata": {},
   "source": [
    "# Energy vs position"
   ]
  },
  {
   "cell_type": "code",
   "execution_count": null,
   "metadata": {
    "collapsed": false,
    "scrolled": false
   },
   "outputs": [],
   "source": [
    "xrange = -215, 215\n",
    "yrange = -215, 215\n",
    "rrange =    0, 215\n",
    "prange = - pi,  pi\n",
    "Erange =  4e3, 9e3\n",
    "\n",
    "E = shortZ.S2e * zcorr(shortZ.Z)\n",
    "\n",
    "pf, _, cb = profile_and_scatter(shortZ.X, shortZ.Y, E, (50, 50), xrange=xrange, yrange=yrange)\n",
    "cb.set_label(\"E (pes)\")\n",
    "labels(\"x (mm)\", \"y (mm)\")\n",
    "save(\"EvsXY\")\n",
    "\n",
    "_, _, cb = profile_and_scatter(shortZ.R, shortZ.Phi, E, (50, 50), xrange=rrange, yrange=prange)\n",
    "cb.set_label(\"E (pes)\")\n",
    "labels(\"r (mm)\", \"$\\phi$ (rad)\")\n",
    "save(\"EvsRPhi\")\n",
    "\n",
    "hist2d(shortZ.R, E, (50, 50), range=(rrange, Erange), weights=E)\n",
    "x, y, _ = fitf.profileX(shortZ.R, E, 50, xrange=rrange, yrange=Erange)\n",
    "plt.plot(x, y, profOpt)\n",
    "labels(\"r (mm)\", \"S2 energy (pes)\")\n",
    "save(\"EvsR\")\n",
    "\n",
    "hist2d(shortZ.Phi, E, (50, 50), range=(prange, Erange), weights=E)\n",
    "x, y, _ = fitf.profileX(shortZ.Phi, E, 50, xrange=prange, yrange=Erange)\n",
    "plt.plot(x, y, profOpt)\n",
    "labels(\"phi (rad)\", \"S2 energy (pes)\")\n",
    "save(\"EvsPhi\")\n",
    "\n",
    "def get_xycorr(xs, ys, es, eref=None):\n",
    "    if eref is None:\n",
    "        eref = es[es.shape[0]//2, es.shape[1]//2]\n",
    "    xs   = xs.reshape(xs.size, 1)\n",
    "    ys   = ys.reshape(ys.size, 1)\n",
    "    print(eref)\n",
    "    def xycorr(x, y):\n",
    "        x_closest = np.apply_along_axis(np.argmin, 0, abs(x-xs))\n",
    "        y_closest = np.apply_along_axis(np.argmin, 0, abs(y-ys))\n",
    "        e = es[x_closest, y_closest]\n",
    "        e[e<1e3] = eref\n",
    "        return eref/ e\n",
    "    return xycorr\n",
    "xycorr = get_xycorr(*pf[:-1])\n"
   ]
  },
  {
   "cell_type": "markdown",
   "metadata": {},
   "source": [
    "# Correction by attachment and position"
   ]
  },
  {
   "cell_type": "code",
   "execution_count": null,
   "metadata": {
    "collapsed": false,
    "scrolled": false
   },
   "outputs": [],
   "source": [
    "xrange = -215, 215\n",
    "yrange = -215, 215\n",
    "rrange =    0, 215\n",
    "prange = - pi,  pi\n",
    "Erange =  4e3, 11e3\n",
    "\n",
    "E  = shortZ.S2e * zcorr(shortZ.Z) * xycorr(shortZ.X.values, shortZ.Y.values)\n",
    "\n",
    "y, x, _ = hist(E, 100, Erange)\n",
    "\n",
    "x = x[:-1] + np.diff(x) * 0.5\n",
    "f = fitf.fit(fitf.gauss, x, y, (1e5, 1e4, 1e2))\n",
    "plt.plot(x, f.fn(x), fitOpt)\n",
    "plt.text(Erange[0], max(y)/2, gausstext(f.values))\n",
    "\n",
    "labels(\"E (pes)\", \"Entries\")\n",
    "save(\"EcorrZXY\")\n",
    "\n",
    "_, _, cb = profile_and_scatter(shortZ.X, shortZ.Y, E, (50, 50), xrange=xrange, yrange=yrange)\n",
    "cb.set_label(\"E (pes)\")\n",
    "labels(\"x (mm)\", \"y (mm)\")\n",
    "save(\"EvsXY\")\n",
    "\n",
    "_, _, cb = profile_and_scatter(shortZ.R, shortZ.Phi, E, (50, 50), xrange=rrange, yrange=prange)\n",
    "cb.set_label(\"E (pes)\")\n",
    "labels(\"r (mm)\", \"$\\phi$ (rad)\")\n",
    "save(\"EvsRPhi\")\n",
    "\n",
    "hist2d(shortZ.R, E, (50, 50), range=(rrange, Erange), weights=E)\n",
    "x, y, _ = fitf.profileX(shortZ.R, E, 50, xrange=rrange, yrange=Erange)\n",
    "plt.plot(x, y, profOpt)\n",
    "labels(\"r (mm)\", \"S2 energy (pes)\")\n",
    "save(\"EvsR\")\n",
    "\n",
    "hist2d(shortZ.Phi, E, (50, 50), range=(prange, Erange), weights=E)\n",
    "x, y, _ = fitf.profileX(shortZ.Phi, E, 50, xrange=prange, yrange=Erange)\n",
    "plt.plot(x, y, profOpt)\n",
    "labels(\"phi (rad)\", \"S2 energy (pes)\")\n",
    "save(\"EvsPhi\")\n"
   ]
  },
  {
   "cell_type": "code",
   "execution_count": null,
   "metadata": {
    "collapsed": false
   },
   "outputs": [],
   "source": [
    "E = shortZ.S2e * zcorr(shortZ.Z) * xycorr(shortZ.X.values, shortZ.Y.values)\n",
    "T = (shortZ.time - np.min(shortZ.time))/60\n",
    "\n",
    "Erange = 4e3, 11e3\n",
    "Trange =   0, 1800\n",
    "\n",
    "hist2d(T, E, (50, 50), range=(Trange, Erange))\n",
    "\n",
    "x, y, _ = fitf.profileX(T, E, 50, Trange)\n",
    "plt.plot(x, y, profOpt)\n",
    "\n",
    "labels(\"Time (min)\", \"Energy (pes)\")\n",
    "\n",
    "def get_timecorr(T, E):\n",
    "    eref = np.max(E)\n",
    "    def timecorr(t):\n",
    "        dt = np.abs(t[:, np.newaxis]-T)\n",
    "        return eref / E[np.apply_along_axis(np.argmin, 1, dt)]\n",
    "    return timecorr\n",
    "tcorr = get_timecorr(x, y)"
   ]
  },
  {
   "cell_type": "code",
   "execution_count": null,
   "metadata": {
    "collapsed": false
   },
   "outputs": [],
   "source": [
    "T = (shortZ.time - np.min(shortZ.time))/60\n",
    "E = shortZ.S2e * zcorr(shortZ.Z) * xycorr(shortZ.X.values, shortZ.Y.values) * tcorr(T)\n",
    "\n",
    "Trange =   0, 1800\n",
    "Erange = 4e3, 11e3\n",
    "\n",
    "y, x, _ = hist(E, 100, Erange)\n",
    "\n",
    "x = x[:-1] + np.diff(x) * 0.5\n",
    "f = fitf.fit(fitf.gauss, x, y, (1e5, 1e4, 1e2))\n",
    "plt.plot(x, f.fn(x), fitOpt)\n",
    "plt.text(Erange[0], max(y)/2, gausstext(f.values))\n",
    "\n",
    "labels(\"E (pes)\", \"Entries\")\n",
    "save(\"EcorrZXYT\")\n",
    "\n",
    "hist2d(T, E, (50, 50), range=(Trange, Erange))\n",
    "x, y, _ = fitf.profileX(T, E, 50, Trange)\n",
    "plt.plot(x, y, profOpt)\n",
    "\n",
    "labels(\"Time (min)\", \"Energy (pes)\")\n"
   ]
  },
  {
   "cell_type": "code",
   "execution_count": null,
   "metadata": {
    "collapsed": true
   },
   "outputs": [],
   "source": []
  },
  {
   "cell_type": "code",
   "execution_count": null,
   "metadata": {
    "collapsed": true
   },
   "outputs": [],
   "source": []
  }
 ],
 "metadata": {
  "kernelspec": {
   "display_name": "Python 3",
   "language": "python",
   "name": "python3"
  },
  "language_info": {
   "codemirror_mode": {
    "name": "ipython",
    "version": 3
   },
   "file_extension": ".py",
   "mimetype": "text/x-python",
   "name": "python",
   "nbconvert_exporter": "python",
   "pygments_lexer": "ipython3",
   "version": "3.6.0"
  }
 },
 "nbformat": 4,
 "nbformat_minor": 2
}
