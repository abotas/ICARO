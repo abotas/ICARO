{
 "cells": [
  {
   "cell_type": "markdown",
   "metadata": {},
   "source": [
    "# Corona\n",
    "### Investigate how Corona performs on montecarlo data\n",
    "\n",
    "\n",
    "to use:     \n",
    "1) fetch my (github/abotas) icaro WalkthroughCorona    \n",
    "2) fetch my IC-1 branch corona.     \n",
    "3) source manage.sh work_in_blah_blah 3.6   \n",
    "4) download pmap and dst file for a run    \n",
    "5) make sure you have IC_DATA and ICARO in your path\n",
    "6) run"
   ]
  },
  {
   "cell_type": "code",
   "execution_count": 1,
   "metadata": {
    "collapsed": false
   },
   "outputs": [],
   "source": [
    "%matplotlib inline\n",
    "\n",
    "import os\n",
    "import sys\n",
    "import random\n",
    "import tables as tb\n",
    "import numpy  as np\n",
    "\n",
    "import matplotlib  .pyplot  as     plt\n",
    "from   matplotlib  .patches import Ellipse\n",
    "from   mpl_toolkits.mplot3d import Axes3D\n",
    "\n",
    "import invisible_cities.core.fit_functions      as fitf\n",
    "from   invisible_cities.database                import load_db\n",
    "from   invisible_cities.core.core_functions     import in_range, rebin_array\n",
    "from   invisible_cities.core.system_of_units_c  import units\n",
    "from   invisible_cities.reco.pmaps_functions    import load_pmaps, integrate_charge, plot_s2si_map#, select_si_slice\n",
    "from   invisible_cities.reco.tbl_functions      import get_event_numbers_and_timestamps\n",
    "from   invisible_cities.reco.xy_algorithms      import barycenter, corona\n",
    "\n",
    "sys.path.append('/Users/alej/Desktop/Valencia/nextic/ICARO')\n",
    "from   icaro.core.kdst_functions   import load_dst, event_rate, profile_and_fit, print_fit, chi2\n",
    "#from   detector_response_functions import gather_montecarlo_hits\n",
    "import invisible_cities.core.fit_functions as fitf\n",
    "\n",
    "source = 'Co' # str of Co, Na, or Kr"
   ]
  },
  {
   "cell_type": "code",
   "execution_count": 2,
   "metadata": {
    "collapsed": true
   },
   "outputs": [],
   "source": [
    "run_number = 0\n",
    "DataSensor = load_db.DataSiPM()\n",
    "dxs = DataSensor.X.values\n",
    "dys = DataSensor.Y.values"
   ]
  },
  {
   "cell_type": "code",
   "execution_count": 3,
   "metadata": {
    "collapsed": false
   },
   "outputs": [],
   "source": [
    "sub_run    = '0'\n",
    "ic_data = os.path.join(os.environ['IC_DATA'])\n",
    "pmap_paths = {'Co': ic_data + '/Montecarlo/ir_co170419/dst_NEXT_v0_08_09_Co56_INTERNALPORTANODE_{}_0_7bar_pmaps_10000.root.h5'.format(sub_run),\n",
    "              'Na': ic_data + '/Montecarlo/na170426_ir/dst_NEXT_v0_08_09_Na_INTERNALPORTANODE_{}_0_7bar_pmaps_10000.root.h5'.format(sub_run),\n",
    "              'Kr': ic_data + '/Montecarlo/kr_ir170330/dst_NEXT_v0_08_09_Kr_ACTIVE_{}_0_7bar_pmaps_10000.root.h5'.format(sub_run)\n",
    "             }"
   ]
  },
  {
   "cell_type": "code",
   "execution_count": 4,
   "metadata": {
    "collapsed": true
   },
   "outputs": [],
   "source": [
    "# CORONA PARAMS\n",
    "Qthr           =  0*units.pes\n",
    "Qlm            = 10*units.pes\n",
    "lm_radius      = 15*units.mm\n",
    "new_lm_radius  = 25*units.mm\n",
    "msipm          =  3"
   ]
  },
  {
   "cell_type": "markdown",
   "metadata": {},
   "source": [
    "#### Functions used in other branches not yet integrated into nextic/master"
   ]
  },
  {
   "cell_type": "code",
   "execution_count": 5,
   "metadata": {
    "collapsed": true
   },
   "outputs": [],
   "source": [
    "def select_si_slice(si, slice_no):\n",
    "    # This is a temporary fix! The number of slices in the SiPM arrays\n",
    "    # must match that of the PMT PMaps.\n",
    "    return {sipm_no: (sipm[slice_no] if len(sipm) > slice_no else 0)\n",
    "                      for sipm_no, sipm in si.items()}\n",
    "def gather_montecarlo_hits(filepath):\n",
    "    \"\"\"\n",
    "    gather_montecarlo_hits gathers all the hits from a pytable in filepath and\n",
    "    puts them in a dictionary. The dictionary maps event index to the hits in\n",
    "    that event.\n",
    "    args\n",
    "    filepath: the path to an input file\n",
    "    returns\n",
    "    file_hits: a dictionary mapping event_indx, named by nexus -->\n",
    "               hits_ev, a np.array with all the hits in event event_indx\n",
    "               hits_ev has shape (num hits, 4) and can by index as follows:\n",
    "               hits_ev[hit, x coordinate, y coordinate, z coordinate, energy]\n",
    "               and file_hits[ev] = hits_ev\n",
    "    \"\"\"\n",
    "    with tb.open_file(filepath, 'r') as f:\n",
    "        ptab   = f.root.MC.MCTracks\n",
    "        hits_f = {}\n",
    "        ev     = ptab[0]['event_indx']\n",
    "        s_row  = 0\n",
    "\n",
    "        # Iterate over the rows in the pytable; each row contains a distinct hit\n",
    "        for row in ptab.iterrows():\n",
    "\n",
    "            # We want to gather the hits event by event so, here we check\n",
    "            # for a change in event_indx to signal start of new event\n",
    "            # * 'or row.nrow == ptab.nrows - 1' needed to gather hits from last\n",
    "            # * event in the file\n",
    "            if ev != row['event_indx'] or row.nrow == ptab.nrows - 1:\n",
    "\n",
    "                # Find start and finish rows (hits) in previous event\n",
    "                if row.nrow == ptab.nrows - 1: f_row = row.nrow + 1\n",
    "                else: f_row = row.nrow\n",
    "                hits_ev = np.empty((f_row - s_row, 4), dtype=np.float32)\n",
    "                # Get extract hit position and energy from pytable\n",
    "                hits_ev[:, :3] = ptab[s_row : f_row]['hit_position'] * units.mm\n",
    "                hits_ev[:,  3] = ptab[s_row : f_row]['hit_energy'  ] * units.MeV\n",
    "                hits_f[ev]     = hits_ev  # put hits for ev in the hits_f dict\n",
    "                ev    = row['event_indx'] # update ev\n",
    "                s_row = row.nrow          # update start row for ev\n",
    "\n",
    "    return hits_f"
   ]
  },
  {
   "cell_type": "markdown",
   "metadata": {},
   "source": [
    "### Load pmap file, which contains pmaps but also MCTracks since this is montecarlo"
   ]
  },
  {
   "cell_type": "code",
   "execution_count": 6,
   "metadata": {
    "collapsed": false
   },
   "outputs": [
    {
     "name": "stdout",
     "output_type": "stream",
     "text": [
      "/Users/alej/Desktop/IC_DATA//Montecarlo/ir_co170419/dst_NEXT_v0_08_09_Co56_INTERNALPORTANODE_0_0_7bar_pmaps_10000.root.h5 (File) ''\n",
      "Last modif.: 'Thu May  4 12:52:45 2017'\n",
      "Object Tree: \n",
      "/ (RootGroup) ''\n",
      "/MC (Group) ''\n",
      "/MC/MCTracks (Table(433644,), shuffle, zlib(4)) 'MCTracks'\n",
      "/PMAPS (Group) ''\n",
      "/PMAPS/S1 (Table(89188,), shuffle, zlib(4)) 'S1 Table'\n",
      "/PMAPS/S2 (Table(172839,), shuffle, zlib(4)) 'S2 Table'\n",
      "/PMAPS/S2Si (Table(2868443,), shuffle, zlib(4)) 'S2Si Table'\n",
      "/Run (Group) ''\n",
      "/Run/events (Table(9997,), shuffle, zlib(4)) 'event info table'\n",
      "/Run/runInfo (Table(9997,), shuffle, zlib(4)) 'run info table'\n",
      "\n"
     ]
    }
   ],
   "source": [
    "pmap_path = pmap_paths[source]\n",
    "with tb.open_file(pmap_path, 'r') as f: \n",
    "    nevents = len(f.root.Run.events)\n",
    "    print(f)"
   ]
  },
  {
   "cell_type": "markdown",
   "metadata": {},
   "source": [
    "#### PMAP"
   ]
  },
  {
   "cell_type": "code",
   "execution_count": 7,
   "metadata": {
    "collapsed": false
   },
   "outputs": [
    {
     "name": "stdout",
     "output_type": "stream",
     "text": [
      "N events                         : 9997\n",
      "N S1s, S2s                       : 9562 13343\n",
      "N events with at least one S1, S2: 9547 9971\n"
     ]
    }
   ],
   "source": [
    "S1s, S2s, S2Sis = load_pmaps(pmap_path)\n",
    "ns1s = 0\n",
    "ns2s = 0\n",
    "for s1k in S1s: ns1s += len(S1s[s1k])\n",
    "for s2k in S2s: ns2s += len(S2s[s2k])\n",
    "print('N events                         :', nevents)\n",
    "print('N S1s, S2s                       :', ns1s, ns2s)\n",
    "print('N events with at least one S1, S2:', len(S1s), len(S2s))"
   ]
  },
  {
   "cell_type": "markdown",
   "metadata": {},
   "source": [
    "#### A quick look at S2s"
   ]
  },
  {
   "cell_type": "code",
   "execution_count": 9,
   "metadata": {
    "collapsed": false
   },
   "outputs": [
    {
     "data": {
      "image/png": "[encoded data removed]",
      "text/plain": [
       "<matplotlib.figure.Figure at 0x1151bd160>"
      ]
     },
     "metadata": {},
     "output_type": "display_data"
    }
   ],
   "source": [
    "S2e = []\n",
    "for k in S2s:\n",
    "    for peak in S2s[k]:\n",
    "        S2e.append(S2s[k][peak][1].sum())\n",
    "plt.figure(figsize=(15,5))\n",
    "plt.hist(S2e, bins = len(S2s) // 20)\n",
    "plt.grid(True)\n",
    "plt.xlabel('pes')\n",
    "plt.title('S2 integral')\n",
    "plt.show()"
   ]
  },
  {
   "cell_type": "markdown",
   "metadata": {},
   "source": [
    "A bunch of plot functions"
   ]
  },
  {
   "cell_type": "code",
   "execution_count": 10,
   "metadata": {
    "collapsed": false
   },
   "outputs": [],
   "source": [
    "# A method in HitCollectionCity\n",
    "def compute_xy_position(si, slice_no, zs=None):\n",
    "    si      = select_si_slice(si, slice_no)\n",
    "    IDs, Qs = map(list, zip(*si.items()))\n",
    "    xs, ys  = dxs[IDs], dys[IDs]\n",
    "    \n",
    "    print(xs.shape, ys.shape)\n",
    "    \n",
    "    if zs == None:\n",
    "        return corona(np.array([xs, ys]).T, np.array(Qs), new_lm_radius=new_lm_radius, Qlm=Qlm, msipm=msipm)\n",
    "    else:\n",
    "        print(xs.shape, ys.shape, zs.shape)\n",
    "        return corona(np.array([xs, ys, zs]).T, np.array(Qs), new_lm_radius=new_lm_radius, Qlm=Qlm, msipm=msipm)\n",
    "\n",
    "def plot_helper(si, slice_no):\n",
    "    si      = select_si_slice(si, slice_no)\n",
    "    IDs, Qs = map(list, zip(*si.items()))\n",
    "    xs, ys  = dxs[IDs], dys[IDs]\n",
    "    return xs, ys, Qs\n",
    "\n",
    "# plot a 48x48 SiPM map\n",
    "def plot_test_slice(l_X,l_Y,l_Q, min_alpha=0, ax1=None):\n",
    "    \"\"\"\n",
    "    Plots a SiPM map in the NEW Geometry\n",
    "    \"\"\"\n",
    "    l_Q = np.array(l_Q)\n",
    "    if l_Q.min() > 0: Q = l_Q - l_Q.min()\n",
    "    else            : Q = np.copy(l_Q)\n",
    "    Q = Q / Q.max()\n",
    "    \n",
    "    # set up the figure\n",
    "    if ax1 is None:\n",
    "        fig = plt.figure();\n",
    "        ax1 = fig.add_subplot(111);\n",
    "        fig.set_figheight(5.0)\n",
    "        fig.set_figwidth(5.0)\n",
    "    ax1.axis([-250, 250, -250, 250]);\n",
    "\n",
    "    # plot the SiPM pattern\n",
    "    for xx,yy,qq in zip(l_X,l_Y,Q):\n",
    "        r = Ellipse(xy=(xx, yy), width=4., height=4.);\n",
    "        r.set_facecolor('0');\n",
    "        r.set_alpha(min_alpha + qq * (1 - min_alpha));\n",
    "        ax1.add_artist(r);\n",
    "\n",
    "    plt.xlabel(\"x (mm)\")\n",
    "    plt.ylabel(\"y (mm)\")\n",
    "    return ax1\n",
    "\n",
    "        \n",
    "def plot_corona_tbin(ax, clusters):\n",
    "    # Plot corona clusters\n",
    "    for c in clusters: \n",
    "        e=Ellipse(xy=(c.pos[0],c.pos[1]), width=2*nsig*c.rms[0], height=2*nsig*c.rms[1])\n",
    "        ax.add_artist(e)\n",
    "        e.set_clip_box(ax.bbox)\n",
    "        e.set_alpha(min(.8, c.Q / 200.0*units.pes))\n",
    "        e.set_facecolor('red')\n",
    "        \n",
    "def plot_event_clusters(ECs, zs, ax=None, figsize=(30,30)):\n",
    "    if ax == None:\n",
    "        fig= plt.figure(figsize=figsize)\n",
    "        ax = fig.add_subplot(211, projection='3d')\n",
    "        \n",
    "    xs = []\n",
    "    ys = []\n",
    "    zs = []\n",
    "    qs = []\n",
    "    xrms = []\n",
    "    yrms = []\n",
    "\n",
    "    for C in ECs:\n",
    "        xs.append(C.pos[0])\n",
    "        ys.append(C.pos[1])\n",
    "        ys.append(C.pos[2])\n",
    "        qs.append(C.Q)\n",
    "        xrms.append(C.rms[0])\n",
    "        yrms.append(C.rms[1])\n",
    "   \n",
    "    xs = np.array(xs); ys = np.array(ys);  qs = np.array(qs); \n",
    "    zs = np.array(zs)\n",
    "\n",
    "    reds  = qs / qs.max()\n",
    "    color = np.zeros((len(reds),3),dtype=np.float32)\n",
    "    color[:,0] = reds\n",
    "\n",
    "    s1=ax.scatter(zs, xs, ys, c=color,\n",
    "                   vmin=0,\n",
    "                   vmax=color.max(),\n",
    "                   s=200, #np.pi*((np.array(xrms) + np.array(yrms)) / 2)**2,\n",
    "                   edgecolors='None', alpha=1)\n",
    "    ax.set_xlabel('z (microseconds)')\n",
    "    ax.set_ylabel('x (mm)')\n",
    "    ax.set_zlabel('y (mm)')\n",
    "    ax.grid(True)\n",
    "    return ax\n",
    "\n",
    "\n",
    "def plot_nexus_event_hits(ax, hits):\n",
    "    c = hits[:,3] / hits[:,3].max()\n",
    "    ax.scatter(hits[:,2], hits[:,0], hits[:,1], \n",
    "                  c=c, cmap=plt.get_cmap('rainbow'),\n",
    "                  vmin=0, vmax=c.max(),\n",
    "                  s=100, edgecolors='None')\n",
    "    "
   ]
  },
  {
   "cell_type": "markdown",
   "metadata": {},
   "source": [
    "### Take a look at a specific event"
   ]
  },
  {
   "cell_type": "code",
   "execution_count": 16,
   "metadata": {
    "collapsed": false
   },
   "outputs": [
    {
     "data": {
      "image/png": "[encoded data removed]",
      "text/plain": [
       "<matplotlib.figure.Figure at 0x11a0bde10>"
      ]
     },
     "metadata": {},
     "output_type": "display_data"
    },
    {
     "name": "stdout",
     "output_type": "stream",
     "text": [
      "I tried to pick a more interesting looking event\n"
     ]
    }
   ],
   "source": [
    "# PICK AN EVENT\n",
    "event_numbers, timestamps = get_event_numbers_and_timestamps(pmap_path)\n",
    "if source == 'Kr': event_number = event_numbers[1]\n",
    "if source == 'Na': event_number = event_numbers[14]\n",
    "if source == 'Co': event_number = event_numbers[4]\n",
    "#if source == 'Co': event_number = event_numbers[992]\n",
    "\n",
    "# PICK A PEAK\n",
    "#peak=0\n",
    "event_time   = timestamps[np.where(event_numbers==event_number)[0]]\n",
    "\n",
    "xs   = DataSensor.X.values\n",
    "ys   = DataSensor.Y.values\n",
    "Qpk  = np.zeros(len(xs))\n",
    "\n",
    "\n",
    "fig = plt.figure()\n",
    "ax1 = fig.add_subplot(111)\n",
    "fig.set_figheight(5.0)\n",
    "fig.set_figwidth(5.0)\n",
    "for peak in S2Sis[event_number]:\n",
    "    for sipm, E in S2Sis[event_number][peak].items(): \n",
    "        Qpk[sipm] = E.sum()\n",
    "    plot_test_slice(xs,ys,Qpk, ax1=ax1)\n",
    "    \n",
    "plt.title('Event: ' + str(event_number) + ',  Peak: ' + str(peak))\n",
    "plt.show()\n",
    "print('I tried to pick a more interesting looking event')"
   ]
  },
  {
   "cell_type": "code",
   "execution_count": 20,
   "metadata": {
    "collapsed": false
   },
   "outputs": [
    {
     "name": "stdout",
     "output_type": "stream",
     "text": [
      "23 45\n"
     ]
    }
   ],
   "source": [
    "S1 = S1s  .get(event_number, {})\n",
    "S2 = S2s  .get(event_number, {})\n",
    "Si = S2Sis.get(event_number, {})\n",
    "print(len(Si[0]), len(S2[0][0]))\n",
    "#print(len(Si[1]), len(S2[1][0]))"
   ]
  },
  {
   "cell_type": "markdown",
   "metadata": {},
   "source": [
    "## Use corona (via compute_xy_position) to get the clusters for each slice"
   ]
  },
  {
   "cell_type": "code",
   "execution_count": 11,
   "metadata": {
    "collapsed": false
   },
   "outputs": [],
   "source": [
    "def rebin_S2Si(S2Si, stride):\n",
    "    \"\"\" rebin an S2Si, discards last \"\"\"\n",
    "    rS2Si = {}\n",
    "    for peak in S2Si:\n",
    "        rS2Si[peak] = {}\n",
    "        for sipm, E in S2Si[peak].items():\n",
    "            rS2Si[peak][sipm] = rebin_array(E, stride)\n",
    "    return rS2Si"
   ]
  },
  {
   "cell_type": "code",
   "execution_count": null,
   "metadata": {
    "collapsed": true
   },
   "outputs": [],
   "source": []
  },
  {
   "cell_type": "code",
   "execution_count": 20,
   "metadata": {
    "collapsed": false,
    "scrolled": true
   },
   "outputs": [
    {
     "name": "stdout",
     "output_type": "stream",
     "text": [
      "9\n",
      "[ 149.50875     150.525       151.525       152.525       153.525       154.525\n",
      "  155.525       156.525       157.50920312]\n",
      "(9,) (9,)\n",
      "(9,) (9,) (9,)\n",
      "[0 1 2 3 4 5 6 7 8]\n",
      "(9, 3) (9,)\n"
     ]
    },
    {
     "name": "stderr",
     "output_type": "stream",
     "text": [
      "/Users/alej/miniconda/envs/IC3.6/lib/python3.6/site-packages/ipykernel/__main__.py:9: FutureWarning: comparison to `None` will result in an elementwise object comparison in the future.\n"
     ]
    },
    {
     "data": {
      "image/png": "[encoded data removed]",
      "text/plain": [
       "<matplotlib.figure.Figure at 0x11b97af28>"
      ]
     },
     "metadata": {},
     "output_type": "display_data"
    },
    {
     "name": "stdout",
     "output_type": "stream",
     "text": [
      "(9,) (9,)\n",
      "(9,) (9,) (9,)\n",
      "[0 1 2 3 4 5 6 7 8]\n",
      "(9, 3) (9,)\n"
     ]
    },
    {
     "data": {
      "image/png": "[encoded data removed]",
      "text/plain": [
       "<matplotlib.figure.Figure at 0x11b776390>"
      ]
     },
     "metadata": {},
     "output_type": "display_data"
    },
    {
     "name": "stdout",
     "output_type": "stream",
     "text": [
      "(9,) (9,)\n",
      "(9,) (9,) (9,)\n",
      "[0 1 2 3 4 5 6 7 8]\n",
      "(9, 3) (9,)\n"
     ]
    },
    {
     "data": {
      "image/png": "[encoded data removed]",
      "text/plain": [
       "<matplotlib.figure.Figure at 0x11b24f160>"
      ]
     },
     "metadata": {},
     "output_type": "display_data"
    },
    {
     "name": "stdout",
     "output_type": "stream",
     "text": [
      "(9,) (9,)\n",
      "(9,) (9,) (9,)\n",
      "[0 1 2 3 4 5 6 7 8]\n",
      "(9, 3) (9,)\n"
     ]
    },
    {
     "data": {
      "image/png": "[encoded data removed]",
      "text/plain": [
       "<matplotlib.figure.Figure at 0x11b151630>"
      ]
     },
     "metadata": {},
     "output_type": "display_data"
    },
    {
     "name": "stdout",
     "output_type": "stream",
     "text": [
      "(9,) (9,)\n",
      "(9,) (9,) (9,)\n",
      "[0 1 2 3 4 5 6 7 8]\n",
      "(9, 3) (9,)\n"
     ]
    },
    {
     "data": {
      "image/png": "[encoded data removed]",
      "text/plain": [
       "<matplotlib.figure.Figure at 0x11a858828>"
      ]
     },
     "metadata": {},
     "output_type": "display_data"
    },
    {
     "name": "stdout",
     "output_type": "stream",
     "text": [
      "(9,) (9,)\n",
      "(9,) (9,) (9,)\n",
      "[0 1 2 3 4 5 6 7 8]\n",
      "(9, 3) (9,)\n"
     ]
    },
    {
     "data": {
      "image/png": "[encoded data removed]",
      "text/plain": [
       "<matplotlib.figure.Figure at 0x11aa47908>"
      ]
     },
     "metadata": {},
     "output_type": "display_data"
    },
    {
     "name": "stdout",
     "output_type": "stream",
     "text": [
      "(9,) (9,)\n",
      "(9,) (9,) (9,)\n",
      "[0 1 2 3 4 5 6 7 8]\n",
      "(9, 3) (9,)\n"
     ]
    },
    {
     "data": {
      "image/png": "[encoded data removed]",
      "text/plain": [
       "<matplotlib.figure.Figure at 0x1196dff60>"
      ]
     },
     "metadata": {},
     "output_type": "display_data"
    },
    {
     "name": "stdout",
     "output_type": "stream",
     "text": [
      "(9,) (9,)\n",
      "(9,) (9,) (9,)\n",
      "[0 1 2 3 4 5 6 7 8]\n",
      "(9, 3) (9,)\n"
     ]
    },
    {
     "name": "stderr",
     "output_type": "stream",
     "text": [
      "/Users/alej/miniconda/envs/IC3.6/lib/python3.6/site-packages/ipykernel/__main__.py:29: RuntimeWarning: invalid value encountered in true_divide\n"
     ]
    },
    {
     "data": {
      "image/png": "[encoded data removed]",
      "text/plain": [
       "<matplotlib.figure.Figure at 0x118a8f7f0>"
      ]
     },
     "metadata": {},
     "output_type": "display_data"
    },
    {
     "name": "stdout",
     "output_type": "stream",
     "text": [
      "(9,) (9,)\n",
      "(9,) (9,) (9,)\n",
      "[0 1 2 3 4 5 6 7 8]\n",
      "(9, 3) (9,)\n"
     ]
    },
    {
     "data": {
      "image/png": "[encoded data removed]",
      "text/plain": [
       "<matplotlib.figure.Figure at 0x117d42470>"
      ]
     },
     "metadata": {},
     "output_type": "display_data"
    },
    {
     "name": "stdout",
     "output_type": "stream",
     "text": [
      "10\n",
      "[ 181.32375  182.35     183.35     184.35     185.35     186.35     187.35\n",
      "  188.35     189.35     190.35     191.35     192.35     193.35     194.35\n",
      "  195.225  ]\n",
      "(10,) (10,)\n",
      "(10,) (10,) (15,)\n",
      "[0 1 2 3 4 5 6 7 8 9]\n",
      "(3,) (10,)\n"
     ]
    },
    {
     "ename": "IndexError",
     "evalue": "index 3 is out of bounds for axis 1 with size 3",
     "output_type": "error",
     "traceback": [
      "\u001b[0;31m---------------------------------------------------------------------------\u001b[0m",
      "\u001b[0;31mIndexError\u001b[0m                                Traceback (most recent call last)",
      "\u001b[0;32m<ipython-input-20-b319c8c633c8>\u001b[0m in \u001b[0;36m<module>\u001b[0;34m()\u001b[0m\n\u001b[1;32m     32\u001b[0m     \u001b[0;31m# For each tbin, compute clusters, plot SiPMS, plot corona clusters\u001b[0m\u001b[0;34m\u001b[0m\u001b[0;34m\u001b[0m\u001b[0m\n\u001b[1;32m     33\u001b[0m     \u001b[0;32mfor\u001b[0m \u001b[0mslice_no\u001b[0m \u001b[0;32min\u001b[0m \u001b[0mrange\u001b[0m\u001b[0;34m(\u001b[0m\u001b[0mn_slices\u001b[0m \u001b[0;34m//\u001b[0m \u001b[0mstride\u001b[0m\u001b[0;34m)\u001b[0m\u001b[0;34m:\u001b[0m\u001b[0;34m\u001b[0m\u001b[0m\n\u001b[0;32m---> 34\u001b[0;31m         \u001b[0mclusters_evt\u001b[0m\u001b[0;34m[\u001b[0m\u001b[0mpeak\u001b[0m\u001b[0;34m]\u001b[0m\u001b[0;34m.\u001b[0m\u001b[0mappend\u001b[0m\u001b[0;34m(\u001b[0m\u001b[0mcompute_xy_position\u001b[0m\u001b[0;34m(\u001b[0m\u001b[0mrSi\u001b[0m\u001b[0;34m[\u001b[0m\u001b[0mpeak\u001b[0m\u001b[0;34m]\u001b[0m\u001b[0;34m,\u001b[0m \u001b[0mslice_no\u001b[0m\u001b[0;34m,\u001b[0m \u001b[0mzs\u001b[0m\u001b[0;34m=\u001b[0m\u001b[0mzs\u001b[0m\u001b[0;34m)\u001b[0m\u001b[0;34m)\u001b[0m\u001b[0;34m\u001b[0m\u001b[0m\n\u001b[0m\u001b[1;32m     35\u001b[0m         \u001b[0max\u001b[0m \u001b[0;34m=\u001b[0m \u001b[0mplot_test_slice\u001b[0m\u001b[0;34m(\u001b[0m\u001b[0;34m*\u001b[0m\u001b[0mplot_helper\u001b[0m\u001b[0;34m(\u001b[0m\u001b[0mrSi\u001b[0m\u001b[0;34m[\u001b[0m\u001b[0mpeak\u001b[0m\u001b[0;34m]\u001b[0m\u001b[0;34m,\u001b[0m \u001b[0mslice_no\u001b[0m\u001b[0;34m)\u001b[0m\u001b[0;34m)\u001b[0m\u001b[0;34m\u001b[0m\u001b[0m\n\u001b[1;32m     36\u001b[0m         \u001b[0mplot_corona_tbin\u001b[0m\u001b[0;34m(\u001b[0m\u001b[0max\u001b[0m\u001b[0;34m,\u001b[0m \u001b[0mclusters_evt\u001b[0m\u001b[0;34m[\u001b[0m\u001b[0mpeak\u001b[0m\u001b[0;34m]\u001b[0m\u001b[0;34m[\u001b[0m\u001b[0;34m-\u001b[0m\u001b[0;36m1\u001b[0m\u001b[0;34m]\u001b[0m\u001b[0;34m)\u001b[0m\u001b[0;34m\u001b[0m\u001b[0m\n",
      "\u001b[0;32m<ipython-input-19-266c65f33003>\u001b[0m in \u001b[0;36mcompute_xy_position\u001b[0;34m(si, slice_no, zs)\u001b[0m\n\u001b[1;32m     11\u001b[0m     \u001b[0;32melse\u001b[0m\u001b[0;34m:\u001b[0m\u001b[0;34m\u001b[0m\u001b[0m\n\u001b[1;32m     12\u001b[0m         \u001b[0mprint\u001b[0m\u001b[0;34m(\u001b[0m\u001b[0mxs\u001b[0m\u001b[0;34m.\u001b[0m\u001b[0mshape\u001b[0m\u001b[0;34m,\u001b[0m \u001b[0mys\u001b[0m\u001b[0;34m.\u001b[0m\u001b[0mshape\u001b[0m\u001b[0;34m,\u001b[0m \u001b[0mzs\u001b[0m\u001b[0;34m.\u001b[0m\u001b[0mshape\u001b[0m\u001b[0;34m)\u001b[0m\u001b[0;34m\u001b[0m\u001b[0m\n\u001b[0;32m---> 13\u001b[0;31m         \u001b[0;32mreturn\u001b[0m \u001b[0mcorona\u001b[0m\u001b[0;34m(\u001b[0m\u001b[0mnp\u001b[0m\u001b[0;34m.\u001b[0m\u001b[0marray\u001b[0m\u001b[0;34m(\u001b[0m\u001b[0;34m[\u001b[0m\u001b[0mxs\u001b[0m\u001b[0;34m,\u001b[0m \u001b[0mys\u001b[0m\u001b[0;34m,\u001b[0m \u001b[0mzs\u001b[0m\u001b[0;34m]\u001b[0m\u001b[0;34m)\u001b[0m\u001b[0;34m.\u001b[0m\u001b[0mT\u001b[0m\u001b[0;34m,\u001b[0m \u001b[0mnp\u001b[0m\u001b[0;34m.\u001b[0m\u001b[0marray\u001b[0m\u001b[0;34m(\u001b[0m\u001b[0mQs\u001b[0m\u001b[0;34m)\u001b[0m\u001b[0;34m,\u001b[0m \u001b[0mnew_lm_radius\u001b[0m\u001b[0;34m=\u001b[0m\u001b[0mnew_lm_radius\u001b[0m\u001b[0;34m,\u001b[0m \u001b[0mQlm\u001b[0m\u001b[0;34m=\u001b[0m\u001b[0mQlm\u001b[0m\u001b[0;34m,\u001b[0m \u001b[0mmsipm\u001b[0m\u001b[0;34m=\u001b[0m\u001b[0mmsipm\u001b[0m\u001b[0;34m)\u001b[0m\u001b[0;34m\u001b[0m\u001b[0m\n\u001b[0m\u001b[1;32m     14\u001b[0m \u001b[0;34m\u001b[0m\u001b[0m\n\u001b[1;32m     15\u001b[0m \u001b[0;32mdef\u001b[0m \u001b[0mplot_helper\u001b[0m\u001b[0;34m(\u001b[0m\u001b[0msi\u001b[0m\u001b[0;34m,\u001b[0m \u001b[0mslice_no\u001b[0m\u001b[0;34m)\u001b[0m\u001b[0;34m:\u001b[0m\u001b[0;34m\u001b[0m\u001b[0m\n",
      "\u001b[0;32m/Users/alej/Desktop/Valencia/nextic/IC-1/invisible_cities/reco/xy_algorithms.py\u001b[0m in \u001b[0;36mcorona\u001b[0;34m(pos, qs, Qthr, Qlm, lm_radius, new_lm_radius, msipm)\u001b[0m\n\u001b[1;32m     52\u001b[0m     \u001b[0mprint\u001b[0m\u001b[0;34m(\u001b[0m\u001b[0mabove_threshold\u001b[0m\u001b[0;34m)\u001b[0m\u001b[0;34m\u001b[0m\u001b[0m\n\u001b[1;32m     53\u001b[0m     \u001b[0mprint\u001b[0m\u001b[0;34m(\u001b[0m\u001b[0mpos\u001b[0m\u001b[0;34m.\u001b[0m\u001b[0mshape\u001b[0m\u001b[0;34m,\u001b[0m \u001b[0mqs\u001b[0m\u001b[0;34m.\u001b[0m\u001b[0mshape\u001b[0m\u001b[0;34m)\u001b[0m\u001b[0;34m\u001b[0m\u001b[0m\n\u001b[0;32m---> 54\u001b[0;31m     \u001b[0mpos\u001b[0m\u001b[0;34m,\u001b[0m \u001b[0mqs\u001b[0m \u001b[0;34m=\u001b[0m \u001b[0mpos\u001b[0m\u001b[0;34m[\u001b[0m\u001b[0mabove_threshold\u001b[0m\u001b[0;34m]\u001b[0m\u001b[0;34m,\u001b[0m \u001b[0mqs\u001b[0m\u001b[0;34m[\u001b[0m\u001b[0mabove_threshold\u001b[0m\u001b[0;34m]\u001b[0m\u001b[0;34m\u001b[0m\u001b[0m\n\u001b[0m\u001b[1;32m     55\u001b[0m     \u001b[0;31m# While there are more local maxima\u001b[0m\u001b[0;34m\u001b[0m\u001b[0;34m\u001b[0m\u001b[0m\n\u001b[1;32m     56\u001b[0m     \u001b[0;32mwhile\u001b[0m \u001b[0mlen\u001b[0m\u001b[0;34m(\u001b[0m\u001b[0mqs\u001b[0m\u001b[0;34m)\u001b[0m \u001b[0;34m>\u001b[0m \u001b[0;36m0\u001b[0m\u001b[0;34m:\u001b[0m\u001b[0;34m\u001b[0m\u001b[0m\n",
      "\u001b[0;31mIndexError\u001b[0m: index 3 is out of bounds for axis 1 with size 3"
     ]
    }
   ],
   "source": [
    "S1 = S1s  .get(event_number, {})\n",
    "S2 = S2s  .get(event_number, {})\n",
    "Si = S2Sis.get(event_number, {})\n",
    "\n",
    "# MUST ADDRESS:\n",
    "# 1) What times / zcoords to assign to squashed time slices\n",
    "#    For now just average times of original time slices (div by dV for Z)\n",
    "#    Probably better to have average weighted by total energy of time slice\n",
    "# 2) What to do when n_slices % stride != 0. \n",
    "#    Now remainder slices are discarded. Not sure what should be done....  \n",
    "\n",
    "\n",
    "clusters_evt = {}\n",
    "integrate_peak  = False  # Squash all time slices\n",
    "\n",
    "drift_velocity = units.mm / units.mus\n",
    "for peak in S2:\n",
    "    \n",
    "    clusters_evt[peak] = []\n",
    "   \n",
    "    if integrate_peak: stride = n_slices\n",
    "    else             : stride = 1\n",
    "    rSi = rebin_S2Si(Si, stride)\n",
    "    n_slices        = len(rSi[peak])#[next(iter(rSi[peak]))]) \n",
    "\n",
    "    times = rebin_array(S2[peak][0], stride) / stride \n",
    "\n",
    "    zs = (times - S1[0][0].mean()) * drift_velocity\n",
    "    nsig  =  1/2 # plot param\n",
    "    # For each tbin, compute clusters, plot SiPMS, plot corona clusters\n",
    "    for slice_no in range(n_slices // stride):\n",
    "        clusters_evt[peak].append(compute_xy_position(rSi[peak], slice_no, zs=zs))\n",
    "        ax = plot_test_slice(*plot_helper(rSi[peak], slice_no))\n",
    "        plot_corona_tbin(ax, clusters_evt[peak][-1])\n",
    "        plt.title('Event: ' + str(event_number) + ', Peak: ' + str(peak))\n",
    "        plt.show()\n"
   ]
  },
  {
   "cell_type": "code",
   "execution_count": null,
   "metadata": {
    "collapsed": false
   },
   "outputs": [],
   "source": [
    "for peak in clusters_evt:\n",
    "    for tb, clusters_tb in enumerate(clusters_evt[peak]):\n",
    "        for cluster in clusters_tb:\n",
    "            cluster[0] = np.append(cluster.pos, zs_evt[peak][tb])"
   ]
  },
  {
   "cell_type": "code",
   "execution_count": 24,
   "metadata": {
    "collapsed": false
   },
   "outputs": [
    {
     "name": "stdout",
     "output_type": "stream",
     "text": [
      "9 9\n",
      "10 15\n"
     ]
    }
   ],
   "source": [
    "print(len(Si[0]), len(S2[0][0]))\n",
    "print(len(Si[1]), len(S2[1][0]))"
   ]
  },
  {
   "cell_type": "code",
   "execution_count": 25,
   "metadata": {
    "collapsed": false
   },
   "outputs": [
    {
     "data": {
      "text/plain": [
       "array([ 281461.25,  282487.5 ,  283487.5 ,  284487.5 ,  285487.5 ,\n",
       "        286487.5 ,  287487.5 ,  288487.5 ,  289487.5 ,  290487.5 ,\n",
       "        291487.5 ,  292487.5 ,  293487.5 ,  294487.5 ,  295362.5 ])"
      ]
     },
     "execution_count": 25,
     "metadata": {},
     "output_type": "execute_result"
    }
   ],
   "source": [
    "S2[1][0]"
   ]
  },
  {
   "cell_type": "code",
   "execution_count": null,
   "metadata": {
    "collapsed": false
   },
   "outputs": [],
   "source": [
    "print('Make sure to look at values along axes to see if plot is reasonable')\n",
    "flattened    = [item for sublist in clusters_evt[0]  + clusters_evt[1]  for item in sublist]\n",
    "\n",
    "\n",
    "ax = plot_event_clusters(flattened, figsize=(30,30))\n",
    "#ax = plot_event_clusters(flattened, flattened_zs[peak], ax)\n",
    "plot_nexus_event_hits(ax, gather_montecarlo_hits(pmap_path)[event_number])\n",
    "plt.show()"
   ]
  },
  {
   "cell_type": "code",
   "execution_count": null,
   "metadata": {
    "collapsed": false
   },
   "outputs": [],
   "source": [
    "print(list(zs_evt[0]) + list(zs_evt[1]))"
   ]
  },
  {
   "cell_type": "code",
   "execution_count": null,
   "metadata": {
    "collapsed": false
   },
   "outputs": [],
   "source": [
    "len(zs_evt[0])\n",
    "\n"
   ]
  },
  {
   "cell_type": "code",
   "execution_count": null,
   "metadata": {
    "collapsed": false
   },
   "outputs": [],
   "source": [
    "clusters_evt[0]"
   ]
  },
  {
   "cell_type": "code",
   "execution_count": null,
   "metadata": {
    "collapsed": false
   },
   "outputs": [],
   "source": [
    "event_numbers, timestamps = get_event_numbers_and_timestamps(pmap_path)\n",
    "clusters_f = {}\n",
    "ZS = {}\n",
    "for event_number in event_numbers:\n",
    "    S1 = S1s  .get(event_number, {})\n",
    "    S2 = S2s  .get(event_number, {})\n",
    "    Si = S2Sis.get(event_number, {})\n",
    "    \n",
    "    # Only keep events with one S1, one S2, and one S2Si\n",
    "    if len(S2) != 1 or len(S1) != 1 or len(Si) != 1: continue \n",
    "\n",
    "\n",
    "    # MUST ADDRESS:\n",
    "    # 1) What times / zcoords to assign to squashed time slices\n",
    "    #    For now just average times of original time slices (div by dV for Z)\n",
    "    #    Probably better to have average weighted by total energy of time slice\n",
    "    # 2) What to do when n_slices % stride != 0. \n",
    "    #    Now remainder slices are discarded. Not sure what should be done....       \n",
    "    integrate_peak  = True   # Squash all time slices\n",
    "    peak     = list(S2.keys())[0]\n",
    "    s1k      = list(S1.keys())[0]\n",
    "    n_slices = len(Si[peak][next(iter(Si[peak]))])\n",
    "    \n",
    "    if integrate_peak: stride = n_slices\n",
    "    else             : stride = 1\n",
    "        \n",
    "    clusters_evt = []\n",
    "    rSi   = rebin_S2Si(Si, stride)\n",
    "    times = rebin_array(S2[peak][0], stride) / stride # VERY CRUDE\n",
    "    drift_velocity = units.mm / units.mus\n",
    "    \n",
    "    # drift time starts at time of S1!\n",
    "    zs = (times - S1[list(S1.keys())[0]][0].mean()) * drift_velocity\n",
    "    ZS[event_number] = zs\n",
    "\n",
    "    # For each tbin, compute clusters, plot SiPMS, plot corona clusters\n",
    "    for slice_no in range(n_slices // stride):\n",
    "        clusters_evt.append(compute_xy_position(rSi[peak], slice_no))\n",
    "    \n",
    "    clusters_f[event_number] = clusters_evt\n",
    "\n",
    "    \n",
    "# clusters_f\n",
    "# is a dictionary where the keys are event numbers \n",
    "# pointing to a list of the list of clusters in each \n",
    "# (potentially rebinned) time bin."
   ]
  },
  {
   "cell_type": "markdown",
   "metadata": {},
   "source": [
    "How many clusters are found in thing single integrated time slice"
   ]
  },
  {
   "cell_type": "code",
   "execution_count": null,
   "metadata": {
    "collapsed": false
   },
   "outputs": [],
   "source": [
    "plt.figure(figsize=(10,5))\n",
    "num_clusters = np.array([len(clusters[0]) for clusters in clusters_f.values()])\n",
    "plt.hist(num_clusters, bins=36, range=(-.5, 3.5), alpha=.7)\n",
    "plt.title('Number of clusters found by Corona')\n",
    "plt.xlabel('Number of clusters')\n",
    "plt.ylabel('Number of events')\n",
    "plt.yscale('log')\n",
    "plt.grid(True)\n",
    "plt.show()"
   ]
  },
  {
   "cell_type": "markdown",
   "metadata": {},
   "source": [
    "#### Find truth"
   ]
  },
  {
   "cell_type": "code",
   "execution_count": null,
   "metadata": {
    "collapsed": false
   },
   "outputs": [],
   "source": [
    "# Make dict mapping event number to its barycenter\n",
    "mclust = {}\n",
    "for evt, hits in gather_montecarlo_hits(pmap_path).items(): \n",
    "    mclust[evt] = barycenter(hits[:,:3], hits[:,3])"
   ]
  },
  {
   "cell_type": "markdown",
   "metadata": {},
   "source": [
    "#### Find error for squashed events with one cluster"
   ]
  },
  {
   "cell_type": "code",
   "execution_count": null,
   "metadata": {
    "collapsed": false
   },
   "outputs": [],
   "source": [
    "xerr = {}\n",
    "yerr = {}\n",
    "zerr = {}\n",
    "xyd = {}\n",
    "dist = {}\n",
    "\n",
    "for event, clusters in clusters_f.items(): # BUG???\n",
    "    #if len(rclust[evt]) == 1 and evt < 9997:\n",
    "    if len(clusters[0]) == 1 and len(clusters) == 1 and event in mclust:\n",
    "        rc0 = clusters[0][0]\n",
    "        xerr[event] = rc0.pos[0]   - mclust[event].pos[0]\n",
    "        yerr[event] = rc0.pos[1]   - mclust[event].pos[1]\n",
    "        zerr[event] = ZS[event][0] - mclust[event].pos[2]\n",
    "        \n",
    "        xyd [event] = np.sqrt(xerr[event]**2 + yerr[event]**2)\n",
    "        dist[event] = np.sqrt(xerr[event]**2 + yerr[event]**2 + zerr[event]**2)\n",
    "        \n",
    "        #if rc0.Xrms > 0:\n",
    "        #    xpull0[evt] = xerr  [evt] / rc0.rms[0] \n",
    "        #    xpull [evt] = xpull0[evt] * rc0.Nsipm\n",
    "        #if rc0.Yrms > 0:\n",
    "        #    ypull0[evt] = yerr  [evt] / rc0.rms[1]\n",
    "        #    ypull [evt] = ypull0[evt] * rc0.Nsipm\n",
    "        \n"
   ]
  },
  {
   "cell_type": "code",
   "execution_count": null,
   "metadata": {
    "collapsed": false,
    "scrolled": true
   },
   "outputs": [],
   "source": [
    "bins = 50\n",
    "xrg = 0, 10\n",
    "fig = plt.figure(figsize=(20,10))\n",
    "\n",
    "fig.add_subplot(241)\n",
    "plt.hist(list(xerr.values()), bins=bins, alpha=.8, range=xrg)\n",
    "plt.title('x error')\n",
    "plt.xlabel('mm')\n",
    "plt.grid(True)\n",
    "\n",
    "fig.add_subplot(242)\n",
    "plt.hist(list(yerr.values()), bins=bins, alpha=.8, range=xrg)\n",
    "plt.title('y error')\n",
    "plt.xlabel('mm')\n",
    "plt.grid(True)\n",
    "\n",
    "fig.add_subplot(243)\n",
    "plt.hist(list(zerr.values()), bins=bins, alpha=.8, range=xrg)\n",
    "plt.title('z error')\n",
    "plt.xlabel('mm')\n",
    "plt.grid(True)\n",
    "\n",
    "fig.add_subplot(245)\n",
    "plt.hist(list(xyd.values()), bins=bins, alpha=.8, range=xrg)\n",
    "plt.title('xy distance')\n",
    "plt.xlabel('mm')\n",
    "plt.yscale('log')\n",
    "plt.grid(True)\n",
    "\n",
    "fig.add_subplot(246)\n",
    "plt.hist(list(dist.values()), bins=bins, alpha=.8, range=xrg)\n",
    "plt.title('distance')\n",
    "plt.xlabel('mm')\n",
    "plt.yscale('log')\n",
    "plt.grid(True)\n",
    "\n",
    "plt.show()"
   ]
  },
  {
   "cell_type": "code",
   "execution_count": null,
   "metadata": {
    "collapsed": false
   },
   "outputs": [],
   "source": [
    "xrg = -3, 3\n",
    "plt.figure(figsize=(10,5))\n",
    "plt.title('xerr')\n",
    "plt.xlabel('mm')\n",
    "y, x, _ = \\\n",
    "plt.hist(list(xerr.values()), bins=bins, alpha=.8, range=xrg)\n",
    "x = x[:-1] + np.diff(x) * 0.5\n",
    "f = fitf.fit(fitf.gauss, x, y, (1e3, 0, 1))\n",
    "plt.plot(x, f.fn(x), \"r-\")\n",
    "print(f.values)\n",
    "\n",
    "plt.grid(True)\n",
    "plt.show()\n",
    "plt.figure(figsize=(10,5))\n",
    "y, x, _ = \\\n",
    "plt.hist(list(yerr.values()), bins=bins, alpha=.8, range=xrg)\n",
    "x = x[:-1] + np.diff(x) * 0.5\n",
    "f = fitf.fit(fitf.gauss, x, y, (1e3, 0, 1))\n",
    "plt.plot(x, f.fn(x), \"r-\")\n",
    "print(f.values)\n",
    "plt.grid(True)\n",
    "plt.title('yerr')\n",
    "plt.xlabel('mm')\n",
    "plt.show()"
   ]
  },
  {
   "cell_type": "code",
   "execution_count": null,
   "metadata": {
    "collapsed": true
   },
   "outputs": [],
   "source": []
  },
  {
   "cell_type": "code",
   "execution_count": null,
   "metadata": {
    "collapsed": true
   },
   "outputs": [],
   "source": []
  }
 ],
 "metadata": {
  "kernelspec": {
   "display_name": "Python 3",
   "language": "python",
   "name": "python3"
  },
  "language_info": {
   "codemirror_mode": {
    "name": "ipython",
    "version": 3
   },
   "file_extension": ".py",
   "mimetype": "text/x-python",
   "name": "python",
   "nbconvert_exporter": "python",
   "pygments_lexer": "ipython3",
   "version": "3.6.0"
  }
 },
 "nbformat": 4,
 "nbformat_minor": 2
}
