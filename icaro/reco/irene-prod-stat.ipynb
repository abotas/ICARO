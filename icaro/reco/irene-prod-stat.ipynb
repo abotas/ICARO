{
 "cells": [
  {
   "cell_type": "markdown",
   "metadata": {
    "collapsed": false
   },
   "source": [
    "# Potential plots etc, for irene monitor"
   ]
  },
  {
   "cell_type": "code",
   "execution_count": 21,
   "metadata": {
    "collapsed": false
   },
   "outputs": [],
   "source": [
    "import os\n",
    "import tables as tb\n",
    "import numpy  as np\n",
    "from matplotlib import pyplot as plt\n",
    "\n",
    "from invisible_cities.reco.params   import S12Params as S12P, PMaps\n",
    "from invisible_cities.core.ic_types import minmax\n",
    "from invisible_cities.core.system_of_units_c import units\n",
    "#from invisible_cities.reco.pmaps_functions   import load_pmaps\n",
    "from invisible_cities.reco import peak_functions_c as cpf\n",
    "from invisible_cities.reco import peak_functions   as  pf\n",
    "from invisible_cities.io   import pmap_io          as pio"
   ]
  },
  {
   "cell_type": "code",
   "execution_count": 4,
   "metadata": {
    "collapsed": true
   },
   "outputs": [],
   "source": [
    "ic_data = os.path.join(os.environ['IC_DATA'])\n",
    "rwf_path  = ic_data + 'Montecarlo/Kr/dst_NEXT_v0_08_09_Kr_ACTIVE_0_0_7bar_RWF_10000.root.h5'\n",
    "pmap_path = ic_data + 'Montecarlo/Kr/dst_NEXT_v0_08_09_Kr_ACTIVE_0_0_7bar_pmaps_10000.root.h5'\n",
    "conf_path = ic_data + 'Montecarlo/Kr/irene_prod.conf'"
   ]
  },
  {
   "cell_type": "markdown",
   "metadata": {},
   "source": [
    "## Pmap checks"
   ]
  },
  {
   "cell_type": "code",
   "execution_count": null,
   "metadata": {
    "collapsed": true
   },
   "outputs": [],
   "source": [
    "with tb.open_file(rwf_path, 'r+') as f_rwfs:\n",
    "    events = [f_rwfs.root.Run.events[i][0] for i in range(len(f_rwfs.root.Run.events[:]))]\n",
    "nevts = len(events)\n",
    "s1_dict, s2_dict, s2si_dict = pio.load_pmaps(pmap_path)"
   ]
  },
  {
   "cell_type": "markdown",
   "metadata": {},
   "source": [
    "#### Ensure there are no empty s1d, s2d, s2sid"
   ]
  },
  {
   "cell_type": "code",
   "execution_count": null,
   "metadata": {
    "collapsed": true
   },
   "outputs": [],
   "source": [
    "# Check to make sure no empty dictionaries (not sure if empty Si is allowed..)\n",
    "for si_dict in [s1_dict, s2_dict, s2si_dict]:\n",
    "    for si in si_dict.values():\n",
    "        try: \n",
    "            for peak in si.s1d.values():\n",
    "                assert len(peak) > 0\n",
    "        except AttributeError:\n",
    "            try:\n",
    "                for peak in si.s2sid.values():\n",
    "                    assert len(peak) > 0\n",
    "            except AttributeError: \n",
    "                for peak in si.s2d.values():\n",
    "                    assert len(peak) > 0           "
   ]
  },
  {
   "cell_type": "markdown",
   "metadata": {},
   "source": [
    "#### Check to make sure we found peaks"
   ]
  },
  {
   "cell_type": "code",
   "execution_count": 22,
   "metadata": {
    "collapsed": false
   },
   "outputs": [
    {
     "name": "stdout",
     "output_type": "stream",
     "text": [
      "Number of events                               : 1000\n",
      "Fract. of events with at least one s1, s2, s2si: 0.94 0.999 0.999\n",
      "Total S1, S2, s2si                             : 940  1000  1000\n"
     ]
    }
   ],
   "source": [
    "ns1 = 0; ns2 = 0; ns2si = 0 \n",
    "for s1   in s1_dict  .values(): ns1   += len(s1.s1d)\n",
    "for s2   in s2_dict  .values(): ns2   += len(s2.s2d)\n",
    "for s2si in s2si_dict.values(): ns2si += len(s2si.s2sid)\n",
    "print('Number of events                               :', nevts)\n",
    "print('Fract. of events with at least one s1, s2, s2si:', len(s1_dict  )/nevts, \n",
    "                                                          len(s2_dict  )/nevts, \n",
    "                                                          len(s2si_dict)/nevts)\n",
    "print('Total S1, S2, s2si                             :', ns1,'',ns2,'',ns2si)"
   ]
  },
  {
   "cell_type": "markdown",
   "metadata": {},
   "source": [
    "#### Check to make sure peaks look like segments of csum waveform"
   ]
  },
  {
   "cell_type": "code",
   "execution_count": null,
   "metadata": {
    "collapsed": true
   },
   "outputs": [],
   "source": []
  },
  {
   "cell_type": "code",
   "execution_count": null,
   "metadata": {
    "collapsed": true
   },
   "outputs": [],
   "source": []
  },
  {
   "cell_type": "markdown",
   "metadata": {},
   "source": [
    "#### We can use some of our pytests. Of course they have already been run, but we can run them on these data (larger/more diverse/realistic) at least if the tests are quick."
   ]
  },
  {
   "cell_type": "markdown",
   "metadata": {},
   "source": [
    "First let's look at a couple events individually."
   ]
  },
  {
   "cell_type": "code",
   "execution_count": 6,
   "metadata": {
    "collapsed": false
   },
   "outputs": [
    {
     "name": "stdout",
     "output_type": "stream",
     "text": [
      "/Users/alej/Desktop/IC_DATA/Montecarlo/Kr/dst_NEXT_v0_08_09_Kr_ACTIVE_0_0_7bar_RWF_10000.root.h5 (File) ''\n",
      "Last modif.: 'Fri Jun 30 11:42:28 2017'\n",
      "Object Tree: \n",
      "/ (RootGroup) ''\n",
      "/FEE (Group) ''\n",
      "/FEE/FEE (Table(1,)) 'EP-FEE parameters'\n",
      "/MC (Group) ''\n",
      "/MC/MCTracks (Table(69613,), shuffle, zlib(4)) 'MCTracks'\n",
      "/RD (Group) ''\n",
      "/RD/pmtblr (EArray(1000, 12, 48000), shuffle, zlib(4)) ''\n",
      "/RD/pmtrwf (EArray(1000, 12, 48000), shuffle, zlib(4)) ''\n",
      "/RD/sipmrwf (EArray(1000, 1792, 1200), shuffle, zlib(4)) ''\n",
      "/Run (Group) ''\n",
      "/Run/events (Table(1000,), shuffle, zlib(4)) 'event info table'\n",
      "/Run/runInfo (Table(1000,), shuffle, zlib(4)) 'run info table'\n",
      "\n"
     ]
    }
   ],
   "source": [
    "n_sample_events = 9\n",
    "ev_sample = []\n",
    "with tb.open_file(rwf_path, 'r+') as f_rwfs:\n",
    "    ev_sample = np.random.choice(events[1:-1], size=n_sample_events-2, replace=False)\n",
    "    ev_sample = np.append(np.insert(ev_sample, events[0], 0), events[-1])\n",
    "    ev_sample.sort()\n",
    "    rwf_sample = f_rwfs.root.RD.pmtrwf[:][ev_sample]"
   ]
  },
  {
   "cell_type": "markdown",
   "metadata": {},
   "source": [
    "## pmaps"
   ]
  },
  {
   "cell_type": "code",
   "execution_count": 1,
   "metadata": {
    "collapsed": false
   },
   "outputs": [
    {
     "ename": "NameError",
     "evalue": "name 'S2s' is not defined",
     "output_type": "error",
     "traceback": [
      "\u001b[0;31m---------------------------------------------------------------------------\u001b[0m",
      "\u001b[0;31mNameError\u001b[0m                                 Traceback (most recent call last)",
      "\u001b[0;32m<ipython-input-1-a3212b47dc3c>\u001b[0m in \u001b[0;36m<module>\u001b[0;34m()\u001b[0m\n\u001b[0;32m----> 1\u001b[0;31m \u001b[0mS2s\u001b[0m\u001b[0;34m[\u001b[0m\u001b[0;36m0\u001b[0m\u001b[0;34m]\u001b[0m\u001b[0;34m[\u001b[0m\u001b[0;36m0\u001b[0m\u001b[0;34m]\u001b[0m\u001b[0;34m\u001b[0m\u001b[0m\n\u001b[0m",
      "\u001b[0;31mNameError\u001b[0m: name 'S2s' is not defined"
     ]
    }
   ],
   "source": [
    "S2s[0][0]"
   ]
  },
  {
   "cell_type": "markdown",
   "metadata": {
    "collapsed": true
   },
   "source": [
    "Look at some waveforms / S1s / S2s / S2Sis"
   ]
  }
 ],
 "metadata": {
  "kernelspec": {
   "display_name": "Python 3",
   "language": "python",
   "name": "python3"
  },
  "language_info": {
   "codemirror_mode": {
    "name": "ipython",
    "version": 3
   },
   "file_extension": ".py",
   "mimetype": "text/x-python",
   "name": "python",
   "nbconvert_exporter": "python",
   "pygments_lexer": "ipython3",
   "version": "3.6.0"
  }
 },
 "nbformat": 4,
 "nbformat_minor": 2
}
