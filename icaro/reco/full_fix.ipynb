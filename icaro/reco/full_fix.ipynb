{
 "cells": [
  {
   "cell_type": "markdown",
   "metadata": {},
   "source": [
    "### Fix S2 / SiS2 bug\n",
    "The idea here is to first, modify irene such that:    \n",
    "1) First she threshold-suppresses the csum waveform    \n",
    "2) Then she finds the S2s in the threshold-suppressed waveform    \n",
    "3) Then she passes the chunch of non-suppressed waveform to `rebin_waveform`\n",
    "\n",
    "Then implement (with this new input) the fix in `rebin_waveform` to avoid the creation of large timebins and ensure that S2 and SiS2 will be properly aligned. "
   ]
  },
  {
   "cell_type": "code",
   "execution_count": 3,
   "metadata": {
    "collapsed": false
   },
   "outputs": [
    {
     "name": "stdout",
     "output_type": "stream",
     "text": [
      "/Users/alej/Desktop/IC_DATA/Montecarlo/Co/dst_NEXT_v0_08_09_Co56_INTERNALPORTANODE_0_0_7bar_RWF_10000.root.h5 (File) ''\n",
      "Last modif.: 'Wed Jun 14 11:06:20 2017'\n",
      "Object Tree: \n",
      "/ (RootGroup) ''\n",
      "/MC (Group) ''\n",
      "/MC/FEE (Table(1,)) 'EP-FEE parameters'\n",
      "/MC/MCTracks (Table(433702,), shuffle, zlib(4)) 'MCTracks'\n",
      "/RD (Group) ''\n",
      "/RD/pmtblr (EArray(10000, 12, 48000), shuffle, zlib(4)) ''\n",
      "/RD/pmtrwf (EArray(10000, 12, 48000), shuffle, zlib(4)) ''\n",
      "/RD/sipmrwf (EArray(10000, 1792, 1200), shuffle, zlib(4)) ''\n",
      "/Run (Group) ''\n",
      "/Run/RunInfo (Table(1,)) 'Run info'\n",
      "/Run/events (Table(10000,)) 'Events info'\n",
      "\n"
     ]
    }
   ],
   "source": [
    "import os\n",
    "import tables as tb\n",
    "import numpy  as np\n",
    "from matplotlib import pyplot as plt\n",
    "\n",
    "from invisible_cities.cities.irene  import Irene, IRENE\n",
    "from invisible_cities.reco.params   import S12Params as S12P\n",
    "from invisible_cities.core.ic_types import minmax\n",
    "from invisible_cities.core.system_of_units_c import units\n",
    "from invisible_cities.reco.pmaps_functions   import load_pmaps\n",
    "from invisible_cities.reco import peak_functions_c as cpf\n",
    "from invisible_cities.reco import peak_functions   as  pf\n",
    "from invisible_cities.io   import pmap_io          as pio\n",
    "\n",
    "infile = os.path.join(os.environ['IC_DATA'], \n",
    "                      'Montecarlo/Co/dst_NEXT_v0_08_09_Co56_INTERNALPORTANODE_0_0_7bar_RWF_10000.root.h5')\n",
    "\n",
    "with tb.open_file(infile, 'r+') as f:\n",
    "    print(f)\n",
    "    nevents = f.root.Run.events.nrows\n",
    "    event_numbers = f.root.Run.events[:]['evt_number']"
   ]
  },
  {
   "cell_type": "code",
   "execution_count": 4,
   "metadata": {
    "collapsed": true
   },
   "outputs": [],
   "source": [
    "s1par = S12P(time = minmax(min   = 99 * units.mus,\n",
    "                           max   = 101 * units.mus),\n",
    "             stride              = 4,\n",
    "             length = minmax(min = 6,\n",
    "                             max = 16),\n",
    "             rebin               = False)\n",
    "\n",
    "# parameters for s2 searches\n",
    "s2par = S12P(time = minmax(min   =    101 * units.mus,\n",
    "                           max   =   1199 * units.mus),\n",
    "             stride              =     40,\n",
    "             length = minmax(min =    100,\n",
    "                             max = 100000),\n",
    "             rebin               = True)\n",
    "\n",
    "irene = Irene(run_number  = 0,\n",
    "                  nprint      = 1,\n",
    "                  files_in    = [infile],\n",
    "                  file_out    = 'irene_co_output.h5',\n",
    "                  compression = 'ZLIB4',\n",
    "                  n_baseline  = 38000,\n",
    "                  thr_trigger = 5   * units.adc,\n",
    "                  n_MAU       = 100,\n",
    "                  thr_MAU     = 3   * units.adc,\n",
    "                  thr_csum_s1 = 0.5 * units.pes,\n",
    "                  thr_csum_s2 = 1.0 * units.pes,\n",
    "                  n_MAU_sipm  = 100 * units.adc,\n",
    "                  thr_sipm    = 3.5 * units.pes,\n",
    "                  s1_params   = s1par,\n",
    "                  s2_params   = s2par,\n",
    "                  thr_sipm_s2 = 20)\n",
    "\n",
    "nevts = 50\n",
    "#nevt, n_empty_events = irene.run(nmax=nevts)"
   ]
  },
  {
   "cell_type": "markdown",
   "metadata": {},
   "source": [
    "I want to make the input of `rebin_waveform` be the a chunk of waveform corresponding to the S12, while modifying as little else as possible\n",
    "\n",
    "#### Modify find_S12 and rebin_waveform"
   ]
  },
  {
   "cell_type": "code",
   "execution_count": 5,
   "metadata": {
    "collapsed": true
   },
   "outputs": [],
   "source": [
    "#GENERAL\n",
    "# The same modifications that the quick fix had,\n",
    "# exept now rebin waveform works directly with the\n",
    "# non-suppressed wf, along with start and stop times\n",
    "# of the S12\n",
    "def rebin_waveform_fix(ts, t_finish, wf, stride=40):\n",
    "    \"\"\"\n",
    "    Rebin a waveform according to stride\n",
    "    The input waveform is a vector such that the index expresses time bin and the\n",
    "    contents expresses energy (e.g, in pes)\n",
    "    The function returns the rebinned T and E vectors\n",
    "    NB: This function is used mainly for testing purposed. It is\n",
    "     programmed \"c-style\", which is not necesarily optimal\n",
    "    in python, but follows the same logic that the corresponding cython\n",
    "    function (in peak_functions_c), which runs faster and should be used\n",
    "    instead of this one for normal calculations.\n",
    "    \"\"\"\n",
    "\n",
    "    #assert (units.mus / units.ns) % stride == 0\n",
    "    assert (ts < t_finish)\n",
    "\n",
    "    \n",
    "    t_start  = int((ts // (stride*25*units.ns)) * stride*25*units.ns)\n",
    "    t_total  = t_finish - t_start\n",
    "    n = int(t_total // (stride*25*units.ns))\n",
    "    r = int(t_total  % (stride*25*units.ns))\n",
    "    \n",
    "    lenb = n\n",
    "    if r > 0: lenb = n+1\n",
    "\n",
    "    T = np.zeros(lenb, dtype=np.double)\n",
    "    E = np.zeros(lenb, dtype=np.double)\n",
    "\n",
    "    j = 0\n",
    "    for i in range(n):\n",
    "        esum  = 0\n",
    "        for tb in range(int(t_start +  i   *stride*25*units.ns), \n",
    "                        int(t_start + (i+1)*stride*25*units.ns), \n",
    "                        int(25*units.ns)):\n",
    "            if tb < ts: continue \n",
    "            esum += wf[j]\n",
    "            j    += 1\n",
    "\n",
    "        E[i] = esum\n",
    "        if i == 0: T[0] = (ts + t_start +   stride*25*units.ns) / 2\n",
    "        else     : T[i] = (     t_start + i*stride*25*units.ns + stride*25*units.ns/2)\n",
    "\n",
    "    if r > 0:\n",
    "        esum  = 0\n",
    "        for tb in range(int(t_start + n*stride*25*units.ns), \n",
    "                        int(t_finish), \n",
    "                        int(25*units.ns)):\n",
    "            if tb < ts: continue \n",
    "            esum += wf[j]\n",
    "            j    += 1\n",
    "\n",
    "        E[n] = esum\n",
    "        if n == 0: T[n] = (ts + t_finish) / 2\n",
    "        else     : T[n] = (t_start + n*stride*25*units.ns + t_finish) / 2\n",
    "\n",
    "    assert j == len(wf)\n",
    "    return T, E\n",
    "\n",
    "\n",
    "# CHANGED THE INPUT:\n",
    "# Got rid of energies and replaced with a waveform of the cumulative pmts.\n",
    "\n",
    "# Now it finds the start and stop time of the S12 and then send a chunk \n",
    "# of the waveform to rebin_waveform (if rebin is set to true)\n",
    "\n",
    "def find_S12_py_fix(csum, index,\n",
    "             time   = minmax(0, 1e+6),\n",
    "             length = minmax(8, 1000000),\n",
    "             stride=4, rebin=False, rebin_stride=40, default_binsize=25*units.ns):\n",
    "    \"\"\"\n",
    "    Find S1/S2 peaks.\n",
    "    input:\n",
    "    csum:   calibrated wf sum of the pmts for an event\n",
    "    index:   a vector of indices in csum above threshold\n",
    "    returns a dictionary\n",
    "    do not interrupt the peak if next sample comes within stride\n",
    "    accept the peak only if within [lmin, lmax)\n",
    "    accept the peak only if within [tmin, tmax)\n",
    "    returns a dictionary of S12\n",
    "    NB: This function is used mainly for testing purposed. It is programmed\n",
    "     \"c-style\", which is not necesarily optimal\n",
    "    in python, but follows the same logic that the corresponding cython\n",
    "    function (in peak_functions_c), which runs faster and should be used\n",
    "    instead of this one for nornal calculations.\n",
    "    \"\"\"\n",
    "    \n",
    "    T = cpf.time_from_index(index)\n",
    "\n",
    "    S12  = {}\n",
    "    S12L = {}\n",
    "\n",
    "    # Start end end index of S12, [start i, end i) \n",
    "    S12[0] = np.array([index[0], index[0] + 1], dtype=np.int32)\n",
    "\n",
    "    j = 0\n",
    "    for i in range(1, len(index)) :\n",
    "\n",
    "        if T[i] > time.max: break\n",
    "        if T[i] < time.min: continue\n",
    "\n",
    "        # New s12, create new start and end index\n",
    "        if index[i] - stride > index[i-1]:  \n",
    "            j += 1\n",
    "            S12[j] = np.array([index[i], index[i] + 1], dtype=np.int32)\n",
    "        \n",
    "        # Same s12, update end index\n",
    "        S12[j][1] = index[i] + 1 \n",
    "    \n",
    "    j = 0\n",
    "    for i_peak in S12.values():\n",
    "        \n",
    "        if not (length.min <= i_peak[1] - i_peak[0] < length.max):\n",
    "            continue\n",
    "            \n",
    "        S12wf = csum[i_peak[0]: i_peak[1]]\n",
    "        if rebin == True:\n",
    "            TR, ER = rebin_waveform_fix(*cpf.time_from_index(i_peak), \n",
    "                                        S12wf, \n",
    "                                        stride = rebin_stride)\n",
    "            S12L[j] = [TR, ER]\n",
    "        else:\n",
    "            S12L[j] = [np.arange(*cpf.time_from_index(i_peak), default_binsize), S12wf]\n",
    "        j += 1\n",
    "\n",
    "    return S12L\n"
   ]
  },
  {
   "cell_type": "markdown",
   "metadata": {},
   "source": [
    "# FIXED\n",
    "Now run Irene by hand to see the results"
   ]
  },
  {
   "cell_type": "code",
   "execution_count": 6,
   "metadata": {
    "collapsed": false
   },
   "outputs": [],
   "source": [
    "with tb.open_file(infile ,'r') as f:\n",
    "\n",
    "    CSUMs  = {}\n",
    "    S1sc   = {}\n",
    "    S2sc   = {}\n",
    "    S2Sisc = {}\n",
    "\n",
    "    for ev in range(50):\n",
    "        CSUMs[ev] = irene.calibrated_pmt_sum(irene.deconv_pmt(f.root.RD.pmtrwf[ev]))[0]\n",
    "\n",
    "        # theshold suppression!\n",
    "        s1_ene, s1_indx, s2_ene, s2_indx, csum = irene.pmt_transformation(f.root.RD.pmtrwf[ev])\n",
    "\n",
    "        if np.sum(s2_ene) == 0:\n",
    "            n_empty_events += 1\n",
    "            continue\n",
    "\n",
    "        sipmzs = irene.calibrated_signal_sipm(f.root.RD.sipmrwf[ev])\n",
    "\n",
    "        # NOW FIND S1, S2, Sii\n",
    "        S1 = find_S12_py_fix(CSUMs[ev], s1_indx, **irene.s1_params._asdict())\n",
    "        S2 = find_S12_py_fix(CSUMs[ev], s2_indx, **irene.s2_params._asdict())    \n",
    "        S1 = irene.correct_S1_ene(S1, csum)\n",
    "        Si = irene.find_S2Si(S2, sipmzs)\n",
    "        \n",
    "        S1sc  [ev] = pio.S12(S1)\n",
    "        S2sc  [ev] = pio.S12(S2)\n",
    "        S2Sisc[ev] = pio.S2Si(Si)\n",
    "    \n"
   ]
  },
  {
   "cell_type": "markdown",
   "metadata": {},
   "source": [
    "### 1)  Make sure I haven't messed up the S1s"
   ]
  },
  {
   "cell_type": "code",
   "execution_count": 7,
   "metadata": {
    "collapsed": false
   },
   "outputs": [
    {
     "data": {
      "image/png": "[encoded data removed]",
      "text/plain": [
       "<matplotlib.figure.Figure at 0x10f687d68>"
      ]
     },
     "metadata": {},
     "output_type": "display_data"
    },
    {
     "name": "stdout",
     "output_type": "stream",
     "text": [
      "==========================================================================================\n"
     ]
    },
    {
     "data": {
      "image/png": "[encoded data removed]",
      "text/plain": [
       "<matplotlib.figure.Figure at 0x114470908>"
      ]
     },
     "metadata": {},
     "output_type": "display_data"
    },
    {
     "name": "stdout",
     "output_type": "stream",
     "text": [
      "==========================================================================================\n"
     ]
    }
   ],
   "source": [
    "def plot_wvfm_vs_S1(irene, f_rwf, S1p, subplot=-1):\n",
    "    with tb.open_file(infile, 'r+') as f:\n",
    "        if subplot != -1:\n",
    "            plt.subplot(subplot)\n",
    "        plt.scatter(np.arange(48000) * 25, \n",
    "                 irene.calibrated_pmt_sum(irene.deconv_pmt(f.root.RD.pmtrwf[ev]))[0], \n",
    "                 label='wf', s=300, alpha=.3)\n",
    "        plt.scatter(S1p[0] , S1p[1], label='S1',alpha=.5)\n",
    "        plt.xlim(S1p[0][0] - 50*units.ns, S1p[0][-1] + 50*units.ns)\n",
    "        plt.ylim(0,S1p[1].max() + 1)\n",
    "        plt.legend()\n",
    "        plt.grid(True)\n",
    "        plt.ylabel('pes')\n",
    "        plt.xlabel('time (ns)')\n",
    "\n",
    "# Compare new S1s to old S1s, make sure they are the same but not threshold suppressed.\n",
    "S1s, S2s, S2Sis = load_pmaps('irene_co_output.h5')\n",
    "\n",
    "for ev in S1s:\n",
    "    for p in S1s[ev]:\n",
    "        \n",
    "        # S1sc could be shorter due to threshold suppression\n",
    "        if len(S1s[ev][p][0]) == len(S1sc[ev][p][0]):\n",
    "            assert np.allclose(S1s[ev][p][0],S1sc[ev][p][0])\n",
    "            assert np.allclose(S1s[ev][p][1],S1sc[ev][p][1])\n",
    "            \n",
    "        # Need to check by hand that this is because old S1s \n",
    "        # discarded a below threshold index of waveform\n",
    "        elif len(S1s[ev][p][0]) < len(S1sc[ev][p][0]):\n",
    "            plt.figure(figsize=(12,5))\n",
    "            plot_wvfm_vs_S1(irene, infile, S1s[ev][p] , subplot=121)\n",
    "            plt.title('S1 from event ' + str(ev) + ', peak ' + str(p) + ' before fix')    \n",
    "            plot_wvfm_vs_S1(irene, infile, S1sc[ev][p], subplot=122)\n",
    "            plt.title('S1 from event ' + str(ev) + ', peak ' + str(p) + ' after fix')\n",
    "            plt.show()\n",
    "            print('==========================================================================================')\n",
    "        else: \n",
    "            raise ValueError"
   ]
  },
  {
   "cell_type": "markdown",
   "metadata": {},
   "source": [
    "#### So the S1s are the same except that the new S1s do not threshold suppress any values in any events! **Note this would not have been fixed by the quick fix, modifying only `rebin_waveform`. "
   ]
  },
  {
   "cell_type": "markdown",
   "metadata": {},
   "source": [
    "#### Tests for S2s"
   ]
  },
  {
   "cell_type": "code",
   "execution_count": 8,
   "metadata": {
    "collapsed": true
   },
   "outputs": [],
   "source": [
    "# THESE SHOULD COVER BUG 1\n",
    "def test_max_S2_timebin_size(S2s, max_timebin_size=units.mus):\n",
    "    for S2s_ev in S2s.values(): # event loop\n",
    "        for S2_p in S2s_ev.values(): # peak loop \n",
    "            assert (np.array([S2_p[0][i] - S2_p[0][i-1] \\\n",
    "                     for i in range(1, len(S2_p[0]))])  \\\n",
    "                     <= max_timebin_size).all()\n",
    "\n",
    "def test_all_middle_timebins_of_same_size(S2s, timebin_size=units.mus):\n",
    "    \"\"\"\n",
    "    All the S2 timebins except the first and last should have the same\n",
    "    size. Normally 1 microsecond.\n",
    "    \"\"\"\n",
    "    for S2s_ev in S2s.values(): # event loop\n",
    "        for S2_p in S2s_ev.values(): # peak loop \n",
    "            assert (np.array([S2_p[0][i] - S2_p[0][i-1]  \\\n",
    "                     for i in range(2, len(S2_p[0]) -1)])\\\n",
    "                     == timebin_size).all()"
   ]
  },
  {
   "cell_type": "code",
   "execution_count": 9,
   "metadata": {
    "collapsed": false
   },
   "outputs": [
    {
     "ename": "AssertionError",
     "evalue": "",
     "output_type": "error",
     "traceback": [
      "\u001b[0;31m---------------------------------------------------------------------------\u001b[0m",
      "\u001b[0;31mAssertionError\u001b[0m                            Traceback (most recent call last)",
      "\u001b[0;32m<ipython-input-9-9d5fbe21c430>\u001b[0m in \u001b[0;36m<module>\u001b[0;34m()\u001b[0m\n\u001b[1;32m      1\u001b[0m \u001b[0;31m# BEFORE\u001b[0m\u001b[0;34m\u001b[0m\u001b[0;34m\u001b[0m\u001b[0m\n\u001b[0;32m----> 2\u001b[0;31m \u001b[0mtest_max_S2_timebin_size\u001b[0m\u001b[0;34m(\u001b[0m\u001b[0mS2s\u001b[0m\u001b[0;34m)\u001b[0m\u001b[0;34m\u001b[0m\u001b[0m\n\u001b[0m",
      "\u001b[0;32m<ipython-input-8-d41aa2207e22>\u001b[0m in \u001b[0;36mtest_max_S2_timebin_size\u001b[0;34m(S2s, max_timebin_size)\u001b[0m\n\u001b[1;32m      3\u001b[0m     \u001b[0;32mfor\u001b[0m \u001b[0mS2s_ev\u001b[0m \u001b[0;32min\u001b[0m \u001b[0mS2s\u001b[0m\u001b[0;34m.\u001b[0m\u001b[0mvalues\u001b[0m\u001b[0;34m(\u001b[0m\u001b[0;34m)\u001b[0m\u001b[0;34m:\u001b[0m \u001b[0;31m# event loop\u001b[0m\u001b[0;34m\u001b[0m\u001b[0m\n\u001b[1;32m      4\u001b[0m         \u001b[0;32mfor\u001b[0m \u001b[0mS2_p\u001b[0m \u001b[0;32min\u001b[0m \u001b[0mS2s_ev\u001b[0m\u001b[0;34m.\u001b[0m\u001b[0mvalues\u001b[0m\u001b[0;34m(\u001b[0m\u001b[0;34m)\u001b[0m\u001b[0;34m:\u001b[0m \u001b[0;31m# peak loop\u001b[0m\u001b[0;34m\u001b[0m\u001b[0m\n\u001b[0;32m----> 5\u001b[0;31m             \u001b[0;32massert\u001b[0m \u001b[0;34m(\u001b[0m\u001b[0mnp\u001b[0m\u001b[0;34m.\u001b[0m\u001b[0marray\u001b[0m\u001b[0;34m(\u001b[0m\u001b[0;34m[\u001b[0m\u001b[0mS2_p\u001b[0m\u001b[0;34m[\u001b[0m\u001b[0;36m0\u001b[0m\u001b[0;34m]\u001b[0m\u001b[0;34m[\u001b[0m\u001b[0mi\u001b[0m\u001b[0;34m]\u001b[0m \u001b[0;34m-\u001b[0m \u001b[0mS2_p\u001b[0m\u001b[0;34m[\u001b[0m\u001b[0;36m0\u001b[0m\u001b[0;34m]\u001b[0m\u001b[0;34m[\u001b[0m\u001b[0mi\u001b[0m\u001b[0;34m-\u001b[0m\u001b[0;36m1\u001b[0m\u001b[0;34m]\u001b[0m                      \u001b[0;32mfor\u001b[0m \u001b[0mi\u001b[0m \u001b[0;32min\u001b[0m \u001b[0mrange\u001b[0m\u001b[0;34m(\u001b[0m\u001b[0;36m1\u001b[0m\u001b[0;34m,\u001b[0m \u001b[0mlen\u001b[0m\u001b[0;34m(\u001b[0m\u001b[0mS2_p\u001b[0m\u001b[0;34m[\u001b[0m\u001b[0;36m0\u001b[0m\u001b[0;34m]\u001b[0m\u001b[0;34m)\u001b[0m\u001b[0;34m)\u001b[0m\u001b[0;34m]\u001b[0m\u001b[0;34m)\u001b[0m                       \u001b[0;34m<=\u001b[0m \u001b[0mmax_timebin_size\u001b[0m\u001b[0;34m)\u001b[0m\u001b[0;34m.\u001b[0m\u001b[0mall\u001b[0m\u001b[0;34m(\u001b[0m\u001b[0;34m)\u001b[0m\u001b[0;34m\u001b[0m\u001b[0m\n\u001b[0m\u001b[1;32m      6\u001b[0m \u001b[0;34m\u001b[0m\u001b[0m\n\u001b[1;32m      7\u001b[0m \u001b[0;32mdef\u001b[0m \u001b[0mtest_all_middle_timebins_of_same_size\u001b[0m\u001b[0;34m(\u001b[0m\u001b[0mS2s\u001b[0m\u001b[0;34m,\u001b[0m \u001b[0mtimebin_size\u001b[0m\u001b[0;34m=\u001b[0m\u001b[0munits\u001b[0m\u001b[0;34m.\u001b[0m\u001b[0mmus\u001b[0m\u001b[0;34m)\u001b[0m\u001b[0;34m:\u001b[0m\u001b[0;34m\u001b[0m\u001b[0m\n",
      "\u001b[0;31mAssertionError\u001b[0m: "
     ]
    }
   ],
   "source": [
    "# BEFORE\n",
    "test_max_S2_timebin_size(S2s)"
   ]
  },
  {
   "cell_type": "code",
   "execution_count": 10,
   "metadata": {
    "collapsed": true
   },
   "outputs": [],
   "source": [
    "# AFTER\n",
    "test_max_S2_timebin_size(S2sc)"
   ]
  },
  {
   "cell_type": "code",
   "execution_count": 11,
   "metadata": {
    "collapsed": false
   },
   "outputs": [
    {
     "ename": "AssertionError",
     "evalue": "",
     "output_type": "error",
     "traceback": [
      "\u001b[0;31m---------------------------------------------------------------------------\u001b[0m",
      "\u001b[0;31mAssertionError\u001b[0m                            Traceback (most recent call last)",
      "\u001b[0;32m<ipython-input-11-24526d9a02ae>\u001b[0m in \u001b[0;36m<module>\u001b[0;34m()\u001b[0m\n\u001b[1;32m      1\u001b[0m \u001b[0;31m# BEFORE\u001b[0m\u001b[0;34m\u001b[0m\u001b[0;34m\u001b[0m\u001b[0m\n\u001b[0;32m----> 2\u001b[0;31m \u001b[0mtest_all_middle_timebins_of_same_size\u001b[0m\u001b[0;34m(\u001b[0m\u001b[0mS2s\u001b[0m\u001b[0;34m)\u001b[0m\u001b[0;34m\u001b[0m\u001b[0m\n\u001b[0m",
      "\u001b[0;32m<ipython-input-8-d41aa2207e22>\u001b[0m in \u001b[0;36mtest_all_middle_timebins_of_same_size\u001b[0;34m(S2s, timebin_size)\u001b[0m\n\u001b[1;32m     12\u001b[0m     \u001b[0;32mfor\u001b[0m \u001b[0mS2s_ev\u001b[0m \u001b[0;32min\u001b[0m \u001b[0mS2s\u001b[0m\u001b[0;34m.\u001b[0m\u001b[0mvalues\u001b[0m\u001b[0;34m(\u001b[0m\u001b[0;34m)\u001b[0m\u001b[0;34m:\u001b[0m \u001b[0;31m# event loop\u001b[0m\u001b[0;34m\u001b[0m\u001b[0m\n\u001b[1;32m     13\u001b[0m         \u001b[0;32mfor\u001b[0m \u001b[0mS2_p\u001b[0m \u001b[0;32min\u001b[0m \u001b[0mS2s_ev\u001b[0m\u001b[0;34m.\u001b[0m\u001b[0mvalues\u001b[0m\u001b[0;34m(\u001b[0m\u001b[0;34m)\u001b[0m\u001b[0;34m:\u001b[0m \u001b[0;31m# peak loop\u001b[0m\u001b[0;34m\u001b[0m\u001b[0m\n\u001b[0;32m---> 14\u001b[0;31m             \u001b[0;32massert\u001b[0m \u001b[0;34m(\u001b[0m\u001b[0mnp\u001b[0m\u001b[0;34m.\u001b[0m\u001b[0marray\u001b[0m\u001b[0;34m(\u001b[0m\u001b[0;34m[\u001b[0m\u001b[0mS2_p\u001b[0m\u001b[0;34m[\u001b[0m\u001b[0;36m0\u001b[0m\u001b[0;34m]\u001b[0m\u001b[0;34m[\u001b[0m\u001b[0mi\u001b[0m\u001b[0;34m]\u001b[0m \u001b[0;34m-\u001b[0m \u001b[0mS2_p\u001b[0m\u001b[0;34m[\u001b[0m\u001b[0;36m0\u001b[0m\u001b[0;34m]\u001b[0m\u001b[0;34m[\u001b[0m\u001b[0mi\u001b[0m\u001b[0;34m-\u001b[0m\u001b[0;36m1\u001b[0m\u001b[0;34m]\u001b[0m                       \u001b[0;32mfor\u001b[0m \u001b[0mi\u001b[0m \u001b[0;32min\u001b[0m \u001b[0mrange\u001b[0m\u001b[0;34m(\u001b[0m\u001b[0;36m2\u001b[0m\u001b[0;34m,\u001b[0m \u001b[0mlen\u001b[0m\u001b[0;34m(\u001b[0m\u001b[0mS2_p\u001b[0m\u001b[0;34m[\u001b[0m\u001b[0;36m0\u001b[0m\u001b[0;34m]\u001b[0m\u001b[0;34m)\u001b[0m \u001b[0;34m-\u001b[0m\u001b[0;36m1\u001b[0m\u001b[0;34m)\u001b[0m\u001b[0;34m]\u001b[0m\u001b[0;34m)\u001b[0m                     \u001b[0;34m==\u001b[0m \u001b[0mtimebin_size\u001b[0m\u001b[0;34m)\u001b[0m\u001b[0;34m.\u001b[0m\u001b[0mall\u001b[0m\u001b[0;34m(\u001b[0m\u001b[0;34m)\u001b[0m\u001b[0;34m\u001b[0m\u001b[0m\n\u001b[0m",
      "\u001b[0;31mAssertionError\u001b[0m: "
     ]
    }
   ],
   "source": [
    "# BEFORE\n",
    "test_all_middle_timebins_of_same_size(S2s)"
   ]
  },
  {
   "cell_type": "code",
   "execution_count": 12,
   "metadata": {
    "collapsed": false
   },
   "outputs": [],
   "source": [
    "# AFTER \n",
    "test_all_middle_timebins_of_same_size(S2sc)"
   ]
  },
  {
   "cell_type": "code",
   "execution_count": 13,
   "metadata": {
    "collapsed": false
   },
   "outputs": [],
   "source": [
    "def test_equal_number_of_timebins_in_S2s_and_S2Sis(S2s, S2Sis):  \n",
    "    for S2, Si in zip(S2s.values(), S2Sis.values()):\n",
    "        for p in S2:  \n",
    "            if p in Si:\n",
    "                if len(Si[p]) > 0: # Not necessary once Irene run completely with fix\n",
    "                    assert len(Si[p][next(iter(Si[p]))]) == len(S2[p][0])\n",
    "                \n",
    "# SHOULD NOT FAIL FOR EITHER\n",
    "test_equal_number_of_timebins_in_S2s_and_S2Sis(S2s , S2Sis)\n",
    "test_equal_number_of_timebins_in_S2s_and_S2Sis(S2sc, S2Sisc)"
   ]
  },
  {
   "cell_type": "code",
   "execution_count": 14,
   "metadata": {
    "collapsed": false
   },
   "outputs": [],
   "source": [
    "def test_aligned_S2_and_SiS2_timebins(S2s):\n",
    "    # TEST ONLY WORKS IN THIS CASE:\n",
    "    timebin_size = units.mus \n",
    "    for S2 in S2s.values():\n",
    "            for S2_p in S2.values():\n",
    "                for tb in range(1, len(S2_p[0]) - 1):\n",
    "                    assert S2_p[0][tb] % timebin_size == 500"
   ]
  },
  {
   "cell_type": "code",
   "execution_count": 15,
   "metadata": {
    "collapsed": false
   },
   "outputs": [
    {
     "ename": "AssertionError",
     "evalue": "",
     "output_type": "error",
     "traceback": [
      "\u001b[0;31m---------------------------------------------------------------------------\u001b[0m",
      "\u001b[0;31mAssertionError\u001b[0m                            Traceback (most recent call last)",
      "\u001b[0;32m<ipython-input-15-fc23c5de0b8d>\u001b[0m in \u001b[0;36m<module>\u001b[0;34m()\u001b[0m\n\u001b[1;32m      1\u001b[0m \u001b[0;31m# BEFORE\u001b[0m\u001b[0;34m\u001b[0m\u001b[0;34m\u001b[0m\u001b[0m\n\u001b[0;32m----> 2\u001b[0;31m \u001b[0mtest_aligned_S2_and_SiS2_timebins\u001b[0m\u001b[0;34m(\u001b[0m\u001b[0mS2s\u001b[0m\u001b[0;34m)\u001b[0m\u001b[0;34m\u001b[0m\u001b[0m\n\u001b[0m",
      "\u001b[0;32m<ipython-input-14-8416768382e2>\u001b[0m in \u001b[0;36mtest_aligned_S2_and_SiS2_timebins\u001b[0;34m(S2s)\u001b[0m\n\u001b[1;32m      5\u001b[0m             \u001b[0;32mfor\u001b[0m \u001b[0mS2_p\u001b[0m \u001b[0;32min\u001b[0m \u001b[0mS2\u001b[0m\u001b[0;34m.\u001b[0m\u001b[0mvalues\u001b[0m\u001b[0;34m(\u001b[0m\u001b[0;34m)\u001b[0m\u001b[0;34m:\u001b[0m\u001b[0;34m\u001b[0m\u001b[0m\n\u001b[1;32m      6\u001b[0m                 \u001b[0;32mfor\u001b[0m \u001b[0mtb\u001b[0m \u001b[0;32min\u001b[0m \u001b[0mrange\u001b[0m\u001b[0;34m(\u001b[0m\u001b[0;36m1\u001b[0m\u001b[0;34m,\u001b[0m \u001b[0mlen\u001b[0m\u001b[0;34m(\u001b[0m\u001b[0mS2_p\u001b[0m\u001b[0;34m[\u001b[0m\u001b[0;36m0\u001b[0m\u001b[0;34m]\u001b[0m\u001b[0;34m)\u001b[0m \u001b[0;34m-\u001b[0m \u001b[0;36m1\u001b[0m\u001b[0;34m)\u001b[0m\u001b[0;34m:\u001b[0m\u001b[0;34m\u001b[0m\u001b[0m\n\u001b[0;32m----> 7\u001b[0;31m                     \u001b[0;32massert\u001b[0m \u001b[0mS2_p\u001b[0m\u001b[0;34m[\u001b[0m\u001b[0;36m0\u001b[0m\u001b[0;34m]\u001b[0m\u001b[0;34m[\u001b[0m\u001b[0mtb\u001b[0m\u001b[0;34m]\u001b[0m \u001b[0;34m%\u001b[0m \u001b[0mtimebin_size\u001b[0m \u001b[0;34m==\u001b[0m \u001b[0;36m500\u001b[0m\u001b[0;34m\u001b[0m\u001b[0m\n\u001b[0m",
      "\u001b[0;31mAssertionError\u001b[0m: "
     ]
    }
   ],
   "source": [
    "# BEFORE\n",
    "test_aligned_S2_and_SiS2_timebins(S2s)"
   ]
  },
  {
   "cell_type": "code",
   "execution_count": 16,
   "metadata": {
    "collapsed": false
   },
   "outputs": [],
   "source": [
    "# AFTER\n",
    "test_aligned_S2_and_SiS2_timebins(S2sc)"
   ]
  },
  {
   "cell_type": "code",
   "execution_count": 18,
   "metadata": {
    "collapsed": false
   },
   "outputs": [],
   "source": [
    "\n",
    "### GENERAL\n",
    "def test_rebin_waveform():\n",
    "    wf     = np.ones (int(3*units.mus / (25*units.ns)))\n",
    "    times  = np.arange(0, 3*units.mus,   25*units.ns)\n",
    "    stride = 40\n",
    "                                         \n",
    "    for s in times:\n",
    "        for f in times[times > s]:\n",
    "            [T, E] = rebin_waveform_fix(s, f, \n",
    "                                      wf[int(s/25): int(f/25)], \n",
    "                                      stride=stride)\n",
    "            \n",
    "            for i, (t, e) in enumerate(zip(T, E)):\n",
    "                if i==0:   \n",
    "                    assert np.isclose(t, \n",
    "                            min(np.mean((s, (s // (stride*25*units.ns) + 1)*stride*25*units.ns)), np.mean((f, s))))\n",
    "                    assert e == min(((s // (stride*25*units.ns) + 1)*stride*25*units.ns - s) / 25*units.ns, \n",
    "                                    (f - s) / (25*units.ns))\n",
    "                elif i < len(T) - 1:\n",
    "                    assert np.isclose(t, np.ceil(T[i-1]/(stride*25*units.ns))*stride*25*units.ns + stride * 25*units.ns / 2)\n",
    "                    assert e == stride\n",
    "                else:\n",
    "                    assert i == len(T) - 1\n",
    "                    assert np.isclose(t, np.mean((np.ceil(T[i-1] / (stride*25*units.ns))*stride*25*units.ns, f)))\n",
    "                    assert e == (f - np.ceil(T[i-1] / (stride*25*units.ns)) * stride*25*units.ns) / (25*units.ns)\n",
    "                    \n",
    "#%timeit test_rebin_waveform() \n",
    "test_rebin_waveform()"
   ]
  },
  {
   "cell_type": "code",
   "execution_count": null,
   "metadata": {
    "collapsed": true
   },
   "outputs": [],
   "source": []
  },
  {
   "cell_type": "code",
   "execution_count": null,
   "metadata": {
    "collapsed": true
   },
   "outputs": [],
   "source": []
  }
 ],
 "metadata": {
  "kernelspec": {
   "display_name": "Python 3",
   "language": "python",
   "name": "python3"
  },
  "language_info": {
   "codemirror_mode": {
    "name": "ipython",
    "version": 3
   },
   "file_extension": ".py",
   "mimetype": "text/x-python",
   "name": "python",
   "nbconvert_exporter": "python",
   "pygments_lexer": "ipython3",
   "version": "3.6.0"
  }
 },
 "nbformat": 4,
 "nbformat_minor": 2
}
