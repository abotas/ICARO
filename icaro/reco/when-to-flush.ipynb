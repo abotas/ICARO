{
 "cells": [
  {
   "cell_type": "code",
   "execution_count": 1,
   "metadata": {
    "collapsed": true
   },
   "outputs": [],
   "source": [
    "import numpy as np\n",
    "import tables as tb\n",
    "file_path = 'test_tables.h5'"
   ]
  },
  {
   "cell_type": "markdown",
   "metadata": {},
   "source": [
    "# When to flush\n",
    "\n",
    "Our data consist of many events. For each event, we have 5 different signals we want to append to 5 different pytables. The number of rows we append to each pytable varies from signal to signal and event to event.     \n",
    "\n",
    "\n",
    "This is a simplified representation of how we have implemented our tablel writers and an experimental investigation into when to flush the table."
   ]
  },
  {
   "cell_type": "markdown",
   "metadata": {},
   "source": [
    "#### Helper functions"
   ]
  },
  {
   "cell_type": "code",
   "execution_count": 2,
   "metadata": {
    "collapsed": false
   },
   "outputs": [],
   "source": [
    "class Signal(tb.IsDescription):\n",
    "    event    = tb.  Int32Col()\n",
    "    time     = tb.Float32Col()\n",
    "    energy   = tb.Float32Col()\n",
    "\n",
    "filt = tb.Filters()\n",
    "    \n",
    "def toy_signal():\n",
    "    \"\"\"\n",
    "    makes a toy signal (time, energy),\n",
    "    where time and energy are 1d np.ndarrays\n",
    "    \"\"\"\n",
    "    signal_length = np.random.randint(1, high=30)\n",
    "    t = np.arange(signal_length, dtype=np.float32)\n",
    "    e = np.random.random(signal_length)\n",
    "    return t, e\n",
    "\n",
    "def write_signal_for_one_event(table, event, signal, flush_0=False):\n",
    "    for t, e in zip(*signal):\n",
    "        table.row[\"event\"]  = event\n",
    "        table.row[\"time\"]   = t\n",
    "        table.row[\"energy\"] = e\n",
    "        table.row.append()\n",
    "        \n",
    "    if flush_0: table.flush() # Should we flush here? \n",
    "                              # Sometimes? Always?\n",
    "                              # Pytables documentation seems to recommend \n",
    "                              # always flushing here.\n",
    "                              # But we have not run into problems \n",
    "                              # without this flush, and flushing,\n",
    "                              # at least with our implementation, \n",
    "                              # slows things down a lot."
   ]
  },
  {
   "cell_type": "markdown",
   "metadata": {},
   "source": [
    "#### Main"
   ]
  },
  {
   "cell_type": "code",
   "execution_count": 4,
   "metadata": {
    "collapsed": false
   },
   "outputs": [],
   "source": [
    "def write_some_pytables(file_path, \n",
    "                        num_tables =  5,   # Number of tables to write\n",
    "                        num_events =100,   # Number of events\n",
    "                        flush_0 = False,   # Flush each table for each event \n",
    "                        flush_1 = False):  # Flush file before closing the file\n",
    "    \n",
    "    with tb.open_file(file_path, 'w') as f:\n",
    "        g1 = f.create_group(f.root, 'g1')  # Make group\n",
    "        tables = []\n",
    "        for i in range(num_tables):     # Make num_tables tables in group\n",
    "            path = 't{}'     .format(i)\n",
    "            name = 'Table {}'.format(i)\n",
    "            tables.append(f.create_table(g1, path, Signal, name, filt))\n",
    "            tables[-1].cols.event.create_index()\n",
    "\n",
    "        for event in range(num_events): # We want to extend the each table by\n",
    "            for table in tables:        # by a different number of rows, for each event.\n",
    "                write_signal_for_one_event(table, \n",
    "                                           event, \n",
    "                                           toy_signal(), \n",
    "                                           flush_0=flush_0)\n",
    "        if flush_1: f.flush() \n",
    "        # Should we flush the entire file here? When we don't do this\n",
    "        # we frequently end up with blank pytables.\n",
    "        \n",
    "        # But it's strange flushing here does anything, since the file closes \n",
    "        # immediately after this line is executed and pytables documentation\n",
    "        #  says a file is flushed automatically as it closes....     "
   ]
  },
  {
   "cell_type": "markdown",
   "metadata": {},
   "source": [
    "## Experimental Flushing\n",
    "For up to 4 tables we have no problems, even with 100k events in each table"
   ]
  },
  {
   "cell_type": "code",
   "execution_count": 5,
   "metadata": {
    "collapsed": false
   },
   "outputs": [
    {
     "name": "stdout",
     "output_type": "stream",
     "text": [
      "CPU times: user 178 ms, sys: 16 ms, total: 194 ms\n",
      "Wall time: 195 ms\n",
      "fraction of events succesfully written: 1.0\n",
      "fraction of events succesfully written: 1.0\n",
      "fraction of events succesfully written: 1.0\n",
      "fraction of events succesfully written: 1.0\n"
     ]
    }
   ],
   "source": [
    "num_events=1000\n",
    "%time write_some_pytables(file_path, num_tables=4, num_events=num_events, flush_0=False, flush_1=False)\n",
    "\n",
    "with tb.open_file(file_path, 'r') as f: \n",
    "    for table in f.root.g1:\n",
    "        print('fraction of events succesfully written:', \n",
    "              len(set(table[:]['event'])) / num_events)"
   ]
  },
  {
   "cell_type": "markdown",
   "metadata": {},
   "source": [
    "and we if flush after every event, it's about 35 times slower, so we don't want to do that."
   ]
  },
  {
   "cell_type": "code",
   "execution_count": 6,
   "metadata": {
    "collapsed": false
   },
   "outputs": [
    {
     "name": "stdout",
     "output_type": "stream",
     "text": [
      "CPU times: user 7.41 s, sys: 398 ms, total: 7.81 s\n",
      "Wall time: 7.91 s\n",
      "fraction of events succesfully written: 1.0\n",
      "fraction of events succesfully written: 1.0\n",
      "fraction of events succesfully written: 1.0\n",
      "fraction of events succesfully written: 1.0\n"
     ]
    }
   ],
   "source": [
    "num_events=1000\n",
    "%time write_some_pytables(file_path, num_tables=4, num_events=num_events, flush_0=True, flush_1=False)\n",
    "\n",
    "with tb.open_file(file_path, 'r') as f: \n",
    "    for table in f.root.g1:\n",
    "        print('fraction of events succesfully written:', \n",
    "              len(set(table[:]['event'])) / num_events)"
   ]
  },
  {
   "cell_type": "markdown",
   "metadata": {},
   "source": [
    "But, if we increase the number of tables to 5, even with only 1 event, one of the pytables is not written.    \n",
    "(After some experimenting i think it is always the table that had this line run first: `tables[-1].cols.event.create_index()`"
   ]
  },
  {
   "cell_type": "code",
   "execution_count": 9,
   "metadata": {
    "collapsed": false
   },
   "outputs": [
    {
     "name": "stdout",
     "output_type": "stream",
     "text": [
      "CPU times: user 49.3 ms, sys: 13.4 ms, total: 62.7 ms\n",
      "Wall time: 77.8 ms\n",
      "fraction of events succesfully written: 0.0\n",
      "fraction of events succesfully written: 1.0\n",
      "fraction of events succesfully written: 1.0\n",
      "fraction of events succesfully written: 1.0\n",
      "fraction of events succesfully written: 1.0\n"
     ]
    },
    {
     "name": "stderr",
     "output_type": "stream",
     "text": [
      "Exception ignored in: <object repr() failed>\n",
      "Traceback (most recent call last):\n",
      "  File \"/Users/alej/miniconda/envs/IC3.6/lib/python3.6/site-packages/tables/node.py\", line 321, in __del__\n",
      "    self._f_close()\n",
      "  File \"/Users/alej/miniconda/envs/IC3.6/lib/python3.6/site-packages/tables/table.py\", line 2957, in _f_close\n",
      "    self.flush()\n",
      "  File \"/Users/alej/miniconda/envs/IC3.6/lib/python3.6/site-packages/tables/table.py\", line 2891, in flush\n",
      "    self.row._flush_buffered_rows()\n",
      "  File \"tables/tableextension.pyx\", line 1333, in tables.tableextension.Row._flush_buffered_rows (tables/tableextension.c:16357)\n",
      "  File \"tables/tableextension.pyx\", line 749, in tables.tableextension.Row.table.__get__ (tables/tableextension.c:9587)\n",
      "  File \"/Users/alej/miniconda/envs/IC3.6/lib/python3.6/site-packages/tables/file.py\", line 2101, in _check_open\n",
      "    raise ClosedFileError(\"the file object is closed\")\n",
      "tables.exceptions.ClosedFileError: the file object is closed\n"
     ]
    }
   ],
   "source": [
    "num_events=1\n",
    "%time write_some_pytables(file_path, num_tables=5, num_events=num_events, flush_0=False, flush_1=False)\n",
    "\n",
    "with tb.open_file(file_path, 'r') as f: \n",
    "    for table in f.root.g1:\n",
    "        print('fraction of events succesfully written:', \n",
    "              len(set(table[:]['event'])) / num_events)"
   ]
  },
  {
   "cell_type": "markdown",
   "metadata": {},
   "source": [
    "We can solve this problem by putting a flush just before the write file is closed (even for many tables and many events)"
   ]
  },
  {
   "cell_type": "code",
   "execution_count": 7,
   "metadata": {
    "collapsed": false
   },
   "outputs": [
    {
     "name": "stdout",
     "output_type": "stream",
     "text": [
      "CPU times: user 34.5 s, sys: 529 ms, total: 35 s\n",
      "Wall time: 35.6 s\n"
     ]
    }
   ],
   "source": [
    "num_events=100000\n",
    "%time write_some_pytables(file_path, num_tables=10, num_events=num_events, flush_0=False, flush_1=True)\n",
    "with tb.open_file(file_path, 'r') as f: \n",
    "    for table in f.root.g1:\n",
    "        assert len(set(table[:]['event'])) ==  num_events\n"
   ]
  },
  {
   "cell_type": "markdown",
   "metadata": {},
   "source": [
    "And flushing at the end just before closing the write file does not slow things down significantly "
   ]
  },
  {
   "cell_type": "code",
   "execution_count": 8,
   "metadata": {
    "collapsed": false
   },
   "outputs": [
    {
     "name": "stdout",
     "output_type": "stream",
     "text": [
      "Flush at end\n",
      "CPU times: user 13.7 s, sys: 281 ms, total: 13.9 s\n",
      "Wall time: 14.1 s\n",
      "--------\n",
      "No flush\n",
      "CPU times: user 13.5 s, sys: 200 ms, total: 13.7 s\n",
      "Wall time: 13.8 s\n"
     ]
    }
   ],
   "source": [
    "num_events=100000\n",
    "num_tables=4\n",
    "print('Flush at end')\n",
    "%time write_some_pytables(file_path, num_tables=num_tables, num_events=num_events, flush_0=False, flush_1=True)\n",
    "with tb.open_file(file_path, 'r') as f: \n",
    "    for table in f.root.g1:\n",
    "        assert len(set(table[:]['event'])) ==  num_events\n",
    "print('--------')     \n",
    "print('No flush')\n",
    "%time write_some_pytables(file_path, num_tables=num_tables, num_events=num_events, flush_0=False, flush_1=False)\n",
    "with tb.open_file(file_path, 'r') as f: \n",
    "    for table in f.root.g1:\n",
    "        assert len(set(table[:]['event'])) ==  num_events"
   ]
  },
  {
   "cell_type": "code",
   "execution_count": null,
   "metadata": {
    "collapsed": true
   },
   "outputs": [],
   "source": []
  }
 ],
 "metadata": {
  "kernelspec": {
   "display_name": "Python 2",
   "language": "python",
   "name": "python2"
  },
  "language_info": {
   "codemirror_mode": {
    "name": "ipython",
    "version": 2
   },
   "file_extension": ".py",
   "mimetype": "text/x-python",
   "name": "python",
   "nbconvert_exporter": "python",
   "pygments_lexer": "ipython2",
   "version": "2.7.12"
  }
 },
 "nbformat": 4,
 "nbformat_minor": 2
}
