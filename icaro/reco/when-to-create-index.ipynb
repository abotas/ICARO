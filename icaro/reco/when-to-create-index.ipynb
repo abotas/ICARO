{
 "cells": [
  {
   "cell_type": "code",
   "execution_count": 1,
   "metadata": {
    "collapsed": true
   },
   "outputs": [],
   "source": [
    "import numpy as np\n",
    "import tables as tb\n",
    "write_path = 'test_tables.h5'"
   ]
  },
  {
   "cell_type": "markdown",
   "metadata": {},
   "source": [
    "# When to create index"
   ]
  },
  {
   "cell_type": "markdown",
   "metadata": {},
   "source": [
    "#### Helper functions"
   ]
  },
  {
   "cell_type": "code",
   "execution_count": 2,
   "metadata": {
    "collapsed": false
   },
   "outputs": [],
   "source": [
    "class Signal(tb.IsDescription):\n",
    "    event    = tb.  Int32Col()\n",
    "    time     = tb.Float32Col()\n",
    "    energy   = tb.Float32Col()\n",
    "    \n",
    "filt = tb.Filters()\n",
    "\n",
    "def create_n_pytables(num_tables, h5out, group, CI=False):\n",
    "    \"\"\"\n",
    "    create num_tables pytables in group. \n",
    "    tables are accessible via group.ti where i is in range num_tables\n",
    "    \"\"\"\n",
    "    tables = []\n",
    "    for i in range(num_tables):\n",
    "        path = 't{}'     .format(i)\n",
    "        name = 'Table  {}'.format(i)\n",
    "        tables.append(h5out.create_table(group, path, Signal, name, filt))\n",
    "        if CI: tables[-1].cols.event.create_index()\n",
    "    return tables\n",
    "    \n",
    "def toy_signal():\n",
    "    \"\"\"\n",
    "    makes a toy signal (time, energy),\n",
    "    where time and energy are 1d np.ndarrays of equal but\n",
    "    random length, between, minl and maxl\n",
    "    \"\"\"\n",
    "    minl = 10; maxl = 100\n",
    "    signal_length = np.random.randint(minl, high=maxl)\n",
    "    t = np.arange(signal_length, dtype=np.float32)\n",
    "    e = np.random.random(signal_length)\n",
    "    return t, e\n",
    "\n",
    "def write_signal_for_one_event(table, event, toy_signal, flush_0=False):\n",
    "    for t, e in zip(*toy_signal):\n",
    "        table.row[\"event\"]  = event\n",
    "        table.row[\"time\"]   = t\n",
    "        table.row[\"energy\"] = e\n",
    "        table.row.append()\n",
    "        \n",
    "    if flush_0: table.flush() # Should we flush here? \n",
    "                              # Sometimes? Always?\n",
    "                              # Pytables documentation seems to  \n",
    "                              # recommend flushing here.\n",
    "                              # But we have never run into problems \n",
    "                              # without this flush, and flushing,\n",
    "                              # at least with our implementation, \n",
    "                              # slows things down a lot."
   ]
  },
  {
   "cell_type": "markdown",
   "metadata": {},
   "source": [
    "#### Main"
   ]
  },
  {
   "cell_type": "code",
   "execution_count": 3,
   "metadata": {
    "collapsed": false
   },
   "outputs": [],
   "source": [
    "def write_some_pytables(write_path, \n",
    "                        num_tables =  5,   # Number of tables to write\n",
    "                        num_events =100,   # Number of events\n",
    "                        flush_0 = False,   # Flush each table for each event \n",
    "                        flush_1 = False,\n",
    "                        create_index=False):  # Flush file before closing the file\n",
    "    \n",
    "    with tb.open_file(write_path, 'w') as h5out:\n",
    "        g1 = h5out.create_group(h5out.root, 'g1')         # Make group\n",
    "        tables = create_n_pytables(num_tables, h5out, g1, CI=create_index) # Make num_tables in group\n",
    "\n",
    "        for event in range(num_events): # For each event,\n",
    "            for table in tables:        # Write a toy signal to its table.\n",
    "                write_signal_for_one_event(table, \n",
    "                                           event, \n",
    "                                           toy_signal(), \n",
    "                                           flush_0=flush_0)\n",
    "                \n",
    "        if flush_1: h5out.flush() \n",
    "        # Should we flush the entire file here? When we don't do this\n",
    "        # we frequently end up with blank pytables.\n",
    "        #\n",
    "        # It's strange flushing here changes anything, since the file closes \n",
    "        # immediately after this line is executed, and pytables documentation\n",
    "        # says a file is flushed automatically as it closes....     "
   ]
  },
  {
   "cell_type": "code",
   "execution_count": 4,
   "metadata": {
    "collapsed": false
   },
   "outputs": [
    {
     "name": "stdout",
     "output_type": "stream",
     "text": [
      "CREATE INDEX\n",
      "CPU times: user 55.6 s, sys: 833 ms, total: 56.5 s\n",
      "Wall time: 58.2 s\n",
      "fraction of events succesfully written: 1.0 in t0\n",
      "fraction of events succesfully written: 1.0 in t1\n",
      "fraction of events succesfully written: 1.0 in t2\n",
      "fraction of events succesfully written: 1.0 in t3\n",
      "fraction of events succesfully written: 1.0 in t4\n",
      "-----------\n",
      "DONT CREATE INDEX\n",
      "CPU times: user 49.3 s, sys: 388 ms, total: 49.7 s\n",
      "Wall time: 50.1 s\n",
      "fraction of events succesfully written: 1.0 in t0\n",
      "fraction of events succesfully written: 1.0 in t1\n",
      "fraction of events succesfully written: 1.0 in t2\n",
      "fraction of events succesfully written: 1.0 in t3\n",
      "fraction of events succesfully written: 1.0 in t4\n"
     ]
    }
   ],
   "source": [
    "num_events = 100000; num_tables = 5\n",
    "print('CREATE INDEX')\n",
    "%time write_some_pytables(write_path, num_tables=num_tables, num_events=num_events, flush_0=False, flush_1=True, create_index=True)\n",
    "with tb.open_file(write_path, 'r') as f: \n",
    "    for table in f.root.g1: # Ensure each pytable has num_events events\n",
    "        print('fraction of events succesfully written:', \n",
    "              len(set(table[:]['event'])) / num_events, 'in', table.name) # python 3 division\n",
    "print('-----------')       \n",
    "print('DONT CREATE INDEX')\n",
    "%time write_some_pytables(write_path, num_tables=num_tables, num_events=num_events, flush_0=False, flush_1=True, create_index=False)\n",
    "with tb.open_file(write_path, 'r') as f: \n",
    "    for table in f.root.g1: # Ensure each pytable has num_events events\n",
    "        print('fraction of events succesfully written:', \n",
    "              len(set(table[:]['event'])) / num_events, 'in', table.name) # python 3 division"
   ]
  },
  {
   "cell_type": "code",
   "execution_count": 5,
   "metadata": {
    "collapsed": false
   },
   "outputs": [
    {
     "name": "stdout",
     "output_type": "stream",
     "text": [
      "DONT CREATE INDEX, DONT NEED TO FLUSH\n",
      "CPU times: user 54 s, sys: 640 ms, total: 54.6 s\n",
      "Wall time: 56.8 s\n",
      "fraction of events succesfully written: 1.0 in t0\n",
      "fraction of events succesfully written: 1.0 in t1\n",
      "fraction of events succesfully written: 1.0 in t2\n",
      "fraction of events succesfully written: 1.0 in t3\n",
      "fraction of events succesfully written: 1.0 in t4\n"
     ]
    }
   ],
   "source": [
    "print('DONT CREATE INDEX, DONT NEED TO FLUSH')\n",
    "%time write_some_pytables(write_path, num_tables=num_tables, num_events=num_events, flush_0=False, flush_1=False, create_index=False)\n",
    "with tb.open_file(write_path, 'r') as f: \n",
    "    for table in f.root.g1: # Ensure each pytable has num_events events\n",
    "        print('fraction of events succesfully written:', \n",
    "              len(set(table[:]['event'])) / num_events, 'in', table.name) # python 3 division"
   ]
  },
  {
   "cell_type": "code",
   "execution_count": null,
   "metadata": {
    "collapsed": true
   },
   "outputs": [],
   "source": []
  }
 ],
 "metadata": {
  "kernelspec": {
   "display_name": "Python 3",
   "language": "python",
   "name": "python3"
  },
  "language_info": {
   "codemirror_mode": {
    "name": "ipython",
    "version": 3
   },
   "file_extension": ".py",
   "mimetype": "text/x-python",
   "name": "python",
   "nbconvert_exporter": "python",
   "pygments_lexer": "ipython3",
   "version": "3.6.0"
  }
 },
 "nbformat": 4,
 "nbformat_minor": 2
}
