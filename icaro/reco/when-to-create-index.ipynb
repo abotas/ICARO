{
 "cells": [
  {
   "cell_type": "code",
   "execution_count": 1,
   "metadata": {
    "collapsed": true
   },
   "outputs": [],
   "source": [
    "import numpy as np\n",
    "import tables as tb\n",
    "write_path = 'test_tables.h5'"
   ]
  },
  {
   "cell_type": "markdown",
   "metadata": {},
   "source": [
    "# create_index *after* populating tables"
   ]
  },
  {
   "cell_type": "markdown",
   "metadata": {},
   "source": [
    "#### Helper functions"
   ]
  },
  {
   "cell_type": "code",
   "execution_count": 2,
   "metadata": {
    "collapsed": false
   },
   "outputs": [],
   "source": [
    "def index_tables_at_designated_column(tables):\n",
    "    for table in tables:\n",
    "        for colname in table.attrs.columns_to_index:\n",
    "            table.colinstances[colname].create_index()\n",
    "\n",
    "def check_everything_written(write_path):\n",
    "    with tb.open_file(write_path, 'r') as f: \n",
    "        for table in f.root.g1: # Ensure each pytable has num_events events\n",
    "            if len(set(table[:]['event'])) / num_events != 1:\n",
    "                print('fraction of events: ', \n",
    "                      len(set(table[:]['event'])) / num_events, #python 3 division\n",
    "                      'in', \n",
    "                      table.name)\n",
    "\n",
    "class Signal(tb.IsDescription):\n",
    "    event    = tb.  Int32Col()\n",
    "    time     = tb.Float32Col()\n",
    "    energy   = tb.Float32Col()\n",
    "    \n",
    "filt = tb.Filters()\n",
    "\n",
    "def create_n_pytables(num_tables, h5out, group):\n",
    "    \"\"\"\n",
    "    create num_tables pytables in group. \n",
    "    tables are accessible via group.ti where i is in range num_tables\n",
    "    \"\"\"\n",
    "    tables = []\n",
    "    for i in range(num_tables):\n",
    "        path = 't{}'     .format(i)\n",
    "        name = 'Table  {}'.format(i)\n",
    "        tables.append(h5out.create_table(group, path, Signal, name, filt))\n",
    "        tables[i].set_attr('columns_to_index', ['event'])\n",
    "        \n",
    "    return tables\n",
    "    \n",
    "def toy_signal():\n",
    "    \"\"\"\n",
    "    makes a toy signal (time, energy),\n",
    "    where time and energy are 1d np.ndarrays of equal but\n",
    "    random length, between, minl and maxl\n",
    "    \"\"\"\n",
    "    minl = 10; maxl = 100\n",
    "    signal_length = np.random.randint(minl, high=maxl)\n",
    "    t = np.arange(signal_length, dtype=np.float32)\n",
    "    e = np.random.random(signal_length)\n",
    "    return t, e\n",
    "\n",
    "def write_signal_for_one_event(table, event, toy_signal, flush_0=False):\n",
    "    for t, e in zip(*toy_signal):\n",
    "        table.row[\"event\"]  = event\n",
    "        table.row[\"time\"]   = t\n",
    "        table.row[\"energy\"] = e\n",
    "        table.row.append()\n",
    "        \n",
    "    if flush_0: table.flush() # Should we flush here? \n",
    "                              # Sometimes? Always?\n",
    "                              # Pytables documentation seems to  \n",
    "                              # recommend flushing here.\n",
    "                              # But we have never run into problems \n",
    "                              # without this flush, and flushing,\n",
    "                              # at least with our implementation, \n",
    "                              # slows things down a lot."
   ]
  },
  {
   "cell_type": "markdown",
   "metadata": {},
   "source": [
    "#### Main"
   ]
  },
  {
   "cell_type": "code",
   "execution_count": 3,
   "metadata": {
    "collapsed": false
   },
   "outputs": [],
   "source": [
    "def write_some_pytables(write_path, \n",
    "                        num_tables =  5,   # Number of tables to write\n",
    "                        num_events =100,   # Number of events\n",
    "                        flush_0 = False,   # Flush each table for each event \n",
    "                        flush_1 = False,\n",
    "                        n_tables_to_index=0):  # Flush file before closing the file\n",
    "    \n",
    "    with tb.open_file(write_path, 'w') as h5out:\n",
    "        g1 = h5out.create_group(h5out.root, 'g1')         # Make group\n",
    "        tables = create_n_pytables(num_tables, h5out, g1) # Make num_tables in group\n",
    "\n",
    "        for event in range(num_events): # For each event,\n",
    "            for table in tables:        # Write a toy signal to its table.\n",
    "                write_signal_for_one_event(table, \n",
    "                                           event, \n",
    "                                           toy_signal(), flush_0=flush_0)\n",
    "\n",
    "        # Index tables\n",
    "        index_tables_at_designated_column(tables[:n_tables_to_index])\n",
    "        \n",
    "        if flush_1: h5out.flush()    \n",
    "\n",
    "        # Should we flush the entire file here? When we don't do this\n",
    "        # we frequently end up with blank pytables.\n",
    "        #\n",
    "        # It's strange flushing here changes anything, since the file closes \n",
    "        # immediately after this line is executed, and pytables documentation\n",
    "        # says a file is flushed automatically as it closes....     "
   ]
  },
  {
   "cell_type": "markdown",
   "metadata": {},
   "source": [
    "**If we do not index, there is no need to flush**"
   ]
  },
  {
   "cell_type": "code",
   "execution_count": 4,
   "metadata": {
    "collapsed": false
   },
   "outputs": [],
   "source": [
    "num_events = 100; num_tables = 5\n",
    "write_some_pytables(write_path, num_tables=num_tables, num_events=num_events, flush_1=False, n_tables_to_index=0)\n",
    "check_everything_written(write_path)"
   ]
  },
  {
   "cell_type": "markdown",
   "metadata": {},
   "source": [
    "**If we flush after indexing, everything is fine**"
   ]
  },
  {
   "cell_type": "code",
   "execution_count": 5,
   "metadata": {
    "collapsed": true
   },
   "outputs": [],
   "source": [
    "num_events = 100; num_tables = 10\n",
    "write_some_pytables(write_path, num_tables=num_tables, num_events=num_events, flush_1=True, n_tables_to_index=10)\n",
    "check_everything_written(write_path)"
   ]
  },
  {
   "cell_type": "markdown",
   "metadata": {
    "collapsed": true
   },
   "source": [
    "**If we `create_index` at the end, we still get strange behavior if we index more than 4 tables**"
   ]
  },
  {
   "cell_type": "code",
   "execution_count": 6,
   "metadata": {
    "collapsed": false
   },
   "outputs": [
    {
     "name": "stdout",
     "output_type": "stream",
     "text": [
      "indexing 0 tables...\n",
      "-------------\n",
      "indexing 1 tables...\n",
      "-------------\n",
      "indexing 2 tables...\n",
      "-------------\n",
      "indexing 3 tables...\n",
      "-------------\n",
      "indexing 4 tables...\n",
      "-------------\n",
      "indexing 5 tables...\n",
      "fraction of events:  0.0 in t0\n",
      "-------------\n"
     ]
    },
    {
     "name": "stderr",
     "output_type": "stream",
     "text": [
      "Exception ignored in: <object repr() failed>\n",
      "Traceback (most recent call last):\n",
      "  File \"/Users/alej/miniconda/envs/IC3.6/lib/python3.6/site-packages/tables/node.py\", line 321, in __del__\n",
      "    self._f_close()\n",
      "  File \"/Users/alej/miniconda/envs/IC3.6/lib/python3.6/site-packages/tables/table.py\", line 2957, in _f_close\n",
      "    self.flush()\n",
      "  File \"/Users/alej/miniconda/envs/IC3.6/lib/python3.6/site-packages/tables/table.py\", line 2891, in flush\n",
      "    self.row._flush_buffered_rows()\n",
      "  File \"tables/tableextension.pyx\", line 1333, in tables.tableextension.Row._flush_buffered_rows (tables/tableextension.c:16357)\n",
      "  File \"tables/tableextension.pyx\", line 749, in tables.tableextension.Row.table.__get__ (tables/tableextension.c:9587)\n",
      "  File \"/Users/alej/miniconda/envs/IC3.6/lib/python3.6/site-packages/tables/file.py\", line 2101, in _check_open\n",
      "    raise ClosedFileError(\"the file object is closed\")\n",
      "tables.exceptions.ClosedFileError: the file object is closed\n"
     ]
    }
   ],
   "source": [
    "num_events = 100; num_tables = 5\n",
    "for n in range(num_tables+1):\n",
    "    print('indexing ' + str(n) + str( ' tables...'))\n",
    "    write_some_pytables(write_path, num_tables=num_tables, num_events=num_events, flush_1=False, n_tables_to_index=n)\n",
    "    check_everything_written(write_path)\n",
    "    print('-------------')"
   ]
  }
 ],
 "metadata": {
  "kernelspec": {
   "display_name": "Python 3",
   "language": "python",
   "name": "python3"
  },
  "language_info": {
   "codemirror_mode": {
    "name": "ipython",
    "version": 3
   },
   "file_extension": ".py",
   "mimetype": "text/x-python",
   "name": "python",
   "nbconvert_exporter": "python",
   "pygments_lexer": "ipython3",
   "version": "3.6.0"
  }
 },
 "nbformat": 4,
 "nbformat_minor": 2
}
