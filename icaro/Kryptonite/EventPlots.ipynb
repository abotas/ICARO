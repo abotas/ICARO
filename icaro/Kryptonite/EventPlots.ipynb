{
 "cells": [
  {
   "cell_type": "markdown",
   "metadata": {},
   "source": [
    "# Event Plots (inline version)"
   ]
  },
  {
   "cell_type": "markdown",
   "metadata": {},
   "source": [
    "A NB template to ilustrate how to examine the features of events"
   ]
  },
  {
   "cell_type": "code",
   "execution_count": 1,
   "metadata": {
    "collapsed": false
   },
   "outputs": [
    {
     "name": "stdout",
     "output_type": "stream",
     "text": [
      "2017-04-08 00:13:07\n"
     ]
    }
   ],
   "source": [
    "import datetime\n",
    "print(datetime.datetime.now().strftime('%Y-%m-%d %H:%M:%S'))"
   ]
  },
  {
   "cell_type": "code",
   "execution_count": 2,
   "metadata": {
    "collapsed": false
   },
   "outputs": [],
   "source": [
    "%matplotlib inline\n",
    "%load_ext autoreload\n",
    "%autoreload 2"
   ]
  },
  {
   "cell_type": "code",
   "execution_count": 3,
   "metadata": {
    "collapsed": false
   },
   "outputs": [],
   "source": [
    "import sys\n",
    "import os\n",
    "import time\n",
    "import tables as tb\n",
    "import numpy as np\n",
    "import matplotlib.pyplot as plt"
   ]
  },
  {
   "cell_type": "code",
   "execution_count": 4,
   "metadata": {
    "collapsed": false
   },
   "outputs": [],
   "source": [
    "from invisible_cities.database import load_db"
   ]
  },
  {
   "cell_type": "code",
   "execution_count": 5,
   "metadata": {
    "collapsed": false
   },
   "outputs": [],
   "source": [
    "import invisible_cities.core.mpl_functions as mpl\n",
    "import invisible_cities.reco.tbl_functions as tbl\n",
    "from invisible_cities.reco.params import S12Params, ThresholdParams\n",
    "from   invisible_cities.core.system_of_units_c import units"
   ]
  },
  {
   "cell_type": "code",
   "execution_count": 7,
   "metadata": {
    "collapsed": false
   },
   "outputs": [],
   "source": [
    "from invisible_cities.core.mpl_functions import plot_pmt_waveforms, plot_pmt_signals_vs_time_mus, \\\n",
    "              plot_signal_vs_time_mus"
   ]
  },
  {
   "cell_type": "code",
   "execution_count": 38,
   "metadata": {
    "collapsed": true
   },
   "outputs": [],
   "source": [
    "from invisible_cities.reco.pmaps_functions import plot_s12"
   ]
  },
  {
   "cell_type": "code",
   "execution_count": 39,
   "metadata": {
    "collapsed": false
   },
   "outputs": [],
   "source": [
    "from icaro.core.event_pmaps import EventPmaps, print_s12, print_s2si"
   ]
  },
  {
   "cell_type": "markdown",
   "metadata": {},
   "source": [
    "### Run Parameters"
   ]
  },
  {
   "cell_type": "code",
   "execution_count": 12,
   "metadata": {
    "collapsed": false
   },
   "outputs": [],
   "source": [
    "run_number = 3609"
   ]
  },
  {
   "cell_type": "code",
   "execution_count": 13,
   "metadata": {
    "collapsed": false
   },
   "outputs": [],
   "source": [
    "DataPMT = load_db.DataPMT(run_number)\n",
    "DataSiPM = load_db.DataSiPM(run_number)\n",
    "xs = DataSiPM.X.values\n",
    "ys = DataSiPM.Y.values"
   ]
  },
  {
   "cell_type": "code",
   "execution_count": 14,
   "metadata": {
    "collapsed": false
   },
   "outputs": [],
   "source": [
    "RWF_file = os.path.join(os.environ['IC_DATA'],\n",
    "                        'LSC/wvfms/{}/run_3609.gdc1next.next-new.135.rd_3609.root.h5'.format(run_number, run_number))"
   ]
  },
  {
   "cell_type": "code",
   "execution_count": 15,
   "metadata": {
    "collapsed": false
   },
   "outputs": [],
   "source": [
    "h5rwf = tb.open_file(RWF_file,'r')"
   ]
  },
  {
   "cell_type": "code",
   "execution_count": 16,
   "metadata": {
    "collapsed": false
   },
   "outputs": [],
   "source": [
    "pmtrwf, pmtblr, sipmrwf = tbl.get_vectors(h5rwf)"
   ]
  },
  {
   "cell_type": "code",
   "execution_count": 17,
   "metadata": {
    "collapsed": false
   },
   "outputs": [
    {
     "name": "stdout",
     "output_type": "stream",
     "text": [
      "\n",
      "        Number of events in file = 82\n",
      "        Number of PMTs = 12\n",
      "        PMTWL = 52000\n",
      "        Number of SiPMs = 1792\n",
      "        SiPMWL = 1300\n",
      "      \n"
     ]
    }
   ],
   "source": [
    "NEVT, NPMT, PMTWL = pmtrwf.shape\n",
    "NEVT, NSIPM, SIPMWL = sipmrwf.shape\n",
    "print(\"\"\"\n",
    "        Number of events in file = {}\n",
    "        Number of PMTs = {}\n",
    "        PMTWL = {}\n",
    "        Number of SiPMs = {}\n",
    "        SiPMWL = {}\n",
    "      \"\"\".format(NEVT, NPMT, PMTWL,NSIPM, SIPMWL))"
   ]
  },
  {
   "cell_type": "code",
   "execution_count": 18,
   "metadata": {
    "collapsed": false
   },
   "outputs": [],
   "source": [
    "s1par  = S12Params(tmin=0*units.mus, tmax=600*units.mus, lmin=5, lmax=20, stride=4, rebin=False)\n",
    "s2par = S12Params(tmin=645*units.mus, tmax=1300*units.mus, stride=160, lmin=80, lmax=20000, rebin=True)\n",
    "thr    = ThresholdParams(thr_s1=3 * units.pes,  thr_s2=1 *units.pes,\n",
    "                        thr_MAU = 3 * units.adc, thr_sipm = 3.5 * units.pes,\n",
    "                        thr_SIPM = 30 * units.adc)"
   ]
  },
  {
   "cell_type": "code",
   "execution_count": 19,
   "metadata": {
    "collapsed": false
   },
   "outputs": [],
   "source": [
    "epm = EventPmaps(run_number, s1par, s2par, thr, verbose=True)"
   ]
  },
  {
   "cell_type": "code",
   "execution_count": 31,
   "metadata": {
    "collapsed": false
   },
   "outputs": [
    {
     "data": {
      "text/plain": [
       "129591.80180981458"
      ]
     },
     "execution_count": 31,
     "metadata": {},
     "output_type": "execute_result"
    }
   ],
   "source": [
    "event=1\n",
    "epm.calibrated_pmt_and_csum(event, pmtrwf)"
   ]
  },
  {
   "cell_type": "code",
   "execution_count": 32,
   "metadata": {
    "collapsed": false
   },
   "outputs": [
    {
     "data": {
      "image/png": "[encoded data removed]",
      "text/plain": [
       "<matplotlib.figure.Figure at 0x10dcd0668>"
      ]
     },
     "metadata": {},
     "output_type": "display_data"
    }
   ],
   "source": [
    "plot_pmt_signals_vs_time_mus(epm.CWF,\n",
    "                                 epm.P.pmt_active,\n",
    "                                 t_min      =    0,\n",
    "                                 t_max      = 1300,\n",
    "                                 signal_min =    -5,\n",
    "                                 signal_max =  1500)"
   ]
  },
  {
   "cell_type": "code",
   "execution_count": 33,
   "metadata": {
    "collapsed": false
   },
   "outputs": [
    {
     "data": {
      "image/png": "[encoded data removed]",
      "text/plain": [
       "<matplotlib.figure.Figure at 0x112d5a780>"
      ]
     },
     "metadata": {},
     "output_type": "display_data"
    }
   ],
   "source": [
    "plot_pmt_signals_vs_time_mus(epm.CAL_PMT,\n",
    "                             epm.P.pmt_active,\n",
    "                             t_min      =    0,\n",
    "                             t_max      = 1300,\n",
    "                             signal_min =    -5,\n",
    "                             signal_max =  60)"
   ]
  },
  {
   "cell_type": "code",
   "execution_count": 34,
   "metadata": {
    "collapsed": false
   },
   "outputs": [
    {
     "data": {
      "image/png": "[encoded data removed]",
      "text/plain": [
       "<matplotlib.figure.Figure at 0x10db6b7b8>"
      ]
     },
     "metadata": {},
     "output_type": "display_data"
    }
   ],
   "source": [
    "plot_signal_vs_time_mus(epm.csum, \n",
    "                            t_min=0, \n",
    "                            t_max=1300, \n",
    "                            signal_min=-5, \n",
    "                            signal_max=350)"
   ]
  },
  {
   "cell_type": "code",
   "execution_count": 35,
   "metadata": {
    "collapsed": false
   },
   "outputs": [
    {
     "name": "stdout",
     "output_type": "stream",
     "text": [
      "number of peaks = 1\n",
      "S12 number = 0, samples = 13 sum in pes =152.46700079038712\n",
      "time vector (mus) = [ 565.375  565.4    565.425  565.45   565.475  565.5    565.525  565.55\n",
      "  565.575  565.6    565.625  565.65   565.675]\n",
      "energy vector (pes) = [  3.02539079   9.68822498  18.04707186  24.03486778  25.21514411\n",
      "  21.25444989  15.2315076   10.13020051   6.92881667   5.96959214\n",
      "   5.53772609   4.33740276   3.0666056 ]\n"
     ]
    },
    {
     "data": {
      "text/plain": [
       "1"
      ]
     },
     "execution_count": 35,
     "metadata": {},
     "output_type": "execute_result"
    }
   ],
   "source": [
    "epm.find_s1()"
   ]
  },
  {
   "cell_type": "code",
   "execution_count": 36,
   "metadata": {
    "collapsed": false
   },
   "outputs": [
    {
     "name": "stdout",
     "output_type": "stream",
     "text": [
      "number of peaks = 2\n",
      "S12 number = 0, samples = 20 sum in pes =111390.8497670319\n",
      "time vector (mus) = [ 650.256875    651.2625      652.2625      653.2625      654.2625\n",
      "  655.2625      656.2625      657.2625      658.2625      659.2625\n",
      "  660.2625      661.2625      662.2625      663.2625      664.2625\n",
      "  665.2625      666.2625      667.2625      668.2625      669.53833333]\n",
      "energy vector (pes) = [   149.22139068   1069.5329566    4022.61662231   9370.5768216\n",
      "  12898.63873954  13409.53801206   9916.22491738   8092.9751276\n",
      "   8490.44329739   8410.62762143   7300.21308893   5255.48219676\n",
      "   4037.60285383   3801.55160717   4429.73028568   4838.58608719\n",
      "   3539.54936934   1793.37868879    494.1090304      70.25105236]\n",
      "S12 number = 1, samples = 9 sum in pes =16323.784674113045\n",
      "time vector (mus) = [ 677.224375  678.4875    679.4875    680.4875    681.4875    682.4875\n",
      "  683.4875    684.4875    685.5525  ]\n",
      "energy vector (pes) = [  127.10316698   598.11567245  1696.434038    3439.44247219  4597.05354455\n",
      "  3593.43934054  1690.91972245   456.10316716   125.17354979]\n"
     ]
    },
    {
     "data": {
      "text/plain": [
       "2"
      ]
     },
     "execution_count": 36,
     "metadata": {},
     "output_type": "execute_result"
    }
   ],
   "source": [
    "epm.find_s2()"
   ]
  },
  {
   "cell_type": "code",
   "execution_count": 42,
   "metadata": {
    "collapsed": false
   },
   "outputs": [
    {
     "data": {
      "image/png": "[encoded data removed]",
      "text/plain": [
       "<matplotlib.figure.Figure at 0x112c458d0>"
      ]
     },
     "metadata": {},
     "output_type": "display_data"
    }
   ],
   "source": [
    "plot_s12(epm.S1)"
   ]
  },
  {
   "cell_type": "code",
   "execution_count": 43,
   "metadata": {
    "collapsed": false
   },
   "outputs": [
    {
     "data": {
      "text/plain": [
       "{0: S12Features(tmin=565375.0, tmax=565675.0, tpeak=565475.0, etot=152.46700079038712, epeak=25.215144112484467, width=300.0)}"
      ]
     },
     "execution_count": 43,
     "metadata": {},
     "output_type": "execute_result"
    }
   ],
   "source": [
    "epm.s1f"
   ]
  },
  {
   "cell_type": "code",
   "execution_count": 44,
   "metadata": {
    "collapsed": false
   },
   "outputs": [
    {
     "data": {
      "image/png": "[encoded data removed]",
      "text/plain": [
       "<matplotlib.figure.Figure at 0x10e8cdb00>"
      ]
     },
     "metadata": {},
     "output_type": "display_data"
    }
   ],
   "source": [
    "plot_s12(epm.S2)"
   ]
  },
  {
   "cell_type": "code",
   "execution_count": null,
   "metadata": {
    "collapsed": false
   },
   "outputs": [],
   "source": [
    "epm.s2f"
   ]
  },
  {
   "cell_type": "code",
   "execution_count": null,
   "metadata": {
    "collapsed": false
   },
   "outputs": [],
   "source": [
    "epm.find_ns1()"
   ]
  },
  {
   "cell_type": "code",
   "execution_count": null,
   "metadata": {
    "collapsed": false
   },
   "outputs": [],
   "source": []
  },
  {
   "cell_type": "code",
   "execution_count": null,
   "metadata": {
    "collapsed": false
   },
   "outputs": [],
   "source": [
    "dt = epm.s2f[0].tpeak - epm.s1f[0].tpeak"
   ]
  },
  {
   "cell_type": "code",
   "execution_count": null,
   "metadata": {
    "collapsed": false
   },
   "outputs": [],
   "source": [
    "dt/units.mus"
   ]
  },
  {
   "cell_type": "code",
   "execution_count": null,
   "metadata": {
    "collapsed": false
   },
   "outputs": [],
   "source": [
    "event=1\n",
    "epm.calibrated_pmt_and_csum(event, pmtrwf)"
   ]
  },
  {
   "cell_type": "code",
   "execution_count": null,
   "metadata": {
    "collapsed": false
   },
   "outputs": [],
   "source": [
    "plot_pmt_signals_vs_time_mus(epm.CAL_PMT,\n",
    "                             epm.P.pmt_active,\n",
    "                             t_min      =    0,\n",
    "                             t_max      = 1300,\n",
    "                             signal_min =    -5,\n",
    "                             signal_max =  7)"
   ]
  },
  {
   "cell_type": "code",
   "execution_count": null,
   "metadata": {
    "collapsed": false
   },
   "outputs": [],
   "source": [
    "plot_signal_vs_time_mus(epm.csum, \n",
    "                            t_min=0, \n",
    "                            t_max=1300, \n",
    "                            signal_min=-5, \n",
    "                            signal_max=60)"
   ]
  },
  {
   "cell_type": "code",
   "execution_count": null,
   "metadata": {
    "collapsed": false
   },
   "outputs": [],
   "source": [
    "epm.find_s1()\n",
    "epm.find_s2()\n",
    "epm.find_ns1()"
   ]
  },
  {
   "cell_type": "code",
   "execution_count": null,
   "metadata": {
    "collapsed": false
   },
   "outputs": [],
   "source": [
    "plot_s12(epm.S1)"
   ]
  },
  {
   "cell_type": "code",
   "execution_count": null,
   "metadata": {
    "collapsed": false
   },
   "outputs": [],
   "source": [
    "plot_s12(epm.S2)"
   ]
  },
  {
   "cell_type": "code",
   "execution_count": null,
   "metadata": {
    "collapsed": false
   },
   "outputs": [],
   "source": [
    "epm.s1f"
   ]
  },
  {
   "cell_type": "markdown",
   "metadata": {
    "collapsed": false
   },
   "source": [
    "This looks like a background event in conjunction with electron rain"
   ]
  },
  {
   "cell_type": "code",
   "execution_count": null,
   "metadata": {
    "collapsed": false
   },
   "outputs": [],
   "source": [
    "epm.s2f"
   ]
  },
  {
   "cell_type": "code",
   "execution_count": null,
   "metadata": {
    "collapsed": false
   },
   "outputs": [],
   "source": [
    "event=2\n",
    "epm.calibrated_pmt_and_csum(event, pmtrwf)\n",
    "epm.find_s1()\n",
    "epm.find_s2()\n",
    "epm.find_ns1()"
   ]
  },
  {
   "cell_type": "code",
   "execution_count": null,
   "metadata": {
    "collapsed": false
   },
   "outputs": [],
   "source": [
    "plot_pmt_signals_vs_time_mus(epm.CAL_PMT,\n",
    "                             epm.P.pmt_active,\n",
    "                             t_min      =    0,\n",
    "                             t_max      = 1300,\n",
    "                             signal_min =    -5,\n",
    "                             signal_max =  10)"
   ]
  },
  {
   "cell_type": "code",
   "execution_count": null,
   "metadata": {
    "collapsed": false
   },
   "outputs": [],
   "source": [
    "plot_signal_vs_time_mus(epm.csum, \n",
    "                            t_min=0, \n",
    "                            t_max=1300, \n",
    "                            signal_min=-5, \n",
    "                            signal_max=60)"
   ]
  },
  {
   "cell_type": "code",
   "execution_count": null,
   "metadata": {
    "collapsed": false
   },
   "outputs": [],
   "source": [
    "plot_s12(epm.S1)"
   ]
  },
  {
   "cell_type": "code",
   "execution_count": null,
   "metadata": {
    "collapsed": false
   },
   "outputs": [],
   "source": [
    "plot_s12(epm.S2)"
   ]
  },
  {
   "cell_type": "code",
   "execution_count": null,
   "metadata": {
    "collapsed": false
   },
   "outputs": [],
   "source": [
    "epm.s1f"
   ]
  },
  {
   "cell_type": "code",
   "execution_count": null,
   "metadata": {
    "collapsed": false
   },
   "outputs": [],
   "source": [
    "epm.s2f"
   ]
  },
  {
   "cell_type": "code",
   "execution_count": null,
   "metadata": {
    "collapsed": false
   },
   "outputs": [],
   "source": [
    "def pmp(epm, event):\n",
    "    epm.calibrated_pmt_and_csum(event, pmtrwf)\n",
    "    \n",
    "    plot_signal_vs_time_mus(epm.csum, \n",
    "                            t_min=0, \n",
    "                            t_max=1300, \n",
    "                            signal_min=-5, \n",
    "                            signal_max=60, figsize=(4,4))\n",
    "\n",
    "    plt.show()\n",
    "    print('+++S2+++++')\n",
    "    epm.find_s2()\n",
    "    if len(epm.S2) != 1:\n",
    "        print('S2 not = 1')\n",
    "        return 0\n",
    "    plot_s12(epm.S2, figsize=(4,4))\n",
    "    plt.show()\n",
    "    print('s2f = {} '.format(epm.s2f[0]))\n",
    "    \n",
    "    print('+++S1+++++')\n",
    "    epm.find_s1()\n",
    "    if len (epm.S1) == 0:\n",
    "        print('S1 == 0')\n",
    "        return 0\n",
    "    \n",
    "    plot_s12(epm.S1, figsize=(4,4))\n",
    "    \n",
    "    for peak in epm.s1f:\n",
    "        print('s1f = {} '.format(epm.s1f[peak]))\n",
    "        dt = epm.s2f[0].tpeak - epm.s1f[peak].tpeak\n",
    "        print('dt = {} mus'.format(dt/units.mus))\n",
    "    "
   ]
  },
  {
   "cell_type": "code",
   "execution_count": null,
   "metadata": {
    "collapsed": false
   },
   "outputs": [],
   "source": [
    "def pmp_plot(epmx):\n",
    "    plot_pmt_signals_vs_time_mus(epmx.CAL_PMT,\n",
    "                             epmx.P.pmt_active,\n",
    "                             t_min      =    0,\n",
    "                             t_max      = 1300,\n",
    "                             signal_min =    -5,\n",
    "                             signal_max =  10, figsize=(4,4))\n",
    "    plt.show()\n",
    "    plot_signal_vs_time_mus(epmx.csum, \n",
    "                            t_min=0, \n",
    "                            t_max=1300, \n",
    "                            signal_min=-5, \n",
    "                            signal_max=60,figsize=(4,4))\n",
    "    plt.show()\n",
    "    plot_s12(epmx.S1)\n",
    "    plt.show(\n",
    "    plot_s12(epmx.S2))\n",
    "    plt.show()"
   ]
  },
  {
   "cell_type": "code",
   "execution_count": null,
   "metadata": {
    "collapsed": false,
    "scrolled": false
   },
   "outputs": [],
   "source": [
    "pmp(epm,event=3)"
   ]
  },
  {
   "cell_type": "markdown",
   "metadata": {
    "collapsed": false
   },
   "source": [
    "S1 has large er which may be distinctive of ER"
   ]
  },
  {
   "cell_type": "code",
   "execution_count": null,
   "metadata": {
    "collapsed": false
   },
   "outputs": [],
   "source": [
    "pmp(epm,event=4)"
   ]
  },
  {
   "cell_type": "code",
   "execution_count": null,
   "metadata": {
    "collapsed": false
   },
   "outputs": [],
   "source": [
    "pmp(epm,event=5)"
   ]
  },
  {
   "cell_type": "code",
   "execution_count": null,
   "metadata": {
    "collapsed": false
   },
   "outputs": [],
   "source": [
    "pmp(epm,event=6)"
   ]
  },
  {
   "cell_type": "code",
   "execution_count": null,
   "metadata": {
    "collapsed": false,
    "scrolled": false
   },
   "outputs": [],
   "source": [
    "pmp(epm,event=8)"
   ]
  },
  {
   "cell_type": "code",
   "execution_count": null,
   "metadata": {
    "collapsed": false,
    "scrolled": false
   },
   "outputs": [],
   "source": [
    "pmp(epm,event=9)"
   ]
  }
 ],
 "metadata": {
  "kernelspec": {
   "display_name": "Python 3",
   "language": "python",
   "name": "python3"
  },
  "language_info": {
   "codemirror_mode": {
    "name": "ipython",
    "version": 3
   },
   "file_extension": ".py",
   "mimetype": "text/x-python",
   "name": "python",
   "nbconvert_exporter": "python",
   "pygments_lexer": "ipython3",
   "version": "3.6.0"
  }
 },
 "nbformat": 4,
 "nbformat_minor": 2
}
