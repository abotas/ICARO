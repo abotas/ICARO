{
 "cells": [
  {
   "cell_type": "markdown",
   "metadata": {},
   "source": [
    "# Alpha lifetime"
   ]
  },
  {
   "cell_type": "markdown",
   "metadata": {},
   "source": [
    "An script to compute alpha lifetime."
   ]
  },
  {
   "cell_type": "code",
   "execution_count": 41,
   "metadata": {
    "collapsed": false
   },
   "outputs": [
    {
     "name": "stdout",
     "output_type": "stream",
     "text": [
      "The autoreload extension is already loaded. To reload it, use:\n",
      "  %reload_ext autoreload\n",
      "Running on  Fri Apr 28 02:32:52 2017\n"
     ]
    }
   ],
   "source": [
    "from __future__ import print_function, division\n",
    "%load_ext autoreload\n",
    "%autoreload 2\n",
    "import sys\n",
    "import os\n",
    "import operator\n",
    "import functools\n",
    "import textwrap\n",
    "import copy\n",
    "import time\n",
    "import glob\n",
    "import math\n",
    "print(\"Running on \", time.asctime())\n",
    "\n",
    "import textwrap\n",
    "import numpy as np\n",
    "import pandas as pd\n",
    "import tables as tb\n",
    "import pandas as pd\n",
    "import matplotlib.pyplot as plt\n",
    "from matplotlib.colors import LogNorm\n",
    "%matplotlib inline\n",
    "\n",
    "from invisible_cities.database import load_db\n",
    "from invisible_cities.core.system_of_units_c import units\n",
    "#import invisible_cities.core.system_of_units_c as units\n",
    "from invisible_cities.core.core_functions import timefunc, flat\n",
    "import invisible_cities.core.fit_functions as fitf\n",
    "import invisible_cities.core.mpl_functions as mpl\n",
    "from invisible_cities.core.mpl_functions import plot_pmt_waveforms, plot_pmt_signals_vs_time_mus, \\\n",
    "              plot_signal_vs_time_mus\n",
    "from invisible_cities.core.core_functions import in_range\n",
    "\n",
    "import invisible_cities.reco.tbl_functions as tbl\n",
    "from invisible_cities.reco.pmaps_functions import plot_s12, width, integrate_charge\n",
    "import invisible_cities.reco.pmaps_functions as pmapf\n",
    "from invisible_cities.reco.params import S12Params, ThresholdParams\n",
    "\n",
    "\n",
    "sys.path.append('/Users/alej/Desktop/Valencia/nextic/ICARO')\n",
    "\n",
    "from icaro.core.event_pmaps import EventPmaps, print_s12, print_s2si\n",
    "from icaro.core.hst_functions import labels, hist, doublehist, hist2d, pdf, scatter, profile_and_scatter,\\\n",
    "                              doublescatter, covariance, reso, gausstext, plot_profile_histogram \n",
    "from icaro.core.kdst_functions import load_dst, event_rate, profile_and_fit, print_fit, chi2\n",
    "\n",
    "\n",
    "from scipy.optimize import curve_fit\n",
    "from icaro.core.kdst_functions import load_dst, event_rate, profile_and_fit, \\\n",
    "                               profile_and_fit_radial, print_fit, MapXY, chi2,\\\n",
    "                               time_from_timestamp, lifetime\n",
    "\n",
    "pi = np.pi\n",
    "\n"
   ]
  },
  {
   "cell_type": "code",
   "execution_count": 42,
   "metadata": {
    "collapsed": false
   },
   "outputs": [
    {
     "name": "stdout",
     "output_type": "stream",
     "text": [
      "2017-04-28 02:32:52\n"
     ]
    }
   ],
   "source": [
    "import datetime\n",
    "print(datetime.datetime.now().strftime('%Y-%m-%d %H:%M:%S'))"
   ]
  },
  {
   "cell_type": "code",
   "execution_count": 43,
   "metadata": {
    "collapsed": true
   },
   "outputs": [],
   "source": [
    "def plot_options(figsize=(6,6), fontsize=15):\n",
    "    plt.rcParams[\"figure.figsize\"]          = figsize\n",
    "    plt.rcParams[\"font.size\"]               = fontsize\n",
    "    plt.rcParams[\"figure.max_open_warning\"] = 100"
   ]
  },
  {
   "cell_type": "code",
   "execution_count": 44,
   "metadata": {
    "collapsed": true
   },
   "outputs": [],
   "source": [
    "plt.rcParams[\"figure.figsize\"]          = 6, 6\n",
    "plt.rcParams[\"font.size\"]               = 15\n",
    "plt.rcParams[\"figure.max_open_warning\"] = 100\n",
    "\n",
    "profOpt = \"--k\"\n",
    "fitOpt  = \"r\""
   ]
  },
  {
   "cell_type": "markdown",
   "metadata": {},
   "source": [
    "### Run Parameters"
   ]
  },
  {
   "cell_type": "code",
   "execution_count": 45,
   "metadata": {
    "collapsed": false
   },
   "outputs": [],
   "source": [
    "#run_number = 3645\n",
    "#run_number = 3715\n",
    "#run_number = 3724\n",
    "#run_number  = 3733\n",
    "#run_number  = 3741\n",
    "#run_number = 3753\n",
    "#run_number = 3756\n",
    "#run_number = 3758\n",
    "#run_number = 3762\n",
    "#run_number = 3767\n",
    "#run_number = 3769\n",
    "run_number = 3772\n",
    "#run_number = 3774\n",
    "\n",
    "\n"
   ]
  },
  {
   "cell_type": "code",
   "execution_count": 46,
   "metadata": {
    "collapsed": false
   },
   "outputs": [],
   "source": [
    "DataPMT = load_db.DataPMT(run_number)\n",
    "DataSiPM = load_db.DataSiPM(run_number)\n",
    "xs = DataSiPM.X.values\n",
    "ys = DataSiPM.Y.values"
   ]
  },
  {
   "cell_type": "code",
   "execution_count": 47,
   "metadata": {
    "collapsed": false
   },
   "outputs": [
    {
     "name": "stdout",
     "output_type": "stream",
     "text": [
      "ifile: /Users/alej/Desktop/IC_DATA/LSC/kdst/3772/dst_3772.root.h5\n"
     ]
    }
   ],
   "source": [
    "#ifile = os.path.join(os.environ['IC_DATA'],\n",
    "#                        'LSC/kdst/{}/kdst_3628_full.h5'.format(run_number))\n",
    "\n",
    "ifile = os.path.join(os.environ['IC_DATA'], 'LSC/kdst/{}/dst_{}.root.h5'.format(run_number,run_number))\n",
    "                       \n",
    "print(\"ifile:\", ifile)"
   ]
  },
  {
   "cell_type": "code",
   "execution_count": 48,
   "metadata": {
    "collapsed": false
   },
   "outputs": [
    {
     "name": "stdout",
     "output_type": "stream",
     "text": [
      "11079\n"
     ]
    },
    {
     "data": {
      "text/html": [
       "<div>\n",
       "<table border=\"1\" class=\"dataframe\">\n",
       "  <thead>\n",
       "    <tr style=\"text-align: right;\">\n",
       "      <th></th>\n",
       "      <th>event</th>\n",
       "      <th>time</th>\n",
       "      <th>peak</th>\n",
       "      <th>nS2</th>\n",
       "      <th>S1w</th>\n",
       "      <th>S1h</th>\n",
       "      <th>S1e</th>\n",
       "      <th>S1t</th>\n",
       "      <th>S2w</th>\n",
       "      <th>S2h</th>\n",
       "      <th>...</th>\n",
       "      <th>S2t</th>\n",
       "      <th>Nsipm</th>\n",
       "      <th>DT</th>\n",
       "      <th>Z</th>\n",
       "      <th>X</th>\n",
       "      <th>Y</th>\n",
       "      <th>R</th>\n",
       "      <th>Phi</th>\n",
       "      <th>Xrms</th>\n",
       "      <th>Yrms</th>\n",
       "    </tr>\n",
       "  </thead>\n",
       "  <tbody>\n",
       "    <tr>\n",
       "      <th>0</th>\n",
       "      <td>1</td>\n",
       "      <td>1.493233e+09</td>\n",
       "      <td>0</td>\n",
       "      <td>1</td>\n",
       "      <td>350.0</td>\n",
       "      <td>280.962738</td>\n",
       "      <td>1686.358230</td>\n",
       "      <td>369225.0</td>\n",
       "      <td>11.896437</td>\n",
       "      <td>7738.167480</td>\n",
       "      <td>...</td>\n",
       "      <td>655387.5</td>\n",
       "      <td>19</td>\n",
       "      <td>286.1625</td>\n",
       "      <td>286.1625</td>\n",
       "      <td>89.234095</td>\n",
       "      <td>2.912337</td>\n",
       "      <td>89.281608</td>\n",
       "      <td>0.032625</td>\n",
       "      <td>10.050131</td>\n",
       "      <td>9.423467</td>\n",
       "    </tr>\n",
       "    <tr>\n",
       "      <th>1</th>\n",
       "      <td>2</td>\n",
       "      <td>1.493233e+09</td>\n",
       "      <td>0</td>\n",
       "      <td>1</td>\n",
       "      <td>325.0</td>\n",
       "      <td>293.861908</td>\n",
       "      <td>1730.566337</td>\n",
       "      <td>164450.0</td>\n",
       "      <td>13.083625</td>\n",
       "      <td>3448.506348</td>\n",
       "      <td>...</td>\n",
       "      <td>655912.5</td>\n",
       "      <td>13</td>\n",
       "      <td>491.4625</td>\n",
       "      <td>491.4625</td>\n",
       "      <td>77.407543</td>\n",
       "      <td>51.288542</td>\n",
       "      <td>92.857107</td>\n",
       "      <td>0.585167</td>\n",
       "      <td>8.713761</td>\n",
       "      <td>8.779936</td>\n",
       "    </tr>\n",
       "    <tr>\n",
       "      <th>2</th>\n",
       "      <td>6</td>\n",
       "      <td>1.493233e+09</td>\n",
       "      <td>0</td>\n",
       "      <td>1</td>\n",
       "      <td>300.0</td>\n",
       "      <td>235.659286</td>\n",
       "      <td>1347.785583</td>\n",
       "      <td>542275.0</td>\n",
       "      <td>9.835000</td>\n",
       "      <td>10985.256836</td>\n",
       "      <td>...</td>\n",
       "      <td>654637.5</td>\n",
       "      <td>23</td>\n",
       "      <td>112.3625</td>\n",
       "      <td>112.3625</td>\n",
       "      <td>4.679687</td>\n",
       "      <td>-181.983029</td>\n",
       "      <td>182.043188</td>\n",
       "      <td>-1.545087</td>\n",
       "      <td>9.401625</td>\n",
       "      <td>9.983032</td>\n",
       "    </tr>\n",
       "    <tr>\n",
       "      <th>3</th>\n",
       "      <td>7</td>\n",
       "      <td>1.493233e+09</td>\n",
       "      <td>0</td>\n",
       "      <td>1</td>\n",
       "      <td>300.0</td>\n",
       "      <td>310.602570</td>\n",
       "      <td>1805.655504</td>\n",
       "      <td>306725.0</td>\n",
       "      <td>13.083750</td>\n",
       "      <td>5766.858398</td>\n",
       "      <td>...</td>\n",
       "      <td>656012.5</td>\n",
       "      <td>17</td>\n",
       "      <td>349.2875</td>\n",
       "      <td>349.2875</td>\n",
       "      <td>-100.542286</td>\n",
       "      <td>-110.833672</td>\n",
       "      <td>149.642421</td>\n",
       "      <td>-2.307545</td>\n",
       "      <td>8.981636</td>\n",
       "      <td>9.713089</td>\n",
       "    </tr>\n",
       "    <tr>\n",
       "      <th>4</th>\n",
       "      <td>9</td>\n",
       "      <td>1.493233e+09</td>\n",
       "      <td>0</td>\n",
       "      <td>1</td>\n",
       "      <td>275.0</td>\n",
       "      <td>310.186096</td>\n",
       "      <td>1754.462784</td>\n",
       "      <td>391675.0</td>\n",
       "      <td>11.103500</td>\n",
       "      <td>5595.219727</td>\n",
       "      <td>...</td>\n",
       "      <td>655212.5</td>\n",
       "      <td>19</td>\n",
       "      <td>263.5375</td>\n",
       "      <td>263.5375</td>\n",
       "      <td>129.006967</td>\n",
       "      <td>-111.144978</td>\n",
       "      <td>170.282130</td>\n",
       "      <td>-0.711157</td>\n",
       "      <td>9.678343</td>\n",
       "      <td>10.126443</td>\n",
       "    </tr>\n",
       "  </tbody>\n",
       "</table>\n",
       "<p>5 rows × 22 columns</p>\n",
       "</div>"
      ],
      "text/plain": [
       "   event          time  peak  nS2    S1w         S1h          S1e       S1t  \\\n",
       "0      1  1.493233e+09     0    1  350.0  280.962738  1686.358230  369225.0   \n",
       "1      2  1.493233e+09     0    1  325.0  293.861908  1730.566337  164450.0   \n",
       "2      6  1.493233e+09     0    1  300.0  235.659286  1347.785583  542275.0   \n",
       "3      7  1.493233e+09     0    1  300.0  310.602570  1805.655504  306725.0   \n",
       "4      9  1.493233e+09     0    1  275.0  310.186096  1754.462784  391675.0   \n",
       "\n",
       "         S2w           S2h    ...           S2t  Nsipm        DT         Z  \\\n",
       "0  11.896437   7738.167480    ...      655387.5     19  286.1625  286.1625   \n",
       "1  13.083625   3448.506348    ...      655912.5     13  491.4625  491.4625   \n",
       "2   9.835000  10985.256836    ...      654637.5     23  112.3625  112.3625   \n",
       "3  13.083750   5766.858398    ...      656012.5     17  349.2875  349.2875   \n",
       "4  11.103500   5595.219727    ...      655212.5     19  263.5375  263.5375   \n",
       "\n",
       "            X           Y           R       Phi       Xrms       Yrms  \n",
       "0   89.234095    2.912337   89.281608  0.032625  10.050131   9.423467  \n",
       "1   77.407543   51.288542   92.857107  0.585167   8.713761   8.779936  \n",
       "2    4.679687 -181.983029  182.043188 -1.545087   9.401625   9.983032  \n",
       "3 -100.542286 -110.833672  149.642421 -2.307545   8.981636   9.713089  \n",
       "4  129.006967 -111.144978  170.282130 -0.711157   9.678343  10.126443  \n",
       "\n",
       "[5 rows x 22 columns]"
      ]
     },
     "execution_count": 48,
     "metadata": {},
     "output_type": "execute_result"
    }
   ],
   "source": [
    "full = load_dst(ifile)\n",
    "print(len(full))\n",
    "full.head()"
   ]
  },
  {
   "cell_type": "code",
   "execution_count": 49,
   "metadata": {
    "collapsed": false
   },
   "outputs": [],
   "source": [
    "msc = full[full.S2e  >  400*units.pes * 11] # michel sorel cuts\n",
    "msc = msc [msc.S1e   >   100*units.pes * 11] \n",
    "msc = msc [msc.S2w   > 3.5] # units of mus!!!\n",
    "msc = msc [msc.S2w   <  25] # units of mus!!! \n",
    "msc = msc [msc.S1w   >  300*units.ns]\n",
    "msc = msc [msc.S1w   < 1000*units.ns] \n",
    "msc = msc [msc.S1t   >  100*units.mus]\n",
    "msc = msc [msc.S2t   <  700*units.mus]\n",
    "\n",
    "msc = msc [msc.R     <  100*units.mm] # fidc\n",
    "\n",
    "large_drift = full[full.DT > 530]\n",
    "\n"
   ]
  },
  {
   "cell_type": "code",
   "execution_count": 50,
   "metadata": {
    "collapsed": false
   },
   "outputs": [
    {
     "data": {
      "text/plain": [
       "11079"
      ]
     },
     "execution_count": 50,
     "metadata": {},
     "output_type": "execute_result"
    }
   ],
   "source": [
    "len(full)"
   ]
  },
  {
   "cell_type": "code",
   "execution_count": 51,
   "metadata": {
    "collapsed": true
   },
   "outputs": [],
   "source": [
    "r = event_rate(full)"
   ]
  },
  {
   "cell_type": "code",
   "execution_count": 52,
   "metadata": {
    "collapsed": false
   },
   "outputs": [
    {
     "name": "stdout",
     "output_type": "stream",
     "text": [
      "Trigger rate: 2.2619325671249526 evts/s\n"
     ]
    }
   ],
   "source": [
    "print(\"Trigger rate: {} evts/s\".format(r))"
   ]
  },
  {
   "cell_type": "code",
   "execution_count": 53,
   "metadata": {
    "collapsed": false
   },
   "outputs": [
    {
     "data": {
      "image/png": "[encoded data removed]",
      "text/plain": [
       "<matplotlib.figure.Figure at 0x11a6c30f0>"
      ]
     },
     "metadata": {},
     "output_type": "display_data"
    }
   ],
   "source": [
    "n, bins, patches = plt.hist(1e+3*(full.time - full.time[0]), 10)\n",
    "labels(\"time stamp\", \"Entries\")"
   ]
  },
  {
   "cell_type": "code",
   "execution_count": 54,
   "metadata": {
    "collapsed": false
   },
   "outputs": [],
   "source": [
    "st = [datetime.datetime.fromtimestamp(elem).strftime('%Y-%m-%d %H:%M:%S') for elem in full.time]\n",
    "x = [datetime.datetime.strptime(elem, '%Y-%m-%d %H:%M:%S') for elem in st]"
   ]
  },
  {
   "cell_type": "code",
   "execution_count": 55,
   "metadata": {
    "collapsed": false
   },
   "outputs": [
    {
     "data": {
      "image/png": "[encoded data removed]",
      "text/plain": [
       "<matplotlib.figure.Figure at 0x11a6c36d8>"
      ]
     },
     "metadata": {},
     "output_type": "display_data"
    }
   ],
   "source": [
    "figsize=(12,8)\n",
    "plt.figure(figsize=figsize)\n",
    "ax = plt.subplot(1, 1, 1)\n",
    "nx, bx, _ = plt.hist(x, 10)\n",
    "labels(\"time stamp\", \"Entries\")"
   ]
  },
  {
   "cell_type": "code",
   "execution_count": 56,
   "metadata": {
    "collapsed": false
   },
   "outputs": [],
   "source": [
    "st = datetime.datetime.fromtimestamp(full.time[-1:]).strftime('%Y-%m-%d %H:%M:%S')"
   ]
  },
  {
   "cell_type": "code",
   "execution_count": 57,
   "metadata": {
    "collapsed": false
   },
   "outputs": [
    {
     "name": "stdout",
     "output_type": "stream",
     "text": [
      "2017-04-26 22:24:56\n"
     ]
    }
   ],
   "source": [
    "print(st)"
   ]
  },
  {
   "cell_type": "code",
   "execution_count": 58,
   "metadata": {
    "collapsed": false
   },
   "outputs": [
    {
     "name": "stdout",
     "output_type": "stream",
     "text": [
      "11078\n"
     ]
    }
   ],
   "source": [
    "print(full.time.index[-1])"
   ]
  },
  {
   "cell_type": "code",
   "execution_count": 59,
   "metadata": {
    "collapsed": false
   },
   "outputs": [
    {
     "data": {
      "image/png": "[encoded data removed]",
      "text/plain": [
       "<matplotlib.figure.Figure at 0x119be9710>"
      ]
     },
     "metadata": {},
     "output_type": "display_data"
    },
    {
     "data": {
      "image/png": "[encoded data removed]",
      "text/plain": [
       "<matplotlib.figure.Figure at 0x115888e80>"
      ]
     },
     "metadata": {},
     "output_type": "display_data"
    },
    {
     "data": {
      "image/png": "[encoded data removed]",
      "text/plain": [
       "<matplotlib.figure.Figure at 0x11959ae80>"
      ]
     },
     "metadata": {},
     "output_type": "display_data"
    }
   ],
   "source": [
    "fidc = full[full.R < 100]\n",
    "\n",
    "\n",
    "figsize=(16,6)\n",
    "plt.figure(figsize=figsize)\n",
    "ax = plt.subplot(1, 3, 1)\n",
    "plt.hist(full.S2e, 50, (0e3,7e4))\n",
    "labels(\"S2 energy (pes)\", \"Entries\")\n",
    "plt.title('Irene + Dorotea Cuts')\n",
    "\n",
    "\n",
    "ax = plt.subplot(1, 3, 2)\n",
    "plt.hist(full.S1e, 50, (0e3,7e3))\n",
    "labels(\"S1 energy (pes)\", \"Entries\")\n",
    "\n",
    "ax = plt.subplot(1, 3, 3)\n",
    "plt.hist(full.Z, 25, (0,600))\n",
    "labels(\"Drift time (mm)\", \"Entries\")\n",
    "\n",
    "########\n",
    "\n",
    "figsize=(16,6)\n",
    "\n",
    "plt.figure(figsize=figsize)\n",
    "ax = plt.subplot(1, 3, 1)\n",
    "plt.hist(fidc.S2e, 50, (0e3,7e4))\n",
    "labels(\"S2 energy (pes)\", \"Entries\")\n",
    "plt.title('fiducial cut')\n",
    "\n",
    "ax = plt.subplot(1, 3, 2)\n",
    "plt.hist(fidc.S1e, 50, (0e3,7e3))\n",
    "labels(\"S1 energy (pes)\", \"Entries\")\n",
    "\n",
    "ax = plt.subplot(1, 3, 3)\n",
    "plt.hist(fidc.Z, 25, (0,600))\n",
    "labels(\"Drift time (mm)\", \"Entries\")\n",
    "\n",
    "########\n",
    "\n",
    "figsize=(16,6)\n",
    "\n",
    "plt.figure(figsize=figsize)\n",
    "ax = plt.subplot(1, 3, 1)\n",
    "plt.hist(msc.S2e, 50, (0e3,7e4))\n",
    "labels(\"S2 energy (pes)\", \"Entries\")\n",
    "plt.title('alphas cut')\n",
    "\n",
    "ax = plt.subplot(1, 3, 2)\n",
    "plt.hist(msc.S1e, 50, (0e3,7e3))\n",
    "labels(\"S1 energy (pes)\", \"Entries\")\n",
    "\n",
    "ax = plt.subplot(1, 3, 3)\n",
    "plt.hist(msc.Z, 25, (0,600))\n",
    "labels(\"Drift time (mm)\", \"Entries\")"
   ]
  },
  {
   "cell_type": "code",
   "execution_count": 60,
   "metadata": {
    "collapsed": false
   },
   "outputs": [
    {
     "data": {
      "image/png": "[encoded data removed]",
      "text/plain": [
       "<matplotlib.figure.Figure at 0x11a1f2d68>"
      ]
     },
     "metadata": {},
     "output_type": "display_data"
    },
    {
     "data": {
      "image/png": "[encoded data removed]",
      "text/plain": [
       "<matplotlib.figure.Figure at 0x11a3db9b0>"
      ]
     },
     "metadata": {},
     "output_type": "display_data"
    },
    {
     "data": {
      "image/png": "[encoded data removed]",
      "text/plain": [
       "<matplotlib.figure.Figure at 0x11c3a0908>"
      ]
     },
     "metadata": {},
     "output_type": "display_data"
    }
   ],
   "source": [
    "plt.figure(figsize=(20,5))\n",
    "b = plt.hist(msc.Z, 100, (0, 550))\n",
    "plt.xlim(0,550)\n",
    "plt.grid(True)\n",
    "labels(\"Drift time (mm)\", \"Entries\")\n",
    "plt.title('alphas cut')\n",
    "\n",
    "\n",
    "\n",
    "\n",
    "plt.figure(figsize=(20,5))\n",
    "a = plt.hist(full[full.Z > 530].Z, 50, (530, 550))\n",
    "plt.xlim(530,550)\n",
    "plt.grid(True)\n",
    "labels(\"Drift time (mm)\", \"Entries\")\n",
    "plt.title('full')\n",
    "\n",
    "\n",
    "    \n",
    "\n",
    "plt.figure(figsize=(20,5))\n",
    "b = plt.hist(msc[msc.Z > 530].Z, 100, (530, 550))\n",
    "plt.xlim(530,550)\n",
    "plt.grid(True)\n",
    "labels(\"Drift time (mm)\", \"Entries\")\n",
    "#plt.title('alphas cut')\n",
    "\n"
   ]
  },
  {
   "cell_type": "code",
   "execution_count": 61,
   "metadata": {
    "collapsed": false
   },
   "outputs": [
    {
     "name": "stdout",
     "output_type": "stream",
     "text": [
      "(array([ 1.,  2.,  2.,  4.,  1.,  1.,  2.,  1.,  0.,  1.,  2.,  1.,  3.,\n",
      "        0.,  1.,  2.,  2.,  3.,  0.,  0.,  1.,  3.,  0.,  0.,  1.,  2.,\n",
      "        0.,  1.,  0.,  3.,  4.,  0.,  1.,  1.,  0.,  3.,  1.,  1.,  1.,\n",
      "        2.,  3.,  1.,  0.,  1.,  3.,  1.,  2.,  1.,  2.,  1.]), array([ 530. ,  530.4,  530.8,  531.2,  531.6,  532. ,  532.4,  532.8,\n",
      "        533.2,  533.6,  534. ,  534.4,  534.8,  535.2,  535.6,  536. ,\n",
      "        536.4,  536.8,  537.2,  537.6,  538. ,  538.4,  538.8,  539.2,\n",
      "        539.6,  540. ,  540.4,  540.8,  541.2,  541.6,  542. ,  542.4,\n",
      "        542.8,  543.2,  543.6,  544. ,  544.4,  544.8,  545.2,  545.6,\n",
      "        546. ,  546.4,  546.8,  547.2,  547.6,  548. ,  548.4,  548.8,\n",
      "        549.2,  549.6,  550. ]), <a list of 50 Patch objects>)\n",
      "(array([ 1.,  0.,  0.,  1.,  1.,  0.,  1.,  0.,  0.,  0.,  0.,  0.,  1.,\n",
      "        0.,  0.,  1.,  0.,  0.,  0.,  0.,  1.,  0.,  0.,  0.,  1.,  1.,\n",
      "        0.,  0.,  0.,  0.,  1.,  0.,  1.,  0.,  1.,  1.,  0.,  0.,  0.,\n",
      "        0.,  0.,  1.,  0.,  0.,  0.,  0.,  0.,  0.,  0.,  0.,  1.,  0.,\n",
      "        0.,  0.,  0.,  0.,  0.,  0.,  1.,  0.,  0.,  2.,  0.,  0.,  0.,\n",
      "        0.,  0.,  0.,  0.,  0.,  0.,  0.,  0.,  0.,  0.,  0.,  1.,  0.,\n",
      "        1.,  0.,  1.,  0.,  0.,  1.,  0.,  0.,  0.,  0.,  0.,  0.,  0.,\n",
      "        0.,  0.,  1.,  0.,  0.,  0.,  1.,  0.,  0.]), array([ 530. ,  530.2,  530.4,  530.6,  530.8,  531. ,  531.2,  531.4,\n",
      "        531.6,  531.8,  532. ,  532.2,  532.4,  532.6,  532.8,  533. ,\n",
      "        533.2,  533.4,  533.6,  533.8,  534. ,  534.2,  534.4,  534.6,\n",
      "        534.8,  535. ,  535.2,  535.4,  535.6,  535.8,  536. ,  536.2,\n",
      "        536.4,  536.6,  536.8,  537. ,  537.2,  537.4,  537.6,  537.8,\n",
      "        538. ,  538.2,  538.4,  538.6,  538.8,  539. ,  539.2,  539.4,\n",
      "        539.6,  539.8,  540. ,  540.2,  540.4,  540.6,  540.8,  541. ,\n",
      "        541.2,  541.4,  541.6,  541.8,  542. ,  542.2,  542.4,  542.6,\n",
      "        542.8,  543. ,  543.2,  543.4,  543.6,  543.8,  544. ,  544.2,\n",
      "        544.4,  544.6,  544.8,  545. ,  545.2,  545.4,  545.6,  545.8,\n",
      "        546. ,  546.2,  546.4,  546.6,  546.8,  547. ,  547.2,  547.4,\n",
      "        547.6,  547.8,  548. ,  548.2,  548.4,  548.6,  548.8,  549. ,\n",
      "        549.2,  549.4,  549.6,  549.8,  550. ]), <a list of 100 Patch objects>)\n"
     ]
    }
   ],
   "source": [
    "print(a)\n",
    "print(b)"
   ]
  },
  {
   "cell_type": "markdown",
   "metadata": {},
   "source": [
    "### Dependence with Z all alphas"
   ]
  },
  {
   "cell_type": "code",
   "execution_count": 62,
   "metadata": {
    "collapsed": false
   },
   "outputs": [
    {
     "data": {
      "text/plain": [
       "<matplotlib.text.Text at 0x11ce6c978>"
      ]
     },
     "execution_count": 62,
     "metadata": {},
     "output_type": "execute_result"
    },
    {
     "data": {
      "image/png": "[encoded data removed]",
      "text/plain": [
       "<matplotlib.figure.Figure at 0x11c3a00b8>"
      ]
     },
     "metadata": {},
     "output_type": "display_data"
    },
    {
     "data": {
      "image/png": "[encoded data removed]",
      "text/plain": [
       "<matplotlib.figure.Figure at 0x11d31e400>"
      ]
     },
     "metadata": {},
     "output_type": "display_data"
    }
   ],
   "source": [
    "zrange =   0, 610\n",
    "S2range = 0, 7e4\n",
    "S1range = 0, 3e3\n",
    "\n",
    "figsize=(14,6)\n",
    "plt.figure(figsize=figsize)\n",
    "ax = plt.subplot(1, 3, 1)\n",
    "plt.hist2d(full.Z, full.S2e, (25, 25), range=(zrange, S2range))\n",
    "labels(\"Drift time ($\\mu$s)\", \"S2 energy\")\n",
    "plt.title('S2 vs Z')\n",
    "\n",
    "ax = plt.subplot(1, 3, 2)\n",
    "plt.hist2d(full.Z, full.S1e, (25, 25), range=(zrange, S1range))\n",
    "labels(\"Drift time ($\\mu$s)\", \"S1 energy\")\n",
    "plt.title('S1 vs Z')\n",
    "\n",
    "ax = plt.subplot(1, 3, 3)\n",
    "plt.hist2d(full.S2e, full.S1e, (25, 25), range=(S2range, S1range))\n",
    "labels(\"S2 energy\", \"S1 energy\")\n",
    "plt.title('S2 vs S1')\n",
    "\n",
    "figsize=(14,6)\n",
    "plt.figure(figsize=figsize)\n",
    "ax = plt.subplot(1, 3, 1)\n",
    "plt.hist2d(msc.Z, msc.S2e, (25, 25), range=(zrange, S2range))\n",
    "labels(\"Drift time ($\\mu$s)\", \"S2 energy\")\n",
    "plt.title('S2 vs Z')\n",
    "\n",
    "ax = plt.subplot(1, 3, 2)\n",
    "plt.hist2d(msc.Z, msc.S1e, (25, 25), range=(zrange, S1range))\n",
    "labels(\"Drift time ($\\mu$s)\", \"S1 energy\")\n",
    "plt.title('S1 vs Z')\n",
    "\n",
    "ax = plt.subplot(1, 3, 3)\n",
    "plt.hist2d(msc.S2e, msc.S1e, (25, 25), range=(S2range, S1range))\n",
    "labels(\"S2 energy\", \"S1 energy\")\n",
    "plt.title('S2 vs S1')\n",
    "\n"
   ]
  },
  {
   "cell_type": "markdown",
   "metadata": {},
   "source": [
    "### Fiducial volume"
   ]
  },
  {
   "cell_type": "code",
   "execution_count": 63,
   "metadata": {
    "collapsed": false
   },
   "outputs": [
    {
     "name": "stdout",
     "output_type": "stream",
     "text": [
      "Ratio wrt full: 0.26960917050275296\n"
     ]
    }
   ],
   "source": [
    "#core = blk[blk.R < 100]\n",
    "core = full[full.R < 100]\n",
    "print(\"Ratio wrt full:\", len(core)/len(full))\n",
    "\n",
    "\n",
    "core2 = full[full.Z > 300]\n",
    "core2 = core2[core2.Z < 500]\n",
    "\n",
    "#core= msc"
   ]
  },
  {
   "cell_type": "code",
   "execution_count": 64,
   "metadata": {
    "collapsed": false
   },
   "outputs": [
    {
     "data": {
      "image/png": "[encoded data removed]",
      "text/plain": [
       "<matplotlib.figure.Figure at 0x11c2f3c50>"
      ]
     },
     "metadata": {},
     "output_type": "display_data"
    }
   ],
   "source": [
    "xrange = -215, 215\n",
    "yrange = -215, 215\n",
    "\n",
    "figsize=(12,6)\n",
    "plt.figure(figsize=figsize)\n",
    "ax = plt.subplot(1, 2, 1)\n",
    "\n",
    "plt.hist2d(core2.X, core2.Y, (50, 50), range=(xrange, yrange))\n",
    "labels(\"X (mm)\", \"Y (mm)\")\n",
    "\n"
   ]
  },
  {
   "cell_type": "code",
   "execution_count": 65,
   "metadata": {
    "collapsed": false
   },
   "outputs": [
    {
     "data": {
      "text/plain": [
       "<matplotlib.text.Text at 0x119d28cf8>"
      ]
     },
     "execution_count": 65,
     "metadata": {},
     "output_type": "execute_result"
    },
    {
     "data": {
      "image/png": "[encoded data removed]",
      "text/plain": [
       "<matplotlib.figure.Figure at 0x11c345c50>"
      ]
     },
     "metadata": {},
     "output_type": "display_data"
    }
   ],
   "source": [
    "xrange = -215, 215\n",
    "yrange = -215, 215\n",
    "\n",
    "figsize=(12,6)\n",
    "plt.figure(figsize=figsize)\n",
    "ax = plt.subplot(1, 2, 1)\n",
    "\n",
    "plt.hist2d(full.X, full.Y, (50, 50), range=(xrange, yrange))\n",
    "labels(\"X (mm)\", \"Y (mm)\")\n",
    "plt.title('Y vs X Fid')\n",
    "\n",
    "ax = plt.subplot(1, 2, 2)\n",
    "\n",
    "plt.hist2d(core.X, core.Y, (50, 50), range=(xrange, yrange))\n",
    "labels(\"X (mm)\", \"Y (mm)\")\n",
    "plt.title('Y vs X core')"
   ]
  },
  {
   "cell_type": "markdown",
   "metadata": {},
   "source": [
    "### Z correction for bulk "
   ]
  },
  {
   "cell_type": "markdown",
   "metadata": {},
   "source": [
    "#### S2"
   ]
  },
  {
   "cell_type": "code",
   "execution_count": 66,
   "metadata": {
    "collapsed": false
   },
   "outputs": [
    {
     "name": "stdout",
     "output_type": "stream",
     "text": [
      "fit par[0] = 67679.2201093982 error = 244.65424431440124\n",
      "fit par[1] = -427.73037673261484 error = 2.747814413329468\n",
      "degrees of freedom = 2\n",
      "chi2 = 0.7059040985497654\n"
     ]
    },
    {
     "data": {
      "image/png": "[encoded data removed]",
      "text/plain": [
       "<matplotlib.figure.Figure at 0x1198e1f98>"
      ]
     },
     "metadata": {},
     "output_type": "display_data"
    }
   ],
   "source": [
    "zrange =   50, 400\n",
    "Erange = 1e+3, 70e3\n",
    "nbins = 10\n",
    "F, x, y, sy = profile_and_fit(core.Z, core.S2e, \n",
    "                    xrange=zrange, \n",
    "                    yrange=Erange, \n",
    "                    nbins=nbins, \n",
    "                    fitpar=(50000,-300), label=(\"Drift time ($\\mu$s)\", \"S2 energy (pes)\"))\n",
    "\n",
    "print_fit(F)\n",
    "print('chi2 = {}'.format(chi2(F, x, y, sy)))"
   ]
  },
  {
   "cell_type": "markdown",
   "metadata": {},
   "source": [
    "#### Constrain fiducial in z"
   ]
  },
  {
   "cell_type": "code",
   "execution_count": 67,
   "metadata": {
    "collapsed": false
   },
   "outputs": [
    {
     "name": "stdout",
     "output_type": "stream",
     "text": [
      "Ratio wrt full: 0.18187562054337034\n"
     ]
    }
   ],
   "source": [
    "cz = core[in_range(core.Z ,50, 400)]\n",
    "print(\"Ratio wrt full:\", len(cz)/len(full))"
   ]
  },
  {
   "cell_type": "markdown",
   "metadata": {},
   "source": [
    "#### Fit S2 in fiducial "
   ]
  },
  {
   "cell_type": "code",
   "execution_count": 68,
   "metadata": {
    "collapsed": false
   },
   "outputs": [
    {
     "name": "stdout",
     "output_type": "stream",
     "text": [
      "fit par[0] = 67679.2201093982 error = 244.65424431440124\n",
      "fit par[1] = -427.73037673261484 error = 2.747814413329468\n",
      "degrees of freedom = 2\n",
      "chi2 = 0.7059040985497654\n"
     ]
    },
    {
     "data": {
      "image/png": "[encoded data removed]",
      "text/plain": [
       "<matplotlib.figure.Figure at 0x11986d898>"
      ]
     },
     "metadata": {},
     "output_type": "display_data"
    }
   ],
   "source": [
    "zrange =   50, 400\n",
    "Erange = 1e+3, 70e3\n",
    "nbins = 10\n",
    "F, x, y, sy = profile_and_fit(cz.Z, cz.S2e, \n",
    "                    xrange=zrange, \n",
    "                    yrange=Erange, \n",
    "                    nbins=nbins, \n",
    "                    fitpar=(50000,-300), label=(\"Drift time ($\\mu$s)\", \"S2 energy (pes)\"))\n",
    "\n",
    "print_fit(F)\n",
    "print('chi2 = {}'.format(chi2(F, x, y, sy)))"
   ]
  },
  {
   "cell_type": "markdown",
   "metadata": {},
   "source": [
    "### S2 corrections"
   ]
  },
  {
   "cell_type": "code",
   "execution_count": 69,
   "metadata": {
    "collapsed": false
   },
   "outputs": [
    {
     "name": "stdout",
     "output_type": "stream",
     "text": [
      "t0 = 2017-04-26 21:03:18 t1 = 2017-04-26 22:24:56\n"
     ]
    }
   ],
   "source": [
    "st0 = time_from_timestamp(full.time[0])\n",
    "st1 = time_from_timestamp(full.time[-1:])\n",
    "print('t0 = {} t1 = {}'.format(st0,st1))"
   ]
  },
  {
   "cell_type": "code",
   "execution_count": 70,
   "metadata": {
    "collapsed": false
   },
   "outputs": [
    {
     "data": {
      "text/plain": [
       "2015"
      ]
     },
     "execution_count": 70,
     "metadata": {},
     "output_type": "execute_result"
    }
   ],
   "source": [
    "len(cz)"
   ]
  },
  {
   "cell_type": "code",
   "execution_count": 71,
   "metadata": {
    "collapsed": false,
    "scrolled": false
   },
   "outputs": [
    {
     "name": "stdout",
     "output_type": "stream",
     "text": [
      "using data set with length 2015\n",
      "t0 = 2017-04-26 21:03:18 (index = 0) t1 = 2017-04-26 22:24:56 (index = 2015)\n",
      "bin length = 671\n",
      " ---fit over events between 0 and 671\n",
      "time0 = 2017-04-26 21:03:18 time1 = 2017-04-26 21:29:56\n",
      "size of time leg = 671\n",
      "fit par[0] = 72834.7051845863 error = 1022.1713111174479\n",
      "fit par[1] = -426.2382346741455 error = 10.627394028501378\n",
      "degrees of freedom = 2\n",
      "chi2 = 2.2490624807524573\n",
      " ---fit over events between 671 and 1342\n",
      "time0 = 2017-04-26 21:29:56 time1 = 2017-04-26 21:56:52\n",
      "size of time leg = 671\n",
      "fit par[0] = 67660.58049097624 error = 291.63066498825344\n",
      "fit par[1] = -419.9847448286545 error = 3.131063159015337\n",
      "degrees of freedom = 2\n",
      "chi2 = 0.6373864617040194\n",
      " ---fit over events between 1342 and 2013\n",
      "time0 = 2017-04-26 21:56:52 time1 = 2017-04-26 22:24:54\n",
      "size of time leg = 671\n",
      "fit par[0] = 64518.54034226514 error = 777.3644338222063\n",
      "fit par[1] = -423.27694105718837 error = 8.88143532499328\n",
      "degrees of freedom = 2\n",
      "chi2 = 1.9759821300033615\n"
     ]
    },
    {
     "data": {
      "image/png": "[encoded data removed]",
      "text/plain": [
       "<matplotlib.figure.Figure at 0x119700128>"
      ]
     },
     "metadata": {},
     "output_type": "display_data"
    }
   ],
   "source": [
    "CHI2, LAMBDA, ELAMBDA, TSTAMP, TIME = lifetime(dst=cz, zrange=(50,400), Erange=(1e+3, 80e3), nbins=3)"
   ]
  },
  {
   "cell_type": "code",
   "execution_count": 72,
   "metadata": {
    "collapsed": true
   },
   "outputs": [],
   "source": [
    "plot_options()"
   ]
  },
  {
   "cell_type": "code",
   "execution_count": 73,
   "metadata": {
    "collapsed": false
   },
   "outputs": [
    {
     "data": {
      "text/plain": [
       "['2017-04-26 21:29:56', '2017-04-26 21:56:52', '2017-04-26 22:24:54']"
      ]
     },
     "execution_count": 73,
     "metadata": {},
     "output_type": "execute_result"
    }
   ],
   "source": [
    "TSTAMP"
   ]
  },
  {
   "cell_type": "code",
   "execution_count": 74,
   "metadata": {
    "collapsed": false,
    "scrolled": true
   },
   "outputs": [
    {
     "data": {
      "image/png": "[encoded data removed]",
      "text/plain": [
       "<matplotlib.figure.Figure at 0x119c45e10>"
      ]
     },
     "metadata": {},
     "output_type": "display_data"
    }
   ],
   "source": [
    "figsize=(24,12)\n",
    "plt.figure(figsize=figsize)\n",
    "plt.errorbar(TIME, -np.array(LAMBDA), yerr=ELAMBDA, linestyle='none', fmt='o')\n",
    "plt.ylabel('mus')\n",
    "plt.title('{}: Lifetime as a function of T'.format(run_number))\n",
    "plt.show()"
   ]
  },
  {
   "cell_type": "code",
   "execution_count": 75,
   "metadata": {
    "collapsed": false
   },
   "outputs": [
    {
     "name": "stdout",
     "output_type": "stream",
     "text": [
      "423.276941057 8.88143532499\n"
     ]
    }
   ],
   "source": [
    "print(-np.array(LAMBDA)[-1], np.array(ELAMBDA)[-1])\n"
   ]
  },
  {
   "cell_type": "code",
   "execution_count": null,
   "metadata": {
    "collapsed": true
   },
   "outputs": [],
   "source": []
  },
  {
   "cell_type": "code",
   "execution_count": null,
   "metadata": {
    "collapsed": true
   },
   "outputs": [],
   "source": []
  },
  {
   "cell_type": "code",
   "execution_count": null,
   "metadata": {
    "collapsed": true
   },
   "outputs": [],
   "source": []
  },
  {
   "cell_type": "code",
   "execution_count": null,
   "metadata": {
    "collapsed": true
   },
   "outputs": [],
   "source": []
  },
  {
   "cell_type": "code",
   "execution_count": null,
   "metadata": {
    "collapsed": true
   },
   "outputs": [],
   "source": []
  },
  {
   "cell_type": "code",
   "execution_count": 76,
   "metadata": {
    "collapsed": false
   },
   "outputs": [
    {
     "name": "stdout",
     "output_type": "stream",
     "text": [
      "['/Users/alej/Desktop/IC_DATA/LSC/logs/pressure/Plot_Log/GAS_Log_2017-04-15.txt', '/Users/alej/Desktop/IC_DATA/LSC/logs/pressure/Plot_Log/GAS_Log_2017-04-16.txt', '/Users/alej/Desktop/IC_DATA/LSC/logs/pressure/Plot_Log/GAS_Log_2017-04-17.txt', '/Users/alej/Desktop/IC_DATA/LSC/logs/pressure/Plot_Log/GAS_Log_2017-04-18.txt', '/Users/alej/Desktop/IC_DATA/LSC/logs/pressure/Plot_Log/GAS_Log_2017-04-19.txt', '/Users/alej/Desktop/IC_DATA/LSC/logs/pressure/Plot_Log/GAS_Log_2017-04-20.txt']\n"
     ]
    }
   ],
   "source": [
    "plog = os.path.join(os.environ['IC_DATA'], 'LSC/logs/pressure/Plot_Log/')\n",
    "pfiles = [plog + 'GAS_Log_2017-04-15.txt',\n",
    "          plog + 'GAS_Log_2017-04-16.txt',\n",
    "          plog + 'GAS_Log_2017-04-17.txt',\n",
    "          plog + 'GAS_Log_2017-04-18.txt',\n",
    "          plog + 'GAS_Log_2017-04-19.txt',\n",
    "          plog + 'GAS_Log_2017-04-20.txt']\n",
    "print(pfiles)"
   ]
  },
  {
   "cell_type": "code",
   "execution_count": 77,
   "metadata": {
    "collapsed": false
   },
   "outputs": [
    {
     "data": {
      "text/html": [
       "<div>\n",
       "<table border=\"1\" class=\"dataframe\">\n",
       "  <thead>\n",
       "    <tr style=\"text-align: right;\">\n",
       "      <th></th>\n",
       "      <th>Date</th>\n",
       "      <th>Hour</th>\n",
       "      <th>VG1</th>\n",
       "      <th>VG2</th>\n",
       "      <th>VG3</th>\n",
       "      <th>VG4</th>\n",
       "      <th>PG1</th>\n",
       "      <th>PG2</th>\n",
       "      <th>PG3</th>\n",
       "      <th>PG4</th>\n",
       "      <th>PG5</th>\n",
       "      <th>PG6</th>\n",
       "      <th>PGR2.2</th>\n",
       "    </tr>\n",
       "  </thead>\n",
       "  <tbody>\n",
       "    <tr>\n",
       "      <th>0</th>\n",
       "      <td>15/04/2017</td>\n",
       "      <td>0:00:19</td>\n",
       "      <td>0.000020</td>\n",
       "      <td>0.000003</td>\n",
       "      <td>0.000001</td>\n",
       "      <td>1.937365</td>\n",
       "      <td>-0.133545</td>\n",
       "      <td>9.675583</td>\n",
       "      <td>6.942719</td>\n",
       "      <td>9.101624</td>\n",
       "      <td>6.696808</td>\n",
       "      <td>6.138596</td>\n",
       "      <td>7.672455</td>\n",
       "    </tr>\n",
       "    <tr>\n",
       "      <th>1</th>\n",
       "      <td>15/04/2017</td>\n",
       "      <td>0:00:50</td>\n",
       "      <td>0.000020</td>\n",
       "      <td>0.000003</td>\n",
       "      <td>0.000001</td>\n",
       "      <td>1.937365</td>\n",
       "      <td>-0.134079</td>\n",
       "      <td>9.639053</td>\n",
       "      <td>6.937912</td>\n",
       "      <td>9.081482</td>\n",
       "      <td>6.706039</td>\n",
       "      <td>6.171326</td>\n",
       "      <td>7.675812</td>\n",
       "    </tr>\n",
       "    <tr>\n",
       "      <th>2</th>\n",
       "      <td>15/04/2017</td>\n",
       "      <td>0:01:20</td>\n",
       "      <td>0.000020</td>\n",
       "      <td>0.000003</td>\n",
       "      <td>0.000001</td>\n",
       "      <td>1.937365</td>\n",
       "      <td>-0.130875</td>\n",
       "      <td>9.581650</td>\n",
       "      <td>6.950729</td>\n",
       "      <td>9.091553</td>\n",
       "      <td>6.659882</td>\n",
       "      <td>6.236786</td>\n",
       "      <td>7.672455</td>\n",
       "    </tr>\n",
       "    <tr>\n",
       "      <th>3</th>\n",
       "      <td>15/04/2017</td>\n",
       "      <td>0:01:51</td>\n",
       "      <td>0.000020</td>\n",
       "      <td>0.000003</td>\n",
       "      <td>0.000001</td>\n",
       "      <td>1.937365</td>\n",
       "      <td>-0.135681</td>\n",
       "      <td>9.670364</td>\n",
       "      <td>6.939514</td>\n",
       "      <td>9.059662</td>\n",
       "      <td>6.692612</td>\n",
       "      <td>6.274551</td>\n",
       "      <td>7.668259</td>\n",
       "    </tr>\n",
       "    <tr>\n",
       "      <th>4</th>\n",
       "      <td>15/04/2017</td>\n",
       "      <td>0:02:22</td>\n",
       "      <td>0.000020</td>\n",
       "      <td>0.000003</td>\n",
       "      <td>0.000001</td>\n",
       "      <td>1.937138</td>\n",
       "      <td>-0.136749</td>\n",
       "      <td>9.628616</td>\n",
       "      <td>6.936844</td>\n",
       "      <td>9.054626</td>\n",
       "      <td>6.687576</td>\n",
       "      <td>6.194824</td>\n",
       "      <td>7.669098</td>\n",
       "    </tr>\n",
       "    <tr>\n",
       "      <th>5</th>\n",
       "      <td>15/04/2017</td>\n",
       "      <td>0:02:52</td>\n",
       "      <td>0.000021</td>\n",
       "      <td>0.000003</td>\n",
       "      <td>0.000001</td>\n",
       "      <td>1.937365</td>\n",
       "      <td>-0.139420</td>\n",
       "      <td>9.748642</td>\n",
       "      <td>6.948593</td>\n",
       "      <td>9.055466</td>\n",
       "      <td>6.707718</td>\n",
       "      <td>6.141113</td>\n",
       "      <td>7.674133</td>\n",
       "    </tr>\n",
       "    <tr>\n",
       "      <th>6</th>\n",
       "      <td>15/04/2017</td>\n",
       "      <td>0:03:22</td>\n",
       "      <td>0.000020</td>\n",
       "      <td>0.000003</td>\n",
       "      <td>0.000001</td>\n",
       "      <td>1.937592</td>\n",
       "      <td>-0.131943</td>\n",
       "      <td>9.487717</td>\n",
       "      <td>6.949661</td>\n",
       "      <td>9.062180</td>\n",
       "      <td>6.677505</td>\n",
       "      <td>6.157898</td>\n",
       "      <td>7.669098</td>\n",
       "    </tr>\n",
       "    <tr>\n",
       "      <th>7</th>\n",
       "      <td>15/04/2017</td>\n",
       "      <td>0:03:53</td>\n",
       "      <td>0.000020</td>\n",
       "      <td>0.000003</td>\n",
       "      <td>0.000001</td>\n",
       "      <td>1.937365</td>\n",
       "      <td>-0.134613</td>\n",
       "      <td>9.769516</td>\n",
       "      <td>6.942719</td>\n",
       "      <td>9.048752</td>\n",
       "      <td>6.676666</td>\n",
       "      <td>6.215805</td>\n",
       "      <td>7.669098</td>\n",
       "    </tr>\n",
       "    <tr>\n",
       "      <th>8</th>\n",
       "      <td>15/04/2017</td>\n",
       "      <td>0:04:23</td>\n",
       "      <td>0.000020</td>\n",
       "      <td>0.000003</td>\n",
       "      <td>0.000001</td>\n",
       "      <td>1.937365</td>\n",
       "      <td>-0.132477</td>\n",
       "      <td>9.560776</td>\n",
       "      <td>6.955002</td>\n",
       "      <td>9.063019</td>\n",
       "      <td>6.668274</td>\n",
       "      <td>6.281265</td>\n",
       "      <td>7.673294</td>\n",
       "    </tr>\n",
       "    <tr>\n",
       "      <th>9</th>\n",
       "      <td>15/04/2017</td>\n",
       "      <td>0:04:54</td>\n",
       "      <td>0.000020</td>\n",
       "      <td>0.000003</td>\n",
       "      <td>0.000001</td>\n",
       "      <td>1.937365</td>\n",
       "      <td>-0.137283</td>\n",
       "      <td>9.837357</td>\n",
       "      <td>6.948059</td>\n",
       "      <td>9.064697</td>\n",
       "      <td>6.680023</td>\n",
       "      <td>6.354279</td>\n",
       "      <td>7.669098</td>\n",
       "    </tr>\n",
       "    <tr>\n",
       "      <th>10</th>\n",
       "      <td>15/04/2017</td>\n",
       "      <td>0:05:24</td>\n",
       "      <td>0.000020</td>\n",
       "      <td>0.000003</td>\n",
       "      <td>0.000001</td>\n",
       "      <td>1.937138</td>\n",
       "      <td>-0.129807</td>\n",
       "      <td>9.597305</td>\n",
       "      <td>6.948059</td>\n",
       "      <td>9.071411</td>\n",
       "      <td>6.680023</td>\n",
       "      <td>6.147827</td>\n",
       "      <td>7.670776</td>\n",
       "    </tr>\n",
       "    <tr>\n",
       "      <th>11</th>\n",
       "      <td>15/04/2017</td>\n",
       "      <td>0:05:54</td>\n",
       "      <td>0.000020</td>\n",
       "      <td>0.000003</td>\n",
       "      <td>0.000001</td>\n",
       "      <td>1.937365</td>\n",
       "      <td>-0.134079</td>\n",
       "      <td>9.738205</td>\n",
       "      <td>6.940582</td>\n",
       "      <td>9.050430</td>\n",
       "      <td>6.691772</td>\n",
       "      <td>6.182236</td>\n",
       "      <td>7.670776</td>\n",
       "    </tr>\n",
       "    <tr>\n",
       "      <th>12</th>\n",
       "      <td>15/04/2017</td>\n",
       "      <td>0:06:25</td>\n",
       "      <td>0.000020</td>\n",
       "      <td>0.000003</td>\n",
       "      <td>0.000001</td>\n",
       "      <td>1.937365</td>\n",
       "      <td>-0.130341</td>\n",
       "      <td>9.581650</td>\n",
       "      <td>6.944855</td>\n",
       "      <td>9.067215</td>\n",
       "      <td>6.685898</td>\n",
       "      <td>6.252731</td>\n",
       "      <td>7.672455</td>\n",
       "    </tr>\n",
       "    <tr>\n",
       "      <th>13</th>\n",
       "      <td>15/04/2017</td>\n",
       "      <td>0:06:55</td>\n",
       "      <td>0.000020</td>\n",
       "      <td>0.000003</td>\n",
       "      <td>0.000001</td>\n",
       "      <td>1.937592</td>\n",
       "      <td>-0.131409</td>\n",
       "      <td>9.618179</td>\n",
       "      <td>6.950729</td>\n",
       "      <td>9.066376</td>\n",
       "      <td>6.695129</td>\n",
       "      <td>6.161255</td>\n",
       "      <td>7.670776</td>\n",
       "    </tr>\n",
       "    <tr>\n",
       "      <th>14</th>\n",
       "      <td>15/04/2017</td>\n",
       "      <td>0:07:25</td>\n",
       "      <td>0.000020</td>\n",
       "      <td>0.000003</td>\n",
       "      <td>0.000001</td>\n",
       "      <td>1.937365</td>\n",
       "      <td>-0.133545</td>\n",
       "      <td>9.654709</td>\n",
       "      <td>6.941116</td>\n",
       "      <td>9.054626</td>\n",
       "      <td>6.695129</td>\n",
       "      <td>6.145309</td>\n",
       "      <td>7.674133</td>\n",
       "    </tr>\n",
       "    <tr>\n",
       "      <th>15</th>\n",
       "      <td>15/04/2017</td>\n",
       "      <td>0:07:56</td>\n",
       "      <td>0.000020</td>\n",
       "      <td>0.000003</td>\n",
       "      <td>0.000001</td>\n",
       "      <td>1.937592</td>\n",
       "      <td>-0.135147</td>\n",
       "      <td>9.670364</td>\n",
       "      <td>6.944321</td>\n",
       "      <td>9.059662</td>\n",
       "      <td>6.713593</td>\n",
       "      <td>6.167969</td>\n",
       "      <td>7.674133</td>\n",
       "    </tr>\n",
       "    <tr>\n",
       "      <th>16</th>\n",
       "      <td>15/04/2017</td>\n",
       "      <td>0:08:26</td>\n",
       "      <td>0.000020</td>\n",
       "      <td>0.000003</td>\n",
       "      <td>0.000001</td>\n",
       "      <td>1.937592</td>\n",
       "      <td>-0.135681</td>\n",
       "      <td>9.618179</td>\n",
       "      <td>6.944855</td>\n",
       "      <td>9.051270</td>\n",
       "      <td>6.690933</td>\n",
       "      <td>6.230072</td>\n",
       "      <td>7.670776</td>\n",
       "    </tr>\n",
       "    <tr>\n",
       "      <th>17</th>\n",
       "      <td>15/04/2017</td>\n",
       "      <td>0:08:57</td>\n",
       "      <td>0.000020</td>\n",
       "      <td>0.000003</td>\n",
       "      <td>0.000001</td>\n",
       "      <td>1.937365</td>\n",
       "      <td>-0.130875</td>\n",
       "      <td>9.670364</td>\n",
       "      <td>6.937912</td>\n",
       "      <td>9.053787</td>\n",
       "      <td>6.682541</td>\n",
       "      <td>6.302246</td>\n",
       "      <td>7.674133</td>\n",
       "    </tr>\n",
       "    <tr>\n",
       "      <th>18</th>\n",
       "      <td>15/04/2017</td>\n",
       "      <td>0:09:27</td>\n",
       "      <td>0.000020</td>\n",
       "      <td>0.000003</td>\n",
       "      <td>0.000001</td>\n",
       "      <td>1.937365</td>\n",
       "      <td>-0.130341</td>\n",
       "      <td>9.492935</td>\n",
       "      <td>6.928299</td>\n",
       "      <td>9.063019</td>\n",
       "      <td>6.660721</td>\n",
       "      <td>6.372742</td>\n",
       "      <td>7.672455</td>\n",
       "    </tr>\n",
       "    <tr>\n",
       "      <th>19</th>\n",
       "      <td>15/04/2017</td>\n",
       "      <td>0:09:58</td>\n",
       "      <td>0.000020</td>\n",
       "      <td>0.000003</td>\n",
       "      <td>0.000001</td>\n",
       "      <td>1.937592</td>\n",
       "      <td>-0.136215</td>\n",
       "      <td>9.524246</td>\n",
       "      <td>6.935242</td>\n",
       "      <td>9.074768</td>\n",
       "      <td>6.669113</td>\n",
       "      <td>6.411346</td>\n",
       "      <td>7.665741</td>\n",
       "    </tr>\n",
       "    <tr>\n",
       "      <th>20</th>\n",
       "      <td>15/04/2017</td>\n",
       "      <td>0:10:28</td>\n",
       "      <td>0.000020</td>\n",
       "      <td>0.000003</td>\n",
       "      <td>0.000001</td>\n",
       "      <td>1.937365</td>\n",
       "      <td>-0.127136</td>\n",
       "      <td>9.555557</td>\n",
       "      <td>6.949127</td>\n",
       "      <td>9.058823</td>\n",
       "      <td>6.684219</td>\n",
       "      <td>6.147827</td>\n",
       "      <td>7.671616</td>\n",
       "    </tr>\n",
       "    <tr>\n",
       "      <th>21</th>\n",
       "      <td>15/04/2017</td>\n",
       "      <td>0:10:59</td>\n",
       "      <td>0.000020</td>\n",
       "      <td>0.000003</td>\n",
       "      <td>0.000001</td>\n",
       "      <td>1.937819</td>\n",
       "      <td>-0.134613</td>\n",
       "      <td>9.623398</td>\n",
       "      <td>6.943253</td>\n",
       "      <td>9.060501</td>\n",
       "      <td>6.704361</td>\n",
       "      <td>6.200699</td>\n",
       "      <td>7.672455</td>\n",
       "    </tr>\n",
       "    <tr>\n",
       "      <th>22</th>\n",
       "      <td>15/04/2017</td>\n",
       "      <td>0:11:29</td>\n",
       "      <td>0.000020</td>\n",
       "      <td>0.000003</td>\n",
       "      <td>0.000001</td>\n",
       "      <td>1.937365</td>\n",
       "      <td>-0.131943</td>\n",
       "      <td>9.519028</td>\n",
       "      <td>6.940048</td>\n",
       "      <td>9.069733</td>\n",
       "      <td>6.711914</td>\n",
       "      <td>6.235947</td>\n",
       "      <td>7.673294</td>\n",
       "    </tr>\n",
       "    <tr>\n",
       "      <th>23</th>\n",
       "      <td>15/04/2017</td>\n",
       "      <td>0:12:00</td>\n",
       "      <td>0.000020</td>\n",
       "      <td>0.000003</td>\n",
       "      <td>0.000001</td>\n",
       "      <td>1.937365</td>\n",
       "      <td>-0.135147</td>\n",
       "      <td>9.623398</td>\n",
       "      <td>6.945389</td>\n",
       "      <td>9.063858</td>\n",
       "      <td>6.689255</td>\n",
       "      <td>6.155380</td>\n",
       "      <td>7.669937</td>\n",
       "    </tr>\n",
       "    <tr>\n",
       "      <th>24</th>\n",
       "      <td>15/04/2017</td>\n",
       "      <td>0:12:30</td>\n",
       "      <td>0.000020</td>\n",
       "      <td>0.000003</td>\n",
       "      <td>0.000001</td>\n",
       "      <td>1.937365</td>\n",
       "      <td>-0.131943</td>\n",
       "      <td>9.529465</td>\n",
       "      <td>6.938446</td>\n",
       "      <td>9.063858</td>\n",
       "      <td>6.692612</td>\n",
       "      <td>6.138596</td>\n",
       "      <td>7.669098</td>\n",
       "    </tr>\n",
       "    <tr>\n",
       "      <th>25</th>\n",
       "      <td>15/04/2017</td>\n",
       "      <td>0:13:00</td>\n",
       "      <td>0.000020</td>\n",
       "      <td>0.000003</td>\n",
       "      <td>0.000001</td>\n",
       "      <td>1.937592</td>\n",
       "      <td>-0.134079</td>\n",
       "      <td>9.545120</td>\n",
       "      <td>6.938446</td>\n",
       "      <td>9.059662</td>\n",
       "      <td>6.682541</td>\n",
       "      <td>6.172165</td>\n",
       "      <td>7.669098</td>\n",
       "    </tr>\n",
       "    <tr>\n",
       "      <th>26</th>\n",
       "      <td>15/04/2017</td>\n",
       "      <td>0:13:30</td>\n",
       "      <td>0.000020</td>\n",
       "      <td>0.000003</td>\n",
       "      <td>0.000001</td>\n",
       "      <td>1.937365</td>\n",
       "      <td>-0.133011</td>\n",
       "      <td>9.592087</td>\n",
       "      <td>6.931503</td>\n",
       "      <td>9.065536</td>\n",
       "      <td>6.697647</td>\n",
       "      <td>6.267838</td>\n",
       "      <td>7.666580</td>\n",
       "    </tr>\n",
       "    <tr>\n",
       "      <th>27</th>\n",
       "      <td>15/04/2017</td>\n",
       "      <td>0:14:01</td>\n",
       "      <td>0.000020</td>\n",
       "      <td>0.000003</td>\n",
       "      <td>0.000001</td>\n",
       "      <td>1.937138</td>\n",
       "      <td>-0.131409</td>\n",
       "      <td>9.508591</td>\n",
       "      <td>6.945923</td>\n",
       "      <td>9.063858</td>\n",
       "      <td>6.669113</td>\n",
       "      <td>6.180557</td>\n",
       "      <td>7.669937</td>\n",
       "    </tr>\n",
       "    <tr>\n",
       "      <th>28</th>\n",
       "      <td>15/04/2017</td>\n",
       "      <td>0:14:31</td>\n",
       "      <td>0.000020</td>\n",
       "      <td>0.000003</td>\n",
       "      <td>0.000001</td>\n",
       "      <td>1.937592</td>\n",
       "      <td>-0.136215</td>\n",
       "      <td>9.586868</td>\n",
       "      <td>6.938980</td>\n",
       "      <td>9.050430</td>\n",
       "      <td>6.665756</td>\n",
       "      <td>6.408829</td>\n",
       "      <td>7.672455</td>\n",
       "    </tr>\n",
       "    <tr>\n",
       "      <th>29</th>\n",
       "      <td>15/04/2017</td>\n",
       "      <td>0:15:01</td>\n",
       "      <td>0.000020</td>\n",
       "      <td>0.000003</td>\n",
       "      <td>0.000001</td>\n",
       "      <td>1.937592</td>\n",
       "      <td>-0.135147</td>\n",
       "      <td>9.649490</td>\n",
       "      <td>6.935242</td>\n",
       "      <td>9.052948</td>\n",
       "      <td>6.693451</td>\n",
       "      <td>6.375259</td>\n",
       "      <td>7.670776</td>\n",
       "    </tr>\n",
       "    <tr>\n",
       "      <th>...</th>\n",
       "      <td>...</td>\n",
       "      <td>...</td>\n",
       "      <td>...</td>\n",
       "      <td>...</td>\n",
       "      <td>...</td>\n",
       "      <td>...</td>\n",
       "      <td>...</td>\n",
       "      <td>...</td>\n",
       "      <td>...</td>\n",
       "      <td>...</td>\n",
       "      <td>...</td>\n",
       "      <td>...</td>\n",
       "      <td>...</td>\n",
       "    </tr>\n",
       "    <tr>\n",
       "      <th>2813</th>\n",
       "      <td>15/04/2017</td>\n",
       "      <td>23:45:25</td>\n",
       "      <td>0.000019</td>\n",
       "      <td>0.000003</td>\n",
       "      <td>0.000001</td>\n",
       "      <td>1.940090</td>\n",
       "      <td>-0.131943</td>\n",
       "      <td>9.607742</td>\n",
       "      <td>6.909073</td>\n",
       "      <td>9.041199</td>\n",
       "      <td>6.654846</td>\n",
       "      <td>6.115097</td>\n",
       "      <td>7.669937</td>\n",
       "    </tr>\n",
       "    <tr>\n",
       "      <th>2814</th>\n",
       "      <td>15/04/2017</td>\n",
       "      <td>23:45:55</td>\n",
       "      <td>0.000019</td>\n",
       "      <td>0.000003</td>\n",
       "      <td>0.000001</td>\n",
       "      <td>1.939863</td>\n",
       "      <td>-0.131943</td>\n",
       "      <td>9.722549</td>\n",
       "      <td>6.914948</td>\n",
       "      <td>9.021896</td>\n",
       "      <td>6.648132</td>\n",
       "      <td>6.337494</td>\n",
       "      <td>7.671616</td>\n",
       "    </tr>\n",
       "    <tr>\n",
       "      <th>2815</th>\n",
       "      <td>15/04/2017</td>\n",
       "      <td>23:46:26</td>\n",
       "      <td>0.000019</td>\n",
       "      <td>0.000003</td>\n",
       "      <td>0.000001</td>\n",
       "      <td>1.939863</td>\n",
       "      <td>-0.133545</td>\n",
       "      <td>9.806046</td>\n",
       "      <td>6.915482</td>\n",
       "      <td>9.021896</td>\n",
       "      <td>6.656525</td>\n",
       "      <td>6.263641</td>\n",
       "      <td>7.669937</td>\n",
       "    </tr>\n",
       "    <tr>\n",
       "      <th>2816</th>\n",
       "      <td>15/04/2017</td>\n",
       "      <td>23:46:56</td>\n",
       "      <td>0.000019</td>\n",
       "      <td>0.000003</td>\n",
       "      <td>0.000001</td>\n",
       "      <td>1.939863</td>\n",
       "      <td>-0.134613</td>\n",
       "      <td>9.910416</td>\n",
       "      <td>6.915482</td>\n",
       "      <td>9.016022</td>\n",
       "      <td>6.664078</td>\n",
       "      <td>6.163773</td>\n",
       "      <td>7.670776</td>\n",
       "    </tr>\n",
       "    <tr>\n",
       "      <th>2817</th>\n",
       "      <td>15/04/2017</td>\n",
       "      <td>23:47:26</td>\n",
       "      <td>0.000019</td>\n",
       "      <td>0.000003</td>\n",
       "      <td>0.000001</td>\n",
       "      <td>1.940090</td>\n",
       "      <td>-0.133011</td>\n",
       "      <td>9.889542</td>\n",
       "      <td>6.922958</td>\n",
       "      <td>9.026093</td>\n",
       "      <td>6.655685</td>\n",
       "      <td>6.382812</td>\n",
       "      <td>7.670776</td>\n",
       "    </tr>\n",
       "    <tr>\n",
       "      <th>2818</th>\n",
       "      <td>15/04/2017</td>\n",
       "      <td>23:47:57</td>\n",
       "      <td>0.000019</td>\n",
       "      <td>0.000003</td>\n",
       "      <td>0.000001</td>\n",
       "      <td>1.939863</td>\n",
       "      <td>-0.134079</td>\n",
       "      <td>9.962601</td>\n",
       "      <td>6.907471</td>\n",
       "      <td>9.019379</td>\n",
       "      <td>6.664078</td>\n",
       "      <td>6.366867</td>\n",
       "      <td>7.675812</td>\n",
       "    </tr>\n",
       "    <tr>\n",
       "      <th>2819</th>\n",
       "      <td>15/04/2017</td>\n",
       "      <td>23:48:27</td>\n",
       "      <td>0.000019</td>\n",
       "      <td>0.000003</td>\n",
       "      <td>0.000001</td>\n",
       "      <td>1.939863</td>\n",
       "      <td>-0.136215</td>\n",
       "      <td>9.743423</td>\n",
       "      <td>6.915482</td>\n",
       "      <td>9.023575</td>\n",
       "      <td>6.666595</td>\n",
       "      <td>6.304764</td>\n",
       "      <td>7.669098</td>\n",
       "    </tr>\n",
       "    <tr>\n",
       "      <th>2820</th>\n",
       "      <td>15/04/2017</td>\n",
       "      <td>23:48:58</td>\n",
       "      <td>0.000019</td>\n",
       "      <td>0.000003</td>\n",
       "      <td>0.000001</td>\n",
       "      <td>1.939863</td>\n",
       "      <td>-0.132477</td>\n",
       "      <td>9.764297</td>\n",
       "      <td>6.908539</td>\n",
       "      <td>9.018539</td>\n",
       "      <td>6.657364</td>\n",
       "      <td>6.227554</td>\n",
       "      <td>7.672455</td>\n",
       "    </tr>\n",
       "    <tr>\n",
       "      <th>2821</th>\n",
       "      <td>15/04/2017</td>\n",
       "      <td>23:49:28</td>\n",
       "      <td>0.000019</td>\n",
       "      <td>0.000003</td>\n",
       "      <td>0.000001</td>\n",
       "      <td>1.940090</td>\n",
       "      <td>-0.133545</td>\n",
       "      <td>9.842575</td>\n",
       "      <td>6.905334</td>\n",
       "      <td>9.013504</td>\n",
       "      <td>6.657364</td>\n",
       "      <td>6.376938</td>\n",
       "      <td>7.672455</td>\n",
       "    </tr>\n",
       "    <tr>\n",
       "      <th>2822</th>\n",
       "      <td>15/04/2017</td>\n",
       "      <td>23:49:58</td>\n",
       "      <td>0.000019</td>\n",
       "      <td>0.000003</td>\n",
       "      <td>0.000001</td>\n",
       "      <td>1.939863</td>\n",
       "      <td>-0.135681</td>\n",
       "      <td>9.837357</td>\n",
       "      <td>6.915482</td>\n",
       "      <td>9.024414</td>\n",
       "      <td>6.672470</td>\n",
       "      <td>6.381134</td>\n",
       "      <td>7.669098</td>\n",
       "    </tr>\n",
       "    <tr>\n",
       "      <th>2823</th>\n",
       "      <td>15/04/2017</td>\n",
       "      <td>23:50:29</td>\n",
       "      <td>0.000019</td>\n",
       "      <td>0.000003</td>\n",
       "      <td>0.000001</td>\n",
       "      <td>1.939863</td>\n",
       "      <td>-0.131409</td>\n",
       "      <td>9.853012</td>\n",
       "      <td>6.915482</td>\n",
       "      <td>9.014343</td>\n",
       "      <td>6.636383</td>\n",
       "      <td>6.345047</td>\n",
       "      <td>7.668259</td>\n",
       "    </tr>\n",
       "    <tr>\n",
       "      <th>2824</th>\n",
       "      <td>15/04/2017</td>\n",
       "      <td>23:50:59</td>\n",
       "      <td>0.000019</td>\n",
       "      <td>0.000003</td>\n",
       "      <td>0.000001</td>\n",
       "      <td>1.939863</td>\n",
       "      <td>-0.129272</td>\n",
       "      <td>9.696457</td>\n",
       "      <td>6.921356</td>\n",
       "      <td>9.026093</td>\n",
       "      <td>6.647293</td>\n",
       "      <td>6.275391</td>\n",
       "      <td>7.669937</td>\n",
       "    </tr>\n",
       "    <tr>\n",
       "      <th>2825</th>\n",
       "      <td>15/04/2017</td>\n",
       "      <td>23:51:29</td>\n",
       "      <td>0.000019</td>\n",
       "      <td>0.000003</td>\n",
       "      <td>0.000001</td>\n",
       "      <td>1.939863</td>\n",
       "      <td>-0.133011</td>\n",
       "      <td>9.899979</td>\n",
       "      <td>6.928833</td>\n",
       "      <td>9.021896</td>\n",
       "      <td>6.658203</td>\n",
       "      <td>6.350082</td>\n",
       "      <td>7.672455</td>\n",
       "    </tr>\n",
       "    <tr>\n",
       "      <th>2826</th>\n",
       "      <td>15/04/2017</td>\n",
       "      <td>23:52:00</td>\n",
       "      <td>0.000019</td>\n",
       "      <td>0.000003</td>\n",
       "      <td>0.000001</td>\n",
       "      <td>1.939863</td>\n",
       "      <td>-0.130875</td>\n",
       "      <td>9.732986</td>\n",
       "      <td>6.921890</td>\n",
       "      <td>9.030289</td>\n",
       "      <td>6.642258</td>\n",
       "      <td>6.131042</td>\n",
       "      <td>7.677490</td>\n",
       "    </tr>\n",
       "    <tr>\n",
       "      <th>2827</th>\n",
       "      <td>15/04/2017</td>\n",
       "      <td>23:52:30</td>\n",
       "      <td>0.000019</td>\n",
       "      <td>0.000003</td>\n",
       "      <td>0.000001</td>\n",
       "      <td>1.939863</td>\n",
       "      <td>-0.131943</td>\n",
       "      <td>9.811264</td>\n",
       "      <td>6.924026</td>\n",
       "      <td>9.021896</td>\n",
       "      <td>6.642258</td>\n",
       "      <td>6.116776</td>\n",
       "      <td>7.668259</td>\n",
       "    </tr>\n",
       "    <tr>\n",
       "      <th>2828</th>\n",
       "      <td>15/04/2017</td>\n",
       "      <td>23:53:01</td>\n",
       "      <td>0.000019</td>\n",
       "      <td>0.000003</td>\n",
       "      <td>0.000001</td>\n",
       "      <td>1.939863</td>\n",
       "      <td>-0.134079</td>\n",
       "      <td>9.806046</td>\n",
       "      <td>6.927765</td>\n",
       "      <td>9.026932</td>\n",
       "      <td>6.648132</td>\n",
       "      <td>6.178040</td>\n",
       "      <td>7.671616</td>\n",
       "    </tr>\n",
       "    <tr>\n",
       "      <th>2829</th>\n",
       "      <td>15/04/2017</td>\n",
       "      <td>23:53:31</td>\n",
       "      <td>0.000019</td>\n",
       "      <td>0.000003</td>\n",
       "      <td>0.000001</td>\n",
       "      <td>1.939636</td>\n",
       "      <td>-0.130341</td>\n",
       "      <td>9.633835</td>\n",
       "      <td>6.909073</td>\n",
       "      <td>9.028610</td>\n",
       "      <td>6.637222</td>\n",
       "      <td>6.249374</td>\n",
       "      <td>7.673294</td>\n",
       "    </tr>\n",
       "    <tr>\n",
       "      <th>2830</th>\n",
       "      <td>15/04/2017</td>\n",
       "      <td>23:54:02</td>\n",
       "      <td>0.000019</td>\n",
       "      <td>0.000003</td>\n",
       "      <td>0.000001</td>\n",
       "      <td>1.940090</td>\n",
       "      <td>-0.131943</td>\n",
       "      <td>9.785172</td>\n",
       "      <td>6.921356</td>\n",
       "      <td>9.005112</td>\n",
       "      <td>6.646454</td>\n",
       "      <td>6.134399</td>\n",
       "      <td>7.675812</td>\n",
       "    </tr>\n",
       "    <tr>\n",
       "      <th>2831</th>\n",
       "      <td>15/04/2017</td>\n",
       "      <td>23:54:32</td>\n",
       "      <td>0.000019</td>\n",
       "      <td>0.000003</td>\n",
       "      <td>0.000001</td>\n",
       "      <td>1.939863</td>\n",
       "      <td>-0.133545</td>\n",
       "      <td>9.811264</td>\n",
       "      <td>6.923492</td>\n",
       "      <td>9.028610</td>\n",
       "      <td>6.661560</td>\n",
       "      <td>6.110901</td>\n",
       "      <td>7.672455</td>\n",
       "    </tr>\n",
       "    <tr>\n",
       "      <th>2832</th>\n",
       "      <td>15/04/2017</td>\n",
       "      <td>23:55:02</td>\n",
       "      <td>0.000019</td>\n",
       "      <td>0.000003</td>\n",
       "      <td>0.000001</td>\n",
       "      <td>1.939863</td>\n",
       "      <td>-0.131943</td>\n",
       "      <td>9.884323</td>\n",
       "      <td>6.913345</td>\n",
       "      <td>9.016861</td>\n",
       "      <td>6.667435</td>\n",
       "      <td>6.141953</td>\n",
       "      <td>7.676651</td>\n",
       "    </tr>\n",
       "    <tr>\n",
       "      <th>2833</th>\n",
       "      <td>15/04/2017</td>\n",
       "      <td>23:55:33</td>\n",
       "      <td>0.000019</td>\n",
       "      <td>0.000003</td>\n",
       "      <td>0.000001</td>\n",
       "      <td>1.939863</td>\n",
       "      <td>-0.136749</td>\n",
       "      <td>9.858231</td>\n",
       "      <td>6.909073</td>\n",
       "      <td>9.017700</td>\n",
       "      <td>6.649811</td>\n",
       "      <td>6.258606</td>\n",
       "      <td>7.667419</td>\n",
       "    </tr>\n",
       "    <tr>\n",
       "      <th>2834</th>\n",
       "      <td>15/04/2017</td>\n",
       "      <td>23:56:03</td>\n",
       "      <td>0.000019</td>\n",
       "      <td>0.000003</td>\n",
       "      <td>0.000001</td>\n",
       "      <td>1.940090</td>\n",
       "      <td>-0.132477</td>\n",
       "      <td>9.800827</td>\n",
       "      <td>6.926163</td>\n",
       "      <td>9.023575</td>\n",
       "      <td>6.655685</td>\n",
       "      <td>6.277069</td>\n",
       "      <td>7.669937</td>\n",
       "    </tr>\n",
       "    <tr>\n",
       "      <th>2835</th>\n",
       "      <td>15/04/2017</td>\n",
       "      <td>23:56:33</td>\n",
       "      <td>0.000019</td>\n",
       "      <td>0.000003</td>\n",
       "      <td>0.000001</td>\n",
       "      <td>1.939636</td>\n",
       "      <td>-0.134079</td>\n",
       "      <td>9.920853</td>\n",
       "      <td>6.917084</td>\n",
       "      <td>9.018539</td>\n",
       "      <td>6.651489</td>\n",
       "      <td>6.111740</td>\n",
       "      <td>7.674973</td>\n",
       "    </tr>\n",
       "    <tr>\n",
       "      <th>2836</th>\n",
       "      <td>15/04/2017</td>\n",
       "      <td>23:57:04</td>\n",
       "      <td>0.000019</td>\n",
       "      <td>0.000003</td>\n",
       "      <td>0.000001</td>\n",
       "      <td>1.940090</td>\n",
       "      <td>-0.130341</td>\n",
       "      <td>9.811264</td>\n",
       "      <td>6.904800</td>\n",
       "      <td>9.016861</td>\n",
       "      <td>6.639740</td>\n",
       "      <td>6.362671</td>\n",
       "      <td>7.670776</td>\n",
       "    </tr>\n",
       "    <tr>\n",
       "      <th>2837</th>\n",
       "      <td>15/04/2017</td>\n",
       "      <td>23:57:34</td>\n",
       "      <td>0.000019</td>\n",
       "      <td>0.000003</td>\n",
       "      <td>0.000001</td>\n",
       "      <td>1.939636</td>\n",
       "      <td>-0.134613</td>\n",
       "      <td>9.821701</td>\n",
       "      <td>6.918152</td>\n",
       "      <td>9.029449</td>\n",
       "      <td>6.652328</td>\n",
       "      <td>6.167969</td>\n",
       "      <td>7.670776</td>\n",
       "    </tr>\n",
       "    <tr>\n",
       "      <th>2838</th>\n",
       "      <td>15/04/2017</td>\n",
       "      <td>23:58:04</td>\n",
       "      <td>0.000019</td>\n",
       "      <td>0.000003</td>\n",
       "      <td>0.000001</td>\n",
       "      <td>1.939863</td>\n",
       "      <td>-0.130341</td>\n",
       "      <td>9.842575</td>\n",
       "      <td>6.915482</td>\n",
       "      <td>9.019379</td>\n",
       "      <td>6.655685</td>\n",
       "      <td>6.220840</td>\n",
       "      <td>7.672455</td>\n",
       "    </tr>\n",
       "    <tr>\n",
       "      <th>2839</th>\n",
       "      <td>15/04/2017</td>\n",
       "      <td>23:58:35</td>\n",
       "      <td>0.000019</td>\n",
       "      <td>0.000003</td>\n",
       "      <td>0.000001</td>\n",
       "      <td>1.939863</td>\n",
       "      <td>-0.133011</td>\n",
       "      <td>9.816483</td>\n",
       "      <td>6.912277</td>\n",
       "      <td>9.017700</td>\n",
       "      <td>6.649811</td>\n",
       "      <td>6.134399</td>\n",
       "      <td>7.672455</td>\n",
       "    </tr>\n",
       "    <tr>\n",
       "      <th>2840</th>\n",
       "      <td>15/04/2017</td>\n",
       "      <td>23:59:05</td>\n",
       "      <td>0.000019</td>\n",
       "      <td>0.000003</td>\n",
       "      <td>0.000001</td>\n",
       "      <td>1.939636</td>\n",
       "      <td>-0.133011</td>\n",
       "      <td>9.853012</td>\n",
       "      <td>6.923492</td>\n",
       "      <td>9.030289</td>\n",
       "      <td>6.672470</td>\n",
       "      <td>6.111740</td>\n",
       "      <td>7.670776</td>\n",
       "    </tr>\n",
       "    <tr>\n",
       "      <th>2841</th>\n",
       "      <td>15/04/2017</td>\n",
       "      <td>23:59:36</td>\n",
       "      <td>0.000019</td>\n",
       "      <td>0.000003</td>\n",
       "      <td>0.000001</td>\n",
       "      <td>1.939863</td>\n",
       "      <td>-0.133011</td>\n",
       "      <td>9.779953</td>\n",
       "      <td>6.906937</td>\n",
       "      <td>9.015182</td>\n",
       "      <td>6.641418</td>\n",
       "      <td>6.155380</td>\n",
       "      <td>7.667419</td>\n",
       "    </tr>\n",
       "    <tr>\n",
       "      <th>2842</th>\n",
       "      <td>16/04/2017</td>\n",
       "      <td>0:00:00</td>\n",
       "      <td>0.000019</td>\n",
       "      <td>0.000003</td>\n",
       "      <td>0.000001</td>\n",
       "      <td>1.939863</td>\n",
       "      <td>-0.133011</td>\n",
       "      <td>9.884323</td>\n",
       "      <td>6.927231</td>\n",
       "      <td>9.021057</td>\n",
       "      <td>6.669113</td>\n",
       "      <td>6.381973</td>\n",
       "      <td>7.671616</td>\n",
       "    </tr>\n",
       "  </tbody>\n",
       "</table>\n",
       "<p>2843 rows × 13 columns</p>\n",
       "</div>"
      ],
      "text/plain": [
       "            Date      Hour       VG1       VG2       VG3       VG4       PG1  \\\n",
       "0     15/04/2017   0:00:19  0.000020  0.000003  0.000001  1.937365 -0.133545   \n",
       "1     15/04/2017   0:00:50  0.000020  0.000003  0.000001  1.937365 -0.134079   \n",
       "2     15/04/2017   0:01:20  0.000020  0.000003  0.000001  1.937365 -0.130875   \n",
       "3     15/04/2017   0:01:51  0.000020  0.000003  0.000001  1.937365 -0.135681   \n",
       "4     15/04/2017   0:02:22  0.000020  0.000003  0.000001  1.937138 -0.136749   \n",
       "5     15/04/2017   0:02:52  0.000021  0.000003  0.000001  1.937365 -0.139420   \n",
       "6     15/04/2017   0:03:22  0.000020  0.000003  0.000001  1.937592 -0.131943   \n",
       "7     15/04/2017   0:03:53  0.000020  0.000003  0.000001  1.937365 -0.134613   \n",
       "8     15/04/2017   0:04:23  0.000020  0.000003  0.000001  1.937365 -0.132477   \n",
       "9     15/04/2017   0:04:54  0.000020  0.000003  0.000001  1.937365 -0.137283   \n",
       "10    15/04/2017   0:05:24  0.000020  0.000003  0.000001  1.937138 -0.129807   \n",
       "11    15/04/2017   0:05:54  0.000020  0.000003  0.000001  1.937365 -0.134079   \n",
       "12    15/04/2017   0:06:25  0.000020  0.000003  0.000001  1.937365 -0.130341   \n",
       "13    15/04/2017   0:06:55  0.000020  0.000003  0.000001  1.937592 -0.131409   \n",
       "14    15/04/2017   0:07:25  0.000020  0.000003  0.000001  1.937365 -0.133545   \n",
       "15    15/04/2017   0:07:56  0.000020  0.000003  0.000001  1.937592 -0.135147   \n",
       "16    15/04/2017   0:08:26  0.000020  0.000003  0.000001  1.937592 -0.135681   \n",
       "17    15/04/2017   0:08:57  0.000020  0.000003  0.000001  1.937365 -0.130875   \n",
       "18    15/04/2017   0:09:27  0.000020  0.000003  0.000001  1.937365 -0.130341   \n",
       "19    15/04/2017   0:09:58  0.000020  0.000003  0.000001  1.937592 -0.136215   \n",
       "20    15/04/2017   0:10:28  0.000020  0.000003  0.000001  1.937365 -0.127136   \n",
       "21    15/04/2017   0:10:59  0.000020  0.000003  0.000001  1.937819 -0.134613   \n",
       "22    15/04/2017   0:11:29  0.000020  0.000003  0.000001  1.937365 -0.131943   \n",
       "23    15/04/2017   0:12:00  0.000020  0.000003  0.000001  1.937365 -0.135147   \n",
       "24    15/04/2017   0:12:30  0.000020  0.000003  0.000001  1.937365 -0.131943   \n",
       "25    15/04/2017   0:13:00  0.000020  0.000003  0.000001  1.937592 -0.134079   \n",
       "26    15/04/2017   0:13:30  0.000020  0.000003  0.000001  1.937365 -0.133011   \n",
       "27    15/04/2017   0:14:01  0.000020  0.000003  0.000001  1.937138 -0.131409   \n",
       "28    15/04/2017   0:14:31  0.000020  0.000003  0.000001  1.937592 -0.136215   \n",
       "29    15/04/2017   0:15:01  0.000020  0.000003  0.000001  1.937592 -0.135147   \n",
       "...          ...       ...       ...       ...       ...       ...       ...   \n",
       "2813  15/04/2017  23:45:25  0.000019  0.000003  0.000001  1.940090 -0.131943   \n",
       "2814  15/04/2017  23:45:55  0.000019  0.000003  0.000001  1.939863 -0.131943   \n",
       "2815  15/04/2017  23:46:26  0.000019  0.000003  0.000001  1.939863 -0.133545   \n",
       "2816  15/04/2017  23:46:56  0.000019  0.000003  0.000001  1.939863 -0.134613   \n",
       "2817  15/04/2017  23:47:26  0.000019  0.000003  0.000001  1.940090 -0.133011   \n",
       "2818  15/04/2017  23:47:57  0.000019  0.000003  0.000001  1.939863 -0.134079   \n",
       "2819  15/04/2017  23:48:27  0.000019  0.000003  0.000001  1.939863 -0.136215   \n",
       "2820  15/04/2017  23:48:58  0.000019  0.000003  0.000001  1.939863 -0.132477   \n",
       "2821  15/04/2017  23:49:28  0.000019  0.000003  0.000001  1.940090 -0.133545   \n",
       "2822  15/04/2017  23:49:58  0.000019  0.000003  0.000001  1.939863 -0.135681   \n",
       "2823  15/04/2017  23:50:29  0.000019  0.000003  0.000001  1.939863 -0.131409   \n",
       "2824  15/04/2017  23:50:59  0.000019  0.000003  0.000001  1.939863 -0.129272   \n",
       "2825  15/04/2017  23:51:29  0.000019  0.000003  0.000001  1.939863 -0.133011   \n",
       "2826  15/04/2017  23:52:00  0.000019  0.000003  0.000001  1.939863 -0.130875   \n",
       "2827  15/04/2017  23:52:30  0.000019  0.000003  0.000001  1.939863 -0.131943   \n",
       "2828  15/04/2017  23:53:01  0.000019  0.000003  0.000001  1.939863 -0.134079   \n",
       "2829  15/04/2017  23:53:31  0.000019  0.000003  0.000001  1.939636 -0.130341   \n",
       "2830  15/04/2017  23:54:02  0.000019  0.000003  0.000001  1.940090 -0.131943   \n",
       "2831  15/04/2017  23:54:32  0.000019  0.000003  0.000001  1.939863 -0.133545   \n",
       "2832  15/04/2017  23:55:02  0.000019  0.000003  0.000001  1.939863 -0.131943   \n",
       "2833  15/04/2017  23:55:33  0.000019  0.000003  0.000001  1.939863 -0.136749   \n",
       "2834  15/04/2017  23:56:03  0.000019  0.000003  0.000001  1.940090 -0.132477   \n",
       "2835  15/04/2017  23:56:33  0.000019  0.000003  0.000001  1.939636 -0.134079   \n",
       "2836  15/04/2017  23:57:04  0.000019  0.000003  0.000001  1.940090 -0.130341   \n",
       "2837  15/04/2017  23:57:34  0.000019  0.000003  0.000001  1.939636 -0.134613   \n",
       "2838  15/04/2017  23:58:04  0.000019  0.000003  0.000001  1.939863 -0.130341   \n",
       "2839  15/04/2017  23:58:35  0.000019  0.000003  0.000001  1.939863 -0.133011   \n",
       "2840  15/04/2017  23:59:05  0.000019  0.000003  0.000001  1.939636 -0.133011   \n",
       "2841  15/04/2017  23:59:36  0.000019  0.000003  0.000001  1.939863 -0.133011   \n",
       "2842  16/04/2017   0:00:00  0.000019  0.000003  0.000001  1.939863 -0.133011   \n",
       "\n",
       "           PG2       PG3       PG4       PG5       PG6    PGR2.2  \n",
       "0     9.675583  6.942719  9.101624  6.696808  6.138596  7.672455  \n",
       "1     9.639053  6.937912  9.081482  6.706039  6.171326  7.675812  \n",
       "2     9.581650  6.950729  9.091553  6.659882  6.236786  7.672455  \n",
       "3     9.670364  6.939514  9.059662  6.692612  6.274551  7.668259  \n",
       "4     9.628616  6.936844  9.054626  6.687576  6.194824  7.669098  \n",
       "5     9.748642  6.948593  9.055466  6.707718  6.141113  7.674133  \n",
       "6     9.487717  6.949661  9.062180  6.677505  6.157898  7.669098  \n",
       "7     9.769516  6.942719  9.048752  6.676666  6.215805  7.669098  \n",
       "8     9.560776  6.955002  9.063019  6.668274  6.281265  7.673294  \n",
       "9     9.837357  6.948059  9.064697  6.680023  6.354279  7.669098  \n",
       "10    9.597305  6.948059  9.071411  6.680023  6.147827  7.670776  \n",
       "11    9.738205  6.940582  9.050430  6.691772  6.182236  7.670776  \n",
       "12    9.581650  6.944855  9.067215  6.685898  6.252731  7.672455  \n",
       "13    9.618179  6.950729  9.066376  6.695129  6.161255  7.670776  \n",
       "14    9.654709  6.941116  9.054626  6.695129  6.145309  7.674133  \n",
       "15    9.670364  6.944321  9.059662  6.713593  6.167969  7.674133  \n",
       "16    9.618179  6.944855  9.051270  6.690933  6.230072  7.670776  \n",
       "17    9.670364  6.937912  9.053787  6.682541  6.302246  7.674133  \n",
       "18    9.492935  6.928299  9.063019  6.660721  6.372742  7.672455  \n",
       "19    9.524246  6.935242  9.074768  6.669113  6.411346  7.665741  \n",
       "20    9.555557  6.949127  9.058823  6.684219  6.147827  7.671616  \n",
       "21    9.623398  6.943253  9.060501  6.704361  6.200699  7.672455  \n",
       "22    9.519028  6.940048  9.069733  6.711914  6.235947  7.673294  \n",
       "23    9.623398  6.945389  9.063858  6.689255  6.155380  7.669937  \n",
       "24    9.529465  6.938446  9.063858  6.692612  6.138596  7.669098  \n",
       "25    9.545120  6.938446  9.059662  6.682541  6.172165  7.669098  \n",
       "26    9.592087  6.931503  9.065536  6.697647  6.267838  7.666580  \n",
       "27    9.508591  6.945923  9.063858  6.669113  6.180557  7.669937  \n",
       "28    9.586868  6.938980  9.050430  6.665756  6.408829  7.672455  \n",
       "29    9.649490  6.935242  9.052948  6.693451  6.375259  7.670776  \n",
       "...        ...       ...       ...       ...       ...       ...  \n",
       "2813  9.607742  6.909073  9.041199  6.654846  6.115097  7.669937  \n",
       "2814  9.722549  6.914948  9.021896  6.648132  6.337494  7.671616  \n",
       "2815  9.806046  6.915482  9.021896  6.656525  6.263641  7.669937  \n",
       "2816  9.910416  6.915482  9.016022  6.664078  6.163773  7.670776  \n",
       "2817  9.889542  6.922958  9.026093  6.655685  6.382812  7.670776  \n",
       "2818  9.962601  6.907471  9.019379  6.664078  6.366867  7.675812  \n",
       "2819  9.743423  6.915482  9.023575  6.666595  6.304764  7.669098  \n",
       "2820  9.764297  6.908539  9.018539  6.657364  6.227554  7.672455  \n",
       "2821  9.842575  6.905334  9.013504  6.657364  6.376938  7.672455  \n",
       "2822  9.837357  6.915482  9.024414  6.672470  6.381134  7.669098  \n",
       "2823  9.853012  6.915482  9.014343  6.636383  6.345047  7.668259  \n",
       "2824  9.696457  6.921356  9.026093  6.647293  6.275391  7.669937  \n",
       "2825  9.899979  6.928833  9.021896  6.658203  6.350082  7.672455  \n",
       "2826  9.732986  6.921890  9.030289  6.642258  6.131042  7.677490  \n",
       "2827  9.811264  6.924026  9.021896  6.642258  6.116776  7.668259  \n",
       "2828  9.806046  6.927765  9.026932  6.648132  6.178040  7.671616  \n",
       "2829  9.633835  6.909073  9.028610  6.637222  6.249374  7.673294  \n",
       "2830  9.785172  6.921356  9.005112  6.646454  6.134399  7.675812  \n",
       "2831  9.811264  6.923492  9.028610  6.661560  6.110901  7.672455  \n",
       "2832  9.884323  6.913345  9.016861  6.667435  6.141953  7.676651  \n",
       "2833  9.858231  6.909073  9.017700  6.649811  6.258606  7.667419  \n",
       "2834  9.800827  6.926163  9.023575  6.655685  6.277069  7.669937  \n",
       "2835  9.920853  6.917084  9.018539  6.651489  6.111740  7.674973  \n",
       "2836  9.811264  6.904800  9.016861  6.639740  6.362671  7.670776  \n",
       "2837  9.821701  6.918152  9.029449  6.652328  6.167969  7.670776  \n",
       "2838  9.842575  6.915482  9.019379  6.655685  6.220840  7.672455  \n",
       "2839  9.816483  6.912277  9.017700  6.649811  6.134399  7.672455  \n",
       "2840  9.853012  6.923492  9.030289  6.672470  6.111740  7.670776  \n",
       "2841  9.779953  6.906937  9.015182  6.641418  6.155380  7.667419  \n",
       "2842  9.884323  6.927231  9.021057  6.669113  6.381973  7.671616  \n",
       "\n",
       "[2843 rows x 13 columns]"
      ]
     },
     "execution_count": 77,
     "metadata": {},
     "output_type": "execute_result"
    }
   ],
   "source": [
    "f0 = pd.read_csv(pfiles[0], skiprows=2, sep=None, engine='python')\n",
    "f0"
   ]
  },
  {
   "cell_type": "code",
   "execution_count": 78,
   "metadata": {
    "collapsed": false
   },
   "outputs": [
    {
     "name": "stdout",
     "output_type": "stream",
     "text": [
      "2843 2843\n",
      "5688 5688\n",
      "8532 8532\n",
      "11637 11637\n",
      "14483 14483\n",
      "15923 15923\n"
     ]
    }
   ],
   "source": [
    "#f = pd.read_csv(ppath, skiprows=2, sep=None, engine='python')\n",
    "\n",
    "T  =[]\n",
    "pg3=[]\n",
    "pg6=[]\n",
    "for f in pfiles: \n",
    "    f = pd.read_csv(f, skiprows=2, sep=None, engine='python')\n",
    "\n",
    "    for d, t, g3, g6 in zip(f['Date'].values, f['Hour'].values, f['PG3'].values, f['PG6'].values):\n",
    "        if len(t)==7: t = '0' + t\n",
    "        T.append(datetime.datetime.strptime(d +' '+ t,'%d/%m/%Y %H:%M:%S'))\n",
    "        pg3.append(g3)\n",
    "        pg6.append(g6)\n",
    "    print(len(T),len(pg3))\n"
   ]
  },
  {
   "cell_type": "code",
   "execution_count": 79,
   "metadata": {
    "collapsed": false
   },
   "outputs": [
    {
     "ename": "NameError",
     "evalue": "name 'r3645' is not defined",
     "output_type": "error",
     "traceback": [
      "\u001b[0;31m---------------------------------------------------------------------------\u001b[0m",
      "\u001b[0;31mNameError\u001b[0m                                 Traceback (most recent call last)",
      "\u001b[0;32m<ipython-input-79-b2e9fc706c52>\u001b[0m in \u001b[0;36m<module>\u001b[0;34m()\u001b[0m\n\u001b[1;32m      3\u001b[0m \u001b[0;31m#r3741 = (TIME, -np.array(LAMBDA), ELAMBDA)\u001b[0m\u001b[0;34m\u001b[0m\u001b[0;34m\u001b[0m\u001b[0m\n\u001b[1;32m      4\u001b[0m \u001b[0;31m#r3741 = (TIME[1:], -np.array(LAMBDA)[1:], ELAMBDA[1:])\u001b[0m\u001b[0;34m\u001b[0m\u001b[0;34m\u001b[0m\u001b[0m\n\u001b[0;32m----> 5\u001b[0;31m \u001b[0max1\u001b[0m\u001b[0;34m.\u001b[0m\u001b[0merrorbar\u001b[0m\u001b[0;34m(\u001b[0m\u001b[0mr3645\u001b[0m\u001b[0;34m[\u001b[0m\u001b[0;36m0\u001b[0m\u001b[0;34m]\u001b[0m\u001b[0;34m,\u001b[0m \u001b[0mr3645\u001b[0m\u001b[0;34m[\u001b[0m\u001b[0;36m1\u001b[0m\u001b[0;34m]\u001b[0m\u001b[0;34m,\u001b[0m \u001b[0myerr\u001b[0m\u001b[0;34m=\u001b[0m\u001b[0mr3645\u001b[0m\u001b[0;34m[\u001b[0m\u001b[0;36m2\u001b[0m\u001b[0;34m]\u001b[0m\u001b[0;34m,\u001b[0m \u001b[0mlinestyle\u001b[0m\u001b[0;34m=\u001b[0m\u001b[0;34m'none'\u001b[0m\u001b[0;34m,\u001b[0m \u001b[0mfmt\u001b[0m\u001b[0;34m=\u001b[0m\u001b[0;34m'o'\u001b[0m\u001b[0;34m,\u001b[0m \u001b[0mc\u001b[0m\u001b[0;34m=\u001b[0m\u001b[0;34m'r'\u001b[0m\u001b[0;34m,\u001b[0m \u001b[0mlabel\u001b[0m\u001b[0;34m=\u001b[0m\u001b[0;34m'3645'\u001b[0m\u001b[0;34m)\u001b[0m\u001b[0;34m\u001b[0m\u001b[0m\n\u001b[0m\u001b[1;32m      6\u001b[0m \u001b[0max1\u001b[0m\u001b[0;34m.\u001b[0m\u001b[0merrorbar\u001b[0m\u001b[0;34m(\u001b[0m\u001b[0mr3715\u001b[0m\u001b[0;34m[\u001b[0m\u001b[0;36m0\u001b[0m\u001b[0;34m]\u001b[0m\u001b[0;34m,\u001b[0m \u001b[0mr3715\u001b[0m\u001b[0;34m[\u001b[0m\u001b[0;36m1\u001b[0m\u001b[0;34m]\u001b[0m\u001b[0;34m,\u001b[0m \u001b[0myerr\u001b[0m\u001b[0;34m=\u001b[0m\u001b[0mr3715\u001b[0m\u001b[0;34m[\u001b[0m\u001b[0;36m2\u001b[0m\u001b[0;34m]\u001b[0m\u001b[0;34m,\u001b[0m \u001b[0mlinestyle\u001b[0m\u001b[0;34m=\u001b[0m\u001b[0;34m'none'\u001b[0m\u001b[0;34m,\u001b[0m \u001b[0mfmt\u001b[0m\u001b[0;34m=\u001b[0m\u001b[0;34m'o'\u001b[0m\u001b[0;34m,\u001b[0m \u001b[0mc\u001b[0m\u001b[0;34m=\u001b[0m\u001b[0;34m'g'\u001b[0m\u001b[0;34m,\u001b[0m \u001b[0mlabel\u001b[0m\u001b[0;34m=\u001b[0m\u001b[0;34m'3715'\u001b[0m\u001b[0;34m)\u001b[0m\u001b[0;34m\u001b[0m\u001b[0m\n\u001b[1;32m      7\u001b[0m \u001b[0max1\u001b[0m\u001b[0;34m.\u001b[0m\u001b[0merrorbar\u001b[0m\u001b[0;34m(\u001b[0m\u001b[0mr3724\u001b[0m\u001b[0;34m[\u001b[0m\u001b[0;36m0\u001b[0m\u001b[0;34m]\u001b[0m\u001b[0;34m,\u001b[0m \u001b[0mr3724\u001b[0m\u001b[0;34m[\u001b[0m\u001b[0;36m1\u001b[0m\u001b[0;34m]\u001b[0m\u001b[0;34m,\u001b[0m \u001b[0myerr\u001b[0m\u001b[0;34m=\u001b[0m\u001b[0mr3724\u001b[0m\u001b[0;34m[\u001b[0m\u001b[0;36m2\u001b[0m\u001b[0;34m]\u001b[0m\u001b[0;34m,\u001b[0m \u001b[0mlinestyle\u001b[0m\u001b[0;34m=\u001b[0m\u001b[0;34m'none'\u001b[0m\u001b[0;34m,\u001b[0m \u001b[0mfmt\u001b[0m\u001b[0;34m=\u001b[0m\u001b[0;34m'o'\u001b[0m\u001b[0;34m,\u001b[0m \u001b[0mc\u001b[0m\u001b[0;34m=\u001b[0m\u001b[0;34m'b'\u001b[0m\u001b[0;34m,\u001b[0m \u001b[0mlabel\u001b[0m\u001b[0;34m=\u001b[0m\u001b[0;34m'3724'\u001b[0m\u001b[0;34m)\u001b[0m\u001b[0;34m\u001b[0m\u001b[0m\n",
      "\u001b[0;31mNameError\u001b[0m: name 'r3645' is not defined"
     ]
    },
    {
     "data": {
      "image/png": "[encoded data removed]",
      "text/plain": [
       "<matplotlib.figure.Figure at 0x11d2ab908>"
      ]
     },
     "metadata": {},
     "output_type": "display_data"
    }
   ],
   "source": [
    "fig, ax1 = plt.subplots(figsize=(20, 10))\n",
    "#ax1.errorbar(TIME[1:], -np.array(LAMBDA)[1:], yerr=ELAMBDA[1:], linestyle='none', fmt='o', c='r')\n",
    "#r3741 = (TIME, -np.array(LAMBDA), ELAMBDA)\n",
    "#r3741 = (TIME[1:], -np.array(LAMBDA)[1:], ELAMBDA[1:])\n",
    "ax1.errorbar(r3645[0], r3645[1], yerr=r3645[2], linestyle='none', fmt='o', c='r', label='3645')\n",
    "ax1.errorbar(r3715[0], r3715[1], yerr=r3715[2], linestyle='none', fmt='o', c='g', label='3715')\n",
    "ax1.errorbar(r3724[0], r3724[1], yerr=r3724[2], linestyle='none', fmt='o', c='b', label='3724')\n",
    "ax1.errorbar(r3733[0], r3733[1], yerr=r3733[2], linestyle='none', fmt='o', c='black', label='3733')\n",
    "ax1.errorbar(r3741[0], r3741[1], yerr=r3741[2], linestyle='none', fmt='o', c='gold', label='3741')\n",
    "\n",
    "plt.legend(loc=2)\n",
    "ax1.set_ylabel('Lifetime (mus)')\n",
    "ax2=ax1.twinx()\n",
    "ax2.plot(T, pg3,alpha=.2, label='asdf')\n",
    "ax2.set_ylabel('bar')\n",
    "plt.title('PG3 and lifetime')\n",
    "plt.grid(True)\n",
    "plt.show()"
   ]
  },
  {
   "cell_type": "code",
   "execution_count": null,
   "metadata": {
    "collapsed": true
   },
   "outputs": [],
   "source": [
    "tlog = os.path.join(os.environ['IC_DATA'], 'LSC/logs/temperature/03-13--04-17/')\n",
    "tfiles = [tlog + 'PWR_Data_Report_2017-04-15.txt',\n",
    "          tlog + 'PWR_Data_Report_2017-04-16.txt',\n",
    "          tlog + 'PWR_Data_Report_2017-04-17.txt',\n",
    "          tlog + 'PWR_Data_Report_2017-04-18.txt',\n",
    "          tlog + 'PWR_Data_Report_2017-04-19.txt',\n",
    "          tlog + 'PWR_Data_Report_2017-04-20.txt']"
   ]
  },
  {
   "cell_type": "code",
   "execution_count": null,
   "metadata": {
    "collapsed": false
   },
   "outputs": [],
   "source": [
    "f0 = pd.read_csv(tfiles[0], skiprows=2, sep='\\s+', engine='python')\n",
    "f0"
   ]
  },
  {
   "cell_type": "code",
   "execution_count": null,
   "metadata": {
    "collapsed": false
   },
   "outputs": [],
   "source": [
    "tfiles"
   ]
  },
  {
   "cell_type": "code",
   "execution_count": null,
   "metadata": {
    "collapsed": false
   },
   "outputs": [],
   "source": [
    "Tt=[]\n",
    "dbs=[]\n",
    "for f in tfiles: \n",
    "    f = pd.read_csv(f, skiprows=2, sep='\\s+', engine='python')\n",
    "\n",
    "    for i, (d, t) in enumerate(zip(f['Date'].values, f['Hour'].values)):\n",
    "        if len(t)==7: t = '0' + t\n",
    "        Tt.append(datetime.datetime.strptime(d +' '+ t,'%d/%m/%Y %H:%M:%S'))\n",
    "        dbs.append([f['DB1_Temp(�C)'][i],  f['DB2_Temp(�C)'] [i], f['DB3_Temp(�C)'] [i],\n",
    "                    f['DB4_Temp(�C)'][i],  f['DB5_Temp(�C)'] [i], f['DB6_Temp(�C)'] [i],\n",
    "                    f['DB7_Temp(�C)'][i],  f['DB8_Temp(�C)'] [i], f['DB9_Temp(�C)'] [i],\n",
    "                    f['DB10_Temp(�C)'][i], f['DB11_Temp(�C)'][i], f['DB12_Temp(�C)'][i],\n",
    "                    f['DB13_Temp(�C)'][i], f['DB14_Temp(�C)'][i], f['DB15_Temp(�C)'][i],\n",
    "                    f['DB16_Temp(�C)'][i], f['DB17_Temp(�C)'][i], f['DB18_Temp(�C)'][i],\n",
    "                    f['DB19_Temp(�C)'][i], f['DB20_Temp(�C)'][i], f['DB21_Temp(�C)'][i],\n",
    "                    f['DB22_Temp(�C)'][i], f['DB23_Temp(�C)'][i], f['DB24_Temp(�C)'][i],\n",
    "                    f['DB25_Temp(�C)'][i], f['DB26_Temp(�C)'][i], f['DB27_Temp(�C)'][i],\n",
    "                    f['DB28_Temp(�C)'][i]])\n",
    "\n",
    "    print(len(Tt),len(dbs))"
   ]
  },
  {
   "cell_type": "code",
   "execution_count": null,
   "metadata": {
    "collapsed": false
   },
   "outputs": [],
   "source": [
    "fig, ax1 = plt.subplots(figsize=(20, 10))\n",
    "\n",
    "plt.legend(loc=2)\n",
    "ax1.plot(Tt, dbs)\n",
    "ax1.set_ylabel('Temperature (C)')\n",
    "ax2=ax1.twinx()\n",
    "ax2.plot(T, pg3,alpha=.8)\n",
    "ax2.set_ylabel('bar')\n",
    "plt.title('DB temperatures and PG3')\n",
    "plt.grid(True)\n",
    "plt.show()"
   ]
  },
  {
   "cell_type": "code",
   "execution_count": null,
   "metadata": {
    "collapsed": false
   },
   "outputs": [],
   "source": [
    "fig, ax1 = plt.subplots(figsize=(20, 10))\n",
    "#ax1.errorbar(TIME[1:], -np.array(LAMBDA)[1:], yerr=ELAMBDA[1:], linestyle='none', fmt='o', c='r')\n",
    "#r3741 = (TIME, -np.array(LAMBDA), ELAMBDA)\n",
    "#r3741 = (TIME[1:], -np.array(LAMBDA)[1:], ELAMBDA[1:])\n",
    "ax1.errorbar(r3645[0], r3645[1], yerr=r3645[2], linestyle='none', fmt='o', c='r', label='3645')\n",
    "ax1.errorbar(r3715[0], r3715[1], yerr=r3715[2], linestyle='none', fmt='o', c='g', label='3715')\n",
    "ax1.errorbar(r3724[0], r3724[1], yerr=r3724[2], linestyle='none', fmt='o', c='b', label='3724')\n",
    "ax1.errorbar(r3733[0], r3733[1], yerr=r3733[2], linestyle='none', fmt='o', c='black', label='3733')\n",
    "ax1.errorbar(r3741[0], r3741[1], yerr=r3741[2], linestyle='none', fmt='o', c='gold', label='3741')\n",
    "\n",
    "plt.legend(loc=2)\n",
    "ax1.set_ylabel('Lifetime (mus)')\n",
    "ax2=ax1.twinx()\n",
    "ax2.plot(Tt, dbs, alpha=.2)\n",
    "ax2.set_ylabel('Temperature (C)')\n",
    "plt.title('db temperature and lifetime')\n",
    "plt.grid(True)\n",
    "plt.show()"
   ]
  },
  {
   "cell_type": "code",
   "execution_count": null,
   "metadata": {
    "collapsed": true
   },
   "outputs": [],
   "source": []
  }
 ],
 "metadata": {
  "kernelspec": {
   "display_name": "Python 3",
   "language": "python",
   "name": "python3"
  },
  "language_info": {
   "codemirror_mode": {
    "name": "ipython",
    "version": 3
   },
   "file_extension": ".py",
   "mimetype": "text/x-python",
   "name": "python",
   "nbconvert_exporter": "python",
   "pygments_lexer": "ipython3",
   "version": "3.6.0"
  }
 },
 "nbformat": 4,
 "nbformat_minor": 2
}
