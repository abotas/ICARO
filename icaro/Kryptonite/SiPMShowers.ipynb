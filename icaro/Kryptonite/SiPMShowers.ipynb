{
 "cells": [
  {
   "cell_type": "markdown",
   "metadata": {},
   "source": [
    "# SiPM Showers"
   ]
  },
  {
   "cell_type": "markdown",
   "metadata": {},
   "source": [
    "#### 1) Select events using a run's DST file -- > 2) Look at those events' waveforms\n",
    "\n",
    "Here, I use this notebook to look at the waveforms of sodium events near the photoelectric peak"
   ]
  },
  {
   "cell_type": "code",
   "execution_count": 1,
   "metadata": {
    "collapsed": false
   },
   "outputs": [
    {
     "name": "stdout",
     "output_type": "stream",
     "text": [
      "2017-04-25 15:59:53\n"
     ]
    }
   ],
   "source": [
    "import datetime\n",
    "print(datetime.datetime.now().strftime('%Y-%m-%d %H:%M:%S'))"
   ]
  },
  {
   "cell_type": "code",
   "execution_count": 2,
   "metadata": {
    "collapsed": false
   },
   "outputs": [],
   "source": [
    "%matplotlib inline\n",
    "%load_ext autoreload\n",
    "%autoreload 2"
   ]
  },
  {
   "cell_type": "code",
   "execution_count": 3,
   "metadata": {
    "collapsed": false
   },
   "outputs": [],
   "source": [
    "import sys\n",
    "import os\n",
    "import time\n",
    "import tables as tb\n",
    "import numpy as np\n",
    "import matplotlib.pyplot as plt\n",
    "from glob import glob\n",
    "\n",
    "from invisible_cities.database import load_db\n",
    "import invisible_cities.core.mpl_functions as mpl\n",
    "import invisible_cities.reco.tbl_functions as tbl\n",
    "from invisible_cities.reco.params import S12Params, ThresholdParams\n",
    "from   invisible_cities.core.system_of_units_c import units\n",
    "from invisible_cities.core.core_functions import in_range\n",
    "from invisible_cities.core.mpl_functions import plot_pmt_waveforms, plot_pmt_signals_vs_time_mus, \\\n",
    "              plot_signal_vs_time_mus\n",
    "from invisible_cities.reco.pmaps_functions import plot_s12\n",
    "\n",
    "sys.path.append('/Users/alej/Desktop/Valencia/nextic/ICARO')\n",
    "from icaro.core.event_pmaps     import EventPmaps, print_s12, print_s2si\n",
    "from icaro.core.kdst_functions  import load_dst, event_rate, profile_and_fit, print_fit, chi2\n",
    "from icaro.core.hst_functions   import labels, hist, doublehist, hist2d, pdf, scatter, profile_and_scatter,\\\n",
    "                                     doublescatter, covariance, reso, gausstext, plot_profile_histogram "
   ]
  },
  {
   "cell_type": "markdown",
   "metadata": {},
   "source": [
    "### Run Parameters"
   ]
  },
  {
   "cell_type": "code",
   "execution_count": 4,
   "metadata": {
    "collapsed": false
   },
   "outputs": [],
   "source": [
    "run_number =  3741\n",
    "\n",
    "# consecutive! could do a little more work and make them not have to be consecutive\n",
    "subruns     = ['000', '001', '002', '003', '004', '005', '006', '007', '008', '009']"
   ]
  },
  {
   "cell_type": "code",
   "execution_count": 5,
   "metadata": {
    "collapsed": false
   },
   "outputs": [],
   "source": [
    "DataPMT = load_db.DataPMT(run_number)\n",
    "DataSiPM = load_db.DataSiPM(run_number)\n",
    "xs = DataSiPM.X.values\n",
    "ys = DataSiPM.Y.values"
   ]
  },
  {
   "cell_type": "code",
   "execution_count": 6,
   "metadata": {
    "collapsed": false
   },
   "outputs": [],
   "source": [
    "ext_t = 170 * units.mm\n",
    "ext_sipms = np.array(list(set(np.where(xs > ext_t)[0]) | set(np.where(ys > ext_t)[0])), \n",
    "                     dtype=np.int32)\n",
    "\n"
   ]
  },
  {
   "cell_type": "code",
   "execution_count": 7,
   "metadata": {
    "collapsed": false
   },
   "outputs": [
    {
     "name": "stdout",
     "output_type": "stream",
     "text": [
      "328\n"
     ]
    }
   ],
   "source": [
    "for sipm in ext_sipms:\n",
    "    if xs[sipm] < ext_t and ys[sipm] < ext_t: print('Broken')\n",
    "print(len(ext_sipms))"
   ]
  },
  {
   "cell_type": "markdown",
   "metadata": {},
   "source": [
    "### 1) HAVE ACCESS TO WVFMS FROM CONSECTIVE SUBRUNS"
   ]
  },
  {
   "cell_type": "code",
   "execution_count": 8,
   "metadata": {
    "collapsed": false,
    "scrolled": true
   },
   "outputs": [
    {
     "name": "stdout",
     "output_type": "stream",
     "text": [
      "['/Users/alej/Desktop/IC_DATA/LSC/wvfms/3741/dst_waves.gdcsnext.000_3741.root.h5', '/Users/alej/Desktop/IC_DATA/LSC/wvfms/3741/dst_waves.gdcsnext.001_3741.root.h5', '/Users/alej/Desktop/IC_DATA/LSC/wvfms/3741/dst_waves.gdcsnext.002_3741.root.h5', '/Users/alej/Desktop/IC_DATA/LSC/wvfms/3741/dst_waves.gdcsnext.003_3741.root.h5', '/Users/alej/Desktop/IC_DATA/LSC/wvfms/3741/dst_waves.gdcsnext.004_3741.root.h5', '/Users/alej/Desktop/IC_DATA/LSC/wvfms/3741/dst_waves.gdcsnext.005_3741.root.h5', '/Users/alej/Desktop/IC_DATA/LSC/wvfms/3741/dst_waves.gdcsnext.006_3741.root.h5', '/Users/alej/Desktop/IC_DATA/LSC/wvfms/3741/dst_waves.gdcsnext.007_3741.root.h5', '/Users/alej/Desktop/IC_DATA/LSC/wvfms/3741/dst_waves.gdcsnext.008_3741.root.h5', '/Users/alej/Desktop/IC_DATA/LSC/wvfms/3741/dst_waves.gdcsnext.009_3741.root.h5']\n"
     ]
    }
   ],
   "source": [
    "## consecutive meaning subrun 025, 026, 027... for ex\n",
    "\n",
    "RWF_path = os.path.join(os.environ['IC_DATA'], 'LSC/wvfms/{}/'.format(run_number))\n",
    "RWF_files = [RWF_path + 'dst_waves.gdcsnext.{}_{}.root.h5'.format(subrun, run_number) for subrun in subruns]\n",
    "print(RWF_files)"
   ]
  },
  {
   "cell_type": "markdown",
   "metadata": {},
   "source": [
    "### 2) FIND STARTING AND FINAL EVENT IN THESE SUBRUNS"
   ]
  },
  {
   "cell_type": "code",
   "execution_count": 9,
   "metadata": {
    "collapsed": false
   },
   "outputs": [
    {
     "name": "stdout",
     "output_type": "stream",
     "text": [
      "These subruns include events in this (inclusive) range: \n",
      "1 1680\n"
     ]
    }
   ],
   "source": [
    "startfile = tb.open_file(RWF_files[0],'r')\n",
    "sev = startfile.root.Run.events[0][0]\n",
    "startfile.close()\n",
    "\n",
    "endfile = tb.open_file(RWF_files[-1],'r')\n",
    "fev = endfile.root.Run.events[-1][0]\n",
    "endfile.close()\n",
    "print('These subruns include events in this (inclusive) range: ')\n",
    "print(sev, fev)"
   ]
  },
  {
   "cell_type": "code",
   "execution_count": 10,
   "metadata": {
    "collapsed": false
   },
   "outputs": [
    {
     "name": "stdout",
     "output_type": "stream",
     "text": [
      "ifile: /Users/alej/Desktop/IC_DATA/LSC/kdst/3741/dst_3741.root.h5\n"
     ]
    }
   ],
   "source": [
    "ifile = os.path.join(os.environ['IC_DATA'],\n",
    "                        'LSC/kdst/{}/dst_{}.root.h5'.format(run_number,run_number))\n",
    "print(\"ifile:\", ifile)\n",
    "full = load_dst(ifile)"
   ]
  },
  {
   "cell_type": "markdown",
   "metadata": {},
   "source": [
    "## 3) Select events in dst"
   ]
  },
  {
   "cell_type": "code",
   "execution_count": 11,
   "metadata": {
    "collapsed": false
   },
   "outputs": [
    {
     "name": "stdout",
     "output_type": "stream",
     "text": [
      "1149 1149\n"
     ]
    }
   ],
   "source": [
    "srs  = full[in_range(full.event, sev, fev)]\n",
    "srsc = srs[srs.nS2==1]\n",
    "\n",
    "print(len(srs), len(srsc))"
   ]
  },
  {
   "cell_type": "code",
   "execution_count": 12,
   "metadata": {
    "collapsed": false
   },
   "outputs": [
    {
     "data": {
      "image/png": "[encoded data removed]",
      "text/plain": [
       "<matplotlib.figure.Figure at 0x10e170160>"
      ]
     },
     "metadata": {},
     "output_type": "display_data"
    }
   ],
   "source": [
    "hist(srs.S1e, 40, (0,10000))\n",
    "labels(\"S1 energy (pes)\", \"Entries\")"
   ]
  },
  {
   "cell_type": "code",
   "execution_count": 13,
   "metadata": {
    "collapsed": false
   },
   "outputs": [
    {
     "data": {
      "image/png": "[encoded data removed]",
      "text/plain": [
       "<matplotlib.figure.Figure at 0x10e509390>"
      ]
     },
     "metadata": {},
     "output_type": "display_data"
    }
   ],
   "source": [
    "hist(srsc.S1e, 40, (0,10000))\n",
    "labels(\"S1 energy (pes)\", \"Entries\")"
   ]
  },
  {
   "cell_type": "code",
   "execution_count": 15,
   "metadata": {
    "collapsed": false
   },
   "outputs": [],
   "source": [
    "s1par  = S12Params(tmin=  0*units.mus, tmax=649*units.mus, lmin=5, lmax=30, stride=4, rebin=False)\n",
    "s2par = S12Params( tmin=649*units.mus, tmax=700*units.mus, stride=80, lmin=80, lmax=20000, rebin=True)\n",
    "thr    = ThresholdParams(thr_s1=3 * units.pes,  thr_s2=1*units.pes,\n",
    "                        thr_MAU = 3 * units.adc, thr_sipm = .5 * units.pes,\n",
    "                        thr_SIPM = 30 * units.adc)\n",
    "epm = EventPmaps(run_number, s1par, s2par, thr, verbose=False)"
   ]
  },
  {
   "cell_type": "code",
   "execution_count": 17,
   "metadata": {
    "collapsed": false
   },
   "outputs": [
    {
     "name": "stdout",
     "output_type": "stream",
     "text": [
      "\n",
      "            Number of events in file = 168\n",
      "            Number of PMTs = 12\n",
      "            PMTWL = 52000\n",
      "            Number of SiPMs = 1792\n",
      "            SiPMWL = 1300\n",
      "          \n",
      "IC Alpha Candidates in this subrun:  116\n",
      "\n",
      "            Number of events in file = 168\n",
      "            Number of PMTs = 12\n",
      "            PMTWL = 52000\n",
      "            Number of SiPMs = 1792\n",
      "            SiPMWL = 1300\n",
      "          \n",
      "IC Alpha Candidates in this subrun:  98\n",
      "\n",
      "            Number of events in file = 168\n",
      "            Number of PMTs = 12\n",
      "            PMTWL = 52000\n",
      "            Number of SiPMs = 1792\n",
      "            SiPMWL = 1300\n",
      "          \n",
      "IC Alpha Candidates in this subrun:  120\n",
      "\n",
      "            Number of events in file = 168\n",
      "            Number of PMTs = 12\n",
      "            PMTWL = 52000\n",
      "            Number of SiPMs = 1792\n",
      "            SiPMWL = 1300\n",
      "          \n",
      "IC Alpha Candidates in this subrun:  117\n",
      "\n",
      "            Number of events in file = 168\n",
      "            Number of PMTs = 12\n",
      "            PMTWL = 52000\n",
      "            Number of SiPMs = 1792\n",
      "            SiPMWL = 1300\n",
      "          \n",
      "IC Alpha Candidates in this subrun:  111\n",
      "\n",
      "            Number of events in file = 168\n",
      "            Number of PMTs = 12\n",
      "            PMTWL = 52000\n",
      "            Number of SiPMs = 1792\n",
      "            SiPMWL = 1300\n",
      "          \n",
      "IC Alpha Candidates in this subrun:  118\n",
      "\n",
      "            Number of events in file = 168\n",
      "            Number of PMTs = 12\n",
      "            PMTWL = 52000\n",
      "            Number of SiPMs = 1792\n",
      "            SiPMWL = 1300\n",
      "          \n",
      "IC Alpha Candidates in this subrun:  115\n",
      "\n",
      "            Number of events in file = 168\n",
      "            Number of PMTs = 12\n",
      "            PMTWL = 52000\n",
      "            Number of SiPMs = 1792\n",
      "            SiPMWL = 1300\n",
      "          \n",
      "IC Alpha Candidates in this subrun:  119\n",
      "\n",
      "            Number of events in file = 168\n",
      "            Number of PMTs = 12\n",
      "            PMTWL = 52000\n",
      "            Number of SiPMs = 1792\n",
      "            SiPMWL = 1300\n",
      "          \n",
      "IC Alpha Candidates in this subrun:  115\n",
      "\n",
      "            Number of events in file = 168\n",
      "            Number of PMTs = 12\n",
      "            PMTWL = 52000\n",
      "            Number of SiPMs = 1792\n",
      "            SiPMWL = 1300\n",
      "          \n",
      "IC Alpha Candidates in this subrun:  116\n"
     ]
    }
   ],
   "source": [
    "MEVTS = 2000\n",
    "\n",
    "Bswf = np.zeros((1792, 700,), dtype=np.float32)\n",
    "\n",
    "Bpes = []\n",
    "Bspes = []\n",
    "Bfpes = []\n",
    "Bt = []\n",
    "\n",
    "Bext_pes = []\n",
    "Bint_pes = []\n",
    "\n",
    "pevts = 0\n",
    "for subrun in RWF_files:\n",
    "    if pevts == MEVTS: break\n",
    "    h5rwf = tb.open_file(subrun,'r')\n",
    "    pmtrwf, pmtblr, sipmrwf = tbl.get_vectors(h5rwf)\n",
    "    NEVT, NPMT, PMTWL = pmtrwf.shape\n",
    "    NEVT, NSIPM, SIPMWL = sipmrwf.shape\n",
    "    print(\"\"\"\n",
    "            Number of events in file = {}\n",
    "            Number of PMTs = {}\n",
    "            PMTWL = {}\n",
    "            Number of SiPMs = {}\n",
    "            SiPMWL = {}\n",
    "          \"\"\".format(NEVT, NPMT, PMTWL, NSIPM, SIPMWL))\n",
    "    \n",
    "    # Select desired waveforms\n",
    "    assert(NEVT == h5rwf.root.Run.events[-1][0] - h5rwf.root.Run.events[0][0] + 1)\n",
    "    ssev = h5rwf.root.Run.events[0][0]\n",
    "    sfev = h5rwf.root.Run.events[-1][0]\n",
    "    sr = srs[in_range(srs.event, ssev, sfev)]\n",
    "    srevents = np.array(list(set(sr.event.values)))\n",
    "    srinds = srevents - ssev\n",
    "    spmtrwf = np.array(pmtrwf) [srinds]\n",
    "    ssipmrwf= np.array(sipmrwf)[srinds]\n",
    "    \n",
    "    print('IC Alpha Candidates in this subrun: ', len(ssipmrwf))\n",
    "    \n",
    "    for evi in range(len(spmtrwf)):\n",
    "        \n",
    "        # Run IC\n",
    "        epm.calibrated_pmt_and_csum(evi, spmtrwf)\n",
    "        epm.calibrated_sipm(evi, ssipmrwf, calwf=True)\n",
    "        epm.find_s2()\n",
    "        epm.find_s2si()\n",
    "        \n",
    "        # Find A and B regions (ns)\n",
    "        tbuf = 50 * units.ns\n",
    "        B = np.array([epm.S2[0][0][-1] + tbuf, 1300000         - tbuf], dtype=np.float32)\n",
    "        Bi    = np.array(np.ceil( B         / units.mus), dtype=np.int32)\n",
    "        regB  = epm.sipm[:, Bi[0]: Bi[1]+1]\n",
    "        \n",
    "        # Add A and B regions to Aswf and Bswf \n",
    "        Bswf[:, :Bi[1]-Bi[0]  ] += regB\n",
    "        \n",
    "        # Record pes in these regions\n",
    "        Bpes .append(regB.sum(axis=1))\n",
    "        \n",
    "        # Compute pes in internal and external SiPMs\n",
    "        ext_pes_per_sipm = Bpes[-1][ext_sipms].mean()\n",
    "        Bext_pes.append(ext_pes_per_sipm)\n",
    "        Bint_pes.append(Bpes[-1].sum() - ext_pes_per_sipm)\n",
    "        \n",
    "        Bspes.append(regB[:int(round(len(regB)/2.0))].sum()) # count pes in first half of regB\n",
    "        Bfpes.append(np.sum(Bpes[-1]) - Bspes[-1])   # in second half of regB\n",
    "        Bt  .append(regB.shape[1])\n",
    "        \n",
    "        pevts += 1\n",
    "        \n",
    "        if pevts == MEVTS: break\n",
    "    h5rwf.close()\n",
    "    #break\n",
    "\n",
    "Bpes =np.array(Bpes)\n",
    "Bspes=np.array(Bspes)\n",
    "Bfpes=np.array(Bfpes)\n",
    "Bt   =np.array(Bt)\n",
    "Bext_pes = np.array(Bext_pes) / float(len(ext_sipms))\n",
    "Bint_pes = np.array(Bint_pes) / (1792 - float(len(ext_sipms)))\n",
    "        "
   ]
  },
  {
   "cell_type": "markdown",
   "metadata": {},
   "source": [
    "All SiPM in region A and B"
   ]
  },
  {
   "cell_type": "code",
   "execution_count": 18,
   "metadata": {
    "collapsed": false
   },
   "outputs": [
    {
     "data": {
      "image/png": "[encoded data removed]",
      "text/plain": [
       "<matplotlib.figure.Figure at 0x112408cc0>"
      ]
     },
     "metadata": {},
     "output_type": "display_data"
    }
   ],
   "source": [
    "plt.figure(figsize=(15,5))\n",
    "Bmeansum = Bswf.sum(axis=0)[100:500] / float(pevts)\n",
    "plt.scatter(range(len(Bmeansum[np.nonzero(Bmeansum)])), Bmeansum[np.nonzero(Bmeansum)]/1792.0, s=3)\n",
    "plt.title('Electron rain in SiPMs after S2?')\n",
    "plt.xlabel('mus after s12')\n",
    "plt.ylabel('pes / SiPM / evt')\n",
    "plt.show()"
   ]
  },
  {
   "cell_type": "code",
   "execution_count": 19,
   "metadata": {
    "collapsed": false
   },
   "outputs": [
    {
     "data": {
      "image/png": "[encoded data removed]",
      "text/plain": [
       "<matplotlib.figure.Figure at 0x1124116a0>"
      ]
     },
     "metadata": {},
     "output_type": "display_data"
    },
    {
     "data": {
      "image/png": "[encoded data removed]",
      "text/plain": [
       "<matplotlib.figure.Figure at 0x1123ff0f0>"
      ]
     },
     "metadata": {},
     "output_type": "display_data"
    }
   ],
   "source": [
    "plt.hist(Bpes.mean(axis=1), bins=50)\n",
    "plt.grid(True)\n",
    "plt.xlabel('PEs after S2 / SiPM')\n",
    "plt.show()\n",
    "\n",
    "plt.hist(Bpes.mean(axis=1) / Bt, bins = 50)\n",
    "plt.xlabel('PEs after S2 / SiPM / mus')\n",
    "plt.grid(True)\n",
    "plt.show()"
   ]
  },
  {
   "cell_type": "code",
   "execution_count": 20,
   "metadata": {
    "collapsed": false
   },
   "outputs": [
    {
     "data": {
      "image/png": "[encoded data removed]",
      "text/plain": [
       "<matplotlib.figure.Figure at 0x1125667b8>"
      ]
     },
     "metadata": {},
     "output_type": "display_data"
    }
   ],
   "source": [
    "binmin = min(Bspes.min(), Bfpes.min())\n",
    "binmax = max(Bspes.max(), Bfpes.max())\n",
    "normed=False\n",
    "plt.figure(figsize=(15,10))\n",
    "plt.hist(Bspes, bins=50, normed=normed, range=(binmin, binmax), alpha=.5, label='1st  half of regB')\n",
    "plt.hist(Bfpes, bins=50, normed=normed, range=(binmin, binmax), alpha=.5, label='2nd half of regB')\n",
    "plt.grid(True)\n",
    "plt.xlabel('PEs after S2 / SiPM')\n",
    "plt.legend()\n",
    "plt.show()"
   ]
  },
  {
   "cell_type": "code",
   "execution_count": 21,
   "metadata": {
    "collapsed": false
   },
   "outputs": [
    {
     "data": {
      "image/png": "[encoded data removed]",
      "text/plain": [
       "<matplotlib.figure.Figure at 0x11278f9b0>"
      ]
     },
     "metadata": {},
     "output_type": "display_data"
    }
   ],
   "source": [
    "binmin = min(Bext_pes.min(), Bext_pes.min())\n",
    "binmax = max(Bint_pes.max(), Bint_pes.max())\n",
    "normed=False\n",
    "plt.figure(figsize=(15,10))\n",
    "plt.hist(Bext_pes, bins=50, normed=normed, range=(binmin, binmax), alpha=.5, label='external sipms')\n",
    "plt.hist(Bint_pes, bins=50, normed=normed, range=(binmin, binmax), alpha=.5, label='internal sipms')\n",
    "plt.grid(True)\n",
    "plt.xlabel('PEs after S2 / SiPM')\n",
    "plt.legend()\n",
    "plt.show()"
   ]
  },
  {
   "cell_type": "code",
   "execution_count": null,
   "metadata": {
    "collapsed": true
   },
   "outputs": [],
   "source": []
  }
 ],
 "metadata": {
  "celltoolbar": "Raw Cell Format",
  "kernelspec": {
   "display_name": "Python 3",
   "language": "python",
   "name": "python3"
  },
  "language_info": {
   "codemirror_mode": {
    "name": "ipython",
    "version": 3
   },
   "file_extension": ".py",
   "mimetype": "text/x-python",
   "name": "python",
   "nbconvert_exporter": "python",
   "pygments_lexer": "ipython3",
   "version": "3.6.0"
  }
 },
 "nbformat": 4,
 "nbformat_minor": 2
}
